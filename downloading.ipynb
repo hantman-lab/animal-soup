{
 "cells": [
  {
   "cell_type": "markdown",
   "id": "6df409e6-970b-4cec-8d14-4563dcf023eb",
   "metadata": {},
   "source": [
    "### Downloading from wasabi"
   ]
  },
  {
   "cell_type": "code",
   "execution_count": 7,
   "id": "bb593beb-0862-4734-a34d-0969beb5695b",
   "metadata": {},
   "outputs": [],
   "source": [
    "from pathlib import Path\n",
    "from tqdm import tqdm\n",
    "import shutil\n",
    "import os"
   ]
  },
  {
   "cell_type": "code",
   "execution_count": 2,
   "id": "f668d6d9-1824-4b2a-b632-ba26f06e8a2e",
   "metadata": {},
   "outputs": [],
   "source": [
    "vpath = Path(\"/home/clewis7/wasabi/hantmanlab/from_tier2/Jay/videos\")"
   ]
  },
  {
   "cell_type": "code",
   "execution_count": 3,
   "id": "a214f36a-5b1a-42f6-a499-45e09762120e",
   "metadata": {},
   "outputs": [],
   "source": [
    "mpaths = sorted(vpath.glob(\"M*\"))"
   ]
  },
  {
   "cell_type": "code",
   "execution_count": 4,
   "id": "f6ee4e02-8df7-4e1d-a08a-8bce9101d408",
   "metadata": {},
   "outputs": [],
   "source": [
    "post_processed = list()"
   ]
  },
  {
   "cell_type": "code",
   "execution_count": 5,
   "id": "496c9354-0194-4ae5-976a-0acd7e3d4fa3",
   "metadata": {},
   "outputs": [
    {
     "name": "stderr",
     "output_type": "stream",
     "text": [
      "100%|█████████████████████████████████████████████████████████████████████████████| 150/150 [00:08<00:00, 18.30it/s]\n"
     ]
    }
   ],
   "source": [
    "for p in tqdm(mpaths):\n",
    "    jp = list(p.joinpath(\"postprocessed\").glob(\"*.mat\"))\n",
    "    if len(jp) > 0:\n",
    "        post_processed += jp"
   ]
  },
  {
   "cell_type": "code",
   "execution_count": 44,
   "id": "865ae1c4-0bfd-4957-841f-5c2589339f53",
   "metadata": {},
   "outputs": [
    {
     "data": {
      "text/plain": [
       "PosixPath('/home/clewis7/wasabi/hantmanlab/from_tier2/Jay/videos/M239Slc17a7_Gtacr2/postprocessed/M239_20170902.mat')"
      ]
     },
     "execution_count": 44,
     "metadata": {},
     "output_type": "execute_result"
    }
   ],
   "source": [
    "post_processed[165]"
   ]
  },
  {
   "cell_type": "code",
   "execution_count": 6,
   "id": "9afd34f0-01b4-4151-864b-87c177ec27dd",
   "metadata": {},
   "outputs": [
    {
     "data": {
      "text/plain": [
       "702"
      ]
     },
     "execution_count": 6,
     "metadata": {},
     "output_type": "execute_result"
    }
   ],
   "source": [
    "len(post_processed)"
   ]
  },
  {
   "cell_type": "code",
   "execution_count": 32,
   "id": "9a850b37-4d3c-4d7f-80d2-69342a778e42",
   "metadata": {},
   "outputs": [
    {
     "data": {
      "text/plain": [
       "('/',\n",
       " 'home',\n",
       " 'clewis7',\n",
       " 'wasabi',\n",
       " 'hantmanlab',\n",
       " 'from_tier2',\n",
       " 'Jay',\n",
       " 'videos',\n",
       " 'M232Slc17a7_Gtacr2',\n",
       " 'postprocessed',\n",
       " 'M232_20170307.mat')"
      ]
     },
     "execution_count": 32,
     "metadata": {},
     "output_type": "execute_result"
    }
   ],
   "source": [
    "post_processed[5].parts"
   ]
  },
  {
   "cell_type": "code",
   "execution_count": 33,
   "id": "acff53de-6a15-40a2-9d0d-0373451f9d7b",
   "metadata": {},
   "outputs": [
    {
     "data": {
      "text/plain": [
       "'20170404'"
      ]
     },
     "execution_count": 33,
     "metadata": {},
     "output_type": "execute_result"
    }
   ],
   "source": [
    "# need to parse to get session id folder \n",
    "mat_path.parts[-1].split('_')[1].split('.')[0] #session_id"
   ]
  },
  {
   "cell_type": "code",
   "execution_count": 34,
   "id": "cfe28385-883e-45d2-a2f5-4b3b8523d3c1",
   "metadata": {},
   "outputs": [],
   "source": [
    "wasabi_animal_path = Path(*mat_path.parts[:9])"
   ]
  },
  {
   "cell_type": "code",
   "execution_count": 35,
   "id": "fa21dd2d-b0cc-4ebe-a7ca-ffd35237782e",
   "metadata": {},
   "outputs": [
    {
     "data": {
      "text/plain": [
       "PosixPath('/home/clewis7/wasabi/hantmanlab/from_tier2/Jay/videos/M234Slc17a7_Gtacr2')"
      ]
     },
     "execution_count": 35,
     "metadata": {},
     "output_type": "execute_result"
    }
   ],
   "source": [
    "wasabi_animal_path"
   ]
  },
  {
   "cell_type": "code",
   "execution_count": null,
   "id": "a5c5d461-f3c1-47c2-abd8-a02b1db1f6bb",
   "metadata": {
    "scrolled": true
   },
   "outputs": [
    {
     "name": "stderr",
     "output_type": "stream",
     "text": [
      "  0%|                                                                                         | 0/1 [00:00<?, ?it/s]\n",
      "  0%|                                                                                       | 0/291 [00:00<?, ?it/s]\u001b[A\n",
      " 67%|███████████████████████████████████████████████████▌                         | 195/291 [00:02<00:01, 93.22it/s]\u001b[A\n",
      " 67%|███████████████████████████████████████████████████▌                         | 195/291 [00:12<00:01, 93.22it/s]\u001b[A\n",
      " 70%|██████████████████████████████████████████████████████▏                      | 205/291 [00:13<00:07, 11.48it/s]\u001b[A\n",
      " 71%|██████████████████████████████████████████████████████▌                      | 206/291 [00:14<00:08, 10.54it/s]\u001b[A\n",
      " 72%|███████████████████████████████████████████████████████▌                     | 210/291 [00:17<00:10,  7.54it/s]\u001b[A\n",
      " 73%|████████████████████████████████████████████████████████▎                    | 213/291 [00:20<00:14,  5.38it/s]\u001b[A\n",
      " 74%|████████████████████████████████████████████████████████▉                    | 215/291 [00:23<00:17,  4.35it/s]\u001b[A\n",
      " 74%|█████████████████████████████████████████████████████████▏                   | 216/291 [00:24<00:19,  3.85it/s]\u001b[A\n",
      " 75%|█████████████████████████████████████████████████████████▍                   | 217/291 [00:25<00:21,  3.39it/s]\u001b[A\n",
      " 75%|█████████████████████████████████████████████████████████▋                   | 218/291 [00:26<00:24,  2.99it/s]\u001b[A\n",
      " 75%|█████████████████████████████████████████████████████████▉                   | 219/291 [00:27<00:27,  2.62it/s]\u001b[A\n",
      " 76%|██████████████████████████████████████████████████████████▏                  | 220/291 [00:28<00:30,  2.30it/s]\u001b[A\n",
      " 76%|██████████████████████████████████████████████████████████▍                  | 221/291 [00:29<00:39,  1.77it/s]\u001b[A\n",
      " 76%|██████████████████████████████████████████████████████████▋                  | 222/291 [00:30<00:47,  1.46it/s]\u001b[A\n",
      " 77%|███████████████████████████████████████████████████████████                  | 223/291 [00:32<00:52,  1.30it/s]\u001b[A\n",
      " 77%|███████████████████████████████████████████████████████████▎                 | 224/291 [00:33<00:57,  1.16it/s]\u001b[A\n",
      " 77%|███████████████████████████████████████████████████████████▌                 | 225/291 [00:34<01:05,  1.01it/s]\u001b[A\n",
      " 78%|███████████████████████████████████████████████████████████▊                 | 226/291 [00:35<01:07,  1.04s/it]\u001b[A\n",
      " 78%|████████████████████████████████████████████████████████████                 | 227/291 [00:36<01:07,  1.05s/it]\u001b[A\n",
      " 78%|████████████████████████████████████████████████████████████▎                | 228/291 [00:37<01:05,  1.04s/it]\u001b[A\n",
      " 79%|████████████████████████████████████████████████████████████▌                | 229/291 [00:38<01:03,  1.02s/it]\u001b[A\n",
      " 79%|████████████████████████████████████████████████████████████▊                | 230/291 [00:40<01:03,  1.04s/it]\u001b[A\n",
      " 79%|█████████████████████████████████████████████████████████████                | 231/291 [00:40<01:00,  1.01s/it]\u001b[A\n",
      " 80%|█████████████████████████████████████████████████████████████▍               | 232/291 [00:41<00:59,  1.01s/it]\u001b[A\n",
      " 80%|█████████████████████████████████████████████████████████████▋               | 233/291 [00:43<00:59,  1.03s/it]\u001b[A\n",
      " 80%|█████████████████████████████████████████████████████████████▉               | 234/291 [00:43<00:56,  1.01it/s]\u001b[A\n",
      " 81%|██████████████████████████████████████████████████████████████▏              | 235/291 [00:44<00:54,  1.03it/s]\u001b[A\n",
      " 81%|██████████████████████████████████████████████████████████████▍              | 236/291 [00:46<00:56,  1.02s/it]\u001b[A\n",
      " 81%|██████████████████████████████████████████████████████████████▋              | 237/291 [00:47<00:55,  1.03s/it]\u001b[A\n",
      " 82%|██████████████████████████████████████████████████████████████▉              | 238/291 [00:47<00:50,  1.05it/s]\u001b[A\n",
      " 82%|███████████████████████████████████████████████████████████████▏             | 239/291 [00:48<00:50,  1.04it/s]\u001b[A\n",
      " 82%|███████████████████████████████████████████████████████████████▌             | 240/291 [00:49<00:46,  1.10it/s]\u001b[A\n",
      " 83%|███████████████████████████████████████████████████████████████▊             | 241/291 [00:50<00:43,  1.14it/s]\u001b[A\n",
      " 83%|████████████████████████████████████████████████████████████████             | 242/291 [00:51<00:44,  1.11it/s]\u001b[A\n",
      " 84%|████████████████████████████████████████████████████████████████▎            | 243/291 [00:52<00:53,  1.11s/it]\u001b[A\n",
      " 84%|████████████████████████████████████████████████████████████████▌            | 244/291 [00:53<00:50,  1.07s/it]\u001b[A\n",
      " 84%|████████████████████████████████████████████████████████████████▊            | 245/291 [00:54<00:48,  1.06s/it]\u001b[A\n",
      " 85%|█████████████████████████████████████████████████████████████████            | 246/291 [00:56<00:48,  1.09s/it]\u001b[A\n",
      " 85%|█████████████████████████████████████████████████████████████████▎           | 247/291 [00:57<00:46,  1.05s/it]\u001b[A\n",
      " 85%|█████████████████████████████████████████████████████████████████▌           | 248/291 [00:58<00:43,  1.02s/it]\u001b[A\n",
      " 86%|█████████████████████████████████████████████████████████████████▉           | 249/291 [00:59<00:44,  1.06s/it]\u001b[A\n",
      " 86%|██████████████████████████████████████████████████████████████████▏          | 250/291 [01:00<00:42,  1.05s/it]\u001b[A\n",
      " 86%|██████████████████████████████████████████████████████████████████▍          | 251/291 [01:01<00:41,  1.04s/it]\u001b[A\n",
      " 87%|██████████████████████████████████████████████████████████████████▋          | 252/291 [01:02<00:40,  1.04s/it]\u001b[A\n",
      " 87%|██████████████████████████████████████████████████████████████████▉          | 253/291 [01:03<00:40,  1.07s/it]\u001b[A\n",
      " 87%|███████████████████████████████████████████████████████████████████▏         | 254/291 [01:04<00:39,  1.07s/it]\u001b[A\n",
      " 88%|███████████████████████████████████████████████████████████████████▍         | 255/291 [01:05<00:39,  1.09s/it]\u001b[A\n",
      " 88%|███████████████████████████████████████████████████████████████████▋         | 256/291 [01:06<00:38,  1.11s/it]\u001b[A\n",
      " 88%|████████████████████████████████████████████████████████████████████         | 257/291 [01:07<00:36,  1.08s/it]\u001b[A\n",
      " 89%|████████████████████████████████████████████████████████████████████▎        | 258/291 [01:08<00:33,  1.00s/it]\u001b[A\n",
      " 89%|████████████████████████████████████████████████████████████████████▌        | 259/291 [01:10<00:36,  1.13s/it]\u001b[A\n",
      " 89%|████████████████████████████████████████████████████████████████████▊        | 260/291 [01:10<00:32,  1.05s/it]\u001b[A\n",
      " 90%|█████████████████████████████████████████████████████████████████████        | 261/291 [01:12<00:31,  1.06s/it]\u001b[A\n",
      " 90%|█████████████████████████████████████████████████████████████████████▎       | 262/291 [01:12<00:28,  1.03it/s]\u001b[A\n",
      " 90%|█████████████████████████████████████████████████████████████████████▌       | 263/291 [01:14<00:29,  1.06s/it]\u001b[A\n",
      " 91%|█████████████████████████████████████████████████████████████████████▊       | 264/291 [01:15<00:28,  1.04s/it]\u001b[A\n",
      " 91%|██████████████████████████████████████████████████████████████████████       | 265/291 [01:16<00:29,  1.12s/it]\u001b[A"
     ]
    }
   ],
   "source": [
    "local_parent_path = Path('/data/caitlin/training-vids')\n",
    "not_found = list()\n",
    "\n",
    "for mat_path in tqdm(post_processed[165:166]):\n",
    "    parts = mat_path.parts\n",
    "    wasabi_dir = Path(*parts[:9]) # directory of animal in Wasabi\n",
    "    animal_id = parts[8] # animal_id to create in home dir\n",
    "    session_id = parts[-1].split('_')[1].split('.')[0] # date for videos\n",
    "    session_dir = wasabi_dir.joinpath(session_id) # session dir path in wasabi\n",
    "\n",
    "    # check if session_id folder exists in wasabi\n",
    "    if os.path.exists(session_dir): # session_id folder exists in animal_dir\n",
    "        avi_folders = sorted(session_dir.glob(\"*_v*\"))\n",
    "        if len(avi_folders) > 0: # means that there are video folder found\n",
    "            # create animal dir in home\n",
    "            animal_dir = local_parent_path.joinpath(animal_id)\n",
    "            session_dir = animal_dir.joinpath(session_id)\n",
    "            os.makedirs(session_dir, exist_ok=True)\n",
    "            \n",
    "            # add mat file and corresponding videos in session dir\n",
    "            shutil.copy(src=mat_path, dst=session_dir.joinpath(f\"jaaba.mat\"))\n",
    "            \n",
    "            for vid_trial_dir in tqdm(avi_folders):\n",
    "                try:\n",
    "                    vid_trial = vid_trial_dir.joinpath('movie_comb.avi')\n",
    "                    shutil.copy(src=vid_trial, dst=session_dir.joinpath(f\"{vid_trial_dir.stem}.avi\"))\n",
    "                except NotADirectoryError:\n",
    "                    continue\n",
    "                # os.rename(os.path.join(parent_path, animal_id, session_id, 'movie_comb.avi'), os.path.join(parent_path, animal_id, session_id, folder.parts[-1].split('_')[-1]))\n",
    "        else: # no avi folder were found, need to check near_line potentially\n",
    "            not_found.append(path)\n",
    "            continue\n",
    "    else: # weird org likely, skipping for now\n",
    "        not_found.append(path) \n",
    "        continue"
   ]
  },
  {
   "cell_type": "code",
   "execution_count": 23,
   "id": "076cd84c-08e8-4f69-9352-44e4ffa63465",
   "metadata": {},
   "outputs": [
    {
     "data": {
      "text/plain": [
       "[]"
      ]
     },
     "execution_count": 23,
     "metadata": {},
     "output_type": "execute_result"
    }
   ],
   "source": [
    "not_found"
   ]
  },
  {
   "cell_type": "code",
   "execution_count": null,
   "id": "ea2250de-e43a-4412-a518-ebf94c47f3ad",
   "metadata": {},
   "outputs": [],
   "source": []
  },
  {
   "cell_type": "code",
   "execution_count": null,
   "id": "3a5e9d29-f57b-4bac-923a-d03eaa854668",
   "metadata": {},
   "outputs": [],
   "source": []
  },
  {
   "cell_type": "code",
   "execution_count": null,
   "id": "d28a9185-918e-45d3-86b9-62e34f680c61",
   "metadata": {},
   "outputs": [],
   "source": []
  }
 ],
 "metadata": {
  "kernelspec": {
   "display_name": "Python 3 (ipykernel)",
   "language": "python",
   "name": "python3"
  },
  "language_info": {
   "codemirror_mode": {
    "name": "ipython",
    "version": 3
   },
   "file_extension": ".py",
   "mimetype": "text/x-python",
   "name": "python",
   "nbconvert_exporter": "python",
   "pygments_lexer": "ipython3",
   "version": "3.11.3"
  }
 },
 "nbformat": 4,
 "nbformat_minor": 5
}
