{
 "cells": [
  {
   "cell_type": "markdown",
   "id": "6df409e6-970b-4cec-8d14-4563dcf023eb",
   "metadata": {},
   "source": [
    "### Downloading from wasabi"
   ]
  },
  {
   "cell_type": "code",
   "execution_count": 38,
   "id": "bb593beb-0862-4734-a34d-0969beb5695b",
   "metadata": {},
   "outputs": [],
   "source": [
    "from pathlib import Path\n",
    "from tqdm import tqdm\n",
    "import shutil"
   ]
  },
  {
   "cell_type": "code",
   "execution_count": 2,
   "id": "f668d6d9-1824-4b2a-b632-ba26f06e8a2e",
   "metadata": {},
   "outputs": [],
   "source": [
    "vpath = Path(\"/home/clewis7/wasabi/hantmanlab/from_tier2/Jay/videos\")"
   ]
  },
  {
   "cell_type": "code",
   "execution_count": 3,
   "id": "a214f36a-5b1a-42f6-a499-45e09762120e",
   "metadata": {},
   "outputs": [],
   "source": [
    "mpaths = sorted(vpath.glob(\"M*\"))"
   ]
  },
  {
   "cell_type": "code",
   "execution_count": 4,
   "id": "f6ee4e02-8df7-4e1d-a08a-8bce9101d408",
   "metadata": {},
   "outputs": [],
   "source": [
    "post_processed = list()"
   ]
  },
  {
   "cell_type": "code",
   "execution_count": 5,
   "id": "496c9354-0194-4ae5-976a-0acd7e3d4fa3",
   "metadata": {},
   "outputs": [
    {
     "name": "stderr",
     "output_type": "stream",
     "text": [
      "100%|█████████████████████████████████████████████████████████████████████████████| 150/150 [00:17<00:00,  8.58it/s]\n"
     ]
    }
   ],
   "source": [
    "for p in tqdm(mpaths):\n",
    "    jp = list(p.joinpath(\"postprocessed\").glob(\"*.mat\"))\n",
    "    if len(jp) > 0:\n",
    "        post_processed += jp"
   ]
  },
  {
   "cell_type": "code",
   "execution_count": 6,
   "id": "9afd34f0-01b4-4151-864b-87c177ec27dd",
   "metadata": {},
   "outputs": [
    {
     "data": {
      "text/plain": [
       "702"
      ]
     },
     "execution_count": 6,
     "metadata": {},
     "output_type": "execute_result"
    }
   ],
   "source": [
    "len(post_processed)"
   ]
  },
  {
   "cell_type": "code",
   "execution_count": 7,
   "id": "a0ae983f-4f6b-45d8-84d2-e86debded8ce",
   "metadata": {},
   "outputs": [],
   "source": [
    "# path in post_processed:\n",
    "    # want to animal_id using paths[] indexing\n",
    "    # if not exists, os.mkdir() directory for animal_id\n",
    "    # want session_id using path file\n",
    "    # make sure session_id folder exists in animal dir\n",
    "    # for trial in session_id folder want to get movie_combo.avi and save associated .mat file\n",
    "\n",
    "# need lots of dummy checks because not everything is saved the same"
   ]
  },
  {
   "cell_type": "code",
   "execution_count": 32,
   "id": "9a850b37-4d3c-4d7f-80d2-69342a778e42",
   "metadata": {},
   "outputs": [
    {
     "data": {
      "text/plain": [
       "('/',\n",
       " 'home',\n",
       " 'clewis7',\n",
       " 'wasabi',\n",
       " 'hantmanlab',\n",
       " 'from_tier2',\n",
       " 'Jay',\n",
       " 'videos',\n",
       " 'M232Slc17a7_Gtacr2',\n",
       " 'postprocessed',\n",
       " 'M232_20170307.mat')"
      ]
     },
     "execution_count": 32,
     "metadata": {},
     "output_type": "execute_result"
    }
   ],
   "source": [
    "post_processed[5].parts"
   ]
  },
  {
   "cell_type": "code",
   "execution_count": 33,
   "id": "acff53de-6a15-40a2-9d0d-0373451f9d7b",
   "metadata": {},
   "outputs": [
    {
     "data": {
      "text/plain": [
       "'20170404'"
      ]
     },
     "execution_count": 33,
     "metadata": {},
     "output_type": "execute_result"
    }
   ],
   "source": [
    "# need to parse to get session id folder \n",
    "mat_path.parts[-1].split('_')[1].split('.')[0] #session_id"
   ]
  },
  {
   "cell_type": "code",
   "execution_count": 34,
   "id": "cfe28385-883e-45d2-a2f5-4b3b8523d3c1",
   "metadata": {},
   "outputs": [],
   "source": [
    "wasabi_animal_path = Path(*mat_path.parts[:9])"
   ]
  },
  {
   "cell_type": "code",
   "execution_count": 35,
   "id": "fa21dd2d-b0cc-4ebe-a7ca-ffd35237782e",
   "metadata": {},
   "outputs": [
    {
     "data": {
      "text/plain": [
       "PosixPath('/home/clewis7/wasabi/hantmanlab/from_tier2/Jay/videos/M234Slc17a7_Gtacr2')"
      ]
     },
     "execution_count": 35,
     "metadata": {},
     "output_type": "execute_result"
    }
   ],
   "source": [
    "wasabi_animal_path"
   ]
  },
  {
   "cell_type": "code",
   "execution_count": 36,
   "id": "e5d0f075-06b1-4780-88aa-0f18d6a8920d",
   "metadata": {},
   "outputs": [],
   "source": [
    "import os"
   ]
  },
  {
   "cell_type": "code",
   "execution_count": 46,
   "id": "a5c5d461-f3c1-47c2-abd8-a02b1db1f6bb",
   "metadata": {
    "scrolled": true
   },
   "outputs": [
    {
     "name": "stderr",
     "output_type": "stream",
     "text": [
      "  0%|                                                                                         | 0/1 [00:00<?, ?it/s]\n",
      "  0%|                                                                                        | 0/80 [00:00<?, ?it/s]\u001b[A\n",
      "  1%|█                                                                               | 1/80 [00:00<00:49,  1.61it/s]\u001b[A\n",
      "  2%|██                                                                              | 2/80 [00:01<00:46,  1.67it/s]\u001b[A\n",
      "  4%|███                                                                             | 3/80 [00:02<00:53,  1.44it/s]\u001b[A\n",
      "  5%|████                                                                            | 4/80 [00:02<00:50,  1.49it/s]\u001b[A\n",
      "  6%|█████                                                                           | 5/80 [00:03<00:48,  1.56it/s]\u001b[A\n",
      "  8%|██████                                                                          | 6/80 [00:04<00:53,  1.38it/s]\u001b[A\n",
      "  9%|███████                                                                         | 7/80 [00:04<00:52,  1.38it/s]\u001b[A\n",
      " 10%|████████                                                                        | 8/80 [00:05<00:50,  1.42it/s]\u001b[A\n",
      " 11%|█████████                                                                       | 9/80 [00:06<00:55,  1.28it/s]\u001b[A\n",
      " 12%|█████████▉                                                                     | 10/80 [00:07<00:52,  1.33it/s]\u001b[A\n",
      " 14%|██████████▊                                                                    | 11/80 [00:08<00:54,  1.26it/s]\u001b[A\n",
      " 15%|███████████▊                                                                   | 12/80 [00:08<00:55,  1.22it/s]\u001b[A\n",
      " 16%|████████████▊                                                                  | 13/80 [00:09<00:59,  1.13it/s]\u001b[A\n",
      " 18%|█████████████▊                                                                 | 14/80 [00:10<00:58,  1.12it/s]\u001b[A\n",
      " 19%|██████████████▊                                                                | 15/80 [00:11<00:56,  1.15it/s]\u001b[A\n",
      " 20%|███████████████▊                                                               | 16/80 [00:12<00:58,  1.09it/s]\u001b[A\n",
      " 21%|████████████████▊                                                              | 17/80 [00:13<00:58,  1.07it/s]\u001b[A\n",
      " 22%|█████████████████▊                                                             | 18/80 [00:14<01:03,  1.02s/it]\u001b[A\n",
      " 24%|██████████████████▊                                                            | 19/80 [00:15<00:58,  1.04it/s]\u001b[A\n",
      " 25%|███████████████████▊                                                           | 20/80 [00:17<01:04,  1.07s/it]\u001b[A\n",
      " 26%|████████████████████▋                                                          | 21/80 [00:17<01:01,  1.04s/it]\u001b[A\n",
      " 28%|█████████████████████▋                                                         | 22/80 [00:18<00:58,  1.01s/it]\u001b[A\n",
      " 29%|██████████████████████▋                                                        | 23/80 [00:19<00:54,  1.06it/s]\u001b[A\n",
      " 30%|███████████████████████▋                                                       | 24/80 [00:20<00:58,  1.04s/it]\u001b[A\n",
      " 31%|████████████████████████▋                                                      | 25/80 [00:21<00:52,  1.06it/s]\u001b[A\n",
      " 32%|█████████████████████████▋                                                     | 26/80 [00:22<00:50,  1.08it/s]\u001b[A\n",
      " 34%|██████████████████████████▋                                                    | 27/80 [00:23<00:44,  1.20it/s]\u001b[A\n",
      " 35%|███████████████████████████▋                                                   | 28/80 [00:24<00:42,  1.22it/s]\u001b[A\n",
      " 36%|████████████████████████████▋                                                  | 29/80 [00:25<00:49,  1.02it/s]\u001b[A\n",
      " 38%|█████████████████████████████▋                                                 | 30/80 [00:26<00:46,  1.09it/s]\u001b[A\n",
      " 39%|██████████████████████████████▌                                                | 31/80 [00:26<00:42,  1.15it/s]\u001b[A\n",
      " 40%|███████████████████████████████▌                                               | 32/80 [00:27<00:41,  1.16it/s]\u001b[A\n",
      " 41%|████████████████████████████████▌                                              | 33/80 [00:29<00:49,  1.05s/it]\u001b[A\n",
      " 42%|█████████████████████████████████▌                                             | 34/80 [00:30<00:49,  1.08s/it]\u001b[A\n",
      " 44%|██████████████████████████████████▌                                            | 35/80 [00:31<00:47,  1.06s/it]\u001b[A\n",
      " 45%|███████████████████████████████████▌                                           | 36/80 [00:32<00:44,  1.00s/it]\u001b[A\n",
      " 46%|████████████████████████████████████▌                                          | 37/80 [00:33<00:40,  1.06it/s]\u001b[A\n",
      " 48%|█████████████████████████████████████▌                                         | 38/80 [00:34<00:40,  1.04it/s]\u001b[A\n",
      " 49%|██████████████████████████████████████▌                                        | 39/80 [00:34<00:36,  1.13it/s]\u001b[A\n",
      " 50%|███████████████████████████████████████▌                                       | 40/80 [00:35<00:35,  1.13it/s]\u001b[A\n",
      " 51%|████████████████████████████████████████▍                                      | 41/80 [00:36<00:33,  1.17it/s]\u001b[A\n",
      " 52%|█████████████████████████████████████████▍                                     | 42/80 [00:37<00:31,  1.21it/s]\u001b[A\n",
      " 54%|██████████████████████████████████████████▍                                    | 43/80 [00:37<00:29,  1.25it/s]\u001b[A\n",
      " 55%|███████████████████████████████████████████▍                                   | 44/80 [00:38<00:29,  1.21it/s]\u001b[A\n",
      " 56%|████████████████████████████████████████████▍                                  | 45/80 [00:39<00:27,  1.27it/s]\u001b[A\n",
      " 57%|█████████████████████████████████████████████▍                                 | 46/80 [00:40<00:25,  1.35it/s]\u001b[A\n",
      " 59%|██████████████████████████████████████████████▍                                | 47/80 [00:40<00:24,  1.32it/s]\u001b[A\n",
      " 60%|███████████████████████████████████████████████▍                               | 48/80 [00:41<00:23,  1.34it/s]\u001b[A\n",
      " 61%|████████████████████████████████████████████████▍                              | 49/80 [00:42<00:24,  1.26it/s]\u001b[A\n",
      " 62%|█████████████████████████████████████████████████▍                             | 50/80 [00:43<00:24,  1.24it/s]\u001b[A\n",
      " 64%|██████████████████████████████████████████████████▎                            | 51/80 [00:44<00:23,  1.22it/s]\u001b[A\n",
      " 65%|███████████████████████████████████████████████████▎                           | 52/80 [00:45<00:24,  1.16it/s]\u001b[A\n",
      " 66%|████████████████████████████████████████████████████▎                          | 53/80 [00:46<00:23,  1.17it/s]\u001b[A\n",
      " 68%|█████████████████████████████████████████████████████▎                         | 54/80 [00:47<00:24,  1.07it/s]\u001b[A\n",
      " 69%|██████████████████████████████████████████████████████▎                        | 55/80 [00:48<00:24,  1.04it/s]\u001b[A\n",
      " 70%|███████████████████████████████████████████████████████▎                       | 56/80 [00:49<00:23,  1.01it/s]\u001b[A\n",
      " 71%|████████████████████████████████████████████████████████▎                      | 57/80 [00:50<00:21,  1.07it/s]\u001b[A\n",
      " 72%|█████████████████████████████████████████████████████████▎                     | 58/80 [00:50<00:19,  1.15it/s]\u001b[A\n",
      " 74%|██████████████████████████████████████████████████████████▎                    | 59/80 [00:51<00:16,  1.28it/s]\u001b[A\n",
      " 75%|███████████████████████████████████████████████████████████▎                   | 60/80 [00:51<00:14,  1.40it/s]\u001b[A\n",
      " 76%|████████████████████████████████████████████████████████████▏                  | 61/80 [00:52<00:13,  1.42it/s]\u001b[A\n",
      " 78%|█████████████████████████████████████████████████████████████▏                 | 62/80 [00:53<00:12,  1.46it/s]\u001b[A\n",
      " 79%|██████████████████████████████████████████████████████████████▏                | 63/80 [00:53<00:11,  1.50it/s]\u001b[A\n",
      " 80%|███████████████████████████████████████████████████████████████▏               | 64/80 [00:54<00:11,  1.44it/s]\u001b[A\n",
      " 81%|████████████████████████████████████████████████████████████████▏              | 65/80 [00:55<00:11,  1.32it/s]\u001b[A\n",
      " 82%|█████████████████████████████████████████████████████████████████▏             | 66/80 [00:56<00:10,  1.30it/s]\u001b[A\n",
      " 84%|██████████████████████████████████████████████████████████████████▏            | 67/80 [00:57<00:09,  1.33it/s]\u001b[A\n",
      " 85%|███████████████████████████████████████████████████████████████████▏           | 68/80 [00:58<00:10,  1.13it/s]\u001b[A\n",
      " 86%|████████████████████████████████████████████████████████████████████▏          | 69/80 [00:58<00:08,  1.25it/s]\u001b[A\n",
      " 88%|█████████████████████████████████████████████████████████████████████▏         | 70/80 [00:59<00:07,  1.27it/s]\u001b[A\n",
      " 89%|██████████████████████████████████████████████████████████████████████         | 71/80 [01:00<00:06,  1.32it/s]\u001b[A\n",
      " 90%|███████████████████████████████████████████████████████████████████████        | 72/80 [01:00<00:05,  1.37it/s]\u001b[A\n",
      " 91%|████████████████████████████████████████████████████████████████████████       | 73/80 [01:01<00:05,  1.32it/s]\u001b[A\n",
      " 92%|█████████████████████████████████████████████████████████████████████████      | 74/80 [01:02<00:04,  1.34it/s]\u001b[A\n",
      " 94%|██████████████████████████████████████████████████████████████████████████     | 75/80 [01:03<00:03,  1.39it/s]\u001b[A\n",
      " 95%|███████████████████████████████████████████████████████████████████████████    | 76/80 [01:04<00:03,  1.30it/s]\u001b[A\n",
      " 96%|████████████████████████████████████████████████████████████████████████████   | 77/80 [01:04<00:02,  1.32it/s]\u001b[A\n",
      " 98%|█████████████████████████████████████████████████████████████████████████████  | 78/80 [01:05<00:01,  1.25it/s]\u001b[A\n",
      " 99%|██████████████████████████████████████████████████████████████████████████████ | 79/80 [01:06<00:00,  1.22it/s]\u001b[A\n",
      "100%|███████████████████████████████████████████████████████████████████████████████| 80/80 [01:07<00:00,  1.19it/s]\u001b[A\n",
      "100%|█████████████████████████████████████████████████████████████████████████████████| 1/1 [01:07<00:00, 67.76s/it]\n"
     ]
    }
   ],
   "source": [
    "local_parent_path = Path('/data/caitlin/training-vids')\n",
    "not_found = list()\n",
    "\n",
    "for mat_path in tqdm(post_processed[9:10]):\n",
    "    parts = mat_path.parts\n",
    "    wasabi_dir = Path(*parts[:9]) # directory of animal in Wasabi\n",
    "    animal_id = parts[8] # animal_id to create in home dir\n",
    "    session_id = parts[-1].split('_')[1].split('.')[0] # date for videos\n",
    "    session_dir = wasabi_dir.joinpath(session_id) # session dir path in wasabi\n",
    "\n",
    "    # check if session_id folder exists in wasabi\n",
    "    if os.path.exists(session_dir): # session_id folder exists in animal_dir\n",
    "        avi_folders = sorted(session_dir.glob(\"*_v*\"))\n",
    "        if len(avi_folders) > 0: # means that there are video folder found\n",
    "            # create animal dir in home\n",
    "            animal_dir = local_parent_path.joinpath(animal_id)\n",
    "            session_dir = animal_dir.joinpath(session_id)\n",
    "            os.makedirs(session_dir, exist_ok=True)\n",
    "            \n",
    "            # add mat file and corresponding videos in session dir\n",
    "            shutil.copy(src=mat_path, dst=session_dir.joinpath(f\"jaaba.mat\"))\n",
    "            \n",
    "            for vid_trial_dir in tqdm(avi_folders):\n",
    "                vid_trial = folder.joinpath('movie_comb.avi')\n",
    "                shutil.copy(src=movie_comb, dst=session_dir.joinpath(f\"{vid_trial_dir.stem}.avi\"))\n",
    "                # os.rename(os.path.join(parent_path, animal_id, session_id, 'movie_comb.avi'), os.path.join(parent_path, animal_id, session_id, folder.parts[-1].split('_')[-1]))\n",
    "        else: # no avi folder were found, need to check near_line potentially\n",
    "            not_found.append(path)\n",
    "            continue\n",
    "    else:\n",
    "        not_found.append(path)\n",
    "        continue"
   ]
  },
  {
   "cell_type": "code",
   "execution_count": 43,
   "id": "076cd84c-08e8-4f69-9352-44e4ffa63465",
   "metadata": {},
   "outputs": [
    {
     "data": {
      "text/plain": [
       "[]"
      ]
     },
     "execution_count": 43,
     "metadata": {},
     "output_type": "execute_result"
    }
   ],
   "source": [
    "not_found"
   ]
  },
  {
   "cell_type": "code",
   "execution_count": null,
   "id": "8ada4dad-9d3c-4209-840d-801c77d340da",
   "metadata": {},
   "outputs": [],
   "source": []
  }
 ],
 "metadata": {
  "kernelspec": {
   "display_name": "Python 3 (ipykernel)",
   "language": "python",
   "name": "python3"
  },
  "language_info": {
   "codemirror_mode": {
    "name": "ipython",
    "version": 3
   },
   "file_extension": ".py",
   "mimetype": "text/x-python",
   "name": "python",
   "nbconvert_exporter": "python",
   "pygments_lexer": "ipython3",
   "version": "3.11.3"
  }
 },
 "nbformat": 4,
 "nbformat_minor": 5
}
