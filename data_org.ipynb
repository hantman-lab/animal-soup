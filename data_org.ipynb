{
 "cells": [
  {
   "cell_type": "markdown",
   "id": "e620c2ef-c0b1-4058-ad22-48fba4756784",
   "metadata": {},
   "source": [
    "### Organizing training data for visualization"
   ]
  },
  {
   "cell_type": "code",
   "execution_count": 1,
   "id": "4094b751-59c2-48ab-8017-a0d95d6c3918",
   "metadata": {},
   "outputs": [],
   "source": [
    "from pathlib import Path\n",
    "from tqdm import tqdm\n",
    "import pandas as pd"
   ]
  },
  {
   "cell_type": "code",
   "execution_count": 3,
   "id": "0312b1ba-4928-4b0a-8cac-6d20ab79a77d",
   "metadata": {},
   "outputs": [],
   "source": [
    "training_data_path = Path('/data/caitlin/training-vids/')"
   ]
  },
  {
   "cell_type": "code",
   "execution_count": 46,
   "id": "04005fd1-de0e-4e92-b5a5-448dedc19a9c",
   "metadata": {},
   "outputs": [],
   "source": [
    "df = pd.DataFrame(columns=[\"animal_id\", \"session_id\", \"mat_file\", \"session_vids\", \"notes\"])"
   ]
  },
  {
   "cell_type": "code",
   "execution_count": 47,
   "id": "61cfe771-ebe2-4a33-8328-e342abea5890",
   "metadata": {},
   "outputs": [
    {
     "data": {
      "text/html": [
       "<div>\n",
       "<style scoped>\n",
       "    .dataframe tbody tr th:only-of-type {\n",
       "        vertical-align: middle;\n",
       "    }\n",
       "\n",
       "    .dataframe tbody tr th {\n",
       "        vertical-align: top;\n",
       "    }\n",
       "\n",
       "    .dataframe thead th {\n",
       "        text-align: right;\n",
       "    }\n",
       "</style>\n",
       "<table border=\"1\" class=\"dataframe\">\n",
       "  <thead>\n",
       "    <tr style=\"text-align: right;\">\n",
       "      <th></th>\n",
       "      <th>animal_id</th>\n",
       "      <th>session_id</th>\n",
       "      <th>mat_file</th>\n",
       "      <th>session_vids</th>\n",
       "      <th>notes</th>\n",
       "    </tr>\n",
       "  </thead>\n",
       "  <tbody>\n",
       "  </tbody>\n",
       "</table>\n",
       "</div>"
      ],
      "text/plain": [
       "Empty DataFrame\n",
       "Columns: [animal_id, session_id, mat_file, session_vids, notes]\n",
       "Index: []"
      ]
     },
     "execution_count": 47,
     "metadata": {},
     "output_type": "execute_result"
    }
   ],
   "source": [
    "df"
   ]
  },
  {
   "cell_type": "code",
   "execution_count": 48,
   "id": "64a21bb6-edf9-4e09-9c12-98bb77ad4c71",
   "metadata": {},
   "outputs": [],
   "source": [
    "# for animal in training data dir\n",
    "for animal_dir in sorted(training_data_path.glob('*')):\n",
    "    animal_id = animal_dir.stem\n",
    "    for session_dir in sorted(animal_dir.glob('*')):\n",
    "        session_id = session_dir.stem\n",
    "        mat_file = session_dir.joinpath('jaaba.mat')\n",
    "        session_vids = sorted(session_dir.glob('*.avi'))\n",
    "        df.loc[len(df.index)] = [animal_id, session_id, mat_file, session_vids, None]"
   ]
  },
  {
   "cell_type": "code",
   "execution_count": 49,
   "id": "e4605a7c-1e81-4a91-b0e1-327270b047fa",
   "metadata": {},
   "outputs": [
    {
     "data": {
      "text/html": [
       "<div>\n",
       "<style scoped>\n",
       "    .dataframe tbody tr th:only-of-type {\n",
       "        vertical-align: middle;\n",
       "    }\n",
       "\n",
       "    .dataframe tbody tr th {\n",
       "        vertical-align: top;\n",
       "    }\n",
       "\n",
       "    .dataframe thead th {\n",
       "        text-align: right;\n",
       "    }\n",
       "</style>\n",
       "<table border=\"1\" class=\"dataframe\">\n",
       "  <thead>\n",
       "    <tr style=\"text-align: right;\">\n",
       "      <th></th>\n",
       "      <th>animal_id</th>\n",
       "      <th>session_id</th>\n",
       "      <th>mat_file</th>\n",
       "      <th>session_vids</th>\n",
       "      <th>notes</th>\n",
       "    </tr>\n",
       "  </thead>\n",
       "  <tbody>\n",
       "    <tr>\n",
       "      <th>0</th>\n",
       "      <td>M234Slc17a7_Gtacr2</td>\n",
       "      <td>20170328</td>\n",
       "      <td>/data/caitlin/training-vids/M234Slc17a7_Gtacr2...</td>\n",
       "      <td>[/data/caitlin/training-vids/M234Slc17a7_Gtacr...</td>\n",
       "      <td>None</td>\n",
       "    </tr>\n",
       "    <tr>\n",
       "      <th>1</th>\n",
       "      <td>M234Slc17a7_Gtacr2</td>\n",
       "      <td>20170404</td>\n",
       "      <td>/data/caitlin/training-vids/M234Slc17a7_Gtacr2...</td>\n",
       "      <td>[/data/caitlin/training-vids/M234Slc17a7_Gtacr...</td>\n",
       "      <td>None</td>\n",
       "    </tr>\n",
       "    <tr>\n",
       "      <th>2</th>\n",
       "      <td>M235Slc17a7_Gtacr2</td>\n",
       "      <td>20170424</td>\n",
       "      <td>/data/caitlin/training-vids/M235Slc17a7_Gtacr2...</td>\n",
       "      <td>[/data/caitlin/training-vids/M235Slc17a7_Gtacr...</td>\n",
       "      <td>None</td>\n",
       "    </tr>\n",
       "    <tr>\n",
       "      <th>3</th>\n",
       "      <td>M235Slc17a7_Gtacr2</td>\n",
       "      <td>20170425</td>\n",
       "      <td>/data/caitlin/training-vids/M235Slc17a7_Gtacr2...</td>\n",
       "      <td>[/data/caitlin/training-vids/M235Slc17a7_Gtacr...</td>\n",
       "      <td>None</td>\n",
       "    </tr>\n",
       "    <tr>\n",
       "      <th>4</th>\n",
       "      <td>M236Slc17a7_Gtacr2</td>\n",
       "      <td>20170501</td>\n",
       "      <td>/data/caitlin/training-vids/M236Slc17a7_Gtacr2...</td>\n",
       "      <td>[/data/caitlin/training-vids/M236Slc17a7_Gtacr...</td>\n",
       "      <td>None</td>\n",
       "    </tr>\n",
       "    <tr>\n",
       "      <th>5</th>\n",
       "      <td>M236Slc17a7_Gtacr2</td>\n",
       "      <td>20170503</td>\n",
       "      <td>/data/caitlin/training-vids/M236Slc17a7_Gtacr2...</td>\n",
       "      <td>[/data/caitlin/training-vids/M236Slc17a7_Gtacr...</td>\n",
       "      <td>None</td>\n",
       "    </tr>\n",
       "    <tr>\n",
       "      <th>6</th>\n",
       "      <td>M238Slc17a7_Chr2</td>\n",
       "      <td>20170605</td>\n",
       "      <td>/data/caitlin/training-vids/M238Slc17a7_Chr2/2...</td>\n",
       "      <td>[/data/caitlin/training-vids/M238Slc17a7_Chr2/...</td>\n",
       "      <td>None</td>\n",
       "    </tr>\n",
       "    <tr>\n",
       "      <th>7</th>\n",
       "      <td>M238Slc17a7_Chr2</td>\n",
       "      <td>20170825</td>\n",
       "      <td>/data/caitlin/training-vids/M238Slc17a7_Chr2/2...</td>\n",
       "      <td>[/data/caitlin/training-vids/M238Slc17a7_Chr2/...</td>\n",
       "      <td>None</td>\n",
       "    </tr>\n",
       "    <tr>\n",
       "      <th>8</th>\n",
       "      <td>M239Slc17a7_Gtacr2</td>\n",
       "      <td>20170623</td>\n",
       "      <td>/data/caitlin/training-vids/M239Slc17a7_Gtacr2...</td>\n",
       "      <td>[/data/caitlin/training-vids/M239Slc17a7_Gtacr...</td>\n",
       "      <td>None</td>\n",
       "    </tr>\n",
       "    <tr>\n",
       "      <th>9</th>\n",
       "      <td>M239Slc17a7_Gtacr2</td>\n",
       "      <td>20170902</td>\n",
       "      <td>/data/caitlin/training-vids/M239Slc17a7_Gtacr2...</td>\n",
       "      <td>[/data/caitlin/training-vids/M239Slc17a7_Gtacr...</td>\n",
       "      <td>None</td>\n",
       "    </tr>\n",
       "  </tbody>\n",
       "</table>\n",
       "</div>"
      ],
      "text/plain": [
       "            animal_id session_id   \n",
       "0  M234Slc17a7_Gtacr2   20170328  \\\n",
       "1  M234Slc17a7_Gtacr2   20170404   \n",
       "2  M235Slc17a7_Gtacr2   20170424   \n",
       "3  M235Slc17a7_Gtacr2   20170425   \n",
       "4  M236Slc17a7_Gtacr2   20170501   \n",
       "5  M236Slc17a7_Gtacr2   20170503   \n",
       "6    M238Slc17a7_Chr2   20170605   \n",
       "7    M238Slc17a7_Chr2   20170825   \n",
       "8  M239Slc17a7_Gtacr2   20170623   \n",
       "9  M239Slc17a7_Gtacr2   20170902   \n",
       "\n",
       "                                            mat_file   \n",
       "0  /data/caitlin/training-vids/M234Slc17a7_Gtacr2...  \\\n",
       "1  /data/caitlin/training-vids/M234Slc17a7_Gtacr2...   \n",
       "2  /data/caitlin/training-vids/M235Slc17a7_Gtacr2...   \n",
       "3  /data/caitlin/training-vids/M235Slc17a7_Gtacr2...   \n",
       "4  /data/caitlin/training-vids/M236Slc17a7_Gtacr2...   \n",
       "5  /data/caitlin/training-vids/M236Slc17a7_Gtacr2...   \n",
       "6  /data/caitlin/training-vids/M238Slc17a7_Chr2/2...   \n",
       "7  /data/caitlin/training-vids/M238Slc17a7_Chr2/2...   \n",
       "8  /data/caitlin/training-vids/M239Slc17a7_Gtacr2...   \n",
       "9  /data/caitlin/training-vids/M239Slc17a7_Gtacr2...   \n",
       "\n",
       "                                        session_vids notes  \n",
       "0  [/data/caitlin/training-vids/M234Slc17a7_Gtacr...  None  \n",
       "1  [/data/caitlin/training-vids/M234Slc17a7_Gtacr...  None  \n",
       "2  [/data/caitlin/training-vids/M235Slc17a7_Gtacr...  None  \n",
       "3  [/data/caitlin/training-vids/M235Slc17a7_Gtacr...  None  \n",
       "4  [/data/caitlin/training-vids/M236Slc17a7_Gtacr...  None  \n",
       "5  [/data/caitlin/training-vids/M236Slc17a7_Gtacr...  None  \n",
       "6  [/data/caitlin/training-vids/M238Slc17a7_Chr2/...  None  \n",
       "7  [/data/caitlin/training-vids/M238Slc17a7_Chr2/...  None  \n",
       "8  [/data/caitlin/training-vids/M239Slc17a7_Gtacr...  None  \n",
       "9  [/data/caitlin/training-vids/M239Slc17a7_Gtacr...  None  "
      ]
     },
     "execution_count": 49,
     "metadata": {},
     "output_type": "execute_result"
    }
   ],
   "source": [
    "df"
   ]
  },
  {
   "cell_type": "code",
   "execution_count": 50,
   "id": "99d539d9-11f4-42d4-9502-16b47663ef2d",
   "metadata": {},
   "outputs": [
    {
     "data": {
      "text/html": [
       "<div>\n",
       "<style scoped>\n",
       "    .dataframe tbody tr th:only-of-type {\n",
       "        vertical-align: middle;\n",
       "    }\n",
       "\n",
       "    .dataframe tbody tr th {\n",
       "        vertical-align: top;\n",
       "    }\n",
       "\n",
       "    .dataframe thead th {\n",
       "        text-align: right;\n",
       "    }\n",
       "</style>\n",
       "<table border=\"1\" class=\"dataframe\">\n",
       "  <thead>\n",
       "    <tr style=\"text-align: right;\">\n",
       "      <th></th>\n",
       "      <th>animal_id</th>\n",
       "      <th>session_id</th>\n",
       "      <th>mat_file</th>\n",
       "      <th>session_vids</th>\n",
       "      <th>notes</th>\n",
       "    </tr>\n",
       "  </thead>\n",
       "  <tbody>\n",
       "    <tr>\n",
       "      <th>0</th>\n",
       "      <td>M234Slc17a7_Gtacr2</td>\n",
       "      <td>20170328</td>\n",
       "      <td>/data/caitlin/training-vids/M234Slc17a7_Gtacr2...</td>\n",
       "      <td>[/data/caitlin/training-vids/M234Slc17a7_Gtacr...</td>\n",
       "      <td>None</td>\n",
       "    </tr>\n",
       "    <tr>\n",
       "      <th>1</th>\n",
       "      <td>M234Slc17a7_Gtacr2</td>\n",
       "      <td>20170404</td>\n",
       "      <td>/data/caitlin/training-vids/M234Slc17a7_Gtacr2...</td>\n",
       "      <td>[/data/caitlin/training-vids/M234Slc17a7_Gtacr...</td>\n",
       "      <td>None</td>\n",
       "    </tr>\n",
       "  </tbody>\n",
       "</table>\n",
       "</div>"
      ],
      "text/plain": [
       "            animal_id session_id   \n",
       "0  M234Slc17a7_Gtacr2   20170328  \\\n",
       "1  M234Slc17a7_Gtacr2   20170404   \n",
       "\n",
       "                                            mat_file   \n",
       "0  /data/caitlin/training-vids/M234Slc17a7_Gtacr2...  \\\n",
       "1  /data/caitlin/training-vids/M234Slc17a7_Gtacr2...   \n",
       "\n",
       "                                        session_vids notes  \n",
       "0  [/data/caitlin/training-vids/M234Slc17a7_Gtacr...  None  \n",
       "1  [/data/caitlin/training-vids/M234Slc17a7_Gtacr...  None  "
      ]
     },
     "execution_count": 50,
     "metadata": {},
     "output_type": "execute_result"
    }
   ],
   "source": [
    "df[df['animal_id']=='M234Slc17a7_Gtacr2']"
   ]
  },
  {
   "cell_type": "code",
   "execution_count": null,
   "id": "cc37eeca-6de3-4ac2-bd7b-c5d62be19783",
   "metadata": {},
   "outputs": [],
   "source": []
  }
 ],
 "metadata": {
  "kernelspec": {
   "display_name": "Python 3 (ipykernel)",
   "language": "python",
   "name": "python3"
  },
  "language_info": {
   "codemirror_mode": {
    "name": "ipython",
    "version": 3
   },
   "file_extension": ".py",
   "mimetype": "text/x-python",
   "name": "python",
   "nbconvert_exporter": "python",
   "pygments_lexer": "ipython3",
   "version": "3.11.3"
  }
 },
 "nbformat": 4,
 "nbformat_minor": 5
}
