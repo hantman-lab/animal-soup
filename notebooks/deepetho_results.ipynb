{
 "cells": [
  {
   "cell_type": "code",
   "execution_count": 1,
   "id": "8d49a89c-fcbb-4d6d-8e5c-499eb0ce4a08",
   "metadata": {
    "tags": []
   },
   "outputs": [
    {
     "name": "stderr",
     "output_type": "stream",
     "text": [
      "2023-05-29 15:57:14.703190: I tensorflow/core/platform/cpu_feature_guard.cc:182] This TensorFlow binary is optimized to use available CPU instructions in performance-critical operations.\n",
      "To enable the following instructions: AVX2 FMA, in other operations, rebuild TensorFlow with the appropriate compiler flags.\n",
      "2023-05-29 15:57:15.151973: W tensorflow/compiler/tf2tensorrt/utils/py_utils.cc:38] TF-TRT Warning: Could not find TensorRT\n",
      "/home/clewis7/repos/animal-soup/animal_soup/batch_utils.py:75: UserWarning: registration of accessor <class 'animal_soup.batch_utils.PathsDataFrameExtension'> under name 'paths' for type <class 'pandas.core.frame.DataFrame'> is overriding a preexisting attribute with the same name.\n",
      "  @pd.api.extensions.register_dataframe_accessor(\"paths\")\n",
      "/home/clewis7/repos/animal-soup/animal_soup/batch_utils.py:80: UserWarning: registration of accessor <class 'animal_soup.batch_utils.PathsSeriesExtension'> under name 'paths' for type <class 'pandas.core.series.Series'> is overriding a preexisting attribute with the same name.\n",
      "  @pd.api.extensions.register_series_accessor(\"paths\")\n"
     ]
    }
   ],
   "source": [
    "from animal_soup import *"
   ]
  },
  {
   "cell_type": "code",
   "execution_count": 2,
   "id": "cfaa96d9-d3ea-43df-b82b-fbf3427b9789",
   "metadata": {
    "tags": []
   },
   "outputs": [],
   "source": [
    "training_data_path = set_parent_raw_data_path('/data/caitlin/training-vids/')\n",
    "df_path = '/data/caitlin/data-frames/deepetho_results.hdf'"
   ]
  },
  {
   "cell_type": "code",
   "execution_count": 3,
   "id": "68bbd471-0cb9-4070-987f-85b12eaee012",
   "metadata": {
    "tags": []
   },
   "outputs": [],
   "source": [
    "df = load_df(df_path)"
   ]
  },
  {
   "cell_type": "code",
   "execution_count": 4,
   "id": "b0eb228c-aa3d-48a4-aa55-91e03ff21f5d",
   "metadata": {
    "tags": []
   },
   "outputs": [
    {
     "data": {
      "text/html": [
       "<div>\n",
       "<style scoped>\n",
       "    .dataframe tbody tr th:only-of-type {\n",
       "        vertical-align: middle;\n",
       "    }\n",
       "\n",
       "    .dataframe tbody tr th {\n",
       "        vertical-align: top;\n",
       "    }\n",
       "\n",
       "    .dataframe thead th {\n",
       "        text-align: right;\n",
       "    }\n",
       "</style>\n",
       "<table border=\"1\" class=\"dataframe\">\n",
       "  <thead>\n",
       "    <tr style=\"text-align: right;\">\n",
       "      <th></th>\n",
       "      <th>animal_id</th>\n",
       "      <th>session_id</th>\n",
       "      <th>mat_file</th>\n",
       "      <th>session_vids</th>\n",
       "      <th>notes</th>\n",
       "    </tr>\n",
       "  </thead>\n",
       "  <tbody>\n",
       "    <tr>\n",
       "      <th>0</th>\n",
       "      <td>M235Slc17a7_Gtacr2</td>\n",
       "      <td>20170424</td>\n",
       "      <td>/data/caitlin/training-vids/M235Slc17a7_Gtacr2...</td>\n",
       "      <td>[/data/caitlin/training-vids/M235Slc17a7_Gtacr...</td>\n",
       "      <td>None</td>\n",
       "    </tr>\n",
       "    <tr>\n",
       "      <th>1</th>\n",
       "      <td>M235Slc17a7_Gtacr2</td>\n",
       "      <td>20170425</td>\n",
       "      <td>/data/caitlin/training-vids/M235Slc17a7_Gtacr2...</td>\n",
       "      <td>[/data/caitlin/training-vids/M235Slc17a7_Gtacr...</td>\n",
       "      <td>None</td>\n",
       "    </tr>\n",
       "    <tr>\n",
       "      <th>2</th>\n",
       "      <td>M236Slc17a7_Gtacr2</td>\n",
       "      <td>20170501</td>\n",
       "      <td>/data/caitlin/training-vids/M236Slc17a7_Gtacr2...</td>\n",
       "      <td>[/data/caitlin/training-vids/M236Slc17a7_Gtacr...</td>\n",
       "      <td>None</td>\n",
       "    </tr>\n",
       "  </tbody>\n",
       "</table>\n",
       "</div>"
      ],
      "text/plain": [
       "            animal_id session_id   \n",
       "0  M235Slc17a7_Gtacr2   20170424  \\\n",
       "1  M235Slc17a7_Gtacr2   20170425   \n",
       "2  M236Slc17a7_Gtacr2   20170501   \n",
       "\n",
       "                                            mat_file   \n",
       "0  /data/caitlin/training-vids/M235Slc17a7_Gtacr2...  \\\n",
       "1  /data/caitlin/training-vids/M235Slc17a7_Gtacr2...   \n",
       "2  /data/caitlin/training-vids/M236Slc17a7_Gtacr2...   \n",
       "\n",
       "                                        session_vids notes  \n",
       "0  [/data/caitlin/training-vids/M235Slc17a7_Gtacr...  None  \n",
       "1  [/data/caitlin/training-vids/M235Slc17a7_Gtacr...  None  \n",
       "2  [/data/caitlin/training-vids/M236Slc17a7_Gtacr...  None  "
      ]
     },
     "execution_count": 4,
     "metadata": {},
     "output_type": "execute_result"
    }
   ],
   "source": [
    "df"
   ]
  },
  {
   "cell_type": "code",
   "execution_count": 5,
   "id": "bc49a77c-fbef-4379-b67a-3157075fcfd7",
   "metadata": {
    "tags": []
   },
   "outputs": [
    {
     "name": "stderr",
     "output_type": "stream",
     "text": [
      "/home/clewis7/venvs/mescore/lib/python3.11/site-packages/ipydatagrid/datagrid.py:445: UserWarning: Index name of 'index' is not round-trippable.\n",
      "  schema = pd.io.json.build_table_schema(dataframe)\n"
     ]
    },
    {
     "data": {
      "application/vnd.jupyter.widget-view+json": {
       "model_id": "abb7cdb911f94f07827a13c25239c0ac",
       "version_major": 2,
       "version_minor": 0
      },
      "text/plain": [
       "RFBOutputContext()"
      ]
     },
     "metadata": {},
     "output_type": "display_data"
    },
    {
     "name": "stderr",
     "output_type": "stream",
     "text": [
      "/home/clewis7/repos/mesmerize-core/mesmerize_core/arrays/_video.py:87: UserWarning: min not implemented for LazyTiff, returning min of 0th index\n",
      "  warn(\"min not implemented for LazyTiff, returning min of 0th index\")\n",
      "/home/clewis7/repos/mesmerize-core/mesmerize_core/arrays/_video.py:92: UserWarning: max not implemented for LazyTiff, returning min of 0th index\n",
      "  warn(\"max not implemented for LazyTiff, returning min of 0th index\")\n"
     ]
    },
    {
     "data": {
      "application/vnd.jupyter.widget-view+json": {
       "model_id": "4670591c69ab49a6b2a6e2b07669482c",
       "version_major": 2,
       "version_minor": 0
      },
      "text/plain": [
       "RFBOutputContext()"
      ]
     },
     "metadata": {},
     "output_type": "display_data"
    },
    {
     "data": {
      "application/vnd.jupyter.widget-view+json": {
       "model_id": "16460df47469467d8b840641082e199c",
       "version_major": 2,
       "version_minor": 0
      },
      "text/plain": [
       "RFBOutputContext()"
      ]
     },
     "metadata": {},
     "output_type": "display_data"
    }
   ],
   "source": [
    "container = df.behavior.view(deg_comparison=True)"
   ]
  },
  {
   "cell_type": "code",
   "execution_count": 7,
   "id": "07df3cd8-c128-47f0-957c-648b2a48b7a6",
   "metadata": {
    "tags": []
   },
   "outputs": [
    {
     "data": {
      "application/vnd.jupyter.widget-view+json": {
       "model_id": "b2913a8ae4194bb589ba50621f1aedc0",
       "version_major": 2,
       "version_minor": 0
      },
      "text/plain": [
       "VBox(children=(DataGrid(auto_fit_params={'area': 'all', 'padding': 30, 'numCols': None}, base_row_size=24, col…"
      ]
     },
     "execution_count": 7,
     "metadata": {},
     "output_type": "execute_result"
    }
   ],
   "source": [
    "container.show()"
   ]
  },
  {
   "cell_type": "code",
   "execution_count": 17,
   "id": "56ac4b4a-38f9-4632-8031-992df823c7bb",
   "metadata": {
    "tags": []
   },
   "outputs": [],
   "source": [
    "from pathlib import Path"
   ]
  },
  {
   "cell_type": "code",
   "execution_count": 18,
   "id": "aae323e9-c986-48db-8b90-5482d33fcc4b",
   "metadata": {
    "tags": []
   },
   "outputs": [],
   "source": [
    "deg_data_path = Path('/data/caitlin/deg-jaaba/DATA')"
   ]
  },
  {
   "cell_type": "code",
   "execution_count": 22,
   "id": "6e5bbf39-b177-4fad-8776-6925faaa1924",
   "metadata": {
    "tags": []
   },
   "outputs": [],
   "source": [
    "import pandas as pd\n",
    "import numpy as np\n",
    "import os"
   ]
  },
  {
   "cell_type": "code",
   "execution_count": null,
   "id": "c7265db7-42fe-4e0c-9644-468ad3e8f5b6",
   "metadata": {},
   "outputs": [],
   "source": [
    "def save_deg_prediction(deg_data_path, animal_id, session_id):\n",
    "    preds_not_saved = list()\n",
    "    row = df.loc[(df['animal_id'] == 'M236Slc17a7_Gtacr2') & (df['session_id'] == '20170501') ]\n",
    "    options = [item.stem for item in row['session_vids'].item()]\n",
    "    animal_id = row['animal_id'].item()\n",
    "    session_id = row['session_id'].item()\n",
    "    for op in options:\n",
    "        # get the labels file\n",
    "        try:\n",
    "            deg_prediction = pd.read_csv(filepath_or_buffer=deg_data_path.joinpath(op).joinpath(op).with_name(f'{op}_predictions').with_suffix('.csv'))\n",
    "            deg_prediction = deg_prediction.drop('background', axis=1)\n",
    "            deg_prediction = deg_prediction.drop('Unnamed: 0', axis=1)\n",
    "            behaviors = deg_prediction.columns\n",
    "            deg_prediction = deg_prediction.to_numpy(dtype='uint8').T\n",
    "            np.save(training_data_path.joinpath(animal_id).joinpath(session_id).joinpath(session_id).with_name(f'{op}').with_suffix('.npy'), deg_prediction)\n",
    "        except FileNotFoundError:\n",
    "            preds_not_saved.append(op)\n",
    "            continue"
   ]
  },
  {
   "cell_type": "code",
   "execution_count": 75,
   "id": "a399999c-529b-4744-a87c-8f6fe35d0150",
   "metadata": {
    "tags": []
   },
   "outputs": [],
   "source": [
    "from cv2 import EMD, DIST_L2"
   ]
  },
  {
   "cell_type": "code",
   "execution_count": 76,
   "id": "7bf224d1-ca33-4b42-9849-55d48b064bba",
   "metadata": {
    "tags": []
   },
   "outputs": [],
   "source": [
    "def emd_1d(u: np.ndarray, v: np.ndarray) -> float:\n",
    "    \"\"\"\n",
    "    Wrapper around OpenCV Earth Mover's Distance (EMD) function to calculate EMD between 1D arrays\n",
    "    :param u: an array of weights\n",
    "    :param v: an array of weights\n",
    "    :return: Earth Mover's Distance between u & v\n",
    "    \"\"\"\n",
    "\n",
    "    a = np.empty((u.size, 2), dtype=np.float32)\n",
    "    b = np.empty((v.size, 2), dtype=np.float32)\n",
    "\n",
    "    a[:, 0] = u.astype(np.float32)\n",
    "    a[:, 1] = np.arange(u.size, dtype=np.float32)\n",
    "\n",
    "    b[:, 0] = v.astype(np.float32)\n",
    "    b[:, 1] = np.arange(v.size, dtype=np.float32)\n",
    "\n",
    "    return EMD(a, b, DIST_L2)[0]"
   ]
  },
  {
   "cell_type": "code",
   "execution_count": 78,
   "id": "a7557825-cd29-4003-95b2-69d4e458d770",
   "metadata": {
    "tags": []
   },
   "outputs": [],
   "source": [
    "emds = list()\n",
    "for jab, deg in zip(jab_ethogram_array, deg_ethogram_array):\n",
    "    emds.append(emd_1d(jab, deg))"
   ]
  },
  {
   "cell_type": "code",
   "execution_count": 79,
   "id": "b9258042-9835-4e83-a72b-75e873676bb0",
   "metadata": {
    "tags": []
   },
   "outputs": [
    {
     "data": {
      "text/plain": [
       "[0.1794871836900711,\n",
       " 62.82143020629883,\n",
       " 0.0,\n",
       " 0.8217821717262268,\n",
       " 7.82608699798584,\n",
       " 7.370370388031006]"
      ]
     },
     "execution_count": 79,
     "metadata": {},
     "output_type": "execute_result"
    }
   ],
   "source": [
    "emds"
   ]
  },
  {
   "cell_type": "code",
   "execution_count": null,
   "id": "778e50c9-ed9e-40a7-b88a-4a1e5b7e263b",
   "metadata": {},
   "outputs": [],
   "source": []
  }
 ],
 "metadata": {
  "kernelspec": {
   "display_name": "Python 3 (ipykernel)",
   "language": "python",
   "name": "python3"
  },
  "language_info": {
   "codemirror_mode": {
    "name": "ipython",
    "version": 3
   },
   "file_extension": ".py",
   "mimetype": "text/x-python",
   "name": "python",
   "nbconvert_exporter": "python",
   "pygments_lexer": "ipython3",
   "version": "3.11.3"
  }
 },
 "nbformat": 4,
 "nbformat_minor": 5
}
