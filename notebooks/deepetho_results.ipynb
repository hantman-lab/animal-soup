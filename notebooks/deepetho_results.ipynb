{
 "cells": [
  {
   "cell_type": "markdown",
   "id": "d453081c-11b1-4038-a48c-4f786be73d46",
   "metadata": {},
   "source": [
    "### Results for first trial with deepethogram\n",
    "\n",
    "Initially trained on one session of 70 trials with jaaba output labels\n",
    "\n",
    "Predicted for one session same animal, and one session different animal (both 80 trials)"
   ]
  },
  {
   "cell_type": "code",
   "execution_count": 1,
   "id": "8d49a89c-fcbb-4d6d-8e5c-499eb0ce4a08",
   "metadata": {
    "tags": []
   },
   "outputs": [
    {
     "name": "stderr",
     "output_type": "stream",
     "text": [
      "2023-05-31 09:16:45.054940: I tensorflow/core/platform/cpu_feature_guard.cc:182] This TensorFlow binary is optimized to use available CPU instructions in performance-critical operations.\n",
      "To enable the following instructions: AVX2 FMA, in other operations, rebuild TensorFlow with the appropriate compiler flags.\n",
      "2023-05-31 09:16:45.501622: W tensorflow/compiler/tf2tensorrt/utils/py_utils.cc:38] TF-TRT Warning: Could not find TensorRT\n",
      "/home/clewis7/repos/animal-soup/animal_soup/batch_utils.py:137: UserWarning: registration of accessor <class 'animal_soup.batch_utils.PathsDataFrameExtension'> under name 'paths' for type <class 'pandas.core.frame.DataFrame'> is overriding a preexisting attribute with the same name.\n",
      "  @pd.api.extensions.register_dataframe_accessor(\"paths\")\n",
      "/home/clewis7/repos/animal-soup/animal_soup/batch_utils.py:142: UserWarning: registration of accessor <class 'animal_soup.batch_utils.PathsSeriesExtension'> under name 'paths' for type <class 'pandas.core.series.Series'> is overriding a preexisting attribute with the same name.\n",
      "  @pd.api.extensions.register_series_accessor(\"paths\")\n",
      "/home/clewis7/repos/animal-soup/animal_soup/extensions/viewer.py:7: UserWarning: registration of accessor <class 'animal_soup.extensions.viewer.BehaviorDataFrameVizExtension'> under name 'behavior' for type <class 'pandas.core.frame.DataFrame'> is overriding a preexisting attribute with the same name.\n",
      "  @pd.api.extensions.register_dataframe_accessor(\"behavior\")\n"
     ]
    }
   ],
   "source": [
    "from animal_soup import *\n",
    "import pandas as pd\n",
    "import numpy as np\n",
    "import os\n",
    "from pathlib import Path\n",
    "from cv2 import EMD, DIST_L2\n",
    "from tqdm import tqdm"
   ]
  },
  {
   "cell_type": "code",
   "execution_count": 2,
   "id": "cfaa96d9-d3ea-43df-b82b-fbf3427b9789",
   "metadata": {
    "tags": []
   },
   "outputs": [],
   "source": [
    "training_data_path = set_parent_raw_data_path('/data/caitlin/training-vids/')\n",
    "df_path = get_parent_raw_data_path().joinpath('data-frames/deepetho_results.hdf')"
   ]
  },
  {
   "cell_type": "code",
   "execution_count": 3,
   "id": "68bbd471-0cb9-4070-987f-85b12eaee012",
   "metadata": {
    "tags": []
   },
   "outputs": [],
   "source": [
    "df = load_df(df_path)"
   ]
  },
  {
   "cell_type": "code",
   "execution_count": 4,
   "id": "22fba123-36fe-428e-a467-9015b210a531",
   "metadata": {
    "tags": []
   },
   "outputs": [
    {
     "data": {
      "text/html": [
       "<div>\n",
       "<style scoped>\n",
       "    .dataframe tbody tr th:only-of-type {\n",
       "        vertical-align: middle;\n",
       "    }\n",
       "\n",
       "    .dataframe tbody tr th {\n",
       "        vertical-align: top;\n",
       "    }\n",
       "\n",
       "    .dataframe thead th {\n",
       "        text-align: right;\n",
       "    }\n",
       "</style>\n",
       "<table border=\"1\" class=\"dataframe\">\n",
       "  <thead>\n",
       "    <tr style=\"text-align: right;\">\n",
       "      <th></th>\n",
       "      <th>animal_id</th>\n",
       "      <th>session_id</th>\n",
       "      <th>mat_path</th>\n",
       "      <th>deg_path</th>\n",
       "      <th>session_vids</th>\n",
       "      <th>notes</th>\n",
       "    </tr>\n",
       "  </thead>\n",
       "  <tbody>\n",
       "    <tr>\n",
       "      <th>0</th>\n",
       "      <td>M235Slc17a7_Gtacr2</td>\n",
       "      <td>20170424</td>\n",
       "      <td>M235Slc17a7_Gtacr2/20170424/jaaba.mat</td>\n",
       "      <td>M235Slc17a7_Gtacr2/20170424/deg_labels.npy</td>\n",
       "      <td>[M235Slc17a7_Gtacr2/20170424/M235_20170424_v00...</td>\n",
       "      <td>None</td>\n",
       "    </tr>\n",
       "    <tr>\n",
       "      <th>1</th>\n",
       "      <td>M235Slc17a7_Gtacr2</td>\n",
       "      <td>20170425</td>\n",
       "      <td>M235Slc17a7_Gtacr2/20170425/jaaba.mat</td>\n",
       "      <td>None</td>\n",
       "      <td>[M235Slc17a7_Gtacr2/20170425/M235_20170425_v00...</td>\n",
       "      <td>None</td>\n",
       "    </tr>\n",
       "    <tr>\n",
       "      <th>2</th>\n",
       "      <td>M236Slc17a7_Gtacr2</td>\n",
       "      <td>20170501</td>\n",
       "      <td>M236Slc17a7_Gtacr2/20170501/jaaba.mat</td>\n",
       "      <td>M236Slc17a7_Gtacr2/20170501/deg_labels.npy</td>\n",
       "      <td>[M236Slc17a7_Gtacr2/20170501/M236_20170501_v00...</td>\n",
       "      <td>None</td>\n",
       "    </tr>\n",
       "  </tbody>\n",
       "</table>\n",
       "</div>"
      ],
      "text/plain": [
       "            animal_id session_id                               mat_path   \n",
       "0  M235Slc17a7_Gtacr2   20170424  M235Slc17a7_Gtacr2/20170424/jaaba.mat  \\\n",
       "1  M235Slc17a7_Gtacr2   20170425  M235Slc17a7_Gtacr2/20170425/jaaba.mat   \n",
       "2  M236Slc17a7_Gtacr2   20170501  M236Slc17a7_Gtacr2/20170501/jaaba.mat   \n",
       "\n",
       "                                     deg_path   \n",
       "0  M235Slc17a7_Gtacr2/20170424/deg_labels.npy  \\\n",
       "1                                        None   \n",
       "2  M236Slc17a7_Gtacr2/20170501/deg_labels.npy   \n",
       "\n",
       "                                        session_vids notes  \n",
       "0  [M235Slc17a7_Gtacr2/20170424/M235_20170424_v00...  None  \n",
       "1  [M235Slc17a7_Gtacr2/20170425/M235_20170425_v00...  None  \n",
       "2  [M236Slc17a7_Gtacr2/20170501/M236_20170501_v00...  None  "
      ]
     },
     "execution_count": 4,
     "metadata": {},
     "output_type": "execute_result"
    }
   ],
   "source": [
    "df"
   ]
  },
  {
   "cell_type": "code",
   "execution_count": 5,
   "id": "bc49a77c-fbef-4379-b67a-3157075fcfd7",
   "metadata": {
    "tags": []
   },
   "outputs": [
    {
     "name": "stderr",
     "output_type": "stream",
     "text": [
      "/home/clewis7/venvs/mescore/lib/python3.11/site-packages/ipydatagrid/datagrid.py:445: UserWarning: Index name of 'index' is not round-trippable.\n",
      "  schema = pd.io.json.build_table_schema(dataframe)\n"
     ]
    },
    {
     "data": {
      "application/vnd.jupyter.widget-view+json": {
       "model_id": "24bfda9638e840d2a524e37615bf777f",
       "version_major": 2,
       "version_minor": 0
      },
      "text/plain": [
       "RFBOutputContext()"
      ]
     },
     "metadata": {},
     "output_type": "display_data"
    },
    {
     "name": "stderr",
     "output_type": "stream",
     "text": [
      "/home/clewis7/repos/mesmerize-core/mesmerize_core/arrays/_video.py:87: UserWarning: min not implemented for LazyTiff, returning min of 0th index\n",
      "  warn(\"min not implemented for LazyTiff, returning min of 0th index\")\n",
      "/home/clewis7/repos/mesmerize-core/mesmerize_core/arrays/_video.py:92: UserWarning: max not implemented for LazyTiff, returning min of 0th index\n",
      "  warn(\"max not implemented for LazyTiff, returning min of 0th index\")\n"
     ]
    },
    {
     "data": {
      "application/vnd.jupyter.widget-view+json": {
       "model_id": "a7ee94a1f96d450f86425f2ec8f54531",
       "version_major": 2,
       "version_minor": 0
      },
      "text/plain": [
       "RFBOutputContext()"
      ]
     },
     "metadata": {},
     "output_type": "display_data"
    },
    {
     "data": {
      "application/vnd.jupyter.widget-view+json": {
       "model_id": "90409a08d2324f69a67bb5bac0a01c07",
       "version_major": 2,
       "version_minor": 0
      },
      "text/plain": [
       "RFBOutputContext()"
      ]
     },
     "metadata": {},
     "output_type": "display_data"
    }
   ],
   "source": [
    "container = df.behavior.comparison_view()"
   ]
  },
  {
   "cell_type": "code",
   "execution_count": 6,
   "id": "07df3cd8-c128-47f0-957c-648b2a48b7a6",
   "metadata": {
    "tags": []
   },
   "outputs": [
    {
     "data": {
      "application/vnd.jupyter.widget-view+json": {
       "model_id": "9e332872bbf145e7ab07621f9008fa57",
       "version_major": 2,
       "version_minor": 0
      },
      "text/plain": [
       "VBox(children=(DataGrid(auto_fit_params={'area': 'all', 'padding': 30, 'numCols': None}, base_row_size=24, col…"
      ]
     },
     "execution_count": 6,
     "metadata": {},
     "output_type": "execute_result"
    }
   ],
   "source": [
    "container.show()"
   ]
  },
  {
   "cell_type": "code",
   "execution_count": null,
   "id": "7f4895fa-a3e9-41b8-a893-42a49cce580c",
   "metadata": {},
   "outputs": [],
   "source": []
  },
  {
   "cell_type": "code",
   "execution_count": null,
   "id": "932d1f36-072e-4de5-a3d9-45d216784afb",
   "metadata": {},
   "outputs": [],
   "source": []
  },
  {
   "cell_type": "code",
   "execution_count": null,
   "id": "739fc6f3-6096-49b1-b7ce-03406b15aa6a",
   "metadata": {},
   "outputs": [],
   "source": []
  },
  {
   "cell_type": "code",
   "execution_count": null,
   "id": "c4a2532b-c6dc-4aed-b1fb-c07343d03430",
   "metadata": {},
   "outputs": [],
   "source": []
  },
  {
   "cell_type": "code",
   "execution_count": 7,
   "id": "aae323e9-c986-48db-8b90-5482d33fcc4b",
   "metadata": {
    "tags": []
   },
   "outputs": [],
   "source": [
    "deg_data_path = Path('/data/caitlin/deg-jaaba/DATA')"
   ]
  },
  {
   "cell_type": "code",
   "execution_count": 8,
   "id": "c7265db7-42fe-4e0c-9644-468ad3e8f5b6",
   "metadata": {},
   "outputs": [],
   "source": [
    "def save_deg_prediction(deg_data_path, animal_id, session_id):\n",
    "    all_preds = list()\n",
    "    preds_not_saved = list()\n",
    "    row = df.loc[(df['animal_id'] == animal_id) & (df['session_id'] == session_id) ]\n",
    "    options = [item.stem for item in row['session_vids'].item()]\n",
    "    for op in options:\n",
    "        # get the labels file\n",
    "        try:\n",
    "            deg_prediction = pd.read_csv(filepath_or_buffer=deg_data_path.joinpath(op, op).with_name(f'{op}_predictions').with_suffix('.csv'))\n",
    "            deg_prediction = deg_prediction.drop('background', axis=1)\n",
    "            deg_prediction = deg_prediction.drop('Unnamed: 0', axis=1)\n",
    "            behaviors = deg_prediction.columns\n",
    "            deg_prediction = deg_prediction.to_numpy(dtype='uint8').T\n",
    "            all_preds.append(deg_prediction)\n",
    "        except FileNotFoundError:\n",
    "            raise ValueError(f\"prediction file not saved @ {op}\")\n",
    "    all_preds = np.asarray(all_preds)\n",
    "    np.save(training_data_path.joinpath(animal_id).joinpath(session_id).joinpath(session_id).with_name(f'deg_labels').with_suffix('.npy'), all_preds)\n",
    "    return all_preds"
   ]
  },
  {
   "cell_type": "code",
   "execution_count": 9,
   "id": "b19e2c76-d0a1-4e32-9394-489e872647aa",
   "metadata": {},
   "outputs": [],
   "source": [
    "#preds = save_deg_prediction(deg_data_path=deg_data_path, animal_id='M236Slc17a7_Gtacr2', session_id='20170501')"
   ]
  },
  {
   "cell_type": "code",
   "execution_count": null,
   "id": "7b57723e-dc57-4a64-85e0-1525ec0ffd84",
   "metadata": {},
   "outputs": [],
   "source": []
  },
  {
   "cell_type": "code",
   "execution_count": null,
   "id": "080ec1bd-b6c4-40b7-bd11-40c068ba8abe",
   "metadata": {},
   "outputs": [],
   "source": []
  },
  {
   "cell_type": "code",
   "execution_count": null,
   "id": "7b4c456e-ce28-4fa5-a84c-c8045c96ed78",
   "metadata": {},
   "outputs": [],
   "source": []
  },
  {
   "cell_type": "code",
   "execution_count": null,
   "id": "cd2dd946-e55f-4fd9-bce8-31e23dbbed14",
   "metadata": {},
   "outputs": [],
   "source": []
  },
  {
   "cell_type": "code",
   "execution_count": 10,
   "id": "7bf224d1-ca33-4b42-9849-55d48b064bba",
   "metadata": {
    "tags": []
   },
   "outputs": [],
   "source": [
    "def emd_1d(u: np.ndarray, v: np.ndarray) -> float:\n",
    "    \"\"\"\n",
    "    Wrapper around OpenCV Earth Mover's Distance (EMD) function to calculate EMD between 1D arrays\n",
    "    :param u: an array of weights\n",
    "    :param v: an array of weights\n",
    "    :return: Earth Mover's Distance between u & v\n",
    "    \"\"\"\n",
    "\n",
    "    a = np.empty((u.size, 2), dtype=np.float32)\n",
    "    b = np.empty((v.size, 2), dtype=np.float32)\n",
    "\n",
    "    a[:, 0] = u.astype(np.float32)\n",
    "    a[:, 1] = np.arange(u.size, dtype=np.float32)\n",
    "\n",
    "    b[:, 0] = v.astype(np.float32)\n",
    "    b[:, 1] = np.arange(v.size, dtype=np.float32)\n",
    "\n",
    "    return EMD(a, b, DIST_L2)[0]"
   ]
  },
  {
   "cell_type": "markdown",
   "id": "bdc9c847-122f-4737-8f94-738a5f83e6aa",
   "metadata": {},
   "source": [
    "### New Animal"
   ]
  },
  {
   "cell_type": "code",
   "execution_count": 11,
   "id": "a4aa8e24-aef7-4d65-a76d-c2db4acce6f0",
   "metadata": {
    "tags": []
   },
   "outputs": [
    {
     "name": "stderr",
     "output_type": "stream",
     "text": [
      "100%|███████████████████████████████████████████████████████████████████████████████| 80/80 [00:09<00:00,  8.00it/s]\n"
     ]
    }
   ],
   "source": [
    "emds = list()\n",
    "row = df.loc[(df['animal_id'] == 'M236Slc17a7_Gtacr2') & (df['session_id'] == '20170501') ]\n",
    "options = [item.stem for item in row['session_vids'].item()]\n",
    "session_dir = training_data_path.joinpath(row['animal_id'].item()).joinpath(row['session_id'].item())\n",
    "deg_labels = np.load(session_dir.joinpath(row['session_id'].item()).with_name('deg_labels.npy'))\n",
    "for op in tqdm(options):\n",
    "    trial_index = int(op.split('_v')[-1]) - 1\n",
    "    jab_ethogram_array, behaviors = container._get_ethogram(trial_index, list(session_dir.glob(\"*.mat\"))[0])\n",
    "    deg_ethogram_array = deg_labels[trial_index]\n",
    "    emd = list()\n",
    "    for jab, deg in zip(jab_ethogram_array, deg_ethogram_array):\n",
    "        try:\n",
    "            emd.append(emd_1d(jab, deg))\n",
    "        except:\n",
    "            emd.append(0)\n",
    "    emds.append(emd)"
   ]
  },
  {
   "cell_type": "code",
   "execution_count": 12,
   "id": "454cc99a-d104-4971-a378-60d27a22ebdd",
   "metadata": {
    "tags": []
   },
   "outputs": [],
   "source": [
    "lift = list()\n",
    "handopen = list()\n",
    "grab = list()\n",
    "sup = list()\n",
    "atmouth = list()\n",
    "chew = list()\n",
    "for e in emds: \n",
    "    lift.append(e[0])\n",
    "    handopen.append(e[1])\n",
    "    grab.append(e[2])\n",
    "    sup.append(e[3])\n",
    "    atmouth.append(e[4])\n",
    "    chew.append(e[5])"
   ]
  },
  {
   "cell_type": "code",
   "execution_count": 13,
   "id": "c5a6d372-4998-4c23-a206-ca84889fa2b9",
   "metadata": {
    "tags": []
   },
   "outputs": [],
   "source": [
    "max_ix = [ix.index(max(ix)) -1 for ix in [lift, handopen, grab, sup, atmouth, chew]]\n",
    "max_val = [(max(ix)) for ix in [lift, handopen, grab, sup, atmouth, chew]]"
   ]
  },
  {
   "cell_type": "code",
   "execution_count": 14,
   "id": "e2e5afcd-bc42-4e83-89ce-900ebb8942c1",
   "metadata": {
    "tags": []
   },
   "outputs": [
    {
     "name": "stdout",
     "output_type": "stream",
     "text": [
      "[44, 7, 21, 68, 44, 75]\n",
      "[213.60606384277344, 67.89286041259766, 25.6842098236084, 231.10406494140625, 51.8636360168457, 22.05813980102539]\n"
     ]
    }
   ],
   "source": [
    "print(max_ix)\n",
    "print(max_val)"
   ]
  },
  {
   "cell_type": "code",
   "execution_count": 15,
   "id": "6167aa39-4a24-42d7-afac-bb7a3edf0a33",
   "metadata": {},
   "outputs": [],
   "source": [
    "import matplotlib.pyplot as plt"
   ]
  },
  {
   "cell_type": "code",
   "execution_count": 16,
   "id": "21ca9419-ae40-4d3e-96cb-fe96dbef4bbd",
   "metadata": {
    "tags": []
   },
   "outputs": [
    {
     "data": {
      "image/png": "[encoded data removed]",
      "text/plain": [
       "<Figure size 640x480 with 1 Axes>"
      ]
     },
     "metadata": {},
     "output_type": "display_data"
    }
   ],
   "source": [
    "plt.hist(np.asarray(chew))\n",
    "plt.xlabel('EMD')\n",
    "plt.ylabel('Frequency')\n",
    "plt.title('Chew')\n",
    "plt.yscale(\"log\")"
   ]
  },
  {
   "cell_type": "markdown",
   "id": "af777609-090c-4c82-bffd-52433dc0419c",
   "metadata": {},
   "source": [
    "### Same Animal, Different Session"
   ]
  },
  {
   "cell_type": "code",
   "execution_count": 17,
   "id": "a7557825-cd29-4003-95b2-69d4e458d770",
   "metadata": {
    "tags": []
   },
   "outputs": [
    {
     "name": "stderr",
     "output_type": "stream",
     "text": [
      "100%|███████████████████████████████████████████████████████████████████████████████| 80/80 [00:18<00:00,  4.41it/s]\n"
     ]
    }
   ],
   "source": [
    "emds2 = list()\n",
    "row = df.loc[(df['animal_id'] == 'M235Slc17a7_Gtacr2') & (df['session_id'] == '20170424') ]\n",
    "options = [item.stem for item in row['session_vids'].item()]\n",
    "session_dir = training_data_path.joinpath(row['animal_id'].item()).joinpath(row['session_id'].item())\n",
    "deg_labels = np.load(session_dir.joinpath(row['session_id'].item()).with_name('deg_labels.npy'))\n",
    "for op in tqdm(options):\n",
    "    trial_index = int(op.split('_v')[-1]) - 1\n",
    "    jab_ethogram_array, behaviors = container._get_ethogram(trial_index, list(session_dir.glob(\"*.mat\"))[0])\n",
    "    deg_ethogram_array = deg_labels[trial_index]\n",
    "    emd = list()\n",
    "    for jab, deg in zip(jab_ethogram_array, deg_ethogram_array):\n",
    "        try:\n",
    "            emd.append(emd_1d(jab, deg))\n",
    "        except:\n",
    "            emd.append(0)\n",
    "    emds2.append(emd)"
   ]
  },
  {
   "cell_type": "code",
   "execution_count": 18,
   "id": "350ca7e5-a5a5-4c36-8e69-207be65287a0",
   "metadata": {},
   "outputs": [],
   "source": [
    "lift = list()\n",
    "handopen = list()\n",
    "grab = list()\n",
    "sup = list()\n",
    "atmouth = list()\n",
    "chew = list()\n",
    "for e in emds2: \n",
    "    lift.append(e[0])\n",
    "    handopen.append(e[1])\n",
    "    grab.append(e[2])\n",
    "    sup.append(e[3])\n",
    "    atmouth.append(e[4])\n",
    "    chew.append(e[5])"
   ]
  },
  {
   "cell_type": "code",
   "execution_count": 19,
   "id": "90fef9fb-eb04-4370-83d0-a17b105a23f3",
   "metadata": {
    "tags": []
   },
   "outputs": [],
   "source": [
    "max_ix = [ix.index(max(ix)) -1 for ix in [lift, handopen, grab, sup, atmouth, chew]]\n",
    "max_val = [(max(ix)) for ix in [lift, handopen, grab, sup, atmouth, chew]]"
   ]
  },
  {
   "cell_type": "code",
   "execution_count": 20,
   "id": "827faaa6-4402-49f7-884f-3b6c7bce7341",
   "metadata": {
    "tags": []
   },
   "outputs": [
    {
     "name": "stdout",
     "output_type": "stream",
     "text": [
      "[71, -1, 54, 42, 55, 16]\n",
      "[66.04444122314453, 62.82143020629883, 40.80769348144531, 109.017578125, 19.700565338134766, 26.739999771118164]\n"
     ]
    }
   ],
   "source": [
    "print(max_ix)\n",
    "print(max_val)"
   ]
  },
  {
   "cell_type": "code",
   "execution_count": 21,
   "id": "7f3b037b-5d18-4593-b973-4dd91e6bd1a7",
   "metadata": {
    "tags": []
   },
   "outputs": [
    {
     "data": {
      "image/png": "[encoded data removed]",
      "text/plain": [
       "<Figure size 640x480 with 1 Axes>"
      ]
     },
     "metadata": {},
     "output_type": "display_data"
    }
   ],
   "source": [
    "plt.hist(np.asarray(chew))\n",
    "plt.xlabel('EMD')\n",
    "plt.ylabel('Frequency')\n",
    "plt.title('Chew')\n",
    "plt.yscale(\"log\")"
   ]
  },
  {
   "cell_type": "code",
   "execution_count": null,
   "id": "662a0c11-60f2-43e7-aa17-8c1753ec152f",
   "metadata": {},
   "outputs": [],
   "source": []
  },
  {
   "cell_type": "markdown",
   "id": "7aa8be25-25c3-47ae-b8fb-abe27c07af28",
   "metadata": {},
   "source": [
    "### Calculating Euclidean Distance "
   ]
  },
  {
   "cell_type": "code",
   "execution_count": null,
   "id": "bd976164-e7f2-446f-a6f1-953c1217912e",
   "metadata": {},
   "outputs": [],
   "source": [
    "np.linalg norm(a-b)"
   ]
  },
  {
   "cell_type": "markdown",
   "id": "42a78876-77fb-4903-b3e4-dabe79bed558",
   "metadata": {},
   "source": [
    "### Same animal, different session"
   ]
  },
  {
   "cell_type": "code",
   "execution_count": 13,
   "id": "0db848eb-5b72-4000-ba6a-01bdb429c105",
   "metadata": {
    "tags": []
   },
   "outputs": [
    {
     "name": "stderr",
     "output_type": "stream",
     "text": [
      "100%|███████████████████████████████████████████████████████████████████████████████| 80/80 [00:04<00:00, 16.06it/s]\n"
     ]
    }
   ],
   "source": [
    "eucs = list()\n",
    "row = df.loc[(df['animal_id'] == 'M235Slc17a7_Gtacr2') & (df['session_id'] == '20170424') ]\n",
    "options = [item.stem for item in row['session_vids'].item()]\n",
    "session_dir = training_data_path.joinpath(row['animal_id'].item()).joinpath(row['session_id'].item())\n",
    "deg_labels = np.load(session_dir.joinpath(row['session_id'].item()).with_name('deg_labels.npy'))\n",
    "for op in tqdm(options):\n",
    "    trial_index = int(op.split('_v')[-1]) - 1\n",
    "    jab_ethogram_array, behaviors = container._get_ethogram(trial_index, list(session_dir.glob(\"*.mat\"))[0])\n",
    "    deg_ethogram_array = deg_labels[trial_index]\n",
    "    euc = list()\n",
    "    for jab, deg in zip(jab_ethogram_array, deg_ethogram_array):\n",
    "        euc.append(np.linalg.norm(jab-deg))\n",
    "    eucs.append(euc)"
   ]
  },
  {
   "cell_type": "code",
   "execution_count": 14,
   "id": "7d64ed17-5358-424d-b1d3-bacfbba8a1f8",
   "metadata": {
    "tags": []
   },
   "outputs": [],
   "source": [
    "lift = list()\n",
    "handopen = list()\n",
    "grab = list()\n",
    "sup = list()\n",
    "atmouth = list()\n",
    "chew = list()\n",
    "for e in eucs: \n",
    "    lift.append(e[0])\n",
    "    handopen.append(e[1])\n",
    "    grab.append(e[2])\n",
    "    sup.append(e[3])\n",
    "    atmouth.append(e[4])\n",
    "    chew.append(e[5])"
   ]
  },
  {
   "cell_type": "code",
   "execution_count": 20,
   "id": "86a1e67c-3e71-4ceb-a4ff-ef28ac25f287",
   "metadata": {
    "tags": []
   },
   "outputs": [
    {
     "data": {
      "image/png": "[encoded data removed]",
      "text/plain": [
       "<Figure size 640x480 with 1 Axes>"
      ]
     },
     "metadata": {},
     "output_type": "display_data"
    }
   ],
   "source": [
    "plt.hist(np.asarray(atmouth), color=\"pink\")\n",
    "plt.xlabel('Euclidean')\n",
    "plt.ylabel('Frequency')\n",
    "plt.title('At Mouth')\n",
    "plt.yscale(\"log\")"
   ]
  },
  {
   "cell_type": "code",
   "execution_count": 21,
   "id": "b3015422-29bb-4d06-a945-0ab330aa37bd",
   "metadata": {
    "tags": []
   },
   "outputs": [],
   "source": [
    "max_ix = [ix.index(max(ix)) -1 for ix in [lift, handopen, grab, sup, atmouth, chew]]\n",
    "max_val = [(max(ix)) for ix in [lift, handopen, grab, sup, atmouth, chew]]"
   ]
  },
  {
   "cell_type": "code",
   "execution_count": 22,
   "id": "3a3fcc82-798a-4ac1-baf2-052612089343",
   "metadata": {
    "tags": []
   },
   "outputs": [
    {
     "name": "stdout",
     "output_type": "stream",
     "text": [
      "[71, 46, 28, 27, 1, 24]\n",
      "[1249.2525765432706, 1612.7640869017391, 1821.0724862014692, 5991.144882240789, 4039.959777027489, 3295.326539206699]\n"
     ]
    }
   ],
   "source": [
    "print(max_ix)\n",
    "print(max_val)"
   ]
  },
  {
   "cell_type": "code",
   "execution_count": null,
   "id": "dc770671-490b-49df-b3f3-4c3ea6033733",
   "metadata": {},
   "outputs": [],
   "source": []
  },
  {
   "cell_type": "markdown",
   "id": "422b9054-e88e-4394-be80-d937c37f5159",
   "metadata": {},
   "source": [
    "### Different animal, euclidean"
   ]
  },
  {
   "cell_type": "code",
   "execution_count": 23,
   "id": "d7c4d899-aeca-4e43-a8ac-571cfae39bab",
   "metadata": {
    "tags": []
   },
   "outputs": [
    {
     "name": "stderr",
     "output_type": "stream",
     "text": [
      "100%|███████████████████████████████████████████████████████████████████████████████| 80/80 [00:05<00:00, 15.58it/s]\n"
     ]
    }
   ],
   "source": [
    "eucs2 = list()\n",
    "row = df.loc[(df['animal_id'] == 'M236Slc17a7_Gtacr2') & (df['session_id'] == '20170501') ]\n",
    "options = [item.stem for item in row['session_vids'].item()]\n",
    "session_dir = training_data_path.joinpath(row['animal_id'].item()).joinpath(row['session_id'].item())\n",
    "deg_labels = np.load(session_dir.joinpath(row['session_id'].item()).with_name('deg_labels.npy'))\n",
    "for op in tqdm(options):\n",
    "    trial_index = int(op.split('_v')[-1]) - 1\n",
    "    jab_ethogram_array, behaviors = container._get_ethogram(trial_index, list(session_dir.glob(\"*.mat\"))[0])\n",
    "    deg_ethogram_array = deg_labels[trial_index]\n",
    "    euc = list()\n",
    "    for jab, deg in zip(jab_ethogram_array, deg_ethogram_array):\n",
    "        euc.append(np.linalg.norm(jab-deg))\n",
    "    eucs2.append(euc)"
   ]
  },
  {
   "cell_type": "code",
   "execution_count": 24,
   "id": "cdebdaad-8ab6-48c0-8aa1-fb42d5c47f67",
   "metadata": {
    "tags": []
   },
   "outputs": [],
   "source": [
    "lift = list()\n",
    "handopen = list()\n",
    "grab = list()\n",
    "sup = list()\n",
    "atmouth = list()\n",
    "chew = list()\n",
    "for e in eucs2: \n",
    "    lift.append(e[0])\n",
    "    handopen.append(e[1])\n",
    "    grab.append(e[2])\n",
    "    sup.append(e[3])\n",
    "    atmouth.append(e[4])\n",
    "    chew.append(e[5])"
   ]
  },
  {
   "cell_type": "code",
   "execution_count": 29,
   "id": "59b8aa97-d6b5-4ab8-91f6-ced8bf0ccf2f",
   "metadata": {
    "tags": []
   },
   "outputs": [
    {
     "data": {
      "image/png": "[encoded data removed]",
      "text/plain": [
       "<Figure size 640x480 with 1 Axes>"
      ]
     },
     "metadata": {},
     "output_type": "display_data"
    }
   ],
   "source": [
    "plt.hist(np.asarray(atmouth), color=\"pink\")\n",
    "plt.xlabel('Euclidean')\n",
    "plt.ylabel('Frequency')\n",
    "plt.title('Supination')\n",
    "plt.yscale(\"log\")"
   ]
  },
  {
   "cell_type": "code",
   "execution_count": null,
   "id": "5b5be961-3e0a-443c-8e99-77fba2b26b82",
   "metadata": {},
   "outputs": [],
   "source": []
  },
  {
   "cell_type": "code",
   "execution_count": null,
   "id": "e97bac41-9f63-4d26-82d1-0c69d8663e68",
   "metadata": {},
   "outputs": [],
   "source": []
  }
 ],
 "metadata": {
  "kernelspec": {
   "display_name": "Python 3 (ipykernel)",
   "language": "python",
   "name": "python3"
  },
  "language_info": {
   "codemirror_mode": {
    "name": "ipython",
    "version": 3
   },
   "file_extension": ".py",
   "mimetype": "text/x-python",
   "name": "python",
   "nbconvert_exporter": "python",
   "pygments_lexer": "ipython3",
   "version": "3.11.3"
  }
 },
 "nbformat": 4,
 "nbformat_minor": 5
}
