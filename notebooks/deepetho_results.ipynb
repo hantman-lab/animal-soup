{
 "cells": [
  {
   "cell_type": "code",
   "execution_count": 1,
   "id": "8d49a89c-fcbb-4d6d-8e5c-499eb0ce4a08",
   "metadata": {
    "tags": []
   },
   "outputs": [
    {
     "name": "stderr",
     "output_type": "stream",
     "text": [
      "2023-05-30 13:50:15.618434: I tensorflow/core/platform/cpu_feature_guard.cc:182] This TensorFlow binary is optimized to use available CPU instructions in performance-critical operations.\n",
      "To enable the following instructions: AVX2 FMA, in other operations, rebuild TensorFlow with the appropriate compiler flags.\n",
      "2023-05-30 13:50:16.060582: W tensorflow/compiler/tf2tensorrt/utils/py_utils.cc:38] TF-TRT Warning: Could not find TensorRT\n",
      "/home/clewis7/repos/animal-soup/animal_soup/batch_utils.py:137: UserWarning: registration of accessor <class 'animal_soup.batch_utils.PathsDataFrameExtension'> under name 'paths' for type <class 'pandas.core.frame.DataFrame'> is overriding a preexisting attribute with the same name.\n",
      "  @pd.api.extensions.register_dataframe_accessor(\"paths\")\n",
      "/home/clewis7/repos/animal-soup/animal_soup/batch_utils.py:142: UserWarning: registration of accessor <class 'animal_soup.batch_utils.PathsSeriesExtension'> under name 'paths' for type <class 'pandas.core.series.Series'> is overriding a preexisting attribute with the same name.\n",
      "  @pd.api.extensions.register_series_accessor(\"paths\")\n",
      "/home/clewis7/repos/animal-soup/animal_soup/extensions/viewer.py:7: UserWarning: registration of accessor <class 'animal_soup.extensions.viewer.BehaviorDataFrameVizExtension'> under name 'behavior' for type <class 'pandas.core.frame.DataFrame'> is overriding a preexisting attribute with the same name.\n",
      "  @pd.api.extensions.register_dataframe_accessor(\"behavior\")\n"
     ]
    }
   ],
   "source": [
    "from animal_soup import *"
   ]
  },
  {
   "cell_type": "code",
   "execution_count": 2,
   "id": "cfaa96d9-d3ea-43df-b82b-fbf3427b9789",
   "metadata": {
    "tags": []
   },
   "outputs": [],
   "source": [
    "training_data_path = set_parent_raw_data_path('/data/caitlin/training-vids/')\n",
    "df_path = get_parent_raw_data_path().joinpath('data-frames/deepetho_results.hdf')"
   ]
  },
  {
   "cell_type": "code",
   "execution_count": 3,
   "id": "68bbd471-0cb9-4070-987f-85b12eaee012",
   "metadata": {
    "tags": []
   },
   "outputs": [],
   "source": [
    "df = load_df(df_path)"
   ]
  },
  {
   "cell_type": "code",
   "execution_count": 4,
   "id": "22fba123-36fe-428e-a467-9015b210a531",
   "metadata": {
    "tags": []
   },
   "outputs": [
    {
     "data": {
      "text/html": [
       "<div>\n",
       "<style scoped>\n",
       "    .dataframe tbody tr th:only-of-type {\n",
       "        vertical-align: middle;\n",
       "    }\n",
       "\n",
       "    .dataframe tbody tr th {\n",
       "        vertical-align: top;\n",
       "    }\n",
       "\n",
       "    .dataframe thead th {\n",
       "        text-align: right;\n",
       "    }\n",
       "</style>\n",
       "<table border=\"1\" class=\"dataframe\">\n",
       "  <thead>\n",
       "    <tr style=\"text-align: right;\">\n",
       "      <th></th>\n",
       "      <th>animal_id</th>\n",
       "      <th>session_id</th>\n",
       "      <th>mat_path</th>\n",
       "      <th>session_vids</th>\n",
       "      <th>notes</th>\n",
       "    </tr>\n",
       "  </thead>\n",
       "  <tbody>\n",
       "    <tr>\n",
       "      <th>0</th>\n",
       "      <td>M235Slc17a7_Gtacr2</td>\n",
       "      <td>20170424</td>\n",
       "      <td>M235Slc17a7_Gtacr2/20170424/jaaba.mat</td>\n",
       "      <td>[M235Slc17a7_Gtacr2/20170424/M235_20170424_v00...</td>\n",
       "      <td>None</td>\n",
       "    </tr>\n",
       "    <tr>\n",
       "      <th>1</th>\n",
       "      <td>M235Slc17a7_Gtacr2</td>\n",
       "      <td>20170425</td>\n",
       "      <td>M235Slc17a7_Gtacr2/20170425/jaaba.mat</td>\n",
       "      <td>[M235Slc17a7_Gtacr2/20170425/M235_20170425_v00...</td>\n",
       "      <td>None</td>\n",
       "    </tr>\n",
       "    <tr>\n",
       "      <th>2</th>\n",
       "      <td>M236Slc17a7_Gtacr2</td>\n",
       "      <td>20170501</td>\n",
       "      <td>M236Slc17a7_Gtacr2/20170501/jaaba.mat</td>\n",
       "      <td>[M236Slc17a7_Gtacr2/20170501/M236_20170501_v00...</td>\n",
       "      <td>None</td>\n",
       "    </tr>\n",
       "  </tbody>\n",
       "</table>\n",
       "</div>"
      ],
      "text/plain": [
       "            animal_id session_id                               mat_path   \n",
       "0  M235Slc17a7_Gtacr2   20170424  M235Slc17a7_Gtacr2/20170424/jaaba.mat  \\\n",
       "1  M235Slc17a7_Gtacr2   20170425  M235Slc17a7_Gtacr2/20170425/jaaba.mat   \n",
       "2  M236Slc17a7_Gtacr2   20170501  M236Slc17a7_Gtacr2/20170501/jaaba.mat   \n",
       "\n",
       "                                        session_vids notes  \n",
       "0  [M235Slc17a7_Gtacr2/20170424/M235_20170424_v00...  None  \n",
       "1  [M235Slc17a7_Gtacr2/20170425/M235_20170425_v00...  None  \n",
       "2  [M236Slc17a7_Gtacr2/20170501/M236_20170501_v00...  None  "
      ]
     },
     "execution_count": 4,
     "metadata": {},
     "output_type": "execute_result"
    }
   ],
   "source": [
    "df"
   ]
  },
  {
   "cell_type": "code",
   "execution_count": 5,
   "id": "bc49a77c-fbef-4379-b67a-3157075fcfd7",
   "metadata": {
    "tags": []
   },
   "outputs": [
    {
     "name": "stderr",
     "output_type": "stream",
     "text": [
      "/home/clewis7/venvs/mescore/lib/python3.11/site-packages/ipydatagrid/datagrid.py:445: UserWarning: Index name of 'index' is not round-trippable.\n",
      "  schema = pd.io.json.build_table_schema(dataframe)\n"
     ]
    },
    {
     "data": {
      "application/vnd.jupyter.widget-view+json": {
       "model_id": "68edc0bdc72a461e88a4e3310ba145e5",
       "version_major": 2,
       "version_minor": 0
      },
      "text/plain": [
       "RFBOutputContext()"
      ]
     },
     "metadata": {},
     "output_type": "display_data"
    },
    {
     "name": "stderr",
     "output_type": "stream",
     "text": [
      "/home/clewis7/repos/mesmerize-core/mesmerize_core/arrays/_video.py:87: UserWarning: min not implemented for LazyTiff, returning min of 0th index\n",
      "  warn(\"min not implemented for LazyTiff, returning min of 0th index\")\n",
      "/home/clewis7/repos/mesmerize-core/mesmerize_core/arrays/_video.py:92: UserWarning: max not implemented for LazyTiff, returning min of 0th index\n",
      "  warn(\"max not implemented for LazyTiff, returning min of 0th index\")\n"
     ]
    },
    {
     "data": {
      "application/vnd.jupyter.widget-view+json": {
       "model_id": "740882c947b44e58b32f07ef0c271cdb",
       "version_major": 2,
       "version_minor": 0
      },
      "text/plain": [
       "RFBOutputContext()"
      ]
     },
     "metadata": {},
     "output_type": "display_data"
    },
    {
     "data": {
      "application/vnd.jupyter.widget-view+json": {
       "model_id": "a4f2a871300e4874a41c6af047410cfb",
       "version_major": 2,
       "version_minor": 0
      },
      "text/plain": [
       "RFBOutputContext()"
      ]
     },
     "metadata": {},
     "output_type": "display_data"
    }
   ],
   "source": [
    "container = df.behavior.comparison_view()"
   ]
  },
  {
   "cell_type": "code",
   "execution_count": 6,
   "id": "07df3cd8-c128-47f0-957c-648b2a48b7a6",
   "metadata": {
    "tags": []
   },
   "outputs": [
    {
     "data": {
      "application/vnd.jupyter.widget-view+json": {
       "model_id": "ade381630c92475f911287d4149d23d9",
       "version_major": 2,
       "version_minor": 0
      },
      "text/plain": [
       "VBox(children=(DataGrid(auto_fit_params={'area': 'all', 'padding': 30, 'numCols': None}, base_row_size=24, col…"
      ]
     },
     "execution_count": 6,
     "metadata": {},
     "output_type": "execute_result"
    }
   ],
   "source": [
    "container.show()"
   ]
  },
  {
   "cell_type": "code",
   "execution_count": null,
   "id": "7f4895fa-a3e9-41b8-a893-42a49cce580c",
   "metadata": {},
   "outputs": [],
   "source": []
  },
  {
   "cell_type": "code",
   "execution_count": 7,
   "id": "56ac4b4a-38f9-4632-8031-992df823c7bb",
   "metadata": {
    "tags": []
   },
   "outputs": [],
   "source": [
    "from pathlib import Path"
   ]
  },
  {
   "cell_type": "code",
   "execution_count": 8,
   "id": "aae323e9-c986-48db-8b90-5482d33fcc4b",
   "metadata": {
    "tags": []
   },
   "outputs": [],
   "source": [
    "deg_data_path = Path('/data/caitlin/deg-jaaba/DATA')"
   ]
  },
  {
   "cell_type": "code",
   "execution_count": 10,
   "id": "6e5bbf39-b177-4fad-8776-6925faaa1924",
   "metadata": {
    "tags": []
   },
   "outputs": [],
   "source": [
    "import pandas as pd\n",
    "import numpy as np\n",
    "import os"
   ]
  },
  {
   "cell_type": "code",
   "execution_count": 24,
   "id": "c7265db7-42fe-4e0c-9644-468ad3e8f5b6",
   "metadata": {},
   "outputs": [],
   "source": [
    "def save_deg_prediction(deg_data_path, animal_id, session_id):\n",
    "    all_preds = list()\n",
    "    preds_not_saved = list()\n",
    "    row = df.loc[(df['animal_id'] == animal_id) & (df['session_id'] == session_id) ]\n",
    "    options = [item.stem for item in row['session_vids'].item()]\n",
    "    for op in options:\n",
    "        # get the labels file\n",
    "        try:\n",
    "            deg_prediction = pd.read_csv(filepath_or_buffer=deg_data_path.joinpath(op, op).with_name(f'{op}_predictions').with_suffix('.csv'))\n",
    "            deg_prediction = deg_prediction.drop('background', axis=1)\n",
    "            deg_prediction = deg_prediction.drop('Unnamed: 0', axis=1)\n",
    "            behaviors = deg_prediction.columns\n",
    "            deg_prediction = deg_prediction.to_numpy(dtype='uint8').T\n",
    "            all_preds.append(deg_prediction)\n",
    "        except FileNotFoundError:\n",
    "            raise ValueError(f\"prediction file not saved @ {op}\")\n",
    "    all_preds = np.asarray(all_preds)\n",
    "    np.save(training_data_path.joinpath(animal_id).joinpath(session_id).joinpath(session_id).with_name(f'deg_labels').with_suffix('.npy'), all_preds)\n",
    "    return all_preds"
   ]
  },
  {
   "cell_type": "code",
   "execution_count": 26,
   "id": "b19e2c76-d0a1-4e32-9394-489e872647aa",
   "metadata": {},
   "outputs": [],
   "source": [
    "preds = save_deg_prediction(deg_data_path=deg_data_path, animal_id='M236Slc17a7_Gtacr2', session_id='20170501')"
   ]
  },
  {
   "cell_type": "code",
   "execution_count": 27,
   "id": "3edb5cb0-01b8-499a-905f-156b46b448d2",
   "metadata": {},
   "outputs": [
    {
     "data": {
      "text/plain": [
       "(80, 6, 1998)"
      ]
     },
     "execution_count": 27,
     "metadata": {},
     "output_type": "execute_result"
    }
   ],
   "source": [
    "preds.shape"
   ]
  },
  {
   "cell_type": "code",
   "execution_count": 8,
   "id": "7dfe4fd4-a145-4bc5-86c8-496130e81ebd",
   "metadata": {
    "tags": []
   },
   "outputs": [],
   "source": [
    "animal_id='M236Slc17a7_Gtacr2'\n",
    "session_id='20170501'"
   ]
  },
  {
   "cell_type": "code",
   "execution_count": 9,
   "id": "0cac305c-7571-4ac1-87e9-3594955cf576",
   "metadata": {},
   "outputs": [
    {
     "data": {
      "text/plain": [
       "PosixPath('/data/caitlin/training-vids/M236Slc17a7_Gtacr2/20170501/deg_labels.npy')"
      ]
     },
     "execution_count": 9,
     "metadata": {},
     "output_type": "execute_result"
    }
   ],
   "source": [
    "training_data_path.joinpath(animal_id).joinpath(session_id).joinpath(session_id).with_name(f'deg_labels').with_suffix('.npy')"
   ]
  },
  {
   "cell_type": "code",
   "execution_count": 11,
   "id": "e87ef807-cb75-4726-9c89-1c23e1128b70",
   "metadata": {
    "tags": []
   },
   "outputs": [
    {
     "data": {
      "text/plain": [
       "array([[[0, 0, 0, ..., 0, 0, 0],\n",
       "        [0, 0, 0, ..., 0, 0, 0],\n",
       "        [0, 0, 0, ..., 0, 0, 0],\n",
       "        [0, 0, 0, ..., 0, 0, 0],\n",
       "        [0, 0, 0, ..., 0, 0, 0],\n",
       "        [0, 0, 0, ..., 0, 0, 0]],\n",
       "\n",
       "       [[0, 0, 0, ..., 0, 0, 0],\n",
       "        [0, 0, 0, ..., 0, 0, 0],\n",
       "        [0, 0, 0, ..., 0, 0, 0],\n",
       "        [0, 0, 0, ..., 0, 0, 0],\n",
       "        [0, 0, 0, ..., 0, 0, 0],\n",
       "        [0, 0, 0, ..., 0, 0, 0]],\n",
       "\n",
       "       [[0, 0, 0, ..., 0, 0, 0],\n",
       "        [0, 0, 0, ..., 0, 0, 0],\n",
       "        [0, 0, 0, ..., 0, 0, 0],\n",
       "        [0, 0, 0, ..., 0, 0, 0],\n",
       "        [0, 0, 0, ..., 0, 0, 0],\n",
       "        [0, 0, 0, ..., 0, 0, 0]],\n",
       "\n",
       "       ...,\n",
       "\n",
       "       [[0, 0, 0, ..., 0, 0, 0],\n",
       "        [0, 0, 0, ..., 0, 0, 0],\n",
       "        [0, 0, 0, ..., 0, 0, 0],\n",
       "        [0, 0, 0, ..., 0, 0, 0],\n",
       "        [0, 0, 0, ..., 0, 0, 0],\n",
       "        [0, 0, 0, ..., 0, 0, 0]],\n",
       "\n",
       "       [[0, 0, 0, ..., 0, 0, 0],\n",
       "        [0, 0, 0, ..., 0, 0, 0],\n",
       "        [0, 0, 0, ..., 0, 0, 0],\n",
       "        [0, 0, 0, ..., 0, 0, 0],\n",
       "        [0, 0, 0, ..., 0, 0, 0],\n",
       "        [0, 0, 0, ..., 0, 0, 0]],\n",
       "\n",
       "       [[0, 0, 0, ..., 0, 0, 0],\n",
       "        [0, 0, 0, ..., 0, 0, 0],\n",
       "        [0, 0, 0, ..., 0, 0, 0],\n",
       "        [0, 0, 0, ..., 0, 0, 0],\n",
       "        [0, 0, 0, ..., 0, 0, 0],\n",
       "        [0, 0, 0, ..., 0, 0, 0]]], dtype=uint8)"
      ]
     },
     "execution_count": 11,
     "metadata": {},
     "output_type": "execute_result"
    }
   ],
   "source": [
    "np.load(training_data_path.joinpath(animal_id).joinpath(session_id).joinpath(session_id).with_name(f'deg_labels').with_suffix('.npy'))"
   ]
  },
  {
   "cell_type": "code",
   "execution_count": 11,
   "id": "a399999c-529b-4744-a87c-8f6fe35d0150",
   "metadata": {
    "tags": []
   },
   "outputs": [],
   "source": [
    "from cv2 import EMD, DIST_L2"
   ]
  },
  {
   "cell_type": "code",
   "execution_count": 12,
   "id": "7bf224d1-ca33-4b42-9849-55d48b064bba",
   "metadata": {
    "tags": []
   },
   "outputs": [],
   "source": [
    "def emd_1d(u: np.ndarray, v: np.ndarray) -> float:\n",
    "    \"\"\"\n",
    "    Wrapper around OpenCV Earth Mover's Distance (EMD) function to calculate EMD between 1D arrays\n",
    "    :param u: an array of weights\n",
    "    :param v: an array of weights\n",
    "    :return: Earth Mover's Distance between u & v\n",
    "    \"\"\"\n",
    "\n",
    "    a = np.empty((u.size, 2), dtype=np.float32)\n",
    "    b = np.empty((v.size, 2), dtype=np.float32)\n",
    "\n",
    "    a[:, 0] = u.astype(np.float32)\n",
    "    a[:, 1] = np.arange(u.size, dtype=np.float32)\n",
    "\n",
    "    b[:, 0] = v.astype(np.float32)\n",
    "    b[:, 1] = np.arange(v.size, dtype=np.float32)\n",
    "\n",
    "    return EMD(a, b, DIST_L2)[0]"
   ]
  },
  {
   "cell_type": "code",
   "execution_count": 13,
   "id": "ebf3aaf3-39ef-46ad-97b0-684a07f60333",
   "metadata": {
    "tags": []
   },
   "outputs": [],
   "source": [
    "import numpy as np\n",
    "from tqdm import tqdm"
   ]
  },
  {
   "cell_type": "code",
   "execution_count": 14,
   "id": "a4aa8e24-aef7-4d65-a76d-c2db4acce6f0",
   "metadata": {
    "tags": []
   },
   "outputs": [
    {
     "name": "stderr",
     "output_type": "stream",
     "text": [
      "100%|███████████████████████████████████████████████████████████████████████████████| 80/80 [00:07<00:00, 10.82it/s]\n"
     ]
    }
   ],
   "source": [
    "emds = list()\n",
    "row = df.loc[(df['animal_id'] == 'M236Slc17a7_Gtacr2') & (df['session_id'] == '20170501') ]\n",
    "options = [item.stem for item in row['session_vids'].item()]\n",
    "session_dir = training_data_path.joinpath(row['animal_id'].item()).joinpath(row['session_id'].item())\n",
    "for op in tqdm(options):\n",
    "    trial_index = int(op.split('_v')[-1]) - 1\n",
    "    jab_ethogram_array, behaviors = container._get_ethogram(trial_index, list(session_dir.glob(\"*.mat\"))[0])\n",
    "    deg_ethogram_array = np.load(session_dir.joinpath(op).with_suffix('.npy'))\n",
    "    emd = list()\n",
    "    for jab, deg in zip(jab_ethogram_array, deg_ethogram_array):\n",
    "        try:\n",
    "            emd.append(emd_1d(jab, deg))\n",
    "        except:\n",
    "            emd.append(0)\n",
    "    emds.append(emd)"
   ]
  },
  {
   "cell_type": "code",
   "execution_count": 47,
   "id": "a7557825-cd29-4003-95b2-69d4e458d770",
   "metadata": {
    "tags": []
   },
   "outputs": [
    {
     "name": "stderr",
     "output_type": "stream",
     "text": [
      "100%|███████████████████████████████████████████████████████████████████████████████| 80/80 [00:15<00:00,  5.30it/s]\n"
     ]
    }
   ],
   "source": [
    "emds2 = list()\n",
    "row = df.loc[(df['animal_id'] == 'M235Slc17a7_Gtacr2') & (df['session_id'] == '20170424') ]\n",
    "options = [item.stem for item in row['session_vids'].item()]\n",
    "session_dir = training_data_path.joinpath(row['animal_id'].item()).joinpath(row['session_id'].item())\n",
    "for op in tqdm(options):\n",
    "    trial_index = int(op.split('_v')[-1]) - 1\n",
    "    jab_ethogram_array, behaviors = container._get_ethogram(trial_index, list(session_dir.glob(\"*.mat\"))[0])\n",
    "    deg_ethogram_array = np.load(session_dir.joinpath(op).with_suffix('.npy'))\n",
    "    emd = list()\n",
    "    for jab, deg in zip(jab_ethogram_array, deg_ethogram_array):\n",
    "        try:\n",
    "            emd.append(emd_1d(jab, deg))\n",
    "        except:\n",
    "            emd.append(0)\n",
    "    emds2.append(emd)"
   ]
  },
  {
   "cell_type": "code",
   "execution_count": 48,
   "id": "e7bb80e0-4b9a-4af1-915a-f34f3e8cd64d",
   "metadata": {
    "tags": []
   },
   "outputs": [
    {
     "data": {
      "text/plain": [
       "80"
      ]
     },
     "execution_count": 48,
     "metadata": {},
     "output_type": "execute_result"
    }
   ],
   "source": [
    "len(emds)"
   ]
  },
  {
   "cell_type": "code",
   "execution_count": 15,
   "id": "454cc99a-d104-4971-a378-60d27a22ebdd",
   "metadata": {
    "tags": []
   },
   "outputs": [],
   "source": [
    "lift = list()\n",
    "handopen = list()\n",
    "grab = list()\n",
    "sup = list()\n",
    "atmouth = list()\n",
    "chew = list()\n",
    "for e in emds: \n",
    "    lift.append(e[0])\n",
    "    handopen.append(e[1])\n",
    "    grab.append(e[2])\n",
    "    sup.append(e[3])\n",
    "    atmouth.append(e[4])\n",
    "    chew.append(e[5])"
   ]
  },
  {
   "cell_type": "code",
   "execution_count": 16,
   "id": "6167aa39-4a24-42d7-afac-bb7a3edf0a33",
   "metadata": {},
   "outputs": [],
   "source": [
    "import matplotlib.pyplot as plt"
   ]
  },
  {
   "cell_type": "code",
   "execution_count": 22,
   "id": "21ca9419-ae40-4d3e-96cb-fe96dbef4bbd",
   "metadata": {
    "tags": []
   },
   "outputs": [
    {
     "data": {
      "image/png": "[encoded data removed]",
      "text/plain": [
       "<Figure size 640x480 with 1 Axes>"
      ]
     },
     "metadata": {},
     "output_type": "display_data"
    }
   ],
   "source": [
    "plt.hist(np.asarray(lift))\n",
    "plt.xlabel('EMD')\n",
    "plt.ylabel('Frequency')\n",
    "plt.title('Lift')\n",
    "plt.yscale(\"log\")"
   ]
  },
  {
   "cell_type": "code",
   "execution_count": null,
   "id": "350ca7e5-a5a5-4c36-8e69-207be65287a0",
   "metadata": {},
   "outputs": [],
   "source": [
    "lift = list()\n",
    "handopen = list()\n",
    "grab = list()\n",
    "sup = list()\n",
    "atmouth = list()\n",
    "chew = list()\n",
    "for e in emds2: \n",
    "    lift.append(e[0])\n",
    "    handopen.append(e[1])\n",
    "    grab.append(e[2])\n",
    "    sup.append(e[3])\n",
    "    atmouth.append(e[4])\n",
    "    chew.append(e[5])"
   ]
  },
  {
   "cell_type": "code",
   "execution_count": 57,
   "id": "7f3b037b-5d18-4593-b973-4dd91e6bd1a7",
   "metadata": {
    "tags": []
   },
   "outputs": [
    {
     "data": {
      "image/png": "[encoded data removed]",
      "text/plain": [
       "<Figure size 640x480 with 1 Axes>"
      ]
     },
     "metadata": {},
     "output_type": "display_data"
    }
   ],
   "source": [
    "plt.hist(np.asarray(lift))\n",
    "plt.xlabel('EMD')\n",
    "plt.ylabel('Frequency')\n",
    "plt.title('Lift')\n",
    "plt.yscale(\"log\")"
   ]
  },
  {
   "cell_type": "code",
   "execution_count": null,
   "id": "93d5b29e-f2de-40ce-8b73-e025a3f16428",
   "metadata": {},
   "outputs": [],
   "source": []
  }
 ],
 "metadata": {
  "kernelspec": {
   "display_name": "Python 3 (ipykernel)",
   "language": "python",
   "name": "python3"
  },
  "language_info": {
   "codemirror_mode": {
    "name": "ipython",
    "version": 3
   },
   "file_extension": ".py",
   "mimetype": "text/x-python",
   "name": "python",
   "nbconvert_exporter": "python",
   "pygments_lexer": "ipython3",
   "version": "3.11.3"
  }
 },
 "nbformat": 4,
 "nbformat_minor": 5
}
