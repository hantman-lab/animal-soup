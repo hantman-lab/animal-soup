{
 "cells": [
  {
   "cell_type": "markdown",
   "id": "b5b4a493-f2f6-4253-bb75-151f7a4acb7d",
   "metadata": {},
   "source": [
    "### Notebook for exporting predicted labels from DEG "
   ]
  },
  {
   "cell_type": "code",
   "execution_count": 1,
   "id": "7c05ab1f-4d0d-45ec-92df-1530dff845ea",
   "metadata": {
    "tags": []
   },
   "outputs": [],
   "source": [
    "import pandas as pd\n",
    "import numpy as np\n",
    "from pathlib import Path\n",
    "import h5py\n",
    "from tqdm import tqdm"
   ]
  },
  {
   "cell_type": "code",
   "execution_count": 15,
   "id": "e9f3b309-a16d-417d-b318-88e42f324ddf",
   "metadata": {
    "tags": []
   },
   "outputs": [
    {
     "data": {
      "text/plain": [
       "'M232_20170306_v043'"
      ]
     },
     "execution_count": 15,
     "metadata": {},
     "output_type": "execute_result"
    }
   ],
   "source": [
    "trial_ids[0]"
   ]
  },
  {
   "cell_type": "code",
   "execution_count": 2,
   "id": "a9e775e8-9dd4-45cc-b260-d1b3bdcd664e",
   "metadata": {
    "tags": []
   },
   "outputs": [],
   "source": [
    "test_data = sorted(Path('/data/caitlin/cross_validation/k2/test_vids/').glob('*.avi'))\n",
    "trial_ids = [a.stem for a in test_data]"
   ]
  },
  {
   "cell_type": "code",
   "execution_count": 3,
   "id": "0eae2e99-0549-462c-abff-e9475b6e78be",
   "metadata": {
    "tags": []
   },
   "outputs": [],
   "source": [
    "data_path = Path('/data/caitlin/cross_validation/k2/k2_deg/DATA/')"
   ]
  },
  {
   "cell_type": "code",
   "execution_count": 4,
   "id": "6bdcbf4b-fded-4224-a7fb-c102193d25a7",
   "metadata": {
    "tags": []
   },
   "outputs": [],
   "source": [
    "def get_prediction_probabilities(trial_id):\n",
    "    filename = data_path.joinpath(trial_id,trial_id).with_name(f'{trial_id}_outputs').with_suffix('.h5')\n",
    "    with h5py.File(filename, \"r\") as f:\n",
    "        keys = list(f.keys())\n",
    "\n",
    "        prediction_model_name = keys[1]\n",
    "\n",
    "        probabilities = f[prediction_model_name]['P'][:]\n",
    "\n",
    "        # want to set negative probabilities to 0\n",
    "        negative_probabilities = np.sum(probabilities < 0)\n",
    "        if negative_probabilities > 0:\n",
    "            probabilities[probabilities < 0] = 0\n",
    "\n",
    "        thresholds = f[prediction_model_name]['thresholds'][:]\n",
    "        if thresholds.ndim == 2:\n",
    "            # this should not happen\n",
    "            thresholds = thresholds[-1, :]\n",
    "        loaded_class_names = f[prediction_model_name]['class_names'][:]\n",
    "        if type(loaded_class_names[0]) == bytes:\n",
    "            loaded_class_names = [i.decode('utf-8') for i in loaded_class_names]\n",
    "        \n",
    "        f.close()\n",
    "\n",
    "    return probabilities, thresholds, prediction_model_name, keys"
   ]
  },
  {
   "cell_type": "code",
   "execution_count": 5,
   "id": "f53a133f-2063-4dd4-91da-45f9b49e3d68",
   "metadata": {
    "tags": []
   },
   "outputs": [],
   "source": [
    "def find_bout_indices(predictions_trace: np.ndarray,\n",
    "                      bout_length: int,\n",
    "                      positive: bool = True,\n",
    "                      eps: float = 1e-6) -> np.ndarray:\n",
    "    # make a filter for convolution that will be 1 at that bout center\n",
    "    center = np.ones(bout_length) / bout_length\n",
    "    filt = np.concatenate([[-bout_length / 2], center, [-bout_length / 2]])\n",
    "    if not positive:\n",
    "        predictions_trace = np.logical_not(predictions_trace.copy()).astype(int)\n",
    "    out = np.convolve(predictions_trace, filt, mode='same')\n",
    "    # precision issues: using == 1 here has false negatives in case where out = 0.99999999998 or something\n",
    "    indices = np.where(np.abs(out - 1) < eps)[0]\n",
    "    if len(indices) == 0:\n",
    "        return np.array([]).astype(int)\n",
    "    # if even, this corresponds to the center + 0.5 frame in the bout\n",
    "    # if odd, this corresponds to the center frame of the bout\n",
    "    # we want indices to contain the entire bout, not just the center frame\n",
    "    if bout_length % 2:\n",
    "        expanded = np.concatenate([np.array(range(i - bout_length // 2, i + bout_length // 2 + 1)) for i in indices])\n",
    "    else:\n",
    "        expanded = np.concatenate([np.array(range(i - bout_length // 2, i + bout_length // 2)) for i in indices])\n",
    "    return expanded"
   ]
  },
  {
   "cell_type": "code",
   "execution_count": 6,
   "id": "7a4d57b9-26dc-4e36-9d8a-70e26043dc0d",
   "metadata": {
    "tags": []
   },
   "outputs": [],
   "source": [
    "def export_predictions(trial_id):\n",
    "    # get estimated labels\n",
    "    probabilities, thresholds, prediction_model_name, keys = get_prediction_probabilities(trial_id)\n",
    "    bout_length = 1\n",
    "    predictions = (probabilities > thresholds).astype(int)\n",
    "    T, K = predictions.shape\n",
    "    for k in range(K):\n",
    "        predictions_trace = predictions[:, k]\n",
    "        for bout_len in range(1, bout_length + 1):\n",
    "            # first, remove \"false negatives\", like filling in gaps in true behavior bouts\n",
    "            short_neg_indices = find_bout_indices(predictions_trace, bout_len, positive=False)\n",
    "            predictions_trace[short_neg_indices] = 1\n",
    "            # then remove \"false positives\", very short \"1\" bouts\n",
    "            short_pos_indices = find_bout_indices(predictions_trace, bout_len)\n",
    "            predictions_trace[short_pos_indices] = 0\n",
    "        predictions[:, k] = predictions_trace\n",
    "    df = pd.DataFrame(data=predictions, columns=[\"background\", \"lift\", \"handopen\", \"grab\", \"sup\", \"atmouth\", \"chew\"])\n",
    "    prediction_fname = data_path.joinpath(trial_id,trial_id).with_name(f'{trial_id}_predictions.csv')\n",
    "    df.to_csv(prediction_fname)"
   ]
  },
  {
   "cell_type": "code",
   "execution_count": 7,
   "id": "d39c0d4a-4fcb-47d2-a408-b6bbe8b88cdc",
   "metadata": {
    "tags": []
   },
   "outputs": [
    {
     "name": "stderr",
     "output_type": "stream",
     "text": [
      "100%|████████████████████████████████████████████████████████████████████████████| 300/300 [00:01<00:00, 267.57it/s]\n"
     ]
    }
   ],
   "source": [
    "for trial_id in tqdm(trial_ids):\n",
    "    export_predictions(trial_id)"
   ]
  },
  {
   "cell_type": "code",
   "execution_count": null,
   "id": "d9a2e8d7-567e-4a87-a044-2e90f884150d",
   "metadata": {},
   "outputs": [],
   "source": []
  }
 ],
 "metadata": {
  "kernelspec": {
   "display_name": "Python 3 (ipykernel)",
   "language": "python",
   "name": "python3"
  },
  "language_info": {
   "codemirror_mode": {
    "name": "ipython",
    "version": 3
   },
   "file_extension": ".py",
   "mimetype": "text/x-python",
   "name": "python",
   "nbconvert_exporter": "python",
   "pygments_lexer": "ipython3",
   "version": "3.11.3"
  }
 },
 "nbformat": 4,
 "nbformat_minor": 5
}
