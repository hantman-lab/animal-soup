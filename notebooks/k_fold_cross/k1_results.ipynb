{
 "cells": [
  {
   "cell_type": "code",
   "execution_count": 1,
   "id": "9699c465-4f3f-4a2b-a4f8-3547220f9ebf",
   "metadata": {
    "tags": []
   },
   "outputs": [
    {
     "name": "stderr",
     "output_type": "stream",
     "text": [
      "2023-07-08 06:38:09.479288: I tensorflow/core/platform/cpu_feature_guard.cc:182] This TensorFlow binary is optimized to use available CPU instructions in performance-critical operations.\n",
      "To enable the following instructions: AVX2 FMA, in other operations, rebuild TensorFlow with the appropriate compiler flags.\n",
      "2023-07-08 06:38:09.927669: W tensorflow/compiler/tf2tensorrt/utils/py_utils.cc:38] TF-TRT Warning: Could not find TensorRT\n",
      "/home/clewis7/repos/animal-soup/animal_soup/batch_utils.py:148: UserWarning: registration of accessor <class 'animal_soup.batch_utils.PathsDataFrameExtension'> under name 'paths' for type <class 'pandas.core.frame.DataFrame'> is overriding a preexisting attribute with the same name.\n",
      "  @pd.api.extensions.register_dataframe_accessor(\"paths\")\n",
      "/home/clewis7/repos/animal-soup/animal_soup/batch_utils.py:153: UserWarning: registration of accessor <class 'animal_soup.batch_utils.PathsSeriesExtension'> under name 'paths' for type <class 'pandas.core.series.Series'> is overriding a preexisting attribute with the same name.\n",
      "  @pd.api.extensions.register_series_accessor(\"paths\")\n"
     ]
    }
   ],
   "source": [
    "from animal_soup import *\n",
    "import pandas as pd\n",
    "from pathlib import Path"
   ]
  },
  {
   "cell_type": "code",
   "execution_count": 2,
   "id": "68fe512d-7027-4a1f-93ee-8e24bc8a9ac6",
   "metadata": {
    "tags": []
   },
   "outputs": [
    {
     "data": {
      "text/plain": [
       "PosixPath('/data/caitlin/ground_truth')"
      ]
     },
     "execution_count": 2,
     "metadata": {},
     "output_type": "execute_result"
    }
   ],
   "source": [
    "set_parent_raw_data_path('/data/caitlin/ground_truth/')"
   ]
  },
  {
   "cell_type": "code",
   "execution_count": 3,
   "id": "d22e2b3e-1e3d-4441-93b4-e18cc22b62e1",
   "metadata": {
    "tags": []
   },
   "outputs": [],
   "source": [
    "df = load_df('/data/caitlin/cross_validation/k1/k1_test_final.hdf')"
   ]
  },
  {
   "cell_type": "code",
   "execution_count": 4,
   "id": "97647db0-8206-4bd4-a8f4-ac93ab41b814",
   "metadata": {
    "tags": []
   },
   "outputs": [
    {
     "name": "stderr",
     "output_type": "stream",
     "text": [
      "/home/clewis7/venvs/mescore/lib/python3.11/site-packages/ipydatagrid/datagrid.py:445: UserWarning: Index name of 'index' is not round-trippable.\n",
      "  schema = pd.io.json.build_table_schema(dataframe)\n"
     ]
    },
    {
     "data": {
      "application/vnd.jupyter.widget-view+json": {
       "model_id": "f044c59bf9204c27853e772cb544c068",
       "version_major": 2,
       "version_minor": 0
      },
      "text/plain": [
       "RFBOutputContext()"
      ]
     },
     "metadata": {},
     "output_type": "display_data"
    },
    {
     "name": "stderr",
     "output_type": "stream",
     "text": [
      "/home/clewis7/repos/mesmerize-core/mesmerize_core/arrays/_video.py:125: UserWarning: min not implemented for LazyTiff, returning min of 0th index\n",
      "  warn(\"min not implemented for LazyTiff, returning min of 0th index\")\n",
      "/home/clewis7/repos/mesmerize-core/mesmerize_core/arrays/_video.py:130: UserWarning: max not implemented for LazyTiff, returning min of 0th index\n",
      "  warn(\"max not implemented for LazyTiff, returning min of 0th index\")\n"
     ]
    },
    {
     "data": {
      "application/vnd.jupyter.widget-view+json": {
       "model_id": "390a1d7852364600b46a46b72fd1a9d4",
       "version_major": 2,
       "version_minor": 0
      },
      "text/plain": [
       "RFBOutputContext()"
      ]
     },
     "metadata": {},
     "output_type": "display_data"
    },
    {
     "data": {
      "application/vnd.jupyter.widget-view+json": {
       "model_id": "ec6b1f150f354febb7dfefabe041a857",
       "version_major": 2,
       "version_minor": 0
      },
      "text/plain": [
       "RFBOutputContext()"
      ]
     },
     "metadata": {},
     "output_type": "display_data"
    }
   ],
   "source": [
    "container = df.behavior.compare_ethograms()"
   ]
  },
  {
   "cell_type": "code",
   "execution_count": 5,
   "id": "76e647a0-c54e-4767-98a6-5fd1cec6f6c6",
   "metadata": {
    "tags": []
   },
   "outputs": [
    {
     "data": {
      "application/vnd.jupyter.widget-view+json": {
       "model_id": "be0e20dfc7a64e88a95c7b9e07403c75",
       "version_major": 2,
       "version_minor": 0
      },
      "text/plain": [
       "VBox(children=(DataGrid(auto_fit_params={'area': 'all', 'padding': 30, 'numCols': None}, base_row_size=24, col…"
      ]
     },
     "execution_count": 5,
     "metadata": {},
     "output_type": "execute_result"
    }
   ],
   "source": [
    "container.show()"
   ]
  },
  {
   "cell_type": "code",
   "execution_count": null,
   "id": "6ba6399d-89f4-4ad2-ad4c-44ae5c06d399",
   "metadata": {},
   "outputs": [],
   "source": []
  }
 ],
 "metadata": {
  "kernelspec": {
   "display_name": "Python 3 (ipykernel)",
   "language": "python",
   "name": "python3"
  },
  "language_info": {
   "codemirror_mode": {
    "name": "ipython",
    "version": 3
   },
   "file_extension": ".py",
   "mimetype": "text/x-python",
   "name": "python",
   "nbconvert_exporter": "python",
   "pygments_lexer": "ipython3",
   "version": "3.11.3"
  }
 },
 "nbformat": 4,
 "nbformat_minor": 5
}
