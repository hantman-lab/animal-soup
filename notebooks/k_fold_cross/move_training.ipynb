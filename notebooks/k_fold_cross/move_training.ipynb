{
 "cells": [
  {
   "cell_type": "code",
   "execution_count": 1,
   "id": "61a1ddfd-7ce8-42df-8ea4-00d7c2cf3e53",
   "metadata": {
    "tags": []
   },
   "outputs": [],
   "source": [
    "import pandas as pd\n",
    "import os\n",
    "import shutil\n",
    "from pathlib import Path"
   ]
  },
  {
   "cell_type": "code",
   "execution_count": 12,
   "id": "908b327d-2571-4b5c-8851-085289229426",
   "metadata": {
    "tags": []
   },
   "outputs": [],
   "source": [
    "k5_train = pd.read_hdf('/data/caitlin/cross_validation/k5/k5_train.hdf')\n",
    "k5_test = pd.read_hdf('/data/caitlin/cross_validation/k5/k5_test.hdf')"
   ]
  },
  {
   "cell_type": "code",
   "execution_count": 13,
   "id": "fad45848-2bb5-4955-bb6d-f673c1c4ccd1",
   "metadata": {
    "tags": []
   },
   "outputs": [
    {
     "data": {
      "text/html": [
       "<div>\n",
       "<style scoped>\n",
       "    .dataframe tbody tr th:only-of-type {\n",
       "        vertical-align: middle;\n",
       "    }\n",
       "\n",
       "    .dataframe tbody tr th {\n",
       "        vertical-align: top;\n",
       "    }\n",
       "\n",
       "    .dataframe thead th {\n",
       "        text-align: right;\n",
       "    }\n",
       "</style>\n",
       "<table border=\"1\" class=\"dataframe\">\n",
       "  <thead>\n",
       "    <tr style=\"text-align: right;\">\n",
       "      <th></th>\n",
       "      <th>animal_id</th>\n",
       "      <th>session_id</th>\n",
       "      <th>trial_id</th>\n",
       "      <th>ethograms</th>\n",
       "      <th>exp_type</th>\n",
       "      <th>notes</th>\n",
       "    </tr>\n",
       "  </thead>\n",
       "  <tbody>\n",
       "    <tr>\n",
       "      <th>0</th>\n",
       "      <td>M232Slc17a7_Gtacr2</td>\n",
       "      <td>20170306</td>\n",
       "      <td>M232_20170306_v017</td>\n",
       "      <td>[[0.0, 0.0, 0.0, 0.0, 0.0, 0.0, 0.0, 0.0, 0.0,...</td>\n",
       "      <td>table</td>\n",
       "      <td>None</td>\n",
       "    </tr>\n",
       "    <tr>\n",
       "      <th>1</th>\n",
       "      <td>M232Slc17a7_Gtacr2</td>\n",
       "      <td>20170306</td>\n",
       "      <td>M232_20170306_v024</td>\n",
       "      <td>[[0.0, 0.0, 0.0, 0.0, 0.0, 0.0, 0.0, 0.0, 0.0,...</td>\n",
       "      <td>table</td>\n",
       "      <td>None</td>\n",
       "    </tr>\n",
       "    <tr>\n",
       "      <th>2</th>\n",
       "      <td>M232Slc17a7_Gtacr2</td>\n",
       "      <td>20170306</td>\n",
       "      <td>M232_20170306_v025</td>\n",
       "      <td>[[0.0, 0.0, 0.0, 0.0, 0.0, 0.0, 0.0, 0.0, 0.0,...</td>\n",
       "      <td>table</td>\n",
       "      <td>None</td>\n",
       "    </tr>\n",
       "    <tr>\n",
       "      <th>3</th>\n",
       "      <td>M232Slc17a7_Gtacr2</td>\n",
       "      <td>20170306</td>\n",
       "      <td>M232_20170306_v029</td>\n",
       "      <td>[[0.0, 0.0, 0.0, 0.0, 0.0, 0.0, 0.0, 0.0, 0.0,...</td>\n",
       "      <td>table</td>\n",
       "      <td>None</td>\n",
       "    </tr>\n",
       "    <tr>\n",
       "      <th>4</th>\n",
       "      <td>M232Slc17a7_Gtacr2</td>\n",
       "      <td>20170306</td>\n",
       "      <td>M232_20170306_v038</td>\n",
       "      <td>[[0.0, 0.0, 0.0, 0.0, 0.0, 0.0, 0.0, 0.0, 0.0,...</td>\n",
       "      <td>table</td>\n",
       "      <td>None</td>\n",
       "    </tr>\n",
       "    <tr>\n",
       "      <th>...</th>\n",
       "      <td>...</td>\n",
       "      <td>...</td>\n",
       "      <td>...</td>\n",
       "      <td>...</td>\n",
       "      <td>...</td>\n",
       "      <td>...</td>\n",
       "    </tr>\n",
       "    <tr>\n",
       "      <th>695</th>\n",
       "      <td>M312Slc17a7_Chr2_Bpn_CB</td>\n",
       "      <td>20200405</td>\n",
       "      <td>M312_20200405_v003</td>\n",
       "      <td>[[0, 0, 0, 0, 0, 0, 0, 0, 0, 0, 0, 0, 0, 0, 0,...</td>\n",
       "      <td>table</td>\n",
       "      <td>None</td>\n",
       "    </tr>\n",
       "    <tr>\n",
       "      <th>696</th>\n",
       "      <td>M312Slc17a7_Chr2_Bpn_CB</td>\n",
       "      <td>20200412</td>\n",
       "      <td>M312_20200412_v001</td>\n",
       "      <td>[[0, 0, 0, 0, 0, 0, 0, 0, 0, 0, 0, 0, 0, 0, 0,...</td>\n",
       "      <td>table</td>\n",
       "      <td>None</td>\n",
       "    </tr>\n",
       "    <tr>\n",
       "      <th>697</th>\n",
       "      <td>M315Slc17a7_Chr2_Bpn_CB</td>\n",
       "      <td>20200401</td>\n",
       "      <td>M315_20200401_v001</td>\n",
       "      <td>[[0, 0, 0, 0, 0, 0, 0, 0, 0, 0, 0, 0, 0, 0, 0,...</td>\n",
       "      <td>table</td>\n",
       "      <td>None</td>\n",
       "    </tr>\n",
       "    <tr>\n",
       "      <th>698</th>\n",
       "      <td>M336DYT1</td>\n",
       "      <td>20210612</td>\n",
       "      <td>M336_20210612_v001</td>\n",
       "      <td>[[0, 0, 0, 0, 0, 0, 0, 0, 0, 0, 0, 0, 0, 0, 0,...</td>\n",
       "      <td>table</td>\n",
       "      <td>None</td>\n",
       "    </tr>\n",
       "    <tr>\n",
       "      <th>699</th>\n",
       "      <td>M336DYT1</td>\n",
       "      <td>20210613</td>\n",
       "      <td>M336_20210613_v001</td>\n",
       "      <td>[[0, 0, 0, 0, 0, 0, 0, 0, 0, 0, 0, 0, 0, 0, 0,...</td>\n",
       "      <td>table</td>\n",
       "      <td>None</td>\n",
       "    </tr>\n",
       "  </tbody>\n",
       "</table>\n",
       "<p>700 rows × 6 columns</p>\n",
       "</div>"
      ],
      "text/plain": [
       "                   animal_id session_id            trial_id   \n",
       "0         M232Slc17a7_Gtacr2   20170306  M232_20170306_v017  \\\n",
       "1         M232Slc17a7_Gtacr2   20170306  M232_20170306_v024   \n",
       "2         M232Slc17a7_Gtacr2   20170306  M232_20170306_v025   \n",
       "3         M232Slc17a7_Gtacr2   20170306  M232_20170306_v029   \n",
       "4         M232Slc17a7_Gtacr2   20170306  M232_20170306_v038   \n",
       "..                       ...        ...                 ...   \n",
       "695  M312Slc17a7_Chr2_Bpn_CB   20200405  M312_20200405_v003   \n",
       "696  M312Slc17a7_Chr2_Bpn_CB   20200412  M312_20200412_v001   \n",
       "697  M315Slc17a7_Chr2_Bpn_CB   20200401  M315_20200401_v001   \n",
       "698                 M336DYT1   20210612  M336_20210612_v001   \n",
       "699                 M336DYT1   20210613  M336_20210613_v001   \n",
       "\n",
       "                                             ethograms exp_type notes  \n",
       "0    [[0.0, 0.0, 0.0, 0.0, 0.0, 0.0, 0.0, 0.0, 0.0,...    table  None  \n",
       "1    [[0.0, 0.0, 0.0, 0.0, 0.0, 0.0, 0.0, 0.0, 0.0,...    table  None  \n",
       "2    [[0.0, 0.0, 0.0, 0.0, 0.0, 0.0, 0.0, 0.0, 0.0,...    table  None  \n",
       "3    [[0.0, 0.0, 0.0, 0.0, 0.0, 0.0, 0.0, 0.0, 0.0,...    table  None  \n",
       "4    [[0.0, 0.0, 0.0, 0.0, 0.0, 0.0, 0.0, 0.0, 0.0,...    table  None  \n",
       "..                                                 ...      ...   ...  \n",
       "695  [[0, 0, 0, 0, 0, 0, 0, 0, 0, 0, 0, 0, 0, 0, 0,...    table  None  \n",
       "696  [[0, 0, 0, 0, 0, 0, 0, 0, 0, 0, 0, 0, 0, 0, 0,...    table  None  \n",
       "697  [[0, 0, 0, 0, 0, 0, 0, 0, 0, 0, 0, 0, 0, 0, 0,...    table  None  \n",
       "698  [[0, 0, 0, 0, 0, 0, 0, 0, 0, 0, 0, 0, 0, 0, 0,...    table  None  \n",
       "699  [[0, 0, 0, 0, 0, 0, 0, 0, 0, 0, 0, 0, 0, 0, 0,...    table  None  \n",
       "\n",
       "[700 rows x 6 columns]"
      ]
     },
     "execution_count": 13,
     "metadata": {},
     "output_type": "execute_result"
    }
   ],
   "source": [
    "k5_train"
   ]
  },
  {
   "cell_type": "code",
   "execution_count": 14,
   "id": "77e90062-094b-4a5f-b853-055853dc9df9",
   "metadata": {
    "tags": []
   },
   "outputs": [
    {
     "data": {
      "text/plain": [
       "'/data/caitlin/cross_validation/k5/train_vids/'"
      ]
     },
     "execution_count": 14,
     "metadata": {},
     "output_type": "execute_result"
    }
   ],
   "source": [
    "shutil.move('/data/caitlin/cross_validation/k4/train_vids/', '/data/caitlin/cross_validation/k5/train_vids/')"
   ]
  },
  {
   "cell_type": "code",
   "execution_count": 15,
   "id": "f6b5f9c5-df75-4a43-984b-0dea1abc32c1",
   "metadata": {
    "tags": []
   },
   "outputs": [],
   "source": [
    "os.makedirs('/data/caitlin/cross_validation/k5/test_vids/')"
   ]
  },
  {
   "cell_type": "code",
   "execution_count": 16,
   "id": "afa0d27c-a9d1-42fe-9704-ebead1d53f16",
   "metadata": {
    "tags": []
   },
   "outputs": [],
   "source": [
    "dp = Path('/data/caitlin/cross_validation/k5/train_vids/')\n",
    "dst = Path('/data/caitlin/cross_validation/k5/test_vids/')\n",
    "gp = Path('/data/caitlin/ground_truth/')"
   ]
  },
  {
   "cell_type": "code",
   "execution_count": 17,
   "id": "f4bac80d-af70-42f3-ba2a-188a637588bd",
   "metadata": {
    "tags": []
   },
   "outputs": [],
   "source": [
    "for ix, row in k5_test.iterrows():\n",
    "    # if not os.path.exists(dst.joinpath(row[\"trial_id\"]).with_suffix('.avi')):\n",
    "    #     print(row)\n",
    "    if os.path.exists(dp.joinpath(row[\"trial_id\"]).with_suffix('.avi')):\n",
    "        shutil.move(dp.joinpath(row[\"trial_id\"]).with_suffix('.avi'), dst.joinpath(row[\"trial_id\"]).with_suffix('.avi'))\n",
    "    else:\n",
    "        shutil.copy(src=gp.joinpath(row[\"animal_id\"], row[\"session_id\"], row[\"trial_id\"]).with_suffix('.avi'), \n",
    "                    dst= dst.joinpath(row[\"trial_id\"]).with_suffix('.avi'))"
   ]
  },
  {
   "cell_type": "code",
   "execution_count": 18,
   "id": "7ae58a03-1db6-4037-a62b-81311d862583",
   "metadata": {
    "tags": []
   },
   "outputs": [],
   "source": [
    "for ix, row in k5_train.iterrows():\n",
    "    if not os.path.exists(dp.joinpath(row[\"trial_id\"]).with_suffix('.avi')):\n",
    "    #     print(row)\n",
    "         shutil.copy(src=gp.joinpath(row[\"animal_id\"], row[\"session_id\"], row[\"trial_id\"]).with_suffix('.avi'), \n",
    "                    dst= dp.joinpath(row[\"trial_id\"]).with_suffix('.avi'))"
   ]
  },
  {
   "cell_type": "code",
   "execution_count": null,
   "id": "96d3f126-4abd-4849-a8b3-c7c486afd14f",
   "metadata": {},
   "outputs": [],
   "source": []
  }
 ],
 "metadata": {
  "kernelspec": {
   "display_name": "Python 3 (ipykernel)",
   "language": "python",
   "name": "python3"
  },
  "language_info": {
   "codemirror_mode": {
    "name": "ipython",
    "version": 3
   },
   "file_extension": ".py",
   "mimetype": "text/x-python",
   "name": "python",
   "nbconvert_exporter": "python",
   "pygments_lexer": "ipython3",
   "version": "3.11.3"
  }
 },
 "nbformat": 4,
 "nbformat_minor": 5
}
