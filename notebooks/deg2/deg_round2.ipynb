{
 "cells": [
  {
   "cell_type": "code",
   "execution_count": 18,
   "id": "5597c07b-2d7b-4207-811c-1f37f90faceb",
   "metadata": {
    "tags": []
   },
   "outputs": [],
   "source": [
    "import pandas as pd\n",
    "import os\n",
    "import shutil\n",
    "from pathlib import Path\n",
    "import numpy as np"
   ]
  },
  {
   "cell_type": "code",
   "execution_count": 3,
   "id": "78b69a11-fd5a-4e2d-afe7-16d59bceed08",
   "metadata": {
    "tags": []
   },
   "outputs": [],
   "source": [
    "ground = pd.read_hdf('/data/caitlin/ground_truth/ground_truth_444.hdf')"
   ]
  },
  {
   "cell_type": "code",
   "execution_count": 4,
   "id": "da1e0bac-41a4-43a8-8f77-442ffc402813",
   "metadata": {
    "tags": []
   },
   "outputs": [],
   "source": [
    "only_table = ground[ground[\"type\"] == \"table\"]"
   ]
  },
  {
   "cell_type": "code",
   "execution_count": 5,
   "id": "e53d068c-d5a9-47a0-8e7a-dced481b7701",
   "metadata": {
    "tags": []
   },
   "outputs": [
    {
     "data": {
      "text/html": [
       "<div>\n",
       "<style scoped>\n",
       "    .dataframe tbody tr th:only-of-type {\n",
       "        vertical-align: middle;\n",
       "    }\n",
       "\n",
       "    .dataframe tbody tr th {\n",
       "        vertical-align: top;\n",
       "    }\n",
       "\n",
       "    .dataframe thead th {\n",
       "        text-align: right;\n",
       "    }\n",
       "</style>\n",
       "<table border=\"1\" class=\"dataframe\">\n",
       "  <thead>\n",
       "    <tr style=\"text-align: right;\">\n",
       "      <th></th>\n",
       "      <th>animal_id</th>\n",
       "      <th>session_id</th>\n",
       "      <th>ethograms</th>\n",
       "      <th>type</th>\n",
       "      <th>notes</th>\n",
       "    </tr>\n",
       "  </thead>\n",
       "  <tbody>\n",
       "    <tr>\n",
       "      <th>0</th>\n",
       "      <td>M232Slc17a7_Gtacr2</td>\n",
       "      <td>20170314</td>\n",
       "      <td>{'M232_20170314_v029': [[0.0, 0.0, 0.0, 0.0, 0...</td>\n",
       "      <td>table</td>\n",
       "      <td>[]</td>\n",
       "    </tr>\n",
       "    <tr>\n",
       "      <th>1</th>\n",
       "      <td>M232Slc17a7_Gtacr2</td>\n",
       "      <td>20170307</td>\n",
       "      <td>{'M232_20170307_v064': [[0.0, 0.0, 0.0, 0.0, 0...</td>\n",
       "      <td>table</td>\n",
       "      <td>[]</td>\n",
       "    </tr>\n",
       "    <tr>\n",
       "      <th>2</th>\n",
       "      <td>M232Slc17a7_Gtacr2</td>\n",
       "      <td>20170306</td>\n",
       "      <td>{'M232_20170306_v074': [[0.0, 0.0, 0.0, 0.0, 0...</td>\n",
       "      <td>table</td>\n",
       "      <td>[]</td>\n",
       "    </tr>\n",
       "    <tr>\n",
       "      <th>3</th>\n",
       "      <td>M232Slc17a7_Gtacr2</td>\n",
       "      <td>20170308</td>\n",
       "      <td>{'M232_20170308_v034': [[0.0, 0.0, 0.0, 0.0, 0...</td>\n",
       "      <td>table</td>\n",
       "      <td>[]</td>\n",
       "    </tr>\n",
       "    <tr>\n",
       "      <th>4</th>\n",
       "      <td>M232Slc17a7_Gtacr2</td>\n",
       "      <td>20170310</td>\n",
       "      <td>{'M232_20170310_v013': [[0, 0, 0, 0, 0, 0, 0, ...</td>\n",
       "      <td>table</td>\n",
       "      <td>[]</td>\n",
       "    </tr>\n",
       "    <tr>\n",
       "      <th>...</th>\n",
       "      <td>...</td>\n",
       "      <td>...</td>\n",
       "      <td>...</td>\n",
       "      <td>...</td>\n",
       "      <td>...</td>\n",
       "    </tr>\n",
       "    <tr>\n",
       "      <th>145</th>\n",
       "      <td>M304Slc17a7_Chr2_Bpn_DCN</td>\n",
       "      <td>20191217</td>\n",
       "      <td>{'M304_20191217_v005': [[0.0, 0.0, 0.0, 0.0, 0...</td>\n",
       "      <td>table</td>\n",
       "      <td>[]</td>\n",
       "    </tr>\n",
       "    <tr>\n",
       "      <th>146</th>\n",
       "      <td>M311Slc17a7_Chr2_Bpn_CB</td>\n",
       "      <td>20200331</td>\n",
       "      <td>{'M311_20200331_v013': [[0.0, 0.0, 0.0, 0.0, 0...</td>\n",
       "      <td>table</td>\n",
       "      <td>[]</td>\n",
       "    </tr>\n",
       "    <tr>\n",
       "      <th>147</th>\n",
       "      <td>M311Slc17a7_Chr2_Bpn_CB</td>\n",
       "      <td>20200403</td>\n",
       "      <td>{'M311_20200403_v008': [[0.0, 0.0, 0.0, 0.0, 0...</td>\n",
       "      <td>table</td>\n",
       "      <td>[]</td>\n",
       "    </tr>\n",
       "    <tr>\n",
       "      <th>149</th>\n",
       "      <td>M236Slc17a7_Gtacr2</td>\n",
       "      <td>20170818</td>\n",
       "      <td>{'M236_20170818_v042': [[0.0, 0.0, 0.0, 0.0, 0...</td>\n",
       "      <td>table</td>\n",
       "      <td>[]</td>\n",
       "    </tr>\n",
       "    <tr>\n",
       "      <th>150</th>\n",
       "      <td>M238Slc17a7_Chr2</td>\n",
       "      <td>20170717</td>\n",
       "      <td>{'M238_20170717_v066': [[0.0, 0.0, 0.0, 0.0, 0...</td>\n",
       "      <td>table</td>\n",
       "      <td>[]</td>\n",
       "    </tr>\n",
       "  </tbody>\n",
       "</table>\n",
       "<p>133 rows × 5 columns</p>\n",
       "</div>"
      ],
      "text/plain": [
       "                    animal_id session_id   \n",
       "0          M232Slc17a7_Gtacr2   20170314  \\\n",
       "1          M232Slc17a7_Gtacr2   20170307   \n",
       "2          M232Slc17a7_Gtacr2   20170306   \n",
       "3          M232Slc17a7_Gtacr2   20170308   \n",
       "4          M232Slc17a7_Gtacr2   20170310   \n",
       "..                        ...        ...   \n",
       "145  M304Slc17a7_Chr2_Bpn_DCN   20191217   \n",
       "146   M311Slc17a7_Chr2_Bpn_CB   20200331   \n",
       "147   M311Slc17a7_Chr2_Bpn_CB   20200403   \n",
       "149        M236Slc17a7_Gtacr2   20170818   \n",
       "150          M238Slc17a7_Chr2   20170717   \n",
       "\n",
       "                                             ethograms   type notes  \n",
       "0    {'M232_20170314_v029': [[0.0, 0.0, 0.0, 0.0, 0...  table    []  \n",
       "1    {'M232_20170307_v064': [[0.0, 0.0, 0.0, 0.0, 0...  table    []  \n",
       "2    {'M232_20170306_v074': [[0.0, 0.0, 0.0, 0.0, 0...  table    []  \n",
       "3    {'M232_20170308_v034': [[0.0, 0.0, 0.0, 0.0, 0...  table    []  \n",
       "4    {'M232_20170310_v013': [[0, 0, 0, 0, 0, 0, 0, ...  table    []  \n",
       "..                                                 ...    ...   ...  \n",
       "145  {'M304_20191217_v005': [[0.0, 0.0, 0.0, 0.0, 0...  table    []  \n",
       "146  {'M311_20200331_v013': [[0.0, 0.0, 0.0, 0.0, 0...  table    []  \n",
       "147  {'M311_20200403_v008': [[0.0, 0.0, 0.0, 0.0, 0...  table    []  \n",
       "149  {'M236_20170818_v042': [[0.0, 0.0, 0.0, 0.0, 0...  table    []  \n",
       "150  {'M238_20170717_v066': [[0.0, 0.0, 0.0, 0.0, 0...  table    []  \n",
       "\n",
       "[133 rows x 5 columns]"
      ]
     },
     "execution_count": 5,
     "metadata": {},
     "output_type": "execute_result"
    }
   ],
   "source": [
    "only_table"
   ]
  },
  {
   "cell_type": "code",
   "execution_count": 6,
   "id": "5f11098c-f90e-4bb0-a50b-5e329d53ecca",
   "metadata": {
    "tags": []
   },
   "outputs": [
    {
     "data": {
      "text/plain": [
       "404"
      ]
     },
     "execution_count": 6,
     "metadata": {},
     "output_type": "execute_result"
    }
   ],
   "source": [
    "count = 0\n",
    "for row in only_table.iterrows():\n",
    "    for key in row[1][\"ethograms\"]:\n",
    "        count += 1\n",
    "count"
   ]
  },
  {
   "cell_type": "code",
   "execution_count": 12,
   "id": "c448b3eb-6a8c-4e4d-bcbb-b5c366ca5ad3",
   "metadata": {
    "tags": []
   },
   "outputs": [],
   "source": [
    "src = Path('/data/caitlin/ground_truth/')\n",
    "dst = Path('/data/caitlin/deg-clean-jaaba/DATA/')"
   ]
  },
  {
   "cell_type": "code",
   "execution_count": 16,
   "id": "b42bf8c7-ee6c-4f17-9521-9544b3642f76",
   "metadata": {
    "tags": []
   },
   "outputs": [],
   "source": [
    "# for row in only_table.iterrows():\n",
    "#     animal_id = row[1][\"animal_id\"]\n",
    "#     session_id = row[1][\"session_id\"]\n",
    "#     for key in row[1][\"ethograms\"].keys():\n",
    "#         os.makedirs(dst.joinpath(key))\n",
    "#         shutil.copy(src=src.joinpath(animal_id, session_id, key).with_suffix('.avi'), dst=dst.joinpath(key, key).with_suffix('.avi'))"
   ]
  },
  {
   "cell_type": "code",
   "execution_count": null,
   "id": "e61978b3-45a1-4340-be9d-13d93bd048f2",
   "metadata": {},
   "outputs": [],
   "source": []
  },
  {
   "cell_type": "code",
   "execution_count": 19,
   "id": "57420156-0654-4e2e-972c-c085354328e7",
   "metadata": {
    "tags": []
   },
   "outputs": [],
   "source": [
    "from tqdm import tqdm"
   ]
  },
  {
   "cell_type": "code",
   "execution_count": 26,
   "id": "dbd983fc-cea3-42e6-943b-952ad4c5c462",
   "metadata": {
    "tags": []
   },
   "outputs": [],
   "source": [
    "for row in only_table.iterrows():\n",
    "    animal_id = row[1][\"animal_id\"]\n",
    "    session_id = row[1][\"session_id\"]\n",
    "    etho_df = pd.DataFrame(columns=[\"background\",\"lift\", \"handopen\", \"grab\", \"sup\", \"atmouth\", \"chew\"])\n",
    "    for key in row[1][\"ethograms\"].keys():\n",
    "        for b in row[1][\"ethograms\"][key].T:\n",
    "            if sum(b) > 0:\n",
    "                background = 0\n",
    "            else:\n",
    "                background = 1\n",
    "            b = np.insert(b, 0, background)\n",
    "            etho_df.loc[etho_df.index.size] = b\n",
    "        path = dst.joinpath(key, key).with_name(f'{key}_labels').with_suffix('.csv')\n",
    "        etho_df.to_csv(path_or_buf=path)"
   ]
  }
 ],
 "metadata": {
  "kernelspec": {
   "display_name": "Python 3 (ipykernel)",
   "language": "python",
   "name": "python3"
  },
  "language_info": {
   "codemirror_mode": {
    "name": "ipython",
    "version": 3
   },
   "file_extension": ".py",
   "mimetype": "text/x-python",
   "name": "python",
   "nbconvert_exporter": "python",
   "pygments_lexer": "ipython3",
   "version": "3.11.3"
  }
 },
 "nbformat": 4,
 "nbformat_minor": 5
}
