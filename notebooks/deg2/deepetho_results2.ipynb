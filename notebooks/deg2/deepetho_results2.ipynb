{
 "cells": [
  {
   "cell_type": "code",
   "execution_count": 1,
   "id": "d2ec758b-c85c-4171-ac04-da831ec15766",
   "metadata": {
    "tags": []
   },
   "outputs": [
    {
     "name": "stderr",
     "output_type": "stream",
     "text": [
      "2023-06-26 16:14:02.549591: I tensorflow/core/platform/cpu_feature_guard.cc:182] This TensorFlow binary is optimized to use available CPU instructions in performance-critical operations.\n",
      "To enable the following instructions: AVX2 FMA, in other operations, rebuild TensorFlow with the appropriate compiler flags.\n",
      "2023-06-26 16:14:03.165679: W tensorflow/compiler/tf2tensorrt/utils/py_utils.cc:38] TF-TRT Warning: Could not find TensorRT\n",
      "/home/clewis7/repos/animal-soup/animal_soup/batch_utils.py:148: UserWarning: registration of accessor <class 'animal_soup.batch_utils.PathsDataFrameExtension'> under name 'paths' for type <class 'pandas.core.frame.DataFrame'> is overriding a preexisting attribute with the same name.\n",
      "  @pd.api.extensions.register_dataframe_accessor(\"paths\")\n",
      "/home/clewis7/repos/animal-soup/animal_soup/batch_utils.py:153: UserWarning: registration of accessor <class 'animal_soup.batch_utils.PathsSeriesExtension'> under name 'paths' for type <class 'pandas.core.series.Series'> is overriding a preexisting attribute with the same name.\n",
      "  @pd.api.extensions.register_series_accessor(\"paths\")\n"
     ]
    }
   ],
   "source": [
    "import pandas as pd\n",
    "from pathlib import Path\n",
    "import os\n",
    "from animal_soup import *\n",
    "import numpy as np\n",
    "from tqdm import tqdm\n",
    "from cv2 import EMD, DIST_L2"
   ]
  },
  {
   "cell_type": "code",
   "execution_count": 2,
   "id": "e6fb916a-98fb-4440-8a06-a702a29126cb",
   "metadata": {
    "tags": []
   },
   "outputs": [
    {
     "data": {
      "text/plain": [
       "PosixPath('/data/caitlin/deg_test')"
      ]
     },
     "execution_count": 2,
     "metadata": {},
     "output_type": "execute_result"
    }
   ],
   "source": [
    "set_parent_raw_data_path('/data/caitlin/deg_test/')"
   ]
  },
  {
   "cell_type": "code",
   "execution_count": 3,
   "id": "43f8823e-417f-40bf-9f06-1c24d3cad6c8",
   "metadata": {
    "tags": []
   },
   "outputs": [],
   "source": [
    "df_path = get_parent_raw_data_path().joinpath('test_deg_preds.hdf')"
   ]
  },
  {
   "cell_type": "code",
   "execution_count": 4,
   "id": "6a42848d-1b0e-4a68-9230-92dec3edb38b",
   "metadata": {
    "tags": []
   },
   "outputs": [],
   "source": [
    "df = load_df(df_path)"
   ]
  },
  {
   "cell_type": "code",
   "execution_count": 5,
   "id": "93c64311-39fe-4073-a283-88d1f7946cbf",
   "metadata": {
    "tags": []
   },
   "outputs": [
    {
     "data": {
      "text/html": [
       "<div>\n",
       "<style scoped>\n",
       "    .dataframe tbody tr th:only-of-type {\n",
       "        vertical-align: middle;\n",
       "    }\n",
       "\n",
       "    .dataframe tbody tr th {\n",
       "        vertical-align: top;\n",
       "    }\n",
       "\n",
       "    .dataframe thead th {\n",
       "        text-align: right;\n",
       "    }\n",
       "</style>\n",
       "<table border=\"1\" class=\"dataframe\">\n",
       "  <thead>\n",
       "    <tr style=\"text-align: right;\">\n",
       "      <th></th>\n",
       "      <th>animal_id</th>\n",
       "      <th>session_id</th>\n",
       "      <th>ethograms</th>\n",
       "      <th>deg_preds</th>\n",
       "      <th>type</th>\n",
       "      <th>notes</th>\n",
       "    </tr>\n",
       "  </thead>\n",
       "  <tbody>\n",
       "    <tr>\n",
       "      <th>0</th>\n",
       "      <td>M232Slc17a7_Gtacr2</td>\n",
       "      <td>20170306</td>\n",
       "      <td>{'M232_20170306_v029': [[0.0, 0.0, 0.0, 0.0, 0...</td>\n",
       "      <td>{'M232_20170306_v029': [[0, 0, 0, 0, 0, 0, 0, ...</td>\n",
       "      <td>table</td>\n",
       "      <td>None</td>\n",
       "    </tr>\n",
       "    <tr>\n",
       "      <th>1</th>\n",
       "      <td>M232Slc17a7_Gtacr2</td>\n",
       "      <td>20170307</td>\n",
       "      <td>{'M232_20170307_v022': [[0.0, 0.0, 0.0, 0.0, 0...</td>\n",
       "      <td>{'M232_20170307_v022': [[0, 0, 0, 0, 0, 0, 0, ...</td>\n",
       "      <td>table</td>\n",
       "      <td>None</td>\n",
       "    </tr>\n",
       "    <tr>\n",
       "      <th>2</th>\n",
       "      <td>M232Slc17a7_Gtacr2</td>\n",
       "      <td>20170308</td>\n",
       "      <td>{'M232_20170308_v020': [[0.0, 0.0, 0.0, 0.0, 0...</td>\n",
       "      <td>{'M232_20170308_v020': [[0, 0, 0, 0, 0, 0, 0, ...</td>\n",
       "      <td>table</td>\n",
       "      <td>None</td>\n",
       "    </tr>\n",
       "    <tr>\n",
       "      <th>3</th>\n",
       "      <td>M232Slc17a7_Gtacr2</td>\n",
       "      <td>20170310</td>\n",
       "      <td>{'M232_20170310_v055': [[0.0, 0.0, 0.0, 0.0, 0...</td>\n",
       "      <td>{'M232_20170310_v055': [[0, 0, 0, 0, 0, 0, 0, ...</td>\n",
       "      <td>table</td>\n",
       "      <td>None</td>\n",
       "    </tr>\n",
       "    <tr>\n",
       "      <th>4</th>\n",
       "      <td>M232Slc17a7_Gtacr2</td>\n",
       "      <td>20170314</td>\n",
       "      <td>{'M232_20170314_v011': [[0.0, 0.0, 0.0, 0.0, 0...</td>\n",
       "      <td>{'M232_20170314_v011': [[0, 0, 0, 0, 0, 0, 0, ...</td>\n",
       "      <td>table</td>\n",
       "      <td>None</td>\n",
       "    </tr>\n",
       "    <tr>\n",
       "      <th>5</th>\n",
       "      <td>M234Slc17a7_Gtacr2</td>\n",
       "      <td>20170328</td>\n",
       "      <td>{'M234_20170328_v006': [[0.0, 0.0, 0.0, 0.0, 0...</td>\n",
       "      <td>{'M234_20170328_v006': [[0, 0, 0, 0, 0, 0, 0, ...</td>\n",
       "      <td>table</td>\n",
       "      <td>None</td>\n",
       "    </tr>\n",
       "    <tr>\n",
       "      <th>6</th>\n",
       "      <td>M234Slc17a7_Gtacr2</td>\n",
       "      <td>20170329</td>\n",
       "      <td>{'M234_20170329_v018': [[0.0, 0.0, 0.0, 0.0, 0...</td>\n",
       "      <td>{'M234_20170329_v018': [[0, 0, 0, 0, 0, 0, 0, ...</td>\n",
       "      <td>table</td>\n",
       "      <td>None</td>\n",
       "    </tr>\n",
       "    <tr>\n",
       "      <th>7</th>\n",
       "      <td>M234Slc17a7_Gtacr2</td>\n",
       "      <td>20170330</td>\n",
       "      <td>{'M234_20170330_v018': [[0.0, 0.0, 0.0, 0.0, 0...</td>\n",
       "      <td>{'M234_20170330_v018': [[0, 0, 0, 0, 0, 0, 0, ...</td>\n",
       "      <td>table</td>\n",
       "      <td>None</td>\n",
       "    </tr>\n",
       "    <tr>\n",
       "      <th>8</th>\n",
       "      <td>M234Slc17a7_Gtacr2</td>\n",
       "      <td>20170331</td>\n",
       "      <td>{'M234_20170331_v012': [[0.0, 0.0, 0.0, 0.0, 0...</td>\n",
       "      <td>{'M234_20170331_v012': [[0, 0, 0, 0, 0, 0, 0, ...</td>\n",
       "      <td>table</td>\n",
       "      <td>None</td>\n",
       "    </tr>\n",
       "    <tr>\n",
       "      <th>9</th>\n",
       "      <td>M234Slc17a7_Gtacr2</td>\n",
       "      <td>20170403</td>\n",
       "      <td>{'M234_20170403_v012': [[0.0, 0.0, 0.0, 0.0, 0...</td>\n",
       "      <td>{'M234_20170403_v012': [[0, 0, 0, 0, 0, 0, 0, ...</td>\n",
       "      <td>table</td>\n",
       "      <td>None</td>\n",
       "    </tr>\n",
       "    <tr>\n",
       "      <th>10</th>\n",
       "      <td>M234Slc17a7_Gtacr2</td>\n",
       "      <td>20170404</td>\n",
       "      <td>{'M234_20170404_v009': [[0.0, 0.0, 0.0, 0.0, 0...</td>\n",
       "      <td>{'M234_20170404_v009': [[0, 0, 0, 0, 0, 0, 0, ...</td>\n",
       "      <td>table</td>\n",
       "      <td>None</td>\n",
       "    </tr>\n",
       "    <tr>\n",
       "      <th>11</th>\n",
       "      <td>M234Slc17a7_Gtacr2</td>\n",
       "      <td>20170405</td>\n",
       "      <td>{'M234_20170405_v054': [[0.0, 0.0, 0.0, 0.0, 0...</td>\n",
       "      <td>{'M234_20170405_v054': [[0, 0, 0, 0, 0, 0, 0, ...</td>\n",
       "      <td>table</td>\n",
       "      <td>None</td>\n",
       "    </tr>\n",
       "    <tr>\n",
       "      <th>12</th>\n",
       "      <td>M234Slc17a7_Gtacr2</td>\n",
       "      <td>20170406</td>\n",
       "      <td>{'M234_20170406_v045': [[0.0, 0.0, 0.0, 0.0, 0...</td>\n",
       "      <td>{'M234_20170406_v045': [[0, 0, 0, 0, 0, 0, 0, ...</td>\n",
       "      <td>table</td>\n",
       "      <td>None</td>\n",
       "    </tr>\n",
       "    <tr>\n",
       "      <th>13</th>\n",
       "      <td>M234Slc17a7_Gtacr2</td>\n",
       "      <td>20170407</td>\n",
       "      <td>{'M234_20170407_v009': [[0.0, 0.0, 0.0, 0.0, 0...</td>\n",
       "      <td>{'M234_20170407_v009': [[0, 0, 0, 0, 0, 0, 0, ...</td>\n",
       "      <td>table</td>\n",
       "      <td>None</td>\n",
       "    </tr>\n",
       "    <tr>\n",
       "      <th>14</th>\n",
       "      <td>M234Slc17a7_Gtacr2</td>\n",
       "      <td>20170410</td>\n",
       "      <td>{'M234_20170410_v011': [[0.0, 0.0, 0.0, 0.0, 0...</td>\n",
       "      <td>{'M234_20170410_v011': [[0, 0, 0, 0, 0, 0, 0, ...</td>\n",
       "      <td>table</td>\n",
       "      <td>None</td>\n",
       "    </tr>\n",
       "    <tr>\n",
       "      <th>15</th>\n",
       "      <td>M234Slc17a7_Gtacr2</td>\n",
       "      <td>20170412</td>\n",
       "      <td>{'M234_20170412_v002': [[0.0, 0.0, 0.0, 0.0, 0...</td>\n",
       "      <td>{'M234_20170412_v002': [[0, 0, 0, 0, 0, 0, 0, ...</td>\n",
       "      <td>table</td>\n",
       "      <td>None</td>\n",
       "    </tr>\n",
       "    <tr>\n",
       "      <th>16</th>\n",
       "      <td>M234Slc17a7_Gtacr2</td>\n",
       "      <td>20170413</td>\n",
       "      <td>{'M234_20170413_v012': [[0.0, 0.0, 0.0, 0.0, 0...</td>\n",
       "      <td>{'M234_20170413_v012': [[0, 0, 0, 0, 0, 0, 0, ...</td>\n",
       "      <td>table</td>\n",
       "      <td>None</td>\n",
       "    </tr>\n",
       "    <tr>\n",
       "      <th>17</th>\n",
       "      <td>M234Slc17a7_Gtacr2</td>\n",
       "      <td>20170414</td>\n",
       "      <td>{'M234_20170414_v001': [[0.0, 0.0, 0.0, 0.0, 0...</td>\n",
       "      <td>{'M234_20170414_v001': [[0, 0, 0, 0, 0, 0, 0, ...</td>\n",
       "      <td>table</td>\n",
       "      <td>None</td>\n",
       "    </tr>\n",
       "    <tr>\n",
       "      <th>18</th>\n",
       "      <td>M234Slc17a7_Gtacr2</td>\n",
       "      <td>20170418</td>\n",
       "      <td>{'M234_20170418_v004': [[0.0, 0.0, 0.0, 0.0, 0...</td>\n",
       "      <td>{'M234_20170418_v004': [[0, 0, 0, 0, 0, 0, 0, ...</td>\n",
       "      <td>table</td>\n",
       "      <td>None</td>\n",
       "    </tr>\n",
       "    <tr>\n",
       "      <th>19</th>\n",
       "      <td>M234Slc17a7_Gtacr2</td>\n",
       "      <td>20170420</td>\n",
       "      <td>{'M234_20170420_v008': [[0.0, 0.0, 0.0, 0.0, 0...</td>\n",
       "      <td>{'M234_20170420_v008': [[0, 0, 0, 0, 0, 0, 0, ...</td>\n",
       "      <td>table</td>\n",
       "      <td>None</td>\n",
       "    </tr>\n",
       "    <tr>\n",
       "      <th>20</th>\n",
       "      <td>M234Slc17a7_Gtacr2</td>\n",
       "      <td>20170421</td>\n",
       "      <td>{'M234_20170421_v021': [[0.0, 0.0, 0.0, 0.0, 0...</td>\n",
       "      <td>{'M234_20170421_v021': [[0, 0, 0, 0, 0, 0, 0, ...</td>\n",
       "      <td>table</td>\n",
       "      <td>None</td>\n",
       "    </tr>\n",
       "    <tr>\n",
       "      <th>21</th>\n",
       "      <td>M234Slc17a7_Gtacr2</td>\n",
       "      <td>20170424</td>\n",
       "      <td>{'M234_20170424_v003': [[0.0, 0.0, 0.0, 0.0, 0...</td>\n",
       "      <td>{'M234_20170424_v003': [[0, 0, 0, 0, 0, 0, 0, ...</td>\n",
       "      <td>table</td>\n",
       "      <td>None</td>\n",
       "    </tr>\n",
       "    <tr>\n",
       "      <th>22</th>\n",
       "      <td>M234Slc17a7_Gtacr2</td>\n",
       "      <td>20170425</td>\n",
       "      <td>{'M234_20170425_v010': [[0.0, 0.0, 0.0, 0.0, 0...</td>\n",
       "      <td>{'M234_20170425_v010': [[0, 0, 0, 0, 0, 0, 0, ...</td>\n",
       "      <td>table</td>\n",
       "      <td>None</td>\n",
       "    </tr>\n",
       "    <tr>\n",
       "      <th>23</th>\n",
       "      <td>M234Slc17a7_Gtacr2</td>\n",
       "      <td>20170426</td>\n",
       "      <td>{'M234_20170426_v023': [[0.0, 0.0, 0.0, 0.0, 0...</td>\n",
       "      <td>{'M234_20170426_v023': [[0, 0, 0, 0, 0, 0, 0, ...</td>\n",
       "      <td>table</td>\n",
       "      <td>None</td>\n",
       "    </tr>\n",
       "    <tr>\n",
       "      <th>24</th>\n",
       "      <td>M234Slc17a7_Gtacr2</td>\n",
       "      <td>20170525</td>\n",
       "      <td>{'M234_20170525_v005': [[0.0, 0.0, 0.0, 0.0, 0...</td>\n",
       "      <td>{'M234_20170525_v005': [[0, 0, 0, 0, 0, 0, 0, ...</td>\n",
       "      <td>table</td>\n",
       "      <td>None</td>\n",
       "    </tr>\n",
       "    <tr>\n",
       "      <th>25</th>\n",
       "      <td>M234Slc17a7_Gtacr2</td>\n",
       "      <td>20170530</td>\n",
       "      <td>{'M234_20170530_v003': [[0.0, 0.0, 0.0, 0.0, 0...</td>\n",
       "      <td>{'M234_20170530_v003': [[0, 0, 0, 0, 0, 0, 0, ...</td>\n",
       "      <td>table</td>\n",
       "      <td>None</td>\n",
       "    </tr>\n",
       "    <tr>\n",
       "      <th>26</th>\n",
       "      <td>M234Slc17a7_Gtacr2</td>\n",
       "      <td>20170531</td>\n",
       "      <td>{'M234_20170531_v015': [[0.0, 0.0, 0.0, 0.0, 0...</td>\n",
       "      <td>{'M234_20170531_v015': [[0, 0, 0, 0, 0, 0, 0, ...</td>\n",
       "      <td>table</td>\n",
       "      <td>None</td>\n",
       "    </tr>\n",
       "  </tbody>\n",
       "</table>\n",
       "</div>"
      ],
      "text/plain": [
       "             animal_id session_id   \n",
       "0   M232Slc17a7_Gtacr2   20170306  \\\n",
       "1   M232Slc17a7_Gtacr2   20170307   \n",
       "2   M232Slc17a7_Gtacr2   20170308   \n",
       "3   M232Slc17a7_Gtacr2   20170310   \n",
       "4   M232Slc17a7_Gtacr2   20170314   \n",
       "5   M234Slc17a7_Gtacr2   20170328   \n",
       "6   M234Slc17a7_Gtacr2   20170329   \n",
       "7   M234Slc17a7_Gtacr2   20170330   \n",
       "8   M234Slc17a7_Gtacr2   20170331   \n",
       "9   M234Slc17a7_Gtacr2   20170403   \n",
       "10  M234Slc17a7_Gtacr2   20170404   \n",
       "11  M234Slc17a7_Gtacr2   20170405   \n",
       "12  M234Slc17a7_Gtacr2   20170406   \n",
       "13  M234Slc17a7_Gtacr2   20170407   \n",
       "14  M234Slc17a7_Gtacr2   20170410   \n",
       "15  M234Slc17a7_Gtacr2   20170412   \n",
       "16  M234Slc17a7_Gtacr2   20170413   \n",
       "17  M234Slc17a7_Gtacr2   20170414   \n",
       "18  M234Slc17a7_Gtacr2   20170418   \n",
       "19  M234Slc17a7_Gtacr2   20170420   \n",
       "20  M234Slc17a7_Gtacr2   20170421   \n",
       "21  M234Slc17a7_Gtacr2   20170424   \n",
       "22  M234Slc17a7_Gtacr2   20170425   \n",
       "23  M234Slc17a7_Gtacr2   20170426   \n",
       "24  M234Slc17a7_Gtacr2   20170525   \n",
       "25  M234Slc17a7_Gtacr2   20170530   \n",
       "26  M234Slc17a7_Gtacr2   20170531   \n",
       "\n",
       "                                            ethograms   \n",
       "0   {'M232_20170306_v029': [[0.0, 0.0, 0.0, 0.0, 0...  \\\n",
       "1   {'M232_20170307_v022': [[0.0, 0.0, 0.0, 0.0, 0...   \n",
       "2   {'M232_20170308_v020': [[0.0, 0.0, 0.0, 0.0, 0...   \n",
       "3   {'M232_20170310_v055': [[0.0, 0.0, 0.0, 0.0, 0...   \n",
       "4   {'M232_20170314_v011': [[0.0, 0.0, 0.0, 0.0, 0...   \n",
       "5   {'M234_20170328_v006': [[0.0, 0.0, 0.0, 0.0, 0...   \n",
       "6   {'M234_20170329_v018': [[0.0, 0.0, 0.0, 0.0, 0...   \n",
       "7   {'M234_20170330_v018': [[0.0, 0.0, 0.0, 0.0, 0...   \n",
       "8   {'M234_20170331_v012': [[0.0, 0.0, 0.0, 0.0, 0...   \n",
       "9   {'M234_20170403_v012': [[0.0, 0.0, 0.0, 0.0, 0...   \n",
       "10  {'M234_20170404_v009': [[0.0, 0.0, 0.0, 0.0, 0...   \n",
       "11  {'M234_20170405_v054': [[0.0, 0.0, 0.0, 0.0, 0...   \n",
       "12  {'M234_20170406_v045': [[0.0, 0.0, 0.0, 0.0, 0...   \n",
       "13  {'M234_20170407_v009': [[0.0, 0.0, 0.0, 0.0, 0...   \n",
       "14  {'M234_20170410_v011': [[0.0, 0.0, 0.0, 0.0, 0...   \n",
       "15  {'M234_20170412_v002': [[0.0, 0.0, 0.0, 0.0, 0...   \n",
       "16  {'M234_20170413_v012': [[0.0, 0.0, 0.0, 0.0, 0...   \n",
       "17  {'M234_20170414_v001': [[0.0, 0.0, 0.0, 0.0, 0...   \n",
       "18  {'M234_20170418_v004': [[0.0, 0.0, 0.0, 0.0, 0...   \n",
       "19  {'M234_20170420_v008': [[0.0, 0.0, 0.0, 0.0, 0...   \n",
       "20  {'M234_20170421_v021': [[0.0, 0.0, 0.0, 0.0, 0...   \n",
       "21  {'M234_20170424_v003': [[0.0, 0.0, 0.0, 0.0, 0...   \n",
       "22  {'M234_20170425_v010': [[0.0, 0.0, 0.0, 0.0, 0...   \n",
       "23  {'M234_20170426_v023': [[0.0, 0.0, 0.0, 0.0, 0...   \n",
       "24  {'M234_20170525_v005': [[0.0, 0.0, 0.0, 0.0, 0...   \n",
       "25  {'M234_20170530_v003': [[0.0, 0.0, 0.0, 0.0, 0...   \n",
       "26  {'M234_20170531_v015': [[0.0, 0.0, 0.0, 0.0, 0...   \n",
       "\n",
       "                                            deg_preds   type notes  \n",
       "0   {'M232_20170306_v029': [[0, 0, 0, 0, 0, 0, 0, ...  table  None  \n",
       "1   {'M232_20170307_v022': [[0, 0, 0, 0, 0, 0, 0, ...  table  None  \n",
       "2   {'M232_20170308_v020': [[0, 0, 0, 0, 0, 0, 0, ...  table  None  \n",
       "3   {'M232_20170310_v055': [[0, 0, 0, 0, 0, 0, 0, ...  table  None  \n",
       "4   {'M232_20170314_v011': [[0, 0, 0, 0, 0, 0, 0, ...  table  None  \n",
       "5   {'M234_20170328_v006': [[0, 0, 0, 0, 0, 0, 0, ...  table  None  \n",
       "6   {'M234_20170329_v018': [[0, 0, 0, 0, 0, 0, 0, ...  table  None  \n",
       "7   {'M234_20170330_v018': [[0, 0, 0, 0, 0, 0, 0, ...  table  None  \n",
       "8   {'M234_20170331_v012': [[0, 0, 0, 0, 0, 0, 0, ...  table  None  \n",
       "9   {'M234_20170403_v012': [[0, 0, 0, 0, 0, 0, 0, ...  table  None  \n",
       "10  {'M234_20170404_v009': [[0, 0, 0, 0, 0, 0, 0, ...  table  None  \n",
       "11  {'M234_20170405_v054': [[0, 0, 0, 0, 0, 0, 0, ...  table  None  \n",
       "12  {'M234_20170406_v045': [[0, 0, 0, 0, 0, 0, 0, ...  table  None  \n",
       "13  {'M234_20170407_v009': [[0, 0, 0, 0, 0, 0, 0, ...  table  None  \n",
       "14  {'M234_20170410_v011': [[0, 0, 0, 0, 0, 0, 0, ...  table  None  \n",
       "15  {'M234_20170412_v002': [[0, 0, 0, 0, 0, 0, 0, ...  table  None  \n",
       "16  {'M234_20170413_v012': [[0, 0, 0, 0, 0, 0, 0, ...  table  None  \n",
       "17  {'M234_20170414_v001': [[0, 0, 0, 0, 0, 0, 0, ...  table  None  \n",
       "18  {'M234_20170418_v004': [[0, 0, 0, 0, 0, 0, 0, ...  table  None  \n",
       "19  {'M234_20170420_v008': [[0, 0, 0, 0, 0, 0, 0, ...  table  None  \n",
       "20  {'M234_20170421_v021': [[0, 0, 0, 0, 0, 0, 0, ...  table  None  \n",
       "21  {'M234_20170424_v003': [[0, 0, 0, 0, 0, 0, 0, ...  table  None  \n",
       "22  {'M234_20170425_v010': [[0, 0, 0, 0, 0, 0, 0, ...  table  None  \n",
       "23  {'M234_20170426_v023': [[0, 0, 0, 0, 0, 0, 0, ...  table  None  \n",
       "24  {'M234_20170525_v005': [[0, 0, 0, 0, 0, 0, 0, ...  table  None  \n",
       "25  {'M234_20170530_v003': [[0, 0, 0, 0, 0, 0, 0, ...  table  None  \n",
       "26  {'M234_20170531_v015': [[0, 0, 0, 0, 0, 0, 0, ...  table  None  "
      ]
     },
     "execution_count": 5,
     "metadata": {},
     "output_type": "execute_result"
    }
   ],
   "source": [
    "df"
   ]
  },
  {
   "cell_type": "code",
   "execution_count": 6,
   "id": "0dc56dba-014f-4553-bde9-8bcc5d09a9c8",
   "metadata": {
    "tags": []
   },
   "outputs": [
    {
     "name": "stderr",
     "output_type": "stream",
     "text": [
      "/home/clewis7/venvs/mescore/lib/python3.11/site-packages/ipydatagrid/datagrid.py:445: UserWarning: Index name of 'index' is not round-trippable.\n",
      "  schema = pd.io.json.build_table_schema(dataframe)\n"
     ]
    },
    {
     "data": {
      "application/vnd.jupyter.widget-view+json": {
       "model_id": "14a129d96d9f4335bcc1b7070b41c839",
       "version_major": 2,
       "version_minor": 0
      },
      "text/plain": [
       "RFBOutputContext()"
      ]
     },
     "metadata": {},
     "output_type": "display_data"
    },
    {
     "name": "stderr",
     "output_type": "stream",
     "text": [
      "/home/clewis7/repos/mesmerize-core/mesmerize_core/arrays/_video.py:87: UserWarning: min not implemented for LazyTiff, returning min of 0th index\n",
      "  warn(\"min not implemented for LazyTiff, returning min of 0th index\")\n",
      "/home/clewis7/repos/mesmerize-core/mesmerize_core/arrays/_video.py:92: UserWarning: max not implemented for LazyTiff, returning min of 0th index\n",
      "  warn(\"max not implemented for LazyTiff, returning min of 0th index\")\n"
     ]
    },
    {
     "data": {
      "application/vnd.jupyter.widget-view+json": {
       "model_id": "2d835c81cc3f4f56a421991cdcfdbb78",
       "version_major": 2,
       "version_minor": 0
      },
      "text/plain": [
       "RFBOutputContext()"
      ]
     },
     "metadata": {},
     "output_type": "display_data"
    },
    {
     "data": {
      "application/vnd.jupyter.widget-view+json": {
       "model_id": "e1ac17b39d4c4db99a376d252587590f",
       "version_major": 2,
       "version_minor": 0
      },
      "text/plain": [
       "RFBOutputContext()"
      ]
     },
     "metadata": {},
     "output_type": "display_data"
    }
   ],
   "source": [
    "container = df.behavior.compare_ethograms()"
   ]
  },
  {
   "cell_type": "code",
   "execution_count": 7,
   "id": "b0e39d3a-6b9e-4c0a-9544-31f1c3911b45",
   "metadata": {
    "tags": []
   },
   "outputs": [
    {
     "data": {
      "application/vnd.jupyter.widget-view+json": {
       "model_id": "bcd7aef2f1af4425b6786cd1f051ac25",
       "version_major": 2,
       "version_minor": 0
      },
      "text/plain": [
       "VBox(children=(DataGrid(auto_fit_params={'area': 'all', 'padding': 30, 'numCols': None}, base_row_size=24, col…"
      ]
     },
     "execution_count": 7,
     "metadata": {},
     "output_type": "execute_result"
    }
   ],
   "source": [
    "container.show()"
   ]
  },
  {
   "cell_type": "code",
   "execution_count": null,
   "id": "458a4dee-a4bb-4305-bc5e-7d0c0ba6042e",
   "metadata": {},
   "outputs": [],
   "source": []
  },
  {
   "cell_type": "markdown",
   "id": "cb0ca8c1-2d4a-43bb-a173-ac8056070d10",
   "metadata": {},
   "source": [
    "### calculate EMD for each behavior"
   ]
  },
  {
   "cell_type": "code",
   "execution_count": 12,
   "id": "0d6b8d7b-c738-49eb-8b8d-0f8ed47c2f43",
   "metadata": {
    "tags": []
   },
   "outputs": [],
   "source": [
    "def emd_1d(u: np.ndarray, v: np.ndarray) -> float:\n",
    "    \"\"\"\n",
    "    Wrapper around OpenCV Earth Mover's Distance (EMD) function to calculate EMD between 1D arrays\n",
    "    :param u: an array of weights\n",
    "    :param v: an array of weights\n",
    "    :return: Earth Mover's Distance between u & v\n",
    "    \"\"\"\n",
    "\n",
    "    a = np.empty((u.size, 2), dtype=np.float32)\n",
    "    b = np.empty((v.size, 2), dtype=np.float32)\n",
    "\n",
    "    a[:, 0] = u.astype(np.float32)\n",
    "    a[:, 1] = np.arange(u.size, dtype=np.float32)\n",
    "\n",
    "    b[:, 0] = v.astype(np.float32)\n",
    "    b[:, 1] = np.arange(v.size, dtype=np.float32)\n",
    "\n",
    "    return EMD(a, b, DIST_L2)[0]"
   ]
  },
  {
   "cell_type": "code",
   "execution_count": 13,
   "id": "065e76ff-57c1-4d5f-ac5b-033615d77d0e",
   "metadata": {
    "tags": []
   },
   "outputs": [
    {
     "name": "stderr",
     "output_type": "stream",
     "text": [
      "27it [00:00, 22836.50it/s]\n"
     ]
    }
   ],
   "source": [
    "options = list()\n",
    "for row in tqdm(container._dataframe.iterrows()):\n",
    "    for key in row[1][\"ethograms\"].keys():\n",
    "        options.append(key)"
   ]
  },
  {
   "cell_type": "code",
   "execution_count": 14,
   "id": "7778f63c-6150-4787-b5f3-4374ea49b40a",
   "metadata": {
    "tags": []
   },
   "outputs": [
    {
     "name": "stderr",
     "output_type": "stream",
     "text": [
      "27it [00:18,  1.49it/s]\n"
     ]
    }
   ],
   "source": [
    "emds = list()\n",
    "for row in tqdm(container._dataframe.iterrows()):\n",
    "    for key in row[1][\"ethograms\"].keys():\n",
    "        hand_etho = row[1][\"ethograms\"][key]\n",
    "        deg_etho = row[1][\"deg_preds\"][key]\n",
    "        emd = list()\n",
    "        for h, d in zip(hand_etho, deg_etho):\n",
    "            try:\n",
    "                emd.append(emd_1d(h, d))\n",
    "            except:\n",
    "                emd.append(0)\n",
    "        emds.append(emd)"
   ]
  },
  {
   "cell_type": "code",
   "execution_count": 15,
   "id": "ba7251b5-f419-4c75-9d55-295524d2c51d",
   "metadata": {
    "tags": []
   },
   "outputs": [],
   "source": [
    "lift = list()\n",
    "handopen = list()\n",
    "grab = list()\n",
    "sup = list()\n",
    "atmouth = list()\n",
    "chew = list()\n",
    "for e in emds: \n",
    "    lift.append(e[0])\n",
    "    handopen.append(e[1])\n",
    "    grab.append(e[2])\n",
    "    sup.append(e[3])\n",
    "    atmouth.append(e[4])\n",
    "    chew.append(e[5])"
   ]
  },
  {
   "cell_type": "code",
   "execution_count": 16,
   "id": "cca55a00-0dcb-40d2-a1bb-061d388ea164",
   "metadata": {
    "tags": []
   },
   "outputs": [],
   "source": [
    "max_ix = [ix.index(max(ix)) for ix in [lift, handopen, grab, sup, atmouth, chew]]\n",
    "max_val = [(max(ix)) for ix in [lift, handopen, grab, sup, atmouth, chew]]"
   ]
  },
  {
   "cell_type": "code",
   "execution_count": 17,
   "id": "c1cc4039-ffbf-43e5-a90b-a33750ef6650",
   "metadata": {
    "tags": []
   },
   "outputs": [
    {
     "name": "stdout",
     "output_type": "stream",
     "text": [
      "[15, 54, 23, 24, 84, 35]\n",
      "[318.5348815917969, 444.8228454589844, 71.57142639160156, 274.0882263183594, 195.75096130371094, 188.98757934570312]\n"
     ]
    }
   ],
   "source": [
    "print(max_ix)\n",
    "print(max_val)"
   ]
  },
  {
   "cell_type": "code",
   "execution_count": 18,
   "id": "54e36710-1ed2-42c6-8a81-abb31be8df0f",
   "metadata": {
    "tags": []
   },
   "outputs": [],
   "source": [
    "min_ix = [ix.index(min(ix)) for ix in [lift, handopen, grab, sup, atmouth, chew]]\n",
    "min_val = [(min(ix)) for ix in [lift, handopen, grab, sup, atmouth, chew]]"
   ]
  },
  {
   "cell_type": "code",
   "execution_count": 22,
   "id": "53d77219-2737-4172-af96-3df31e9d5dc7",
   "metadata": {
    "tags": []
   },
   "outputs": [
    {
     "name": "stdout",
     "output_type": "stream",
     "text": [
      "0.4061327750484149\n",
      "7\n",
      "79.13531176249187\n",
      "54\n"
     ]
    }
   ],
   "source": [
    "avg_emd = list()\n",
    "for e in emds:\n",
    "    avg_emd.append(sum(e)/6)\n",
    "print(min(avg_emd))\n",
    "print(avg_emd.index(min(avg_emd)))\n",
    "print(max(avg_emd))\n",
    "print(avg_emd.index(max(avg_emd)))"
   ]
  },
  {
   "cell_type": "code",
   "execution_count": 23,
   "id": "04889393-aa63-4613-9eca-2a2727642330",
   "metadata": {
    "tags": []
   },
   "outputs": [
    {
     "data": {
      "text/plain": [
       "'M232_20170307_v058'"
      ]
     },
     "execution_count": 23,
     "metadata": {},
     "output_type": "execute_result"
    }
   ],
   "source": [
    "options[7]"
   ]
  },
  {
   "cell_type": "code",
   "execution_count": 24,
   "id": "09ebff98-aa23-427c-91b9-d0fce20116c7",
   "metadata": {
    "tags": []
   },
   "outputs": [
    {
     "data": {
      "text/plain": [
       "'M234_20170412_v003'"
      ]
     },
     "execution_count": 24,
     "metadata": {},
     "output_type": "execute_result"
    }
   ],
   "source": [
    "options[54]"
   ]
  },
  {
   "cell_type": "markdown",
   "id": "295ad916-f040-48df-9d1f-1311fbf97d5d",
   "metadata": {},
   "source": [
    "### calculating euclidean distance for each behavior"
   ]
  },
  {
   "cell_type": "code",
   "execution_count": 26,
   "id": "35ed286f-117c-4312-808c-7ba0309c8acf",
   "metadata": {
    "tags": []
   },
   "outputs": [
    {
     "name": "stderr",
     "output_type": "stream",
     "text": [
      "27it [00:00, 2805.49it/s]\n"
     ]
    }
   ],
   "source": [
    "eucs = list()\n",
    "for row in tqdm(container._dataframe.iterrows()):\n",
    "    for key in row[1][\"ethograms\"].keys():\n",
    "        hand_etho = row[1][\"ethograms\"][key]\n",
    "        deg_etho = row[1][\"deg_preds\"][key]\n",
    "        euc = list()\n",
    "        for h, d in zip(hand_etho, deg_etho):\n",
    "            euc.append(np.linalg.norm(h-d))\n",
    "        eucs.append(euc)"
   ]
  },
  {
   "cell_type": "code",
   "execution_count": 27,
   "id": "cd32d202-4bc0-4ab4-b291-6e3a582f5b8a",
   "metadata": {
    "tags": []
   },
   "outputs": [
    {
     "data": {
      "text/plain": [
       "108"
      ]
     },
     "execution_count": 27,
     "metadata": {},
     "output_type": "execute_result"
    }
   ],
   "source": [
    "len(eucs)"
   ]
  },
  {
   "cell_type": "code",
   "execution_count": 28,
   "id": "f3909a82-5653-40e2-a62d-c243b9f7a906",
   "metadata": {
    "tags": []
   },
   "outputs": [],
   "source": [
    "lift = list()\n",
    "handopen = list()\n",
    "grab = list()\n",
    "sup = list()\n",
    "atmouth = list()\n",
    "chew = list()\n",
    "for e in eucs: \n",
    "    lift.append(e[0])\n",
    "    handopen.append(e[1])\n",
    "    grab.append(e[2])\n",
    "    sup.append(e[3])\n",
    "    atmouth.append(e[4])\n",
    "    chew.append(e[5])"
   ]
  },
  {
   "cell_type": "code",
   "execution_count": 29,
   "id": "cab1c19f-e530-430f-8fd6-38b426cf72f2",
   "metadata": {
    "tags": []
   },
   "outputs": [],
   "source": [
    "max_ix = [ix.index(max(ix)) for ix in [lift, handopen, grab, sup, atmouth, chew]]\n",
    "max_val = [(max(ix)) for ix in [lift, handopen, grab, sup, atmouth, chew]]"
   ]
  },
  {
   "cell_type": "code",
   "execution_count": 30,
   "id": "003e9df6-ccce-4d63-a952-8e6bb0ffc118",
   "metadata": {
    "tags": []
   },
   "outputs": [
    {
     "name": "stdout",
     "output_type": "stream",
     "text": [
      "[25, 106, 15, 106, 106, 35]\n",
      "[13.490737563232042, 987.6127783701464, 23.811761799581316, 1486.9055114565956, 845.7470070889995, 21.88606862823929]\n"
     ]
    }
   ],
   "source": [
    "print(max_ix)\n",
    "print(max_val)"
   ]
  },
  {
   "cell_type": "code",
   "execution_count": 31,
   "id": "7da6b0fa-989e-4401-bc91-731959df20ab",
   "metadata": {
    "tags": []
   },
   "outputs": [],
   "source": [
    "avg_euc = list()\n",
    "for e in eucs:\n",
    "    avg_euc.append(sum(e)/6)"
   ]
  },
  {
   "cell_type": "code",
   "execution_count": 32,
   "id": "03f9e23e-d853-4cd4-9130-be9319c19d8c",
   "metadata": {
    "tags": []
   },
   "outputs": [
    {
     "data": {
      "text/plain": [
       "106"
      ]
     },
     "execution_count": 32,
     "metadata": {},
     "output_type": "execute_result"
    }
   ],
   "source": [
    "avg_euc.index(max(avg_euc))"
   ]
  },
  {
   "cell_type": "code",
   "execution_count": 33,
   "id": "e0cb945b-872b-44a2-a539-6a0ed511f76c",
   "metadata": {
    "tags": []
   },
   "outputs": [
    {
     "data": {
      "text/plain": [
       "73"
      ]
     },
     "execution_count": 33,
     "metadata": {},
     "output_type": "execute_result"
    }
   ],
   "source": [
    "avg_euc.index(min(avg_euc))"
   ]
  },
  {
   "cell_type": "code",
   "execution_count": 34,
   "id": "eabb3108-10e0-44c6-953d-04c27cac1b6e",
   "metadata": {
    "tags": []
   },
   "outputs": [
    {
     "data": {
      "text/plain": [
       "'M234_20170531_v028'"
      ]
     },
     "execution_count": 34,
     "metadata": {},
     "output_type": "execute_result"
    }
   ],
   "source": [
    "options[106]"
   ]
  },
  {
   "cell_type": "code",
   "execution_count": 35,
   "id": "d32a2a24-a3eb-4fee-9c27-e0acdba5b41e",
   "metadata": {
    "tags": []
   },
   "outputs": [
    {
     "data": {
      "text/plain": [
       "'M234_20170420_v054'"
      ]
     },
     "execution_count": 35,
     "metadata": {},
     "output_type": "execute_result"
    }
   ],
   "source": [
    "options[73]"
   ]
  },
  {
   "cell_type": "code",
   "execution_count": null,
   "id": "8e1b8794-657d-45cc-886b-c86036b69d60",
   "metadata": {},
   "outputs": [],
   "source": []
  }
 ],
 "metadata": {
  "kernelspec": {
   "display_name": "Python 3 (ipykernel)",
   "language": "python",
   "name": "python3"
  },
  "language_info": {
   "codemirror_mode": {
    "name": "ipython",
    "version": 3
   },
   "file_extension": ".py",
   "mimetype": "text/x-python",
   "name": "python",
   "nbconvert_exporter": "python",
   "pygments_lexer": "ipython3",
   "version": "3.11.3"
  }
 },
 "nbformat": 4,
 "nbformat_minor": 5
}
