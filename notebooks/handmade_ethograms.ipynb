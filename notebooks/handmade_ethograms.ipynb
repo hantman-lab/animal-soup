{
 "cells": [
  {
   "cell_type": "code",
   "execution_count": 1,
   "id": "24c2c48c-532f-48c3-abe7-8ab15ac4bdbf",
   "metadata": {
    "tags": []
   },
   "outputs": [],
   "source": [
    "from scipy.io import loadmat\n",
    "import numpy as np\n",
    "import seaborn as sns\n",
    "import matplotlib.pyplot as plt\n",
    "from pathlib import Path"
   ]
  },
  {
   "cell_type": "code",
   "execution_count": 2,
   "id": "37b4a863-d9cf-4c45-af0f-f339dee6b641",
   "metadata": {
    "tags": []
   },
   "outputs": [],
   "source": [
    "path = Path(\"/data/caitlin/training-vids/M235Slc17a7_Gtacr2/20170424/jaaba.mat\")"
   ]
  },
  {
   "cell_type": "code",
   "execution_count": 4,
   "id": "8c644eaa-1d97-48fc-b962-f26b564b9d0a",
   "metadata": {
    "tags": []
   },
   "outputs": [],
   "source": [
    "trial_index = 0\n",
    "\n",
    "m = loadmat(path)\n",
    "behaviors = sorted([b.split('_')[0] for b in m['data'].dtype.names if 'scores' in b])\n",
    "\n",
    "all_behaviors = [\n",
    "    \"Lift\",\n",
    "    \"Handopen\",\n",
    "    \"Grab\",\n",
    "    \"Sup\",\n",
    "    \"Atmouth\",\n",
    "    \"Chew\"\n",
    "]\n",
    "\n",
    "sorted_behaviors = [b for b in all_behaviors if b in behaviors]\n",
    "\n",
    "ethograms = []\n",
    "\n",
    "mat_trial_index = np.argwhere(m[\"data\"][\"trial\"].ravel() == (trial_index + 1))\n",
    "# Trial not found in JAABA data\n",
    "if mat_trial_index.size == 0:\n",
    "    raise\n",
    "\n",
    "mat_trial_index = mat_trial_index.item()\n",
    "\n",
    "for b in sorted_behaviors:\n",
    "    behavior_index = m['data'].dtype.names.index(f'{b}_labl_label')\n",
    "    ethograms.append(m['data'][mat_trial_index][0][behavior_index])\n",
    "\n",
    "sorted_behaviors = [b.lower() for b in sorted_behaviors]\n",
    "\n",
    "ethogram = np.hstack(ethograms).T"
   ]
  },
  {
   "cell_type": "code",
   "execution_count": 6,
   "id": "8dba3267-807d-44b2-8e4b-1e704b0b7a06",
   "metadata": {
    "tags": []
   },
   "outputs": [],
   "source": [
    "from mesmerize_core.arrays import LazyVideo\n",
    "from fastplotlib import Plot, ImageWidget"
   ]
  },
  {
   "cell_type": "code",
   "execution_count": 10,
   "id": "d967c557-6fdf-4ee9-8f21-78bb5e27fe46",
   "metadata": {
    "tags": []
   },
   "outputs": [],
   "source": [
    "ETHOGRAM_COLORS = {\n",
    "    \"lift\": \"b\",\n",
    "    \"handopen\": \"green\",\n",
    "    \"grab\": \"r\",\n",
    "    \"sup\": \"cyan\",\n",
    "    \"atmouth\": \"magenta\",\n",
    "    \"chew\": \"yellow\"\n",
    "}"
   ]
  },
  {
   "cell_type": "code",
   "execution_count": 11,
   "id": "38158fa2-0cc2-4b36-9c83-8ffe4f9f4057",
   "metadata": {
    "tags": []
   },
   "outputs": [
    {
     "data": {
      "application/vnd.jupyter.widget-view+json": {
       "model_id": "46799ed2cc57431e8eb137b4454e2281",
       "version_major": 2,
       "version_minor": 0
      },
      "text/plain": [
       "RFBOutputContext()"
      ]
     },
     "metadata": {},
     "output_type": "display_data"
    }
   ],
   "source": [
    "plot = Plot(size=(500, 100))\n",
    "\n",
    "y_bottom = 0\n",
    "for i, b in enumerate(sorted_behaviors):\n",
    "    xs = np.arange(ethogram.shape[1], dtype=np.float32)\n",
    "    ys = np.zeros(xs.size, dtype=np.float32)\n",
    "\n",
    "    lg = plot.add_line(\n",
    "        data=np.column_stack([xs, ys]),\n",
    "        thickness=10,\n",
    "        name=b\n",
    "    )\n",
    "\n",
    "    lg.colors = 0\n",
    "    lg.colors[ethogram[i] == 1] = ETHOGRAM_COLORS[b]\n",
    "\n",
    "    y_pos = (i * -10) - 1\n",
    "    lg.position_y = y_pos\n"
   ]
  },
  {
   "cell_type": "code",
   "execution_count": 12,
   "id": "c6648eda-9d1a-47e5-97c4-405c14757439",
   "metadata": {
    "tags": []
   },
   "outputs": [
    {
     "data": {
      "application/vnd.jupyter.widget-view+json": {
       "model_id": "cc983bc86e524eb0980190dc774a86de",
       "version_major": 2,
       "version_minor": 0
      },
      "text/plain": [
       "VBox(children=(JupyterWgpuCanvas(css_height='100px'), HBox(children=(Button(icon='expand-arrows-alt', layout=L…"
      ]
     },
     "execution_count": 12,
     "metadata": {},
     "output_type": "execute_result"
    }
   ],
   "source": [
    "plot.show()"
   ]
  },
  {
   "cell_type": "code",
   "execution_count": null,
   "id": "ad2fd11b-47c1-40b5-a51d-e499c0934867",
   "metadata": {},
   "outputs": [],
   "source": []
  }
 ],
 "metadata": {
  "kernelspec": {
   "display_name": "Python 3 (ipykernel)",
   "language": "python",
   "name": "python3"
  },
  "language_info": {
   "codemirror_mode": {
    "name": "ipython",
    "version": 3
   },
   "file_extension": ".py",
   "mimetype": "text/x-python",
   "name": "python",
   "nbconvert_exporter": "python",
   "pygments_lexer": "ipython3",
   "version": "3.11.3"
  }
 },
 "nbformat": 4,
 "nbformat_minor": 5
}
