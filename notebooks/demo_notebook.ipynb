{
 "cells": [
  {
   "cell_type": "code",
   "execution_count": null,
   "id": "a44fada5-680d-4cfa-a4a3-745c27706672",
   "metadata": {
    "tags": []
   },
   "outputs": [],
   "source": [
    "from animal_soup import *\n",
    "import pandas as pd\n",
    "import numpy as np\n",
    "import os"
   ]
  },
  {
   "cell_type": "markdown",
   "id": "83e68c9b-d1f3-4507-8b0e-31cfac1293af",
   "metadata": {},
   "source": [
    "# Paths"
   ]
  },
  {
   "cell_type": "markdown",
   "id": "fbb3922c-94f6-4c99-9b45-59385e9a7ff9",
   "metadata": {},
   "source": [
    "Will need to set paths according to your own data storage location. Data should be stored in the following format:\n",
    "\n",
    "Example:\n",
    "\n",
    "`/home/{user}/data/`\n",
    "\n",
    "    `animal_id/`\n",
    "\n",
    "        `session_id/`\n",
    "            \n",
    "            `trial_vid1`\n",
    "            \n",
    "            `trial_vid2`\n",
    "            \n",
    "            ...\n",
    "\n",
    "        `session_id/`\n",
    "            \n",
    "            `trial_vid1`\n",
    "            \n",
    "            `trial_vid2`\n",
    "            \n",
    "            ...\n",
    "\n",
    "        ..."
   ]
  },
  {
   "cell_type": "markdown",
   "id": "7182b17e-346e-4673-8337-0840642c8ba7",
   "metadata": {},
   "source": [
    "**Note:** You should have a front and side video for each trial under a given session for an animal."
   ]
  },
  {
   "cell_type": "markdown",
   "id": "e7de7e72-85a7-4b0e-8897-4497a182d216",
   "metadata": {},
   "source": [
    "`set_parent_raw_data_path()` - This function from `animal_soup` (modeled from `mesmerize_core`) sets the top level raw data directory. This should be set to the top level directory where your behavioral data is stored. This allows you to move your behavioral data directory structure between computers, as long as you keep everything under the parent path the same."
   ]
  },
  {
   "cell_type": "code",
   "execution_count": null,
   "id": "aaa3c55c-295c-4778-832a-b297ca9b4f18",
   "metadata": {},
   "outputs": [],
   "source": [
    "# we will be using sample data stored on Zenodo\n",
    "# download if you have not already\n",
    "from animal_soup.utils.downloads import download_data, download_models\n",
    "download_data()\n",
    "# we will also be using pre-trained models for the Hantman reach-to-grab task \n",
    "# download those as well if you have not\n",
    "download_models()"
   ]
  },
  {
   "cell_type": "code",
   "execution_count": null,
   "id": "fbfeb7c0-99f1-46e1-a6af-1ee1ce174211",
   "metadata": {
    "tags": []
   },
   "outputs": [],
   "source": [
    "# for this demo set this dir as the path to your `animal_soup` sample data folder\n",
    "set_parent_raw_data_path('/home/clewis7/repos/animal-soup/tests/sample_data/')"
   ]
  },
  {
   "cell_type": "markdown",
   "id": "dacfe79f-5620-465f-a0ed-90c3a9acf900",
   "metadata": {},
   "source": [
    "### Dataframe path, this is where your ethograms will be organized\n",
    "\n",
    "This can be anywhere, it does not need to be under the parent raw data path."
   ]
  },
  {
   "cell_type": "code",
   "execution_count": null,
   "id": "093cf0ca-63f1-4521-885a-113ab2110462",
   "metadata": {
    "tags": []
   },
   "outputs": [],
   "source": [
    "df_path = '/home/clewis7/Desktop/sample_df.hdf'"
   ]
  },
  {
   "cell_type": "markdown",
   "id": "4daf4c00-8661-47e5-8ccd-f9b67d30ab13",
   "metadata": {},
   "source": [
    "# Create a new dataframe\n",
    "\n",
    "This will create a new pandas `DataFrame` with the columns necessary for `animal_soup`. You can additional columns as necessary, but do not modify the columns used by `animal_soup`.\n",
    "\n",
    "<b> Note: you will need to use `load_df()` to load the dataframe later. You can use `create_df()` to overwrite an existing behavior dataframe by using the kward `remove_existing=True`.  <b> "
   ]
  },
  {
   "cell_type": "code",
   "execution_count": null,
   "id": "0166c541-3216-4a59-9de5-f79fbadd2f9a",
   "metadata": {
    "tags": []
   },
   "outputs": [],
   "source": [
    "# create a new batch\n",
    "df = create_df(df_path, remove_existing=True)\n",
    "# load an existing batch use `load_df()`\n",
    "#df = load_df(df_path)"
   ]
  },
  {
   "cell_type": "markdown",
   "id": "e335f42a-acd8-4953-8e6d-1a21e97de178",
   "metadata": {},
   "source": [
    "# View the dataframe\n",
    "\n",
    "It is empty with the appropriate columns for `animal_soup`"
   ]
  },
  {
   "cell_type": "code",
   "execution_count": null,
   "id": "c2d69e03-91c1-43e8-a9b4-a2f2b0635b47",
   "metadata": {
    "tags": []
   },
   "outputs": [],
   "source": [
    "df"
   ]
  },
  {
   "cell_type": "markdown",
   "id": "2859b9ea-9235-46db-85f5-ae7e572b30bb",
   "metadata": {},
   "source": [
    "# Adding items to the dataframe\n",
    "\n",
    "Add an item to the dataframe using a pandas dataframe extension access modifier. \n",
    "\n",
    "Can add all sessions for a given animal or simply add a single animal/session. "
   ]
  },
  {
   "cell_type": "code",
   "execution_count": null,
   "id": "3d907d41-050a-48f2-95b6-168309c58ef7",
   "metadata": {},
   "outputs": [],
   "source": [
    "# add all sessions for a given animal_id\n",
    "df.behavior.add_item(animal_id=\"M238Slc17a7_Chr2\", exp_type=\"table\")\n",
    "\n",
    "# add a single session for a given animal_id\n",
    "df.behavior.add_item(animal_id='M239Slc17a7_Gtacr2', session_id='20170830', exp_type='table')\n",
    "\n",
    "# add a single trial for a given animal_id and session_id\n",
    "df.behavior.add_item(animal_id='M239Slc17a7_Gtacr2', \n",
    "                     session_id='20170901', \n",
    "                     trial_id=8, \n",
    "                     exp_type='table'\n",
    "                    )"
   ]
  },
  {
   "cell_type": "code",
   "execution_count": null,
   "id": "59b58529-2b1a-4573-bae8-6f8cec24df06",
   "metadata": {
    "tags": []
   },
   "outputs": [],
   "source": [
    "df"
   ]
  },
  {
   "cell_type": "markdown",
   "id": "ad140112-4c9d-440b-ab92-937f8a481ae5",
   "metadata": {},
   "source": [
    "# Removing items from the dataframe\n",
    "\n",
    "Remove items from the dataframe using a pandas dataframe extension access modifier.\n",
    "\n",
    "Can remove all sessions for a given animal or simply remove a single animal/session."
   ]
  },
  {
   "cell_type": "code",
   "execution_count": null,
   "id": "505f9fba-ed71-4109-b249-fd45fb7dee2f",
   "metadata": {
    "tags": []
   },
   "outputs": [],
   "source": [
    "# remove item by index\n",
    "df.behavior.remove_item(row_ix=0)\n",
    "\n",
    "# remove all sessions for a given animal\n",
    "df.behavior.remove_item(animal_id='M238Slc17a7_Chr2')\n",
    "\n",
    "# remove single session for a given animal\n",
    "df.behavior.remove_item(animal_id='M239Slc17a7_Gtacr2', session_id='20170830')\n",
    "\n",
    "# remove single trial for given animal/session \n",
    "df.behavior.remove_item(animal_id='M239Slc17a7_Gtacr2', \n",
    "                        session_id='20170901', \n",
    "                        trial_id=8)"
   ]
  },
  {
   "cell_type": "code",
   "execution_count": null,
   "id": "d728a96c-d892-4280-b879-d927db8c2b84",
   "metadata": {
    "tags": []
   },
   "outputs": [],
   "source": [
    "df"
   ]
  },
  {
   "cell_type": "markdown",
   "id": "38b204e0-d954-4cce-b3a9-d173c218108a",
   "metadata": {},
   "source": [
    "# Add a single session for inference"
   ]
  },
  {
   "cell_type": "code",
   "execution_count": null,
   "id": "b1a02f29-9dac-47b1-b247-909a2414f0f8",
   "metadata": {
    "tags": []
   },
   "outputs": [],
   "source": [
    "# add a single session for a given animal_id\n",
    "df.behavior.add_item(animal_id='M239Slc17a7_Gtacr2', session_id='20170901', exp_type='table')"
   ]
  },
  {
   "cell_type": "markdown",
   "id": "56c7500e-bd50-436e-a31b-bb3b0b777630",
   "metadata": {},
   "source": [
    "# View behavior videos\n",
    "\n",
    "Using `ipydatagrid` and `fastplotlib` can view behavior data. Allows movement across trials in each animal/session."
   ]
  },
  {
   "cell_type": "code",
   "execution_count": null,
   "id": "60003a61-228e-4dbb-af39-424f9f52dd8e",
   "metadata": {
    "tags": []
   },
   "outputs": [],
   "source": [
    "df.behavior.view(ethogram_view=False).show()"
   ]
  },
  {
   "cell_type": "markdown",
   "id": "6a090e58-5053-4f02-a3bc-d9cf71f8712d",
   "metadata": {},
   "source": [
    "# Run Inference"
   ]
  },
  {
   "cell_type": "markdown",
   "id": "59aeb98e-e10d-4182-9949-e75aeed9f50d",
   "metadata": {},
   "source": [
    "Predict behavior by calling `pandas.Series extension`. Here using default `mode='fast'`."
   ]
  },
  {
   "cell_type": "code",
   "execution_count": null,
   "id": "41ee6318-33c6-462a-8fd3-7f747320ec56",
   "metadata": {
    "tags": []
   },
   "outputs": [],
   "source": [
    "for ix, row in df.iterrows():\n",
    "    row.behavior.infer()"
   ]
  },
  {
   "cell_type": "markdown",
   "id": "657df9dd-6671-4d9d-9250-d7ed4bd0f6e5",
   "metadata": {},
   "source": [
    "# View Inference Results"
   ]
  },
  {
   "cell_type": "code",
   "execution_count": null,
   "id": "e08bd914-c22c-4541-995b-6e21048835b3",
   "metadata": {
    "tags": []
   },
   "outputs": [],
   "source": [
    "df.behavior.view().show()"
   ]
  },
  {
   "cell_type": "markdown",
   "id": "e81a5630-2867-4fbf-a7ea-e92b31767696",
   "metadata": {},
   "source": [
    "# Clean ethograms "
   ]
  },
  {
   "cell_type": "code",
   "execution_count": null,
   "id": "27a86ea8-b0f6-466c-934a-a78bbfd2a160",
   "metadata": {},
   "outputs": [],
   "source": [
    "df.behavior.clean_ethograms().show()"
   ]
  },
  {
   "cell_type": "markdown",
   "id": "fb07e0be-c670-445a-952c-84d377ae17f7",
   "metadata": {},
   "source": [
    "# Training\n",
    "\n",
    "If you wanted to train one of the models, such as the flow generator. For more information about training and model customization please see the **User Guide** in the \n",
    "official `animal-soup` documentation."
   ]
  },
  {
   "cell_type": "code",
   "execution_count": null,
   "id": "cc6322be-a016-4ce5-9675-4cfe22d07477",
   "metadata": {
    "tags": []
   },
   "outputs": [],
   "source": [
    "df"
   ]
  },
  {
   "cell_type": "code",
   "execution_count": null,
   "id": "c7392823-d057-4ff4-9b1b-92a964d68e67",
   "metadata": {
    "tags": []
   },
   "outputs": [],
   "source": [
    "df.flow_generator.train(mode=\"fast\")"
   ]
  },
  {
   "cell_type": "code",
   "execution_count": null,
   "id": "cf4457d4-27e9-4a48-99f4-b5be8b08d1aa",
   "metadata": {},
   "outputs": [],
   "source": []
  }
 ],
 "metadata": {
  "kernelspec": {
   "display_name": "Python 3 (ipykernel)",
   "language": "python",
   "name": "python3"
  },
  "language_info": {
   "codemirror_mode": {
    "name": "ipython",
    "version": 3
   },
   "file_extension": ".py",
   "mimetype": "text/x-python",
   "name": "python",
   "nbconvert_exporter": "python",
   "pygments_lexer": "ipython3",
   "version": "3.11.3"
  }
 },
 "nbformat": 4,
 "nbformat_minor": 5
}
