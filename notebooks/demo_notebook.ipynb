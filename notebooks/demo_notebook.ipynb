{
 "cells": [
  {
   "cell_type": "code",
   "execution_count": 1,
   "id": "a44fada5-680d-4cfa-a4a3-745c27706672",
   "metadata": {
    "tags": []
   },
   "outputs": [],
   "source": [
    "from animal_soup import *\n",
    "import pandas as pd\n",
    "import numpy as np\n",
    "import os"
   ]
  },
  {
   "cell_type": "markdown",
   "id": "83e68c9b-d1f3-4507-8b0e-31cfac1293af",
   "metadata": {},
   "source": [
    "# Paths"
   ]
  },
  {
   "cell_type": "markdown",
   "id": "fbb3922c-94f6-4c99-9b45-59385e9a7ff9",
   "metadata": {},
   "source": [
    "Will need to set paths according to your own data storage location. Data should be stored in the following format:\n",
    "\n",
    "Example:\n",
    "\n",
    "`/home/{user}/data/`\n",
    "\n",
    "    `animal_id/`\n",
    "\n",
    "        `session_id/`\n",
    "            \n",
    "            `trial_vid1`\n",
    "            \n",
    "            `trial_vid2`\n",
    "            \n",
    "            ...\n",
    "\n",
    "        `session_id/`\n",
    "            \n",
    "            `trial_vid1`\n",
    "            \n",
    "            `trial_vid2`\n",
    "            \n",
    "            ...\n",
    "\n",
    "        ..."
   ]
  },
  {
   "cell_type": "markdown",
   "id": "e7de7e72-85a7-4b0e-8897-4497a182d216",
   "metadata": {},
   "source": [
    "`set_parent_raw_data_path()` - This function from `animal_soup` (modeled from `mesmerize_core`) sets the top level raw data directory. This should be set to the top level directory where your behavioral data is stored. This allows you to move your behavioral data directory structure between computers, as long as you keep everything under the parent path the same."
   ]
  },
  {
   "cell_type": "code",
   "execution_count": 2,
   "id": "fbfeb7c0-99f1-46e1-a6af-1ee1ce174211",
   "metadata": {
    "tags": []
   },
   "outputs": [
    {
     "data": {
      "text/plain": [
       "PosixPath('/home/clewis7/repos/animal-soup/tests/sample_data')"
      ]
     },
     "execution_count": 2,
     "metadata": {},
     "output_type": "execute_result"
    }
   ],
   "source": [
    "# for this demo set this dir as the path to your `animal_soup` sample data folder\n",
    "set_parent_raw_data_path('/home/clewis7/repos/animal-soup/tests/sample_data/')"
   ]
  },
  {
   "cell_type": "markdown",
   "id": "dacfe79f-5620-465f-a0ed-90c3a9acf900",
   "metadata": {},
   "source": [
    "### Dataframe path, this is where your ethograms will be organized\n",
    "\n",
    "This can be anywhere, it does not need to be under the parent raw data path."
   ]
  },
  {
   "cell_type": "code",
   "execution_count": 3,
   "id": "093cf0ca-63f1-4521-885a-113ab2110462",
   "metadata": {
    "tags": []
   },
   "outputs": [],
   "source": [
    "df_path = '/home/clewis7/Desktop/sample_df.hdf'"
   ]
  },
  {
   "cell_type": "markdown",
   "id": "4daf4c00-8661-47e5-8ccd-f9b67d30ab13",
   "metadata": {},
   "source": [
    "# Create a new dataframe\n",
    "\n",
    "This will create a new pandas `DataFrame` with the columns necessary for `animal_soup`. You can additional columns as necessary, but do not modify the columns used by `animal_soup`.\n",
    "\n",
    "<b> Note: you will need to use `load_df()` to load the dataframe later. You can use `create_df()` to overwrite an existing behavior dataframe by using the kward `remove_existing=True`.  <b> "
   ]
  },
  {
   "cell_type": "code",
   "execution_count": 15,
   "id": "0166c541-3216-4a59-9de5-f79fbadd2f9a",
   "metadata": {
    "tags": []
   },
   "outputs": [],
   "source": [
    "# create a new batch\n",
    "df = create_df(df_path, remove_existing=True)\n",
    "# load an existing batch use `load_df()`\n",
    "#df = load_df(df_path)"
   ]
  },
  {
   "cell_type": "markdown",
   "id": "e335f42a-acd8-4953-8e6d-1a21e97de178",
   "metadata": {},
   "source": [
    "# View the dataframe\n",
    "\n",
    "It is empty with the appropriate columns for `animal_soup`"
   ]
  },
  {
   "cell_type": "code",
   "execution_count": 16,
   "id": "c2d69e03-91c1-43e8-a9b4-a2f2b0635b47",
   "metadata": {
    "tags": []
   },
   "outputs": [
    {
     "data": {
      "text/html": [
       "<div>\n",
       "<style scoped>\n",
       "    .dataframe tbody tr th:only-of-type {\n",
       "        vertical-align: middle;\n",
       "    }\n",
       "\n",
       "    .dataframe tbody tr th {\n",
       "        vertical-align: top;\n",
       "    }\n",
       "\n",
       "    .dataframe thead th {\n",
       "        text-align: right;\n",
       "    }\n",
       "</style>\n",
       "<table border=\"1\" class=\"dataframe\">\n",
       "  <thead>\n",
       "    <tr style=\"text-align: right;\">\n",
       "      <th></th>\n",
       "      <th>animal_id</th>\n",
       "      <th>session_id</th>\n",
       "      <th>trial_id</th>\n",
       "      <th>vid_path</th>\n",
       "      <th>output_path</th>\n",
       "      <th>exp_type</th>\n",
       "      <th>model_params</th>\n",
       "      <th>notes</th>\n",
       "    </tr>\n",
       "  </thead>\n",
       "  <tbody>\n",
       "  </tbody>\n",
       "</table>\n",
       "</div>"
      ],
      "text/plain": [
       "Empty DataFrame\n",
       "Columns: [animal_id, session_id, trial_id, vid_path, output_path, exp_type, model_params, notes]\n",
       "Index: []"
      ]
     },
     "execution_count": 16,
     "metadata": {},
     "output_type": "execute_result"
    }
   ],
   "source": [
    "df"
   ]
  },
  {
   "cell_type": "markdown",
   "id": "2859b9ea-9235-46db-85f5-ae7e572b30bb",
   "metadata": {},
   "source": [
    "# Adding items to the dataframe\n",
    "\n",
    "Add an item to the dataframe using a pandas dataframe extension access modifier. \n",
    "\n",
    "Can add all sessions for a given animal or simply add a single animal/session. "
   ]
  },
  {
   "cell_type": "code",
   "execution_count": 17,
   "id": "3d907d41-050a-48f2-95b6-168309c58ef7",
   "metadata": {},
   "outputs": [],
   "source": [
    "# add all sessions for a given animal_id\n",
    "df.behavior.add_item(animal_id=\"M232Slc17a7_Gtacr2\")\n",
    "\n",
    "# add a single session for a given animal_id\n",
    "df.behavior.add_item(animal_id='M234Slc17a7_Gtacr2', session_id='20170328', exp_type='table')\n",
    "\n",
    "# add a single trial for a given animal_id and session_id\n",
    "df.behavior.add_item(animal_id='M234Slc17a7_Gtacr2', \n",
    "                     session_id='20170329', \n",
    "                     trial_id='M234_20170329_v003', \n",
    "                     exp_type='table'\n",
    "                    )"
   ]
  },
  {
   "cell_type": "code",
   "execution_count": 18,
   "id": "59b58529-2b1a-4573-bae8-6f8cec24df06",
   "metadata": {
    "tags": []
   },
   "outputs": [
    {
     "data": {
      "text/html": [
       "<div>\n",
       "<style scoped>\n",
       "    .dataframe tbody tr th:only-of-type {\n",
       "        vertical-align: middle;\n",
       "    }\n",
       "\n",
       "    .dataframe tbody tr th {\n",
       "        vertical-align: top;\n",
       "    }\n",
       "\n",
       "    .dataframe thead th {\n",
       "        text-align: right;\n",
       "    }\n",
       "</style>\n",
       "<table border=\"1\" class=\"dataframe\">\n",
       "  <thead>\n",
       "    <tr style=\"text-align: right;\">\n",
       "      <th></th>\n",
       "      <th>animal_id</th>\n",
       "      <th>session_id</th>\n",
       "      <th>trial_id</th>\n",
       "      <th>vid_path</th>\n",
       "      <th>output_path</th>\n",
       "      <th>exp_type</th>\n",
       "      <th>model_params</th>\n",
       "      <th>notes</th>\n",
       "    </tr>\n",
       "  </thead>\n",
       "  <tbody>\n",
       "    <tr>\n",
       "      <th>0</th>\n",
       "      <td>M232Slc17a7_Gtacr2</td>\n",
       "      <td>20170306</td>\n",
       "      <td>M232_20170306_v017</td>\n",
       "      <td>M232Slc17a7_Gtacr2/20170306/M232_20170306_v017...</td>\n",
       "      <td>M232Slc17a7_Gtacr2/20170306/outputs.h5</td>\n",
       "      <td>None</td>\n",
       "      <td>{}</td>\n",
       "      <td>None</td>\n",
       "    </tr>\n",
       "    <tr>\n",
       "      <th>1</th>\n",
       "      <td>M232Slc17a7_Gtacr2</td>\n",
       "      <td>20170306</td>\n",
       "      <td>M232_20170306_v024</td>\n",
       "      <td>M232Slc17a7_Gtacr2/20170306/M232_20170306_v024...</td>\n",
       "      <td>M232Slc17a7_Gtacr2/20170306/outputs.h5</td>\n",
       "      <td>None</td>\n",
       "      <td>{}</td>\n",
       "      <td>None</td>\n",
       "    </tr>\n",
       "    <tr>\n",
       "      <th>2</th>\n",
       "      <td>M232Slc17a7_Gtacr2</td>\n",
       "      <td>20170306</td>\n",
       "      <td>M232_20170306_v025</td>\n",
       "      <td>M232Slc17a7_Gtacr2/20170306/M232_20170306_v025...</td>\n",
       "      <td>M232Slc17a7_Gtacr2/20170306/outputs.h5</td>\n",
       "      <td>None</td>\n",
       "      <td>{}</td>\n",
       "      <td>None</td>\n",
       "    </tr>\n",
       "    <tr>\n",
       "      <th>3</th>\n",
       "      <td>M232Slc17a7_Gtacr2</td>\n",
       "      <td>20170307</td>\n",
       "      <td>M232_20170307_v022</td>\n",
       "      <td>M232Slc17a7_Gtacr2/20170307/M232_20170307_v022...</td>\n",
       "      <td>M232Slc17a7_Gtacr2/20170307/outputs.h5</td>\n",
       "      <td>None</td>\n",
       "      <td>{}</td>\n",
       "      <td>None</td>\n",
       "    </tr>\n",
       "    <tr>\n",
       "      <th>4</th>\n",
       "      <td>M232Slc17a7_Gtacr2</td>\n",
       "      <td>20170307</td>\n",
       "      <td>M232_20170307_v029</td>\n",
       "      <td>M232Slc17a7_Gtacr2/20170307/M232_20170307_v029...</td>\n",
       "      <td>M232Slc17a7_Gtacr2/20170307/outputs.h5</td>\n",
       "      <td>None</td>\n",
       "      <td>{}</td>\n",
       "      <td>None</td>\n",
       "    </tr>\n",
       "    <tr>\n",
       "      <th>5</th>\n",
       "      <td>M232Slc17a7_Gtacr2</td>\n",
       "      <td>20170307</td>\n",
       "      <td>M232_20170307_v047</td>\n",
       "      <td>M232Slc17a7_Gtacr2/20170307/M232_20170307_v047...</td>\n",
       "      <td>M232Slc17a7_Gtacr2/20170307/outputs.h5</td>\n",
       "      <td>None</td>\n",
       "      <td>{}</td>\n",
       "      <td>None</td>\n",
       "    </tr>\n",
       "    <tr>\n",
       "      <th>6</th>\n",
       "      <td>M234Slc17a7_Gtacr2</td>\n",
       "      <td>20170328</td>\n",
       "      <td>M234_20170328_v002</td>\n",
       "      <td>M234Slc17a7_Gtacr2/20170328/M234_20170328_v002...</td>\n",
       "      <td>M234Slc17a7_Gtacr2/20170328/outputs.h5</td>\n",
       "      <td>table</td>\n",
       "      <td>{}</td>\n",
       "      <td>None</td>\n",
       "    </tr>\n",
       "    <tr>\n",
       "      <th>7</th>\n",
       "      <td>M234Slc17a7_Gtacr2</td>\n",
       "      <td>20170328</td>\n",
       "      <td>M234_20170328_v004</td>\n",
       "      <td>M234Slc17a7_Gtacr2/20170328/M234_20170328_v004...</td>\n",
       "      <td>M234Slc17a7_Gtacr2/20170328/outputs.h5</td>\n",
       "      <td>table</td>\n",
       "      <td>{}</td>\n",
       "      <td>None</td>\n",
       "    </tr>\n",
       "    <tr>\n",
       "      <th>8</th>\n",
       "      <td>M234Slc17a7_Gtacr2</td>\n",
       "      <td>20170328</td>\n",
       "      <td>M234_20170328_v005</td>\n",
       "      <td>M234Slc17a7_Gtacr2/20170328/M234_20170328_v005...</td>\n",
       "      <td>M234Slc17a7_Gtacr2/20170328/outputs.h5</td>\n",
       "      <td>table</td>\n",
       "      <td>{}</td>\n",
       "      <td>None</td>\n",
       "    </tr>\n",
       "    <tr>\n",
       "      <th>9</th>\n",
       "      <td>M234Slc17a7_Gtacr2</td>\n",
       "      <td>20170329</td>\n",
       "      <td>M234_20170329_v003</td>\n",
       "      <td>M234Slc17a7_Gtacr2/20170329/M234_20170329_v003...</td>\n",
       "      <td>M234Slc17a7_Gtacr2/20170329/outputs.h5</td>\n",
       "      <td>table</td>\n",
       "      <td>{}</td>\n",
       "      <td>None</td>\n",
       "    </tr>\n",
       "  </tbody>\n",
       "</table>\n",
       "</div>"
      ],
      "text/plain": [
       "            animal_id session_id            trial_id  \\\n",
       "0  M232Slc17a7_Gtacr2   20170306  M232_20170306_v017   \n",
       "1  M232Slc17a7_Gtacr2   20170306  M232_20170306_v024   \n",
       "2  M232Slc17a7_Gtacr2   20170306  M232_20170306_v025   \n",
       "3  M232Slc17a7_Gtacr2   20170307  M232_20170307_v022   \n",
       "4  M232Slc17a7_Gtacr2   20170307  M232_20170307_v029   \n",
       "5  M232Slc17a7_Gtacr2   20170307  M232_20170307_v047   \n",
       "6  M234Slc17a7_Gtacr2   20170328  M234_20170328_v002   \n",
       "7  M234Slc17a7_Gtacr2   20170328  M234_20170328_v004   \n",
       "8  M234Slc17a7_Gtacr2   20170328  M234_20170328_v005   \n",
       "9  M234Slc17a7_Gtacr2   20170329  M234_20170329_v003   \n",
       "\n",
       "                                            vid_path  \\\n",
       "0  M232Slc17a7_Gtacr2/20170306/M232_20170306_v017...   \n",
       "1  M232Slc17a7_Gtacr2/20170306/M232_20170306_v024...   \n",
       "2  M232Slc17a7_Gtacr2/20170306/M232_20170306_v025...   \n",
       "3  M232Slc17a7_Gtacr2/20170307/M232_20170307_v022...   \n",
       "4  M232Slc17a7_Gtacr2/20170307/M232_20170307_v029...   \n",
       "5  M232Slc17a7_Gtacr2/20170307/M232_20170307_v047...   \n",
       "6  M234Slc17a7_Gtacr2/20170328/M234_20170328_v002...   \n",
       "7  M234Slc17a7_Gtacr2/20170328/M234_20170328_v004...   \n",
       "8  M234Slc17a7_Gtacr2/20170328/M234_20170328_v005...   \n",
       "9  M234Slc17a7_Gtacr2/20170329/M234_20170329_v003...   \n",
       "\n",
       "                              output_path exp_type model_params notes  \n",
       "0  M232Slc17a7_Gtacr2/20170306/outputs.h5     None           {}  None  \n",
       "1  M232Slc17a7_Gtacr2/20170306/outputs.h5     None           {}  None  \n",
       "2  M232Slc17a7_Gtacr2/20170306/outputs.h5     None           {}  None  \n",
       "3  M232Slc17a7_Gtacr2/20170307/outputs.h5     None           {}  None  \n",
       "4  M232Slc17a7_Gtacr2/20170307/outputs.h5     None           {}  None  \n",
       "5  M232Slc17a7_Gtacr2/20170307/outputs.h5     None           {}  None  \n",
       "6  M234Slc17a7_Gtacr2/20170328/outputs.h5    table           {}  None  \n",
       "7  M234Slc17a7_Gtacr2/20170328/outputs.h5    table           {}  None  \n",
       "8  M234Slc17a7_Gtacr2/20170328/outputs.h5    table           {}  None  \n",
       "9  M234Slc17a7_Gtacr2/20170329/outputs.h5    table           {}  None  "
      ]
     },
     "execution_count": 18,
     "metadata": {},
     "output_type": "execute_result"
    }
   ],
   "source": [
    "df"
   ]
  },
  {
   "cell_type": "markdown",
   "id": "ad140112-4c9d-440b-ab92-937f8a481ae5",
   "metadata": {},
   "source": [
    "# Removing items from the dataframe\n",
    "\n",
    "Remove items from the dataframe using a pandas dataframe extension access modifier.\n",
    "\n",
    "Can remove all sessions for a given animal or simply remove a single animal/session."
   ]
  },
  {
   "cell_type": "code",
   "execution_count": 19,
   "id": "505f9fba-ed71-4109-b249-fd45fb7dee2f",
   "metadata": {
    "tags": []
   },
   "outputs": [
    {
     "name": "stderr",
     "output_type": "stream",
     "text": [
      "/home/clewis7/repos/animal-soup/animal_soup/extensions/behavior_extensions.py:345: UserWarning: No `session_id` provided, will remove all items for provided animal_id: M232Slc17a7_Gtacr2\n",
      "  warnings.warn(\n",
      "/home/clewis7/repos/animal-soup/animal_soup/extensions/behavior_extensions.py:360: UserWarning: No `trial_id` provided, will remove all items for provided animal_id: M234Slc17a7_Gtacr2 and session_id: 20170328\n",
      "  warnings.warn(\n"
     ]
    }
   ],
   "source": [
    "# remove item by index\n",
    "df.behavior.remove_item(row_ix=0)\n",
    "\n",
    "# remove all sessions for a given animal\n",
    "df.behavior.remove_item(animal_id='M232Slc17a7_Gtacr2')\n",
    "\n",
    "# remove single session for a given animal\n",
    "df.behavior.remove_item(animal_id='M234Slc17a7_Gtacr2', session_id='20170328')\n",
    "\n",
    "# remove single trial for given animal/session \n",
    "df.behavior.remove_item(animal_id='M234Slc17a7_Gtacr2', \n",
    "                        session_id='20170329', \n",
    "                        trial_id='M234_20170329_v003')"
   ]
  },
  {
   "cell_type": "code",
   "execution_count": 20,
   "id": "d728a96c-d892-4280-b879-d927db8c2b84",
   "metadata": {
    "tags": []
   },
   "outputs": [
    {
     "data": {
      "text/html": [
       "<div>\n",
       "<style scoped>\n",
       "    .dataframe tbody tr th:only-of-type {\n",
       "        vertical-align: middle;\n",
       "    }\n",
       "\n",
       "    .dataframe tbody tr th {\n",
       "        vertical-align: top;\n",
       "    }\n",
       "\n",
       "    .dataframe thead th {\n",
       "        text-align: right;\n",
       "    }\n",
       "</style>\n",
       "<table border=\"1\" class=\"dataframe\">\n",
       "  <thead>\n",
       "    <tr style=\"text-align: right;\">\n",
       "      <th></th>\n",
       "      <th>animal_id</th>\n",
       "      <th>session_id</th>\n",
       "      <th>trial_id</th>\n",
       "      <th>vid_path</th>\n",
       "      <th>output_path</th>\n",
       "      <th>exp_type</th>\n",
       "      <th>model_params</th>\n",
       "      <th>notes</th>\n",
       "    </tr>\n",
       "  </thead>\n",
       "  <tbody>\n",
       "  </tbody>\n",
       "</table>\n",
       "</div>"
      ],
      "text/plain": [
       "Empty DataFrame\n",
       "Columns: [animal_id, session_id, trial_id, vid_path, output_path, exp_type, model_params, notes]\n",
       "Index: []"
      ]
     },
     "execution_count": 20,
     "metadata": {},
     "output_type": "execute_result"
    }
   ],
   "source": [
    "df"
   ]
  },
  {
   "cell_type": "markdown",
   "id": "38b204e0-d954-4cce-b3a9-d173c218108a",
   "metadata": {},
   "source": [
    "# Add a single session for inference"
   ]
  },
  {
   "cell_type": "code",
   "execution_count": 21,
   "id": "b1a02f29-9dac-47b1-b247-909a2414f0f8",
   "metadata": {
    "tags": []
   },
   "outputs": [],
   "source": [
    "# add a single session for a given animal_id\n",
    "df.behavior.add_item(animal_id='M234Slc17a7_Gtacr2', session_id='20170328', exp_type='table')"
   ]
  },
  {
   "cell_type": "markdown",
   "id": "56c7500e-bd50-436e-a31b-bb3b0b777630",
   "metadata": {},
   "source": [
    "# View behavior videos\n",
    "\n",
    "Using `ipydatagrid` and `fastplotlib` can view behavior data. Allows movement across trials in each animal/session."
   ]
  },
  {
   "cell_type": "code",
   "execution_count": 22,
   "id": "60003a61-228e-4dbb-af39-424f9f52dd8e",
   "metadata": {
    "tags": []
   },
   "outputs": [
    {
     "name": "stderr",
     "output_type": "stream",
     "text": [
      "/home/clewis7/venvs/ansoup/lib/python3.11/site-packages/ipydatagrid/datagrid.py:445: UserWarning: Index name of 'index' is not round-trippable.\n",
      "  schema = pd.io.json.build_table_schema(dataframe)\n"
     ]
    },
    {
     "data": {
      "application/vnd.jupyter.widget-view+json": {
       "model_id": "8f0a645ce0fa4c7fbce8e0e8f034f96d",
       "version_major": 2,
       "version_minor": 0
      },
      "text/plain": [
       "RFBOutputContext()"
      ]
     },
     "metadata": {},
     "output_type": "display_data"
    },
    {
     "name": "stderr",
     "output_type": "stream",
     "text": [
      "/home/clewis7/repos/animal-soup/animal_soup/arrays/_video.py:96: UserWarning: min not implemented for LazyTiff, returning min of 0th index\n",
      "  warn(\"min not implemented for LazyTiff, returning min of 0th index\")\n",
      "/home/clewis7/repos/animal-soup/animal_soup/arrays/_video.py:101: UserWarning: max not implemented for LazyTiff, returning min of 0th index\n",
      "  warn(\"max not implemented for LazyTiff, returning min of 0th index\")\n"
     ]
    },
    {
     "data": {
      "application/vnd.jupyter.widget-view+json": {
       "model_id": "c001db1d11ed44b2b1e78c4bb116bf4d",
       "version_major": 2,
       "version_minor": 0
      },
      "text/plain": [
       "VBox(children=(DataGrid(auto_fit_params={'area': 'all', 'padding': 30, 'numCols': None}, base_row_size=24, col…"
      ]
     },
     "execution_count": 22,
     "metadata": {},
     "output_type": "execute_result"
    }
   ],
   "source": [
    "df.behavior.view(ethogram_view=False).show()"
   ]
  },
  {
   "cell_type": "markdown",
   "id": "6a090e58-5053-4f02-a3bc-d9cf71f8712d",
   "metadata": {},
   "source": [
    "# Run Inference"
   ]
  },
  {
   "cell_type": "markdown",
   "id": "59aeb98e-e10d-4182-9949-e75aeed9f50d",
   "metadata": {},
   "source": [
    "Predict behavior by calling `pandas.Series extension`. Here using default `mode='fast'`."
   ]
  },
  {
   "cell_type": "code",
   "execution_count": 23,
   "id": "41ee6318-33c6-462a-8fd3-7f747320ec56",
   "metadata": {
    "tags": []
   },
   "outputs": [
    {
     "name": "stdout",
     "output_type": "stream",
     "text": [
      "Successfully loaded flow generator model from checkpoint!\n",
      "Successfully loaded flow classifier from checkpoint!\n",
      "Successfully loaded spatial classifier from checkpoint!\n",
      "Successfully fused the flow classifier and spatial classifier models!\n",
      "Successfully reloaded hidden two stream model!\n",
      "Calculating vid normalization statistics\n"
     ]
    },
    {
     "name": "stderr",
     "output_type": "stream",
     "text": [
      "100%|████████████████████████████████████████████████████████████████████████████| 151/151 [00:00<00:00, 175.29it/s]\n",
      "                                                                                                                    \r"
     ]
    },
    {
     "name": "stdout",
     "output_type": "stream",
     "text": [
      "Successfully saved feature extraction output to disk!\n",
      "Successfully loaded sequence model from checkpoint!\n",
      "Successfully saved sequence outputs to disk!\n",
      "Successfully ran feature extraction and sequence inference.\n",
      "Successfully loaded flow generator model from checkpoint!\n",
      "Successfully loaded flow classifier from checkpoint!\n",
      "Successfully loaded spatial classifier from checkpoint!\n",
      "Successfully fused the flow classifier and spatial classifier models!\n",
      "Successfully reloaded hidden two stream model!\n",
      "Calculating vid normalization statistics\n"
     ]
    },
    {
     "name": "stderr",
     "output_type": "stream",
     "text": [
      "100%|████████████████████████████████████████████████████████████████████████████| 152/152 [00:00<00:00, 175.32it/s]\n",
      "                                                                                                                    \r"
     ]
    },
    {
     "name": "stdout",
     "output_type": "stream",
     "text": [
      "Successfully saved feature extraction output to disk!\n",
      "Successfully loaded sequence model from checkpoint!\n",
      "Successfully saved sequence outputs to disk!\n",
      "Successfully ran feature extraction and sequence inference.\n",
      "Successfully loaded flow generator model from checkpoint!\n",
      "Successfully loaded flow classifier from checkpoint!\n",
      "Successfully loaded spatial classifier from checkpoint!\n",
      "Successfully fused the flow classifier and spatial classifier models!\n",
      "Successfully reloaded hidden two stream model!\n",
      "Calculating vid normalization statistics\n"
     ]
    },
    {
     "name": "stderr",
     "output_type": "stream",
     "text": [
      "100%|████████████████████████████████████████████████████████████████████████████| 227/227 [00:01<00:00, 179.09it/s]\n",
      "                                                                                                                    "
     ]
    },
    {
     "name": "stdout",
     "output_type": "stream",
     "text": [
      "Successfully saved feature extraction output to disk!\n",
      "Successfully loaded sequence model from checkpoint!\n",
      "Successfully saved sequence outputs to disk!\n",
      "Successfully ran feature extraction and sequence inference.\n"
     ]
    },
    {
     "name": "stderr",
     "output_type": "stream",
     "text": [
      "\r"
     ]
    }
   ],
   "source": [
    "for ix, row in df.iterrows():\n",
    "    row.behavior.infer()"
   ]
  },
  {
   "cell_type": "markdown",
   "id": "657df9dd-6671-4d9d-9250-d7ed4bd0f6e5",
   "metadata": {},
   "source": [
    "# View Inference Results"
   ]
  },
  {
   "cell_type": "code",
   "execution_count": 24,
   "id": "e08bd914-c22c-4541-995b-6e21048835b3",
   "metadata": {
    "tags": []
   },
   "outputs": [
    {
     "name": "stderr",
     "output_type": "stream",
     "text": [
      "/home/clewis7/venvs/ansoup/lib/python3.11/site-packages/ipydatagrid/datagrid.py:445: UserWarning: Index name of 'index' is not round-trippable.\n",
      "  schema = pd.io.json.build_table_schema(dataframe)\n"
     ]
    },
    {
     "data": {
      "application/vnd.jupyter.widget-view+json": {
       "model_id": "0cc62947db3f4e399cd20426b3e112a8",
       "version_major": 2,
       "version_minor": 0
      },
      "text/plain": [
       "RFBOutputContext()"
      ]
     },
     "metadata": {},
     "output_type": "display_data"
    },
    {
     "name": "stderr",
     "output_type": "stream",
     "text": [
      "/home/clewis7/repos/animal-soup/animal_soup/arrays/_video.py:96: UserWarning: min not implemented for LazyTiff, returning min of 0th index\n",
      "  warn(\"min not implemented for LazyTiff, returning min of 0th index\")\n",
      "/home/clewis7/repos/animal-soup/animal_soup/arrays/_video.py:101: UserWarning: max not implemented for LazyTiff, returning min of 0th index\n",
      "  warn(\"max not implemented for LazyTiff, returning min of 0th index\")\n"
     ]
    },
    {
     "data": {
      "application/vnd.jupyter.widget-view+json": {
       "model_id": "c27ea5601ddc454c99619a04fd68b97c",
       "version_major": 2,
       "version_minor": 0
      },
      "text/plain": [
       "RFBOutputContext()"
      ]
     },
     "metadata": {},
     "output_type": "display_data"
    },
    {
     "data": {
      "application/vnd.jupyter.widget-view+json": {
       "model_id": "6163c833d0e640188e476475ef8291c1",
       "version_major": 2,
       "version_minor": 0
      },
      "text/plain": [
       "VBox(children=(DataGrid(auto_fit_params={'area': 'all', 'padding': 30, 'numCols': None}, base_row_size=24, col…"
      ]
     },
     "execution_count": 24,
     "metadata": {},
     "output_type": "execute_result"
    }
   ],
   "source": [
    "df.behavior.view().show()"
   ]
  },
  {
   "cell_type": "markdown",
   "id": "e81a5630-2867-4fbf-a7ea-e92b31767696",
   "metadata": {},
   "source": [
    "# Clean ethograms "
   ]
  },
  {
   "cell_type": "code",
   "execution_count": 29,
   "id": "27a86ea8-b0f6-466c-934a-a78bbfd2a160",
   "metadata": {},
   "outputs": [
    {
     "name": "stderr",
     "output_type": "stream",
     "text": [
      "/home/clewis7/venvs/ansoup/lib/python3.11/site-packages/ipydatagrid/datagrid.py:445: UserWarning: Index name of 'index' is not round-trippable.\n",
      "  schema = pd.io.json.build_table_schema(dataframe)\n"
     ]
    },
    {
     "data": {
      "application/vnd.jupyter.widget-view+json": {
       "model_id": "8ed4bf35d0194053bf900d2c4c894ab0",
       "version_major": 2,
       "version_minor": 0
      },
      "text/plain": [
       "RFBOutputContext()"
      ]
     },
     "metadata": {},
     "output_type": "display_data"
    },
    {
     "name": "stderr",
     "output_type": "stream",
     "text": [
      "/home/clewis7/repos/animal-soup/animal_soup/arrays/_video.py:96: UserWarning: min not implemented for LazyTiff, returning min of 0th index\n",
      "  warn(\"min not implemented for LazyTiff, returning min of 0th index\")\n",
      "/home/clewis7/repos/animal-soup/animal_soup/arrays/_video.py:101: UserWarning: max not implemented for LazyTiff, returning min of 0th index\n",
      "  warn(\"max not implemented for LazyTiff, returning min of 0th index\")\n"
     ]
    },
    {
     "data": {
      "application/vnd.jupyter.widget-view+json": {
       "model_id": "b6d2234a3f9a41dab6694bff7a926292",
       "version_major": 2,
       "version_minor": 0
      },
      "text/plain": [
       "RFBOutputContext()"
      ]
     },
     "metadata": {},
     "output_type": "display_data"
    },
    {
     "data": {
      "application/vnd.jupyter.widget-view+json": {
       "model_id": "a202a1129ab045dab112c9480481a2c5",
       "version_major": 2,
       "version_minor": 0
      },
      "text/plain": [
       "VBox(children=(DataGrid(auto_fit_params={'area': 'all', 'padding': 30, 'numCols': None}, base_row_size=24, col…"
      ]
     },
     "execution_count": 29,
     "metadata": {},
     "output_type": "execute_result"
    }
   ],
   "source": [
    "df.behavior.clean_ethograms().show()"
   ]
  },
  {
   "cell_type": "code",
   "execution_count": null,
   "id": "f61c0d8f-8504-4b03-ae36-eefb40df02dc",
   "metadata": {},
   "outputs": [],
   "source": []
  }
 ],
 "metadata": {
  "kernelspec": {
   "display_name": "Python 3 (ipykernel)",
   "language": "python",
   "name": "python3"
  },
  "language_info": {
   "codemirror_mode": {
    "name": "ipython",
    "version": 3
   },
   "file_extension": ".py",
   "mimetype": "text/x-python",
   "name": "python",
   "nbconvert_exporter": "python",
   "pygments_lexer": "ipython3",
   "version": "3.11.3"
  }
 },
 "nbformat": 4,
 "nbformat_minor": 5
}
