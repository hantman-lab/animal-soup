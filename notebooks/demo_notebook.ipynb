{
 "cells": [
  {
   "cell_type": "markdown",
   "id": "5a371579-a182-4255-9d40-0b3112634a49",
   "metadata": {},
   "source": [
    "### Demo notebook illustrating how to use `animal-soup`"
   ]
  },
  {
   "cell_type": "code",
   "execution_count": 1,
   "id": "a44fada5-680d-4cfa-a4a3-745c27706672",
   "metadata": {
    "tags": []
   },
   "outputs": [
    {
     "name": "stderr",
     "output_type": "stream",
     "text": [
      "2023-06-16 09:32:59.382253: I tensorflow/core/platform/cpu_feature_guard.cc:182] This TensorFlow binary is optimized to use available CPU instructions in performance-critical operations.\n",
      "To enable the following instructions: AVX2 FMA, in other operations, rebuild TensorFlow with the appropriate compiler flags.\n",
      "2023-06-16 09:32:59.838147: W tensorflow/compiler/tf2tensorrt/utils/py_utils.cc:38] TF-TRT Warning: Could not find TensorRT\n",
      "/home/clewis7/repos/animal-soup/animal_soup/batch_utils.py:148: UserWarning: registration of accessor <class 'animal_soup.batch_utils.PathsDataFrameExtension'> under name 'paths' for type <class 'pandas.core.frame.DataFrame'> is overriding a preexisting attribute with the same name.\n",
      "  @pd.api.extensions.register_dataframe_accessor(\"paths\")\n",
      "/home/clewis7/repos/animal-soup/animal_soup/batch_utils.py:153: UserWarning: registration of accessor <class 'animal_soup.batch_utils.PathsSeriesExtension'> under name 'paths' for type <class 'pandas.core.series.Series'> is overriding a preexisting attribute with the same name.\n",
      "  @pd.api.extensions.register_series_accessor(\"paths\")\n",
      "/home/clewis7/repos/animal-soup/animal_soup/extensions/viewer.py:8: UserWarning: registration of accessor <class 'animal_soup.extensions.viewer.BehaviorDataFrameVizExtension'> under name 'behavior' for type <class 'pandas.core.frame.DataFrame'> is overriding a preexisting attribute with the same name.\n",
      "  @pd.api.extensions.register_dataframe_accessor(\"behavior\")\n"
     ]
    }
   ],
   "source": [
    "from animal_soup import *\n",
    "import pandas as pd\n",
    "import numpy as np\n",
    "import os"
   ]
  },
  {
   "cell_type": "markdown",
   "id": "83e68c9b-d1f3-4507-8b0e-31cfac1293af",
   "metadata": {},
   "source": [
    "# Paths"
   ]
  },
  {
   "cell_type": "markdown",
   "id": "fbb3922c-94f6-4c99-9b45-59385e9a7ff9",
   "metadata": {},
   "source": [
    "Will need to set paths according to your own data storage location. Data should be stored in the following format:\n",
    "\n",
    "Example:\n",
    "\n",
    "`/home/{user}/data/`\n",
    "\n",
    "    `animal_id/`\n",
    "\n",
    "        `session_id/`\n",
    "            \n",
    "            `trial_vid1`\n",
    "            \n",
    "            `trial_vid2`\n",
    "            \n",
    "            ...\n",
    "\n",
    "        `session_id/`\n",
    "            \n",
    "            `trial_vid1`\n",
    "            \n",
    "            `trial_vid2`\n",
    "            \n",
    "            ...\n",
    "\n",
    "        ..."
   ]
  },
  {
   "cell_type": "markdown",
   "id": "e7de7e72-85a7-4b0e-8897-4497a182d216",
   "metadata": {},
   "source": [
    "`set_parent_raw_data_path` - This function from `animal_soup` (modeled from `mesmerize_core`) sets the top level raw data directory. This should be set to the top level directory where your behavioral data is stored. This allows you to move your behavioral data directory structure between computers, as long as you keep everything under the parent path the same."
   ]
  },
  {
   "cell_type": "code",
   "execution_count": 2,
   "id": "fbfeb7c0-99f1-46e1-a6af-1ee1ce174211",
   "metadata": {
    "tags": []
   },
   "outputs": [
    {
     "data": {
      "text/plain": [
       "PosixPath('/data/caitlin/ground_truth')"
      ]
     },
     "execution_count": 2,
     "metadata": {},
     "output_type": "execute_result"
    }
   ],
   "source": [
    "# for this demo set this dir as the path to your `animal_soup` demo data folder\n",
    "set_parent_raw_data_path('/data/caitlin/ground_truth/')"
   ]
  },
  {
   "cell_type": "markdown",
   "id": "dacfe79f-5620-465f-a0ed-90c3a9acf900",
   "metadata": {},
   "source": [
    "### Dataframe path, this is where your ethograms will be organized\n",
    "\n",
    "This can be anywhere, it does not need to be under the parent raw data path."
   ]
  },
  {
   "cell_type": "code",
   "execution_count": 3,
   "id": "093cf0ca-63f1-4521-885a-113ab2110462",
   "metadata": {
    "tags": []
   },
   "outputs": [],
   "source": [
    "df_path = get_parent_raw_data_path().joinpath('/data/caitlin/sample_df.hdf')"
   ]
  },
  {
   "cell_type": "markdown",
   "id": "4daf4c00-8661-47e5-8ccd-f9b67d30ab13",
   "metadata": {},
   "source": [
    "# Create a new batch\n",
    "\n",
    "This will create a new pandas `DataFrame` with the columns necessary for `animal_soup`. You can additional columns as necessary, but do not modify the columns used by `animal_soup`.\n",
    "\n",
    "<b> Note: you will need to use `load_df()` to load the dataframe later. You can use `create_df()` to overwrite an existing behavior dataframe by using the kward `remove_existing=True`.  <b> "
   ]
  },
  {
   "cell_type": "code",
   "execution_count": 4,
   "id": "0166c541-3216-4a59-9de5-f79fbadd2f9a",
   "metadata": {
    "tags": []
   },
   "outputs": [],
   "source": [
    "# create a new batch\n",
    "df = create_df(df_path, remove_existing=True)\n",
    "# load an existing batch use `load_df()`\n",
    "#df = load_df(df_path)"
   ]
  },
  {
   "cell_type": "markdown",
   "id": "e335f42a-acd8-4953-8e6d-1a21e97de178",
   "metadata": {},
   "source": [
    "# View the dataframe\n",
    "\n",
    "It is empty with the appropriate columns for `animal_soup`"
   ]
  },
  {
   "cell_type": "code",
   "execution_count": 5,
   "id": "c2d69e03-91c1-43e8-a9b4-a2f2b0635b47",
   "metadata": {
    "tags": []
   },
   "outputs": [
    {
     "data": {
      "text/html": [
       "<div>\n",
       "<style scoped>\n",
       "    .dataframe tbody tr th:only-of-type {\n",
       "        vertical-align: middle;\n",
       "    }\n",
       "\n",
       "    .dataframe tbody tr th {\n",
       "        vertical-align: top;\n",
       "    }\n",
       "\n",
       "    .dataframe thead th {\n",
       "        text-align: right;\n",
       "    }\n",
       "</style>\n",
       "<table border=\"1\" class=\"dataframe\">\n",
       "  <thead>\n",
       "    <tr style=\"text-align: right;\">\n",
       "      <th></th>\n",
       "      <th>animal_id</th>\n",
       "      <th>session_id</th>\n",
       "      <th>ethograms</th>\n",
       "      <th>notes</th>\n",
       "    </tr>\n",
       "  </thead>\n",
       "  <tbody>\n",
       "  </tbody>\n",
       "</table>\n",
       "</div>"
      ],
      "text/plain": [
       "Empty DataFrame\n",
       "Columns: [animal_id, session_id, ethograms, notes]\n",
       "Index: []"
      ]
     },
     "execution_count": 5,
     "metadata": {},
     "output_type": "execute_result"
    }
   ],
   "source": [
    "df"
   ]
  },
  {
   "cell_type": "markdown",
   "id": "2859b9ea-9235-46db-85f5-ae7e572b30bb",
   "metadata": {},
   "source": [
    "# Adding items to the dataframe\n",
    "\n",
    "Add an item to the dataframe using a pandas dataframe extension access modifier. \n",
    "\n",
    "Can add all sessions for a given animal or simply add a single animal/session. "
   ]
  },
  {
   "cell_type": "code",
   "execution_count": 6,
   "id": "3d907d41-050a-48f2-95b6-168309c58ef7",
   "metadata": {},
   "outputs": [],
   "source": [
    "# add all sessions for a given animal_id\n",
    "df.behavior.add_item(animal_id=\"M232Slc17a7_Gtacr2\")\n",
    "\n",
    "# add a single session for a given animal_id\n",
    "df.behavior.add_item(animal_id='M234Slc17a7_Gtacr2', session_id='20170328')"
   ]
  },
  {
   "cell_type": "code",
   "execution_count": 7,
   "id": "59b58529-2b1a-4573-bae8-6f8cec24df06",
   "metadata": {
    "tags": []
   },
   "outputs": [
    {
     "data": {
      "text/html": [
       "<div>\n",
       "<style scoped>\n",
       "    .dataframe tbody tr th:only-of-type {\n",
       "        vertical-align: middle;\n",
       "    }\n",
       "\n",
       "    .dataframe tbody tr th {\n",
       "        vertical-align: top;\n",
       "    }\n",
       "\n",
       "    .dataframe thead th {\n",
       "        text-align: right;\n",
       "    }\n",
       "</style>\n",
       "<table border=\"1\" class=\"dataframe\">\n",
       "  <thead>\n",
       "    <tr style=\"text-align: right;\">\n",
       "      <th></th>\n",
       "      <th>animal_id</th>\n",
       "      <th>session_id</th>\n",
       "      <th>ethograms</th>\n",
       "      <th>notes</th>\n",
       "    </tr>\n",
       "  </thead>\n",
       "  <tbody>\n",
       "    <tr>\n",
       "      <th>0</th>\n",
       "      <td>M232Slc17a7_Gtacr2</td>\n",
       "      <td>20170306</td>\n",
       "      <td>{'M232_20170306_v024': None, 'M232_20170306_v0...</td>\n",
       "      <td>None</td>\n",
       "    </tr>\n",
       "    <tr>\n",
       "      <th>1</th>\n",
       "      <td>M232Slc17a7_Gtacr2</td>\n",
       "      <td>20170307</td>\n",
       "      <td>{'M232_20170307_v064': None, 'M232_20170307_v0...</td>\n",
       "      <td>None</td>\n",
       "    </tr>\n",
       "    <tr>\n",
       "      <th>2</th>\n",
       "      <td>M232Slc17a7_Gtacr2</td>\n",
       "      <td>20170308</td>\n",
       "      <td>{'M232_20170308_v028': None, 'M232_20170308_v0...</td>\n",
       "      <td>None</td>\n",
       "    </tr>\n",
       "    <tr>\n",
       "      <th>3</th>\n",
       "      <td>M232Slc17a7_Gtacr2</td>\n",
       "      <td>20170310</td>\n",
       "      <td>{'M232_20170310_v013': None}</td>\n",
       "      <td>None</td>\n",
       "    </tr>\n",
       "    <tr>\n",
       "      <th>4</th>\n",
       "      <td>M232Slc17a7_Gtacr2</td>\n",
       "      <td>20170314</td>\n",
       "      <td>{'M232_20170314_v029': None}</td>\n",
       "      <td>None</td>\n",
       "    </tr>\n",
       "    <tr>\n",
       "      <th>5</th>\n",
       "      <td>M234Slc17a7_Gtacr2</td>\n",
       "      <td>20170328</td>\n",
       "      <td>{'M234_20170328_v002': None, 'M234_20170328_v0...</td>\n",
       "      <td>None</td>\n",
       "    </tr>\n",
       "  </tbody>\n",
       "</table>\n",
       "</div>"
      ],
      "text/plain": [
       "            animal_id session_id   \n",
       "0  M232Slc17a7_Gtacr2   20170306  \\\n",
       "1  M232Slc17a7_Gtacr2   20170307   \n",
       "2  M232Slc17a7_Gtacr2   20170308   \n",
       "3  M232Slc17a7_Gtacr2   20170310   \n",
       "4  M232Slc17a7_Gtacr2   20170314   \n",
       "5  M234Slc17a7_Gtacr2   20170328   \n",
       "\n",
       "                                           ethograms notes  \n",
       "0  {'M232_20170306_v024': None, 'M232_20170306_v0...  None  \n",
       "1  {'M232_20170307_v064': None, 'M232_20170307_v0...  None  \n",
       "2  {'M232_20170308_v028': None, 'M232_20170308_v0...  None  \n",
       "3                       {'M232_20170310_v013': None}  None  \n",
       "4                       {'M232_20170314_v029': None}  None  \n",
       "5  {'M234_20170328_v002': None, 'M234_20170328_v0...  None  "
      ]
     },
     "execution_count": 7,
     "metadata": {},
     "output_type": "execute_result"
    }
   ],
   "source": [
    "df"
   ]
  },
  {
   "cell_type": "markdown",
   "id": "ad140112-4c9d-440b-ab92-937f8a481ae5",
   "metadata": {},
   "source": [
    "# Removing items from the dataframe\n",
    "\n",
    "Remove items from the dataframe using a pandas dataframe extension access modifier.\n",
    "\n",
    "Can remove all sessions for a given animal or simply remove a single animal/session."
   ]
  },
  {
   "cell_type": "code",
   "execution_count": 8,
   "id": "505f9fba-ed71-4109-b249-fd45fb7dee2f",
   "metadata": {
    "tags": []
   },
   "outputs": [
    {
     "name": "stderr",
     "output_type": "stream",
     "text": [
      "/home/clewis7/repos/animal-soup/animal_soup/extensions/common.py:194: UserWarning: No `session_id` provided, will remove all items for provided animal_id: M232Slc17a7_Gtacr2\n",
      "  warnings.warn(\"No `session_id` provided, will remove all items for provided \"\n"
     ]
    }
   ],
   "source": [
    "# remove all sessions for a given animal\n",
    "df.behavior.remove_item(animal_id='M232Slc17a7_Gtacr2')\n",
    "\n",
    "# remove single session for a given animal\n",
    "df.behavior.remove_item(animal_id='M234Slc17a7_Gtacr2', session_id='20170328')"
   ]
  },
  {
   "cell_type": "code",
   "execution_count": 9,
   "id": "d728a96c-d892-4280-b879-d927db8c2b84",
   "metadata": {
    "tags": []
   },
   "outputs": [
    {
     "data": {
      "text/html": [
       "<div>\n",
       "<style scoped>\n",
       "    .dataframe tbody tr th:only-of-type {\n",
       "        vertical-align: middle;\n",
       "    }\n",
       "\n",
       "    .dataframe tbody tr th {\n",
       "        vertical-align: top;\n",
       "    }\n",
       "\n",
       "    .dataframe thead th {\n",
       "        text-align: right;\n",
       "    }\n",
       "</style>\n",
       "<table border=\"1\" class=\"dataframe\">\n",
       "  <thead>\n",
       "    <tr style=\"text-align: right;\">\n",
       "      <th></th>\n",
       "      <th>animal_id</th>\n",
       "      <th>session_id</th>\n",
       "      <th>ethograms</th>\n",
       "      <th>notes</th>\n",
       "    </tr>\n",
       "  </thead>\n",
       "  <tbody>\n",
       "  </tbody>\n",
       "</table>\n",
       "</div>"
      ],
      "text/plain": [
       "Empty DataFrame\n",
       "Columns: [animal_id, session_id, ethograms, notes]\n",
       "Index: []"
      ]
     },
     "execution_count": 9,
     "metadata": {},
     "output_type": "execute_result"
    }
   ],
   "source": [
    "df"
   ]
  },
  {
   "cell_type": "markdown",
   "id": "af7bd4b4-9ed8-4730-86b2-b7c2bad9b2ef",
   "metadata": {},
   "source": [
    "# Adding all animals and all sessions"
   ]
  },
  {
   "cell_type": "code",
   "execution_count": 10,
   "id": "b1a02f29-9dac-47b1-b247-909a2414f0f8",
   "metadata": {
    "tags": []
   },
   "outputs": [],
   "source": [
    "animal_ids = [a.stem for a in sorted(get_parent_raw_data_path().glob('M*'))]"
   ]
  },
  {
   "cell_type": "code",
   "execution_count": 11,
   "id": "fc9f5263-eb73-49cd-ad74-bd3cbc4871f2",
   "metadata": {
    "tags": []
   },
   "outputs": [],
   "source": [
    "for a in animal_ids:\n",
    "    df.behavior.add_item(animal_id=a)"
   ]
  },
  {
   "cell_type": "code",
   "execution_count": 12,
   "id": "9a690b7c-0f9e-4704-9953-3e08872dc614",
   "metadata": {
    "tags": []
   },
   "outputs": [
    {
     "data": {
      "text/html": [
       "<div>\n",
       "<style scoped>\n",
       "    .dataframe tbody tr th:only-of-type {\n",
       "        vertical-align: middle;\n",
       "    }\n",
       "\n",
       "    .dataframe tbody tr th {\n",
       "        vertical-align: top;\n",
       "    }\n",
       "\n",
       "    .dataframe thead th {\n",
       "        text-align: right;\n",
       "    }\n",
       "</style>\n",
       "<table border=\"1\" class=\"dataframe\">\n",
       "  <thead>\n",
       "    <tr style=\"text-align: right;\">\n",
       "      <th></th>\n",
       "      <th>animal_id</th>\n",
       "      <th>session_id</th>\n",
       "      <th>ethograms</th>\n",
       "      <th>notes</th>\n",
       "    </tr>\n",
       "  </thead>\n",
       "  <tbody>\n",
       "    <tr>\n",
       "      <th>0</th>\n",
       "      <td>M232Slc17a7_Gtacr2</td>\n",
       "      <td>20170306</td>\n",
       "      <td>{'M232_20170306_v024': None, 'M232_20170306_v0...</td>\n",
       "      <td>None</td>\n",
       "    </tr>\n",
       "    <tr>\n",
       "      <th>1</th>\n",
       "      <td>M232Slc17a7_Gtacr2</td>\n",
       "      <td>20170307</td>\n",
       "      <td>{'M232_20170307_v064': None, 'M232_20170307_v0...</td>\n",
       "      <td>None</td>\n",
       "    </tr>\n",
       "    <tr>\n",
       "      <th>2</th>\n",
       "      <td>M232Slc17a7_Gtacr2</td>\n",
       "      <td>20170308</td>\n",
       "      <td>{'M232_20170308_v028': None, 'M232_20170308_v0...</td>\n",
       "      <td>None</td>\n",
       "    </tr>\n",
       "    <tr>\n",
       "      <th>3</th>\n",
       "      <td>M232Slc17a7_Gtacr2</td>\n",
       "      <td>20170310</td>\n",
       "      <td>{'M232_20170310_v013': None}</td>\n",
       "      <td>None</td>\n",
       "    </tr>\n",
       "    <tr>\n",
       "      <th>4</th>\n",
       "      <td>M232Slc17a7_Gtacr2</td>\n",
       "      <td>20170314</td>\n",
       "      <td>{'M232_20170314_v029': None}</td>\n",
       "      <td>None</td>\n",
       "    </tr>\n",
       "    <tr>\n",
       "      <th>...</th>\n",
       "      <td>...</td>\n",
       "      <td>...</td>\n",
       "      <td>...</td>\n",
       "      <td>...</td>\n",
       "    </tr>\n",
       "    <tr>\n",
       "      <th>102</th>\n",
       "      <td>M324Slc17a7_Chr2_Bpn_CBPM</td>\n",
       "      <td>20201015</td>\n",
       "      <td>{'M324_20201015_v126': None, 'M324_20201015_v1...</td>\n",
       "      <td>None</td>\n",
       "    </tr>\n",
       "    <tr>\n",
       "      <th>103</th>\n",
       "      <td>M326Slc17a7_Chr2_Bpn_DCN</td>\n",
       "      <td>20201110</td>\n",
       "      <td>{'M326_20201110_v001': None, 'M326_20201110_v0...</td>\n",
       "      <td>None</td>\n",
       "    </tr>\n",
       "    <tr>\n",
       "      <th>104</th>\n",
       "      <td>M328Slc17a7_Chr2_Bpn_DCN</td>\n",
       "      <td>20201130</td>\n",
       "      <td>{'M328_20201130_v001': None}</td>\n",
       "      <td>None</td>\n",
       "    </tr>\n",
       "    <tr>\n",
       "      <th>105</th>\n",
       "      <td>M336DYT1</td>\n",
       "      <td>20210612</td>\n",
       "      <td>{'M336_20210612_v001': None, 'M336_20210612_v0...</td>\n",
       "      <td>None</td>\n",
       "    </tr>\n",
       "    <tr>\n",
       "      <th>106</th>\n",
       "      <td>M336DYT1</td>\n",
       "      <td>20210613</td>\n",
       "      <td>{'M336_20210613_v001': None}</td>\n",
       "      <td>None</td>\n",
       "    </tr>\n",
       "  </tbody>\n",
       "</table>\n",
       "<p>107 rows × 4 columns</p>\n",
       "</div>"
      ],
      "text/plain": [
       "                     animal_id session_id   \n",
       "0           M232Slc17a7_Gtacr2   20170306  \\\n",
       "1           M232Slc17a7_Gtacr2   20170307   \n",
       "2           M232Slc17a7_Gtacr2   20170308   \n",
       "3           M232Slc17a7_Gtacr2   20170310   \n",
       "4           M232Slc17a7_Gtacr2   20170314   \n",
       "..                         ...        ...   \n",
       "102  M324Slc17a7_Chr2_Bpn_CBPM   20201015   \n",
       "103   M326Slc17a7_Chr2_Bpn_DCN   20201110   \n",
       "104   M328Slc17a7_Chr2_Bpn_DCN   20201130   \n",
       "105                   M336DYT1   20210612   \n",
       "106                   M336DYT1   20210613   \n",
       "\n",
       "                                             ethograms notes  \n",
       "0    {'M232_20170306_v024': None, 'M232_20170306_v0...  None  \n",
       "1    {'M232_20170307_v064': None, 'M232_20170307_v0...  None  \n",
       "2    {'M232_20170308_v028': None, 'M232_20170308_v0...  None  \n",
       "3                         {'M232_20170310_v013': None}  None  \n",
       "4                         {'M232_20170314_v029': None}  None  \n",
       "..                                                 ...   ...  \n",
       "102  {'M324_20201015_v126': None, 'M324_20201015_v1...  None  \n",
       "103  {'M326_20201110_v001': None, 'M326_20201110_v0...  None  \n",
       "104                       {'M328_20201130_v001': None}  None  \n",
       "105  {'M336_20210612_v001': None, 'M336_20210612_v0...  None  \n",
       "106                       {'M336_20210613_v001': None}  None  \n",
       "\n",
       "[107 rows x 4 columns]"
      ]
     },
     "execution_count": 12,
     "metadata": {},
     "output_type": "execute_result"
    }
   ],
   "source": [
    "df"
   ]
  },
  {
   "cell_type": "markdown",
   "id": "56c7500e-bd50-436e-a31b-bb3b0b777630",
   "metadata": {},
   "source": [
    "# View behavior videos\n",
    "\n",
    "Using `ipydatagrid` and `fastplotlib` can view behavior data. Allows movement across trials in each animal/session."
   ]
  },
  {
   "cell_type": "code",
   "execution_count": 13,
   "id": "60003a61-228e-4dbb-af39-424f9f52dd8e",
   "metadata": {
    "tags": []
   },
   "outputs": [
    {
     "name": "stderr",
     "output_type": "stream",
     "text": [
      "/home/clewis7/venvs/mescore/lib/python3.11/site-packages/ipydatagrid/datagrid.py:445: UserWarning: Index name of 'index' is not round-trippable.\n",
      "  schema = pd.io.json.build_table_schema(dataframe)\n"
     ]
    },
    {
     "data": {
      "application/vnd.jupyter.widget-view+json": {
       "model_id": "2ab5e3b4de45437c8e14de2e8d870967",
       "version_major": 2,
       "version_minor": 0
      },
      "text/plain": [
       "RFBOutputContext()"
      ]
     },
     "metadata": {},
     "output_type": "display_data"
    },
    {
     "name": "stderr",
     "output_type": "stream",
     "text": [
      "/home/clewis7/repos/mesmerize-core/mesmerize_core/arrays/_video.py:87: UserWarning: min not implemented for LazyTiff, returning min of 0th index\n",
      "  warn(\"min not implemented for LazyTiff, returning min of 0th index\")\n",
      "/home/clewis7/repos/mesmerize-core/mesmerize_core/arrays/_video.py:92: UserWarning: max not implemented for LazyTiff, returning min of 0th index\n",
      "  warn(\"max not implemented for LazyTiff, returning min of 0th index\")\n"
     ]
    },
    {
     "data": {
      "application/vnd.jupyter.widget-view+json": {
       "model_id": "1354af93e3854368854a731548d38905",
       "version_major": 2,
       "version_minor": 0
      },
      "text/plain": [
       "VBox(children=(DataGrid(auto_fit_params={'area': 'all', 'padding': 30, 'numCols': None}, base_row_size=24, col…"
      ]
     },
     "execution_count": 13,
     "metadata": {},
     "output_type": "execute_result"
    }
   ],
   "source": [
    "df.behavior.behavior_view().show()"
   ]
  },
  {
   "cell_type": "code",
   "execution_count": null,
   "id": "9433d934-07b4-4bf6-a8e6-1ca5a65a2089",
   "metadata": {},
   "outputs": [],
   "source": []
  }
 ],
 "metadata": {
  "kernelspec": {
   "display_name": "Python 3 (ipykernel)",
   "language": "python",
   "name": "python3"
  },
  "language_info": {
   "codemirror_mode": {
    "name": "ipython",
    "version": 3
   },
   "file_extension": ".py",
   "mimetype": "text/x-python",
   "name": "python",
   "nbconvert_exporter": "python",
   "pygments_lexer": "ipython3",
   "version": "3.11.3"
  }
 },
 "nbformat": 4,
 "nbformat_minor": 5
}
