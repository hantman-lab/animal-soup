{
 "cells": [
  {
   "cell_type": "code",
   "execution_count": 1,
   "id": "985198d8-a542-4544-a0ac-480ad579437b",
   "metadata": {
    "tags": []
   },
   "outputs": [
    {
     "name": "stderr",
     "output_type": "stream",
     "text": [
      "2023-06-06 15:45:24.898928: I tensorflow/core/platform/cpu_feature_guard.cc:182] This TensorFlow binary is optimized to use available CPU instructions in performance-critical operations.\n",
      "To enable the following instructions: AVX2 FMA, in other operations, rebuild TensorFlow with the appropriate compiler flags.\n",
      "2023-06-06 15:45:25.498805: W tensorflow/compiler/tf2tensorrt/utils/py_utils.cc:38] TF-TRT Warning: Could not find TensorRT\n",
      "/home/clewis7/repos/animal-soup/animal_soup/batch_utils.py:137: UserWarning: registration of accessor <class 'animal_soup.batch_utils.PathsDataFrameExtension'> under name 'paths' for type <class 'pandas.core.frame.DataFrame'> is overriding a preexisting attribute with the same name.\n",
      "  @pd.api.extensions.register_dataframe_accessor(\"paths\")\n",
      "/home/clewis7/repos/animal-soup/animal_soup/batch_utils.py:142: UserWarning: registration of accessor <class 'animal_soup.batch_utils.PathsSeriesExtension'> under name 'paths' for type <class 'pandas.core.series.Series'> is overriding a preexisting attribute with the same name.\n",
      "  @pd.api.extensions.register_series_accessor(\"paths\")\n",
      "/home/clewis7/repos/animal-soup/animal_soup/extensions/viewer.py:8: UserWarning: registration of accessor <class 'animal_soup.extensions.viewer.BehaviorDataFrameVizExtension'> under name 'behavior' for type <class 'pandas.core.frame.DataFrame'> is overriding a preexisting attribute with the same name.\n",
      "  @pd.api.extensions.register_dataframe_accessor(\"behavior\")\n"
     ]
    }
   ],
   "source": [
    "from animal_soup import *"
   ]
  },
  {
   "cell_type": "code",
   "execution_count": 7,
   "id": "e348afc9-8bcc-4422-9689-e126e1cd7eba",
   "metadata": {
    "tags": []
   },
   "outputs": [
    {
     "data": {
      "text/plain": [
       "PosixPath('/data/caitlin/training-vids')"
      ]
     },
     "execution_count": 7,
     "metadata": {},
     "output_type": "execute_result"
    }
   ],
   "source": [
    "set_parent_raw_data_path(\"/data/caitlin/training-vids/\")"
   ]
  },
  {
   "cell_type": "code",
   "execution_count": 10,
   "id": "649486de-2400-424c-9588-61d2170d67d3",
   "metadata": {
    "tags": []
   },
   "outputs": [],
   "source": [
    "df = load_df(\"/data/caitlin/training-vids/data-frames/data2.hdf\")\n",
    "df2 = load_df(\"/data/caitlin/training-vids/data-frames/data1.hdf\")"
   ]
  },
  {
   "cell_type": "code",
   "execution_count": 11,
   "id": "12f2aec8-79c2-4fcd-b7c7-b3cc019bc8bc",
   "metadata": {
    "tags": []
   },
   "outputs": [
    {
     "name": "stderr",
     "output_type": "stream",
     "text": [
      "/home/clewis7/venvs/mescore/lib/python3.11/site-packages/ipydatagrid/datagrid.py:445: UserWarning: Index name of 'index' is not round-trippable.\n",
      "  schema = pd.io.json.build_table_schema(dataframe)\n"
     ]
    },
    {
     "data": {
      "application/vnd.jupyter.widget-view+json": {
       "model_id": "a3c1bc33c0a749c2a539b553681220c3",
       "version_major": 2,
       "version_minor": 0
      },
      "text/plain": [
       "RFBOutputContext()"
      ]
     },
     "metadata": {},
     "output_type": "display_data"
    },
    {
     "name": "stderr",
     "output_type": "stream",
     "text": [
      "/home/clewis7/repos/mesmerize-core/mesmerize_core/arrays/_video.py:87: UserWarning: min not implemented for LazyTiff, returning min of 0th index\n",
      "  warn(\"min not implemented for LazyTiff, returning min of 0th index\")\n",
      "/home/clewis7/repos/mesmerize-core/mesmerize_core/arrays/_video.py:92: UserWarning: max not implemented for LazyTiff, returning min of 0th index\n",
      "  warn(\"max not implemented for LazyTiff, returning min of 0th index\")\n"
     ]
    },
    {
     "data": {
      "application/vnd.jupyter.widget-view+json": {
       "model_id": "b20e8e9c3af043f99377ad0654662ac1",
       "version_major": 2,
       "version_minor": 0
      },
      "text/plain": [
       "VBox(children=(DataGrid(auto_fit_params={'area': 'all', 'padding': 30, 'numCols': None}, base_row_size=24, col…"
      ]
     },
     "execution_count": 11,
     "metadata": {},
     "output_type": "execute_result"
    }
   ],
   "source": [
    "df2.behavior.behavior_view().show()"
   ]
  },
  {
   "cell_type": "code",
   "execution_count": 9,
   "id": "b008411f-eb63-4d56-8473-18c12db28d64",
   "metadata": {
    "tags": []
   },
   "outputs": [
    {
     "name": "stderr",
     "output_type": "stream",
     "text": [
      "/home/clewis7/venvs/mescore/lib/python3.11/site-packages/ipydatagrid/datagrid.py:445: UserWarning: Index name of 'index' is not round-trippable.\n",
      "  schema = pd.io.json.build_table_schema(dataframe)\n"
     ]
    },
    {
     "data": {
      "application/vnd.jupyter.widget-view+json": {
       "model_id": "9f08f89393aa4437ac5b271f21a1a9cc",
       "version_major": 2,
       "version_minor": 0
      },
      "text/plain": [
       "RFBOutputContext()"
      ]
     },
     "metadata": {},
     "output_type": "display_data"
    },
    {
     "name": "stderr",
     "output_type": "stream",
     "text": [
      "/home/clewis7/repos/mesmerize-core/mesmerize_core/arrays/_video.py:87: UserWarning: min not implemented for LazyTiff, returning min of 0th index\n",
      "  warn(\"min not implemented for LazyTiff, returning min of 0th index\")\n",
      "/home/clewis7/repos/mesmerize-core/mesmerize_core/arrays/_video.py:92: UserWarning: max not implemented for LazyTiff, returning min of 0th index\n",
      "  warn(\"max not implemented for LazyTiff, returning min of 0th index\")\n"
     ]
    },
    {
     "data": {
      "application/vnd.jupyter.widget-view+json": {
       "model_id": "e15d5ecc4c204952b3cd4f2b1c5cb90b",
       "version_major": 2,
       "version_minor": 0
      },
      "text/plain": [
       "VBox(children=(DataGrid(auto_fit_params={'area': 'all', 'padding': 30, 'numCols': None}, base_row_size=24, col…"
      ]
     },
     "execution_count": 9,
     "metadata": {},
     "output_type": "execute_result"
    }
   ],
   "source": [
    "df.behavior.behavior_view().show()"
   ]
  },
  {
   "cell_type": "code",
   "execution_count": null,
   "id": "e24f9caa-2410-49e0-91bb-c160cfd3c2c4",
   "metadata": {},
   "outputs": [],
   "source": []
  }
 ],
 "metadata": {
  "kernelspec": {
   "display_name": "Python 3 (ipykernel)",
   "language": "python",
   "name": "python3"
  },
  "language_info": {
   "codemirror_mode": {
    "name": "ipython",
    "version": 3
   },
   "file_extension": ".py",
   "mimetype": "text/x-python",
   "name": "python",
   "nbconvert_exporter": "python",
   "pygments_lexer": "ipython3",
   "version": "3.11.3"
  }
 },
 "nbformat": 4,
 "nbformat_minor": 5
}
