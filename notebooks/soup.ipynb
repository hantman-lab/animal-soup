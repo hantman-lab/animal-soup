{
 "cells": [
  {
   "cell_type": "code",
   "execution_count": 1,
   "id": "47d70da5-b943-4312-91f6-95d741632265",
   "metadata": {
    "tags": []
   },
   "outputs": [],
   "source": [
    "from animal_soup import *"
   ]
  },
  {
   "cell_type": "code",
   "execution_count": 2,
   "id": "b3e9ff34-e71b-44b9-b6fe-5c9fff663137",
   "metadata": {
    "tags": []
   },
   "outputs": [],
   "source": [
    "df = create_df('/home/clewis7/Desktop/bah.hdf', remove_existing=True)"
   ]
  },
  {
   "cell_type": "code",
   "execution_count": 3,
   "id": "779bbf1c-aab7-4849-ab60-9eb596f29b64",
   "metadata": {},
   "outputs": [
    {
     "data": {
      "text/plain": [
       "PosixPath('/data/caitlin/ground_truth')"
      ]
     },
     "execution_count": 3,
     "metadata": {},
     "output_type": "execute_result"
    }
   ],
   "source": [
    "set_parent_raw_data_path('/data/caitlin/ground_truth/')"
   ]
  },
  {
   "cell_type": "code",
   "execution_count": 4,
   "id": "2645587d-bf28-4068-8639-2e0a9bd11bc7",
   "metadata": {
    "tags": []
   },
   "outputs": [],
   "source": [
    "df.behavior.add_item(animal_id='M232Slc17a7_Gtacr2', session_id='20170306')"
   ]
  },
  {
   "cell_type": "code",
   "execution_count": 5,
   "id": "96aed14e-f62f-4879-b06c-7e4971c84846",
   "metadata": {},
   "outputs": [
    {
     "data": {
      "text/html": [
       "<div>\n",
       "<style scoped>\n",
       "    .dataframe tbody tr th:only-of-type {\n",
       "        vertical-align: middle;\n",
       "    }\n",
       "\n",
       "    .dataframe tbody tr th {\n",
       "        vertical-align: top;\n",
       "    }\n",
       "\n",
       "    .dataframe thead th {\n",
       "        text-align: right;\n",
       "    }\n",
       "</style>\n",
       "<table border=\"1\" class=\"dataframe\">\n",
       "  <thead>\n",
       "    <tr style=\"text-align: right;\">\n",
       "      <th></th>\n",
       "      <th>animal_id</th>\n",
       "      <th>session_id</th>\n",
       "      <th>trial_id</th>\n",
       "      <th>ethograms</th>\n",
       "      <th>exp_type</th>\n",
       "      <th>notes</th>\n",
       "    </tr>\n",
       "  </thead>\n",
       "  <tbody>\n",
       "    <tr>\n",
       "      <th>0</th>\n",
       "      <td>M232Slc17a7_Gtacr2</td>\n",
       "      <td>20170306</td>\n",
       "      <td>M232_20170306_v017</td>\n",
       "      <td>None</td>\n",
       "      <td>None</td>\n",
       "      <td>None</td>\n",
       "    </tr>\n",
       "    <tr>\n",
       "      <th>1</th>\n",
       "      <td>M232Slc17a7_Gtacr2</td>\n",
       "      <td>20170306</td>\n",
       "      <td>M232_20170306_v024</td>\n",
       "      <td>None</td>\n",
       "      <td>None</td>\n",
       "      <td>None</td>\n",
       "    </tr>\n",
       "    <tr>\n",
       "      <th>2</th>\n",
       "      <td>M232Slc17a7_Gtacr2</td>\n",
       "      <td>20170306</td>\n",
       "      <td>M232_20170306_v025</td>\n",
       "      <td>None</td>\n",
       "      <td>None</td>\n",
       "      <td>None</td>\n",
       "    </tr>\n",
       "    <tr>\n",
       "      <th>3</th>\n",
       "      <td>M232Slc17a7_Gtacr2</td>\n",
       "      <td>20170306</td>\n",
       "      <td>M232_20170306_v029</td>\n",
       "      <td>None</td>\n",
       "      <td>None</td>\n",
       "      <td>None</td>\n",
       "    </tr>\n",
       "    <tr>\n",
       "      <th>4</th>\n",
       "      <td>M232Slc17a7_Gtacr2</td>\n",
       "      <td>20170306</td>\n",
       "      <td>M232_20170306_v036</td>\n",
       "      <td>None</td>\n",
       "      <td>None</td>\n",
       "      <td>None</td>\n",
       "    </tr>\n",
       "    <tr>\n",
       "      <th>5</th>\n",
       "      <td>M232Slc17a7_Gtacr2</td>\n",
       "      <td>20170306</td>\n",
       "      <td>M232_20170306_v038</td>\n",
       "      <td>None</td>\n",
       "      <td>None</td>\n",
       "      <td>None</td>\n",
       "    </tr>\n",
       "    <tr>\n",
       "      <th>6</th>\n",
       "      <td>M232Slc17a7_Gtacr2</td>\n",
       "      <td>20170306</td>\n",
       "      <td>M232_20170306_v040</td>\n",
       "      <td>None</td>\n",
       "      <td>None</td>\n",
       "      <td>None</td>\n",
       "    </tr>\n",
       "    <tr>\n",
       "      <th>7</th>\n",
       "      <td>M232Slc17a7_Gtacr2</td>\n",
       "      <td>20170306</td>\n",
       "      <td>M232_20170306_v043</td>\n",
       "      <td>None</td>\n",
       "      <td>None</td>\n",
       "      <td>None</td>\n",
       "    </tr>\n",
       "    <tr>\n",
       "      <th>8</th>\n",
       "      <td>M232Slc17a7_Gtacr2</td>\n",
       "      <td>20170306</td>\n",
       "      <td>M232_20170306_v049</td>\n",
       "      <td>None</td>\n",
       "      <td>None</td>\n",
       "      <td>None</td>\n",
       "    </tr>\n",
       "    <tr>\n",
       "      <th>9</th>\n",
       "      <td>M232Slc17a7_Gtacr2</td>\n",
       "      <td>20170306</td>\n",
       "      <td>M232_20170306_v053</td>\n",
       "      <td>None</td>\n",
       "      <td>None</td>\n",
       "      <td>None</td>\n",
       "    </tr>\n",
       "    <tr>\n",
       "      <th>10</th>\n",
       "      <td>M232Slc17a7_Gtacr2</td>\n",
       "      <td>20170306</td>\n",
       "      <td>M232_20170306_v059</td>\n",
       "      <td>None</td>\n",
       "      <td>None</td>\n",
       "      <td>None</td>\n",
       "    </tr>\n",
       "    <tr>\n",
       "      <th>11</th>\n",
       "      <td>M232Slc17a7_Gtacr2</td>\n",
       "      <td>20170306</td>\n",
       "      <td>M232_20170306_v060</td>\n",
       "      <td>None</td>\n",
       "      <td>None</td>\n",
       "      <td>None</td>\n",
       "    </tr>\n",
       "    <tr>\n",
       "      <th>12</th>\n",
       "      <td>M232Slc17a7_Gtacr2</td>\n",
       "      <td>20170306</td>\n",
       "      <td>M232_20170306_v070</td>\n",
       "      <td>None</td>\n",
       "      <td>None</td>\n",
       "      <td>None</td>\n",
       "    </tr>\n",
       "    <tr>\n",
       "      <th>13</th>\n",
       "      <td>M232Slc17a7_Gtacr2</td>\n",
       "      <td>20170306</td>\n",
       "      <td>M232_20170306_v073</td>\n",
       "      <td>None</td>\n",
       "      <td>None</td>\n",
       "      <td>None</td>\n",
       "    </tr>\n",
       "    <tr>\n",
       "      <th>14</th>\n",
       "      <td>M232Slc17a7_Gtacr2</td>\n",
       "      <td>20170306</td>\n",
       "      <td>M232_20170306_v074</td>\n",
       "      <td>None</td>\n",
       "      <td>None</td>\n",
       "      <td>None</td>\n",
       "    </tr>\n",
       "    <tr>\n",
       "      <th>15</th>\n",
       "      <td>M232Slc17a7_Gtacr2</td>\n",
       "      <td>20170306</td>\n",
       "      <td>M232_20170306_v076</td>\n",
       "      <td>None</td>\n",
       "      <td>None</td>\n",
       "      <td>None</td>\n",
       "    </tr>\n",
       "  </tbody>\n",
       "</table>\n",
       "</div>"
      ],
      "text/plain": [
       "             animal_id session_id            trial_id ethograms exp_type notes\n",
       "0   M232Slc17a7_Gtacr2   20170306  M232_20170306_v017      None     None  None\n",
       "1   M232Slc17a7_Gtacr2   20170306  M232_20170306_v024      None     None  None\n",
       "2   M232Slc17a7_Gtacr2   20170306  M232_20170306_v025      None     None  None\n",
       "3   M232Slc17a7_Gtacr2   20170306  M232_20170306_v029      None     None  None\n",
       "4   M232Slc17a7_Gtacr2   20170306  M232_20170306_v036      None     None  None\n",
       "5   M232Slc17a7_Gtacr2   20170306  M232_20170306_v038      None     None  None\n",
       "6   M232Slc17a7_Gtacr2   20170306  M232_20170306_v040      None     None  None\n",
       "7   M232Slc17a7_Gtacr2   20170306  M232_20170306_v043      None     None  None\n",
       "8   M232Slc17a7_Gtacr2   20170306  M232_20170306_v049      None     None  None\n",
       "9   M232Slc17a7_Gtacr2   20170306  M232_20170306_v053      None     None  None\n",
       "10  M232Slc17a7_Gtacr2   20170306  M232_20170306_v059      None     None  None\n",
       "11  M232Slc17a7_Gtacr2   20170306  M232_20170306_v060      None     None  None\n",
       "12  M232Slc17a7_Gtacr2   20170306  M232_20170306_v070      None     None  None\n",
       "13  M232Slc17a7_Gtacr2   20170306  M232_20170306_v073      None     None  None\n",
       "14  M232Slc17a7_Gtacr2   20170306  M232_20170306_v074      None     None  None\n",
       "15  M232Slc17a7_Gtacr2   20170306  M232_20170306_v076      None     None  None"
      ]
     },
     "execution_count": 5,
     "metadata": {},
     "output_type": "execute_result"
    }
   ],
   "source": [
    "df"
   ]
  },
  {
   "cell_type": "code",
   "execution_count": 8,
   "id": "42f06150-044a-49f0-bde4-ec693aa0a13d",
   "metadata": {
    "tags": []
   },
   "outputs": [
    {
     "name": "stdout",
     "output_type": "stream",
     "text": [
      "Successfully loaded model from checkpoint!\n",
      "Starting training\n",
      "Training Mode: slow \n",
      "Model: TinyMotionNet3D \n",
      "Params: Data Info: \n"
     ]
    }
   ],
   "source": [
    "model = df.flow_generator.train()"
   ]
  },
  {
   "cell_type": "code",
   "execution_count": null,
   "id": "cf9315e9-7af3-459a-aa61-2e19d1741adb",
   "metadata": {},
   "outputs": [],
   "source": []
  }
 ],
 "metadata": {
  "kernelspec": {
   "display_name": "Python 3 (ipykernel)",
   "language": "python",
   "name": "python3"
  },
  "language_info": {
   "codemirror_mode": {
    "name": "ipython",
    "version": 3
   },
   "file_extension": ".py",
   "mimetype": "text/x-python",
   "name": "python",
   "nbconvert_exporter": "python",
   "pygments_lexer": "ipython3",
   "version": "3.11.3"
  }
 },
 "nbformat": 4,
 "nbformat_minor": 5
}
