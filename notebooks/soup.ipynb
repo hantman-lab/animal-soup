{
 "cells": [
  {
   "cell_type": "code",
   "execution_count": 1,
   "id": "47d70da5-b943-4312-91f6-95d741632265",
   "metadata": {
    "tags": []
   },
   "outputs": [],
   "source": [
    "from animal_soup import *"
   ]
  },
  {
   "cell_type": "code",
   "execution_count": 2,
   "id": "b3e9ff34-e71b-44b9-b6fe-5c9fff663137",
   "metadata": {
    "tags": []
   },
   "outputs": [],
   "source": [
    "df = load_df('/home/clewis7/Desktop/feature_extractor/bah.hdf')"
   ]
  },
  {
   "cell_type": "code",
   "execution_count": 3,
   "id": "779bbf1c-aab7-4849-ab60-9eb596f29b64",
   "metadata": {},
   "outputs": [
    {
     "data": {
      "text/plain": [
       "PosixPath('/data/caitlin/ground_truth/ground_table')"
      ]
     },
     "execution_count": 3,
     "metadata": {},
     "output_type": "execute_result"
    }
   ],
   "source": [
    "set_parent_raw_data_path('/data/caitlin/ground_truth/ground_table/')"
   ]
  },
  {
   "cell_type": "code",
   "execution_count": 4,
   "id": "96aed14e-f62f-4879-b06c-7e4971c84846",
   "metadata": {},
   "outputs": [
    {
     "data": {
      "text/html": [
       "<div>\n",
       "<style scoped>\n",
       "    .dataframe tbody tr th:only-of-type {\n",
       "        vertical-align: middle;\n",
       "    }\n",
       "\n",
       "    .dataframe tbody tr th {\n",
       "        vertical-align: top;\n",
       "    }\n",
       "\n",
       "    .dataframe thead th {\n",
       "        text-align: right;\n",
       "    }\n",
       "</style>\n",
       "<table border=\"1\" class=\"dataframe\">\n",
       "  <thead>\n",
       "    <tr style=\"text-align: right;\">\n",
       "      <th></th>\n",
       "      <th>animal_id</th>\n",
       "      <th>session_id</th>\n",
       "      <th>trial_id</th>\n",
       "      <th>vid_path</th>\n",
       "      <th>ethograms</th>\n",
       "      <th>exp_type</th>\n",
       "      <th>model_params</th>\n",
       "      <th>notes</th>\n",
       "    </tr>\n",
       "  </thead>\n",
       "  <tbody>\n",
       "    <tr>\n",
       "      <th>0</th>\n",
       "      <td>M232Slc17a7_Gtacr2</td>\n",
       "      <td>20170306</td>\n",
       "      <td>M232_20170306_v024</td>\n",
       "      <td>M232Slc17a7_Gtacr2/20170306/M232_20170306_v024...</td>\n",
       "      <td>[[0.0, 0.0, 0.0, 0.0, 0.0, 0.0, 0.0, 0.0, 0.0,...</td>\n",
       "      <td>table</td>\n",
       "      <td>{'feature_extr_train': '{'Model': 'ResNet18', ...</td>\n",
       "      <td>None</td>\n",
       "    </tr>\n",
       "    <tr>\n",
       "      <th>1</th>\n",
       "      <td>M232Slc17a7_Gtacr2</td>\n",
       "      <td>20170306</td>\n",
       "      <td>M232_20170306_v025</td>\n",
       "      <td>M232Slc17a7_Gtacr2/20170306/M232_20170306_v025...</td>\n",
       "      <td>[[0.0, 0.0, 0.0, 0.0, 0.0, 0.0, 0.0, 0.0, 0.0,...</td>\n",
       "      <td>table</td>\n",
       "      <td>{'feature_extr_train': '{'Model': 'ResNet18', ...</td>\n",
       "      <td>None</td>\n",
       "    </tr>\n",
       "    <tr>\n",
       "      <th>2</th>\n",
       "      <td>M232Slc17a7_Gtacr2</td>\n",
       "      <td>20170306</td>\n",
       "      <td>M232_20170306_v029</td>\n",
       "      <td>M232Slc17a7_Gtacr2/20170306/M232_20170306_v029...</td>\n",
       "      <td>[[0.0, 0.0, 0.0, 0.0, 0.0, 0.0, 0.0, 0.0, 0.0,...</td>\n",
       "      <td>table</td>\n",
       "      <td>{'feature_extr_train': '{'Model': 'ResNet18', ...</td>\n",
       "      <td>None</td>\n",
       "    </tr>\n",
       "  </tbody>\n",
       "</table>\n",
       "</div>"
      ],
      "text/plain": [
       "            animal_id session_id            trial_id  \\\n",
       "0  M232Slc17a7_Gtacr2   20170306  M232_20170306_v024   \n",
       "1  M232Slc17a7_Gtacr2   20170306  M232_20170306_v025   \n",
       "2  M232Slc17a7_Gtacr2   20170306  M232_20170306_v029   \n",
       "\n",
       "                                            vid_path  \\\n",
       "0  M232Slc17a7_Gtacr2/20170306/M232_20170306_v024...   \n",
       "1  M232Slc17a7_Gtacr2/20170306/M232_20170306_v025...   \n",
       "2  M232Slc17a7_Gtacr2/20170306/M232_20170306_v029...   \n",
       "\n",
       "                                           ethograms exp_type  \\\n",
       "0  [[0.0, 0.0, 0.0, 0.0, 0.0, 0.0, 0.0, 0.0, 0.0,...    table   \n",
       "1  [[0.0, 0.0, 0.0, 0.0, 0.0, 0.0, 0.0, 0.0, 0.0,...    table   \n",
       "2  [[0.0, 0.0, 0.0, 0.0, 0.0, 0.0, 0.0, 0.0, 0.0,...    table   \n",
       "\n",
       "                                        model_params notes  \n",
       "0  {'feature_extr_train': '{'Model': 'ResNet18', ...  None  \n",
       "1  {'feature_extr_train': '{'Model': 'ResNet18', ...  None  \n",
       "2  {'feature_extr_train': '{'Model': 'ResNet18', ...  None  "
      ]
     },
     "execution_count": 4,
     "metadata": {},
     "output_type": "execute_result"
    }
   ],
   "source": [
    "df"
   ]
  },
  {
   "cell_type": "code",
   "execution_count": null,
   "id": "42f06150-044a-49f0-bde4-ec693aa0a13d",
   "metadata": {
    "tags": []
   },
   "outputs": [
    {
     "name": "stdout",
     "output_type": "stream",
     "text": [
      "Calculating normalization statistics based on trials in dataframe\n"
     ]
    },
    {
     "name": "stderr",
     "output_type": "stream",
     "text": [
      " 55%|████████████████████████████████████████████████▏                                       | 137/250 [00:00<00:00, 146.80it/s]"
     ]
    }
   ],
   "source": [
    "fl, cl = df.feature_extractor.train(mode=\"fast\")"
   ]
  },
  {
   "cell_type": "code",
   "execution_count": 5,
   "id": "d47a9f60-b7c2-4594-96e3-faed388f0e48",
   "metadata": {
    "tags": []
   },
   "outputs": [],
   "source": [
    "df = create_df('/home/clewis7/Desktop/flow_generator/bah.hdf', remove_existing=True)"
   ]
  },
  {
   "cell_type": "code",
   "execution_count": 6,
   "id": "9114ed4d-82c1-4790-bb72-bc5463ab25d7",
   "metadata": {
    "tags": []
   },
   "outputs": [],
   "source": [
    "df.behavior.add_item(animal_id='M232Slc17a7_Gtacr2', session_id='20170306', trial_id='M232_20170306_v017', exp_type=\"table\")\n",
    "df.behavior.add_item(animal_id='M232Slc17a7_Gtacr2', session_id='20170306', trial_id='M232_20170306_v024', exp_type=\"table\")\n",
    "df.behavior.add_item(animal_id='M232Slc17a7_Gtacr2', session_id='20170306', trial_id='M232_20170306_v025', exp_type=\"table\")"
   ]
  },
  {
   "cell_type": "code",
   "execution_count": 7,
   "id": "47c13f92-4640-490e-a6fd-a9a08676ed4e",
   "metadata": {
    "tags": []
   },
   "outputs": [
    {
     "data": {
      "text/html": [
       "<div>\n",
       "<style scoped>\n",
       "    .dataframe tbody tr th:only-of-type {\n",
       "        vertical-align: middle;\n",
       "    }\n",
       "\n",
       "    .dataframe tbody tr th {\n",
       "        vertical-align: top;\n",
       "    }\n",
       "\n",
       "    .dataframe thead th {\n",
       "        text-align: right;\n",
       "    }\n",
       "</style>\n",
       "<table border=\"1\" class=\"dataframe\">\n",
       "  <thead>\n",
       "    <tr style=\"text-align: right;\">\n",
       "      <th></th>\n",
       "      <th>animal_id</th>\n",
       "      <th>session_id</th>\n",
       "      <th>trial_id</th>\n",
       "      <th>vid_path</th>\n",
       "      <th>ethograms</th>\n",
       "      <th>exp_type</th>\n",
       "      <th>model_params</th>\n",
       "      <th>notes</th>\n",
       "    </tr>\n",
       "  </thead>\n",
       "  <tbody>\n",
       "    <tr>\n",
       "      <th>0</th>\n",
       "      <td>M232Slc17a7_Gtacr2</td>\n",
       "      <td>20170306</td>\n",
       "      <td>M232_20170306_v017</td>\n",
       "      <td>M232Slc17a7_Gtacr2/20170306/M232_20170306_v017...</td>\n",
       "      <td>None</td>\n",
       "      <td>table</td>\n",
       "      <td>{}</td>\n",
       "      <td>None</td>\n",
       "    </tr>\n",
       "    <tr>\n",
       "      <th>1</th>\n",
       "      <td>M232Slc17a7_Gtacr2</td>\n",
       "      <td>20170306</td>\n",
       "      <td>M232_20170306_v024</td>\n",
       "      <td>M232Slc17a7_Gtacr2/20170306/M232_20170306_v024...</td>\n",
       "      <td>None</td>\n",
       "      <td>table</td>\n",
       "      <td>{}</td>\n",
       "      <td>None</td>\n",
       "    </tr>\n",
       "    <tr>\n",
       "      <th>2</th>\n",
       "      <td>M232Slc17a7_Gtacr2</td>\n",
       "      <td>20170306</td>\n",
       "      <td>M232_20170306_v025</td>\n",
       "      <td>M232Slc17a7_Gtacr2/20170306/M232_20170306_v025...</td>\n",
       "      <td>None</td>\n",
       "      <td>table</td>\n",
       "      <td>{}</td>\n",
       "      <td>None</td>\n",
       "    </tr>\n",
       "  </tbody>\n",
       "</table>\n",
       "</div>"
      ],
      "text/plain": [
       "            animal_id session_id            trial_id  \\\n",
       "0  M232Slc17a7_Gtacr2   20170306  M232_20170306_v017   \n",
       "1  M232Slc17a7_Gtacr2   20170306  M232_20170306_v024   \n",
       "2  M232Slc17a7_Gtacr2   20170306  M232_20170306_v025   \n",
       "\n",
       "                                            vid_path ethograms exp_type  \\\n",
       "0  M232Slc17a7_Gtacr2/20170306/M232_20170306_v017...      None    table   \n",
       "1  M232Slc17a7_Gtacr2/20170306/M232_20170306_v024...      None    table   \n",
       "2  M232Slc17a7_Gtacr2/20170306/M232_20170306_v025...      None    table   \n",
       "\n",
       "  model_params notes  \n",
       "0           {}  None  \n",
       "1           {}  None  \n",
       "2           {}  None  "
      ]
     },
     "execution_count": 7,
     "metadata": {},
     "output_type": "execute_result"
    }
   ],
   "source": [
    "df"
   ]
  },
  {
   "cell_type": "code",
   "execution_count": null,
   "id": "09ee5f11-1e3f-425e-ad98-8e3644b33b63",
   "metadata": {
    "tags": []
   },
   "outputs": [
    {
     "name": "stdout",
     "output_type": "stream",
     "text": [
      "Successfully loaded model from checkpoint!\n",
      "Calculating normalization statistics based on trials in dataframe\n"
     ]
    },
    {
     "name": "stderr",
     "output_type": "stream",
     "text": [
      "100%|████████████████████████████████████████████████████████████████████████████████████████| 200/200 [00:01<00:00, 149.51it/s]\n",
      "100%|████████████████████████████████████████████████████████████████████████████████████████| 250/250 [00:01<00:00, 150.33it/s]\n",
      "100%|████████████████████████████████████████████████████████████████████████████████████████| 250/250 [00:01<00:00, 148.58it/s]\n",
      "GPU available: True (cuda), used: True\n",
      "TPU available: False, using: 0 TPU cores\n",
      "IPU available: False, using: 0 IPUs\n",
      "HPU available: False, using: 0 HPUs\n",
      "You are using a CUDA device ('NVIDIA GeForce RTX 3090') that has Tensor Cores. To properly utilize them, you should set `torch.set_float32_matmul_precision('medium' | 'high')` which will trade-off precision for performance. For more details, read https://pytorch.org/docs/stable/generated/torch.set_float32_matmul_precision.html#torch.set_float32_matmul_precision\n",
      "Missing logger folder: /home/clewis7/Desktop/flow_generator/flow_gen_output/flow_gen_train_logs\n"
     ]
    },
    {
     "name": "stdout",
     "output_type": "stream",
     "text": [
      "Starting training\n",
      "Model Parameters:\n",
      "{'Mode': 'fast',\n",
      " 'Model': 'TinyMotionNet',\n",
      " 'Output Path': PosixPath('/home/clewis7/Desktop/flow_generator/flow_gen_output'),\n",
      " 'Parameters': {'batch_size': 32,\n",
      "                'flow_window': 11,\n",
      "                'image_augmentations': {'LR': 0.5,\n",
      "                                        'UD': 0.0,\n",
      "                                        'brightness': 0.25,\n",
      "                                        'color_p': 0.5,\n",
      "                                        'contrast': 0.1,\n",
      "                                        'crop_size': None,\n",
      "                                        'degrees': 10,\n",
      "                                        'grayscale': 0.5,\n",
      "                                        'hue': 0.1,\n",
      "                                        'normalization': {'N': 139776000,\n",
      "                                                          'mean': array([0.03552407, 0.03552407, 0.03552407]),\n",
      "                                                          'std': array([0.05044427, 0.05044427, 0.05044427])},\n",
      "                                        'pad': None,\n",
      "                                        'random_resize': False,\n",
      "                                        'resize': (224, 224),\n",
      "                                        'saturation': 0.1},\n",
      "                'initial_learning_rate': 0.0001,\n",
      "                'stop_method': 'learning_rate'},\n",
      " 'Weight Path': PosixPath('/home/clewis7/repos/animal-soup/animal_soup/pretrained_models/table/flow_generator/TinyMotionNet.ckpt')}\n",
      "Data Info: \n",
      "[{'data_metadata': {'fps': 30.0,\n",
      "                    'framecount': 1998,\n",
      "                    'height': 260,\n",
      "                    'vid_path': PosixPath('/data/caitlin/ground_truth/ground_table/M232Slc17a7_Gtacr2/20170306/M232_20170306_v017.avi'),\n",
      "                    'width': 768}},\n",
      " {'data_metadata': {'fps': 30.0,\n",
      "                    'framecount': 2498,\n",
      "                    'height': 260,\n",
      "                    'vid_path': PosixPath('/data/caitlin/ground_truth/ground_table/M232Slc17a7_Gtacr2/20170306/M232_20170306_v024.avi'),\n",
      "                    'width': 768}},\n",
      " {'data_metadata': {'fps': 30.0,\n",
      "                    'framecount': 2498,\n",
      "                    'height': 260,\n",
      "                    'vid_path': PosixPath('/data/caitlin/ground_truth/ground_table/M232Slc17a7_Gtacr2/20170306/M232_20170306_v025.avi'),\n",
      "                    'width': 768}}]\n"
     ]
    },
    {
     "name": "stderr",
     "output_type": "stream",
     "text": [
      "2023-07-25 17:01:40.069827: I tensorflow/core/platform/cpu_feature_guard.cc:182] This TensorFlow binary is optimized to use available CPU instructions in performance-critical operations.\n",
      "To enable the following instructions: AVX2 FMA, in other operations, rebuild TensorFlow with the appropriate compiler flags.\n",
      "2023-07-25 17:01:40.522744: W tensorflow/compiler/tf2tensorrt/utils/py_utils.cc:38] TF-TRT Warning: Could not find TensorRT\n",
      "LOCAL_RANK: 0 - CUDA_VISIBLE_DEVICES: [0,1]\n",
      "\n",
      "  | Name           | Type          | Params\n",
      "-------------------------------------------------\n",
      "0 | model          | TinyMotionNet | 2.0 M \n",
      "1 | gpu_transforms | Sequential    | 0     \n",
      "2 | criterion      | MotionNetLoss | 0     \n",
      "-------------------------------------------------\n",
      "2.0 M     Trainable params\n",
      "0         Non-trainable params\n",
      "2.0 M     Total params\n",
      "7.807     Total estimated model params size (MB)\n"
     ]
    },
    {
     "data": {
      "application/vnd.jupyter.widget-view+json": {
       "model_id": "1ab7fd3a81594fd3acaf184044d4bd76",
       "version_major": 2,
       "version_minor": 0
      },
      "text/plain": [
       "Training: 0it [00:00, ?it/s]"
      ]
     },
     "metadata": {},
     "output_type": "display_data"
    }
   ],
   "source": [
    "df.flow_generator.train(mode=\"fast\")"
   ]
  },
  {
   "cell_type": "code",
   "execution_count": 7,
   "id": "4b9dc353-649e-4527-b51c-5ad8b8fcfd5f",
   "metadata": {
    "tags": []
   },
   "outputs": [],
   "source": [
    "import torch"
   ]
  },
  {
   "cell_type": "code",
   "execution_count": 8,
   "id": "adf619c4-566c-43c9-a40f-f3c9be69cf6a",
   "metadata": {
    "tags": []
   },
   "outputs": [],
   "source": [
    "b = torch.load('/home/clewis7/Desktop/fast.ckpt')[\"state_dict\"]"
   ]
  },
  {
   "cell_type": "code",
   "execution_count": 11,
   "id": "dd6a69f3-a260-49d1-96d7-8f539bc63d9d",
   "metadata": {
    "tags": []
   },
   "outputs": [
    {
     "data": {
      "text/plain": [
       "torch.Size([64, 33, 7, 7])"
      ]
     },
     "execution_count": 11,
     "metadata": {},
     "output_type": "execute_result"
    }
   ],
   "source": [
    "b['model.conv1.0.weight'].size()"
   ]
  },
  {
   "cell_type": "code",
   "execution_count": 12,
   "id": "52a8979d-3f6a-4048-98ff-951d85e47308",
   "metadata": {
    "tags": []
   },
   "outputs": [],
   "source": [
    "s = torch.load('/home/clewis7/repos/animal-soup/animal_soup/pretrained_models/table/flow_generator/MotionNet.ckpt')[\"state_dict\"]"
   ]
  },
  {
   "cell_type": "code",
   "execution_count": 13,
   "id": "b416026c-11f9-405a-94bb-54fb096d4c4f",
   "metadata": {
    "tags": []
   },
   "outputs": [
    {
     "data": {
      "text/plain": [
       "torch.Size([16, 3, 7, 7, 7])"
      ]
     },
     "execution_count": 13,
     "metadata": {},
     "output_type": "execute_result"
    }
   ],
   "source": [
    "s['model.conv1.0.weight'].size()"
   ]
  },
  {
   "cell_type": "code",
   "execution_count": 15,
   "id": "ef8f036b-2453-4b45-afe1-995cc97d7dbc",
   "metadata": {
    "tags": []
   },
   "outputs": [],
   "source": [
    "a = torch.load('/home/clewis7/Desktop/medium.ckpt')[\"state_dict\"]"
   ]
  },
  {
   "cell_type": "code",
   "execution_count": 16,
   "id": "9b69b7e9-b72b-4a76-b565-5c9ff6c4dc69",
   "metadata": {
    "tags": []
   },
   "outputs": [
    {
     "data": {
      "text/plain": [
       "torch.Size([64, 33, 3, 3])"
      ]
     },
     "execution_count": 16,
     "metadata": {},
     "output_type": "execute_result"
    }
   ],
   "source": [
    "a['model.conv1.0.weight'].size()"
   ]
  },
  {
   "cell_type": "code",
   "execution_count": null,
   "id": "3c9139f2-0975-4f67-bf97-2db44db345ed",
   "metadata": {},
   "outputs": [],
   "source": []
  }
 ],
 "metadata": {
  "kernelspec": {
   "display_name": "Python 3 (ipykernel)",
   "language": "python",
   "name": "python3"
  },
  "language_info": {
   "codemirror_mode": {
    "name": "ipython",
    "version": 3
   },
   "file_extension": ".py",
   "mimetype": "text/x-python",
   "name": "python",
   "nbconvert_exporter": "python",
   "pygments_lexer": "ipython3",
   "version": "3.11.3"
  }
 },
 "nbformat": 4,
 "nbformat_minor": 5
}
