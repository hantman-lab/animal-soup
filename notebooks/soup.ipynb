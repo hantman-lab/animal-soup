{
 "cells": [
  {
   "cell_type": "code",
   "execution_count": 1,
   "id": "47d70da5-b943-4312-91f6-95d741632265",
   "metadata": {
    "tags": []
   },
   "outputs": [],
   "source": [
    "from animal_soup import *"
   ]
  },
  {
   "cell_type": "code",
   "execution_count": 2,
   "id": "b3e9ff34-e71b-44b9-b6fe-5c9fff663137",
   "metadata": {
    "tags": []
   },
   "outputs": [],
   "source": [
    "df = create_df('/home/clewis7/Desktop/flow_generator/bah.hdf', remove_existing=True)"
   ]
  },
  {
   "cell_type": "code",
   "execution_count": 3,
   "id": "779bbf1c-aab7-4849-ab60-9eb596f29b64",
   "metadata": {},
   "outputs": [
    {
     "data": {
      "text/plain": [
       "PosixPath('/data/caitlin/ground_truth')"
      ]
     },
     "execution_count": 3,
     "metadata": {},
     "output_type": "execute_result"
    }
   ],
   "source": [
    "set_parent_raw_data_path('/data/caitlin/ground_truth/')"
   ]
  },
  {
   "cell_type": "code",
   "execution_count": 4,
   "id": "2645587d-bf28-4068-8639-2e0a9bd11bc7",
   "metadata": {
    "tags": []
   },
   "outputs": [],
   "source": [
    "df.behavior.add_item(animal_id='M232Slc17a7_Gtacr2', session_id='20170306', trial_id='M232_20170306_v017')\n",
    "df.behavior.add_item(animal_id='M232Slc17a7_Gtacr2', session_id='20170306', trial_id='M232_20170306_v024')\n",
    "df.behavior.add_item(animal_id='M232Slc17a7_Gtacr2', session_id='20170306', trial_id='M232_20170306_v025')"
   ]
  },
  {
   "cell_type": "code",
   "execution_count": 5,
   "id": "96aed14e-f62f-4879-b06c-7e4971c84846",
   "metadata": {},
   "outputs": [
    {
     "data": {
      "text/html": [
       "<div>\n",
       "<style scoped>\n",
       "    .dataframe tbody tr th:only-of-type {\n",
       "        vertical-align: middle;\n",
       "    }\n",
       "\n",
       "    .dataframe tbody tr th {\n",
       "        vertical-align: top;\n",
       "    }\n",
       "\n",
       "    .dataframe thead th {\n",
       "        text-align: right;\n",
       "    }\n",
       "</style>\n",
       "<table border=\"1\" class=\"dataframe\">\n",
       "  <thead>\n",
       "    <tr style=\"text-align: right;\">\n",
       "      <th></th>\n",
       "      <th>animal_id</th>\n",
       "      <th>session_id</th>\n",
       "      <th>trial_id</th>\n",
       "      <th>ethograms</th>\n",
       "      <th>exp_type</th>\n",
       "      <th>notes</th>\n",
       "    </tr>\n",
       "  </thead>\n",
       "  <tbody>\n",
       "    <tr>\n",
       "      <th>0</th>\n",
       "      <td>M232Slc17a7_Gtacr2</td>\n",
       "      <td>20170306</td>\n",
       "      <td>M232_20170306_v017</td>\n",
       "      <td>None</td>\n",
       "      <td>None</td>\n",
       "      <td>None</td>\n",
       "    </tr>\n",
       "    <tr>\n",
       "      <th>1</th>\n",
       "      <td>M232Slc17a7_Gtacr2</td>\n",
       "      <td>20170306</td>\n",
       "      <td>M232_20170306_v024</td>\n",
       "      <td>None</td>\n",
       "      <td>None</td>\n",
       "      <td>None</td>\n",
       "    </tr>\n",
       "    <tr>\n",
       "      <th>2</th>\n",
       "      <td>M232Slc17a7_Gtacr2</td>\n",
       "      <td>20170306</td>\n",
       "      <td>M232_20170306_v025</td>\n",
       "      <td>None</td>\n",
       "      <td>None</td>\n",
       "      <td>None</td>\n",
       "    </tr>\n",
       "  </tbody>\n",
       "</table>\n",
       "</div>"
      ],
      "text/plain": [
       "            animal_id session_id            trial_id ethograms exp_type notes\n",
       "0  M232Slc17a7_Gtacr2   20170306  M232_20170306_v017      None     None  None\n",
       "1  M232Slc17a7_Gtacr2   20170306  M232_20170306_v024      None     None  None\n",
       "2  M232Slc17a7_Gtacr2   20170306  M232_20170306_v025      None     None  None"
      ]
     },
     "execution_count": 5,
     "metadata": {},
     "output_type": "execute_result"
    }
   ],
   "source": [
    "df"
   ]
  },
  {
   "cell_type": "code",
   "execution_count": 6,
   "id": "42f06150-044a-49f0-bde4-ec693aa0a13d",
   "metadata": {
    "tags": []
   },
   "outputs": [
    {
     "name": "stdout",
     "output_type": "stream",
     "text": [
      "Successfully loaded model from checkpoint!\n",
      "Calculating normalization statistics based on trials in dataframe\n"
     ]
    },
    {
     "name": "stderr",
     "output_type": "stream",
     "text": [
      "100%|████████████████████████████████████████████████████████████████████████████████████████| 200/200 [00:01<00:00, 150.86it/s]\n",
      "100%|████████████████████████████████████████████████████████████████████████████████████████| 250/250 [00:01<00:00, 149.72it/s]\n",
      "100%|████████████████████████████████████████████████████████████████████████████████████████| 250/250 [00:01<00:00, 148.25it/s]\n",
      "GPU available: True (cuda), used: True\n",
      "TPU available: False, using: 0 TPU cores\n",
      "IPU available: False, using: 0 IPUs\n",
      "HPU available: False, using: 0 HPUs\n",
      "You are using a CUDA device ('NVIDIA GeForce RTX 3090') that has Tensor Cores. To properly utilize them, you should set `torch.set_float32_matmul_precision('medium' | 'high')` which will trade-off precision for performance. For more details, read https://pytorch.org/docs/stable/generated/torch.set_float32_matmul_precision.html#torch.set_float32_matmul_precision\n"
     ]
    },
    {
     "name": "stdout",
     "output_type": "stream",
     "text": [
      "Starting training\n",
      "Model Parameters:\n",
      "{'Mode': 'fast',\n",
      " 'Model': 'TinyMotionNet',\n",
      " 'Output Path': PosixPath('/home/clewis7/Desktop'),\n",
      " 'Parameters': {'batch_size': 32,\n",
      "                'flow_window': 11,\n",
      "                'image_augmentations': {'LR': 0.5,\n",
      "                                        'UD': 0.0,\n",
      "                                        'brightness': 0.25,\n",
      "                                        'color_p': 0.5,\n",
      "                                        'contrast': 0.1,\n",
      "                                        'crop_size': None,\n",
      "                                        'grayscale': 0.5,\n",
      "                                        'hue': 0.1,\n",
      "                                        'normalization': {'N': 139776000,\n",
      "                                                          'mean': array([0.03552407, 0.03552407, 0.03552407]),\n",
      "                                                          'std': array([0.05044427, 0.05044427, 0.05044427])},\n",
      "                                        'pad': None,\n",
      "                                        'random_resize': False,\n",
      "                                        'resize': (224, 224),\n",
      "                                        'saturation': 0.1},\n",
      "                'initial_learning_rate': 0.0001,\n",
      "                'stop_method': 'learning_rate'},\n",
      " 'Weight Path': PosixPath('/home/clewis7/repos/animal-soup/pretrained_models/flow_generator/TinyMotionNet3D.ckpt')}\n",
      "Data Info: \n",
      "[OrderedDict([('vid_path',\n",
      "               PosixPath('/data/caitlin/ground_truth/M232Slc17a7_Gtacr2/20170306/M232_20170306_v017.avi')),\n",
      "              ('width', 768),\n",
      "              ('height', 260),\n",
      "              ('framecount', 1998),\n",
      "              ('fps', 30.0)]),\n",
      " OrderedDict([('vid_path',\n",
      "               PosixPath('/data/caitlin/ground_truth/M232Slc17a7_Gtacr2/20170306/M232_20170306_v024.avi')),\n",
      "              ('width', 768),\n",
      "              ('height', 260),\n",
      "              ('framecount', 2498),\n",
      "              ('fps', 30.0)]),\n",
      " OrderedDict([('vid_path',\n",
      "               PosixPath('/data/caitlin/ground_truth/M232Slc17a7_Gtacr2/20170306/M232_20170306_v025.avi')),\n",
      "              ('width', 768),\n",
      "              ('height', 260),\n",
      "              ('framecount', 2498),\n",
      "              ('fps', 30.0)])]\n"
     ]
    },
    {
     "name": "stderr",
     "output_type": "stream",
     "text": [
      "2023-07-23 13:07:11.899831: I tensorflow/core/platform/cpu_feature_guard.cc:182] This TensorFlow binary is optimized to use available CPU instructions in performance-critical operations.\n",
      "To enable the following instructions: AVX2 FMA, in other operations, rebuild TensorFlow with the appropriate compiler flags.\n",
      "2023-07-23 13:07:12.357506: W tensorflow/compiler/tf2tensorrt/utils/py_utils.cc:38] TF-TRT Warning: Could not find TensorRT\n",
      "LOCAL_RANK: 0 - CUDA_VISIBLE_DEVICES: [0,1]\n",
      "\n",
      "  | Name           | Type            | Params\n",
      "---------------------------------------------------\n",
      "0 | model          | TinyMotionNet3D | 437 K \n",
      "1 | gpu_transforms | Sequential      | 0     \n",
      "2 | criterion      | MotionNetLoss   | 0     \n",
      "---------------------------------------------------\n",
      "437 K     Trainable params\n",
      "0         Non-trainable params\n",
      "437 K     Total params\n",
      "1.751     Total estimated model params size (MB)\n"
     ]
    },
    {
     "data": {
      "application/vnd.jupyter.widget-view+json": {
       "model_id": "bb3b4b1de4294f98a1d8906f8e729d4b",
       "version_major": 2,
       "version_minor": 0
      },
      "text/plain": [
       "Training: 0it [00:00, ?it/s]"
      ]
     },
     "metadata": {},
     "output_type": "display_data"
    },
    {
     "name": "stdout",
     "output_type": "stream",
     "text": [
      "Epoch: 0 \n",
      "Train Loss: 0.1053\n"
     ]
    },
    {
     "data": {
      "image/png": "[encoded data removed]",
      "text/plain": [
       "<Figure size 640x480 with 1 Axes>"
      ]
     },
     "metadata": {},
     "output_type": "display_data"
    },
    {
     "name": "stderr",
     "output_type": "stream",
     "text": [
      "`Trainer.fit` stopped: `max_epochs=1` reached.\n"
     ]
    },
    {
     "data": {
      "image/png": "[encoded data removed]",
      "text/plain": [
       "<Figure size 640x480 with 1 Axes>"
      ]
     },
     "metadata": {},
     "output_type": "display_data"
    }
   ],
   "source": [
    "trainer = df.flow_generator.train(mode=\"fast\")"
   ]
  },
  {
   "cell_type": "code",
   "execution_count": 8,
   "id": "abf6ea44-0633-4a31-bbcf-11098dbf3c64",
   "metadata": {
    "tags": []
   },
   "outputs": [
    {
     "data": {
      "text/plain": [
       "{'loss': tensor(0.1053)}"
      ]
     },
     "execution_count": 8,
     "metadata": {},
     "output_type": "execute_result"
    }
   ],
   "source": [
    "trainer.callback_metrics"
   ]
  },
  {
   "cell_type": "code",
   "execution_count": 14,
   "id": "9731aa48-a409-4928-9ffb-89047b4133c8",
   "metadata": {
    "tags": []
   },
   "outputs": [
    {
     "data": {
      "text/plain": [
       "<torch.optim.lr_scheduler.ReduceLROnPlateau at 0x7f8cead952d0>"
      ]
     },
     "execution_count": 14,
     "metadata": {},
     "output_type": "execute_result"
    }
   ],
   "source": [
    "trainer.lr_scheduler_configs[0].scheduler"
   ]
  },
  {
   "cell_type": "code",
   "execution_count": 21,
   "id": "804ed93f-79f4-4caa-ab89-32126c25277d",
   "metadata": {
    "tags": []
   },
   "outputs": [
    {
     "data": {
      "text/plain": [
       "0.0001"
      ]
     },
     "execution_count": 21,
     "metadata": {},
     "output_type": "execute_result"
    }
   ],
   "source": [
    "trainer.optimizers[0].param_groups[0]['lr']"
   ]
  },
  {
   "cell_type": "code",
   "execution_count": null,
   "id": "88c52ed4-824d-40fa-a81a-fa08d2032cd3",
   "metadata": {},
   "outputs": [],
   "source": []
  }
 ],
 "metadata": {
  "kernelspec": {
   "display_name": "Python 3 (ipykernel)",
   "language": "python",
   "name": "python3"
  },
  "language_info": {
   "codemirror_mode": {
    "name": "ipython",
    "version": 3
   },
   "file_extension": ".py",
   "mimetype": "text/x-python",
   "name": "python",
   "nbconvert_exporter": "python",
   "pygments_lexer": "ipython3",
   "version": "3.11.3"
  }
 },
 "nbformat": 4,
 "nbformat_minor": 5
}
