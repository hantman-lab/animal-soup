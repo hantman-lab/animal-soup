{
 "cells": [
  {
   "cell_type": "code",
   "execution_count": 1,
   "id": "47d70da5-b943-4312-91f6-95d741632265",
   "metadata": {
    "tags": []
   },
   "outputs": [],
   "source": [
    "from animal_soup import *"
   ]
  },
  {
   "cell_type": "code",
   "execution_count": 2,
   "id": "b3e9ff34-e71b-44b9-b6fe-5c9fff663137",
   "metadata": {
    "tags": []
   },
   "outputs": [],
   "source": [
    "df = create_df('/home/clewis7/Desktop/bah.hdf', remove_existing=True)"
   ]
  },
  {
   "cell_type": "code",
   "execution_count": 3,
   "id": "779bbf1c-aab7-4849-ab60-9eb596f29b64",
   "metadata": {},
   "outputs": [
    {
     "data": {
      "text/plain": [
       "PosixPath('/data/caitlin/ground_truth')"
      ]
     },
     "execution_count": 3,
     "metadata": {},
     "output_type": "execute_result"
    }
   ],
   "source": [
    "set_parent_raw_data_path('/data/caitlin/ground_truth/')"
   ]
  },
  {
   "cell_type": "code",
   "execution_count": 4,
   "id": "2645587d-bf28-4068-8639-2e0a9bd11bc7",
   "metadata": {
    "tags": []
   },
   "outputs": [],
   "source": [
    "df.behavior.add_item(animal_id='M232Slc17a7_Gtacr2', session_id='20170306')"
   ]
  },
  {
   "cell_type": "code",
   "execution_count": 5,
   "id": "96aed14e-f62f-4879-b06c-7e4971c84846",
   "metadata": {},
   "outputs": [
    {
     "data": {
      "text/html": [
       "<div>\n",
       "<style scoped>\n",
       "    .dataframe tbody tr th:only-of-type {\n",
       "        vertical-align: middle;\n",
       "    }\n",
       "\n",
       "    .dataframe tbody tr th {\n",
       "        vertical-align: top;\n",
       "    }\n",
       "\n",
       "    .dataframe thead th {\n",
       "        text-align: right;\n",
       "    }\n",
       "</style>\n",
       "<table border=\"1\" class=\"dataframe\">\n",
       "  <thead>\n",
       "    <tr style=\"text-align: right;\">\n",
       "      <th></th>\n",
       "      <th>animal_id</th>\n",
       "      <th>session_id</th>\n",
       "      <th>trial_id</th>\n",
       "      <th>ethograms</th>\n",
       "      <th>exp_type</th>\n",
       "      <th>notes</th>\n",
       "    </tr>\n",
       "  </thead>\n",
       "  <tbody>\n",
       "    <tr>\n",
       "      <th>0</th>\n",
       "      <td>M232Slc17a7_Gtacr2</td>\n",
       "      <td>20170306</td>\n",
       "      <td>M232_20170306_v017</td>\n",
       "      <td>None</td>\n",
       "      <td>None</td>\n",
       "      <td>None</td>\n",
       "    </tr>\n",
       "    <tr>\n",
       "      <th>1</th>\n",
       "      <td>M232Slc17a7_Gtacr2</td>\n",
       "      <td>20170306</td>\n",
       "      <td>M232_20170306_v024</td>\n",
       "      <td>None</td>\n",
       "      <td>None</td>\n",
       "      <td>None</td>\n",
       "    </tr>\n",
       "    <tr>\n",
       "      <th>2</th>\n",
       "      <td>M232Slc17a7_Gtacr2</td>\n",
       "      <td>20170306</td>\n",
       "      <td>M232_20170306_v025</td>\n",
       "      <td>None</td>\n",
       "      <td>None</td>\n",
       "      <td>None</td>\n",
       "    </tr>\n",
       "    <tr>\n",
       "      <th>3</th>\n",
       "      <td>M232Slc17a7_Gtacr2</td>\n",
       "      <td>20170306</td>\n",
       "      <td>M232_20170306_v029</td>\n",
       "      <td>None</td>\n",
       "      <td>None</td>\n",
       "      <td>None</td>\n",
       "    </tr>\n",
       "    <tr>\n",
       "      <th>4</th>\n",
       "      <td>M232Slc17a7_Gtacr2</td>\n",
       "      <td>20170306</td>\n",
       "      <td>M232_20170306_v036</td>\n",
       "      <td>None</td>\n",
       "      <td>None</td>\n",
       "      <td>None</td>\n",
       "    </tr>\n",
       "    <tr>\n",
       "      <th>5</th>\n",
       "      <td>M232Slc17a7_Gtacr2</td>\n",
       "      <td>20170306</td>\n",
       "      <td>M232_20170306_v038</td>\n",
       "      <td>None</td>\n",
       "      <td>None</td>\n",
       "      <td>None</td>\n",
       "    </tr>\n",
       "    <tr>\n",
       "      <th>6</th>\n",
       "      <td>M232Slc17a7_Gtacr2</td>\n",
       "      <td>20170306</td>\n",
       "      <td>M232_20170306_v040</td>\n",
       "      <td>None</td>\n",
       "      <td>None</td>\n",
       "      <td>None</td>\n",
       "    </tr>\n",
       "    <tr>\n",
       "      <th>7</th>\n",
       "      <td>M232Slc17a7_Gtacr2</td>\n",
       "      <td>20170306</td>\n",
       "      <td>M232_20170306_v043</td>\n",
       "      <td>None</td>\n",
       "      <td>None</td>\n",
       "      <td>None</td>\n",
       "    </tr>\n",
       "    <tr>\n",
       "      <th>8</th>\n",
       "      <td>M232Slc17a7_Gtacr2</td>\n",
       "      <td>20170306</td>\n",
       "      <td>M232_20170306_v049</td>\n",
       "      <td>None</td>\n",
       "      <td>None</td>\n",
       "      <td>None</td>\n",
       "    </tr>\n",
       "    <tr>\n",
       "      <th>9</th>\n",
       "      <td>M232Slc17a7_Gtacr2</td>\n",
       "      <td>20170306</td>\n",
       "      <td>M232_20170306_v053</td>\n",
       "      <td>None</td>\n",
       "      <td>None</td>\n",
       "      <td>None</td>\n",
       "    </tr>\n",
       "    <tr>\n",
       "      <th>10</th>\n",
       "      <td>M232Slc17a7_Gtacr2</td>\n",
       "      <td>20170306</td>\n",
       "      <td>M232_20170306_v059</td>\n",
       "      <td>None</td>\n",
       "      <td>None</td>\n",
       "      <td>None</td>\n",
       "    </tr>\n",
       "    <tr>\n",
       "      <th>11</th>\n",
       "      <td>M232Slc17a7_Gtacr2</td>\n",
       "      <td>20170306</td>\n",
       "      <td>M232_20170306_v060</td>\n",
       "      <td>None</td>\n",
       "      <td>None</td>\n",
       "      <td>None</td>\n",
       "    </tr>\n",
       "    <tr>\n",
       "      <th>12</th>\n",
       "      <td>M232Slc17a7_Gtacr2</td>\n",
       "      <td>20170306</td>\n",
       "      <td>M232_20170306_v070</td>\n",
       "      <td>None</td>\n",
       "      <td>None</td>\n",
       "      <td>None</td>\n",
       "    </tr>\n",
       "    <tr>\n",
       "      <th>13</th>\n",
       "      <td>M232Slc17a7_Gtacr2</td>\n",
       "      <td>20170306</td>\n",
       "      <td>M232_20170306_v073</td>\n",
       "      <td>None</td>\n",
       "      <td>None</td>\n",
       "      <td>None</td>\n",
       "    </tr>\n",
       "    <tr>\n",
       "      <th>14</th>\n",
       "      <td>M232Slc17a7_Gtacr2</td>\n",
       "      <td>20170306</td>\n",
       "      <td>M232_20170306_v074</td>\n",
       "      <td>None</td>\n",
       "      <td>None</td>\n",
       "      <td>None</td>\n",
       "    </tr>\n",
       "    <tr>\n",
       "      <th>15</th>\n",
       "      <td>M232Slc17a7_Gtacr2</td>\n",
       "      <td>20170306</td>\n",
       "      <td>M232_20170306_v076</td>\n",
       "      <td>None</td>\n",
       "      <td>None</td>\n",
       "      <td>None</td>\n",
       "    </tr>\n",
       "  </tbody>\n",
       "</table>\n",
       "</div>"
      ],
      "text/plain": [
       "             animal_id session_id            trial_id ethograms exp_type notes\n",
       "0   M232Slc17a7_Gtacr2   20170306  M232_20170306_v017      None     None  None\n",
       "1   M232Slc17a7_Gtacr2   20170306  M232_20170306_v024      None     None  None\n",
       "2   M232Slc17a7_Gtacr2   20170306  M232_20170306_v025      None     None  None\n",
       "3   M232Slc17a7_Gtacr2   20170306  M232_20170306_v029      None     None  None\n",
       "4   M232Slc17a7_Gtacr2   20170306  M232_20170306_v036      None     None  None\n",
       "5   M232Slc17a7_Gtacr2   20170306  M232_20170306_v038      None     None  None\n",
       "6   M232Slc17a7_Gtacr2   20170306  M232_20170306_v040      None     None  None\n",
       "7   M232Slc17a7_Gtacr2   20170306  M232_20170306_v043      None     None  None\n",
       "8   M232Slc17a7_Gtacr2   20170306  M232_20170306_v049      None     None  None\n",
       "9   M232Slc17a7_Gtacr2   20170306  M232_20170306_v053      None     None  None\n",
       "10  M232Slc17a7_Gtacr2   20170306  M232_20170306_v059      None     None  None\n",
       "11  M232Slc17a7_Gtacr2   20170306  M232_20170306_v060      None     None  None\n",
       "12  M232Slc17a7_Gtacr2   20170306  M232_20170306_v070      None     None  None\n",
       "13  M232Slc17a7_Gtacr2   20170306  M232_20170306_v073      None     None  None\n",
       "14  M232Slc17a7_Gtacr2   20170306  M232_20170306_v074      None     None  None\n",
       "15  M232Slc17a7_Gtacr2   20170306  M232_20170306_v076      None     None  None"
      ]
     },
     "execution_count": 5,
     "metadata": {},
     "output_type": "execute_result"
    }
   ],
   "source": [
    "df"
   ]
  },
  {
   "cell_type": "code",
   "execution_count": 6,
   "id": "42f06150-044a-49f0-bde4-ec693aa0a13d",
   "metadata": {
    "tags": []
   },
   "outputs": [
    {
     "name": "stdout",
     "output_type": "stream",
     "text": [
      "[16, 32, 64]\n",
      "Successfully loaded: conv1.0.weight\n",
      "Successfully loaded: conv1.1.weight\n",
      "Successfully loaded: conv1.1.bias\n",
      "Successfully loaded: conv1.1.running_mean\n",
      "Successfully loaded: conv1.1.running_var\n",
      "Successfully loaded: conv1.1.num_batches_tracked\n",
      "Successfully loaded: conv2.0.weight\n",
      "Successfully loaded: conv2.1.weight\n",
      "Successfully loaded: conv2.1.bias\n",
      "Successfully loaded: conv2.1.running_mean\n",
      "Successfully loaded: conv2.1.running_var\n",
      "Successfully loaded: conv2.1.num_batches_tracked\n",
      "Successfully loaded: conv3.0.weight\n",
      "Successfully loaded: conv3.1.weight\n",
      "Successfully loaded: conv3.1.bias\n",
      "Successfully loaded: conv3.1.running_mean\n",
      "Successfully loaded: conv3.1.running_var\n",
      "Successfully loaded: conv3.1.num_batches_tracked\n",
      "Successfully loaded: conv4.0.weight\n",
      "Successfully loaded: conv4.1.weight\n",
      "Successfully loaded: conv4.1.bias\n",
      "Successfully loaded: conv4.1.running_mean\n",
      "Successfully loaded: conv4.1.running_var\n",
      "Successfully loaded: conv4.1.num_batches_tracked\n",
      "Successfully loaded: conv5.0.weight\n",
      "Successfully loaded: conv5.1.weight\n",
      "Successfully loaded: conv5.1.bias\n",
      "Successfully loaded: conv5.1.running_mean\n",
      "Successfully loaded: conv5.1.running_var\n",
      "Successfully loaded: conv5.1.num_batches_tracked\n",
      "Successfully loaded: deconv3.0.weight\n",
      "Successfully loaded: deconv3.1.weight\n",
      "Successfully loaded: deconv3.1.bias\n",
      "Successfully loaded: deconv3.1.running_mean\n",
      "Successfully loaded: deconv3.1.running_var\n",
      "Successfully loaded: deconv3.1.num_batches_tracked\n",
      "Successfully loaded: deconv2.0.weight\n",
      "Successfully loaded: deconv2.1.weight\n",
      "Successfully loaded: deconv2.1.bias\n",
      "Successfully loaded: deconv2.1.running_mean\n",
      "Successfully loaded: deconv2.1.running_var\n",
      "Successfully loaded: deconv2.1.num_batches_tracked\n",
      "Successfully loaded: iconv3.0.weight\n",
      "Successfully loaded: iconv3.1.weight\n",
      "Successfully loaded: iconv3.1.bias\n",
      "Successfully loaded: iconv3.1.running_mean\n",
      "Successfully loaded: iconv3.1.running_var\n",
      "Successfully loaded: iconv3.1.num_batches_tracked\n",
      "Successfully loaded: iconv2.0.weight\n",
      "Successfully loaded: iconv2.1.weight\n",
      "Successfully loaded: iconv2.1.bias\n",
      "Successfully loaded: iconv2.1.running_mean\n",
      "Successfully loaded: iconv2.1.running_var\n",
      "Successfully loaded: iconv2.1.num_batches_tracked\n",
      "Successfully loaded: xconv3.0.weight\n",
      "Successfully loaded: xconv3.0.bias\n",
      "Successfully loaded: xconv3.1.weight\n",
      "Successfully loaded: xconv3.1.bias\n",
      "Successfully loaded: xconv3.1.running_mean\n",
      "Successfully loaded: xconv3.1.running_var\n",
      "Successfully loaded: xconv3.1.num_batches_tracked\n",
      "Successfully loaded: xconv2.0.weight\n",
      "Successfully loaded: xconv2.0.bias\n",
      "Successfully loaded: xconv2.1.weight\n",
      "Successfully loaded: xconv2.1.bias\n",
      "Successfully loaded: xconv2.1.running_mean\n",
      "Successfully loaded: xconv2.1.running_var\n",
      "Successfully loaded: xconv2.1.num_batches_tracked\n",
      "Successfully loaded: predict_flow4.0.weight\n",
      "Successfully loaded: predict_flow4.0.bias\n",
      "Successfully loaded: predict_flow3.0.weight\n",
      "Successfully loaded: predict_flow3.0.bias\n",
      "Successfully loaded: predict_flow2.0.weight\n",
      "Successfully loaded: predict_flow2.0.bias\n",
      "Successfully loaded: upsampled_flow4_to_3.weight\n",
      "Successfully loaded: upsampled_flow4_to_3.bias\n",
      "Successfully loaded: upsampled_flow3_to_2.weight\n",
      "Successfully loaded: upsampled_flow3_to_2.bias\n",
      "Starting training\n",
      "Training Mode: slow \n",
      "Model: TinyMotionNet3D \n",
      "Params: Data Info: \n"
     ]
    }
   ],
   "source": [
    "model, dataloader, dataset = df.flow_generator.train()"
   ]
  },
  {
   "cell_type": "code",
   "execution_count": 7,
   "id": "be54e44d-cbb1-4ed9-bf18-6c25aa1a6065",
   "metadata": {},
   "outputs": [
    {
     "data": {
      "text/plain": [
       "TinyMotionNet3D(\n",
       "  (conv1): Sequential(\n",
       "    (0): Conv3d(3, 16, kernel_size=(7, 7, 7), stride=(1, 1, 1), padding=(3, 3, 3), bias=False)\n",
       "    (1): BatchNorm3d(16, eps=1e-05, momentum=0.1, affine=True, track_running_stats=True)\n",
       "    (2): LeakyReLU(negative_slope=0.1, inplace=True)\n",
       "  )\n",
       "  (conv2): Sequential(\n",
       "    (0): Conv3d(16, 32, kernel_size=(5, 5, 5), stride=(1, 2, 2), padding=(2, 2, 2), bias=False)\n",
       "    (1): BatchNorm3d(32, eps=1e-05, momentum=0.1, affine=True, track_running_stats=True)\n",
       "    (2): LeakyReLU(negative_slope=0.1, inplace=True)\n",
       "  )\n",
       "  (conv3): Sequential(\n",
       "    (0): Conv3d(32, 64, kernel_size=(3, 3, 3), stride=(1, 2, 2), padding=(1, 1, 1), bias=False)\n",
       "    (1): BatchNorm3d(64, eps=1e-05, momentum=0.1, affine=True, track_running_stats=True)\n",
       "    (2): LeakyReLU(negative_slope=0.1, inplace=True)\n",
       "  )\n",
       "  (conv4): Sequential(\n",
       "    (0): Conv3d(64, 32, kernel_size=(3, 3, 3), stride=(1, 2, 2), padding=(1, 1, 1), bias=False)\n",
       "    (1): BatchNorm3d(32, eps=1e-05, momentum=0.1, affine=True, track_running_stats=True)\n",
       "    (2): LeakyReLU(negative_slope=0.1, inplace=True)\n",
       "  )\n",
       "  (conv5): Sequential(\n",
       "    (0): Conv3d(32, 32, kernel_size=(2, 3, 3), stride=(1, 1, 1), padding=(0, 1, 1), bias=False)\n",
       "    (1): BatchNorm3d(32, eps=1e-05, momentum=0.1, affine=True, track_running_stats=True)\n",
       "    (2): LeakyReLU(negative_slope=0.1, inplace=True)\n",
       "  )\n",
       "  (deconv3): Sequential(\n",
       "    (0): ConvTranspose3d(32, 32, kernel_size=(1, 4, 4), stride=(1, 2, 2), padding=(0, 1, 1), bias=False)\n",
       "    (1): BatchNorm3d(32, eps=1e-05, momentum=0.1, affine=True, track_running_stats=True)\n",
       "    (2): LeakyReLU(negative_slope=0.1, inplace=True)\n",
       "  )\n",
       "  (deconv2): Sequential(\n",
       "    (0): ConvTranspose3d(32, 16, kernel_size=(1, 4, 4), stride=(1, 2, 2), padding=(0, 1, 1), bias=False)\n",
       "    (1): BatchNorm3d(16, eps=1e-05, momentum=0.1, affine=True, track_running_stats=True)\n",
       "    (2): LeakyReLU(negative_slope=0.1, inplace=True)\n",
       "  )\n",
       "  (iconv3): Sequential(\n",
       "    (0): Conv3d(64, 64, kernel_size=(2, 3, 3), stride=(1, 1, 1), padding=(0, 1, 1), bias=False)\n",
       "    (1): BatchNorm3d(64, eps=1e-05, momentum=0.1, affine=True, track_running_stats=True)\n",
       "    (2): LeakyReLU(negative_slope=0.1, inplace=True)\n",
       "  )\n",
       "  (iconv2): Sequential(\n",
       "    (0): Conv3d(32, 32, kernel_size=(2, 3, 3), stride=(1, 1, 1), padding=(0, 1, 1), bias=False)\n",
       "    (1): BatchNorm3d(32, eps=1e-05, momentum=0.1, affine=True, track_running_stats=True)\n",
       "    (2): LeakyReLU(negative_slope=0.1, inplace=True)\n",
       "  )\n",
       "  (xconv3): Sequential(\n",
       "    (0): Conv3d(98, 32, kernel_size=(3, 3, 3), stride=(1, 1, 1), padding=(1, 1, 1))\n",
       "    (1): BatchNorm3d(32, eps=1e-05, momentum=0.1, affine=True, track_running_stats=True)\n",
       "  )\n",
       "  (xconv2): Sequential(\n",
       "    (0): Conv3d(50, 16, kernel_size=(3, 3, 3), stride=(1, 1, 1), padding=(1, 1, 1))\n",
       "    (1): BatchNorm3d(16, eps=1e-05, momentum=0.1, affine=True, track_running_stats=True)\n",
       "  )\n",
       "  (predict_flow4): Sequential(\n",
       "    (0): Conv3d(32, 2, kernel_size=(3, 3, 3), stride=(1, 1, 1), padding=(1, 1, 1))\n",
       "  )\n",
       "  (predict_flow3): Sequential(\n",
       "    (0): Conv3d(32, 2, kernel_size=(3, 3, 3), stride=(1, 1, 1), padding=(1, 1, 1))\n",
       "  )\n",
       "  (predict_flow2): Sequential(\n",
       "    (0): Conv3d(16, 2, kernel_size=(3, 3, 3), stride=(1, 1, 1), padding=(1, 1, 1))\n",
       "  )\n",
       "  (upsampled_flow4_to_3): ConvTranspose3d(2, 2, kernel_size=(1, 4, 4), stride=(1, 2, 2), padding=(0, 1, 1))\n",
       "  (upsampled_flow3_to_2): ConvTranspose3d(2, 2, kernel_size=(1, 4, 4), stride=(1, 2, 2), padding=(0, 1, 1))\n",
       "  (concat): CropConcat()\n",
       ")"
      ]
     },
     "execution_count": 7,
     "metadata": {},
     "output_type": "execute_result"
    }
   ],
   "source": [
    "model"
   ]
  },
  {
   "cell_type": "code",
   "execution_count": 14,
   "id": "a5419048-6c20-40fe-8101-db9cd5e8308d",
   "metadata": {},
   "outputs": [
    {
     "data": {
      "text/plain": [
       "[<animal_soup.data.datasets.SingleVideoDataset at 0x7f987106fe10>,\n",
       " <animal_soup.data.datasets.SingleVideoDataset at 0x7f987106f9d0>,\n",
       " <animal_soup.data.datasets.SingleVideoDataset at 0x7f98710c1c10>,\n",
       " <animal_soup.data.datasets.SingleVideoDataset at 0x7f98710c1590>,\n",
       " <animal_soup.data.datasets.SingleVideoDataset at 0x7f98710c1e10>,\n",
       " <animal_soup.data.datasets.SingleVideoDataset at 0x7f98710c25d0>,\n",
       " <animal_soup.data.datasets.SingleVideoDataset at 0x7f98710c2450>,\n",
       " <animal_soup.data.datasets.SingleVideoDataset at 0x7f98710c2890>,\n",
       " <animal_soup.data.datasets.SingleVideoDataset at 0x7f98710c2d50>,\n",
       " <animal_soup.data.datasets.SingleVideoDataset at 0x7f98710c2150>,\n",
       " <animal_soup.data.datasets.SingleVideoDataset at 0x7f98710c1bd0>,\n",
       " <animal_soup.data.datasets.SingleVideoDataset at 0x7f98710c3750>,\n",
       " <animal_soup.data.datasets.SingleVideoDataset at 0x7f98710c3d90>,\n",
       " <animal_soup.data.datasets.SingleVideoDataset at 0x7f98710cb790>,\n",
       " <animal_soup.data.datasets.SingleVideoDataset at 0x7f98710cb7d0>,\n",
       " <animal_soup.data.datasets.SingleVideoDataset at 0x7f98710cb2d0>]"
      ]
     },
     "execution_count": 14,
     "metadata": {},
     "output_type": "execute_result"
    }
   ],
   "source": [
    "dataset.dataset.datasets"
   ]
  },
  {
   "cell_type": "code",
   "execution_count": 15,
   "id": "7af732e6-5bda-46f7-96f9-0144bd1fdeb0",
   "metadata": {},
   "outputs": [
    {
     "data": {
      "text/plain": [
       "<torch.utils.data.dataloader.DataLoader at 0x7f987106d410>"
      ]
     },
     "execution_count": 15,
     "metadata": {},
     "output_type": "execute_result"
    }
   ],
   "source": [
    "dataloader"
   ]
  },
  {
   "cell_type": "code",
   "execution_count": 17,
   "id": "410a1e39-ded4-44a4-9771-3d1e1ad2afa8",
   "metadata": {},
   "outputs": [
    {
     "ename": "TypeError",
     "evalue": "'LazyVideo' object does not support the context manager protocol",
     "output_type": "error",
     "traceback": [
      "\u001b[0;31m---------------------------------------------------------------------------\u001b[0m",
      "\u001b[0;31mTypeError\u001b[0m                                 Traceback (most recent call last)",
      "Cell \u001b[0;32mIn[17], line 1\u001b[0m\n\u001b[0;32m----> 1\u001b[0m \u001b[43mdataset\u001b[49m\u001b[43m[\u001b[49m\u001b[38;5;241;43m0\u001b[39;49m\u001b[43m]\u001b[49m\n",
      "File \u001b[0;32m~/repos/animal-soup/animal_soup/data/datasets.py:215\u001b[0m, in \u001b[0;36mVideoDataset.__getitem__\u001b[0;34m(self, index)\u001b[0m\n\u001b[1;32m    214\u001b[0m \u001b[38;5;28;01mdef\u001b[39;00m \u001b[38;5;21m__getitem__\u001b[39m(\u001b[38;5;28mself\u001b[39m, index: \u001b[38;5;28mint\u001b[39m):\n\u001b[0;32m--> 215\u001b[0m     \u001b[38;5;28;01mreturn\u001b[39;00m \u001b[38;5;28;43mself\u001b[39;49m\u001b[38;5;241;43m.\u001b[39;49m\u001b[43mdataset\u001b[49m\u001b[43m[\u001b[49m\u001b[43mindex\u001b[49m\u001b[43m]\u001b[49m\n",
      "File \u001b[0;32m~/venvs/ansoup/lib/python3.11/site-packages/torch/utils/data/dataset.py:243\u001b[0m, in \u001b[0;36mConcatDataset.__getitem__\u001b[0;34m(self, idx)\u001b[0m\n\u001b[1;32m    241\u001b[0m \u001b[38;5;28;01melse\u001b[39;00m:\n\u001b[1;32m    242\u001b[0m     sample_idx \u001b[38;5;241m=\u001b[39m idx \u001b[38;5;241m-\u001b[39m \u001b[38;5;28mself\u001b[39m\u001b[38;5;241m.\u001b[39mcumulative_sizes[dataset_idx \u001b[38;5;241m-\u001b[39m \u001b[38;5;241m1\u001b[39m]\n\u001b[0;32m--> 243\u001b[0m \u001b[38;5;28;01mreturn\u001b[39;00m \u001b[38;5;28;43mself\u001b[39;49m\u001b[38;5;241;43m.\u001b[39;49m\u001b[43mdatasets\u001b[49m\u001b[43m[\u001b[49m\u001b[43mdataset_idx\u001b[49m\u001b[43m]\u001b[49m\u001b[43m[\u001b[49m\u001b[43msample_idx\u001b[49m\u001b[43m]\u001b[49m\n",
      "File \u001b[0;32m~/repos/animal-soup/animal_soup/data/datasets.py:142\u001b[0m, in \u001b[0;36mSingleVideoDataset.__getitem__\u001b[0;34m(self, index)\u001b[0m\n\u001b[1;32m    138\u001b[0m real_frames \u001b[38;5;241m=\u001b[39m \u001b[38;5;28mself\u001b[39m\u001b[38;5;241m.\u001b[39mframes_per_clip \u001b[38;5;241m-\u001b[39m blank_start_frames \u001b[38;5;241m-\u001b[39m blank_end_frames\n\u001b[1;32m    140\u001b[0m seed \u001b[38;5;241m=\u001b[39m np\u001b[38;5;241m.\u001b[39mrandom\u001b[38;5;241m.\u001b[39mrandint(\u001b[38;5;241m2147483647\u001b[39m)\n\u001b[0;32m--> 142\u001b[0m \u001b[43m\u001b[49m\u001b[38;5;28;43;01mwith\u001b[39;49;00m\u001b[43m \u001b[49m\u001b[43mLazyVideo\u001b[49m\u001b[43m(\u001b[49m\u001b[38;5;28;43mself\u001b[39;49m\u001b[38;5;241;43m.\u001b[39;49m\u001b[43mvid_path\u001b[49m\u001b[43m)\u001b[49m\u001b[43m \u001b[49m\u001b[38;5;28;43;01mas\u001b[39;49;00m\u001b[43m \u001b[49m\u001b[43mreader\u001b[49m\u001b[43m:\u001b[49m\n\u001b[1;32m    143\u001b[0m \u001b[43m    \u001b[49m\u001b[38;5;28;43;01mfor\u001b[39;49;00m\u001b[43m \u001b[49m\u001b[43mi\u001b[49m\u001b[43m \u001b[49m\u001b[38;5;129;43;01min\u001b[39;49;00m\u001b[43m \u001b[49m\u001b[38;5;28;43mrange\u001b[39;49m\u001b[43m(\u001b[49m\u001b[43mreal_frames\u001b[49m\u001b[43m)\u001b[49m\u001b[43m:\u001b[49m\n\u001b[1;32m    144\u001b[0m \u001b[43m        \u001b[49m\u001b[38;5;28;43;01mtry\u001b[39;49;00m\u001b[43m:\u001b[49m\n",
      "\u001b[0;31mTypeError\u001b[0m: 'LazyVideo' object does not support the context manager protocol"
     ]
    }
   ],
   "source": [
    "dataset[0]"
   ]
  },
  {
   "cell_type": "code",
   "execution_count": null,
   "id": "88956c86-366c-4deb-9791-c668d2f54180",
   "metadata": {},
   "outputs": [],
   "source": []
  }
 ],
 "metadata": {
  "kernelspec": {
   "display_name": "Python 3 (ipykernel)",
   "language": "python",
   "name": "python3"
  },
  "language_info": {
   "codemirror_mode": {
    "name": "ipython",
    "version": 3
   },
   "file_extension": ".py",
   "mimetype": "text/x-python",
   "name": "python",
   "nbconvert_exporter": "python",
   "pygments_lexer": "ipython3",
   "version": "3.11.3"
  }
 },
 "nbformat": 4,
 "nbformat_minor": 5
}
