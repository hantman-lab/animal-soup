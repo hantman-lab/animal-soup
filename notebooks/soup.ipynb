{
 "cells": [
  {
   "cell_type": "code",
   "execution_count": 1,
   "id": "47d70da5-b943-4312-91f6-95d741632265",
   "metadata": {
    "tags": []
   },
   "outputs": [
    {
     "name": "stderr",
     "output_type": "stream",
     "text": [
      "2023-07-15 20:05:56.911534: I tensorflow/core/platform/cpu_feature_guard.cc:182] This TensorFlow binary is optimized to use available CPU instructions in performance-critical operations.\n",
      "To enable the following instructions: AVX2 FMA, in other operations, rebuild TensorFlow with the appropriate compiler flags.\n",
      "2023-07-15 20:05:57.390996: W tensorflow/compiler/tf2tensorrt/utils/py_utils.cc:38] TF-TRT Warning: Could not find TensorRT\n",
      "/home/clewis7/repos/animal-soup/animal_soup/df_utils.py:153: UserWarning: registration of accessor <class 'animal_soup.df_utils.PathsDataFrameExtension'> under name 'paths' for type <class 'pandas.core.frame.DataFrame'> is overriding a preexisting attribute with the same name.\n",
      "  @pd.api.extensions.register_dataframe_accessor(\"paths\")\n",
      "/home/clewis7/repos/animal-soup/animal_soup/df_utils.py:158: UserWarning: registration of accessor <class 'animal_soup.df_utils.PathsSeriesExtension'> under name 'paths' for type <class 'pandas.core.series.Series'> is overriding a preexisting attribute with the same name.\n",
      "  @pd.api.extensions.register_series_accessor(\"paths\")\n"
     ]
    }
   ],
   "source": [
    "import torch\n",
    "from animal_soup import *"
   ]
  },
  {
   "cell_type": "code",
   "execution_count": 2,
   "id": "b3e9ff34-e71b-44b9-b6fe-5c9fff663137",
   "metadata": {
    "tags": []
   },
   "outputs": [],
   "source": [
    "df = create_df('/home/clewis7/Desktop/bah.hdf', remove_existing=True)"
   ]
  },
  {
   "cell_type": "code",
   "execution_count": 3,
   "id": "2645587d-bf28-4068-8639-2e0a9bd11bc7",
   "metadata": {
    "tags": []
   },
   "outputs": [
    {
     "data": {
      "text/html": [
       "<div>\n",
       "<style scoped>\n",
       "    .dataframe tbody tr th:only-of-type {\n",
       "        vertical-align: middle;\n",
       "    }\n",
       "\n",
       "    .dataframe tbody tr th {\n",
       "        vertical-align: top;\n",
       "    }\n",
       "\n",
       "    .dataframe thead th {\n",
       "        text-align: right;\n",
       "    }\n",
       "</style>\n",
       "<table border=\"1\" class=\"dataframe\">\n",
       "  <thead>\n",
       "    <tr style=\"text-align: right;\">\n",
       "      <th></th>\n",
       "      <th>animal_id</th>\n",
       "      <th>session_id</th>\n",
       "      <th>trial_id</th>\n",
       "      <th>ethograms</th>\n",
       "      <th>exp_type</th>\n",
       "      <th>notes</th>\n",
       "    </tr>\n",
       "  </thead>\n",
       "  <tbody>\n",
       "  </tbody>\n",
       "</table>\n",
       "</div>"
      ],
      "text/plain": [
       "Empty DataFrame\n",
       "Columns: [animal_id, session_id, trial_id, ethograms, exp_type, notes]\n",
       "Index: []"
      ]
     },
     "execution_count": 3,
     "metadata": {},
     "output_type": "execute_result"
    }
   ],
   "source": [
    "df"
   ]
  },
  {
   "cell_type": "code",
   "execution_count": 4,
   "id": "42f06150-044a-49f0-bde4-ec693aa0a13d",
   "metadata": {
    "tags": []
   },
   "outputs": [
    {
     "name": "stdout",
     "output_type": "stream",
     "text": [
      "[16, 32, 64]\n",
      "Successfully loaded: conv1.0.weight\n",
      "Successfully loaded: conv1.1.weight\n",
      "Successfully loaded: conv1.1.bias\n",
      "Successfully loaded: conv1.1.running_mean\n",
      "Successfully loaded: conv1.1.running_var\n",
      "Successfully loaded: conv1.1.num_batches_tracked\n",
      "Successfully loaded: conv2.0.weight\n",
      "Successfully loaded: conv2.1.weight\n",
      "Successfully loaded: conv2.1.bias\n",
      "Successfully loaded: conv2.1.running_mean\n",
      "Successfully loaded: conv2.1.running_var\n",
      "Successfully loaded: conv2.1.num_batches_tracked\n",
      "Successfully loaded: conv3.0.weight\n",
      "Successfully loaded: conv3.1.weight\n",
      "Successfully loaded: conv3.1.bias\n",
      "Successfully loaded: conv3.1.running_mean\n",
      "Successfully loaded: conv3.1.running_var\n",
      "Successfully loaded: conv3.1.num_batches_tracked\n",
      "Successfully loaded: conv4.0.weight\n",
      "Successfully loaded: conv4.1.weight\n",
      "Successfully loaded: conv4.1.bias\n",
      "Successfully loaded: conv4.1.running_mean\n",
      "Successfully loaded: conv4.1.running_var\n",
      "Successfully loaded: conv4.1.num_batches_tracked\n",
      "Successfully loaded: conv5.0.weight\n",
      "Successfully loaded: conv5.1.weight\n",
      "Successfully loaded: conv5.1.bias\n",
      "Successfully loaded: conv5.1.running_mean\n",
      "Successfully loaded: conv5.1.running_var\n",
      "Successfully loaded: conv5.1.num_batches_tracked\n",
      "Successfully loaded: deconv3.0.weight\n",
      "Successfully loaded: deconv3.1.weight\n",
      "Successfully loaded: deconv3.1.bias\n",
      "Successfully loaded: deconv3.1.running_mean\n",
      "Successfully loaded: deconv3.1.running_var\n",
      "Successfully loaded: deconv3.1.num_batches_tracked\n",
      "Successfully loaded: deconv2.0.weight\n",
      "Successfully loaded: deconv2.1.weight\n",
      "Successfully loaded: deconv2.1.bias\n",
      "Successfully loaded: deconv2.1.running_mean\n",
      "Successfully loaded: deconv2.1.running_var\n",
      "Successfully loaded: deconv2.1.num_batches_tracked\n",
      "Successfully loaded: iconv3.0.weight\n",
      "Successfully loaded: iconv3.1.weight\n",
      "Successfully loaded: iconv3.1.bias\n",
      "Successfully loaded: iconv3.1.running_mean\n",
      "Successfully loaded: iconv3.1.running_var\n",
      "Successfully loaded: iconv3.1.num_batches_tracked\n",
      "Successfully loaded: iconv2.0.weight\n",
      "Successfully loaded: iconv2.1.weight\n",
      "Successfully loaded: iconv2.1.bias\n",
      "Successfully loaded: iconv2.1.running_mean\n",
      "Successfully loaded: iconv2.1.running_var\n",
      "Successfully loaded: iconv2.1.num_batches_tracked\n",
      "Successfully loaded: xconv3.0.weight\n",
      "Successfully loaded: xconv3.0.bias\n",
      "Successfully loaded: xconv3.1.weight\n",
      "Successfully loaded: xconv3.1.bias\n",
      "Successfully loaded: xconv3.1.running_mean\n",
      "Successfully loaded: xconv3.1.running_var\n",
      "Successfully loaded: xconv3.1.num_batches_tracked\n",
      "Successfully loaded: xconv2.0.weight\n",
      "Successfully loaded: xconv2.0.bias\n",
      "Successfully loaded: xconv2.1.weight\n",
      "Successfully loaded: xconv2.1.bias\n",
      "Successfully loaded: xconv2.1.running_mean\n",
      "Successfully loaded: xconv2.1.running_var\n",
      "Successfully loaded: xconv2.1.num_batches_tracked\n",
      "Successfully loaded: predict_flow4.0.weight\n",
      "Successfully loaded: predict_flow4.0.bias\n",
      "Successfully loaded: predict_flow3.0.weight\n",
      "Successfully loaded: predict_flow3.0.bias\n",
      "Successfully loaded: predict_flow2.0.weight\n",
      "Successfully loaded: predict_flow2.0.bias\n",
      "Successfully loaded: upsampled_flow4_to_3.weight\n",
      "Successfully loaded: upsampled_flow4_to_3.bias\n",
      "Successfully loaded: upsampled_flow3_to_2.weight\n",
      "Successfully loaded: upsampled_flow3_to_2.bias\n"
     ]
    },
    {
     "ename": "ValueError",
     "evalue": "stop_method: {'learning_rate': 5e-07} must be one of {'early': 5, 'learning_rate': 5e-07, 'num_epochs': 1000}",
     "output_type": "error",
     "traceback": [
      "\u001b[0;31m---------------------------------------------------------------------------\u001b[0m",
      "\u001b[0;31mValueError\u001b[0m                                Traceback (most recent call last)",
      "Cell \u001b[0;32mIn[4], line 1\u001b[0m\n\u001b[0;32m----> 1\u001b[0m \u001b[43mdf\u001b[49m\u001b[38;5;241;43m.\u001b[39;49m\u001b[43mflow_generator\u001b[49m\u001b[38;5;241;43m.\u001b[39;49m\u001b[43mtrain\u001b[49m\u001b[43m(\u001b[49m\u001b[43m)\u001b[49m\n",
      "File \u001b[0;32m~/repos/animal-soup/animal_soup/extensions/flow_gen_extensions.py:77\u001b[0m, in \u001b[0;36mFlowGeneratorDataframeExtension.train\u001b[0;34m(self, mode, batch_size, gpu_id, lr, stop_method)\u001b[0m\n\u001b[1;32m     71\u001b[0m \u001b[38;5;66;03m# create available dataset from items in df\u001b[39;00m\n\u001b[1;32m     72\u001b[0m \u001b[38;5;66;03m# create dataloader for training from available dataset\u001b[39;00m\n\u001b[1;32m     73\u001b[0m \n\u001b[1;32m     74\u001b[0m \n\u001b[1;32m     75\u001b[0m \u001b[38;5;66;03m# parse stop method\u001b[39;00m\n\u001b[1;32m     76\u001b[0m \u001b[38;5;28;01mif\u001b[39;00m \u001b[38;5;124m\"\u001b[39m\u001b[38;5;124mstop_method\u001b[39m\u001b[38;5;124m\"\u001b[39m \u001b[38;5;129;01mnot\u001b[39;00m \u001b[38;5;129;01min\u001b[39;00m STOP_METHODS\u001b[38;5;241m.\u001b[39mkeys():\n\u001b[0;32m---> 77\u001b[0m     \u001b[38;5;28;01mraise\u001b[39;00m \u001b[38;5;167;01mValueError\u001b[39;00m(\u001b[38;5;124mf\u001b[39m\u001b[38;5;124m\"\u001b[39m\u001b[38;5;124mstop_method: \u001b[39m\u001b[38;5;132;01m{\u001b[39;00mstop_method\u001b[38;5;132;01m}\u001b[39;00m\u001b[38;5;124m must be one of \u001b[39m\u001b[38;5;132;01m{\u001b[39;00mSTOP_METHODS\u001b[38;5;132;01m}\u001b[39;00m\u001b[38;5;124m\"\u001b[39m)\n\u001b[1;32m     78\u001b[0m \u001b[38;5;66;03m# if stop method == \"learning rate\", should be type float\u001b[39;00m\n\u001b[1;32m     79\u001b[0m \u001b[38;5;28;01mif\u001b[39;00m stop_method\u001b[38;5;241m.\u001b[39mkeys()[\u001b[38;5;241m0\u001b[39m] \u001b[38;5;241m==\u001b[39m \u001b[38;5;124m\"\u001b[39m\u001b[38;5;124mlearning_rate\u001b[39m\u001b[38;5;124m\"\u001b[39m \u001b[38;5;129;01mand\u001b[39;00m \u001b[38;5;129;01mnot\u001b[39;00m \u001b[38;5;28misinstance\u001b[39m(stop_method[\u001b[38;5;124m\"\u001b[39m\u001b[38;5;124mlearning_rate\u001b[39m\u001b[38;5;124m\"\u001b[39m], \u001b[38;5;28mfloat\u001b[39m):\n",
      "\u001b[0;31mValueError\u001b[0m: stop_method: {'learning_rate': 5e-07} must be one of {'early': 5, 'learning_rate': 5e-07, 'num_epochs': 1000}"
     ]
    }
   ],
   "source": [
    "df.flow_generator.train()"
   ]
  },
  {
   "cell_type": "code",
   "execution_count": 9,
   "id": "8fa6f982-8879-431d-a7f3-653250a21a14",
   "metadata": {
    "tags": []
   },
   "outputs": [],
   "source": [
    "from animal_soup.flow_generator.models.TinyMotionNet3D import TinyMotionNet3D"
   ]
  },
  {
   "cell_type": "code",
   "execution_count": 10,
   "id": "b6e868af-f08f-4fd6-8bd8-1c5c88cc5a8b",
   "metadata": {
    "tags": []
   },
   "outputs": [
    {
     "name": "stdout",
     "output_type": "stream",
     "text": [
      "[16, 32, 64]\n"
     ]
    }
   ],
   "source": [
    "model = TinyMotionNet3D()"
   ]
  },
  {
   "cell_type": "code",
   "execution_count": 3,
   "id": "5afa91bc-e995-448a-a4d2-add52f44c949",
   "metadata": {
    "tags": []
   },
   "outputs": [],
   "source": [
    "model_state = torch.load('../pretrained_checkpoints/flow_gen.ckpt')"
   ]
  },
  {
   "cell_type": "code",
   "execution_count": 4,
   "id": "1e8ab14a-f55f-4f03-b7f9-26282f3d4e34",
   "metadata": {
    "tags": []
   },
   "outputs": [
    {
     "data": {
      "text/plain": [
       "dict_keys(['epoch', 'global_step', 'pytorch-lightning_version', 'state_dict', 'hyper_parameters'])"
      ]
     },
     "execution_count": 4,
     "metadata": {},
     "output_type": "execute_result"
    }
   ],
   "source": [
    "model_state.keys()"
   ]
  },
  {
   "cell_type": "code",
   "execution_count": 5,
   "id": "74e2b084-4d09-44c9-a363-09c3e27f8789",
   "metadata": {
    "tags": []
   },
   "outputs": [
    {
     "data": {
      "text/plain": [
       "odict_keys(['model.conv1.0.weight', 'model.conv1.1.weight', 'model.conv1.1.bias', 'model.conv1.1.running_mean', 'model.conv1.1.running_var', 'model.conv1.1.num_batches_tracked', 'model.conv2.0.weight', 'model.conv2.1.weight', 'model.conv2.1.bias', 'model.conv2.1.running_mean', 'model.conv2.1.running_var', 'model.conv2.1.num_batches_tracked', 'model.conv3.0.weight', 'model.conv3.1.weight', 'model.conv3.1.bias', 'model.conv3.1.running_mean', 'model.conv3.1.running_var', 'model.conv3.1.num_batches_tracked', 'model.conv4.0.weight', 'model.conv4.1.weight', 'model.conv4.1.bias', 'model.conv4.1.running_mean', 'model.conv4.1.running_var', 'model.conv4.1.num_batches_tracked', 'model.conv5.0.weight', 'model.conv5.1.weight', 'model.conv5.1.bias', 'model.conv5.1.running_mean', 'model.conv5.1.running_var', 'model.conv5.1.num_batches_tracked', 'model.deconv3.0.weight', 'model.deconv3.1.weight', 'model.deconv3.1.bias', 'model.deconv3.1.running_mean', 'model.deconv3.1.running_var', 'model.deconv3.1.num_batches_tracked', 'model.deconv2.0.weight', 'model.deconv2.1.weight', 'model.deconv2.1.bias', 'model.deconv2.1.running_mean', 'model.deconv2.1.running_var', 'model.deconv2.1.num_batches_tracked', 'model.iconv3.0.weight', 'model.iconv3.1.weight', 'model.iconv3.1.bias', 'model.iconv3.1.running_mean', 'model.iconv3.1.running_var', 'model.iconv3.1.num_batches_tracked', 'model.iconv2.0.weight', 'model.iconv2.1.weight', 'model.iconv2.1.bias', 'model.iconv2.1.running_mean', 'model.iconv2.1.running_var', 'model.iconv2.1.num_batches_tracked', 'model.xconv3.0.weight', 'model.xconv3.0.bias', 'model.xconv3.1.weight', 'model.xconv3.1.bias', 'model.xconv3.1.running_mean', 'model.xconv3.1.running_var', 'model.xconv3.1.num_batches_tracked', 'model.xconv2.0.weight', 'model.xconv2.0.bias', 'model.xconv2.1.weight', 'model.xconv2.1.bias', 'model.xconv2.1.running_mean', 'model.xconv2.1.running_var', 'model.xconv2.1.num_batches_tracked', 'model.predict_flow4.0.weight', 'model.predict_flow4.0.bias', 'model.predict_flow3.0.weight', 'model.predict_flow3.0.bias', 'model.predict_flow2.0.weight', 'model.predict_flow2.0.bias', 'model.upsampled_flow4_to_3.weight', 'model.upsampled_flow4_to_3.bias', 'model.upsampled_flow3_to_2.weight', 'model.upsampled_flow3_to_2.bias', 'criterion.regularization_criterion.conv1_0_weight', 'criterion.regularization_criterion.conv2_0_weight', 'criterion.regularization_criterion.conv3_0_weight', 'criterion.regularization_criterion.conv4_0_weight', 'criterion.regularization_criterion.conv5_0_weight', 'criterion.regularization_criterion.deconv3_0_weight', 'criterion.regularization_criterion.deconv2_0_weight', 'criterion.regularization_criterion.iconv3_0_weight', 'criterion.regularization_criterion.iconv2_0_weight', 'criterion.regularization_criterion.xconv3_0_weight', 'criterion.regularization_criterion.xconv2_0_weight', 'criterion.regularization_criterion.predict_flow4_0_weight', 'criterion.regularization_criterion.predict_flow3_0_weight', 'criterion.regularization_criterion.predict_flow2_0_weight', 'criterion.regularization_criterion.upsampled_flow4_to_3_weight', 'criterion.regularization_criterion.upsampled_flow3_to_2_weight'])"
      ]
     },
     "execution_count": 5,
     "metadata": {},
     "output_type": "execute_result"
    }
   ],
   "source": [
    "model_state[\"state_dict\"].keys()"
   ]
  },
  {
   "cell_type": "code",
   "execution_count": 6,
   "id": "81ce490f-056c-4aca-a77d-71c1556165fd",
   "metadata": {
    "tags": []
   },
   "outputs": [
    {
     "data": {
      "text/plain": [
       "{'split': {'reload': True, 'file': None, 'train_val_test': [0.8, 0.2, 0.0]},\n",
       " 'compute': {'fp16': False, 'num_workers': 8, 'batch_size': 16, 'min_batch_size': 8, 'max_batch_size': 512, 'distributed': False, 'gpu_id': 0, 'dali': False, 'metrics_workers': 0},\n",
       " 'reload': {'overwrite_cfg': False, 'latest': False},\n",
       " 'notes': None,\n",
       " 'log': {'level': 'info'},\n",
       " 'augs': {'brightness': 0.25, 'contrast': 0.1, 'hue': 0.1, 'saturation': 0.1, 'color_p': 0.5, 'grayscale': 0.5, 'crop_size': None, 'resize': [224, 224], 'dali': False, 'random_resize': False, 'pad': None, 'LR': 0.5, 'UD': 0.0, 'degrees': 10, 'normalization': {'N': 149760000, 'mean': [0.175888385730895, 0.175888385730895, 0.175888385730895], 'std': [0.22989982574283255, 0.22989982574283255, 0.22989982574283255]}},\n",
       " 'train': {'lr': 0.0001, 'scheduler': 'plateau', 'num_epochs': 10, 'steps_per_epoch': {'train': 1000, 'val': 200, 'test': 20}, 'min_lr': 5e-07, 'stopping_type': 'learning_rate', 'milestones': [50, 100, 150, 200, 250, 300], 'weight_loss': True, 'patience': 3, 'early_stopping_begins': 0, 'viz_metrics': True, 'viz_examples': 10, 'reduction_factor': 0.1, 'loss_weight_exp': 1.0, 'loss_gamma': 1.0, 'label_smoothing': 0.05, 'oversampling_exp': 0.0, 'regularization': {'style': 'l2_sp', 'alpha': 1e-05, 'beta': 0.001}},\n",
       " 'flow_generator': {'type': 'flow_generator', 'flow_loss': 'MotionNet', 'flow_max': 10, 'input_images': 11, 'flow_sparsity': False, 'smooth_weight_multiplier': 1.0, 'sparsity_weight': 0.0, 'loss': 'MotionNet', 'max': 5, 'n_rgb': 11, 'arch': 'TinyMotionNet3D', 'weights': 'pretrained'},\n",
       " 'cmap': 'deepethogram',\n",
       " 'control_arrow_jump': 31,\n",
       " 'label_view_width': 31,\n",
       " 'postprocessor': {'min_bout_length': 1, 'type': 'min_bout_per_behavior'},\n",
       " 'prediction_opacity': 0.2,\n",
       " 'project': {'class_names': ['background', 'lift', 'handopen', 'grab', 'sup', 'atmouth', 'chew'], 'config_file': '/data/caitlin/cross_validation/k1/k1_deg/project_config.yaml', 'data_path': '/data/caitlin/cross_validation/k1/k1_deg/DATA', 'labeler': None, 'model_path': '/data/caitlin/cross_validation/k1/k1_deg/models', 'name': 'k1_deg', 'path': '/data/caitlin/cross_validation/k1/k1_deg', 'pretrained_path': '/data/caitlin/cross_validation/k1/k1_deg/models/pretrained_models'},\n",
       " 'run': {'type': 'train', 'model': 'flow_generator', 'dir': '/data/caitlin/cross_validation/k1/k1_deg/models/230706_201806_flow_generator_train'},\n",
       " 'sequence': {'filter_length': 15},\n",
       " 'unlabeled_alpha': 0.1,\n",
       " 'vertical_arrow_jump': 3,\n",
       " 'weight_decay': None}"
      ]
     },
     "execution_count": 6,
     "metadata": {},
     "output_type": "execute_result"
    }
   ],
   "source": [
    "model_state[\"hyper_parameters\"]"
   ]
  },
  {
   "cell_type": "code",
   "execution_count": 9,
   "id": "8b1e2eac-0799-4b35-9f82-f96913eacb82",
   "metadata": {
    "tags": []
   },
   "outputs": [],
   "source": [
    "state_dict = model_state[\"state_dict\"]"
   ]
  },
  {
   "cell_type": "code",
   "execution_count": 10,
   "id": "36ffbb60-4cc1-4885-ad41-0b2d656bd4ab",
   "metadata": {
    "tags": []
   },
   "outputs": [],
   "source": [
    "new_state_dict = OrderedDict()\n",
    "for k, v in state_dict.items():\n",
    "    if k[:6] == 'model.':\n",
    "        name = k[6:]\n",
    "    else:\n",
    "        name = k\n",
    "    new_state_dict[name] = v\n",
    "state_dict = new_state_dict"
   ]
  },
  {
   "cell_type": "code",
   "execution_count": 11,
   "id": "5da7a8eb-3d1e-476c-b007-862628f26ca9",
   "metadata": {
    "tags": []
   },
   "outputs": [],
   "source": [
    "model_state[\"state_dict\"] = state_dict"
   ]
  },
  {
   "cell_type": "code",
   "execution_count": 9,
   "id": "ec77eaef-8730-4add-93bf-a0313d0f5a24",
   "metadata": {
    "tags": []
   },
   "outputs": [
    {
     "data": {
      "text/plain": [
       "odict_keys(['conv1.0.weight', 'conv1.1.weight', 'conv1.1.bias', 'conv1.1.running_mean', 'conv1.1.running_var', 'conv1.1.num_batches_tracked', 'conv2.0.weight', 'conv2.1.weight', 'conv2.1.bias', 'conv2.1.running_mean', 'conv2.1.running_var', 'conv2.1.num_batches_tracked', 'conv3.0.weight', 'conv3.1.weight', 'conv3.1.bias', 'conv3.1.running_mean', 'conv3.1.running_var', 'conv3.1.num_batches_tracked', 'conv4.0.weight', 'conv4.1.weight', 'conv4.1.bias', 'conv4.1.running_mean', 'conv4.1.running_var', 'conv4.1.num_batches_tracked', 'conv5.0.weight', 'conv5.1.weight', 'conv5.1.bias', 'conv5.1.running_mean', 'conv5.1.running_var', 'conv5.1.num_batches_tracked', 'deconv3.0.weight', 'deconv3.1.weight', 'deconv3.1.bias', 'deconv3.1.running_mean', 'deconv3.1.running_var', 'deconv3.1.num_batches_tracked', 'deconv2.0.weight', 'deconv2.1.weight', 'deconv2.1.bias', 'deconv2.1.running_mean', 'deconv2.1.running_var', 'deconv2.1.num_batches_tracked', 'iconv3.0.weight', 'iconv3.1.weight', 'iconv3.1.bias', 'iconv3.1.running_mean', 'iconv3.1.running_var', 'iconv3.1.num_batches_tracked', 'iconv2.0.weight', 'iconv2.1.weight', 'iconv2.1.bias', 'iconv2.1.running_mean', 'iconv2.1.running_var', 'iconv2.1.num_batches_tracked', 'xconv3.0.weight', 'xconv3.0.bias', 'xconv3.1.weight', 'xconv3.1.bias', 'xconv3.1.running_mean', 'xconv3.1.running_var', 'xconv3.1.num_batches_tracked', 'xconv2.0.weight', 'xconv2.0.bias', 'xconv2.1.weight', 'xconv2.1.bias', 'xconv2.1.running_mean', 'xconv2.1.running_var', 'xconv2.1.num_batches_tracked', 'predict_flow4.0.weight', 'predict_flow4.0.bias', 'predict_flow3.0.weight', 'predict_flow3.0.bias', 'predict_flow2.0.weight', 'predict_flow2.0.bias', 'upsampled_flow4_to_3.weight', 'upsampled_flow4_to_3.bias', 'upsampled_flow3_to_2.weight', 'upsampled_flow3_to_2.bias', 'criterion.regularization_criterion.conv1_0_weight', 'criterion.regularization_criterion.conv2_0_weight', 'criterion.regularization_criterion.conv3_0_weight', 'criterion.regularization_criterion.conv4_0_weight', 'criterion.regularization_criterion.conv5_0_weight', 'criterion.regularization_criterion.deconv3_0_weight', 'criterion.regularization_criterion.deconv2_0_weight', 'criterion.regularization_criterion.iconv3_0_weight', 'criterion.regularization_criterion.iconv2_0_weight', 'criterion.regularization_criterion.xconv3_0_weight', 'criterion.regularization_criterion.xconv2_0_weight', 'criterion.regularization_criterion.predict_flow4_0_weight', 'criterion.regularization_criterion.predict_flow3_0_weight', 'criterion.regularization_criterion.predict_flow2_0_weight', 'criterion.regularization_criterion.upsampled_flow4_to_3_weight', 'criterion.regularization_criterion.upsampled_flow3_to_2_weight'])"
      ]
     },
     "execution_count": 9,
     "metadata": {},
     "output_type": "execute_result"
    }
   ],
   "source": [
    "state_dict.keys()"
   ]
  },
  {
   "cell_type": "code",
   "execution_count": null,
   "id": "0713b201-0a04-41a9-81f3-6cf1e6468e04",
   "metadata": {},
   "outputs": [],
   "source": []
  },
  {
   "cell_type": "code",
   "execution_count": 10,
   "id": "131bca46-c519-4bcb-bb15-66d4e0137fd8",
   "metadata": {
    "tags": []
   },
   "outputs": [
    {
     "name": "stdout",
     "output_type": "stream",
     "text": [
      "Successfully loaded: conv1.0.weight\n",
      "Successfully loaded: conv1.1.weight\n",
      "Successfully loaded: conv1.1.bias\n",
      "Successfully loaded: conv1.1.running_mean\n",
      "Successfully loaded: conv1.1.running_var\n",
      "Successfully loaded: conv1.1.num_batches_tracked\n",
      "Successfully loaded: conv2.0.weight\n",
      "Successfully loaded: conv2.1.weight\n",
      "Successfully loaded: conv2.1.bias\n",
      "Successfully loaded: conv2.1.running_mean\n",
      "Successfully loaded: conv2.1.running_var\n",
      "Successfully loaded: conv2.1.num_batches_tracked\n",
      "Successfully loaded: conv3.0.weight\n",
      "Successfully loaded: conv3.1.weight\n",
      "Successfully loaded: conv3.1.bias\n",
      "Successfully loaded: conv3.1.running_mean\n",
      "Successfully loaded: conv3.1.running_var\n",
      "Successfully loaded: conv3.1.num_batches_tracked\n",
      "Successfully loaded: conv4.0.weight\n",
      "Successfully loaded: conv4.1.weight\n",
      "Successfully loaded: conv4.1.bias\n",
      "Successfully loaded: conv4.1.running_mean\n",
      "Successfully loaded: conv4.1.running_var\n",
      "Successfully loaded: conv4.1.num_batches_tracked\n",
      "Successfully loaded: conv5.0.weight\n",
      "Successfully loaded: conv5.1.weight\n",
      "Successfully loaded: conv5.1.bias\n",
      "Successfully loaded: conv5.1.running_mean\n",
      "Successfully loaded: conv5.1.running_var\n",
      "Successfully loaded: conv5.1.num_batches_tracked\n",
      "Successfully loaded: deconv3.0.weight\n",
      "Successfully loaded: deconv3.1.weight\n",
      "Successfully loaded: deconv3.1.bias\n",
      "Successfully loaded: deconv3.1.running_mean\n",
      "Successfully loaded: deconv3.1.running_var\n",
      "Successfully loaded: deconv3.1.num_batches_tracked\n",
      "Successfully loaded: deconv2.0.weight\n",
      "Successfully loaded: deconv2.1.weight\n",
      "Successfully loaded: deconv2.1.bias\n",
      "Successfully loaded: deconv2.1.running_mean\n",
      "Successfully loaded: deconv2.1.running_var\n",
      "Successfully loaded: deconv2.1.num_batches_tracked\n",
      "Successfully loaded: iconv3.0.weight\n",
      "Successfully loaded: iconv3.1.weight\n",
      "Successfully loaded: iconv3.1.bias\n",
      "Successfully loaded: iconv3.1.running_mean\n",
      "Successfully loaded: iconv3.1.running_var\n",
      "Successfully loaded: iconv3.1.num_batches_tracked\n",
      "Successfully loaded: iconv2.0.weight\n",
      "Successfully loaded: iconv2.1.weight\n",
      "Successfully loaded: iconv2.1.bias\n",
      "Successfully loaded: iconv2.1.running_mean\n",
      "Successfully loaded: iconv2.1.running_var\n",
      "Successfully loaded: iconv2.1.num_batches_tracked\n",
      "Successfully loaded: xconv3.0.weight\n",
      "Successfully loaded: xconv3.0.bias\n",
      "Successfully loaded: xconv3.1.weight\n",
      "Successfully loaded: xconv3.1.bias\n",
      "Successfully loaded: xconv3.1.running_mean\n",
      "Successfully loaded: xconv3.1.running_var\n",
      "Successfully loaded: xconv3.1.num_batches_tracked\n",
      "Successfully loaded: xconv2.0.weight\n",
      "Successfully loaded: xconv2.0.bias\n",
      "Successfully loaded: xconv2.1.weight\n",
      "Successfully loaded: xconv2.1.bias\n",
      "Successfully loaded: xconv2.1.running_mean\n",
      "Successfully loaded: xconv2.1.running_var\n",
      "Successfully loaded: xconv2.1.num_batches_tracked\n",
      "Successfully loaded: predict_flow4.0.weight\n",
      "Successfully loaded: predict_flow4.0.bias\n",
      "Successfully loaded: predict_flow3.0.weight\n",
      "Successfully loaded: predict_flow3.0.bias\n",
      "Successfully loaded: predict_flow2.0.weight\n",
      "Successfully loaded: predict_flow2.0.bias\n",
      "Successfully loaded: upsampled_flow4_to_3.weight\n",
      "Successfully loaded: upsampled_flow4_to_3.bias\n",
      "Successfully loaded: upsampled_flow3_to_2.weight\n",
      "Successfully loaded: upsampled_flow3_to_2.bias\n"
     ]
    },
    {
     "data": {
      "text/plain": [
       "<All keys matched successfully>"
      ]
     },
     "execution_count": 10,
     "metadata": {},
     "output_type": "execute_result"
    }
   ],
   "source": [
    "model_dict = model.state_dict()\n",
    "pretrained_dict = {}\n",
    "for k, v in state_dict.items():\n",
    "    if 'criterion' in k:\n",
    "        # we might have parameters from the loss function in our loaded weights. we don't want to reload these;\n",
    "        # we will specify them for whatever we are currently training.\n",
    "        continue\n",
    "    if k not in model_dict:\n",
    "        print('{} not found in model dictionary'.format(k))\n",
    "    else:\n",
    "        if model_dict[k].size() != v.size():\n",
    "            print('{} has different size: pretrained:{} model:{}'.format(k, v.size(), model_dict[k].size()))\n",
    "        else:\n",
    "            print('Successfully loaded: {}'.format(k))\n",
    "            pretrained_dict[k] = v\n",
    "\n",
    "model_dict.update(pretrained_dict)\n",
    "# only_in_model_dict = {k:v for k,v in state_dict.items() if k in model_dict}\n",
    "# model_dict.update(only_in_model_dict)\n",
    "# load the state dict, only for layers of same name, shape, size, etc.\n",
    "model.load_state_dict(model_dict, strict=True)"
   ]
  },
  {
   "cell_type": "code",
   "execution_count": 12,
   "id": "d2040c71-216f-4680-963e-bb6664317a88",
   "metadata": {
    "tags": []
   },
   "outputs": [
    {
     "name": "stdout",
     "output_type": "stream",
     "text": [
      "conv1.0.weight torch.Size([16, 3, 7, 7, 7])\n",
      "conv1.1.weight torch.Size([16])\n",
      "conv1.1.bias torch.Size([16])\n",
      "conv2.0.weight torch.Size([32, 16, 5, 5, 5])\n",
      "conv2.1.weight torch.Size([32])\n",
      "conv2.1.bias torch.Size([32])\n",
      "conv3.0.weight torch.Size([64, 32, 3, 3, 3])\n",
      "conv3.1.weight torch.Size([64])\n",
      "conv3.1.bias torch.Size([64])\n",
      "conv4.0.weight torch.Size([32, 64, 3, 3, 3])\n",
      "conv4.1.weight torch.Size([32])\n",
      "conv4.1.bias torch.Size([32])\n",
      "conv5.0.weight torch.Size([32, 32, 2, 3, 3])\n",
      "conv5.1.weight torch.Size([32])\n",
      "conv5.1.bias torch.Size([32])\n",
      "deconv3.0.weight torch.Size([32, 32, 1, 4, 4])\n",
      "deconv3.1.weight torch.Size([32])\n",
      "deconv3.1.bias torch.Size([32])\n",
      "deconv2.0.weight torch.Size([32, 16, 1, 4, 4])\n",
      "deconv2.1.weight torch.Size([16])\n",
      "deconv2.1.bias torch.Size([16])\n",
      "iconv3.0.weight torch.Size([64, 64, 2, 3, 3])\n",
      "iconv3.1.weight torch.Size([64])\n",
      "iconv3.1.bias torch.Size([64])\n",
      "iconv2.0.weight torch.Size([32, 32, 2, 3, 3])\n",
      "iconv2.1.weight torch.Size([32])\n",
      "iconv2.1.bias torch.Size([32])\n",
      "xconv3.0.weight torch.Size([32, 98, 3, 3, 3])\n",
      "xconv3.0.bias torch.Size([32])\n",
      "xconv3.1.weight torch.Size([32])\n",
      "xconv3.1.bias torch.Size([32])\n",
      "xconv2.0.weight torch.Size([16, 50, 3, 3, 3])\n",
      "xconv2.0.bias torch.Size([16])\n",
      "xconv2.1.weight torch.Size([16])\n",
      "xconv2.1.bias torch.Size([16])\n",
      "predict_flow4.0.weight torch.Size([2, 32, 3, 3, 3])\n",
      "predict_flow4.0.bias torch.Size([2])\n",
      "predict_flow3.0.weight torch.Size([2, 32, 3, 3, 3])\n",
      "predict_flow3.0.bias torch.Size([2])\n",
      "predict_flow2.0.weight torch.Size([2, 16, 3, 3, 3])\n",
      "predict_flow2.0.bias torch.Size([2])\n",
      "upsampled_flow4_to_3.weight torch.Size([2, 2, 1, 4, 4])\n",
      "upsampled_flow4_to_3.bias torch.Size([2])\n",
      "upsampled_flow3_to_2.weight torch.Size([2, 2, 1, 4, 4])\n",
      "upsampled_flow3_to_2.bias torch.Size([2])\n"
     ]
    }
   ],
   "source": [
    "for name, param in model.named_parameters():\n",
    "    print(name, param.shape)\n"
   ]
  },
  {
   "cell_type": "code",
   "execution_count": null,
   "id": "be54e44d-cbb1-4ed9-bf18-6c25aa1a6065",
   "metadata": {},
   "outputs": [],
   "source": []
  }
 ],
 "metadata": {
  "kernelspec": {
   "display_name": "Python 3 (ipykernel)",
   "language": "python",
   "name": "python3"
  },
  "language_info": {
   "codemirror_mode": {
    "name": "ipython",
    "version": 3
   },
   "file_extension": ".py",
   "mimetype": "text/x-python",
   "name": "python",
   "nbconvert_exporter": "python",
   "pygments_lexer": "ipython3",
   "version": "3.11.3"
  }
 },
 "nbformat": 4,
 "nbformat_minor": 5
}
