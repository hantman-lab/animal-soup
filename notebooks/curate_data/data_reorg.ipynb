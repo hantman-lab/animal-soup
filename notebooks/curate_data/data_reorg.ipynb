{
 "cells": [
  {
   "cell_type": "code",
   "execution_count": 25,
   "id": "2dccf90f-6190-4b66-bcc6-c8dcdc9c8442",
   "metadata": {
    "tags": []
   },
   "outputs": [],
   "source": [
    "import os\n",
    "from pathlib import Path\n",
    "import pandas as pd\n",
    "import shutil\n",
    "from tqdm import tqdm"
   ]
  },
  {
   "cell_type": "code",
   "execution_count": 2,
   "id": "0f7a3603-9988-4f6f-b816-ecb55964e12d",
   "metadata": {
    "tags": []
   },
   "outputs": [],
   "source": [
    "exactly5 = pd.read_hdf('/data/caitlin/exactly5_hand_labels.hdf')\n",
    "exactly4 = pd.read_hdf('/data/caitlin/exactly4_hand_labels.hdf')\n",
    "exactly3 = pd.read_hdf('/data/caitlin/exactly3_hand_labels.hdf')\n",
    "exactly2 = pd.read_hdf('/data/caitlin/exactly2_hand_labels.hdf')\n",
    "exactly1 = pd.read_hdf('/data/caitlin/exactly1_hand_labels.hdf')"
   ]
  },
  {
   "cell_type": "code",
   "execution_count": 8,
   "id": "7d1a15c6-92a1-4121-98e8-78c5b7af6e23",
   "metadata": {
    "tags": []
   },
   "outputs": [
    {
     "data": {
      "text/plain": [
       "201"
      ]
     },
     "execution_count": 8,
     "metadata": {},
     "output_type": "execute_result"
    }
   ],
   "source": [
    "exactly4\n",
    "count = 0\n",
    "for row in exactly4.iterrows():\n",
    "    count += len(row[1][\"hand_labels\"].keys())\n",
    "count\n",
    "len(sorted(Path('/data/caitlin/potential_ground_truth4/').glob('*.avi')))"
   ]
  },
  {
   "cell_type": "code",
   "execution_count": 5,
   "id": "9f3fb96e-d88e-4042-b989-ecf82e4744b5",
   "metadata": {
    "tags": []
   },
   "outputs": [
    {
     "data": {
      "text/plain": [
       "510"
      ]
     },
     "execution_count": 5,
     "metadata": {},
     "output_type": "execute_result"
    }
   ],
   "source": [
    "exactly3\n",
    "count = 0\n",
    "for row in exactly3.iterrows():\n",
    "    count += len(row[1][\"hand_labels\"].keys())\n",
    "len(sorted(Path('/data/caitlin/potential_ground_truth3/').glob('*.avi')))"
   ]
  },
  {
   "cell_type": "code",
   "execution_count": 6,
   "id": "ec2752e6-7dc8-44e1-89eb-1bafc1391ea8",
   "metadata": {
    "tags": []
   },
   "outputs": [
    {
     "data": {
      "text/plain": [
       "1078"
      ]
     },
     "execution_count": 6,
     "metadata": {},
     "output_type": "execute_result"
    }
   ],
   "source": [
    "exactly2\n",
    "count = 0\n",
    "for row in exactly2.iterrows():\n",
    "    count += len(row[1][\"hand_labels\"].keys())\n",
    "len(sorted(Path('/data/caitlin/potential_ground_truth2/').glob('*.avi')))"
   ]
  },
  {
   "cell_type": "code",
   "execution_count": 7,
   "id": "84fc1ab1-0562-4b21-87bf-7fd23235da4b",
   "metadata": {
    "tags": []
   },
   "outputs": [
    {
     "data": {
      "text/plain": [
       "1622"
      ]
     },
     "execution_count": 7,
     "metadata": {},
     "output_type": "execute_result"
    }
   ],
   "source": [
    "exactly1\n",
    "count = 0\n",
    "for row in exactly1.iterrows():\n",
    "    count += len(row[1][\"hand_labels\"].keys())\n",
    "len(sorted(Path('/data/caitlin/potential_ground_truth1/').glob('*.avi')))"
   ]
  },
  {
   "cell_type": "code",
   "execution_count": 56,
   "id": "d58a27fc-fe02-488c-877c-a27ce117fed7",
   "metadata": {
    "tags": []
   },
   "outputs": [],
   "source": [
    "# organize data into sessions"
   ]
  },
  {
   "cell_type": "code",
   "execution_count": 65,
   "id": "30154eb8-418a-4b02-99af-b487b7a7edea",
   "metadata": {
    "tags": []
   },
   "outputs": [],
   "source": [
    "for m in Path('/data/caitlin/ground_truth/').glob('M*'): \n",
    "    vids = [v.stem for v in sorted(m.glob('*.avi'))]\n",
    "    for v in vids:\n",
    "        session_id = v.split('_')[-2]\n",
    "        os.makedirs(m.joinpath(session_id), exist_ok=True)\n",
    "        shutil.move(src=m.joinpath(v).with_suffix('.avi'), dst=m.joinpath(session_id, v).with_suffix('.avi'))"
   ]
  },
  {
   "cell_type": "code",
   "execution_count": 66,
   "id": "a2b3464f-cbce-4ba0-a57c-3b0abaca236a",
   "metadata": {
    "tags": []
   },
   "outputs": [
    {
     "data": {
      "text/plain": [
       "['M235_20170424_v001',\n",
       " 'M235_20170424_v002',\n",
       " 'M235_20170424_v003',\n",
       " 'M235_20170425_v001',\n",
       " 'M235_20170425_v002',\n",
       " 'M235_20170425_v003',\n",
       " 'M235_20170426_v001',\n",
       " 'M235_20170426_v002']"
      ]
     },
     "execution_count": 66,
     "metadata": {},
     "output_type": "execute_result"
    }
   ],
   "source": [
    "vids"
   ]
  },
  {
   "cell_type": "code",
   "execution_count": 67,
   "id": "88020aaa-e5f5-456d-82ef-a19666a1463c",
   "metadata": {
    "tags": []
   },
   "outputs": [],
   "source": [
    "df = pd.read_hdf(\"/data/caitlin/ground_truth.hdf\")"
   ]
  },
  {
   "cell_type": "code",
   "execution_count": 68,
   "id": "32bb57f9-d8b9-4283-bad9-b29a3386142b",
   "metadata": {
    "tags": []
   },
   "outputs": [
    {
     "data": {
      "text/html": [
       "<div>\n",
       "<style scoped>\n",
       "    .dataframe tbody tr th:only-of-type {\n",
       "        vertical-align: middle;\n",
       "    }\n",
       "\n",
       "    .dataframe tbody tr th {\n",
       "        vertical-align: top;\n",
       "    }\n",
       "\n",
       "    .dataframe thead th {\n",
       "        text-align: right;\n",
       "    }\n",
       "</style>\n",
       "<table border=\"1\" class=\"dataframe\">\n",
       "  <thead>\n",
       "    <tr style=\"text-align: right;\">\n",
       "      <th></th>\n",
       "      <th>trial</th>\n",
       "      <th>ethogram</th>\n",
       "    </tr>\n",
       "  </thead>\n",
       "  <tbody>\n",
       "    <tr>\n",
       "      <th>0</th>\n",
       "      <td>M234_20170328_v004</td>\n",
       "      <td>[[0, 0, 0, 0, 0, 0, 0, 0, 0, 0, 0, 0, 0, 0, 0,...</td>\n",
       "    </tr>\n",
       "    <tr>\n",
       "      <th>1</th>\n",
       "      <td>M234_20170328_v005</td>\n",
       "      <td>[[0, 0, 0, 0, 0, 0, 0, 0, 0, 0, 0, 0, 0, 0, 0,...</td>\n",
       "    </tr>\n",
       "    <tr>\n",
       "      <th>2</th>\n",
       "      <td>M234_20170331_v001</td>\n",
       "      <td>[[0, 0, 0, 0, 0, 0, 0, 0, 0, 0, 0, 0, 0, 0, 0,...</td>\n",
       "    </tr>\n",
       "    <tr>\n",
       "      <th>3</th>\n",
       "      <td>M234_20170403_v001</td>\n",
       "      <td>[[0, 0, 0, 0, 0, 0, 0, 0, 0, 0, 0, 0, 0, 0, 0,...</td>\n",
       "    </tr>\n",
       "    <tr>\n",
       "      <th>4</th>\n",
       "      <td>M234_20170412_v001</td>\n",
       "      <td>[[0, 0, 0, 0, 0, 0, 0, 0, 0, 0, 0, 0, 0, 0, 0,...</td>\n",
       "    </tr>\n",
       "    <tr>\n",
       "      <th>...</th>\n",
       "      <td>...</td>\n",
       "      <td>...</td>\n",
       "    </tr>\n",
       "    <tr>\n",
       "      <th>272</th>\n",
       "      <td>M259_20180402_v022</td>\n",
       "      <td>[[0, 0, 0, 0, 0, 0, 0, 0, 0, 0, 0, 0, 0, 0, 0,...</td>\n",
       "    </tr>\n",
       "    <tr>\n",
       "      <th>273</th>\n",
       "      <td>M275_20180830_v002</td>\n",
       "      <td>[[0.0, 0.0, 0.0, 0.0, 0.0, 0.0, 0.0, 0.0, 0.0,...</td>\n",
       "    </tr>\n",
       "    <tr>\n",
       "      <th>274</th>\n",
       "      <td>M278_20180921_v004</td>\n",
       "      <td>[[0, 0, 0, 0, 0, 0, 0, 0, 0, 0, 0, 0, 0, 0, 0,...</td>\n",
       "    </tr>\n",
       "    <tr>\n",
       "      <th>275</th>\n",
       "      <td>M282_20181203_v073</td>\n",
       "      <td>[[0, 0, 0, 0, 0, 0, 0, 0, 0, 0, 0, 0, 0, 0, 0,...</td>\n",
       "    </tr>\n",
       "    <tr>\n",
       "      <th>276</th>\n",
       "      <td>M312_20200330_v005</td>\n",
       "      <td>[[0.0, 0.0, 0.0, 0.0, 0.0, 0.0, 0.0, 0.0, 0.0,...</td>\n",
       "    </tr>\n",
       "  </tbody>\n",
       "</table>\n",
       "<p>277 rows × 2 columns</p>\n",
       "</div>"
      ],
      "text/plain": [
       "                  trial                                           ethogram\n",
       "0    M234_20170328_v004  [[0, 0, 0, 0, 0, 0, 0, 0, 0, 0, 0, 0, 0, 0, 0,...\n",
       "1    M234_20170328_v005  [[0, 0, 0, 0, 0, 0, 0, 0, 0, 0, 0, 0, 0, 0, 0,...\n",
       "2    M234_20170331_v001  [[0, 0, 0, 0, 0, 0, 0, 0, 0, 0, 0, 0, 0, 0, 0,...\n",
       "3    M234_20170403_v001  [[0, 0, 0, 0, 0, 0, 0, 0, 0, 0, 0, 0, 0, 0, 0,...\n",
       "4    M234_20170412_v001  [[0, 0, 0, 0, 0, 0, 0, 0, 0, 0, 0, 0, 0, 0, 0,...\n",
       "..                  ...                                                ...\n",
       "272  M259_20180402_v022  [[0, 0, 0, 0, 0, 0, 0, 0, 0, 0, 0, 0, 0, 0, 0,...\n",
       "273  M275_20180830_v002  [[0.0, 0.0, 0.0, 0.0, 0.0, 0.0, 0.0, 0.0, 0.0,...\n",
       "274  M278_20180921_v004  [[0, 0, 0, 0, 0, 0, 0, 0, 0, 0, 0, 0, 0, 0, 0,...\n",
       "275  M282_20181203_v073  [[0, 0, 0, 0, 0, 0, 0, 0, 0, 0, 0, 0, 0, 0, 0,...\n",
       "276  M312_20200330_v005  [[0.0, 0.0, 0.0, 0.0, 0.0, 0.0, 0.0, 0.0, 0.0,...\n",
       "\n",
       "[277 rows x 2 columns]"
      ]
     },
     "execution_count": 68,
     "metadata": {},
     "output_type": "execute_result"
    }
   ],
   "source": [
    "df"
   ]
  },
  {
   "cell_type": "code",
   "execution_count": 82,
   "id": "cd339692-d395-4e11-bd99-62e576d0e1f2",
   "metadata": {
    "tags": []
   },
   "outputs": [],
   "source": [
    "new_df = pd.read_hdf('/data/caitlin/new_ground.hdf')"
   ]
  },
  {
   "cell_type": "code",
   "execution_count": 83,
   "id": "bd28e452-ca00-4a9a-9753-081b86c5b492",
   "metadata": {
    "tags": []
   },
   "outputs": [
    {
     "data": {
      "text/html": [
       "<div>\n",
       "<style scoped>\n",
       "    .dataframe tbody tr th:only-of-type {\n",
       "        vertical-align: middle;\n",
       "    }\n",
       "\n",
       "    .dataframe tbody tr th {\n",
       "        vertical-align: top;\n",
       "    }\n",
       "\n",
       "    .dataframe thead th {\n",
       "        text-align: right;\n",
       "    }\n",
       "</style>\n",
       "<table border=\"1\" class=\"dataframe\">\n",
       "  <thead>\n",
       "    <tr style=\"text-align: right;\">\n",
       "      <th></th>\n",
       "      <th>animal_id</th>\n",
       "      <th>session_id</th>\n",
       "      <th>ethogram</th>\n",
       "    </tr>\n",
       "  </thead>\n",
       "  <tbody>\n",
       "    <tr>\n",
       "      <th>0</th>\n",
       "      <td>M232Slc17a7_Gtacr2</td>\n",
       "      <td>20170314</td>\n",
       "      <td>{}</td>\n",
       "    </tr>\n",
       "    <tr>\n",
       "      <th>1</th>\n",
       "      <td>M232Slc17a7_Gtacr2</td>\n",
       "      <td>20170307</td>\n",
       "      <td>{}</td>\n",
       "    </tr>\n",
       "    <tr>\n",
       "      <th>2</th>\n",
       "      <td>M232Slc17a7_Gtacr2</td>\n",
       "      <td>20170306</td>\n",
       "      <td>{}</td>\n",
       "    </tr>\n",
       "    <tr>\n",
       "      <th>3</th>\n",
       "      <td>M232Slc17a7_Gtacr2</td>\n",
       "      <td>20170308</td>\n",
       "      <td>{}</td>\n",
       "    </tr>\n",
       "    <tr>\n",
       "      <th>4</th>\n",
       "      <td>M232Slc17a7_Gtacr2</td>\n",
       "      <td>20170310</td>\n",
       "      <td>{}</td>\n",
       "    </tr>\n",
       "    <tr>\n",
       "      <th>...</th>\n",
       "      <td>...</td>\n",
       "      <td>...</td>\n",
       "      <td>...</td>\n",
       "    </tr>\n",
       "    <tr>\n",
       "      <th>102</th>\n",
       "      <td>M324Slc17a7_Chr2_Bpn_CBPM</td>\n",
       "      <td>20201015</td>\n",
       "      <td>{}</td>\n",
       "    </tr>\n",
       "    <tr>\n",
       "      <th>103</th>\n",
       "      <td>M326Slc17a7_Chr2_Bpn_DCN</td>\n",
       "      <td>20201110</td>\n",
       "      <td>{}</td>\n",
       "    </tr>\n",
       "    <tr>\n",
       "      <th>104</th>\n",
       "      <td>M328Slc17a7_Chr2_Bpn_DCN</td>\n",
       "      <td>20201130</td>\n",
       "      <td>{}</td>\n",
       "    </tr>\n",
       "    <tr>\n",
       "      <th>105</th>\n",
       "      <td>M336DYT1</td>\n",
       "      <td>20210613</td>\n",
       "      <td>{}</td>\n",
       "    </tr>\n",
       "    <tr>\n",
       "      <th>106</th>\n",
       "      <td>M336DYT1</td>\n",
       "      <td>20210612</td>\n",
       "      <td>{}</td>\n",
       "    </tr>\n",
       "  </tbody>\n",
       "</table>\n",
       "<p>107 rows × 3 columns</p>\n",
       "</div>"
      ],
      "text/plain": [
       "                     animal_id session_id ethogram\n",
       "0           M232Slc17a7_Gtacr2   20170314       {}\n",
       "1           M232Slc17a7_Gtacr2   20170307       {}\n",
       "2           M232Slc17a7_Gtacr2   20170306       {}\n",
       "3           M232Slc17a7_Gtacr2   20170308       {}\n",
       "4           M232Slc17a7_Gtacr2   20170310       {}\n",
       "..                         ...        ...      ...\n",
       "102  M324Slc17a7_Chr2_Bpn_CBPM   20201015       {}\n",
       "103   M326Slc17a7_Chr2_Bpn_DCN   20201110       {}\n",
       "104   M328Slc17a7_Chr2_Bpn_DCN   20201130       {}\n",
       "105                   M336DYT1   20210613       {}\n",
       "106                   M336DYT1   20210612       {}\n",
       "\n",
       "[107 rows x 3 columns]"
      ]
     },
     "execution_count": 83,
     "metadata": {},
     "output_type": "execute_result"
    }
   ],
   "source": [
    "new_df"
   ]
  },
  {
   "cell_type": "code",
   "execution_count": 112,
   "id": "3147a0b4-c2cb-48ad-a380-8508ae3a007a",
   "metadata": {
    "tags": []
   },
   "outputs": [],
   "source": [
    "# for v in sorted(Path('/data/caitlin/ground_truth/').glob('M*')):\n",
    "#     for s in Path(v).glob('*'):\n",
    "#         animal_id = s.parts[-2]\n",
    "#         session_id = s.parts[-1]\n",
    "#         vids = [v.stem for v in Path(s).glob('*.avi')]\n",
    "#         for vi in vids:\n",
    "#             print(animal_id, session_id, vi)\n",
    "#             ix = new_df.loc[(new_df[\"animal_id\"] == animal_id) & (new_df[\"session_id\"] == session_id)].index[0]\n",
    "#             ix2 = df[df[\"trial\"]==vi].index[0]\n",
    "#             new_df.loc[:,'ethogram'].loc[ix][vi] = df.loc[:, \"ethogram\"].loc[ix2]"
   ]
  },
  {
   "cell_type": "code",
   "execution_count": null,
   "id": "b779c41d-3e49-434b-aeb9-f583972eec35",
   "metadata": {},
   "outputs": [],
   "source": []
  },
  {
   "cell_type": "code",
   "execution_count": 121,
   "id": "be33e714-2b97-4825-8e26-da8fcf6e8cc1",
   "metadata": {
    "tags": []
   },
   "outputs": [
    {
     "data": {
      "text/html": [
       "<div>\n",
       "<style scoped>\n",
       "    .dataframe tbody tr th:only-of-type {\n",
       "        vertical-align: middle;\n",
       "    }\n",
       "\n",
       "    .dataframe tbody tr th {\n",
       "        vertical-align: top;\n",
       "    }\n",
       "\n",
       "    .dataframe thead th {\n",
       "        text-align: right;\n",
       "    }\n",
       "</style>\n",
       "<table border=\"1\" class=\"dataframe\">\n",
       "  <thead>\n",
       "    <tr style=\"text-align: right;\">\n",
       "      <th></th>\n",
       "      <th>animal_id</th>\n",
       "      <th>session_id</th>\n",
       "      <th>ethograms</th>\n",
       "    </tr>\n",
       "  </thead>\n",
       "  <tbody>\n",
       "    <tr>\n",
       "      <th>0</th>\n",
       "      <td>M232Slc17a7_Gtacr2</td>\n",
       "      <td>20170314</td>\n",
       "      <td>{'M232_20170314_v029': [[0.0, 0.0, 0.0, 0.0, 0...</td>\n",
       "    </tr>\n",
       "    <tr>\n",
       "      <th>1</th>\n",
       "      <td>M232Slc17a7_Gtacr2</td>\n",
       "      <td>20170307</td>\n",
       "      <td>{'M232_20170307_v064': [[0.0, 0.0, 0.0, 0.0, 0...</td>\n",
       "    </tr>\n",
       "    <tr>\n",
       "      <th>2</th>\n",
       "      <td>M232Slc17a7_Gtacr2</td>\n",
       "      <td>20170306</td>\n",
       "      <td>{'M232_20170306_v074': [[0.0, 0.0, 0.0, 0.0, 0...</td>\n",
       "    </tr>\n",
       "    <tr>\n",
       "      <th>3</th>\n",
       "      <td>M232Slc17a7_Gtacr2</td>\n",
       "      <td>20170308</td>\n",
       "      <td>{'M232_20170308_v034': [[0.0, 0.0, 0.0, 0.0, 0...</td>\n",
       "    </tr>\n",
       "    <tr>\n",
       "      <th>4</th>\n",
       "      <td>M232Slc17a7_Gtacr2</td>\n",
       "      <td>20170310</td>\n",
       "      <td>{'M232_20170310_v013': [[0, 0, 0, 0, 0, 0, 0, ...</td>\n",
       "    </tr>\n",
       "    <tr>\n",
       "      <th>...</th>\n",
       "      <td>...</td>\n",
       "      <td>...</td>\n",
       "      <td>...</td>\n",
       "    </tr>\n",
       "    <tr>\n",
       "      <th>102</th>\n",
       "      <td>M324Slc17a7_Chr2_Bpn_CBPM</td>\n",
       "      <td>20201015</td>\n",
       "      <td>{'M324_20201015_v127': [[0, 0, 0, 0, 0, 0, 0, ...</td>\n",
       "    </tr>\n",
       "    <tr>\n",
       "      <th>103</th>\n",
       "      <td>M326Slc17a7_Chr2_Bpn_DCN</td>\n",
       "      <td>20201110</td>\n",
       "      <td>{'M326_20201110_v001': [[0, 0, 0, 0, 0, 0, 0, ...</td>\n",
       "    </tr>\n",
       "    <tr>\n",
       "      <th>104</th>\n",
       "      <td>M328Slc17a7_Chr2_Bpn_DCN</td>\n",
       "      <td>20201130</td>\n",
       "      <td>{'M328_20201130_v001': [[0, 0, 0, 0, 0, 0, 0, ...</td>\n",
       "    </tr>\n",
       "    <tr>\n",
       "      <th>105</th>\n",
       "      <td>M336DYT1</td>\n",
       "      <td>20210613</td>\n",
       "      <td>{'M336_20210613_v001': [[0, 0, 0, 0, 0, 0, 0, ...</td>\n",
       "    </tr>\n",
       "    <tr>\n",
       "      <th>106</th>\n",
       "      <td>M336DYT1</td>\n",
       "      <td>20210612</td>\n",
       "      <td>{'M336_20210612_v002': [[0, 0, 0, 0, 0, 0, 0, ...</td>\n",
       "    </tr>\n",
       "  </tbody>\n",
       "</table>\n",
       "<p>107 rows × 3 columns</p>\n",
       "</div>"
      ],
      "text/plain": [
       "                     animal_id session_id   \n",
       "0           M232Slc17a7_Gtacr2   20170314  \\\n",
       "1           M232Slc17a7_Gtacr2   20170307   \n",
       "2           M232Slc17a7_Gtacr2   20170306   \n",
       "3           M232Slc17a7_Gtacr2   20170308   \n",
       "4           M232Slc17a7_Gtacr2   20170310   \n",
       "..                         ...        ...   \n",
       "102  M324Slc17a7_Chr2_Bpn_CBPM   20201015   \n",
       "103   M326Slc17a7_Chr2_Bpn_DCN   20201110   \n",
       "104   M328Slc17a7_Chr2_Bpn_DCN   20201130   \n",
       "105                   M336DYT1   20210613   \n",
       "106                   M336DYT1   20210612   \n",
       "\n",
       "                                             ethograms  \n",
       "0    {'M232_20170314_v029': [[0.0, 0.0, 0.0, 0.0, 0...  \n",
       "1    {'M232_20170307_v064': [[0.0, 0.0, 0.0, 0.0, 0...  \n",
       "2    {'M232_20170306_v074': [[0.0, 0.0, 0.0, 0.0, 0...  \n",
       "3    {'M232_20170308_v034': [[0.0, 0.0, 0.0, 0.0, 0...  \n",
       "4    {'M232_20170310_v013': [[0, 0, 0, 0, 0, 0, 0, ...  \n",
       "..                                                 ...  \n",
       "102  {'M324_20201015_v127': [[0, 0, 0, 0, 0, 0, 0, ...  \n",
       "103  {'M326_20201110_v001': [[0, 0, 0, 0, 0, 0, 0, ...  \n",
       "104  {'M328_20201130_v001': [[0, 0, 0, 0, 0, 0, 0, ...  \n",
       "105  {'M336_20210613_v001': [[0, 0, 0, 0, 0, 0, 0, ...  \n",
       "106  {'M336_20210612_v002': [[0, 0, 0, 0, 0, 0, 0, ...  \n",
       "\n",
       "[107 rows x 3 columns]"
      ]
     },
     "execution_count": 121,
     "metadata": {},
     "output_type": "execute_result"
    }
   ],
   "source": [
    "pd.read_hdf('/data/caitlin/new_ground.hdf')"
   ]
  },
  {
   "cell_type": "code",
   "execution_count": null,
   "id": "912d13da-a2cb-4629-97d8-9524976a8344",
   "metadata": {},
   "outputs": [],
   "source": []
  }
 ],
 "metadata": {
  "kernelspec": {
   "display_name": "Python 3 (ipykernel)",
   "language": "python",
   "name": "python3"
  },
  "language_info": {
   "codemirror_mode": {
    "name": "ipython",
    "version": 3
   },
   "file_extension": ".py",
   "mimetype": "text/x-python",
   "name": "python",
   "nbconvert_exporter": "python",
   "pygments_lexer": "ipython3",
   "version": "3.11.3"
  }
 },
 "nbformat": 4,
 "nbformat_minor": 5
}
