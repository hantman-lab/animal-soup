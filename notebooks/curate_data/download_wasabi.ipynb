{
 "cells": [
  {
   "cell_type": "code",
   "execution_count": 1,
   "id": "5d5ae229-1fe1-46fb-8d86-89b311ca4b06",
   "metadata": {
    "tags": []
   },
   "outputs": [],
   "source": [
    "import pandas as pd\n",
    "from pathlib import Path\n",
    "import os"
   ]
  },
  {
   "cell_type": "code",
   "execution_count": 2,
   "id": "f0f6eda1-be37-4fa0-9a2a-edb09904939a",
   "metadata": {
    "tags": []
   },
   "outputs": [],
   "source": [
    "df = pd.read_hdf(\"/data/caitlin/full_hand_labels.hdf\")"
   ]
  },
  {
   "cell_type": "code",
   "execution_count": 3,
   "id": "2735f828-cc38-4536-b0d1-762595ee1742",
   "metadata": {
    "tags": []
   },
   "outputs": [
    {
     "data": {
      "text/html": [
       "<div>\n",
       "<style scoped>\n",
       "    .dataframe tbody tr th:only-of-type {\n",
       "        vertical-align: middle;\n",
       "    }\n",
       "\n",
       "    .dataframe tbody tr th {\n",
       "        vertical-align: top;\n",
       "    }\n",
       "\n",
       "    .dataframe thead th {\n",
       "        text-align: right;\n",
       "    }\n",
       "</style>\n",
       "<table border=\"1\" class=\"dataframe\">\n",
       "  <thead>\n",
       "    <tr style=\"text-align: right;\">\n",
       "      <th></th>\n",
       "      <th>mat_path</th>\n",
       "      <th>full_hand_labels</th>\n",
       "    </tr>\n",
       "  </thead>\n",
       "  <tbody>\n",
       "    <tr>\n",
       "      <th>0</th>\n",
       "      <td>M234_20170328</td>\n",
       "      <td>{'M234_20170328_v004': [[0, 0, 0, 0, 0, 0, 0, ...</td>\n",
       "    </tr>\n",
       "    <tr>\n",
       "      <th>1</th>\n",
       "      <td>M234_20170331</td>\n",
       "      <td>{'M234_20170331_v001': [[0, 0, 0, 0, 0, 0, 0, ...</td>\n",
       "    </tr>\n",
       "    <tr>\n",
       "      <th>2</th>\n",
       "      <td>M234_20170403</td>\n",
       "      <td>{'M234_20170403_v001': [[0, 0, 0, 0, 0, 0, 0, ...</td>\n",
       "    </tr>\n",
       "    <tr>\n",
       "      <th>3</th>\n",
       "      <td>M234_20170412</td>\n",
       "      <td>{'M234_20170412_v001': [[0, 0, 0, 0, 0, 0, 0, ...</td>\n",
       "    </tr>\n",
       "    <tr>\n",
       "      <th>4</th>\n",
       "      <td>M234_20170414</td>\n",
       "      <td>{'M234_20170414_v002': [[0, 0, 0, 0, 0, 0, 0, ...</td>\n",
       "    </tr>\n",
       "    <tr>\n",
       "      <th>...</th>\n",
       "      <td>...</td>\n",
       "      <td>...</td>\n",
       "    </tr>\n",
       "    <tr>\n",
       "      <th>85</th>\n",
       "      <td>M326_20201110</td>\n",
       "      <td>{'M326_20201110_v001': [[0, 0, 0, 0, 0, 0, 0, ...</td>\n",
       "    </tr>\n",
       "    <tr>\n",
       "      <th>86</th>\n",
       "      <td>M328_20201130_2500</td>\n",
       "      <td>{'M328_20201130_v001': [[0, 0, 0, 0, 0, 0, 0, ...</td>\n",
       "    </tr>\n",
       "    <tr>\n",
       "      <th>87</th>\n",
       "      <td>M336_20210612</td>\n",
       "      <td>{'M336_20210612_v001': [[0, 0, 0, 0, 0, 0, 0, ...</td>\n",
       "    </tr>\n",
       "    <tr>\n",
       "      <th>88</th>\n",
       "      <td>M336_20210613</td>\n",
       "      <td>{'M336_20210613_v001': [[0, 0, 0, 0, 0, 0, 0, ...</td>\n",
       "    </tr>\n",
       "    <tr>\n",
       "      <th>89</th>\n",
       "      <td>M236_20170817</td>\n",
       "      <td>{'M236_20170817_v003': [[0, 0, 0, 0, 0, 0, 0, ...</td>\n",
       "    </tr>\n",
       "  </tbody>\n",
       "</table>\n",
       "<p>90 rows × 2 columns</p>\n",
       "</div>"
      ],
      "text/plain": [
       "              mat_path                                   full_hand_labels\n",
       "0        M234_20170328  {'M234_20170328_v004': [[0, 0, 0, 0, 0, 0, 0, ...\n",
       "1        M234_20170331  {'M234_20170331_v001': [[0, 0, 0, 0, 0, 0, 0, ...\n",
       "2        M234_20170403  {'M234_20170403_v001': [[0, 0, 0, 0, 0, 0, 0, ...\n",
       "3        M234_20170412  {'M234_20170412_v001': [[0, 0, 0, 0, 0, 0, 0, ...\n",
       "4        M234_20170414  {'M234_20170414_v002': [[0, 0, 0, 0, 0, 0, 0, ...\n",
       "..                 ...                                                ...\n",
       "85       M326_20201110  {'M326_20201110_v001': [[0, 0, 0, 0, 0, 0, 0, ...\n",
       "86  M328_20201130_2500  {'M328_20201130_v001': [[0, 0, 0, 0, 0, 0, 0, ...\n",
       "87       M336_20210612  {'M336_20210612_v001': [[0, 0, 0, 0, 0, 0, 0, ...\n",
       "88       M336_20210613  {'M336_20210613_v001': [[0, 0, 0, 0, 0, 0, 0, ...\n",
       "89       M236_20170817  {'M236_20170817_v003': [[0, 0, 0, 0, 0, 0, 0, ...\n",
       "\n",
       "[90 rows x 2 columns]"
      ]
     },
     "execution_count": 3,
     "metadata": {},
     "output_type": "execute_result"
    }
   ],
   "source": [
    "df"
   ]
  },
  {
   "cell_type": "code",
   "execution_count": 16,
   "id": "19e0708c-5086-4b0d-ba84-705d56c3907c",
   "metadata": {
    "tags": []
   },
   "outputs": [],
   "source": [
    "not_downloaded = list()\n",
    "data_dir = Path(\"/data/caitlin/training-vids/\")\n",
    "dirs = os.listdir(data_dir)\n",
    "short_dirs = [d[:4] for d in dirs]\n",
    "for row in df.iterrows():\n",
    "    animal_short = row[1][\"mat_path\"].split(\"_\")[0]\n",
    "    if animal_short in short_dirs:\n",
    "        if not os.path.isdir(data_dir.joinpath(dirs[short_dirs.index(animal_short)], row[1][\"mat_path\"].split(\"_\")[-1])):\n",
    "            not_downloaded.append(row[1][\"mat_path\"])\n",
    "    else:\n",
    "        not_downloaded.append(row[1][\"mat_path\"])"
   ]
  },
  {
   "cell_type": "code",
   "execution_count": 17,
   "id": "9772ec9c-da5e-43e3-9519-ab2e82afc7b4",
   "metadata": {
    "tags": []
   },
   "outputs": [
    {
     "data": {
      "text/plain": [
       "['M240_20170920_2ndCxRecording_old',\n",
       " 'M241_20171009_5thCx',\n",
       " 'M254_20180228_3rdCxRecording',\n",
       " 'M254_20180301_4thCxRecording',\n",
       " 'M254_20180319_16thCxRecording',\n",
       " 'M254_20180320_17thCxRecording',\n",
       " 'M254_20180321_18thCxRecording',\n",
       " 'M254_20180322_19thCxRecording',\n",
       " 'M254_20180323_20thCxRecording',\n",
       " 'M254_20180326_21thCxRecording',\n",
       " 'M259_20180411_7thCxRecording',\n",
       " 'M259_20180412_8thCxRecording',\n",
       " 'M259_20180417_11thCxRecording',\n",
       " 'M263_20180508',\n",
       " 'M266_20180521_1stCxRecording',\n",
       " 'M275_20180827_1stCxRecording',\n",
       " 'M279_20181214',\n",
       " 'M280_20181126',\n",
       " 'M281_20181203',\n",
       " 'M295_20190909',\n",
       " 'M295_20190910',\n",
       " 'M295_20190911',\n",
       " 'M296_20190924',\n",
       " 'M296_20190924_500framesCue',\n",
       " 'M296_20190925',\n",
       " 'M296_20190925_500framesCue',\n",
       " 'M296_20190925_ORIG',\n",
       " 'M302_20191209',\n",
       " 'M302_20191209toneFrame0',\n",
       " 'M302_20191225',\n",
       " 'M303_20191127',\n",
       " 'M303_20191211',\n",
       " 'M303_20191211toneFrame0',\n",
       " 'M304_20191127',\n",
       " 'M304_20191216toneFrame0',\n",
       " 'M304_20191216toneFrame0new',\n",
       " 'M304_20191216toneFrame250',\n",
       " 'M304_20191216toneFrame250new',\n",
       " 'M311_20200323',\n",
       " 'M312_20200325',\n",
       " 'M312_20200402',\n",
       " 'M312_20200405',\n",
       " 'M312_20200412',\n",
       " 'M315_20200401',\n",
       " 'M315_20200404',\n",
       " 'M317_20200528_1000um',\n",
       " 'M318_20200705_1000um',\n",
       " 'M322_20200902_1000um',\n",
       " 'M323_20209014_900um',\n",
       " 'M324_20201015',\n",
       " 'M328_20201130_2500',\n",
       " 'M336_20210612',\n",
       " 'M336_20210613',\n",
       " 'M236_20170817']"
      ]
     },
     "execution_count": 17,
     "metadata": {},
     "output_type": "execute_result"
    }
   ],
   "source": [
    "not_downloaded"
   ]
  },
  {
   "cell_type": "code",
   "execution_count": 28,
   "id": "a085ad5d-1e10-4499-ac89-ee0cb93cb984",
   "metadata": {},
   "outputs": [],
   "source": [
    "row = df[df['mat_path'] == 'M240_20170920_2ndCxRecording_old']"
   ]
  },
  {
   "cell_type": "code",
   "execution_count": 29,
   "id": "5f20ae5c-aa97-4774-8baa-008e435aab1b",
   "metadata": {
    "tags": []
   },
   "outputs": [
    {
     "data": {
      "text/plain": [
       "dict_keys(['M240_20170920_v091'])"
      ]
     },
     "execution_count": 29,
     "metadata": {},
     "output_type": "execute_result"
    }
   ],
   "source": [
    "row[\"full_hand_labels\"].item().keys()"
   ]
  },
  {
   "cell_type": "code",
   "execution_count": null,
   "id": "e463e405-542b-4b7f-be81-57c989baf868",
   "metadata": {},
   "outputs": [],
   "source": []
  }
 ],
 "metadata": {
  "kernelspec": {
   "display_name": "Python 3 (ipykernel)",
   "language": "python",
   "name": "python3"
  },
  "language_info": {
   "codemirror_mode": {
    "name": "ipython",
    "version": 3
   },
   "file_extension": ".py",
   "mimetype": "text/x-python",
   "name": "python",
   "nbconvert_exporter": "python",
   "pygments_lexer": "ipython3",
   "version": "3.11.3"
  }
 },
 "nbformat": 4,
 "nbformat_minor": 5
}
