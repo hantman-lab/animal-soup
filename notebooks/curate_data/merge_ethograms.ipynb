{
 "cells": [
  {
   "cell_type": "markdown",
   "id": "280fef42-4000-451a-9d02-b0d5106d17e3",
   "metadata": {},
   "source": [
    "### Merge ethograms between Jay's handlabels and jaaba preds"
   ]
  },
  {
   "cell_type": "code",
   "execution_count": 13,
   "id": "70b6a4b3-77e0-492d-a26a-941ade88e0d4",
   "metadata": {
    "tags": []
   },
   "outputs": [],
   "source": [
    "import pandas as pd\n",
    "from pathlib import Path\n",
    "from scipy.io import loadmat\n",
    "import numpy as np\n",
    "from tqdm import tqdm\n",
    "from typing import *\n",
    "import shutil"
   ]
  },
  {
   "cell_type": "code",
   "execution_count": 2,
   "id": "4d4fa0b1-803d-40cf-8081-376b0c7d9902",
   "metadata": {
    "tags": []
   },
   "outputs": [],
   "source": [
    "df = pd.read_hdf('/data/caitlin/exactly1_hand_labels.hdf')"
   ]
  },
  {
   "cell_type": "code",
   "execution_count": 3,
   "id": "cd1eae17-5c1b-4548-80fc-11592c900e26",
   "metadata": {
    "tags": []
   },
   "outputs": [
    {
     "data": {
      "text/html": [
       "<div>\n",
       "<style scoped>\n",
       "    .dataframe tbody tr th:only-of-type {\n",
       "        vertical-align: middle;\n",
       "    }\n",
       "\n",
       "    .dataframe tbody tr th {\n",
       "        vertical-align: top;\n",
       "    }\n",
       "\n",
       "    .dataframe thead th {\n",
       "        text-align: right;\n",
       "    }\n",
       "</style>\n",
       "<table border=\"1\" class=\"dataframe\">\n",
       "  <thead>\n",
       "    <tr style=\"text-align: right;\">\n",
       "      <th></th>\n",
       "      <th>mat_path</th>\n",
       "      <th>hand_labels</th>\n",
       "      <th>jaaba_labels</th>\n",
       "      <th>merged_ethogram</th>\n",
       "    </tr>\n",
       "  </thead>\n",
       "  <tbody>\n",
       "    <tr>\n",
       "      <th>0</th>\n",
       "      <td>M232_20170306</td>\n",
       "      <td>{'M232_20170306_v024': [[0, 0, 0, 0, 0, 0, 0, ...</td>\n",
       "      <td>{'M232_20170306_v024': [[0, 0, 0, 0, 0, 0, 0, ...</td>\n",
       "      <td>{'M232_20170306_v024': [[0, 0, 0, 0, 0, 0, 0, ...</td>\n",
       "    </tr>\n",
       "    <tr>\n",
       "      <th>1</th>\n",
       "      <td>M232_20170307</td>\n",
       "      <td>{'M232_20170307_v064': [[0, 0, 0, 0, 0, 0, 0, ...</td>\n",
       "      <td>{'M232_20170307_v064': [[0, 0, 0, 0, 0, 0, 0, ...</td>\n",
       "      <td>{'M232_20170307_v064': [[0, 0, 0, 0, 0, 0, 0, ...</td>\n",
       "    </tr>\n",
       "    <tr>\n",
       "      <th>2</th>\n",
       "      <td>M232_20170308</td>\n",
       "      <td>{'M232_20170308_v028': [[0, 0, 0, 0, 0, 0, 0, ...</td>\n",
       "      <td>{'M232_20170308_v028': [[0, 0, 0, 0, 0, 0, 0, ...</td>\n",
       "      <td>{'M232_20170308_v028': [[0, 0, 0, 0, 0, 0, 0, ...</td>\n",
       "    </tr>\n",
       "    <tr>\n",
       "      <th>3</th>\n",
       "      <td>M232_20170314</td>\n",
       "      <td>{'M232_20170314_v029': [[0, 0, 0, 0, 0, 0, 0, ...</td>\n",
       "      <td>{'M232_20170314_v029': [[0, 0, 0, 0, 0, 0, 0, ...</td>\n",
       "      <td>{'M232_20170314_v029': [[0, 0, 0, 0, 0, 0, 0, ...</td>\n",
       "    </tr>\n",
       "    <tr>\n",
       "      <th>4</th>\n",
       "      <td>M234_20170328</td>\n",
       "      <td>{'M234_20170328_v002': [[0, 0, 0, 0, 0, 0, 0, ...</td>\n",
       "      <td>{'M234_20170328_v002': [[0, 0, 0, 0, 0, 0, 0, ...</td>\n",
       "      <td>{'M234_20170328_v015': [[0, 0, 0, 0, 0, 0, 0, ...</td>\n",
       "    </tr>\n",
       "    <tr>\n",
       "      <th>...</th>\n",
       "      <td>...</td>\n",
       "      <td>...</td>\n",
       "      <td>...</td>\n",
       "      <td>...</td>\n",
       "    </tr>\n",
       "    <tr>\n",
       "      <th>445</th>\n",
       "      <td>M240_20170724FinalChecked</td>\n",
       "      <td>{'M240_20170724_v014': [[0, 0, 0, 0, 0, 0, 0, ...</td>\n",
       "      <td>{'M240_20170724_v014': [[0, 0, 0, 0, 0, 0, 0, ...</td>\n",
       "      <td>{'M240_20170724_v014': [[0, 0, 0, 0, 0, 0, 0, ...</td>\n",
       "    </tr>\n",
       "    <tr>\n",
       "      <th>446</th>\n",
       "      <td>M240_20170725FinalChecked</td>\n",
       "      <td>{'M240_20170725_v031': [[0, 0, 0, 0, 0, 0, 0, ...</td>\n",
       "      <td>{'M240_20170725_v031': [[0, 0, 0, 0, 0, 0, 0, ...</td>\n",
       "      <td>{'M240_20170725_v031': [[0, 0, 0, 0, 0, 0, 0, ...</td>\n",
       "    </tr>\n",
       "    <tr>\n",
       "      <th>447</th>\n",
       "      <td>M240_20170727FinalChecked</td>\n",
       "      <td>{'M240_20170727_v007': [[0, 0, 0, 0, 0, 0, 0, ...</td>\n",
       "      <td>{'M240_20170727_v007': [[0, 0, 0, 0, 0, 0, 0, ...</td>\n",
       "      <td>{}</td>\n",
       "    </tr>\n",
       "    <tr>\n",
       "      <th>448</th>\n",
       "      <td>M240_20170802FinalChecked</td>\n",
       "      <td>{'M240_20170802_v017': [[0, 0, 0, 0, 0, 0, 0, ...</td>\n",
       "      <td>{'M240_20170802_v017': [[0, 0, 0, 0, 0, 0, 0, ...</td>\n",
       "      <td>{}</td>\n",
       "    </tr>\n",
       "    <tr>\n",
       "      <th>449</th>\n",
       "      <td>M240_20170807FinalChecked</td>\n",
       "      <td>{'M240_20170807_v077': [[0, 0, 0, 0, 0, 0, 0, ...</td>\n",
       "      <td>{'M240_20170807_v077': [[0, 0, 0, 0, 0, 0, 0, ...</td>\n",
       "      <td>{'M240_20170807_v077': [[0, 0, 0, 0, 0, 0, 0, ...</td>\n",
       "    </tr>\n",
       "  </tbody>\n",
       "</table>\n",
       "<p>450 rows × 4 columns</p>\n",
       "</div>"
      ],
      "text/plain": [
       "                      mat_path   \n",
       "0                M232_20170306  \\\n",
       "1                M232_20170307   \n",
       "2                M232_20170308   \n",
       "3                M232_20170314   \n",
       "4                M234_20170328   \n",
       "..                         ...   \n",
       "445  M240_20170724FinalChecked   \n",
       "446  M240_20170725FinalChecked   \n",
       "447  M240_20170727FinalChecked   \n",
       "448  M240_20170802FinalChecked   \n",
       "449  M240_20170807FinalChecked   \n",
       "\n",
       "                                           hand_labels   \n",
       "0    {'M232_20170306_v024': [[0, 0, 0, 0, 0, 0, 0, ...  \\\n",
       "1    {'M232_20170307_v064': [[0, 0, 0, 0, 0, 0, 0, ...   \n",
       "2    {'M232_20170308_v028': [[0, 0, 0, 0, 0, 0, 0, ...   \n",
       "3    {'M232_20170314_v029': [[0, 0, 0, 0, 0, 0, 0, ...   \n",
       "4    {'M234_20170328_v002': [[0, 0, 0, 0, 0, 0, 0, ...   \n",
       "..                                                 ...   \n",
       "445  {'M240_20170724_v014': [[0, 0, 0, 0, 0, 0, 0, ...   \n",
       "446  {'M240_20170725_v031': [[0, 0, 0, 0, 0, 0, 0, ...   \n",
       "447  {'M240_20170727_v007': [[0, 0, 0, 0, 0, 0, 0, ...   \n",
       "448  {'M240_20170802_v017': [[0, 0, 0, 0, 0, 0, 0, ...   \n",
       "449  {'M240_20170807_v077': [[0, 0, 0, 0, 0, 0, 0, ...   \n",
       "\n",
       "                                          jaaba_labels   \n",
       "0    {'M232_20170306_v024': [[0, 0, 0, 0, 0, 0, 0, ...  \\\n",
       "1    {'M232_20170307_v064': [[0, 0, 0, 0, 0, 0, 0, ...   \n",
       "2    {'M232_20170308_v028': [[0, 0, 0, 0, 0, 0, 0, ...   \n",
       "3    {'M232_20170314_v029': [[0, 0, 0, 0, 0, 0, 0, ...   \n",
       "4    {'M234_20170328_v002': [[0, 0, 0, 0, 0, 0, 0, ...   \n",
       "..                                                 ...   \n",
       "445  {'M240_20170724_v014': [[0, 0, 0, 0, 0, 0, 0, ...   \n",
       "446  {'M240_20170725_v031': [[0, 0, 0, 0, 0, 0, 0, ...   \n",
       "447  {'M240_20170727_v007': [[0, 0, 0, 0, 0, 0, 0, ...   \n",
       "448  {'M240_20170802_v017': [[0, 0, 0, 0, 0, 0, 0, ...   \n",
       "449  {'M240_20170807_v077': [[0, 0, 0, 0, 0, 0, 0, ...   \n",
       "\n",
       "                                       merged_ethogram  \n",
       "0    {'M232_20170306_v024': [[0, 0, 0, 0, 0, 0, 0, ...  \n",
       "1    {'M232_20170307_v064': [[0, 0, 0, 0, 0, 0, 0, ...  \n",
       "2    {'M232_20170308_v028': [[0, 0, 0, 0, 0, 0, 0, ...  \n",
       "3    {'M232_20170314_v029': [[0, 0, 0, 0, 0, 0, 0, ...  \n",
       "4    {'M234_20170328_v015': [[0, 0, 0, 0, 0, 0, 0, ...  \n",
       "..                                                 ...  \n",
       "445  {'M240_20170724_v014': [[0, 0, 0, 0, 0, 0, 0, ...  \n",
       "446  {'M240_20170725_v031': [[0, 0, 0, 0, 0, 0, 0, ...  \n",
       "447                                                 {}  \n",
       "448                                                 {}  \n",
       "449  {'M240_20170807_v077': [[0, 0, 0, 0, 0, 0, 0, ...  \n",
       "\n",
       "[450 rows x 4 columns]"
      ]
     },
     "execution_count": 3,
     "metadata": {},
     "output_type": "execute_result"
    }
   ],
   "source": [
    "df"
   ]
  },
  {
   "cell_type": "markdown",
   "id": "a965baba-d6e7-4d24-97e1-10609318a45a",
   "metadata": {
    "tags": []
   },
   "source": [
    "### Get jaaba ethogram from mat file"
   ]
  },
  {
   "cell_type": "code",
   "execution_count": 6,
   "id": "b14c4ae7-b46c-45b3-a907-0235d17753fe",
   "metadata": {
    "tags": []
   },
   "outputs": [],
   "source": [
    "#mat_loc = Path('/data/caitlin/mat_files/')"
   ]
  },
  {
   "cell_type": "code",
   "execution_count": 7,
   "id": "64c6dfbd-1b33-4104-9cae-d9fa05a4a1fb",
   "metadata": {
    "tags": []
   },
   "outputs": [],
   "source": [
    "# errors2 = list()\n",
    "# def get_ethogram2(trial_index: int, mat_path):\n",
    "#         \"\"\"\n",
    "#         Returns the ethogram for a given trial in a session.\n",
    "#         \"\"\"\n",
    "#         m = loadmat(mat_path)\n",
    "#         try:\n",
    "#             behaviors = sorted([b.split('_')[0] for b in m['data1'].dtype.names if 'scores' in b])\n",
    "#         except KeyError:\n",
    "#             errors2.append(mat_path)\n",
    "#             return\n",
    "\n",
    "#         all_behaviors = [\n",
    "#             \"Lift\",\n",
    "#             \"Handopen\",\n",
    "#             \"Grab\",\n",
    "#             \"Sup\",\n",
    "#             \"Atmouth\",\n",
    "#             \"Chew\"\n",
    "#         ]\n",
    "\n",
    "#         sorted_behaviors = [b for b in all_behaviors if b in behaviors]\n",
    "\n",
    "#         ethograms = []\n",
    "\n",
    "#         mat_trial_index = np.argwhere(m[\"data1\"][\"trial\"].ravel() == (trial_index + 1))\n",
    "#         # Trial not found in JAABA data\n",
    "#         if mat_trial_index.size == 0:\n",
    "#             return False\n",
    "\n",
    "#         try:\n",
    "#             mat_trial_index = mat_trial_index.item()\n",
    "#         except ValueError:\n",
    "#             return\n",
    "\n",
    "      \n",
    "#         for b in sorted_behaviors:\n",
    "#             behavior_index = m['data1'].dtype.names.index(f'{b}_postprocessed')\n",
    "#             row = m['data1'][mat_trial_index][0][behavior_index]\n",
    "#             row[row == -1] = 0\n",
    "#             ethograms.append(row)\n",
    "\n",
    "#         sorted_behaviors = [b.lower() for b in sorted_behaviors]\n",
    "\n",
    "#         return np.hstack(ethograms).T"
   ]
  },
  {
   "cell_type": "code",
   "execution_count": 8,
   "id": "7021db4f-8f81-4665-9e0e-c7236526baf8",
   "metadata": {
    "tags": []
   },
   "outputs": [],
   "source": [
    "# for row in tqdm(df.iterrows()):\n",
    "#     for key in tqdm(row[1][\"hand_labels\"].keys()):\n",
    "#         row[1][\"jaaba_labels\"][key] = get_ethogram(trial_index=int(key.split('_v')[-1]), \n",
    "#                                                    mat_path=mat_loc.joinpath(row[1][\"mat_path\"]).with_suffix('.mat'))"
   ]
  },
  {
   "cell_type": "code",
   "execution_count": 9,
   "id": "328521da-6535-4cde-a814-fe3a63ff1f0b",
   "metadata": {
    "tags": []
   },
   "outputs": [],
   "source": [
    "# errors"
   ]
  },
  {
   "cell_type": "code",
   "execution_count": 10,
   "id": "abff88a3-8135-49d8-a856-1ebfd99c66ca",
   "metadata": {
    "tags": []
   },
   "outputs": [],
   "source": [
    "# for mat in tqdm(errors):\n",
    "#     for key in tqdm(df[df['mat_path'] == mat.stem]['jaaba_labels'].item().keys()):\n",
    "#         df[df['mat_path'] == mat.stem]['jaaba_labels'].item()[key] = get_ethogram2(trial_index=int(key.split('_v')[-1]),\n",
    "#                                                                                    mat_path=mat)"
   ]
  },
  {
   "cell_type": "markdown",
   "id": "7d691e8c-c66c-4c48-a410-1da34e5bfce6",
   "metadata": {},
   "source": [
    "### want to merge ethograms so that single hand-labeled behavior replaces jabba pred for that behavior"
   ]
  },
  {
   "cell_type": "code",
   "execution_count": 11,
   "id": "beef7a60-7fa8-4912-bfd4-4357a53bd14c",
   "metadata": {
    "tags": []
   },
   "outputs": [],
   "source": [
    "# df[\"merged_ethogram\"] = [dict() for i in range(len(df.index))]"
   ]
  },
  {
   "cell_type": "code",
   "execution_count": 30,
   "id": "3ffbc66c-e7ca-4b63-81ad-cbb6fd2c720a",
   "metadata": {
    "tags": []
   },
   "outputs": [],
   "source": [
    "# errors = list()\n",
    "# for row in tqdm(df.iterrows()):\n",
    "#     for key in tqdm(row[1][\"hand_labels\"].keys()):\n",
    "#         if isinstance(row[1][\"jaaba_labels\"][key], Union[bool, None]):\n",
    "#             errors.append((row[1][\"mat_path\"], key))\n",
    "#             continue\n",
    "#         if row[1][\"hand_labels\"][key].shape != row[1][\"jaaba_labels\"][key].shape:\n",
    "#             errors.append((row[1][\"mat_path\"], key))\n",
    "#             continue\n",
    "#         merged_ethogram = row[1][\"jaaba_labels\"][key]\n",
    "#         for i, h_row in enumerate(row[1][\"hand_labels\"][key]):\n",
    "#             if h_row.any():\n",
    "#                 merged_ethogram[i] = h_row\n",
    "#             else:\n",
    "#                 continue\n",
    "#         row[1][\"merged_ethogram\"][key] = merged_ethogram"
   ]
  },
  {
   "cell_type": "code",
   "execution_count": 4,
   "id": "5fe34e25-07fb-49af-af6d-a428e720bf66",
   "metadata": {
    "tags": []
   },
   "outputs": [
    {
     "data": {
      "text/plain": [
       "2208"
      ]
     },
     "execution_count": 4,
     "metadata": {},
     "output_type": "execute_result"
    }
   ],
   "source": [
    "corrected_trials = list()\n",
    "count = 0\n",
    "for row in df.iterrows():\n",
    "    for key in row[1][\"merged_ethogram\"].keys():\n",
    "        if row[1][\"merged_ethogram\"][key].any():\n",
    "            count += 1\n",
    "            corrected_trials.append(key)\n",
    "count"
   ]
  },
  {
   "cell_type": "code",
   "execution_count": 5,
   "id": "e54341b6-877f-47ed-abcd-a7cdc7e171c8",
   "metadata": {
    "tags": []
   },
   "outputs": [
    {
     "data": {
      "text/plain": [
       "['M232_20170306_v024',\n",
       " 'M232_20170306_v059',\n",
       " 'M232_20170306_v074',\n",
       " 'M232_20170306_v075',\n",
       " 'M232_20170306_v076']"
      ]
     },
     "execution_count": 5,
     "metadata": {},
     "output_type": "execute_result"
    }
   ],
   "source": [
    "corrected_trials[0:5]"
   ]
  },
  {
   "cell_type": "markdown",
   "id": "96710370-2ddd-4772-9e62-4635770bd22b",
   "metadata": {},
   "source": [
    "### want to download videos for trials that have been correct to `/data/caitlin/potential_ground_truth/` for review"
   ]
  },
  {
   "cell_type": "code",
   "execution_count": 6,
   "id": "177befdb-cd60-45f1-8b50-a48108cd0827",
   "metadata": {
    "tags": []
   },
   "outputs": [],
   "source": [
    "mat_files = Path('/data/caitlin/mat_files/')"
   ]
  },
  {
   "cell_type": "code",
   "execution_count": 7,
   "id": "12f30da1-7204-4833-bf2c-2524e02d3dba",
   "metadata": {},
   "outputs": [
    {
     "name": "stderr",
     "output_type": "stream",
     "text": [
      "450it [00:58,  7.67it/s]\n"
     ]
    }
   ],
   "source": [
    "vid_paths = list()\n",
    "for row in tqdm(df.iterrows()):\n",
    "    m = loadmat(mat_files.joinpath(row[1]['mat_path']).with_suffix('.mat'))\n",
    "    keys = row[1][\"merged_ethogram\"].keys()\n",
    "    for k in keys:\n",
    "        index = int(k.split('_v')[-1]) - 1\n",
    "        try:\n",
    "            vid_paths.append((Path(*Path(m['data']['id'][index][0][0]).parts[:-1])))\n",
    "        except (KeyError, IndexError):\n",
    "            try: \n",
    "                vid_paths.append((Path(*Path(m['data1']['id'][index][0][0]).parts[:-1])))\n",
    "            except (KeyError, IndexError):\n",
    "                vid_paths.append(None)\n",
    "                continue"
   ]
  },
  {
   "cell_type": "code",
   "execution_count": 8,
   "id": "973a639c-404f-4d01-85f1-c028bd0f194c",
   "metadata": {
    "tags": []
   },
   "outputs": [
    {
     "data": {
      "text/plain": [
       "2208"
      ]
     },
     "execution_count": 8,
     "metadata": {},
     "output_type": "execute_result"
    }
   ],
   "source": [
    "len(corrected_trials)"
   ]
  },
  {
   "cell_type": "code",
   "execution_count": 9,
   "id": "bf1563da-eef1-449c-aada-e840ab5f37e5",
   "metadata": {
    "tags": []
   },
   "outputs": [
    {
     "data": {
      "text/plain": [
       "2208"
      ]
     },
     "execution_count": 9,
     "metadata": {},
     "output_type": "execute_result"
    }
   ],
   "source": [
    "len(vid_paths)"
   ]
  },
  {
   "cell_type": "code",
   "execution_count": 20,
   "id": "5ee9480e-7b14-4808-8538-6f2de3019ca9",
   "metadata": {
    "tags": []
   },
   "outputs": [],
   "source": [
    "final_paths = list()\n",
    "home_path = '/home/clewis7/wasabi/hantmanlab/from_tier2'\n",
    "for (vp, trial) in zip(vid_paths, corrected_trials):\n",
    "    if vp == None:\n",
    "        final_paths.append(None)\n",
    "        continue\n",
    "    full_path = home_path + str(vp)\n",
    "    final_paths.append(Path(full_path).joinpath(trial, trial).with_name('movie_comb').with_suffix('.avi'))"
   ]
  },
  {
   "cell_type": "code",
   "execution_count": 21,
   "id": "defde0e3-109f-4299-83a0-62e4caefce26",
   "metadata": {
    "tags": []
   },
   "outputs": [
    {
     "data": {
      "text/plain": [
       "2208"
      ]
     },
     "execution_count": 21,
     "metadata": {},
     "output_type": "execute_result"
    }
   ],
   "source": [
    "len(final_paths)"
   ]
  },
  {
   "cell_type": "code",
   "execution_count": 28,
   "id": "d7d74da3-cb8e-400f-a09c-c6fc153069c8",
   "metadata": {
    "tags": []
   },
   "outputs": [],
   "source": [
    "ground = Path('/data/caitlin/potential_ground_truth/')"
   ]
  },
  {
   "cell_type": "code",
   "execution_count": null,
   "id": "07ed3821-85c2-4f0b-996f-78f78eefd24e",
   "metadata": {
    "tags": []
   },
   "outputs": [
    {
     "name": "stderr",
     "output_type": "stream",
     "text": [
      "705it [11:48,  1.17it/s]"
     ]
    }
   ],
   "source": [
    "for vp, trial in tqdm(zip(final_paths, corrected_trials)):\n",
    "    try:\n",
    "        shutil.copy(src=vp, dst=ground.joinpath(f\"{trial}.avi\"))\n",
    "    except FileNotFoundError:\n",
    "        print(vp) "
   ]
  },
  {
   "cell_type": "code",
   "execution_count": null,
   "id": "d0df7815-8dfc-47da-8b68-5bfa70743d37",
   "metadata": {},
   "outputs": [],
   "source": []
  }
 ],
 "metadata": {
  "kernelspec": {
   "display_name": "Python 3 (ipykernel)",
   "language": "python",
   "name": "python3"
  },
  "language_info": {
   "codemirror_mode": {
    "name": "ipython",
    "version": 3
   },
   "file_extension": ".py",
   "mimetype": "text/x-python",
   "name": "python",
   "nbconvert_exporter": "python",
   "pygments_lexer": "ipython3",
   "version": "3.11.3"
  }
 },
 "nbformat": 4,
 "nbformat_minor": 5
}
