{
 "cells": [
  {
   "cell_type": "markdown",
   "id": "fa8db1b9-ed4b-4f7e-96d5-7672f543fa11",
   "metadata": {},
   "source": [
    "### Notebook to clean up ethograms to be added to ground truth"
   ]
  },
  {
   "cell_type": "code",
   "execution_count": 1,
   "id": "aa244c8f-5571-4966-80bf-9eaa5cf56f7a",
   "metadata": {
    "tags": []
   },
   "outputs": [
    {
     "name": "stderr",
     "output_type": "stream",
     "text": [
      "2023-06-15 10:42:42.859827: I tensorflow/core/platform/cpu_feature_guard.cc:182] This TensorFlow binary is optimized to use available CPU instructions in performance-critical operations.\n",
      "To enable the following instructions: AVX2 FMA, in other operations, rebuild TensorFlow with the appropriate compiler flags.\n",
      "2023-06-15 10:42:43.306836: W tensorflow/compiler/tf2tensorrt/utils/py_utils.cc:38] TF-TRT Warning: Could not find TensorRT\n"
     ]
    }
   ],
   "source": [
    "import pandas as pd\n",
    "from ipywidgets import HBox, VBox, Select, Button, Layout, RadioButtons\n",
    "from fastplotlib import ImageWidget, Plot\n",
    "from mesmerize_core.arrays import LazyVideo\n",
    "from pathlib import Path\n",
    "import numpy as np\n",
    "from fastplotlib.graphics.selectors import LinearRegionSelector, LinearSelector"
   ]
  },
  {
   "cell_type": "code",
   "execution_count": 2,
   "id": "ab298dab-7845-44e9-883e-37a1b0a8fcfa",
   "metadata": {
    "tags": []
   },
   "outputs": [],
   "source": [
    "ETHOGRAM_COLORS = {\n",
    "    \"lift\": \"b\",\n",
    "    \"handopen\": \"green\",\n",
    "    \"grab\": \"r\",\n",
    "    \"sup\": \"cyan\",\n",
    "    \"atmouth\": \"magenta\",\n",
    "    \"chew\": \"yellow\"\n",
    "}"
   ]
  },
  {
   "cell_type": "markdown",
   "id": "2219b9ad-f2cf-453c-8861-d52f1000ebbe",
   "metadata": {},
   "source": [
    "### dataframe to store cleaned ethograms"
   ]
  },
  {
   "cell_type": "code",
   "execution_count": 3,
   "id": "5e3630e2-5b1c-4f7c-b5d2-e054f0305cb8",
   "metadata": {
    "tags": []
   },
   "outputs": [
    {
     "data": {
      "text/html": [
       "<div>\n",
       "<style scoped>\n",
       "    .dataframe tbody tr th:only-of-type {\n",
       "        vertical-align: middle;\n",
       "    }\n",
       "\n",
       "    .dataframe tbody tr th {\n",
       "        vertical-align: top;\n",
       "    }\n",
       "\n",
       "    .dataframe thead th {\n",
       "        text-align: right;\n",
       "    }\n",
       "</style>\n",
       "<table border=\"1\" class=\"dataframe\">\n",
       "  <thead>\n",
       "    <tr style=\"text-align: right;\">\n",
       "      <th></th>\n",
       "      <th>trial</th>\n",
       "      <th>final_ethogram</th>\n",
       "    </tr>\n",
       "  </thead>\n",
       "  <tbody>\n",
       "    <tr>\n",
       "      <th>0</th>\n",
       "      <td>M232_20170306_v074</td>\n",
       "      <td>[[0.0, 0.0, 0.0, 0.0, 0.0, 0.0, 0.0, 0.0, 0.0,...</td>\n",
       "    </tr>\n",
       "    <tr>\n",
       "      <th>1</th>\n",
       "      <td>M232_20170306_v024</td>\n",
       "      <td>[[0.0, 0.0, 0.0, 0.0, 0.0, 0.0, 0.0, 0.0, 0.0,...</td>\n",
       "    </tr>\n",
       "    <tr>\n",
       "      <th>2</th>\n",
       "      <td>M232_20170306_v025</td>\n",
       "      <td>[[0.0, 0.0, 0.0, 0.0, 0.0, 0.0, 0.0, 0.0, 0.0,...</td>\n",
       "    </tr>\n",
       "    <tr>\n",
       "      <th>3</th>\n",
       "      <td>M232_20170306_v059</td>\n",
       "      <td>[[0.0, 0.0, 0.0, 0.0, 0.0, 0.0, 0.0, 0.0, 0.0,...</td>\n",
       "    </tr>\n",
       "    <tr>\n",
       "      <th>4</th>\n",
       "      <td>M232_20170308_v028</td>\n",
       "      <td>[[0.0, 0.0, 0.0, 0.0, 0.0, 0.0, 0.0, 0.0, 0.0,...</td>\n",
       "    </tr>\n",
       "    <tr>\n",
       "      <th>5</th>\n",
       "      <td>M232_20170306_v076</td>\n",
       "      <td>[[0.0, 0.0, 0.0, 0.0, 0.0, 0.0, 0.0, 0.0, 0.0,...</td>\n",
       "    </tr>\n",
       "    <tr>\n",
       "      <th>6</th>\n",
       "      <td>M232_20170307_v064</td>\n",
       "      <td>[[0.0, 0.0, 0.0, 0.0, 0.0, 0.0, 0.0, 0.0, 0.0,...</td>\n",
       "    </tr>\n",
       "    <tr>\n",
       "      <th>7</th>\n",
       "      <td>M232_20170308_v034</td>\n",
       "      <td>[[0.0, 0.0, 0.0, 0.0, 0.0, 0.0, 0.0, 0.0, 0.0,...</td>\n",
       "    </tr>\n",
       "    <tr>\n",
       "      <th>8</th>\n",
       "      <td>M232_20170308_v070</td>\n",
       "      <td>[[0.0, 0.0, 0.0, 0.0, 0.0, 0.0, 0.0, 0.0, 0.0,...</td>\n",
       "    </tr>\n",
       "    <tr>\n",
       "      <th>9</th>\n",
       "      <td>M232_20170314_v029</td>\n",
       "      <td>[[0.0, 0.0, 0.0, 0.0, 0.0, 0.0, 0.0, 0.0, 0.0,...</td>\n",
       "    </tr>\n",
       "    <tr>\n",
       "      <th>10</th>\n",
       "      <td>M234_20170328_v002</td>\n",
       "      <td>[[0.0, 0.0, 0.0, 0.0, 0.0, 0.0, 0.0, 0.0, 0.0,...</td>\n",
       "    </tr>\n",
       "    <tr>\n",
       "      <th>11</th>\n",
       "      <td>M234_20170328_v011</td>\n",
       "      <td>[[0.0, 0.0, 0.0, 0.0, 0.0, 0.0, 0.0, 0.0, 0.0,...</td>\n",
       "    </tr>\n",
       "    <tr>\n",
       "      <th>12</th>\n",
       "      <td>M234_20170328_v015</td>\n",
       "      <td>[[0.0, 0.0, 0.0, 0.0, 0.0, 0.0, 0.0, 0.0, 0.0,...</td>\n",
       "    </tr>\n",
       "    <tr>\n",
       "      <th>13</th>\n",
       "      <td>M234_20170328_v028</td>\n",
       "      <td>[[0.0, 0.0, 0.0, 0.0, 0.0, 0.0, 0.0, 0.0, 0.0,...</td>\n",
       "    </tr>\n",
       "    <tr>\n",
       "      <th>14</th>\n",
       "      <td>M234_20170328_v047</td>\n",
       "      <td>[[0.0, 0.0, 0.0, 0.0, 0.0, 0.0, 0.0, 0.0, 0.0,...</td>\n",
       "    </tr>\n",
       "    <tr>\n",
       "      <th>15</th>\n",
       "      <td>M234_20170329_v003</td>\n",
       "      <td>[[0.0, 0.0, 0.0, 0.0, 0.0, 0.0, 0.0, 0.0, 0.0,...</td>\n",
       "    </tr>\n",
       "    <tr>\n",
       "      <th>16</th>\n",
       "      <td>M234_20170329_v013</td>\n",
       "      <td>[[0, 0, 0, 0, 0, 0, 0, 0, 0, 0, 0, 0, 0, 0, 0,...</td>\n",
       "    </tr>\n",
       "    <tr>\n",
       "      <th>17</th>\n",
       "      <td>M234_20170329_v035</td>\n",
       "      <td>[[0.0, 0.0, 0.0, 0.0, 0.0, 0.0, 0.0, 0.0, 0.0,...</td>\n",
       "    </tr>\n",
       "    <tr>\n",
       "      <th>18</th>\n",
       "      <td>M234_20170329_v047</td>\n",
       "      <td>[[0.0, 0.0, 0.0, 0.0, 0.0, 0.0, 0.0, 0.0, 0.0,...</td>\n",
       "    </tr>\n",
       "    <tr>\n",
       "      <th>19</th>\n",
       "      <td>M234_20170329_v064</td>\n",
       "      <td>[[0.0, 0.0, 0.0, 0.0, 0.0, 0.0, 0.0, 0.0, 0.0,...</td>\n",
       "    </tr>\n",
       "    <tr>\n",
       "      <th>20</th>\n",
       "      <td>M234_20170329_v069</td>\n",
       "      <td>[[0.0, 0.0, 0.0, 0.0, 0.0, 0.0, 0.0, 0.0, 0.0,...</td>\n",
       "    </tr>\n",
       "    <tr>\n",
       "      <th>21</th>\n",
       "      <td>M234_20170329_v071</td>\n",
       "      <td>[[0.0, 0.0, 0.0, 0.0, 0.0, 0.0, 0.0, 0.0, 0.0,...</td>\n",
       "    </tr>\n",
       "    <tr>\n",
       "      <th>22</th>\n",
       "      <td>M234_20170329_v079</td>\n",
       "      <td>[[0.0, 0.0, 0.0, 0.0, 0.0, 0.0, 0.0, 0.0, 0.0,...</td>\n",
       "    </tr>\n",
       "    <tr>\n",
       "      <th>23</th>\n",
       "      <td>M234_20170330_v006</td>\n",
       "      <td>[[0.0, 0.0, 0.0, 0.0, 0.0, 0.0, 0.0, 0.0, 0.0,...</td>\n",
       "    </tr>\n",
       "    <tr>\n",
       "      <th>24</th>\n",
       "      <td>M234_20170330_v038</td>\n",
       "      <td>[[0.0, 0.0, 0.0, 0.0, 0.0, 0.0, 0.0, 0.0, 0.0,...</td>\n",
       "    </tr>\n",
       "    <tr>\n",
       "      <th>25</th>\n",
       "      <td>M234_20170330_v043</td>\n",
       "      <td>[[0.0, 0.0, 0.0, 0.0, 0.0, 0.0, 0.0, 0.0, 0.0,...</td>\n",
       "    </tr>\n",
       "  </tbody>\n",
       "</table>\n",
       "</div>"
      ],
      "text/plain": [
       "                 trial                                     final_ethogram\n",
       "0   M232_20170306_v074  [[0.0, 0.0, 0.0, 0.0, 0.0, 0.0, 0.0, 0.0, 0.0,...\n",
       "1   M232_20170306_v024  [[0.0, 0.0, 0.0, 0.0, 0.0, 0.0, 0.0, 0.0, 0.0,...\n",
       "2   M232_20170306_v025  [[0.0, 0.0, 0.0, 0.0, 0.0, 0.0, 0.0, 0.0, 0.0,...\n",
       "3   M232_20170306_v059  [[0.0, 0.0, 0.0, 0.0, 0.0, 0.0, 0.0, 0.0, 0.0,...\n",
       "4   M232_20170308_v028  [[0.0, 0.0, 0.0, 0.0, 0.0, 0.0, 0.0, 0.0, 0.0,...\n",
       "5   M232_20170306_v076  [[0.0, 0.0, 0.0, 0.0, 0.0, 0.0, 0.0, 0.0, 0.0,...\n",
       "6   M232_20170307_v064  [[0.0, 0.0, 0.0, 0.0, 0.0, 0.0, 0.0, 0.0, 0.0,...\n",
       "7   M232_20170308_v034  [[0.0, 0.0, 0.0, 0.0, 0.0, 0.0, 0.0, 0.0, 0.0,...\n",
       "8   M232_20170308_v070  [[0.0, 0.0, 0.0, 0.0, 0.0, 0.0, 0.0, 0.0, 0.0,...\n",
       "9   M232_20170314_v029  [[0.0, 0.0, 0.0, 0.0, 0.0, 0.0, 0.0, 0.0, 0.0,...\n",
       "10  M234_20170328_v002  [[0.0, 0.0, 0.0, 0.0, 0.0, 0.0, 0.0, 0.0, 0.0,...\n",
       "11  M234_20170328_v011  [[0.0, 0.0, 0.0, 0.0, 0.0, 0.0, 0.0, 0.0, 0.0,...\n",
       "12  M234_20170328_v015  [[0.0, 0.0, 0.0, 0.0, 0.0, 0.0, 0.0, 0.0, 0.0,...\n",
       "13  M234_20170328_v028  [[0.0, 0.0, 0.0, 0.0, 0.0, 0.0, 0.0, 0.0, 0.0,...\n",
       "14  M234_20170328_v047  [[0.0, 0.0, 0.0, 0.0, 0.0, 0.0, 0.0, 0.0, 0.0,...\n",
       "15  M234_20170329_v003  [[0.0, 0.0, 0.0, 0.0, 0.0, 0.0, 0.0, 0.0, 0.0,...\n",
       "16  M234_20170329_v013  [[0, 0, 0, 0, 0, 0, 0, 0, 0, 0, 0, 0, 0, 0, 0,...\n",
       "17  M234_20170329_v035  [[0.0, 0.0, 0.0, 0.0, 0.0, 0.0, 0.0, 0.0, 0.0,...\n",
       "18  M234_20170329_v047  [[0.0, 0.0, 0.0, 0.0, 0.0, 0.0, 0.0, 0.0, 0.0,...\n",
       "19  M234_20170329_v064  [[0.0, 0.0, 0.0, 0.0, 0.0, 0.0, 0.0, 0.0, 0.0,...\n",
       "20  M234_20170329_v069  [[0.0, 0.0, 0.0, 0.0, 0.0, 0.0, 0.0, 0.0, 0.0,...\n",
       "21  M234_20170329_v071  [[0.0, 0.0, 0.0, 0.0, 0.0, 0.0, 0.0, 0.0, 0.0,...\n",
       "22  M234_20170329_v079  [[0.0, 0.0, 0.0, 0.0, 0.0, 0.0, 0.0, 0.0, 0.0,...\n",
       "23  M234_20170330_v006  [[0.0, 0.0, 0.0, 0.0, 0.0, 0.0, 0.0, 0.0, 0.0,...\n",
       "24  M234_20170330_v038  [[0.0, 0.0, 0.0, 0.0, 0.0, 0.0, 0.0, 0.0, 0.0,...\n",
       "25  M234_20170330_v043  [[0.0, 0.0, 0.0, 0.0, 0.0, 0.0, 0.0, 0.0, 0.0,..."
      ]
     },
     "execution_count": 3,
     "metadata": {},
     "output_type": "execute_result"
    }
   ],
   "source": [
    "# clean_df = pd.DataFrame(columns=[\"trial\", \"cleaned_ethogram\"])\n",
    "# clean_df.to_hdf('/data/caitlin/cleaned_ethograms.hdf', key='df')\n",
    "\n",
    "clean_df = pd.read_hdf('/data/caitlin/cleaned_ethograms.hdf')\n",
    "clean_df"
   ]
  },
  {
   "cell_type": "markdown",
   "id": "c7c9f67c-fad2-48e6-9d4b-4ef1eadac632",
   "metadata": {},
   "source": [
    "### load dataframe that has merged ethograms to go through and clean"
   ]
  },
  {
   "cell_type": "code",
   "execution_count": 4,
   "id": "8e4e45dd-b360-4c3e-af67-a5106ade562c",
   "metadata": {
    "tags": []
   },
   "outputs": [
    {
     "data": {
      "text/html": [
       "<div>\n",
       "<style scoped>\n",
       "    .dataframe tbody tr th:only-of-type {\n",
       "        vertical-align: middle;\n",
       "    }\n",
       "\n",
       "    .dataframe tbody tr th {\n",
       "        vertical-align: top;\n",
       "    }\n",
       "\n",
       "    .dataframe thead th {\n",
       "        text-align: right;\n",
       "    }\n",
       "</style>\n",
       "<table border=\"1\" class=\"dataframe\">\n",
       "  <thead>\n",
       "    <tr style=\"text-align: right;\">\n",
       "      <th></th>\n",
       "      <th>mat_path</th>\n",
       "      <th>hand_labels</th>\n",
       "      <th>jaaba_labels</th>\n",
       "      <th>merged_ethogram</th>\n",
       "    </tr>\n",
       "  </thead>\n",
       "  <tbody>\n",
       "    <tr>\n",
       "      <th>0</th>\n",
       "      <td>M232_20170306</td>\n",
       "      <td>{'M232_20170306_v024': [[0, 0, 0, 0, 0, 0, 0, ...</td>\n",
       "      <td>{'M232_20170306_v024': [[0, 0, 0, 0, 0, 0, 0, ...</td>\n",
       "      <td>{'M232_20170306_v024': [[0, 0, 0, 0, 0, 0, 0, ...</td>\n",
       "    </tr>\n",
       "    <tr>\n",
       "      <th>1</th>\n",
       "      <td>M232_20170307</td>\n",
       "      <td>{'M232_20170307_v064': [[0, 0, 0, 0, 0, 0, 0, ...</td>\n",
       "      <td>{'M232_20170307_v064': [[0, 0, 0, 0, 0, 0, 0, ...</td>\n",
       "      <td>{'M232_20170307_v064': [[0, 0, 0, 0, 0, 0, 0, ...</td>\n",
       "    </tr>\n",
       "    <tr>\n",
       "      <th>2</th>\n",
       "      <td>M232_20170308</td>\n",
       "      <td>{'M232_20170308_v028': [[0, 0, 0, 0, 0, 0, 0, ...</td>\n",
       "      <td>{'M232_20170308_v028': [[0, 0, 0, 0, 0, 0, 0, ...</td>\n",
       "      <td>{'M232_20170308_v028': [[0, 0, 0, 0, 0, 0, 0, ...</td>\n",
       "    </tr>\n",
       "    <tr>\n",
       "      <th>3</th>\n",
       "      <td>M232_20170314</td>\n",
       "      <td>{'M232_20170314_v029': [[0, 0, 0, 0, 0, 0, 0, ...</td>\n",
       "      <td>{'M232_20170314_v029': [[0, 0, 0, 0, 0, 0, 0, ...</td>\n",
       "      <td>{'M232_20170314_v029': [[0, 0, 0, 0, 0, 0, 0, ...</td>\n",
       "    </tr>\n",
       "    <tr>\n",
       "      <th>4</th>\n",
       "      <td>M234_20170328</td>\n",
       "      <td>{'M234_20170328_v002': [[0, 0, 0, 0, 0, 0, 0, ...</td>\n",
       "      <td>{'M234_20170328_v002': [[0, 0, 0, 0, 0, 0, 0, ...</td>\n",
       "      <td>{'M234_20170328_v002': [[0, 0, 0, 0, 0, 0, 0, ...</td>\n",
       "    </tr>\n",
       "    <tr>\n",
       "      <th>...</th>\n",
       "      <td>...</td>\n",
       "      <td>...</td>\n",
       "      <td>...</td>\n",
       "      <td>...</td>\n",
       "    </tr>\n",
       "    <tr>\n",
       "      <th>445</th>\n",
       "      <td>M240_20170724FinalChecked</td>\n",
       "      <td>{'M240_20170724_v014': [[0, 0, 0, 0, 0, 0, 0, ...</td>\n",
       "      <td>{'M240_20170724_v014': [[0, 0, 0, 0, 0, 0, 0, ...</td>\n",
       "      <td>{'M240_20170724_v014': [[0, 0, 0, 0, 0, 0, 0, ...</td>\n",
       "    </tr>\n",
       "    <tr>\n",
       "      <th>446</th>\n",
       "      <td>M240_20170725FinalChecked</td>\n",
       "      <td>{'M240_20170725_v031': [[0, 0, 0, 0, 0, 0, 0, ...</td>\n",
       "      <td>{'M240_20170725_v031': [[0, 0, 0, 0, 0, 0, 0, ...</td>\n",
       "      <td>{'M240_20170725_v031': [[0, 0, 0, 0, 0, 0, 0, ...</td>\n",
       "    </tr>\n",
       "    <tr>\n",
       "      <th>447</th>\n",
       "      <td>M240_20170727FinalChecked</td>\n",
       "      <td>{'M240_20170727_v007': [[0, 0, 0, 0, 0, 0, 0, ...</td>\n",
       "      <td>{'M240_20170727_v007': [[0, 0, 0, 0, 0, 0, 0, ...</td>\n",
       "      <td>{'M240_20170727_v007': [[0, 0, 0, 0, 0, 0, 0, ...</td>\n",
       "    </tr>\n",
       "    <tr>\n",
       "      <th>448</th>\n",
       "      <td>M240_20170802FinalChecked</td>\n",
       "      <td>{'M240_20170802_v017': [[0, 0, 0, 0, 0, 0, 0, ...</td>\n",
       "      <td>{'M240_20170802_v017': [[0, 0, 0, 0, 0, 0, 0, ...</td>\n",
       "      <td>{'M240_20170802_v017': [[0, 0, 0, 0, 0, 0, 0, ...</td>\n",
       "    </tr>\n",
       "    <tr>\n",
       "      <th>449</th>\n",
       "      <td>M240_20170807FinalChecked</td>\n",
       "      <td>{'M240_20170807_v077': [[0, 0, 0, 0, 0, 0, 0, ...</td>\n",
       "      <td>{'M240_20170807_v077': [[0, 0, 0, 0, 0, 0, 0, ...</td>\n",
       "      <td>{'M240_20170807_v077': [[0, 0, 0, 0, 0, 0, 0, ...</td>\n",
       "    </tr>\n",
       "  </tbody>\n",
       "</table>\n",
       "<p>450 rows × 4 columns</p>\n",
       "</div>"
      ],
      "text/plain": [
       "                      mat_path   \n",
       "0                M232_20170306  \\\n",
       "1                M232_20170307   \n",
       "2                M232_20170308   \n",
       "3                M232_20170314   \n",
       "4                M234_20170328   \n",
       "..                         ...   \n",
       "445  M240_20170724FinalChecked   \n",
       "446  M240_20170725FinalChecked   \n",
       "447  M240_20170727FinalChecked   \n",
       "448  M240_20170802FinalChecked   \n",
       "449  M240_20170807FinalChecked   \n",
       "\n",
       "                                           hand_labels   \n",
       "0    {'M232_20170306_v024': [[0, 0, 0, 0, 0, 0, 0, ...  \\\n",
       "1    {'M232_20170307_v064': [[0, 0, 0, 0, 0, 0, 0, ...   \n",
       "2    {'M232_20170308_v028': [[0, 0, 0, 0, 0, 0, 0, ...   \n",
       "3    {'M232_20170314_v029': [[0, 0, 0, 0, 0, 0, 0, ...   \n",
       "4    {'M234_20170328_v002': [[0, 0, 0, 0, 0, 0, 0, ...   \n",
       "..                                                 ...   \n",
       "445  {'M240_20170724_v014': [[0, 0, 0, 0, 0, 0, 0, ...   \n",
       "446  {'M240_20170725_v031': [[0, 0, 0, 0, 0, 0, 0, ...   \n",
       "447  {'M240_20170727_v007': [[0, 0, 0, 0, 0, 0, 0, ...   \n",
       "448  {'M240_20170802_v017': [[0, 0, 0, 0, 0, 0, 0, ...   \n",
       "449  {'M240_20170807_v077': [[0, 0, 0, 0, 0, 0, 0, ...   \n",
       "\n",
       "                                          jaaba_labels   \n",
       "0    {'M232_20170306_v024': [[0, 0, 0, 0, 0, 0, 0, ...  \\\n",
       "1    {'M232_20170307_v064': [[0, 0, 0, 0, 0, 0, 0, ...   \n",
       "2    {'M232_20170308_v028': [[0, 0, 0, 0, 0, 0, 0, ...   \n",
       "3    {'M232_20170314_v029': [[0, 0, 0, 0, 0, 0, 0, ...   \n",
       "4    {'M234_20170328_v002': [[0, 0, 0, 0, 0, 0, 0, ...   \n",
       "..                                                 ...   \n",
       "445  {'M240_20170724_v014': [[0, 0, 0, 0, 0, 0, 0, ...   \n",
       "446  {'M240_20170725_v031': [[0, 0, 0, 0, 0, 0, 0, ...   \n",
       "447  {'M240_20170727_v007': [[0, 0, 0, 0, 0, 0, 0, ...   \n",
       "448  {'M240_20170802_v017': [[0, 0, 0, 0, 0, 0, 0, ...   \n",
       "449  {'M240_20170807_v077': [[0, 0, 0, 0, 0, 0, 0, ...   \n",
       "\n",
       "                                       merged_ethogram  \n",
       "0    {'M232_20170306_v024': [[0, 0, 0, 0, 0, 0, 0, ...  \n",
       "1    {'M232_20170307_v064': [[0, 0, 0, 0, 0, 0, 0, ...  \n",
       "2    {'M232_20170308_v028': [[0, 0, 0, 0, 0, 0, 0, ...  \n",
       "3    {'M232_20170314_v029': [[0, 0, 0, 0, 0, 0, 0, ...  \n",
       "4    {'M234_20170328_v002': [[0, 0, 0, 0, 0, 0, 0, ...  \n",
       "..                                                 ...  \n",
       "445  {'M240_20170724_v014': [[0, 0, 0, 0, 0, 0, 0, ...  \n",
       "446  {'M240_20170725_v031': [[0, 0, 0, 0, 0, 0, 0, ...  \n",
       "447  {'M240_20170727_v007': [[0, 0, 0, 0, 0, 0, 0, ...  \n",
       "448  {'M240_20170802_v017': [[0, 0, 0, 0, 0, 0, 0, ...  \n",
       "449  {'M240_20170807_v077': [[0, 0, 0, 0, 0, 0, 0, ...  \n",
       "\n",
       "[450 rows x 4 columns]"
      ]
     },
     "execution_count": 4,
     "metadata": {},
     "output_type": "execute_result"
    }
   ],
   "source": [
    "all_potential_df = pd.read_hdf(\"/data/caitlin/exactly1_hand_labels.hdf\")\n",
    "all_potential_df"
   ]
  },
  {
   "cell_type": "code",
   "execution_count": 5,
   "id": "2539c067-2b19-4f65-bd96-de5a3fff07e9",
   "metadata": {
    "tags": []
   },
   "outputs": [],
   "source": [
    "data_path = Path('/data/caitlin/potential_ground_truth/')\n",
    "options = [k.stem for k in sorted(data_path.glob('*.avi'))]"
   ]
  },
  {
   "cell_type": "markdown",
   "id": "a0475053-0ed0-461b-a900-188cacb582af",
   "metadata": {},
   "source": [
    "### get original merged ethograms that need to be cleaned"
   ]
  },
  {
   "cell_type": "code",
   "execution_count": 6,
   "id": "28c4334e-3f21-4bc5-ae49-40226948bf28",
   "metadata": {
    "tags": []
   },
   "outputs": [],
   "source": [
    "ethograms = dict()"
   ]
  },
  {
   "cell_type": "code",
   "execution_count": 7,
   "id": "5b17d6a2-53f1-4c19-b707-731b4fbb7983",
   "metadata": {
    "tags": []
   },
   "outputs": [],
   "source": [
    "for row in all_potential_df.iterrows():\n",
    "    keys = row[1]['merged_ethogram'].keys()\n",
    "    for k in keys:\n",
    "        ethograms[k] = row[1]['merged_ethogram'][k]"
   ]
  },
  {
   "cell_type": "code",
   "execution_count": 8,
   "id": "537f1224-de68-40d9-a05b-1a350d1ec055",
   "metadata": {
    "tags": []
   },
   "outputs": [],
   "source": [
    "data_path = Path('/data/caitlin/potential_ground_truth/')"
   ]
  },
  {
   "cell_type": "code",
   "execution_count": 9,
   "id": "7e82ac39-b8a9-4fa8-8045-c6062d14bbbc",
   "metadata": {
    "tags": []
   },
   "outputs": [],
   "source": [
    "def trial_change(obj):\n",
    "    selected_vid = data_path.joinpath(trial_selector.value).with_suffix('.avi')\n",
    "    iw.set_data([LazyVideo(selected_vid)], reset_vmin_vmax=True)\n",
    "    plot.clear()\n",
    "    make_plot(plot)\n",
    "    plot.auto_scale()"
   ]
  },
  {
   "cell_type": "code",
   "execution_count": 10,
   "id": "ca374728-3aa7-4a5a-8636-a131e3d183dc",
   "metadata": {
    "tags": []
   },
   "outputs": [],
   "source": [
    "def clean_ethogram(obj):\n",
    "    # get indices of selected region\n",
    "    selected_ixs = plot.selectors[1].get_selected_indices(plot.graphics[0])\n",
    "    # map behavior button value to index\n",
    "    behavior_ix = behavior_buttons.options.index(behavior_buttons.value)\n",
    "    # set indices of selected region to \n",
    "    if fill_values.value == \"0\":\n",
    "        plot.graphics[behavior_ix].colors[selected_ixs[0]:selected_ixs[-1]] = \"black\"\n",
    "    else:\n",
    "        plot.graphics[behavior_ix].colors[selected_ixs[0]:selected_ixs[-1]] = ETHOGRAM_COLORS[behavior_buttons.value]"
   ]
  },
  {
   "cell_type": "code",
   "execution_count": 11,
   "id": "87dc02d5-04e5-4573-8835-ad5f1d28e8fc",
   "metadata": {
    "tags": []
   },
   "outputs": [],
   "source": [
    "def save_new_ethogram(obj):\n",
    "    # create new ethogram based off of indices that are not black\n",
    "    trial_length = ethograms[trial_selector.value][0].shape[0]\n",
    "    new_ethogram = np.zeros(shape=(6, trial_length))\n",
    "    for i, graphic in enumerate(plot.graphics):\n",
    "        non_zero_ixs = np.where(plot.graphics[i].colors[:] != np.array([0, 0, 0, 1]))[0]\n",
    "        new_ethogram[i][non_zero_ixs] = 1\n",
    "    # check if key in clean_df\n",
    "    if trial_selector.value in trial_selector.value in list(clean_df[\"trial\"]):\n",
    "        ix = clean_df.loc[clean_df[\"trial\"] == trial_selector.value].index[0]\n",
    "        clean_df.loc[:,'final_ethogram'].loc[ix] = new_ethogram\n",
    "    # else add to end of df\n",
    "    else:\n",
    "         clean_df.loc[len(clean_df.index)] = [trial_selector.value, new_ethogram]\n",
    "\n",
    "    # save clean_df to disk\n",
    "    clean_df.to_hdf('/data/caitlin/cleaned_ethograms.hdf', key='df')"
   ]
  },
  {
   "cell_type": "code",
   "execution_count": 12,
   "id": "0915a1a3-94f8-44bb-a315-cf5ddec86273",
   "metadata": {
    "tags": []
   },
   "outputs": [],
   "source": [
    "def reset_ethogram(obj):\n",
    "    old_ethogram = ethograms[trial_selector.value]\n",
    "    for i, graphic in enumerate(plot.graphics):\n",
    "        graphic.colors[old_ethogram[i] == 1] = list(ETHOGRAM_COLORS.values())[i]"
   ]
  },
  {
   "cell_type": "code",
   "execution_count": 13,
   "id": "9fe3c105-cf63-4d99-9771-fa24f4dc2e7b",
   "metadata": {
    "tags": []
   },
   "outputs": [],
   "source": [
    "def save_original_ethogram(obj):\n",
    "    if trial_selector.value in trial_selector.value in list(clean_df[\"trial\"]):\n",
    "        ix = clean_df.loc[clean_df[\"trial\"] == trial_selector.value].index[0]\n",
    "        clean_df.loc[:,'final_ethogram'].loc[ix] = ethograms[trial_selector.value]\n",
    "    # else add to end of df\n",
    "    else:\n",
    "         clean_df.loc[len(clean_df.index)] = [trial_selector.value, ethograms[trial_selector.value]]\n",
    "    # save clean_df to disk\n",
    "    clean_df.to_hdf('/data/caitlin/cleaned_ethograms.hdf', key='df')"
   ]
  },
  {
   "cell_type": "code",
   "execution_count": 14,
   "id": "19b34407-9210-4a42-9efc-8f5988317146",
   "metadata": {
    "tags": []
   },
   "outputs": [],
   "source": [
    "# radio buttons to click which behavior needs to be changed \n",
    "behavior_buttons = RadioButtons(options=[\"lift\", \"handopen\", \"grab\", \"sup\", \"atmouth\", \"chew\"], layout=Layout(width='auto'))\n",
    "# radio button to check whether the value should be changed to zero or 1\n",
    "fill_values = RadioButtons(options=[\"0\", \"1\"], layout=Layout(width='auto'))\n",
    "# button to clean the ethogram based on the values of the radio buttons\n",
    "clean_button = Button(value=False, disabled=False, icon='broom',\n",
    "                                       layout=Layout(width='auto'), tooltip='clean ethogram')\n",
    "clean_button.on_click(clean_ethogram)\n",
    "# save button to save new ethogram to cleaned_df and save df to disk also change the trial in marked_df to \"good\"\n",
    "save_button = Button(value=False, disabled=False, icon='save',\n",
    "                                       layout=Layout(width='auto'), tooltip='save clean ethogram')\n",
    "save_button.on_click(save_new_ethogram)\n",
    "    # check if key exists, and overwrite, otherwise add\n",
    "# reset button to reset the ethogram to what is stored in marked_df and set key of marked_df to \"clean\"\n",
    "reset_button = Button(value=False, disabled=False, icon='history',\n",
    "                                       layout=Layout(width='auto'), tooltip='reset ethogram')\n",
    "reset_button.on_click(reset_ethogram)\n",
    "check_button = Button(value=False, disabled=False, icon='check',\n",
    "                                       layout=Layout(width='auto'), tooltip='save original etho')\n",
    "check_button.on_click(save_original_ethogram)"
   ]
  },
  {
   "cell_type": "code",
   "execution_count": 15,
   "id": "8de68572-3423-4604-8db8-f5075e3f2ca9",
   "metadata": {
    "tags": []
   },
   "outputs": [],
   "source": [
    "radio_box = HBox([behavior_buttons, fill_values])\n",
    "clean_options = HBox([reset_button, clean_button, save_button, check_button])"
   ]
  },
  {
   "cell_type": "code",
   "execution_count": 16,
   "id": "7615947f-34f5-4ac4-8307-98644b55a8ef",
   "metadata": {
    "tags": []
   },
   "outputs": [],
   "source": [
    "trial_selector = Select(options=options)\n",
    "trial_selector.observe(trial_change, \"value\")"
   ]
  },
  {
   "cell_type": "code",
   "execution_count": 17,
   "id": "ff81f45b-aaa2-4d97-90a3-621f9b16d9e6",
   "metadata": {
    "tags": []
   },
   "outputs": [
    {
     "data": {
      "application/vnd.jupyter.widget-view+json": {
       "model_id": "2f846f0b1b0b436f9a3658f791ac72e1",
       "version_major": 2,
       "version_minor": 0
      },
      "text/plain": [
       "RFBOutputContext()"
      ]
     },
     "metadata": {},
     "output_type": "display_data"
    },
    {
     "name": "stderr",
     "output_type": "stream",
     "text": [
      "/home/clewis7/repos/mesmerize-core/mesmerize_core/arrays/_video.py:87: UserWarning: min not implemented for LazyTiff, returning min of 0th index\n",
      "  warn(\"min not implemented for LazyTiff, returning min of 0th index\")\n",
      "/home/clewis7/repos/mesmerize-core/mesmerize_core/arrays/_video.py:92: UserWarning: max not implemented for LazyTiff, returning min of 0th index\n",
      "  warn(\"max not implemented for LazyTiff, returning min of 0th index\")\n"
     ]
    }
   ],
   "source": [
    "iw = ImageWidget(data=[LazyVideo(data_path.joinpath(trial_selector.value).with_suffix('.avi'))])"
   ]
  },
  {
   "cell_type": "code",
   "execution_count": 18,
   "id": "006cbb15-c9b1-4f93-bc78-34a89cc78c8a",
   "metadata": {
    "tags": []
   },
   "outputs": [],
   "source": [
    "def ethogram_event_handler(ev):\n",
    "    ix = ev.pick_info[\"selected_index\"]\n",
    "    iw.sliders[\"t\"].value = ix"
   ]
  },
  {
   "cell_type": "code",
   "execution_count": 19,
   "id": "467b73a1-2b61-4913-8afa-76492743c5bd",
   "metadata": {
    "tags": []
   },
   "outputs": [
    {
     "data": {
      "application/vnd.jupyter.widget-view+json": {
       "model_id": "5a8eb6d2b63f4378adff0427c88ef01f",
       "version_major": 2,
       "version_minor": 0
      },
      "text/plain": [
       "RFBOutputContext()"
      ]
     },
     "metadata": {},
     "output_type": "display_data"
    }
   ],
   "source": [
    "plot = Plot(size=(500, 100))\n",
    "def make_plot(plot):\n",
    "        \n",
    "    ethogram_array = ethograms[trial_selector.value]\n",
    "    y_bottom = 0\n",
    "    for i, b in enumerate(ETHOGRAM_COLORS.keys()):\n",
    "        xs = np.arange(ethogram_array.shape[1], dtype=np.float32)\n",
    "        ys = np.zeros(xs.size, dtype=np.float32)\n",
    "\n",
    "        lg = plot.add_line(\n",
    "            data=np.column_stack([xs, ys]),\n",
    "            thickness=10,\n",
    "            name=b\n",
    "        )\n",
    "\n",
    "        lg.colors = 0\n",
    "        lg.colors[ethogram_array[i] == 1] = ETHOGRAM_COLORS[b]\n",
    "\n",
    "        y_pos = (i * -10) - 1\n",
    "        lg.position_y = y_pos\n",
    "\n",
    "    ethogram_region_selector = LinearRegionSelector(\n",
    "                bounds=(0, 50),\n",
    "                limits=(0, ethogram_array.shape[1]),\n",
    "                axis=\"x\",\n",
    "                origin=(0,-25),\n",
    "                fill_color=(0, 0, 0, 0),\n",
    "                parent=lg,\n",
    "                size=(55),\n",
    "            )\n",
    "    \n",
    "    ethogram_selector = LinearSelector(\n",
    "                selection=0,\n",
    "                limits=(0, ethogram_array.shape[1]),\n",
    "                axis=\"x\",\n",
    "                parent=lg,\n",
    "                end_points=(y_bottom, y_pos),\n",
    "            )\n",
    "\n",
    "    plot.add_graphic(ethogram_selector)\n",
    "    plot.add_graphic(ethogram_region_selector)\n",
    "    ethogram_selector.selection.add_event_handler(ethogram_event_handler)"
   ]
  },
  {
   "cell_type": "code",
   "execution_count": 20,
   "id": "41be6424-44e5-4a05-8377-05e99e3952fd",
   "metadata": {
    "tags": []
   },
   "outputs": [
    {
     "data": {
      "application/vnd.jupyter.widget-view+json": {
       "model_id": "2c4c59a5f875440caaa01383b67da801",
       "version_major": 2,
       "version_minor": 0
      },
      "text/plain": [
       "VBox(children=(HBox(children=(VBox(children=(VBox(children=(JupyterWgpuCanvas(), HBox(children=(Button(icon='e…"
      ]
     },
     "execution_count": 20,
     "metadata": {},
     "output_type": "execute_result"
    }
   ],
   "source": [
    "make_plot(plot)\n",
    "VBox([\n",
    "    HBox([iw.show(), \n",
    "          VBox([\n",
    "              trial_selector\n",
    "              ])\n",
    "            ]),\n",
    "    HBox([plot.show(),\n",
    "         VBox([radio_box, clean_options])\n",
    "         ])\n",
    "])"
   ]
  },
  {
   "cell_type": "code",
   "execution_count": 31,
   "id": "d85f0a02-4ab0-4461-8bfc-0b5f60c7e1c8",
   "metadata": {
    "tags": []
   },
   "outputs": [
    {
     "data": {
      "text/plain": [
       "'M234_20170330_v069'"
      ]
     },
     "execution_count": 31,
     "metadata": {},
     "output_type": "execute_result"
    }
   ],
   "source": [
    "clean_df.iloc[-1][\"trial\"]"
   ]
  },
  {
   "cell_type": "code",
   "execution_count": 24,
   "id": "6e3afdeb-9a45-4c23-bc46-edba3df8c8f0",
   "metadata": {},
   "outputs": [
    {
     "data": {
      "text/html": [
       "<div>\n",
       "<style scoped>\n",
       "    .dataframe tbody tr th:only-of-type {\n",
       "        vertical-align: middle;\n",
       "    }\n",
       "\n",
       "    .dataframe tbody tr th {\n",
       "        vertical-align: top;\n",
       "    }\n",
       "\n",
       "    .dataframe thead th {\n",
       "        text-align: right;\n",
       "    }\n",
       "</style>\n",
       "<table border=\"1\" class=\"dataframe\">\n",
       "  <thead>\n",
       "    <tr style=\"text-align: right;\">\n",
       "      <th></th>\n",
       "      <th>trial</th>\n",
       "      <th>final_ethogram</th>\n",
       "    </tr>\n",
       "  </thead>\n",
       "  <tbody>\n",
       "    <tr>\n",
       "      <th>0</th>\n",
       "      <td>M232_20170306_v074</td>\n",
       "      <td>[[0.0, 0.0, 0.0, 0.0, 0.0, 0.0, 0.0, 0.0, 0.0,...</td>\n",
       "    </tr>\n",
       "    <tr>\n",
       "      <th>1</th>\n",
       "      <td>M232_20170306_v024</td>\n",
       "      <td>[[0.0, 0.0, 0.0, 0.0, 0.0, 0.0, 0.0, 0.0, 0.0,...</td>\n",
       "    </tr>\n",
       "    <tr>\n",
       "      <th>2</th>\n",
       "      <td>M232_20170306_v025</td>\n",
       "      <td>[[0.0, 0.0, 0.0, 0.0, 0.0, 0.0, 0.0, 0.0, 0.0,...</td>\n",
       "    </tr>\n",
       "    <tr>\n",
       "      <th>3</th>\n",
       "      <td>M232_20170306_v059</td>\n",
       "      <td>[[0.0, 0.0, 0.0, 0.0, 0.0, 0.0, 0.0, 0.0, 0.0,...</td>\n",
       "    </tr>\n",
       "    <tr>\n",
       "      <th>4</th>\n",
       "      <td>M232_20170308_v028</td>\n",
       "      <td>[[0.0, 0.0, 0.0, 0.0, 0.0, 0.0, 0.0, 0.0, 0.0,...</td>\n",
       "    </tr>\n",
       "    <tr>\n",
       "      <th>5</th>\n",
       "      <td>M232_20170306_v076</td>\n",
       "      <td>[[0.0, 0.0, 0.0, 0.0, 0.0, 0.0, 0.0, 0.0, 0.0,...</td>\n",
       "    </tr>\n",
       "    <tr>\n",
       "      <th>6</th>\n",
       "      <td>M232_20170307_v064</td>\n",
       "      <td>[[0.0, 0.0, 0.0, 0.0, 0.0, 0.0, 0.0, 0.0, 0.0,...</td>\n",
       "    </tr>\n",
       "    <tr>\n",
       "      <th>7</th>\n",
       "      <td>M232_20170308_v034</td>\n",
       "      <td>[[0.0, 0.0, 0.0, 0.0, 0.0, 0.0, 0.0, 0.0, 0.0,...</td>\n",
       "    </tr>\n",
       "    <tr>\n",
       "      <th>8</th>\n",
       "      <td>M232_20170308_v070</td>\n",
       "      <td>[[0.0, 0.0, 0.0, 0.0, 0.0, 0.0, 0.0, 0.0, 0.0,...</td>\n",
       "    </tr>\n",
       "    <tr>\n",
       "      <th>9</th>\n",
       "      <td>M232_20170314_v029</td>\n",
       "      <td>[[0.0, 0.0, 0.0, 0.0, 0.0, 0.0, 0.0, 0.0, 0.0,...</td>\n",
       "    </tr>\n",
       "    <tr>\n",
       "      <th>10</th>\n",
       "      <td>M234_20170328_v002</td>\n",
       "      <td>[[0.0, 0.0, 0.0, 0.0, 0.0, 0.0, 0.0, 0.0, 0.0,...</td>\n",
       "    </tr>\n",
       "    <tr>\n",
       "      <th>11</th>\n",
       "      <td>M234_20170328_v011</td>\n",
       "      <td>[[0.0, 0.0, 0.0, 0.0, 0.0, 0.0, 0.0, 0.0, 0.0,...</td>\n",
       "    </tr>\n",
       "    <tr>\n",
       "      <th>12</th>\n",
       "      <td>M234_20170328_v015</td>\n",
       "      <td>[[0.0, 0.0, 0.0, 0.0, 0.0, 0.0, 0.0, 0.0, 0.0,...</td>\n",
       "    </tr>\n",
       "    <tr>\n",
       "      <th>13</th>\n",
       "      <td>M234_20170328_v028</td>\n",
       "      <td>[[0.0, 0.0, 0.0, 0.0, 0.0, 0.0, 0.0, 0.0, 0.0,...</td>\n",
       "    </tr>\n",
       "    <tr>\n",
       "      <th>14</th>\n",
       "      <td>M234_20170328_v047</td>\n",
       "      <td>[[0.0, 0.0, 0.0, 0.0, 0.0, 0.0, 0.0, 0.0, 0.0,...</td>\n",
       "    </tr>\n",
       "    <tr>\n",
       "      <th>15</th>\n",
       "      <td>M234_20170329_v003</td>\n",
       "      <td>[[0.0, 0.0, 0.0, 0.0, 0.0, 0.0, 0.0, 0.0, 0.0,...</td>\n",
       "    </tr>\n",
       "    <tr>\n",
       "      <th>16</th>\n",
       "      <td>M234_20170329_v013</td>\n",
       "      <td>[[0, 0, 0, 0, 0, 0, 0, 0, 0, 0, 0, 0, 0, 0, 0,...</td>\n",
       "    </tr>\n",
       "    <tr>\n",
       "      <th>17</th>\n",
       "      <td>M234_20170329_v035</td>\n",
       "      <td>[[0.0, 0.0, 0.0, 0.0, 0.0, 0.0, 0.0, 0.0, 0.0,...</td>\n",
       "    </tr>\n",
       "    <tr>\n",
       "      <th>18</th>\n",
       "      <td>M234_20170329_v047</td>\n",
       "      <td>[[0.0, 0.0, 0.0, 0.0, 0.0, 0.0, 0.0, 0.0, 0.0,...</td>\n",
       "    </tr>\n",
       "    <tr>\n",
       "      <th>19</th>\n",
       "      <td>M234_20170329_v064</td>\n",
       "      <td>[[0.0, 0.0, 0.0, 0.0, 0.0, 0.0, 0.0, 0.0, 0.0,...</td>\n",
       "    </tr>\n",
       "    <tr>\n",
       "      <th>20</th>\n",
       "      <td>M234_20170329_v069</td>\n",
       "      <td>[[0.0, 0.0, 0.0, 0.0, 0.0, 0.0, 0.0, 0.0, 0.0,...</td>\n",
       "    </tr>\n",
       "    <tr>\n",
       "      <th>21</th>\n",
       "      <td>M234_20170329_v071</td>\n",
       "      <td>[[0.0, 0.0, 0.0, 0.0, 0.0, 0.0, 0.0, 0.0, 0.0,...</td>\n",
       "    </tr>\n",
       "    <tr>\n",
       "      <th>22</th>\n",
       "      <td>M234_20170329_v079</td>\n",
       "      <td>[[0.0, 0.0, 0.0, 0.0, 0.0, 0.0, 0.0, 0.0, 0.0,...</td>\n",
       "    </tr>\n",
       "    <tr>\n",
       "      <th>23</th>\n",
       "      <td>M234_20170330_v006</td>\n",
       "      <td>[[0.0, 0.0, 0.0, 0.0, 0.0, 0.0, 0.0, 0.0, 0.0,...</td>\n",
       "    </tr>\n",
       "    <tr>\n",
       "      <th>24</th>\n",
       "      <td>M234_20170330_v038</td>\n",
       "      <td>[[0.0, 0.0, 0.0, 0.0, 0.0, 0.0, 0.0, 0.0, 0.0,...</td>\n",
       "    </tr>\n",
       "    <tr>\n",
       "      <th>25</th>\n",
       "      <td>M234_20170330_v043</td>\n",
       "      <td>[[0.0, 0.0, 0.0, 0.0, 0.0, 0.0, 0.0, 0.0, 0.0,...</td>\n",
       "    </tr>\n",
       "  </tbody>\n",
       "</table>\n",
       "</div>"
      ],
      "text/plain": [
       "                 trial                                     final_ethogram\n",
       "0   M232_20170306_v074  [[0.0, 0.0, 0.0, 0.0, 0.0, 0.0, 0.0, 0.0, 0.0,...\n",
       "1   M232_20170306_v024  [[0.0, 0.0, 0.0, 0.0, 0.0, 0.0, 0.0, 0.0, 0.0,...\n",
       "2   M232_20170306_v025  [[0.0, 0.0, 0.0, 0.0, 0.0, 0.0, 0.0, 0.0, 0.0,...\n",
       "3   M232_20170306_v059  [[0.0, 0.0, 0.0, 0.0, 0.0, 0.0, 0.0, 0.0, 0.0,...\n",
       "4   M232_20170308_v028  [[0.0, 0.0, 0.0, 0.0, 0.0, 0.0, 0.0, 0.0, 0.0,...\n",
       "5   M232_20170306_v076  [[0.0, 0.0, 0.0, 0.0, 0.0, 0.0, 0.0, 0.0, 0.0,...\n",
       "6   M232_20170307_v064  [[0.0, 0.0, 0.0, 0.0, 0.0, 0.0, 0.0, 0.0, 0.0,...\n",
       "7   M232_20170308_v034  [[0.0, 0.0, 0.0, 0.0, 0.0, 0.0, 0.0, 0.0, 0.0,...\n",
       "8   M232_20170308_v070  [[0.0, 0.0, 0.0, 0.0, 0.0, 0.0, 0.0, 0.0, 0.0,...\n",
       "9   M232_20170314_v029  [[0.0, 0.0, 0.0, 0.0, 0.0, 0.0, 0.0, 0.0, 0.0,...\n",
       "10  M234_20170328_v002  [[0.0, 0.0, 0.0, 0.0, 0.0, 0.0, 0.0, 0.0, 0.0,...\n",
       "11  M234_20170328_v011  [[0.0, 0.0, 0.0, 0.0, 0.0, 0.0, 0.0, 0.0, 0.0,...\n",
       "12  M234_20170328_v015  [[0.0, 0.0, 0.0, 0.0, 0.0, 0.0, 0.0, 0.0, 0.0,...\n",
       "13  M234_20170328_v028  [[0.0, 0.0, 0.0, 0.0, 0.0, 0.0, 0.0, 0.0, 0.0,...\n",
       "14  M234_20170328_v047  [[0.0, 0.0, 0.0, 0.0, 0.0, 0.0, 0.0, 0.0, 0.0,...\n",
       "15  M234_20170329_v003  [[0.0, 0.0, 0.0, 0.0, 0.0, 0.0, 0.0, 0.0, 0.0,...\n",
       "16  M234_20170329_v013  [[0, 0, 0, 0, 0, 0, 0, 0, 0, 0, 0, 0, 0, 0, 0,...\n",
       "17  M234_20170329_v035  [[0.0, 0.0, 0.0, 0.0, 0.0, 0.0, 0.0, 0.0, 0.0,...\n",
       "18  M234_20170329_v047  [[0.0, 0.0, 0.0, 0.0, 0.0, 0.0, 0.0, 0.0, 0.0,...\n",
       "19  M234_20170329_v064  [[0.0, 0.0, 0.0, 0.0, 0.0, 0.0, 0.0, 0.0, 0.0,...\n",
       "20  M234_20170329_v069  [[0.0, 0.0, 0.0, 0.0, 0.0, 0.0, 0.0, 0.0, 0.0,...\n",
       "21  M234_20170329_v071  [[0.0, 0.0, 0.0, 0.0, 0.0, 0.0, 0.0, 0.0, 0.0,...\n",
       "22  M234_20170329_v079  [[0.0, 0.0, 0.0, 0.0, 0.0, 0.0, 0.0, 0.0, 0.0,...\n",
       "23  M234_20170330_v006  [[0.0, 0.0, 0.0, 0.0, 0.0, 0.0, 0.0, 0.0, 0.0,...\n",
       "24  M234_20170330_v038  [[0.0, 0.0, 0.0, 0.0, 0.0, 0.0, 0.0, 0.0, 0.0,...\n",
       "25  M234_20170330_v043  [[0.0, 0.0, 0.0, 0.0, 0.0, 0.0, 0.0, 0.0, 0.0,..."
      ]
     },
     "execution_count": 24,
     "metadata": {},
     "output_type": "execute_result"
    }
   ],
   "source": [
    "pd.read_hdf('/data/caitlin/cleaned_ethograms.hdf')"
   ]
  },
  {
   "cell_type": "code",
   "execution_count": null,
   "id": "c91531c8-98a4-4eee-92be-73db1c083384",
   "metadata": {},
   "outputs": [],
   "source": []
  }
 ],
 "metadata": {
  "kernelspec": {
   "display_name": "Python 3 (ipykernel)",
   "language": "python",
   "name": "python3"
  },
  "language_info": {
   "codemirror_mode": {
    "name": "ipython",
    "version": 3
   },
   "file_extension": ".py",
   "mimetype": "text/x-python",
   "name": "python",
   "nbconvert_exporter": "python",
   "pygments_lexer": "ipython3",
   "version": "3.11.3"
  }
 },
 "nbformat": 4,
 "nbformat_minor": 5
}
