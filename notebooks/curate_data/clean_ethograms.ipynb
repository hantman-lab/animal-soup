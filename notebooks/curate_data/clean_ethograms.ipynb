{
 "cells": [
  {
   "cell_type": "markdown",
   "id": "fa8db1b9-ed4b-4f7e-96d5-7672f543fa11",
   "metadata": {},
   "source": [
    "### Notebook to clean up ethograms to be added to ground truth"
   ]
  },
  {
   "cell_type": "code",
   "execution_count": 1,
   "id": "aa244c8f-5571-4966-80bf-9eaa5cf56f7a",
   "metadata": {
    "tags": []
   },
   "outputs": [
    {
     "name": "stderr",
     "output_type": "stream",
     "text": [
      "2023-06-14 12:12:35.167940: I tensorflow/core/platform/cpu_feature_guard.cc:182] This TensorFlow binary is optimized to use available CPU instructions in performance-critical operations.\n",
      "To enable the following instructions: AVX2 FMA, in other operations, rebuild TensorFlow with the appropriate compiler flags.\n",
      "2023-06-14 12:12:35.614356: W tensorflow/compiler/tf2tensorrt/utils/py_utils.cc:38] TF-TRT Warning: Could not find TensorRT\n"
     ]
    }
   ],
   "source": [
    "import pandas as pd\n",
    "from ipywidgets import HBox, VBox, Select, Button, Layout, RadioButtons\n",
    "from fastplotlib import ImageWidget, Plot\n",
    "from mesmerize_core.arrays import LazyVideo\n",
    "from pathlib import Path\n",
    "import numpy as np\n",
    "from fastplotlib.graphics.selectors import LinearRegionSelector, LinearSelector"
   ]
  },
  {
   "cell_type": "code",
   "execution_count": 2,
   "id": "ab298dab-7845-44e9-883e-37a1b0a8fcfa",
   "metadata": {
    "tags": []
   },
   "outputs": [],
   "source": [
    "ETHOGRAM_COLORS = {\n",
    "    \"lift\": \"b\",\n",
    "    \"handopen\": \"green\",\n",
    "    \"grab\": \"r\",\n",
    "    \"sup\": \"cyan\",\n",
    "    \"atmouth\": \"magenta\",\n",
    "    \"chew\": \"yellow\"\n",
    "}"
   ]
  },
  {
   "cell_type": "markdown",
   "id": "2219b9ad-f2cf-453c-8861-d52f1000ebbe",
   "metadata": {},
   "source": [
    "### dataframe to store cleaned ethograms"
   ]
  },
  {
   "cell_type": "code",
   "execution_count": 7,
   "id": "5e3630e2-5b1c-4f7c-b5d2-e054f0305cb8",
   "metadata": {
    "tags": []
   },
   "outputs": [
    {
     "data": {
      "text/html": [
       "<div>\n",
       "<style scoped>\n",
       "    .dataframe tbody tr th:only-of-type {\n",
       "        vertical-align: middle;\n",
       "    }\n",
       "\n",
       "    .dataframe tbody tr th {\n",
       "        vertical-align: top;\n",
       "    }\n",
       "\n",
       "    .dataframe thead th {\n",
       "        text-align: right;\n",
       "    }\n",
       "</style>\n",
       "<table border=\"1\" class=\"dataframe\">\n",
       "  <thead>\n",
       "    <tr style=\"text-align: right;\">\n",
       "      <th></th>\n",
       "      <th>trial</th>\n",
       "      <th>cleaned_ethogram</th>\n",
       "    </tr>\n",
       "  </thead>\n",
       "  <tbody>\n",
       "  </tbody>\n",
       "</table>\n",
       "</div>"
      ],
      "text/plain": [
       "Empty DataFrame\n",
       "Columns: [trial, cleaned_ethogram]\n",
       "Index: []"
      ]
     },
     "execution_count": 7,
     "metadata": {},
     "output_type": "execute_result"
    }
   ],
   "source": [
    "# clean_df = pd.DataFrame(columns=[\"trial\", \"cleaned_ethogram\"])\n",
    "# clean_df.to_hdf('/data/caitlin/cleaned_ethograms.hdf', key='df')\n",
    "\n",
    "clean_df = pd.read_hdf('/data/caitlin/cleaned_ethograms.hdf')\n",
    "clean_df"
   ]
  },
  {
   "cell_type": "markdown",
   "id": "c7c9f67c-fad2-48e6-9d4b-4ef1eadac632",
   "metadata": {},
   "source": [
    "### load dataframe that marks which trials to be cleaned"
   ]
  },
  {
   "cell_type": "code",
   "execution_count": 8,
   "id": "049e4541-b966-4d83-83ec-2e19b40a6187",
   "metadata": {
    "tags": []
   },
   "outputs": [
    {
     "data": {
      "text/html": [
       "<div>\n",
       "<style scoped>\n",
       "    .dataframe tbody tr th:only-of-type {\n",
       "        vertical-align: middle;\n",
       "    }\n",
       "\n",
       "    .dataframe tbody tr th {\n",
       "        vertical-align: top;\n",
       "    }\n",
       "\n",
       "    .dataframe thead th {\n",
       "        text-align: right;\n",
       "    }\n",
       "</style>\n",
       "<table border=\"1\" class=\"dataframe\">\n",
       "  <thead>\n",
       "    <tr style=\"text-align: right;\">\n",
       "      <th></th>\n",
       "      <th>trial</th>\n",
       "      <th>mark</th>\n",
       "    </tr>\n",
       "  </thead>\n",
       "  <tbody>\n",
       "    <tr>\n",
       "      <th>0</th>\n",
       "      <td>M232_20170306_v024</td>\n",
       "      <td>clean</td>\n",
       "    </tr>\n",
       "    <tr>\n",
       "      <th>1</th>\n",
       "      <td>M232_20170306_v025</td>\n",
       "      <td>clean</td>\n",
       "    </tr>\n",
       "    <tr>\n",
       "      <th>3</th>\n",
       "      <td>M232_20170306_v074</td>\n",
       "      <td>clean</td>\n",
       "    </tr>\n",
       "    <tr>\n",
       "      <th>4</th>\n",
       "      <td>M232_20170306_v075</td>\n",
       "      <td>clean</td>\n",
       "    </tr>\n",
       "    <tr>\n",
       "      <th>5</th>\n",
       "      <td>M232_20170306_v076</td>\n",
       "      <td>clean</td>\n",
       "    </tr>\n",
       "    <tr>\n",
       "      <th>7</th>\n",
       "      <td>M232_20170308_v028</td>\n",
       "      <td>clean</td>\n",
       "    </tr>\n",
       "    <tr>\n",
       "      <th>9</th>\n",
       "      <td>M232_20170308_v034</td>\n",
       "      <td>clean</td>\n",
       "    </tr>\n",
       "  </tbody>\n",
       "</table>\n",
       "</div>"
      ],
      "text/plain": [
       "                trial   mark\n",
       "0  M232_20170306_v024  clean\n",
       "1  M232_20170306_v025  clean\n",
       "3  M232_20170306_v074  clean\n",
       "4  M232_20170306_v075  clean\n",
       "5  M232_20170306_v076  clean\n",
       "7  M232_20170308_v028  clean\n",
       "9  M232_20170308_v034  clean"
      ]
     },
     "execution_count": 8,
     "metadata": {},
     "output_type": "execute_result"
    }
   ],
   "source": [
    "mark_trials_df = pd.read_hdf('/data/caitlin/mark_trials.hdf')\n",
    "mark_trials_df = mark_trials_df[mark_trials_df['mark'] == \"clean\"]\n",
    "mark_trials_df"
   ]
  },
  {
   "cell_type": "code",
   "execution_count": 9,
   "id": "2539c067-2b19-4f65-bd96-de5a3fff07e9",
   "metadata": {
    "tags": []
   },
   "outputs": [],
   "source": [
    "options = [trial for trial in mark_trials_df[\"trial\"]]"
   ]
  },
  {
   "cell_type": "markdown",
   "id": "a0475053-0ed0-461b-a900-188cacb582af",
   "metadata": {},
   "source": [
    "### get original merged ethograms that need to be cleaned"
   ]
  },
  {
   "cell_type": "code",
   "execution_count": 10,
   "id": "2e7a8f7a-d10e-43b1-978f-2438fc216f1c",
   "metadata": {
    "tags": []
   },
   "outputs": [],
   "source": [
    "ethograms_df = pd.read_hdf(\"/data/caitlin/exactly1_hand_labels.hdf\")"
   ]
  },
  {
   "cell_type": "code",
   "execution_count": 11,
   "id": "28c4334e-3f21-4bc5-ae49-40226948bf28",
   "metadata": {
    "tags": []
   },
   "outputs": [],
   "source": [
    "ethograms = dict()"
   ]
  },
  {
   "cell_type": "code",
   "execution_count": 12,
   "id": "5b17d6a2-53f1-4c19-b707-731b4fbb7983",
   "metadata": {
    "tags": []
   },
   "outputs": [],
   "source": [
    "for row in ethograms_df.iterrows():\n",
    "    keys = row[1]['merged_ethogram'].keys()\n",
    "    for k in keys:\n",
    "        ethograms[k] = row[1]['merged_ethogram'][k]"
   ]
  },
  {
   "cell_type": "code",
   "execution_count": 13,
   "id": "537f1224-de68-40d9-a05b-1a350d1ec055",
   "metadata": {
    "tags": []
   },
   "outputs": [],
   "source": [
    "data_path = Path('/data/caitlin/potential_ground_truth/')"
   ]
  },
  {
   "cell_type": "code",
   "execution_count": 14,
   "id": "7e82ac39-b8a9-4fa8-8045-c6062d14bbbc",
   "metadata": {
    "tags": []
   },
   "outputs": [],
   "source": [
    "def trial_change(obj):\n",
    "    selected_vid = data_path.joinpath(trial_selector.value).with_suffix('.avi')\n",
    "    iw.set_data([LazyVideo(selected_vid)], reset_vmin_vmax=True)\n",
    "    plot.clear()\n",
    "    make_plot(plot)\n",
    "    plot.auto_scale()"
   ]
  },
  {
   "cell_type": "code",
   "execution_count": 15,
   "id": "ca374728-3aa7-4a5a-8636-a131e3d183dc",
   "metadata": {
    "tags": []
   },
   "outputs": [],
   "source": [
    "def clean_ethogram(obj):\n",
    "    # get indices of selected region\n",
    "    selected_ixs = plot.selectors[1].get_selected_indices(plot.graphics[0])\n",
    "    # map behavior button value to index\n",
    "    behavior_ix = behavior_buttons.options.index(behavior_buttons.value)\n",
    "    # set indices of selected region to \n",
    "    if fill_values.value == \"0\":\n",
    "        plot.graphics[behavior_ix].colors[selected_ixs[0]:selected_ixs[-1]] = \"black\"\n",
    "    else:\n",
    "        plot.graphics[behavior_ix].colors[selected_ixs[0]:selected_ixs[-1]] = ETHOGRAM_COLORS[behavior_buttons.value]"
   ]
  },
  {
   "cell_type": "code",
   "execution_count": 17,
   "id": "87dc02d5-04e5-4573-8835-ad5f1d28e8fc",
   "metadata": {
    "tags": []
   },
   "outputs": [],
   "source": [
    "def save_new_ethogram(obj):\n",
    "    # create new ethogram based off of indices that are not black\n",
    "    trial_length = ethograms[trial_selector.value][0].shape[0]\n",
    "    new_ethogram = np.zeros(shape=(6, trial_length))\n",
    "    for i, graphic in enumerate(plot.graphics):\n",
    "        non_zero_ixs = np.where(plot.graphics[i].colors[:] != np.array([0, 0, 0, 1]))[0]\n",
    "        new_ethogram[i][non_zero_ixs] = 1\n",
    "    # check if key in clean_df\n",
    "    if trial_selector.value in trial_selector.value in list(clean_df[\"trial\"]):\n",
    "        ix = clean_df.loc[clean_df[\"trial\"] == trial_selector.value].index[0]\n",
    "        clean_df.loc[ix, \"cleaned_ethogram\"] = new_ethogram\n",
    "    # else add to end of df\n",
    "    else:\n",
    "         clean_df.loc[len(clean_df.index)] = [trial_selector.value, new_ethogram]\n",
    "    # set df_marked[trial_selector.value] = \"good\"\n",
    "    ix = mark_trials_df.loc[mark_trials_df[\"trial\"]==trial_selector.value].index[0]\n",
    "    mark_trials_df.loc[ix, \"mark\"] = \"good\"\n",
    "    mark_trials_df.to_hdf('/data/caitlin/mark_trials.hdf', key='df')\n",
    "    # save clean_df to disk\n",
    "    clean_df.to_hdf('/data/caitlin/cleaned_ethograms.hdf', key='df')"
   ]
  },
  {
   "cell_type": "code",
   "execution_count": 18,
   "id": "0915a1a3-94f8-44bb-a315-cf5ddec86273",
   "metadata": {
    "tags": []
   },
   "outputs": [],
   "source": [
    "def reset_ethogram(obj):\n",
    "    old_ethogram = ethograms[trial_selector.value]\n",
    "    for i, graphic in enumerate(plot.graphics):\n",
    "        graphic.colors[old_ethogram[i] == 1] = list(ETHOGRAM_COLORS.values())[i]\n",
    "    ix = mark_trials_df.loc[mark_trials_df[\"trial\"]==trial_selector.value].index[0]\n",
    "    mark_trials_df.loc[ix, \"mark\"] = \"clean\"\n",
    "    #[mark_trials_df[\"trial\"] == trial_selector.value][\"mark\"] = \"clean\"\n",
    "    mark_trials_df.to_hdf('/data/caitlin/mark_trials.hdf', key='df')"
   ]
  },
  {
   "cell_type": "code",
   "execution_count": 19,
   "id": "19b34407-9210-4a42-9efc-8f5988317146",
   "metadata": {
    "tags": []
   },
   "outputs": [],
   "source": [
    "# radio buttons to click which behavior needs to be changed \n",
    "behavior_buttons = RadioButtons(options=[\"lift\", \"handopen\", \"grab\", \"sup\", \"atmouth\", \"chew\"], layout=Layout(width='auto'))\n",
    "# radio button to check whether the value should be changed to zero or 1\n",
    "fill_values = RadioButtons(options=[\"0\", \"1\"], layout=Layout(width='auto'))\n",
    "# button to clean the ethogram based on the values of the radio buttons\n",
    "clean_button = Button(value=False, disabled=False, icon='broom',\n",
    "                                       layout=Layout(width='auto'), tooltip='clean ethogram')\n",
    "clean_button.on_click(clean_ethogram)\n",
    "# save button to save new ethogram to cleaned_df and save df to disk also change the trial in marked_df to \"good\"\n",
    "save_button = Button(value=False, disabled=False, icon='save',\n",
    "                                       layout=Layout(width='auto'), tooltip='save clean ethogram')\n",
    "save_button.on_click(save_new_ethogram)\n",
    "    # check if key exists, and overwrite, otherwise add\n",
    "# reset button to reset the ethogram to what is stored in marked_df and set key of marked_df to \"clean\"\n",
    "reset_button = Button(value=False, disabled=False, icon='history',\n",
    "                                       layout=Layout(width='auto'), tooltip='reset ethogram')\n",
    "reset_button.on_click(reset_ethogram)"
   ]
  },
  {
   "cell_type": "code",
   "execution_count": 20,
   "id": "8de68572-3423-4604-8db8-f5075e3f2ca9",
   "metadata": {
    "tags": []
   },
   "outputs": [],
   "source": [
    "radio_box = HBox([behavior_buttons, fill_values])\n",
    "clean_options = HBox([reset_button, clean_button, save_button])"
   ]
  },
  {
   "cell_type": "code",
   "execution_count": 21,
   "id": "7615947f-34f5-4ac4-8307-98644b55a8ef",
   "metadata": {
    "tags": []
   },
   "outputs": [],
   "source": [
    "trial_selector = Select(options=options)\n",
    "trial_selector.observe(trial_change, \"value\")"
   ]
  },
  {
   "cell_type": "code",
   "execution_count": 22,
   "id": "ff81f45b-aaa2-4d97-90a3-621f9b16d9e6",
   "metadata": {
    "tags": []
   },
   "outputs": [
    {
     "data": {
      "application/vnd.jupyter.widget-view+json": {
       "model_id": "b5a0f6c5a7a14e788f99da0c4c34e4d0",
       "version_major": 2,
       "version_minor": 0
      },
      "text/plain": [
       "RFBOutputContext()"
      ]
     },
     "metadata": {},
     "output_type": "display_data"
    },
    {
     "name": "stderr",
     "output_type": "stream",
     "text": [
      "/home/clewis7/repos/mesmerize-core/mesmerize_core/arrays/_video.py:87: UserWarning: min not implemented for LazyTiff, returning min of 0th index\n",
      "  warn(\"min not implemented for LazyTiff, returning min of 0th index\")\n",
      "/home/clewis7/repos/mesmerize-core/mesmerize_core/arrays/_video.py:92: UserWarning: max not implemented for LazyTiff, returning min of 0th index\n",
      "  warn(\"max not implemented for LazyTiff, returning min of 0th index\")\n"
     ]
    }
   ],
   "source": [
    "iw = ImageWidget(data=[LazyVideo(data_path.joinpath(trial_selector.value).with_suffix('.avi'))])"
   ]
  },
  {
   "cell_type": "code",
   "execution_count": 23,
   "id": "006cbb15-c9b1-4f93-bc78-34a89cc78c8a",
   "metadata": {
    "tags": []
   },
   "outputs": [],
   "source": [
    "def ethogram_event_handler(ev):\n",
    "    ix = ev.pick_info[\"selected_index\"]\n",
    "    iw.sliders[\"t\"].value = ix"
   ]
  },
  {
   "cell_type": "code",
   "execution_count": 24,
   "id": "467b73a1-2b61-4913-8afa-76492743c5bd",
   "metadata": {
    "tags": []
   },
   "outputs": [
    {
     "data": {
      "application/vnd.jupyter.widget-view+json": {
       "model_id": "222482d383ab46d993787598bc635e01",
       "version_major": 2,
       "version_minor": 0
      },
      "text/plain": [
       "RFBOutputContext()"
      ]
     },
     "metadata": {},
     "output_type": "display_data"
    }
   ],
   "source": [
    "plot = Plot(size=(500, 100))\n",
    "def make_plot(plot):\n",
    "        \n",
    "    ethogram_array = ethograms[trial_selector.value]\n",
    "    y_bottom = 0\n",
    "    for i, b in enumerate(ETHOGRAM_COLORS.keys()):\n",
    "        xs = np.arange(ethogram_array.shape[1], dtype=np.float32)\n",
    "        ys = np.zeros(xs.size, dtype=np.float32)\n",
    "\n",
    "        lg = plot.add_line(\n",
    "            data=np.column_stack([xs, ys]),\n",
    "            thickness=10,\n",
    "            name=b\n",
    "        )\n",
    "\n",
    "        lg.colors = 0\n",
    "        lg.colors[ethogram_array[i] == 1] = ETHOGRAM_COLORS[b]\n",
    "\n",
    "        y_pos = (i * -10) - 1\n",
    "        lg.position_y = y_pos\n",
    "\n",
    "    ethogram_region_selector = LinearRegionSelector(\n",
    "                bounds=(0, 50),\n",
    "                limits=(0, ethogram_array.shape[1]),\n",
    "                axis=\"x\",\n",
    "                origin=(0,-25),\n",
    "                fill_color=(0, 0, 0, 0),\n",
    "                parent=lg,\n",
    "                size=(55),\n",
    "            )\n",
    "    \n",
    "    ethogram_selector = LinearSelector(\n",
    "                selection=0,\n",
    "                limits=(0, ethogram_array.shape[1]),\n",
    "                axis=\"x\",\n",
    "                parent=lg,\n",
    "                end_points=(y_bottom, y_pos),\n",
    "            )\n",
    "\n",
    "    plot.add_graphic(ethogram_selector)\n",
    "    plot.add_graphic(ethogram_region_selector)\n",
    "    ethogram_selector.selection.add_event_handler(ethogram_event_handler)"
   ]
  },
  {
   "cell_type": "code",
   "execution_count": 25,
   "id": "41be6424-44e5-4a05-8377-05e99e3952fd",
   "metadata": {
    "tags": []
   },
   "outputs": [
    {
     "data": {
      "application/vnd.jupyter.widget-view+json": {
       "model_id": "0ca2cf617e4d4dbeb735fc5de0fec282",
       "version_major": 2,
       "version_minor": 0
      },
      "text/plain": [
       "VBox(children=(HBox(children=(VBox(children=(VBox(children=(JupyterWgpuCanvas(), HBox(children=(Button(icon='e…"
      ]
     },
     "execution_count": 25,
     "metadata": {},
     "output_type": "execute_result"
    }
   ],
   "source": [
    "make_plot(plot)\n",
    "VBox([\n",
    "    HBox([iw.show(), \n",
    "          VBox([\n",
    "              trial_selector\n",
    "              ])\n",
    "            ]),\n",
    "    HBox([plot.show(),\n",
    "         VBox([radio_box, clean_options])\n",
    "         ])\n",
    "])"
   ]
  },
  {
   "cell_type": "code",
   "execution_count": 28,
   "id": "d85f0a02-4ab0-4461-8bfc-0b5f60c7e1c8",
   "metadata": {
    "tags": []
   },
   "outputs": [
    {
     "data": {
      "text/html": [
       "<div>\n",
       "<style scoped>\n",
       "    .dataframe tbody tr th:only-of-type {\n",
       "        vertical-align: middle;\n",
       "    }\n",
       "\n",
       "    .dataframe tbody tr th {\n",
       "        vertical-align: top;\n",
       "    }\n",
       "\n",
       "    .dataframe thead th {\n",
       "        text-align: right;\n",
       "    }\n",
       "</style>\n",
       "<table border=\"1\" class=\"dataframe\">\n",
       "  <thead>\n",
       "    <tr style=\"text-align: right;\">\n",
       "      <th></th>\n",
       "      <th>trial</th>\n",
       "      <th>mark</th>\n",
       "    </tr>\n",
       "  </thead>\n",
       "  <tbody>\n",
       "    <tr>\n",
       "      <th>0</th>\n",
       "      <td>M232_20170306_v024</td>\n",
       "      <td>clean</td>\n",
       "    </tr>\n",
       "    <tr>\n",
       "      <th>1</th>\n",
       "      <td>M232_20170306_v025</td>\n",
       "      <td>clean</td>\n",
       "    </tr>\n",
       "    <tr>\n",
       "      <th>3</th>\n",
       "      <td>M232_20170306_v074</td>\n",
       "      <td>good</td>\n",
       "    </tr>\n",
       "    <tr>\n",
       "      <th>4</th>\n",
       "      <td>M232_20170306_v075</td>\n",
       "      <td>clean</td>\n",
       "    </tr>\n",
       "    <tr>\n",
       "      <th>5</th>\n",
       "      <td>M232_20170306_v076</td>\n",
       "      <td>clean</td>\n",
       "    </tr>\n",
       "    <tr>\n",
       "      <th>7</th>\n",
       "      <td>M232_20170308_v028</td>\n",
       "      <td>clean</td>\n",
       "    </tr>\n",
       "    <tr>\n",
       "      <th>9</th>\n",
       "      <td>M232_20170308_v034</td>\n",
       "      <td>clean</td>\n",
       "    </tr>\n",
       "  </tbody>\n",
       "</table>\n",
       "</div>"
      ],
      "text/plain": [
       "                trial   mark\n",
       "0  M232_20170306_v024  clean\n",
       "1  M232_20170306_v025  clean\n",
       "3  M232_20170306_v074   good\n",
       "4  M232_20170306_v075  clean\n",
       "5  M232_20170306_v076  clean\n",
       "7  M232_20170308_v028  clean\n",
       "9  M232_20170308_v034  clean"
      ]
     },
     "execution_count": 28,
     "metadata": {},
     "output_type": "execute_result"
    }
   ],
   "source": [
    "mark_trials_df"
   ]
  },
  {
   "cell_type": "code",
   "execution_count": 29,
   "id": "f03744df-9dea-4c2f-ae35-a69b6b6da4b3",
   "metadata": {
    "tags": []
   },
   "outputs": [
    {
     "data": {
      "text/html": [
       "<div>\n",
       "<style scoped>\n",
       "    .dataframe tbody tr th:only-of-type {\n",
       "        vertical-align: middle;\n",
       "    }\n",
       "\n",
       "    .dataframe tbody tr th {\n",
       "        vertical-align: top;\n",
       "    }\n",
       "\n",
       "    .dataframe thead th {\n",
       "        text-align: right;\n",
       "    }\n",
       "</style>\n",
       "<table border=\"1\" class=\"dataframe\">\n",
       "  <thead>\n",
       "    <tr style=\"text-align: right;\">\n",
       "      <th></th>\n",
       "      <th>trial</th>\n",
       "      <th>cleaned_ethogram</th>\n",
       "    </tr>\n",
       "  </thead>\n",
       "  <tbody>\n",
       "    <tr>\n",
       "      <th>0</th>\n",
       "      <td>M232_20170306_v074</td>\n",
       "      <td>[[0.0, 0.0, 0.0, 0.0, 0.0, 0.0, 0.0, 0.0, 0.0,...</td>\n",
       "    </tr>\n",
       "  </tbody>\n",
       "</table>\n",
       "</div>"
      ],
      "text/plain": [
       "                trial                                   cleaned_ethogram\n",
       "0  M232_20170306_v074  [[0.0, 0.0, 0.0, 0.0, 0.0, 0.0, 0.0, 0.0, 0.0,..."
      ]
     },
     "execution_count": 29,
     "metadata": {},
     "output_type": "execute_result"
    }
   ],
   "source": [
    "clean_df"
   ]
  },
  {
   "cell_type": "code",
   "execution_count": null,
   "id": "6e3afdeb-9a45-4c23-bc46-edba3df8c8f0",
   "metadata": {},
   "outputs": [],
   "source": []
  }
 ],
 "metadata": {
  "kernelspec": {
   "display_name": "Python 3 (ipykernel)",
   "language": "python",
   "name": "python3"
  },
  "language_info": {
   "codemirror_mode": {
    "name": "ipython",
    "version": 3
   },
   "file_extension": ".py",
   "mimetype": "text/x-python",
   "name": "python",
   "nbconvert_exporter": "python",
   "pygments_lexer": "ipython3",
   "version": "3.11.3"
  }
 },
 "nbformat": 4,
 "nbformat_minor": 5
}
