{
 "cells": [
  {
   "cell_type": "markdown",
   "id": "fa8db1b9-ed4b-4f7e-96d5-7672f543fa11",
   "metadata": {},
   "source": [
    "### Notebook to clean up ethograms to be added to ground truth"
   ]
  },
  {
   "cell_type": "code",
   "execution_count": 1,
   "id": "aa244c8f-5571-4966-80bf-9eaa5cf56f7a",
   "metadata": {
    "tags": []
   },
   "outputs": [
    {
     "name": "stderr",
     "output_type": "stream",
     "text": [
      "2023-06-14 10:30:16.427906: I tensorflow/core/platform/cpu_feature_guard.cc:182] This TensorFlow binary is optimized to use available CPU instructions in performance-critical operations.\n",
      "To enable the following instructions: AVX2 FMA, in other operations, rebuild TensorFlow with the appropriate compiler flags.\n",
      "2023-06-14 10:30:16.871009: W tensorflow/compiler/tf2tensorrt/utils/py_utils.cc:38] TF-TRT Warning: Could not find TensorRT\n"
     ]
    }
   ],
   "source": [
    "import pandas as pd\n",
    "from ipywidgets import HBox, VBox, Select, Button, Layout, RadioButtons\n",
    "from fastplotlib import ImageWidget, Plot\n",
    "from mesmerize_core.arrays import LazyVideo\n",
    "from pathlib import Path\n",
    "import numpy as np\n",
    "from fastplotlib.graphics.selectors import LinearRegionSelector, LinearSelector"
   ]
  },
  {
   "cell_type": "code",
   "execution_count": 2,
   "id": "ab298dab-7845-44e9-883e-37a1b0a8fcfa",
   "metadata": {
    "tags": []
   },
   "outputs": [],
   "source": [
    "ETHOGRAM_COLORS = {\n",
    "    \"lift\": \"b\",\n",
    "    \"handopen\": \"green\",\n",
    "    \"grab\": \"r\",\n",
    "    \"sup\": \"cyan\",\n",
    "    \"atmouth\": \"magenta\",\n",
    "    \"chew\": \"yellow\"\n",
    "}"
   ]
  },
  {
   "cell_type": "markdown",
   "id": "2219b9ad-f2cf-453c-8861-d52f1000ebbe",
   "metadata": {},
   "source": [
    "### dataframe to store cleaned ethograms"
   ]
  },
  {
   "cell_type": "code",
   "execution_count": 3,
   "id": "5e3630e2-5b1c-4f7c-b5d2-e054f0305cb8",
   "metadata": {
    "tags": []
   },
   "outputs": [
    {
     "data": {
      "text/html": [
       "<div>\n",
       "<style scoped>\n",
       "    .dataframe tbody tr th:only-of-type {\n",
       "        vertical-align: middle;\n",
       "    }\n",
       "\n",
       "    .dataframe tbody tr th {\n",
       "        vertical-align: top;\n",
       "    }\n",
       "\n",
       "    .dataframe thead th {\n",
       "        text-align: right;\n",
       "    }\n",
       "</style>\n",
       "<table border=\"1\" class=\"dataframe\">\n",
       "  <thead>\n",
       "    <tr style=\"text-align: right;\">\n",
       "      <th></th>\n",
       "      <th>trial</th>\n",
       "      <th>cleaned_ethogram</th>\n",
       "    </tr>\n",
       "  </thead>\n",
       "  <tbody>\n",
       "  </tbody>\n",
       "</table>\n",
       "</div>"
      ],
      "text/plain": [
       "Empty DataFrame\n",
       "Columns: [trial, cleaned_ethogram]\n",
       "Index: []"
      ]
     },
     "execution_count": 3,
     "metadata": {},
     "output_type": "execute_result"
    }
   ],
   "source": [
    "clean_df = pd.read_hdf('/data/caitlin/cleaned_ethograms.hdf')\n",
    "clean_df"
   ]
  },
  {
   "cell_type": "markdown",
   "id": "c7c9f67c-fad2-48e6-9d4b-4ef1eadac632",
   "metadata": {},
   "source": [
    "### load dataframe that marks which trials to be cleaned"
   ]
  },
  {
   "cell_type": "code",
   "execution_count": 4,
   "id": "049e4541-b966-4d83-83ec-2e19b40a6187",
   "metadata": {
    "tags": []
   },
   "outputs": [],
   "source": [
    "mark_trials_df = pd.read_hdf('/data/caitlin/mark_trials.hdf')\n",
    "mark_trials_df = mark_trials_df[mark_trials_df['mark'] == \"clean\"]"
   ]
  },
  {
   "cell_type": "code",
   "execution_count": 5,
   "id": "2539c067-2b19-4f65-bd96-de5a3fff07e9",
   "metadata": {
    "tags": []
   },
   "outputs": [],
   "source": [
    "options = [trial for trial in mark_trials_df[\"trial\"]]"
   ]
  },
  {
   "cell_type": "markdown",
   "id": "a0475053-0ed0-461b-a900-188cacb582af",
   "metadata": {},
   "source": [
    "### get original merged ethograms that need to be cleaned"
   ]
  },
  {
   "cell_type": "code",
   "execution_count": 6,
   "id": "2e7a8f7a-d10e-43b1-978f-2438fc216f1c",
   "metadata": {
    "tags": []
   },
   "outputs": [],
   "source": [
    "ethograms_df = pd.read_hdf(\"/data/caitlin/exactly1_hand_labels.hdf\")"
   ]
  },
  {
   "cell_type": "code",
   "execution_count": 7,
   "id": "28c4334e-3f21-4bc5-ae49-40226948bf28",
   "metadata": {
    "tags": []
   },
   "outputs": [],
   "source": [
    "ethograms = dict()"
   ]
  },
  {
   "cell_type": "code",
   "execution_count": 8,
   "id": "5b17d6a2-53f1-4c19-b707-731b4fbb7983",
   "metadata": {
    "tags": []
   },
   "outputs": [],
   "source": [
    "for row in ethograms_df.iterrows():\n",
    "    keys = row[1]['merged_ethogram'].keys()\n",
    "    for k in keys:\n",
    "        ethograms[k] = row[1]['merged_ethogram'][k]"
   ]
  },
  {
   "cell_type": "code",
   "execution_count": 9,
   "id": "537f1224-de68-40d9-a05b-1a350d1ec055",
   "metadata": {
    "tags": []
   },
   "outputs": [],
   "source": [
    "data_path = Path('/data/caitlin/potential_ground_truth/')"
   ]
  },
  {
   "cell_type": "code",
   "execution_count": 10,
   "id": "7e82ac39-b8a9-4fa8-8045-c6062d14bbbc",
   "metadata": {
    "tags": []
   },
   "outputs": [],
   "source": [
    "def trial_change(obj):\n",
    "    selected_vid = data_path.joinpath(trial_selector.value).with_suffix('.avi')\n",
    "    iw.set_data([LazyVideo(selected_vid)], reset_vmin_vmax=True)\n",
    "    plot.clear()\n",
    "    make_plot(plot)\n",
    "    plot.auto_scale()"
   ]
  },
  {
   "cell_type": "code",
   "execution_count": 11,
   "id": "ca374728-3aa7-4a5a-8636-a131e3d183dc",
   "metadata": {
    "tags": []
   },
   "outputs": [],
   "source": [
    "def clean_ethogram(obj):\n",
    "    # get indices of selected region\n",
    "    selected_ixs = plot.selectors[1].get_selected_indices(plot.graphics[0])\n",
    "    # map behavior button value to index\n",
    "    behavior_ix = behavior_buttons.options.index(behavior_buttons.value)\n",
    "    # set indices of selected region to \n",
    "    if fill_values.value == \"0\":\n",
    "        plot.graphics[behavior_ix].colors[selected_ixs[0]:selected_ixs[-1]] = \"black\"\n",
    "    else:\n",
    "        plot.graphics[behavior_ix].colors[selected_ixs[0]:selected_ixs[-1]] = ETHOGRAM_COLORS[behavior_buttons.value]"
   ]
  },
  {
   "cell_type": "code",
   "execution_count": 12,
   "id": "87dc02d5-04e5-4573-8835-ad5f1d28e8fc",
   "metadata": {
    "tags": []
   },
   "outputs": [],
   "source": [
    "def save_new_ethogram(obj):\n",
    "    # check if key in clean_df\n",
    "    # if so, overwrite\n",
    "    # else add to end of df\n",
    "    # set df_marked[trial_selector.value] = \"good\"\n",
    "    # save clean_df to disk\n",
    "    pass"
   ]
  },
  {
   "cell_type": "code",
   "execution_count": 13,
   "id": "0915a1a3-94f8-44bb-a315-cf5ddec86273",
   "metadata": {
    "tags": []
   },
   "outputs": [],
   "source": [
    "def reset_ethogram(obj):\n",
    "    # reset data of plot.graphics[0].data = ethogram[trial_selector.value]\n",
    "    # set df_marked[trial_selector.value] = \"clean\"\n",
    "    pass"
   ]
  },
  {
   "cell_type": "code",
   "execution_count": 14,
   "id": "19b34407-9210-4a42-9efc-8f5988317146",
   "metadata": {
    "tags": []
   },
   "outputs": [],
   "source": [
    "# radio buttons to click which behavior needs to be changed \n",
    "behavior_buttons = RadioButtons(options=[\"lift\", \"handopen\", \"grab\", \"sup\", \"atmouth\", \"chew\"], layout=Layout(width='auto'))\n",
    "# radio button to check whether the value should be changed to zero or 1\n",
    "fill_values = RadioButtons(options=[\"0\", \"1\"], layout=Layout(width='auto'))\n",
    "# button to clean the ethogram based on the values of the radio buttons\n",
    "clean_button = Button(value=False, disabled=False, icon='broom',\n",
    "                                       layout=Layout(width='auto'), tooltip='clean ethogram')\n",
    "clean_button.on_click(clean_ethogram)\n",
    "# save button to save new ethogram to cleaned_df and save df to disk also change the trial in marked_df to \"good\"\n",
    "save_button = Button(value=False, disabled=False, icon='save',\n",
    "                                       layout=Layout(width='auto'), tooltip='save clean ethogram')\n",
    "save_button.on_click(save_new_ethogram)\n",
    "    # check if key exists, and overwrite, otherwise add\n",
    "# reset button to reset the ethogram to what is stored in marked_df and set key of marked_df to \"clean\"\n",
    "reset_button = Button(value=False, disabled=False, icon='history',\n",
    "                                       layout=Layout(width='auto'), tooltip='reset ethogram')\n",
    "reset_button.on_click(reset_ethogram)"
   ]
  },
  {
   "cell_type": "code",
   "execution_count": 15,
   "id": "8de68572-3423-4604-8db8-f5075e3f2ca9",
   "metadata": {
    "tags": []
   },
   "outputs": [],
   "source": [
    "radio_box = HBox([behavior_buttons, fill_values])\n",
    "clean_options = HBox([reset_button, clean_button, save_button])"
   ]
  },
  {
   "cell_type": "code",
   "execution_count": 16,
   "id": "7615947f-34f5-4ac4-8307-98644b55a8ef",
   "metadata": {
    "tags": []
   },
   "outputs": [],
   "source": [
    "trial_selector = Select(options=options)\n",
    "trial_selector.observe(trial_change, \"value\")"
   ]
  },
  {
   "cell_type": "code",
   "execution_count": 17,
   "id": "ff81f45b-aaa2-4d97-90a3-621f9b16d9e6",
   "metadata": {
    "tags": []
   },
   "outputs": [
    {
     "data": {
      "application/vnd.jupyter.widget-view+json": {
       "model_id": "a0a011eb7284464a9ce4068b6f0ceed5",
       "version_major": 2,
       "version_minor": 0
      },
      "text/plain": [
       "RFBOutputContext()"
      ]
     },
     "metadata": {},
     "output_type": "display_data"
    },
    {
     "name": "stderr",
     "output_type": "stream",
     "text": [
      "/home/clewis7/repos/mesmerize-core/mesmerize_core/arrays/_video.py:87: UserWarning: min not implemented for LazyTiff, returning min of 0th index\n",
      "  warn(\"min not implemented for LazyTiff, returning min of 0th index\")\n",
      "/home/clewis7/repos/mesmerize-core/mesmerize_core/arrays/_video.py:92: UserWarning: max not implemented for LazyTiff, returning min of 0th index\n",
      "  warn(\"max not implemented for LazyTiff, returning min of 0th index\")\n"
     ]
    }
   ],
   "source": [
    "iw = ImageWidget(data=[LazyVideo(data_path.joinpath(trial_selector.value).with_suffix('.avi'))])"
   ]
  },
  {
   "cell_type": "code",
   "execution_count": 18,
   "id": "006cbb15-c9b1-4f93-bc78-34a89cc78c8a",
   "metadata": {
    "tags": []
   },
   "outputs": [],
   "source": [
    "def ethogram_event_handler(ev):\n",
    "    ix = ev.pick_info[\"selected_index\"]\n",
    "    iw.sliders[\"t\"].value = ix"
   ]
  },
  {
   "cell_type": "code",
   "execution_count": 19,
   "id": "467b73a1-2b61-4913-8afa-76492743c5bd",
   "metadata": {
    "tags": []
   },
   "outputs": [
    {
     "data": {
      "application/vnd.jupyter.widget-view+json": {
       "model_id": "03c5f7b4e59a49808baf7272638f922c",
       "version_major": 2,
       "version_minor": 0
      },
      "text/plain": [
       "RFBOutputContext()"
      ]
     },
     "metadata": {},
     "output_type": "display_data"
    }
   ],
   "source": [
    "plot = Plot(size=(500, 100))\n",
    "def make_plot(plot):\n",
    "        \n",
    "    ethogram_array = ethograms[trial_selector.value]\n",
    "    y_bottom = 0\n",
    "    for i, b in enumerate(ETHOGRAM_COLORS.keys()):\n",
    "        xs = np.arange(ethogram_array.shape[1], dtype=np.float32)\n",
    "        ys = np.zeros(xs.size, dtype=np.float32)\n",
    "\n",
    "        lg = plot.add_line(\n",
    "            data=np.column_stack([xs, ys]),\n",
    "            thickness=10,\n",
    "            name=b\n",
    "        )\n",
    "\n",
    "        lg.colors = 0\n",
    "        lg.colors[ethogram_array[i] == 1] = ETHOGRAM_COLORS[b]\n",
    "\n",
    "        y_pos = (i * -10) - 1\n",
    "        lg.position_y = y_pos\n",
    "\n",
    "    ethogram_region_selector = LinearRegionSelector(\n",
    "                bounds=(0, 50),\n",
    "                limits=(0, ethogram_array.shape[1]),\n",
    "                axis=\"x\",\n",
    "                origin=(0,-25),\n",
    "                fill_color=(0, 0, 0, 0),\n",
    "                parent=lg,\n",
    "                size=(55),\n",
    "            )\n",
    "    \n",
    "    ethogram_selector = LinearSelector(\n",
    "                selection=0,\n",
    "                limits=(0, ethogram_array.shape[1]),\n",
    "                axis=\"x\",\n",
    "                parent=lg,\n",
    "                end_points=(y_bottom, y_pos),\n",
    "            )\n",
    "\n",
    "    plot.add_graphic(ethogram_selector)\n",
    "    plot.add_graphic(ethogram_region_selector)\n",
    "    ethogram_selector.selection.add_event_handler(ethogram_event_handler)"
   ]
  },
  {
   "cell_type": "code",
   "execution_count": 20,
   "id": "41be6424-44e5-4a05-8377-05e99e3952fd",
   "metadata": {
    "tags": []
   },
   "outputs": [
    {
     "data": {
      "application/vnd.jupyter.widget-view+json": {
       "model_id": "657dfec7bcb1462fa788632a9ac98f41",
       "version_major": 2,
       "version_minor": 0
      },
      "text/plain": [
       "VBox(children=(HBox(children=(VBox(children=(VBox(children=(JupyterWgpuCanvas(), HBox(children=(Button(icon='e…"
      ]
     },
     "execution_count": 20,
     "metadata": {},
     "output_type": "execute_result"
    }
   ],
   "source": [
    "make_plot(plot)\n",
    "VBox([\n",
    "    HBox([iw.show(), \n",
    "          VBox([\n",
    "              trial_selector\n",
    "              ])\n",
    "            ]),\n",
    "    HBox([plot.show(),\n",
    "         VBox([radio_box, clean_options])\n",
    "         ])\n",
    "])"
   ]
  },
  {
   "cell_type": "code",
   "execution_count": null,
   "id": "d85f0a02-4ab0-4461-8bfc-0b5f60c7e1c8",
   "metadata": {},
   "outputs": [],
   "source": []
  }
 ],
 "metadata": {
  "kernelspec": {
   "display_name": "Python 3 (ipykernel)",
   "language": "python",
   "name": "python3"
  },
  "language_info": {
   "codemirror_mode": {
    "name": "ipython",
    "version": 3
   },
   "file_extension": ".py",
   "mimetype": "text/x-python",
   "name": "python",
   "nbconvert_exporter": "python",
   "pygments_lexer": "ipython3",
   "version": "3.11.3"
  }
 },
 "nbformat": 4,
 "nbformat_minor": 5
}
