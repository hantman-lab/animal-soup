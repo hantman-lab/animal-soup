{
 "cells": [
  {
   "cell_type": "code",
   "execution_count": 1,
   "id": "2dccf90f-6190-4b66-bcc6-c8dcdc9c8442",
   "metadata": {
    "tags": []
   },
   "outputs": [],
   "source": [
    "import os\n",
    "from pathlib import Path\n",
    "import pandas as pd"
   ]
  },
  {
   "cell_type": "code",
   "execution_count": 67,
   "id": "0f7a3603-9988-4f6f-b816-ecb55964e12d",
   "metadata": {
    "tags": []
   },
   "outputs": [],
   "source": [
    "exactly5 = pd.read_hdf('/data/caitlin/exactly5_hand_labels.hdf')\n",
    "exactly4 = pd.read_hdf('/data/caitlin/exactly4_hand_labels.hdf')\n",
    "exactly3 = pd.read_hdf('/data/caitlin/exactly3_hand_labels.hdf')\n",
    "exactly2 = pd.read_hdf('/data/caitlin/exactly2_hand_labels.hdf')\n",
    "exactly1 = pd.read_hdf('/data/caitlin/exactly1_hand_labels.hdf')"
   ]
  },
  {
   "cell_type": "code",
   "execution_count": 68,
   "id": "165048c8-2789-444d-b704-da2f1aaa14db",
   "metadata": {
    "tags": []
   },
   "outputs": [
    {
     "data": {
      "text/html": [
       "<div>\n",
       "<style scoped>\n",
       "    .dataframe tbody tr th:only-of-type {\n",
       "        vertical-align: middle;\n",
       "    }\n",
       "\n",
       "    .dataframe tbody tr th {\n",
       "        vertical-align: top;\n",
       "    }\n",
       "\n",
       "    .dataframe thead th {\n",
       "        text-align: right;\n",
       "    }\n",
       "</style>\n",
       "<table border=\"1\" class=\"dataframe\">\n",
       "  <thead>\n",
       "    <tr style=\"text-align: right;\">\n",
       "      <th></th>\n",
       "      <th>mat_path</th>\n",
       "      <th>hand_labels</th>\n",
       "      <th>jaaba_labels</th>\n",
       "      <th>merged_ethogram</th>\n",
       "    </tr>\n",
       "  </thead>\n",
       "  <tbody>\n",
       "    <tr>\n",
       "      <th>0</th>\n",
       "      <td>M232_20170307</td>\n",
       "      <td>{'M232_20170307_v065': [[0, 0, 0, 0, 0, 0, 0, ...</td>\n",
       "      <td>{'M232_20170307_v065': [[0, 0, 0, 0, 0, 0, 0, ...</td>\n",
       "      <td>{'M232_20170307_v065': [[0, 0, 0, 0, 0, 0, 0, ...</td>\n",
       "    </tr>\n",
       "    <tr>\n",
       "      <th>1</th>\n",
       "      <td>M232_20170310</td>\n",
       "      <td>{'M232_20170310_v013': [[0, 0, 0, 0, 0, 0, 0, ...</td>\n",
       "      <td>{'M232_20170310_v013': [[0, 0, 0, 0, 0, 0, 0, ...</td>\n",
       "      <td>{'M232_20170310_v013': [[0, 0, 0, 0, 0, 0, 0, ...</td>\n",
       "    </tr>\n",
       "    <tr>\n",
       "      <th>2</th>\n",
       "      <td>M234_20170328</td>\n",
       "      <td>{'M234_20170328_v007': [[0, 0, 0, 0, 0, 0, 0, ...</td>\n",
       "      <td>{'M234_20170328_v007': [[0, 0, 0, 0, 0, 0, 0, ...</td>\n",
       "      <td>{'M234_20170328_v007': [[0, 0, 0, 0, 0, 0, 0, ...</td>\n",
       "    </tr>\n",
       "    <tr>\n",
       "      <th>3</th>\n",
       "      <td>M234_20170329</td>\n",
       "      <td>{'M234_20170329_v002': [[0, 0, 0, 0, 0, 0, 0, ...</td>\n",
       "      <td>{'M234_20170329_v002': [[0, 0, 0, 0, 0, 0, 0, ...</td>\n",
       "      <td>{'M234_20170329_v002': [[0, 0, 0, 0, 0, 0, 0, ...</td>\n",
       "    </tr>\n",
       "    <tr>\n",
       "      <th>4</th>\n",
       "      <td>M234_20170403</td>\n",
       "      <td>{'M234_20170403_v002': [[0, 0, 0, 0, 0, 0, 0, ...</td>\n",
       "      <td>{'M234_20170403_v002': [[0, 0, 0, 0, 0, 0, 0, ...</td>\n",
       "      <td>{'M234_20170403_v002': [[0, 0, 0, 0, 0, 0, 0, ...</td>\n",
       "    </tr>\n",
       "    <tr>\n",
       "      <th>...</th>\n",
       "      <td>...</td>\n",
       "      <td>...</td>\n",
       "      <td>...</td>\n",
       "      <td>...</td>\n",
       "    </tr>\n",
       "    <tr>\n",
       "      <th>65</th>\n",
       "      <td>M324_20201016</td>\n",
       "      <td>{'M324_20201016_v033': [[0, 0, 0, 0, 0, 0, 0, ...</td>\n",
       "      <td>{'M324_20201016_v033': [[0, 0, 0, 0, 0, 0, 0, ...</td>\n",
       "      <td>{'M324_20201016_v033': [[0, 0, 0, 0, 0, 0, 0, ...</td>\n",
       "    </tr>\n",
       "    <tr>\n",
       "      <th>66</th>\n",
       "      <td>M326_20201110</td>\n",
       "      <td>{'M326_20201110_v029': [[0, 0, 0, 0, 0, 0, 0, ...</td>\n",
       "      <td>{'M326_20201110_v029': [[0, 0, 0, 0, 0, 0, 0, ...</td>\n",
       "      <td>{'M326_20201110_v029': [[0, 0, 0, 0, 0, 0, 0, ...</td>\n",
       "    </tr>\n",
       "    <tr>\n",
       "      <th>67</th>\n",
       "      <td>M336_20210612</td>\n",
       "      <td>{'M336_20210612_v007': [[0, 0, 0, 0, 0, 0, 0, ...</td>\n",
       "      <td>{'M336_20210612_v007': [[0, 0, 0, 0, 0, 0, 0, ...</td>\n",
       "      <td>{'M336_20210612_v007': [[0, 0, 0, 0, 0, 0, 0, ...</td>\n",
       "    </tr>\n",
       "    <tr>\n",
       "      <th>68</th>\n",
       "      <td>M336_20210613</td>\n",
       "      <td>{'M336_20210613_v035': [[0, 0, 0, 0, 0, 0, 0, ...</td>\n",
       "      <td>{'M336_20210613_v035': [[0, 0, 0, 0, 0, 0, 0, ...</td>\n",
       "      <td>{}</td>\n",
       "    </tr>\n",
       "    <tr>\n",
       "      <th>69</th>\n",
       "      <td>M336_20210619</td>\n",
       "      <td>{'M336_20210619_v001': [[0, 0, 0, 0, 0, 0, 0, ...</td>\n",
       "      <td>{'M336_20210619_v001': [[0, 0, 0, 0, 0, 0, 0, ...</td>\n",
       "      <td>{'M336_20210619_v001': [[0, 0, 0, 0, 0, 0, 0, ...</td>\n",
       "    </tr>\n",
       "  </tbody>\n",
       "</table>\n",
       "<p>70 rows × 4 columns</p>\n",
       "</div>"
      ],
      "text/plain": [
       "         mat_path                                        hand_labels   \n",
       "0   M232_20170307  {'M232_20170307_v065': [[0, 0, 0, 0, 0, 0, 0, ...  \\\n",
       "1   M232_20170310  {'M232_20170310_v013': [[0, 0, 0, 0, 0, 0, 0, ...   \n",
       "2   M234_20170328  {'M234_20170328_v007': [[0, 0, 0, 0, 0, 0, 0, ...   \n",
       "3   M234_20170329  {'M234_20170329_v002': [[0, 0, 0, 0, 0, 0, 0, ...   \n",
       "4   M234_20170403  {'M234_20170403_v002': [[0, 0, 0, 0, 0, 0, 0, ...   \n",
       "..            ...                                                ...   \n",
       "65  M324_20201016  {'M324_20201016_v033': [[0, 0, 0, 0, 0, 0, 0, ...   \n",
       "66  M326_20201110  {'M326_20201110_v029': [[0, 0, 0, 0, 0, 0, 0, ...   \n",
       "67  M336_20210612  {'M336_20210612_v007': [[0, 0, 0, 0, 0, 0, 0, ...   \n",
       "68  M336_20210613  {'M336_20210613_v035': [[0, 0, 0, 0, 0, 0, 0, ...   \n",
       "69  M336_20210619  {'M336_20210619_v001': [[0, 0, 0, 0, 0, 0, 0, ...   \n",
       "\n",
       "                                         jaaba_labels   \n",
       "0   {'M232_20170307_v065': [[0, 0, 0, 0, 0, 0, 0, ...  \\\n",
       "1   {'M232_20170310_v013': [[0, 0, 0, 0, 0, 0, 0, ...   \n",
       "2   {'M234_20170328_v007': [[0, 0, 0, 0, 0, 0, 0, ...   \n",
       "3   {'M234_20170329_v002': [[0, 0, 0, 0, 0, 0, 0, ...   \n",
       "4   {'M234_20170403_v002': [[0, 0, 0, 0, 0, 0, 0, ...   \n",
       "..                                                ...   \n",
       "65  {'M324_20201016_v033': [[0, 0, 0, 0, 0, 0, 0, ...   \n",
       "66  {'M326_20201110_v029': [[0, 0, 0, 0, 0, 0, 0, ...   \n",
       "67  {'M336_20210612_v007': [[0, 0, 0, 0, 0, 0, 0, ...   \n",
       "68  {'M336_20210613_v035': [[0, 0, 0, 0, 0, 0, 0, ...   \n",
       "69  {'M336_20210619_v001': [[0, 0, 0, 0, 0, 0, 0, ...   \n",
       "\n",
       "                                      merged_ethogram  \n",
       "0   {'M232_20170307_v065': [[0, 0, 0, 0, 0, 0, 0, ...  \n",
       "1   {'M232_20170310_v013': [[0, 0, 0, 0, 0, 0, 0, ...  \n",
       "2   {'M234_20170328_v007': [[0, 0, 0, 0, 0, 0, 0, ...  \n",
       "3   {'M234_20170329_v002': [[0, 0, 0, 0, 0, 0, 0, ...  \n",
       "4   {'M234_20170403_v002': [[0, 0, 0, 0, 0, 0, 0, ...  \n",
       "..                                                ...  \n",
       "65  {'M324_20201016_v033': [[0, 0, 0, 0, 0, 0, 0, ...  \n",
       "66  {'M326_20201110_v029': [[0, 0, 0, 0, 0, 0, 0, ...  \n",
       "67  {'M336_20210612_v007': [[0, 0, 0, 0, 0, 0, 0, ...  \n",
       "68                                                 {}  \n",
       "69  {'M336_20210619_v001': [[0, 0, 0, 0, 0, 0, 0, ...  \n",
       "\n",
       "[70 rows x 4 columns]"
      ]
     },
     "execution_count": 68,
     "metadata": {},
     "output_type": "execute_result"
    }
   ],
   "source": [
    "exactly5"
   ]
  },
  {
   "cell_type": "code",
   "execution_count": 69,
   "id": "7d1a15c6-92a1-4121-98e8-78c5b7af6e23",
   "metadata": {
    "tags": []
   },
   "outputs": [
    {
     "data": {
      "text/plain": [
       "304"
      ]
     },
     "execution_count": 69,
     "metadata": {},
     "output_type": "execute_result"
    }
   ],
   "source": [
    "exactly4\n",
    "count = 0\n",
    "for row in exactly4.iterrows():\n",
    "    count += len(row[1][\"hand_labels\"].keys())\n",
    "count"
   ]
  },
  {
   "cell_type": "code",
   "execution_count": 70,
   "id": "9f3fb96e-d88e-4042-b989-ecf82e4744b5",
   "metadata": {
    "tags": []
   },
   "outputs": [
    {
     "data": {
      "text/plain": [
       "732"
      ]
     },
     "execution_count": 70,
     "metadata": {},
     "output_type": "execute_result"
    }
   ],
   "source": [
    "exactly3\n",
    "count = 0\n",
    "for row in exactly3.iterrows():\n",
    "    count += len(row[1][\"hand_labels\"].keys())\n",
    "count"
   ]
  },
  {
   "cell_type": "code",
   "execution_count": 71,
   "id": "ec2752e6-7dc8-44e1-89eb-1bafc1391ea8",
   "metadata": {
    "tags": []
   },
   "outputs": [
    {
     "data": {
      "text/plain": [
       "1553"
      ]
     },
     "execution_count": 71,
     "metadata": {},
     "output_type": "execute_result"
    }
   ],
   "source": [
    "exactly2\n",
    "count = 0\n",
    "for row in exactly2.iterrows():\n",
    "    count += len(row[1][\"hand_labels\"].keys())\n",
    "count"
   ]
  },
  {
   "cell_type": "code",
   "execution_count": 72,
   "id": "84fc1ab1-0562-4b21-87bf-7fd23235da4b",
   "metadata": {
    "tags": []
   },
   "outputs": [
    {
     "data": {
      "text/plain": [
       "2586"
      ]
     },
     "execution_count": 72,
     "metadata": {},
     "output_type": "execute_result"
    }
   ],
   "source": [
    "exactly1\n",
    "count = 0\n",
    "for row in exactly1.iterrows():\n",
    "    count += len(row[1][\"hand_labels\"].keys())\n",
    "count"
   ]
  },
  {
   "cell_type": "code",
   "execution_count": 5,
   "id": "3c5c2b5f-8dab-4cd9-9cd3-bd70a8b069d6",
   "metadata": {
    "tags": []
   },
   "outputs": [],
   "source": [
    "pot_loc = Path('/data/caitlin/potential_ground_truth/')\n",
    "ground_loc = Path('/data/caitlin/ground_truth/')"
   ]
  },
  {
   "cell_type": "code",
   "execution_count": null,
   "id": "2254a794-3c40-4a27-85d8-5364845566b1",
   "metadata": {},
   "outputs": [],
   "source": []
  },
  {
   "cell_type": "code",
   "execution_count": 12,
   "id": "54829f3d-b8ab-4fe4-802a-65549f2c89ed",
   "metadata": {
    "tags": []
   },
   "outputs": [],
   "source": [
    "for row in exactly5.iterrows():\n",
    "    for key in row[1][\"merged_ethogram\"].keys():\n",
    "        if os.path.exists(pot_loc.joinpath(key).with_suffix('.avi')):\n",
    "            print(key)"
   ]
  },
  {
   "cell_type": "code",
   "execution_count": 13,
   "id": "0bc9d630-4d41-4981-a056-3c2c042db5c1",
   "metadata": {
    "tags": []
   },
   "outputs": [],
   "source": [
    "ground_df = pd.read_hdf('/data/caitlin/ground_truth.hdf')"
   ]
  },
  {
   "cell_type": "code",
   "execution_count": 14,
   "id": "f4717072-d6a5-422a-aced-72bbc14e83db",
   "metadata": {
    "tags": []
   },
   "outputs": [
    {
     "data": {
      "text/plain": [
       "291"
      ]
     },
     "execution_count": 14,
     "metadata": {},
     "output_type": "execute_result"
    }
   ],
   "source": [
    "len(list(ground_df[\"trial\"]))"
   ]
  },
  {
   "cell_type": "code",
   "execution_count": 15,
   "id": "8785b646-e827-44e9-b507-99cbd26dbd67",
   "metadata": {
    "tags": []
   },
   "outputs": [],
   "source": [
    "for trial in list(ground_df[\"trial\"]):\n",
    "    if not os.path.exists(ground_loc.joinpath(trial).with_suffix('.avi')):\n",
    "        print(trial)"
   ]
  },
  {
   "cell_type": "code",
   "execution_count": 16,
   "id": "c8cfa41f-8141-480a-bda0-192094c70cf8",
   "metadata": {
    "tags": []
   },
   "outputs": [],
   "source": [
    "import collections"
   ]
  },
  {
   "cell_type": "code",
   "execution_count": 20,
   "id": "f76b4faf-63ef-488d-827c-5c3106a677cf",
   "metadata": {
    "tags": []
   },
   "outputs": [
    {
     "data": {
      "text/plain": [
       "6"
      ]
     },
     "execution_count": 20,
     "metadata": {},
     "output_type": "execute_result"
    }
   ],
   "source": [
    "dups = [item for item, count in collections.Counter(list(ground_df[\"trial\"])).items() if count > 1]\n",
    "len(dups)"
   ]
  },
  {
   "cell_type": "code",
   "execution_count": 55,
   "id": "b50af91d-cb3d-4998-a3c2-463232f05a21",
   "metadata": {
    "tags": []
   },
   "outputs": [],
   "source": [
    "vids = [k.stem for k in sorted(ground_loc.glob('*.avi'))]"
   ]
  },
  {
   "cell_type": "code",
   "execution_count": 56,
   "id": "a4590227-6917-4b81-96c7-afdb47fe7289",
   "metadata": {
    "tags": []
   },
   "outputs": [],
   "source": [
    "ground_df = pd.read_hdf('/data/caitlin/ground_truth.hdf')"
   ]
  },
  {
   "cell_type": "code",
   "execution_count": 57,
   "id": "5b48b9ca-3a8c-44f8-ace5-198048dfe2fe",
   "metadata": {
    "tags": []
   },
   "outputs": [
    {
     "data": {
      "text/plain": [
       "277"
      ]
     },
     "execution_count": 57,
     "metadata": {},
     "output_type": "execute_result"
    }
   ],
   "source": [
    "len(vids)"
   ]
  },
  {
   "cell_type": "code",
   "execution_count": 59,
   "id": "98f01d70-7599-4924-8b73-80e8329a5aaf",
   "metadata": {
    "tags": []
   },
   "outputs": [
    {
     "data": {
      "text/plain": [
       "277"
      ]
     },
     "execution_count": 59,
     "metadata": {},
     "output_type": "execute_result"
    }
   ],
   "source": [
    "len(list(ground_df[\"trial\"]))"
   ]
  },
  {
   "cell_type": "code",
   "execution_count": null,
   "id": "a1a489e8-82bf-4e10-b1d8-135f51a799cf",
   "metadata": {},
   "outputs": [],
   "source": []
  }
 ],
 "metadata": {
  "kernelspec": {
   "display_name": "Python 3 (ipykernel)",
   "language": "python",
   "name": "python3"
  },
  "language_info": {
   "codemirror_mode": {
    "name": "ipython",
    "version": 3
   },
   "file_extension": ".py",
   "mimetype": "text/x-python",
   "name": "python",
   "nbconvert_exporter": "python",
   "pygments_lexer": "ipython3",
   "version": "3.11.3"
  }
 },
 "nbformat": 4,
 "nbformat_minor": 5
}
