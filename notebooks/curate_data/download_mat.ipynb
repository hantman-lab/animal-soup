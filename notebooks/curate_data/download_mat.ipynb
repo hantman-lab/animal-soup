{
 "cells": [
  {
   "cell_type": "code",
   "execution_count": 1,
   "id": "f3abb7e0-dcda-4f53-a819-49a30afae149",
   "metadata": {
    "tags": []
   },
   "outputs": [],
   "source": [
    "from pathlib import Path\n",
    "from tqdm import tqdm\n",
    "import shutil\n",
    "import os"
   ]
  },
  {
   "cell_type": "code",
   "execution_count": 2,
   "id": "0905fc43-2fc6-402d-a520-71ba7089a17b",
   "metadata": {},
   "outputs": [],
   "source": [
    "vpath = Path(\"/home/clewis7/wasabi/hantmanlab/from_tier2/Jay/videos\")"
   ]
  },
  {
   "cell_type": "code",
   "execution_count": 3,
   "id": "0af21e56-7753-41b3-9851-dbc2e046fbdd",
   "metadata": {},
   "outputs": [],
   "source": [
    "mpaths = sorted(vpath.glob(\"M*\"))"
   ]
  },
  {
   "cell_type": "code",
   "execution_count": 4,
   "id": "6ba78809-e25c-480d-bdc4-8700250f4a10",
   "metadata": {},
   "outputs": [],
   "source": [
    "post_processed = list()"
   ]
  },
  {
   "cell_type": "code",
   "execution_count": 5,
   "id": "e58a25f7-3846-4115-bc7c-49ca1f8e84e6",
   "metadata": {},
   "outputs": [
    {
     "name": "stderr",
     "output_type": "stream",
     "text": [
      "100%|██████████████████████████████████████████████████████████████████████████████████████████████████████| 150/150 [00:39<00:00,  3.83it/s]\n"
     ]
    }
   ],
   "source": [
    "for p in tqdm(mpaths):\n",
    "    jp = list(p.joinpath(\"postprocessed\").glob(\"*.mat\"))\n",
    "    if len(jp) > 0:\n",
    "        post_processed += jp"
   ]
  },
  {
   "cell_type": "code",
   "execution_count": 6,
   "id": "3ee46b3f-8382-47fb-91fc-c139a9454059",
   "metadata": {
    "tags": []
   },
   "outputs": [],
   "source": [
    "root_dir = Path(\"/data/caitlin/mat_files/\")"
   ]
  },
  {
   "cell_type": "code",
   "execution_count": 10,
   "id": "ebdbe50f-7825-4566-ba80-c687264316c6",
   "metadata": {
    "tags": []
   },
   "outputs": [
    {
     "name": "stderr",
     "output_type": "stream",
     "text": [
      "100%|██████████████████████████████████████████████████████████████████████████████████████████████████████| 702/702 [08:27<00:00,  1.38it/s]\n"
     ]
    }
   ],
   "source": [
    "for mat_file in tqdm(post_processed):\n",
    "    shutil.copy(src=mat_file, dst=root_dir.joinpath(mat_file.stem).with_suffix('.mat'))"
   ]
  },
  {
   "cell_type": "code",
   "execution_count": null,
   "id": "694e4ac1-e1bf-4c17-b60e-ed4b18a1bc69",
   "metadata": {},
   "outputs": [],
   "source": []
  }
 ],
 "metadata": {
  "kernelspec": {
   "display_name": "Python 3 (ipykernel)",
   "language": "python",
   "name": "python3"
  },
  "language_info": {
   "codemirror_mode": {
    "name": "ipython",
    "version": 3
   },
   "file_extension": ".py",
   "mimetype": "text/x-python",
   "name": "python",
   "nbconvert_exporter": "python",
   "pygments_lexer": "ipython3",
   "version": "3.11.3"
  }
 },
 "nbformat": 4,
 "nbformat_minor": 5
}
