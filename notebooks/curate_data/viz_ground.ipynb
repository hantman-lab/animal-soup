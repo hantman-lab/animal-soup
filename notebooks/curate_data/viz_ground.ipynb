{
 "cells": [
  {
   "cell_type": "markdown",
   "id": "1ffb35ec-b542-4206-bb37-c4bd42c5516d",
   "metadata": {},
   "source": [
    "### Notebook for visualization ground truth dataset\n",
    "\n",
    "For now, organized with ethograms in dictionary, and videos saved in `/data/caitlin/groud_truth`"
   ]
  },
  {
   "cell_type": "code",
   "execution_count": 1,
   "id": "27c67be9-ec6f-4272-910e-cb36b0996f4f",
   "metadata": {
    "tags": []
   },
   "outputs": [
    {
     "name": "stderr",
     "output_type": "stream",
     "text": [
      "2023-06-11 17:42:41.943300: I tensorflow/core/platform/cpu_feature_guard.cc:182] This TensorFlow binary is optimized to use available CPU instructions in performance-critical operations.\n",
      "To enable the following instructions: AVX2 FMA, in other operations, rebuild TensorFlow with the appropriate compiler flags.\n",
      "2023-06-11 17:42:42.398480: W tensorflow/compiler/tf2tensorrt/utils/py_utils.cc:38] TF-TRT Warning: Could not find TensorRT\n"
     ]
    }
   ],
   "source": [
    "import pandas as pd\n",
    "from ipywidgets import HBox, VBox, Select\n",
    "from fastplotlib import ImageWidget, Plot\n",
    "from mesmerize_core.arrays import LazyVideo\n",
    "from pathlib import Path\n",
    "import numpy as np\n",
    "from fastplotlib.graphics.selectors import LinearSelector"
   ]
  },
  {
   "cell_type": "code",
   "execution_count": 2,
   "id": "4d380f95-9ac9-4284-b824-6f9a72ac068c",
   "metadata": {
    "tags": []
   },
   "outputs": [],
   "source": [
    "ETHOGRAM_COLORS = {\n",
    "    \"lift\": \"b\",\n",
    "    \"handopen\": \"green\",\n",
    "    \"grab\": \"r\",\n",
    "    \"sup\": \"cyan\",\n",
    "    \"atmouth\": \"magenta\",\n",
    "    \"chew\": \"yellow\"\n",
    "}"
   ]
  },
  {
   "cell_type": "code",
   "execution_count": 3,
   "id": "e3af7cdc-b6a1-4f94-8aae-b59b49a1b7ab",
   "metadata": {
    "tags": []
   },
   "outputs": [],
   "source": [
    "df = pd.read_hdf(\"/data/caitlin/full_hand_labels.hdf\")"
   ]
  },
  {
   "cell_type": "code",
   "execution_count": 4,
   "id": "f67c1ea0-3033-407d-b1b3-8a3a80dc4461",
   "metadata": {
    "tags": []
   },
   "outputs": [],
   "source": [
    "ethograms = dict()"
   ]
  },
  {
   "cell_type": "code",
   "execution_count": 5,
   "id": "e53d9f96-a9e7-445a-8fa0-89edf9bbc55e",
   "metadata": {
    "tags": []
   },
   "outputs": [],
   "source": [
    "for row in df.iterrows():\n",
    "    keys = row[1]['full_hand_labels'].keys()\n",
    "    for k in keys:\n",
    "        ethograms[k] = row[1]['full_hand_labels'][k]"
   ]
  },
  {
   "cell_type": "code",
   "execution_count": 6,
   "id": "696712d2-1df5-4c8d-8483-bf8d97880313",
   "metadata": {
    "tags": []
   },
   "outputs": [],
   "source": [
    "options = [k for k in ethograms.keys()]"
   ]
  },
  {
   "cell_type": "code",
   "execution_count": 7,
   "id": "49e506f1-675d-49f3-b4f2-74719b9aeb5b",
   "metadata": {
    "tags": []
   },
   "outputs": [],
   "source": [
    "data_path = Path('/data/caitlin/ground_truth/')"
   ]
  },
  {
   "cell_type": "code",
   "execution_count": 8,
   "id": "bddad053-cfe8-42ef-b295-f06ad4f5edd9",
   "metadata": {
    "tags": []
   },
   "outputs": [],
   "source": [
    "def trial_change(obj):\n",
    "    selected_vid = data_path.joinpath(trial_selector.value).with_suffix('.avi')\n",
    "    iw.set_data([LazyVideo(selected_vid)], reset_vmin_vmax=True)\n",
    "    plot.clear()\n",
    "    make_plot(plot)\n",
    "    plot.auto_scale()"
   ]
  },
  {
   "cell_type": "code",
   "execution_count": 9,
   "id": "e0309e21-dee4-45b5-905a-fe5a9001a333",
   "metadata": {
    "tags": []
   },
   "outputs": [],
   "source": [
    "trial_selector = Select(options=options)\n",
    "trial_selector.observe(trial_change, \"value\")"
   ]
  },
  {
   "cell_type": "code",
   "execution_count": 10,
   "id": "b9882158-47d4-4580-8310-c7d47c6a6cc1",
   "metadata": {
    "tags": []
   },
   "outputs": [
    {
     "data": {
      "application/vnd.jupyter.widget-view+json": {
       "model_id": "f700c9f903904e0e8f6532ca930fd9cf",
       "version_major": 2,
       "version_minor": 0
      },
      "text/plain": [
       "RFBOutputContext()"
      ]
     },
     "metadata": {},
     "output_type": "display_data"
    },
    {
     "name": "stderr",
     "output_type": "stream",
     "text": [
      "/home/clewis7/repos/mesmerize-core/mesmerize_core/arrays/_video.py:87: UserWarning: min not implemented for LazyTiff, returning min of 0th index\n",
      "  warn(\"min not implemented for LazyTiff, returning min of 0th index\")\n",
      "/home/clewis7/repos/mesmerize-core/mesmerize_core/arrays/_video.py:92: UserWarning: max not implemented for LazyTiff, returning min of 0th index\n",
      "  warn(\"max not implemented for LazyTiff, returning min of 0th index\")\n"
     ]
    }
   ],
   "source": [
    "iw = ImageWidget(data=[LazyVideo(data_path.joinpath(trial_selector.value).with_suffix('.avi'))])"
   ]
  },
  {
   "cell_type": "code",
   "execution_count": 11,
   "id": "61fa8993-8ecc-45e6-ae82-28cc46d8dbcf",
   "metadata": {
    "tags": []
   },
   "outputs": [],
   "source": [
    "def ethogram_event_handler(ev):\n",
    "    ix = ev.pick_info[\"selected_index\"]\n",
    "    iw.sliders[\"t\"].value = ix"
   ]
  },
  {
   "cell_type": "code",
   "execution_count": 12,
   "id": "f2ad4e2a-244f-491a-bfbb-8b1689cc0866",
   "metadata": {
    "tags": []
   },
   "outputs": [
    {
     "data": {
      "application/vnd.jupyter.widget-view+json": {
       "model_id": "252b763c212648da84bb0ccedf141e53",
       "version_major": 2,
       "version_minor": 0
      },
      "text/plain": [
       "RFBOutputContext()"
      ]
     },
     "metadata": {},
     "output_type": "display_data"
    }
   ],
   "source": [
    "plot = Plot(size=(500, 100))\n",
    "def make_plot(plot):\n",
    "        \n",
    "    ethogram_array = ethograms[trial_selector.value]\n",
    "    y_bottom = 0\n",
    "    for i, b in enumerate(ETHOGRAM_COLORS.keys()):\n",
    "        xs = np.arange(ethogram_array.shape[1], dtype=np.float32)\n",
    "        ys = np.zeros(xs.size, dtype=np.float32)\n",
    "\n",
    "        lg = plot.add_line(\n",
    "            data=np.column_stack([xs, ys]),\n",
    "            thickness=10,\n",
    "            name=b\n",
    "        )\n",
    "\n",
    "        lg.colors = 0\n",
    "        lg.colors[ethogram_array[i] == 1] = ETHOGRAM_COLORS[b]\n",
    "\n",
    "        y_pos = (i * -10) - 1\n",
    "        lg.position_y = y_pos\n",
    "\n",
    "    ethogram_selector = LinearSelector(\n",
    "                selection=0,\n",
    "                limits=(0, ethogram_array.shape[1]),\n",
    "                axis=\"x\",\n",
    "                parent=lg,\n",
    "                end_points=(y_bottom, y_pos),\n",
    "            )\n",
    "\n",
    "    plot.add_graphic(ethogram_selector)\n",
    "    ethogram_selector.selection.add_event_handler(ethogram_event_handler)"
   ]
  },
  {
   "cell_type": "code",
   "execution_count": 13,
   "id": "40158118-2794-4d2a-bfb1-11111227c773",
   "metadata": {
    "tags": []
   },
   "outputs": [
    {
     "data": {
      "application/vnd.jupyter.widget-view+json": {
       "model_id": "d498df919dbb448583fa52270f9c6228",
       "version_major": 2,
       "version_minor": 0
      },
      "text/plain": [
       "VBox(children=(HBox(children=(VBox(children=(VBox(children=(JupyterWgpuCanvas(), HBox(children=(Button(icon='e…"
      ]
     },
     "execution_count": 13,
     "metadata": {},
     "output_type": "execute_result"
    }
   ],
   "source": [
    "make_plot(plot)\n",
    "VBox([\n",
    "    HBox([iw.show(), trial_selector]),\n",
    "    plot.show()\n",
    "])"
   ]
  },
  {
   "cell_type": "code",
   "execution_count": null,
   "id": "c9912814-b647-43e9-afb2-2e75b86b59c0",
   "metadata": {},
   "outputs": [],
   "source": []
  },
  {
   "cell_type": "code",
   "execution_count": null,
   "id": "4c015516-58aa-4457-afad-5db6ae5e6619",
   "metadata": {},
   "outputs": [],
   "source": []
  },
  {
   "cell_type": "code",
   "execution_count": null,
   "id": "4e9a8a16-2646-40c5-b272-7ec012315530",
   "metadata": {},
   "outputs": [],
   "source": []
  }
 ],
 "metadata": {
  "kernelspec": {
   "display_name": "Python 3 (ipykernel)",
   "language": "python",
   "name": "python3"
  },
  "language_info": {
   "codemirror_mode": {
    "name": "ipython",
    "version": 3
   },
   "file_extension": ".py",
   "mimetype": "text/x-python",
   "name": "python",
   "nbconvert_exporter": "python",
   "pygments_lexer": "ipython3",
   "version": "3.11.3"
  }
 },
 "nbformat": 4,
 "nbformat_minor": 5
}
