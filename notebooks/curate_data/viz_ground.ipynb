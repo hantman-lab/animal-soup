{
 "cells": [
  {
   "cell_type": "markdown",
   "id": "1ffb35ec-b542-4206-bb37-c4bd42c5516d",
   "metadata": {},
   "source": [
    "### Notebook for visualization ground truth dataset\n",
    "\n",
    "For now, organized with ethograms in dictionary, and videos saved in `/data/caitlin/groud_truth`"
   ]
  },
  {
   "cell_type": "code",
   "execution_count": 1,
   "id": "27c67be9-ec6f-4272-910e-cb36b0996f4f",
   "metadata": {
    "tags": []
   },
   "outputs": [
    {
     "name": "stderr",
     "output_type": "stream",
     "text": [
      "2023-06-13 14:25:54.557795: I tensorflow/core/platform/cpu_feature_guard.cc:182] This TensorFlow binary is optimized to use available CPU instructions in performance-critical operations.\n",
      "To enable the following instructions: AVX2 FMA, in other operations, rebuild TensorFlow with the appropriate compiler flags.\n",
      "2023-06-13 14:25:55.003083: W tensorflow/compiler/tf2tensorrt/utils/py_utils.cc:38] TF-TRT Warning: Could not find TensorRT\n"
     ]
    }
   ],
   "source": [
    "import pandas as pd\n",
    "from ipywidgets import HBox, VBox, Select\n",
    "from fastplotlib import ImageWidget, Plot\n",
    "from mesmerize_core.arrays import LazyVideo\n",
    "from pathlib import Path\n",
    "import numpy as np\n",
    "from fastplotlib.graphics.selectors import LinearSelector\n",
    "from fastplotlib.graphics import ImageGraphic"
   ]
  },
  {
   "cell_type": "code",
   "execution_count": 2,
   "id": "4d380f95-9ac9-4284-b824-6f9a72ac068c",
   "metadata": {
    "tags": []
   },
   "outputs": [],
   "source": [
    "ETHOGRAM_COLORS = {\n",
    "    \"lift\": \"b\",\n",
    "    \"handopen\": \"green\",\n",
    "    \"grab\": \"r\",\n",
    "    \"sup\": \"cyan\",\n",
    "    \"atmouth\": \"magenta\",\n",
    "    \"chew\": \"yellow\"\n",
    "}"
   ]
  },
  {
   "cell_type": "code",
   "execution_count": 15,
   "id": "e3af7cdc-b6a1-4f94-8aae-b59b49a1b7ab",
   "metadata": {
    "tags": []
   },
   "outputs": [
    {
     "data": {
      "text/html": [
       "<div>\n",
       "<style scoped>\n",
       "    .dataframe tbody tr th:only-of-type {\n",
       "        vertical-align: middle;\n",
       "    }\n",
       "\n",
       "    .dataframe tbody tr th {\n",
       "        vertical-align: top;\n",
       "    }\n",
       "\n",
       "    .dataframe thead th {\n",
       "        text-align: right;\n",
       "    }\n",
       "</style>\n",
       "<table border=\"1\" class=\"dataframe\">\n",
       "  <thead>\n",
       "    <tr style=\"text-align: right;\">\n",
       "      <th></th>\n",
       "      <th>mat_path</th>\n",
       "      <th>full_hand_labels</th>\n",
       "    </tr>\n",
       "  </thead>\n",
       "  <tbody>\n",
       "    <tr>\n",
       "      <th>0</th>\n",
       "      <td>M234_20170328</td>\n",
       "      <td>{'M234_20170328_v004': [[0, 0, 0, 0, 0, 0, 0, ...</td>\n",
       "    </tr>\n",
       "    <tr>\n",
       "      <th>1</th>\n",
       "      <td>M234_20170331</td>\n",
       "      <td>{'M234_20170331_v001': [[0, 0, 0, 0, 0, 0, 0, ...</td>\n",
       "    </tr>\n",
       "    <tr>\n",
       "      <th>2</th>\n",
       "      <td>M234_20170403</td>\n",
       "      <td>{'M234_20170403_v001': [[0, 0, 0, 0, 0, 0, 0, ...</td>\n",
       "    </tr>\n",
       "    <tr>\n",
       "      <th>3</th>\n",
       "      <td>M234_20170412</td>\n",
       "      <td>{'M234_20170412_v001': [[0, 0, 0, 0, 0, 0, 0, ...</td>\n",
       "    </tr>\n",
       "    <tr>\n",
       "      <th>4</th>\n",
       "      <td>M234_20170414</td>\n",
       "      <td>{'M234_20170414_v002': [[0, 0, 0, 0, 0, 0, 0, ...</td>\n",
       "    </tr>\n",
       "    <tr>\n",
       "      <th>...</th>\n",
       "      <td>...</td>\n",
       "      <td>...</td>\n",
       "    </tr>\n",
       "    <tr>\n",
       "      <th>84</th>\n",
       "      <td>M326_20201110</td>\n",
       "      <td>{'M326_20201110_v001': [[0, 0, 0, 0, 0, 0, 0, ...</td>\n",
       "    </tr>\n",
       "    <tr>\n",
       "      <th>85</th>\n",
       "      <td>M328_20201130_2500</td>\n",
       "      <td>{'M328_20201130_v001': [[0, 0, 0, 0, 0, 0, 0, ...</td>\n",
       "    </tr>\n",
       "    <tr>\n",
       "      <th>86</th>\n",
       "      <td>M336_20210612</td>\n",
       "      <td>{'M336_20210612_v001': [[0, 0, 0, 0, 0, 0, 0, ...</td>\n",
       "    </tr>\n",
       "    <tr>\n",
       "      <th>87</th>\n",
       "      <td>M336_20210613</td>\n",
       "      <td>{'M336_20210613_v001': [[0, 0, 0, 0, 0, 0, 0, ...</td>\n",
       "    </tr>\n",
       "    <tr>\n",
       "      <th>88</th>\n",
       "      <td>M236_20170817</td>\n",
       "      <td>{'M236_20170817_v003': [[0, 0, 0, 0, 0, 0, 0, ...</td>\n",
       "    </tr>\n",
       "  </tbody>\n",
       "</table>\n",
       "<p>89 rows × 2 columns</p>\n",
       "</div>"
      ],
      "text/plain": [
       "              mat_path                                   full_hand_labels\n",
       "0        M234_20170328  {'M234_20170328_v004': [[0, 0, 0, 0, 0, 0, 0, ...\n",
       "1        M234_20170331  {'M234_20170331_v001': [[0, 0, 0, 0, 0, 0, 0, ...\n",
       "2        M234_20170403  {'M234_20170403_v001': [[0, 0, 0, 0, 0, 0, 0, ...\n",
       "3        M234_20170412  {'M234_20170412_v001': [[0, 0, 0, 0, 0, 0, 0, ...\n",
       "4        M234_20170414  {'M234_20170414_v002': [[0, 0, 0, 0, 0, 0, 0, ...\n",
       "..                 ...                                                ...\n",
       "84       M326_20201110  {'M326_20201110_v001': [[0, 0, 0, 0, 0, 0, 0, ...\n",
       "85  M328_20201130_2500  {'M328_20201130_v001': [[0, 0, 0, 0, 0, 0, 0, ...\n",
       "86       M336_20210612  {'M336_20210612_v001': [[0, 0, 0, 0, 0, 0, 0, ...\n",
       "87       M336_20210613  {'M336_20210613_v001': [[0, 0, 0, 0, 0, 0, 0, ...\n",
       "88       M236_20170817  {'M236_20170817_v003': [[0, 0, 0, 0, 0, 0, 0, ...\n",
       "\n",
       "[89 rows x 2 columns]"
      ]
     },
     "execution_count": 15,
     "metadata": {},
     "output_type": "execute_result"
    }
   ],
   "source": [
    "df = pd.read_hdf(\"/data/caitlin/full_hand_labels.hdf\")\n",
    "df"
   ]
  },
  {
   "cell_type": "code",
   "execution_count": 4,
   "id": "f67c1ea0-3033-407d-b1b3-8a3a80dc4461",
   "metadata": {
    "tags": []
   },
   "outputs": [],
   "source": [
    "ethograms = dict()"
   ]
  },
  {
   "cell_type": "code",
   "execution_count": 5,
   "id": "e53d9f96-a9e7-445a-8fa0-89edf9bbc55e",
   "metadata": {
    "tags": []
   },
   "outputs": [],
   "source": [
    "for row in df.iterrows():\n",
    "    keys = row[1]['full_hand_labels'].keys()\n",
    "    for k in keys:\n",
    "        ethograms[k] = row[1]['full_hand_labels'][k]"
   ]
  },
  {
   "cell_type": "code",
   "execution_count": 6,
   "id": "696712d2-1df5-4c8d-8483-bf8d97880313",
   "metadata": {
    "tags": []
   },
   "outputs": [],
   "source": [
    "options = [k for k in ethograms.keys()]"
   ]
  },
  {
   "cell_type": "code",
   "execution_count": 7,
   "id": "cd11e85d-0e7b-4335-b67a-a6ede11b1156",
   "metadata": {
    "tags": []
   },
   "outputs": [
    {
     "data": {
      "text/plain": [
       "126"
      ]
     },
     "execution_count": 7,
     "metadata": {},
     "output_type": "execute_result"
    }
   ],
   "source": [
    "len(options)"
   ]
  },
  {
   "cell_type": "code",
   "execution_count": 8,
   "id": "49e506f1-675d-49f3-b4f2-74719b9aeb5b",
   "metadata": {
    "tags": []
   },
   "outputs": [],
   "source": [
    "data_path = Path('/data/caitlin/ground_truth/')"
   ]
  },
  {
   "cell_type": "code",
   "execution_count": 9,
   "id": "bddad053-cfe8-42ef-b295-f06ad4f5edd9",
   "metadata": {
    "tags": []
   },
   "outputs": [],
   "source": [
    "def trial_change(obj):\n",
    "    selected_vid = data_path.joinpath(trial_selector.value).with_suffix('.avi')\n",
    "    new_data = [LazyVideo(selected_vid)]\n",
    "    # iw.gridplot[0,0].clear()\n",
    "    # iw.gridplot[0,0].add_graphic(ImageGraphic(new_data[0][0]))\n",
    "    iw.set_data(new_data=new_data, reset_vmin_vmax=True)\n",
    "    plot.clear()\n",
    "    make_plot(plot)\n",
    "    plot.auto_scale()"
   ]
  },
  {
   "cell_type": "code",
   "execution_count": 10,
   "id": "e0309e21-dee4-45b5-905a-fe5a9001a333",
   "metadata": {
    "tags": []
   },
   "outputs": [],
   "source": [
    "trial_selector = Select(options=options)\n",
    "trial_selector.observe(trial_change, \"value\")"
   ]
  },
  {
   "cell_type": "code",
   "execution_count": 11,
   "id": "b9882158-47d4-4580-8310-c7d47c6a6cc1",
   "metadata": {
    "tags": []
   },
   "outputs": [
    {
     "data": {
      "application/vnd.jupyter.widget-view+json": {
       "model_id": "be5cdd4f335a4916af93a49b14ab6ed9",
       "version_major": 2,
       "version_minor": 0
      },
      "text/plain": [
       "RFBOutputContext()"
      ]
     },
     "metadata": {},
     "output_type": "display_data"
    },
    {
     "name": "stderr",
     "output_type": "stream",
     "text": [
      "/home/clewis7/repos/mesmerize-core/mesmerize_core/arrays/_video.py:87: UserWarning: min not implemented for LazyTiff, returning min of 0th index\n",
      "  warn(\"min not implemented for LazyTiff, returning min of 0th index\")\n",
      "/home/clewis7/repos/mesmerize-core/mesmerize_core/arrays/_video.py:92: UserWarning: max not implemented for LazyTiff, returning min of 0th index\n",
      "  warn(\"max not implemented for LazyTiff, returning min of 0th index\")\n"
     ]
    }
   ],
   "source": [
    "iw = ImageWidget(data=[LazyVideo(data_path.joinpath(trial_selector.value).with_suffix('.avi'))])"
   ]
  },
  {
   "cell_type": "code",
   "execution_count": 12,
   "id": "61fa8993-8ecc-45e6-ae82-28cc46d8dbcf",
   "metadata": {
    "tags": []
   },
   "outputs": [],
   "source": [
    "def ethogram_event_handler(ev):\n",
    "    ix = ev.pick_info[\"selected_index\"]\n",
    "    iw.sliders[\"t\"].value = ix"
   ]
  },
  {
   "cell_type": "code",
   "execution_count": 13,
   "id": "f2ad4e2a-244f-491a-bfbb-8b1689cc0866",
   "metadata": {
    "tags": []
   },
   "outputs": [
    {
     "data": {
      "application/vnd.jupyter.widget-view+json": {
       "model_id": "d59aa1dcca7a4b38be0a80e38c1170d8",
       "version_major": 2,
       "version_minor": 0
      },
      "text/plain": [
       "RFBOutputContext()"
      ]
     },
     "metadata": {},
     "output_type": "display_data"
    }
   ],
   "source": [
    "plot = Plot(size=(500, 100))\n",
    "def make_plot(plot):\n",
    "        \n",
    "    ethogram_array = ethograms[trial_selector.value]\n",
    "    y_bottom = 0\n",
    "    for i, b in enumerate(ETHOGRAM_COLORS.keys()):\n",
    "        xs = np.arange(ethogram_array.shape[1], dtype=np.float32)\n",
    "        ys = np.zeros(xs.size, dtype=np.float32)\n",
    "\n",
    "        lg = plot.add_line(\n",
    "            data=np.column_stack([xs, ys]),\n",
    "            thickness=10,\n",
    "            name=b\n",
    "        )\n",
    "\n",
    "        lg.colors = 0\n",
    "        lg.colors[ethogram_array[i] == 1] = ETHOGRAM_COLORS[b]\n",
    "\n",
    "        y_pos = (i * -10) - 1\n",
    "        lg.position_y = y_pos\n",
    "\n",
    "    ethogram_selector = LinearSelector(\n",
    "                selection=0,\n",
    "                limits=(0, ethogram_array.shape[1]),\n",
    "                axis=\"x\",\n",
    "                parent=lg,\n",
    "                end_points=(y_bottom, y_pos),\n",
    "            )\n",
    "\n",
    "    plot.add_graphic(ethogram_selector)\n",
    "    ethogram_selector.selection.add_event_handler(ethogram_event_handler)"
   ]
  },
  {
   "cell_type": "code",
   "execution_count": 14,
   "id": "40158118-2794-4d2a-bfb1-11111227c773",
   "metadata": {
    "tags": []
   },
   "outputs": [
    {
     "data": {
      "application/vnd.jupyter.widget-view+json": {
       "model_id": "d955c2486ba84a0caa748eece9ff4f20",
       "version_major": 2,
       "version_minor": 0
      },
      "text/plain": [
       "VBox(children=(HBox(children=(VBox(children=(VBox(children=(JupyterWgpuCanvas(), HBox(children=(Button(icon='e…"
      ]
     },
     "execution_count": 14,
     "metadata": {},
     "output_type": "execute_result"
    }
   ],
   "source": [
    "make_plot(plot)\n",
    "VBox([\n",
    "    HBox([iw.show(), trial_selector]),\n",
    "    plot.show()\n",
    "])"
   ]
  },
  {
   "cell_type": "code",
   "execution_count": null,
   "id": "a86990df-cf22-4546-9839-e300b3b45ce5",
   "metadata": {},
   "outputs": [],
   "source": []
  },
  {
   "cell_type": "code",
   "execution_count": null,
   "id": "f0eed43a-5b29-4e47-8fca-7a4bca045617",
   "metadata": {},
   "outputs": [],
   "source": []
  },
  {
   "cell_type": "code",
   "execution_count": null,
   "id": "9b4cd8c1-48b0-4faa-aac1-56eae009ddc1",
   "metadata": {},
   "outputs": [],
   "source": []
  },
  {
   "cell_type": "code",
   "execution_count": null,
   "id": "7a2db65f-2a97-487c-bd7b-615fefd4ca96",
   "metadata": {},
   "outputs": [],
   "source": []
  }
 ],
 "metadata": {
  "kernelspec": {
   "display_name": "Python 3 (ipykernel)",
   "language": "python",
   "name": "python3"
  },
  "language_info": {
   "codemirror_mode": {
    "name": "ipython",
    "version": 3
   },
   "file_extension": ".py",
   "mimetype": "text/x-python",
   "name": "python",
   "nbconvert_exporter": "python",
   "pygments_lexer": "ipython3",
   "version": "3.11.3"
  }
 },
 "nbformat": 4,
 "nbformat_minor": 5
}
