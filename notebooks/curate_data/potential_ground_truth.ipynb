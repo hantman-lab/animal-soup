{
 "cells": [
  {
   "cell_type": "markdown",
   "id": "1ffb35ec-b542-4206-bb37-c4bd42c5516d",
   "metadata": {},
   "source": [
    "### Notebook for visualization potential ground truth dataset\n",
    "\n",
    "want to mark ethograms and vids that could be used for ground truth"
   ]
  },
  {
   "cell_type": "code",
   "execution_count": 1,
   "id": "27c67be9-ec6f-4272-910e-cb36b0996f4f",
   "metadata": {
    "tags": []
   },
   "outputs": [
    {
     "name": "stderr",
     "output_type": "stream",
     "text": [
      "2023-06-12 15:19:22.058645: I tensorflow/core/platform/cpu_feature_guard.cc:182] This TensorFlow binary is optimized to use available CPU instructions in performance-critical operations.\n",
      "To enable the following instructions: AVX2 FMA, in other operations, rebuild TensorFlow with the appropriate compiler flags.\n",
      "2023-06-12 15:19:22.490705: W tensorflow/compiler/tf2tensorrt/utils/py_utils.cc:38] TF-TRT Warning: Could not find TensorRT\n"
     ]
    }
   ],
   "source": [
    "import pandas as pd\n",
    "from ipywidgets import HBox, VBox, Select, Button, Layout\n",
    "from fastplotlib import ImageWidget, Plot\n",
    "from mesmerize_core.arrays import LazyVideo\n",
    "from pathlib import Path\n",
    "import numpy as np\n",
    "from fastplotlib.graphics.selectors import LinearSelector\n",
    "import pickle"
   ]
  },
  {
   "cell_type": "code",
   "execution_count": 2,
   "id": "4d380f95-9ac9-4284-b824-6f9a72ac068c",
   "metadata": {
    "tags": []
   },
   "outputs": [],
   "source": [
    "ETHOGRAM_COLORS = {\n",
    "    \"lift\": \"b\",\n",
    "    \"handopen\": \"green\",\n",
    "    \"grab\": \"r\",\n",
    "    \"sup\": \"cyan\",\n",
    "    \"atmouth\": \"magenta\",\n",
    "    \"chew\": \"yellow\"\n",
    "}"
   ]
  },
  {
   "cell_type": "code",
   "execution_count": 3,
   "id": "e3af7cdc-b6a1-4f94-8aae-b59b49a1b7ab",
   "metadata": {
    "tags": []
   },
   "outputs": [],
   "source": [
    "df = pd.read_hdf(\"/data/caitlin/exactly1_hand_labels.hdf\")"
   ]
  },
  {
   "cell_type": "code",
   "execution_count": 4,
   "id": "d7389573-5856-437f-90ea-1d2527436aba",
   "metadata": {
    "tags": []
   },
   "outputs": [
    {
     "data": {
      "text/html": [
       "<div>\n",
       "<style scoped>\n",
       "    .dataframe tbody tr th:only-of-type {\n",
       "        vertical-align: middle;\n",
       "    }\n",
       "\n",
       "    .dataframe tbody tr th {\n",
       "        vertical-align: top;\n",
       "    }\n",
       "\n",
       "    .dataframe thead th {\n",
       "        text-align: right;\n",
       "    }\n",
       "</style>\n",
       "<table border=\"1\" class=\"dataframe\">\n",
       "  <thead>\n",
       "    <tr style=\"text-align: right;\">\n",
       "      <th></th>\n",
       "      <th>mat_path</th>\n",
       "      <th>hand_labels</th>\n",
       "      <th>jaaba_labels</th>\n",
       "      <th>merged_ethogram</th>\n",
       "      <th>marked_trials</th>\n",
       "    </tr>\n",
       "  </thead>\n",
       "  <tbody>\n",
       "    <tr>\n",
       "      <th>0</th>\n",
       "      <td>M232_20170306</td>\n",
       "      <td>{'M232_20170306_v024': [[0, 0, 0, 0, 0, 0, 0, ...</td>\n",
       "      <td>{'M232_20170306_v024': [[0, 0, 0, 0, 0, 0, 0, ...</td>\n",
       "      <td>{'M232_20170306_v024': [[0, 0, 0, 0, 0, 0, 0, ...</td>\n",
       "      <td>[]</td>\n",
       "    </tr>\n",
       "    <tr>\n",
       "      <th>1</th>\n",
       "      <td>M232_20170307</td>\n",
       "      <td>{'M232_20170307_v064': [[0, 0, 0, 0, 0, 0, 0, ...</td>\n",
       "      <td>{'M232_20170307_v064': [[0, 0, 0, 0, 0, 0, 0, ...</td>\n",
       "      <td>{'M232_20170307_v064': [[0, 0, 0, 0, 0, 0, 0, ...</td>\n",
       "      <td>[]</td>\n",
       "    </tr>\n",
       "    <tr>\n",
       "      <th>2</th>\n",
       "      <td>M232_20170308</td>\n",
       "      <td>{'M232_20170308_v028': [[0, 0, 0, 0, 0, 0, 0, ...</td>\n",
       "      <td>{'M232_20170308_v028': [[0, 0, 0, 0, 0, 0, 0, ...</td>\n",
       "      <td>{'M232_20170308_v028': [[0, 0, 0, 0, 0, 0, 0, ...</td>\n",
       "      <td>[]</td>\n",
       "    </tr>\n",
       "    <tr>\n",
       "      <th>3</th>\n",
       "      <td>M232_20170314</td>\n",
       "      <td>{'M232_20170314_v029': [[0, 0, 0, 0, 0, 0, 0, ...</td>\n",
       "      <td>{'M232_20170314_v029': [[0, 0, 0, 0, 0, 0, 0, ...</td>\n",
       "      <td>{'M232_20170314_v029': [[0, 0, 0, 0, 0, 0, 0, ...</td>\n",
       "      <td>[]</td>\n",
       "    </tr>\n",
       "    <tr>\n",
       "      <th>4</th>\n",
       "      <td>M234_20170328</td>\n",
       "      <td>{'M234_20170328_v002': [[0, 0, 0, 0, 0, 0, 0, ...</td>\n",
       "      <td>{'M234_20170328_v002': [[0, 0, 0, 0, 0, 0, 0, ...</td>\n",
       "      <td>{'M234_20170328_v015': [[0, 0, 0, 0, 0, 0, 0, ...</td>\n",
       "      <td>[]</td>\n",
       "    </tr>\n",
       "    <tr>\n",
       "      <th>...</th>\n",
       "      <td>...</td>\n",
       "      <td>...</td>\n",
       "      <td>...</td>\n",
       "      <td>...</td>\n",
       "      <td>...</td>\n",
       "    </tr>\n",
       "    <tr>\n",
       "      <th>445</th>\n",
       "      <td>M240_20170724FinalChecked</td>\n",
       "      <td>{'M240_20170724_v014': [[0, 0, 0, 0, 0, 0, 0, ...</td>\n",
       "      <td>{'M240_20170724_v014': [[0, 0, 0, 0, 0, 0, 0, ...</td>\n",
       "      <td>{'M240_20170724_v014': [[0, 0, 0, 0, 0, 0, 0, ...</td>\n",
       "      <td>[]</td>\n",
       "    </tr>\n",
       "    <tr>\n",
       "      <th>446</th>\n",
       "      <td>M240_20170725FinalChecked</td>\n",
       "      <td>{'M240_20170725_v031': [[0, 0, 0, 0, 0, 0, 0, ...</td>\n",
       "      <td>{'M240_20170725_v031': [[0, 0, 0, 0, 0, 0, 0, ...</td>\n",
       "      <td>{'M240_20170725_v031': [[0, 0, 0, 0, 0, 0, 0, ...</td>\n",
       "      <td>[]</td>\n",
       "    </tr>\n",
       "    <tr>\n",
       "      <th>447</th>\n",
       "      <td>M240_20170727FinalChecked</td>\n",
       "      <td>{'M240_20170727_v007': [[0, 0, 0, 0, 0, 0, 0, ...</td>\n",
       "      <td>{'M240_20170727_v007': [[0, 0, 0, 0, 0, 0, 0, ...</td>\n",
       "      <td>{}</td>\n",
       "      <td>[]</td>\n",
       "    </tr>\n",
       "    <tr>\n",
       "      <th>448</th>\n",
       "      <td>M240_20170802FinalChecked</td>\n",
       "      <td>{'M240_20170802_v017': [[0, 0, 0, 0, 0, 0, 0, ...</td>\n",
       "      <td>{'M240_20170802_v017': [[0, 0, 0, 0, 0, 0, 0, ...</td>\n",
       "      <td>{}</td>\n",
       "      <td>[]</td>\n",
       "    </tr>\n",
       "    <tr>\n",
       "      <th>449</th>\n",
       "      <td>M240_20170807FinalChecked</td>\n",
       "      <td>{'M240_20170807_v077': [[0, 0, 0, 0, 0, 0, 0, ...</td>\n",
       "      <td>{'M240_20170807_v077': [[0, 0, 0, 0, 0, 0, 0, ...</td>\n",
       "      <td>{'M240_20170807_v077': [[0, 0, 0, 0, 0, 0, 0, ...</td>\n",
       "      <td>[]</td>\n",
       "    </tr>\n",
       "  </tbody>\n",
       "</table>\n",
       "<p>450 rows × 5 columns</p>\n",
       "</div>"
      ],
      "text/plain": [
       "                      mat_path   \n",
       "0                M232_20170306  \\\n",
       "1                M232_20170307   \n",
       "2                M232_20170308   \n",
       "3                M232_20170314   \n",
       "4                M234_20170328   \n",
       "..                         ...   \n",
       "445  M240_20170724FinalChecked   \n",
       "446  M240_20170725FinalChecked   \n",
       "447  M240_20170727FinalChecked   \n",
       "448  M240_20170802FinalChecked   \n",
       "449  M240_20170807FinalChecked   \n",
       "\n",
       "                                           hand_labels   \n",
       "0    {'M232_20170306_v024': [[0, 0, 0, 0, 0, 0, 0, ...  \\\n",
       "1    {'M232_20170307_v064': [[0, 0, 0, 0, 0, 0, 0, ...   \n",
       "2    {'M232_20170308_v028': [[0, 0, 0, 0, 0, 0, 0, ...   \n",
       "3    {'M232_20170314_v029': [[0, 0, 0, 0, 0, 0, 0, ...   \n",
       "4    {'M234_20170328_v002': [[0, 0, 0, 0, 0, 0, 0, ...   \n",
       "..                                                 ...   \n",
       "445  {'M240_20170724_v014': [[0, 0, 0, 0, 0, 0, 0, ...   \n",
       "446  {'M240_20170725_v031': [[0, 0, 0, 0, 0, 0, 0, ...   \n",
       "447  {'M240_20170727_v007': [[0, 0, 0, 0, 0, 0, 0, ...   \n",
       "448  {'M240_20170802_v017': [[0, 0, 0, 0, 0, 0, 0, ...   \n",
       "449  {'M240_20170807_v077': [[0, 0, 0, 0, 0, 0, 0, ...   \n",
       "\n",
       "                                          jaaba_labels   \n",
       "0    {'M232_20170306_v024': [[0, 0, 0, 0, 0, 0, 0, ...  \\\n",
       "1    {'M232_20170307_v064': [[0, 0, 0, 0, 0, 0, 0, ...   \n",
       "2    {'M232_20170308_v028': [[0, 0, 0, 0, 0, 0, 0, ...   \n",
       "3    {'M232_20170314_v029': [[0, 0, 0, 0, 0, 0, 0, ...   \n",
       "4    {'M234_20170328_v002': [[0, 0, 0, 0, 0, 0, 0, ...   \n",
       "..                                                 ...   \n",
       "445  {'M240_20170724_v014': [[0, 0, 0, 0, 0, 0, 0, ...   \n",
       "446  {'M240_20170725_v031': [[0, 0, 0, 0, 0, 0, 0, ...   \n",
       "447  {'M240_20170727_v007': [[0, 0, 0, 0, 0, 0, 0, ...   \n",
       "448  {'M240_20170802_v017': [[0, 0, 0, 0, 0, 0, 0, ...   \n",
       "449  {'M240_20170807_v077': [[0, 0, 0, 0, 0, 0, 0, ...   \n",
       "\n",
       "                                       merged_ethogram marked_trials  \n",
       "0    {'M232_20170306_v024': [[0, 0, 0, 0, 0, 0, 0, ...            []  \n",
       "1    {'M232_20170307_v064': [[0, 0, 0, 0, 0, 0, 0, ...            []  \n",
       "2    {'M232_20170308_v028': [[0, 0, 0, 0, 0, 0, 0, ...            []  \n",
       "3    {'M232_20170314_v029': [[0, 0, 0, 0, 0, 0, 0, ...            []  \n",
       "4    {'M234_20170328_v015': [[0, 0, 0, 0, 0, 0, 0, ...            []  \n",
       "..                                                 ...           ...  \n",
       "445  {'M240_20170724_v014': [[0, 0, 0, 0, 0, 0, 0, ...            []  \n",
       "446  {'M240_20170725_v031': [[0, 0, 0, 0, 0, 0, 0, ...            []  \n",
       "447                                                 {}            []  \n",
       "448                                                 {}            []  \n",
       "449  {'M240_20170807_v077': [[0, 0, 0, 0, 0, 0, 0, ...            []  \n",
       "\n",
       "[450 rows x 5 columns]"
      ]
     },
     "execution_count": 4,
     "metadata": {},
     "output_type": "execute_result"
    }
   ],
   "source": [
    "df"
   ]
  },
  {
   "cell_type": "code",
   "execution_count": 17,
   "id": "f67c1ea0-3033-407d-b1b3-8a3a80dc4461",
   "metadata": {
    "tags": []
   },
   "outputs": [],
   "source": [
    "ethograms = dict()"
   ]
  },
  {
   "cell_type": "code",
   "execution_count": 18,
   "id": "e53d9f96-a9e7-445a-8fa0-89edf9bbc55e",
   "metadata": {
    "tags": []
   },
   "outputs": [],
   "source": [
    "for row in df.iterrows():\n",
    "    keys = row[1]['merged_ethogram'].keys()\n",
    "    for k in keys:\n",
    "        ethograms[k] = row[1]['merged_ethogram'][k]"
   ]
  },
  {
   "cell_type": "code",
   "execution_count": 19,
   "id": "c81930c3-7c47-41ea-82de-128b1a339e1c",
   "metadata": {
    "tags": []
   },
   "outputs": [],
   "source": [
    "data_path = Path('/data/caitlin/potential_ground_truth/')\n",
    "options = [k.stem for k in sorted(data_path.glob('*.avi'))]"
   ]
  },
  {
   "cell_type": "code",
   "execution_count": 20,
   "id": "cd11e85d-0e7b-4335-b67a-a6ede11b1156",
   "metadata": {
    "tags": []
   },
   "outputs": [
    {
     "data": {
      "text/plain": [
       "1533"
      ]
     },
     "execution_count": 20,
     "metadata": {},
     "output_type": "execute_result"
    }
   ],
   "source": [
    "len(options)"
   ]
  },
  {
   "cell_type": "code",
   "execution_count": 21,
   "id": "bddad053-cfe8-42ef-b295-f06ad4f5edd9",
   "metadata": {
    "tags": []
   },
   "outputs": [],
   "source": [
    "def trial_change(obj):\n",
    "    selected_vid = data_path.joinpath(trial_selector.value).with_suffix('.avi')\n",
    "    iw.set_data([LazyVideo(selected_vid)], reset_vmin_vmax=True)\n",
    "    plot.clear()\n",
    "    make_plot(plot)\n",
    "    plot.auto_scale()"
   ]
  },
  {
   "cell_type": "code",
   "execution_count": 22,
   "id": "b81c426c-dd3b-4f32-b860-6070b41e809f",
   "metadata": {
    "tags": []
   },
   "outputs": [],
   "source": [
    "def mark_selected_trial(obj):\n",
    "    # get the row of the selected trial\n",
    "    mat_prefix = trial_selector.value.split('_v')[0]\n",
    "    if len(df[df['mat_path'] == mat_prefix].index) != 0:\n",
    "        df[df['mat_path'] == mat_prefix].iloc[-1][\"marked_trials\"].append(trial_selector.value)\n",
    "    else:\n",
    "        for row in df.iterrows():\n",
    "            if row[1]['mat_path'][0:13] == mat_prefix:\n",
    "                row[1][\"marked_trials\"].append(trial_selector.value)\n",
    "    df.to_hdf('/data/caitlin/marking_trials.hdf', key='df')"
   ]
  },
  {
   "cell_type": "code",
   "execution_count": 23,
   "id": "e0309e21-dee4-45b5-905a-fe5a9001a333",
   "metadata": {
    "tags": []
   },
   "outputs": [],
   "source": [
    "trial_selector = Select(options=options)\n",
    "trial_selector.observe(trial_change, \"value\")\n",
    "trial_button = Button(value=False, disabled=False, icon='hand-pointer',\n",
    "                                       layout=Layout(width='auto'), tooltip='select trial as train')\n",
    "trial_button.on_click(mark_selected_trial)"
   ]
  },
  {
   "cell_type": "code",
   "execution_count": 24,
   "id": "b9882158-47d4-4580-8310-c7d47c6a6cc1",
   "metadata": {
    "tags": []
   },
   "outputs": [
    {
     "data": {
      "application/vnd.jupyter.widget-view+json": {
       "model_id": "76d5e5652d2142dbbbb5f5f57c0a2e8c",
       "version_major": 2,
       "version_minor": 0
      },
      "text/plain": [
       "RFBOutputContext()"
      ]
     },
     "metadata": {},
     "output_type": "display_data"
    },
    {
     "name": "stderr",
     "output_type": "stream",
     "text": [
      "/home/clewis7/repos/mesmerize-core/mesmerize_core/arrays/_video.py:87: UserWarning: min not implemented for LazyTiff, returning min of 0th index\n",
      "  warn(\"min not implemented for LazyTiff, returning min of 0th index\")\n",
      "/home/clewis7/repos/mesmerize-core/mesmerize_core/arrays/_video.py:92: UserWarning: max not implemented for LazyTiff, returning min of 0th index\n",
      "  warn(\"max not implemented for LazyTiff, returning min of 0th index\")\n"
     ]
    }
   ],
   "source": [
    "iw = ImageWidget(data=[LazyVideo(data_path.joinpath(trial_selector.value).with_suffix('.avi'))])"
   ]
  },
  {
   "cell_type": "code",
   "execution_count": 25,
   "id": "61fa8993-8ecc-45e6-ae82-28cc46d8dbcf",
   "metadata": {
    "tags": []
   },
   "outputs": [],
   "source": [
    "def ethogram_event_handler(ev):\n",
    "    ix = ev.pick_info[\"selected_index\"]\n",
    "    iw.sliders[\"t\"].value = ix"
   ]
  },
  {
   "cell_type": "code",
   "execution_count": 26,
   "id": "f2ad4e2a-244f-491a-bfbb-8b1689cc0866",
   "metadata": {
    "tags": []
   },
   "outputs": [
    {
     "data": {
      "application/vnd.jupyter.widget-view+json": {
       "model_id": "137971fe0f8e4091bb6d5817ca892821",
       "version_major": 2,
       "version_minor": 0
      },
      "text/plain": [
       "RFBOutputContext()"
      ]
     },
     "metadata": {},
     "output_type": "display_data"
    }
   ],
   "source": [
    "plot = Plot(size=(500, 100))\n",
    "def make_plot(plot):\n",
    "        \n",
    "    ethogram_array = ethograms[trial_selector.value]\n",
    "    y_bottom = 0\n",
    "    for i, b in enumerate(ETHOGRAM_COLORS.keys()):\n",
    "        xs = np.arange(ethogram_array.shape[1], dtype=np.float32)\n",
    "        ys = np.zeros(xs.size, dtype=np.float32)\n",
    "\n",
    "        lg = plot.add_line(\n",
    "            data=np.column_stack([xs, ys]),\n",
    "            thickness=10,\n",
    "            name=b\n",
    "        )\n",
    "\n",
    "        lg.colors = 0\n",
    "        lg.colors[ethogram_array[i] == 1] = ETHOGRAM_COLORS[b]\n",
    "\n",
    "        y_pos = (i * -10) - 1\n",
    "        lg.position_y = y_pos\n",
    "\n",
    "    ethogram_selector = LinearSelector(\n",
    "                selection=0,\n",
    "                limits=(0, ethogram_array.shape[1]),\n",
    "                axis=\"x\",\n",
    "                parent=lg,\n",
    "                end_points=(y_bottom, y_pos),\n",
    "            )\n",
    "\n",
    "    plot.add_graphic(ethogram_selector)\n",
    "    ethogram_selector.selection.add_event_handler(ethogram_event_handler)"
   ]
  },
  {
   "cell_type": "code",
   "execution_count": 27,
   "id": "40158118-2794-4d2a-bfb1-11111227c773",
   "metadata": {
    "tags": []
   },
   "outputs": [
    {
     "data": {
      "application/vnd.jupyter.widget-view+json": {
       "model_id": "2f644714273345c8a067558c9f5c0f9e",
       "version_major": 2,
       "version_minor": 0
      },
      "text/plain": [
       "VBox(children=(HBox(children=(VBox(children=(VBox(children=(JupyterWgpuCanvas(), HBox(children=(Button(icon='e…"
      ]
     },
     "execution_count": 27,
     "metadata": {},
     "output_type": "execute_result"
    }
   ],
   "source": [
    "make_plot(plot)\n",
    "VBox([\n",
    "    HBox([iw.show(), \n",
    "          VBox([trial_selector,\n",
    "              trial_button])\n",
    "         ]),\n",
    "    plot.show()\n",
    "])"
   ]
  },
  {
   "cell_type": "code",
   "execution_count": 15,
   "id": "13bdf883-1724-4cfc-863b-39f8f7da29c1",
   "metadata": {
    "tags": []
   },
   "outputs": [
    {
     "data": {
      "text/plain": [
       "'M254_20180228_v009'"
      ]
     },
     "execution_count": 15,
     "metadata": {},
     "output_type": "execute_result"
    }
   ],
   "source": [
    "trial_selector.value"
   ]
  },
  {
   "cell_type": "code",
   "execution_count": 28,
   "id": "d3402b7b-f8fd-4387-a961-387cf6b363e4",
   "metadata": {
    "tags": []
   },
   "outputs": [
    {
     "data": {
      "text/plain": [
       "{'M315_20200401_v001': array([[0, 0, 0, ..., 0, 0, 0],\n",
       "        [0, 0, 0, ..., 0, 0, 0],\n",
       "        [0, 0, 0, ..., 0, 0, 0],\n",
       "        [0, 0, 0, ..., 0, 0, 0],\n",
       "        [0, 0, 0, ..., 0, 0, 0],\n",
       "        [0, 0, 0, ..., 0, 0, 0]], dtype=int16),\n",
       " 'M315_20200401_v002': array([[0, 0, 0, ..., 0, 0, 0],\n",
       "        [0, 0, 0, ..., 0, 0, 0],\n",
       "        [0, 0, 0, ..., 0, 0, 0],\n",
       "        [0, 0, 0, ..., 0, 0, 0],\n",
       "        [0, 0, 0, ..., 0, 0, 0],\n",
       "        [0, 0, 0, ..., 0, 0, 0]], dtype=int16)}"
      ]
     },
     "execution_count": 28,
     "metadata": {},
     "output_type": "execute_result"
    }
   ],
   "source": [
    "df['full_hand_labels'][76]"
   ]
  },
  {
   "cell_type": "code",
   "execution_count": null,
   "id": "a86990df-cf22-4546-9839-e300b3b45ce5",
   "metadata": {},
   "outputs": [],
   "source": []
  },
  {
   "cell_type": "code",
   "execution_count": null,
   "id": "f0eed43a-5b29-4e47-8fca-7a4bca045617",
   "metadata": {},
   "outputs": [],
   "source": []
  },
  {
   "cell_type": "code",
   "execution_count": null,
   "id": "9b4cd8c1-48b0-4faa-aac1-56eae009ddc1",
   "metadata": {},
   "outputs": [],
   "source": []
  },
  {
   "cell_type": "code",
   "execution_count": null,
   "id": "7a2db65f-2a97-487c-bd7b-615fefd4ca96",
   "metadata": {},
   "outputs": [],
   "source": []
  }
 ],
 "metadata": {
  "kernelspec": {
   "display_name": "Python 3 (ipykernel)",
   "language": "python",
   "name": "python3"
  },
  "language_info": {
   "codemirror_mode": {
    "name": "ipython",
    "version": 3
   },
   "file_extension": ".py",
   "mimetype": "text/x-python",
   "name": "python",
   "nbconvert_exporter": "python",
   "pygments_lexer": "ipython3",
   "version": "3.11.3"
  }
 },
 "nbformat": 4,
 "nbformat_minor": 5
}
