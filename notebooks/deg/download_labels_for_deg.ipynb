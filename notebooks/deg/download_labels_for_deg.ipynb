{
 "cells": [
  {
   "cell_type": "markdown",
   "id": "defb7057-45b7-4fb9-a24e-c6646ebe3d43",
   "metadata": {},
   "source": [
    "### Saving ethogram labels from jaaba into DEG for training"
   ]
  },
  {
   "cell_type": "code",
   "execution_count": 1,
   "id": "3fb0ad66-d486-4f50-b5c1-e0d70e495d41",
   "metadata": {
    "tags": []
   },
   "outputs": [
    {
     "name": "stderr",
     "output_type": "stream",
     "text": [
      "2023-05-28 12:01:46.240385: I tensorflow/core/platform/cpu_feature_guard.cc:182] This TensorFlow binary is optimized to use available CPU instructions in performance-critical operations.\n",
      "To enable the following instructions: AVX2 FMA, in other operations, rebuild TensorFlow with the appropriate compiler flags.\n",
      "2023-05-28 12:01:46.664464: W tensorflow/compiler/tf2tensorrt/utils/py_utils.cc:38] TF-TRT Warning: Could not find TensorRT\n",
      "/home/clewis7/repos/animal-soup/animal_soup/batch_utils.py:75: UserWarning: registration of accessor <class 'animal_soup.batch_utils.PathsDataFrameExtension'> under name 'paths' for type <class 'pandas.core.frame.DataFrame'> is overriding a preexisting attribute with the same name.\n",
      "  @pd.api.extensions.register_dataframe_accessor(\"paths\")\n",
      "/home/clewis7/repos/animal-soup/animal_soup/batch_utils.py:80: UserWarning: registration of accessor <class 'animal_soup.batch_utils.PathsSeriesExtension'> under name 'paths' for type <class 'pandas.core.series.Series'> is overriding a preexisting attribute with the same name.\n",
      "  @pd.api.extensions.register_series_accessor(\"paths\")\n"
     ]
    }
   ],
   "source": [
    "from animal_soup import *"
   ]
  },
  {
   "cell_type": "code",
   "execution_count": 2,
   "id": "8a9ed5d8-417c-4970-98de-3e7db25c495a",
   "metadata": {
    "tags": []
   },
   "outputs": [],
   "source": [
    "parent_path = set_parent_raw_data_path('/data/caitlin/training-vids/')"
   ]
  },
  {
   "cell_type": "code",
   "execution_count": 3,
   "id": "fce4a904-e93f-496d-885f-cbd8121f377f",
   "metadata": {
    "tags": []
   },
   "outputs": [],
   "source": [
    "animal_id = 'M235Slc17a7_Gtacr2'"
   ]
  },
  {
   "cell_type": "code",
   "execution_count": 4,
   "id": "bcfb378c-b4a9-4041-8ead-8c8359f420e4",
   "metadata": {
    "tags": []
   },
   "outputs": [],
   "source": [
    "session_id = '20170425'"
   ]
  },
  {
   "cell_type": "code",
   "execution_count": 5,
   "id": "c0bccf5b-b5d2-41b3-b02e-8f376dd69d9a",
   "metadata": {
    "tags": []
   },
   "outputs": [],
   "source": [
    "df_path = '/data/caitlin/data-frames/deg-df'"
   ]
  },
  {
   "cell_type": "code",
   "execution_count": 6,
   "id": "80c0f1da-f731-42f8-b6bc-d2b99ddcb563",
   "metadata": {
    "tags": []
   },
   "outputs": [],
   "source": [
    "df = create_df(df_path, remove_existing=True)"
   ]
  },
  {
   "cell_type": "code",
   "execution_count": 7,
   "id": "501e2535-777e-4ccb-8656-d75b20195f8d",
   "metadata": {
    "tags": []
   },
   "outputs": [
    {
     "name": "stderr",
     "output_type": "stream",
     "text": [
      "/home/clewis7/repos/animal-soup/animal_soup/_behavior.py:332: PerformanceWarning: \n",
      "your performance may suffer as PyTables will pickle object types that it cannot\n",
      "map directly to c-types [inferred_type->mixed,key->block0_values] [items->Index(['animal_id', 'session_id', 'mat_file', 'session_vids', 'notes'], dtype='object')]\n",
      "\n",
      "  self._dataframe.to_hdf(self._dataframe.paths.get_df_path(), key='df')\n"
     ]
    }
   ],
   "source": [
    "df.behavior.add_item(animal_id=animal_id, session_id=session_id)"
   ]
  },
  {
   "cell_type": "code",
   "execution_count": 8,
   "id": "42a385db-ff84-414f-be56-5b5ec6454af7",
   "metadata": {
    "tags": []
   },
   "outputs": [
    {
     "data": {
      "text/html": [
       "<div>\n",
       "<style scoped>\n",
       "    .dataframe tbody tr th:only-of-type {\n",
       "        vertical-align: middle;\n",
       "    }\n",
       "\n",
       "    .dataframe tbody tr th {\n",
       "        vertical-align: top;\n",
       "    }\n",
       "\n",
       "    .dataframe thead th {\n",
       "        text-align: right;\n",
       "    }\n",
       "</style>\n",
       "<table border=\"1\" class=\"dataframe\">\n",
       "  <thead>\n",
       "    <tr style=\"text-align: right;\">\n",
       "      <th></th>\n",
       "      <th>animal_id</th>\n",
       "      <th>session_id</th>\n",
       "      <th>mat_file</th>\n",
       "      <th>session_vids</th>\n",
       "      <th>notes</th>\n",
       "    </tr>\n",
       "  </thead>\n",
       "  <tbody>\n",
       "    <tr>\n",
       "      <th>0</th>\n",
       "      <td>M235Slc17a7_Gtacr2</td>\n",
       "      <td>20170425</td>\n",
       "      <td>/data/caitlin/training-vids/M235Slc17a7_Gtacr2...</td>\n",
       "      <td>[/data/caitlin/training-vids/M235Slc17a7_Gtacr...</td>\n",
       "      <td>None</td>\n",
       "    </tr>\n",
       "  </tbody>\n",
       "</table>\n",
       "</div>"
      ],
      "text/plain": [
       "            animal_id session_id   \n",
       "0  M235Slc17a7_Gtacr2   20170425  \\\n",
       "\n",
       "                                            mat_file   \n",
       "0  /data/caitlin/training-vids/M235Slc17a7_Gtacr2...  \\\n",
       "\n",
       "                                        session_vids notes  \n",
       "0  [/data/caitlin/training-vids/M235Slc17a7_Gtacr...  None  "
      ]
     },
     "execution_count": 8,
     "metadata": {},
     "output_type": "execute_result"
    }
   ],
   "source": [
    "df"
   ]
  },
  {
   "cell_type": "code",
   "execution_count": 9,
   "id": "35459410-dd7b-4ece-9ae3-ab96d746073b",
   "metadata": {
    "tags": []
   },
   "outputs": [
    {
     "name": "stderr",
     "output_type": "stream",
     "text": [
      "/home/clewis7/venvs/mescore/lib/python3.11/site-packages/ipydatagrid/datagrid.py:445: UserWarning: Index name of 'index' is not round-trippable.\n",
      "  schema = pd.io.json.build_table_schema(dataframe)\n"
     ]
    },
    {
     "data": {
      "application/vnd.jupyter.widget-view+json": {
       "model_id": "1b50599a27534351977e36dd8630cf88",
       "version_major": 2,
       "version_minor": 0
      },
      "text/plain": [
       "RFBOutputContext()"
      ]
     },
     "metadata": {},
     "output_type": "display_data"
    },
    {
     "name": "stderr",
     "output_type": "stream",
     "text": [
      "/home/clewis7/repos/mesmerize-core/mesmerize_core/arrays/_video.py:87: UserWarning: min not implemented for LazyTiff, returning min of 0th index\n",
      "  warn(\"min not implemented for LazyTiff, returning min of 0th index\")\n",
      "/home/clewis7/repos/mesmerize-core/mesmerize_core/arrays/_video.py:92: UserWarning: max not implemented for LazyTiff, returning min of 0th index\n",
      "  warn(\"max not implemented for LazyTiff, returning min of 0th index\")\n"
     ]
    },
    {
     "data": {
      "application/vnd.jupyter.widget-view+json": {
       "model_id": "c449946d2e694bb991130e66441b32b5",
       "version_major": 2,
       "version_minor": 0
      },
      "text/plain": [
       "RFBOutputContext()"
      ]
     },
     "metadata": {},
     "output_type": "display_data"
    }
   ],
   "source": [
    "container = df.behavior.view()"
   ]
  },
  {
   "cell_type": "code",
   "execution_count": 10,
   "id": "fad9881c-a129-42d1-9f09-f2a95aaaced9",
   "metadata": {
    "tags": []
   },
   "outputs": [
    {
     "data": {
      "application/vnd.jupyter.widget-view+json": {
       "model_id": "e0b1dd06689341868d64b868ed64c66f",
       "version_major": 2,
       "version_minor": 0
      },
      "text/plain": [
       "VBox(children=(DataGrid(auto_fit_params={'area': 'all', 'padding': 30, 'numCols': None}, base_row_size=24, col…"
      ]
     },
     "execution_count": 10,
     "metadata": {},
     "output_type": "execute_result"
    }
   ],
   "source": [
    "container.show()"
   ]
  },
  {
   "cell_type": "code",
   "execution_count": 15,
   "id": "6e765c1e-c078-45ac-8438-5bf12901878b",
   "metadata": {
    "tags": []
   },
   "outputs": [
    {
     "data": {
      "text/plain": [
       "(1998, 6)"
      ]
     },
     "execution_count": 15,
     "metadata": {},
     "output_type": "execute_result"
    }
   ],
   "source": [
    "container.ethogram_array.T.shape"
   ]
  },
  {
   "cell_type": "code",
   "execution_count": 12,
   "id": "65fed6a5-7184-4f60-a7fd-58ae69b80142",
   "metadata": {
    "tags": []
   },
   "outputs": [],
   "source": [
    "import numpy as np\n",
    "from pathlib import Path\n",
    "import pandas as pd\n",
    "import os"
   ]
  },
  {
   "cell_type": "code",
   "execution_count": 13,
   "id": "9801fb93-7915-4c53-8d10-0b9f156ee66d",
   "metadata": {
    "tags": []
   },
   "outputs": [
    {
     "data": {
      "text/html": [
       "<div>\n",
       "<style scoped>\n",
       "    .dataframe tbody tr th:only-of-type {\n",
       "        vertical-align: middle;\n",
       "    }\n",
       "\n",
       "    .dataframe tbody tr th {\n",
       "        vertical-align: top;\n",
       "    }\n",
       "\n",
       "    .dataframe thead th {\n",
       "        text-align: right;\n",
       "    }\n",
       "</style>\n",
       "<table border=\"1\" class=\"dataframe\">\n",
       "  <thead>\n",
       "    <tr style=\"text-align: right;\">\n",
       "      <th></th>\n",
       "      <th>background</th>\n",
       "      <th>lift</th>\n",
       "      <th>handopen</th>\n",
       "      <th>grab</th>\n",
       "      <th>sup</th>\n",
       "      <th>atmouth</th>\n",
       "      <th>chew</th>\n",
       "    </tr>\n",
       "  </thead>\n",
       "  <tbody>\n",
       "  </tbody>\n",
       "</table>\n",
       "</div>"
      ],
      "text/plain": [
       "Empty DataFrame\n",
       "Columns: [background, lift, handopen, grab, sup, atmouth, chew]\n",
       "Index: []"
      ]
     },
     "execution_count": 13,
     "metadata": {},
     "output_type": "execute_result"
    }
   ],
   "source": [
    "pd.DataFrame(columns=[\"background\",\"lift\", \"handopen\", \"grab\", \"sup\", \"atmouth\", \"chew\"])"
   ]
  },
  {
   "cell_type": "code",
   "execution_count": 27,
   "id": "41c9d6c9-e231-4cfe-8106-6648ad7ae9a4",
   "metadata": {
    "tags": []
   },
   "outputs": [],
   "source": [
    "from tqdm import tqdm"
   ]
  },
  {
   "cell_type": "code",
   "execution_count": 38,
   "id": "944bec2d-9816-46e7-b416-faba7163082d",
   "metadata": {
    "tags": []
   },
   "outputs": [
    {
     "name": "stderr",
     "output_type": "stream",
     "text": [
      "100%|███████████████████████████████████████████████████████████████████████████████| 70/70 [00:41<00:00,  1.69it/s]\n"
     ]
    }
   ],
   "source": [
    "mat_path = df.iloc[-1][\"mat_file\"]\n",
    "training_folder = Path('/data/caitlin/deg-jaaba/DATA/')\n",
    "for option in tqdm(container.trial_selector.options):\n",
    "    index = int(option.split('_v')[-1]) - 1\n",
    "    etho_array, behaviors = container._get_ethogram(index, mat_path)\n",
    "    etho_df = pd.DataFrame(columns=[\"background\",\"lift\", \"handopen\", \"grab\", \"sup\", \"atmouth\", \"chew\"])\n",
    "    for row in etho_array.T:\n",
    "        if sum(row) > 0:\n",
    "            background = 0\n",
    "        else:\n",
    "            background = 1\n",
    "        row = np.insert(row, 0, background)\n",
    "        etho_df.loc[etho_df.index.size] = row\n",
    "    path = training_folder.joinpath(option).joinpath(option).with_name(f'{option}_labels').with_suffix('.csv')\n",
    "    etho_df.to_csv(path_or_buf=path)"
   ]
  },
  {
   "cell_type": "code",
   "execution_count": null,
   "id": "61d34357-f30d-4fe6-a439-47cde3d2eb0e",
   "metadata": {},
   "outputs": [],
   "source": []
  }
 ],
 "metadata": {
  "kernelspec": {
   "display_name": "Python 3 (ipykernel)",
   "language": "python",
   "name": "python3"
  },
  "language_info": {
   "codemirror_mode": {
    "name": "ipython",
    "version": 3
   },
   "file_extension": ".py",
   "mimetype": "text/x-python",
   "name": "python",
   "nbconvert_exporter": "python",
   "pygments_lexer": "ipython3",
   "version": "3.11.3"
  }
 },
 "nbformat": 4,
 "nbformat_minor": 5
}
