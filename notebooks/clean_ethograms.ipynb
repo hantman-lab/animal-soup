{
 "cells": [
  {
   "cell_type": "code",
   "execution_count": 1,
   "id": "b9d2b9f9-f078-41d2-9ef7-df388cfa8c96",
   "metadata": {
    "tags": []
   },
   "outputs": [
    {
     "name": "stderr",
     "output_type": "stream",
     "text": [
      "2023-06-19 13:46:50.331049: I tensorflow/core/platform/cpu_feature_guard.cc:182] This TensorFlow binary is optimized to use available CPU instructions in performance-critical operations.\n",
      "To enable the following instructions: AVX2 FMA, in other operations, rebuild TensorFlow with the appropriate compiler flags.\n",
      "2023-06-19 13:46:50.792312: W tensorflow/compiler/tf2tensorrt/utils/py_utils.cc:38] TF-TRT Warning: Could not find TensorRT\n",
      "/home/clewis7/repos/animal-soup/animal_soup/batch_utils.py:148: UserWarning: registration of accessor <class 'animal_soup.batch_utils.PathsDataFrameExtension'> under name 'paths' for type <class 'pandas.core.frame.DataFrame'> is overriding a preexisting attribute with the same name.\n",
      "  @pd.api.extensions.register_dataframe_accessor(\"paths\")\n",
      "/home/clewis7/repos/animal-soup/animal_soup/batch_utils.py:153: UserWarning: registration of accessor <class 'animal_soup.batch_utils.PathsSeriesExtension'> under name 'paths' for type <class 'pandas.core.series.Series'> is overriding a preexisting attribute with the same name.\n",
      "  @pd.api.extensions.register_series_accessor(\"paths\")\n"
     ]
    }
   ],
   "source": [
    "from animal_soup import *\n",
    "import pandas as pd\n",
    "from pathlib import Path"
   ]
  },
  {
   "cell_type": "code",
   "execution_count": 2,
   "id": "98db399e-3de2-4f75-a3bd-5c535fccaba7",
   "metadata": {
    "tags": []
   },
   "outputs": [
    {
     "data": {
      "text/plain": [
       "PosixPath('/data/caitlin/potential_ground_truth4')"
      ]
     },
     "execution_count": 2,
     "metadata": {},
     "output_type": "execute_result"
    }
   ],
   "source": [
    "set_parent_raw_data_path('/data/caitlin/potential_ground_truth4/')"
   ]
  },
  {
   "cell_type": "code",
   "execution_count": 3,
   "id": "70880101-2421-4e84-bdb2-ecbea59e7b98",
   "metadata": {
    "tags": []
   },
   "outputs": [],
   "source": [
    "df = load_df('/data/caitlin/exactly4_hand_labels.hdf')"
   ]
  },
  {
   "cell_type": "code",
   "execution_count": 4,
   "id": "7b8d162c-fbad-4092-b695-48b3630eb377",
   "metadata": {
    "tags": []
   },
   "outputs": [
    {
     "data": {
      "text/html": [
       "<div>\n",
       "<style scoped>\n",
       "    .dataframe tbody tr th:only-of-type {\n",
       "        vertical-align: middle;\n",
       "    }\n",
       "\n",
       "    .dataframe tbody tr th {\n",
       "        vertical-align: top;\n",
       "    }\n",
       "\n",
       "    .dataframe thead th {\n",
       "        text-align: right;\n",
       "    }\n",
       "</style>\n",
       "<table border=\"1\" class=\"dataframe\">\n",
       "  <thead>\n",
       "    <tr style=\"text-align: right;\">\n",
       "      <th></th>\n",
       "      <th>animal_id</th>\n",
       "      <th>session_id</th>\n",
       "      <th>ethograms</th>\n",
       "      <th>notes</th>\n",
       "    </tr>\n",
       "  </thead>\n",
       "  <tbody>\n",
       "    <tr>\n",
       "      <th>0</th>\n",
       "      <td>M232Slc17a7_Gtacr2</td>\n",
       "      <td>20170307</td>\n",
       "      <td>{'M232_20170307_v062': [[0, 0, 0, 0, 0, 0, 0, ...</td>\n",
       "      <td>None</td>\n",
       "    </tr>\n",
       "    <tr>\n",
       "      <th>1</th>\n",
       "      <td>M232Slc17a7_Gtacr2</td>\n",
       "      <td>20170308</td>\n",
       "      <td>{'M232_20170308_v006': [[0, 0, 0, 0, 0, 0, 0, ...</td>\n",
       "      <td>None</td>\n",
       "    </tr>\n",
       "    <tr>\n",
       "      <th>2</th>\n",
       "      <td>M234Slc17a7_Gtacr2</td>\n",
       "      <td>20170329</td>\n",
       "      <td>{'M234_20170329_v001': [[0, 0, 0, 0, 0, 0, 0, ...</td>\n",
       "      <td>None</td>\n",
       "    </tr>\n",
       "    <tr>\n",
       "      <th>3</th>\n",
       "      <td>M234Slc17a7_Gtacr2</td>\n",
       "      <td>20170330</td>\n",
       "      <td>{'M234_20170330_v044': [[0, 0, 0, 0, 0, 0, 0, ...</td>\n",
       "      <td>None</td>\n",
       "    </tr>\n",
       "    <tr>\n",
       "      <th>4</th>\n",
       "      <td>M234Slc17a7_Gtacr2</td>\n",
       "      <td>20170331</td>\n",
       "      <td>{'M234_20170331_v002': [[0, 0, 0, 0, 0, 0, 0, ...</td>\n",
       "      <td>None</td>\n",
       "    </tr>\n",
       "    <tr>\n",
       "      <th>...</th>\n",
       "      <td>...</td>\n",
       "      <td>...</td>\n",
       "      <td>...</td>\n",
       "      <td>...</td>\n",
       "    </tr>\n",
       "    <tr>\n",
       "      <th>163</th>\n",
       "      <td>M336DYT1</td>\n",
       "      <td>20210612</td>\n",
       "      <td>{'M336_20210612_v006': [[0, 0, 0, 0, 0, 0, 0, ...</td>\n",
       "      <td>None</td>\n",
       "    </tr>\n",
       "    <tr>\n",
       "      <th>164</th>\n",
       "      <td>M336DYT1</td>\n",
       "      <td>20210613</td>\n",
       "      <td>{}</td>\n",
       "      <td>None</td>\n",
       "    </tr>\n",
       "    <tr>\n",
       "      <th>165</th>\n",
       "      <td>M236Slc17a7_Gtacr2</td>\n",
       "      <td>20170817</td>\n",
       "      <td>{'M236_20170817_v002': [[0, 0, 0, 0, 0, 0, 0, ...</td>\n",
       "      <td>None</td>\n",
       "    </tr>\n",
       "    <tr>\n",
       "      <th>166</th>\n",
       "      <td>M236Slc17a7_Gtacr2</td>\n",
       "      <td>20170818</td>\n",
       "      <td>{'M236_20170818_v042': [[0, 0, 0, 0, 0, 0, 0, ...</td>\n",
       "      <td>None</td>\n",
       "    </tr>\n",
       "    <tr>\n",
       "      <th>167</th>\n",
       "      <td>M238Slc17a7_Chr2</td>\n",
       "      <td>20170717</td>\n",
       "      <td>{'M238_20170717_v066': [[0, 0, 0, 0, 0, 0, 0, ...</td>\n",
       "      <td>None</td>\n",
       "    </tr>\n",
       "  </tbody>\n",
       "</table>\n",
       "<p>168 rows × 4 columns</p>\n",
       "</div>"
      ],
      "text/plain": [
       "              animal_id session_id   \n",
       "0    M232Slc17a7_Gtacr2   20170307  \\\n",
       "1    M232Slc17a7_Gtacr2   20170308   \n",
       "2    M234Slc17a7_Gtacr2   20170329   \n",
       "3    M234Slc17a7_Gtacr2   20170330   \n",
       "4    M234Slc17a7_Gtacr2   20170331   \n",
       "..                  ...        ...   \n",
       "163            M336DYT1   20210612   \n",
       "164            M336DYT1   20210613   \n",
       "165  M236Slc17a7_Gtacr2   20170817   \n",
       "166  M236Slc17a7_Gtacr2   20170818   \n",
       "167    M238Slc17a7_Chr2   20170717   \n",
       "\n",
       "                                             ethograms notes  \n",
       "0    {'M232_20170307_v062': [[0, 0, 0, 0, 0, 0, 0, ...  None  \n",
       "1    {'M232_20170308_v006': [[0, 0, 0, 0, 0, 0, 0, ...  None  \n",
       "2    {'M234_20170329_v001': [[0, 0, 0, 0, 0, 0, 0, ...  None  \n",
       "3    {'M234_20170330_v044': [[0, 0, 0, 0, 0, 0, 0, ...  None  \n",
       "4    {'M234_20170331_v002': [[0, 0, 0, 0, 0, 0, 0, ...  None  \n",
       "..                                                 ...   ...  \n",
       "163  {'M336_20210612_v006': [[0, 0, 0, 0, 0, 0, 0, ...  None  \n",
       "164                                                 {}  None  \n",
       "165  {'M236_20170817_v002': [[0, 0, 0, 0, 0, 0, 0, ...  None  \n",
       "166  {'M236_20170818_v042': [[0, 0, 0, 0, 0, 0, 0, ...  None  \n",
       "167  {'M238_20170717_v066': [[0, 0, 0, 0, 0, 0, 0, ...  None  \n",
       "\n",
       "[168 rows x 4 columns]"
      ]
     },
     "execution_count": 4,
     "metadata": {},
     "output_type": "execute_result"
    }
   ],
   "source": [
    "df"
   ]
  },
  {
   "cell_type": "code",
   "execution_count": 5,
   "id": "c2fa525e-36f6-4a61-9a12-ec9e1ebd292f",
   "metadata": {
    "tags": []
   },
   "outputs": [],
   "source": [
    "# df.drop(columns=[\"hand_labels\", \"jaaba_labels\"], inplace=True)\n",
    "# df.rename(columns={\"merged_ethogram\": \"ethograms\"}, inplace=True)"
   ]
  },
  {
   "cell_type": "code",
   "execution_count": 6,
   "id": "e2aff35f-b8f8-4eba-b6f7-502614d1f683",
   "metadata": {
    "tags": []
   },
   "outputs": [],
   "source": [
    "# df.insert(loc = 2,\n",
    "#           column = 'session_id',\n",
    "#           value = [None for i in range(len(df.index))])"
   ]
  },
  {
   "cell_type": "code",
   "execution_count": 7,
   "id": "78dbb071-74a0-4239-a0b7-febe4aa2e275",
   "metadata": {
    "tags": []
   },
   "outputs": [],
   "source": [
    "# df.to_hdf('/data/caitlin/exactly4_hand_labels.hdf', key='df')"
   ]
  },
  {
   "cell_type": "code",
   "execution_count": 8,
   "id": "5169ebc2-08b5-4204-a329-e1be80ec8bc7",
   "metadata": {},
   "outputs": [],
   "source": [
    "# for row in df.iterrows():\n",
    "#     session_id = row[1][\"mat_path\"].split('_')[-1]\n",
    "#     row[1][\"session_id\"] = session_id"
   ]
  },
  {
   "cell_type": "code",
   "execution_count": 9,
   "id": "8c806748-a443-4406-8b91-bdefed2ae6c8",
   "metadata": {
    "tags": []
   },
   "outputs": [],
   "source": [
    "# all_animals = [a.stem for a in sorted(Path('/home/clewis7/wasabi/hantmanlab/from_tier2/Jay/videos/').glob('M*'))]"
   ]
  },
  {
   "cell_type": "code",
   "execution_count": 10,
   "id": "72da51a8-97bf-420b-839e-2a0a5074238d",
   "metadata": {
    "tags": []
   },
   "outputs": [],
   "source": [
    "# all_animals.remove('Matteo')\n",
    "# all_animals.remove('M282Reachresults')\n",
    "# all_animals.remove('M235Jihong')\n",
    "# all_animals.remove('M283Necab1_Gtacr2_VAinj')\n",
    "# all_animals.remove('M284Rorb_Gtacr2_VLinj')"
   ]
  },
  {
   "cell_type": "code",
   "execution_count": 11,
   "id": "594d4657-37c2-42ec-830c-8bbe0547218d",
   "metadata": {
    "tags": []
   },
   "outputs": [],
   "source": [
    "# for row in df.iterrows():\n",
    "#     animal_id = row[1][\"mat_path\"].split('_')[0]\n",
    "#     for a in all_animals:\n",
    "#         if animal_id == a[:4]:\n",
    "#             row[1][\"animal_id\"] = a"
   ]
  },
  {
   "cell_type": "code",
   "execution_count": 12,
   "id": "069ef6ed-8789-443d-89ee-5a02562e0bcd",
   "metadata": {
    "tags": []
   },
   "outputs": [],
   "source": [
    "#df[\"notes\"] = [None for i in range(len(df.index))]"
   ]
  },
  {
   "cell_type": "code",
   "execution_count": 13,
   "id": "79dff1c8-1654-4e58-aa56-3ab193c70b04",
   "metadata": {
    "tags": []
   },
   "outputs": [],
   "source": [
    "# df.drop(columns=\"mat_path\", inplace=True)"
   ]
  },
  {
   "cell_type": "code",
   "execution_count": 14,
   "id": "197a452f-2df4-4239-84ea-4a34372fb616",
   "metadata": {
    "tags": []
   },
   "outputs": [],
   "source": [
    "# df.to_hdf('/data/caitlin/exactly4_hand_labels.hdf', key='df')"
   ]
  },
  {
   "cell_type": "code",
   "execution_count": 15,
   "id": "06ec945b-6d4a-44f8-80b8-e658c65ed03c",
   "metadata": {
    "tags": []
   },
   "outputs": [
    {
     "name": "stderr",
     "output_type": "stream",
     "text": [
      "/home/clewis7/venvs/mescore/lib/python3.11/site-packages/ipydatagrid/datagrid.py:445: UserWarning: Index name of 'index' is not round-trippable.\n",
      "  schema = pd.io.json.build_table_schema(dataframe)\n"
     ]
    },
    {
     "data": {
      "application/vnd.jupyter.widget-view+json": {
       "model_id": "ab4015a6a7a84862929fff5222e6284b",
       "version_major": 2,
       "version_minor": 0
      },
      "text/plain": [
       "RFBOutputContext()"
      ]
     },
     "metadata": {},
     "output_type": "display_data"
    },
    {
     "name": "stderr",
     "output_type": "stream",
     "text": [
      "/home/clewis7/repos/mesmerize-core/mesmerize_core/arrays/_video.py:87: UserWarning: min not implemented for LazyTiff, returning min of 0th index\n",
      "  warn(\"min not implemented for LazyTiff, returning min of 0th index\")\n",
      "/home/clewis7/repos/mesmerize-core/mesmerize_core/arrays/_video.py:92: UserWarning: max not implemented for LazyTiff, returning min of 0th index\n",
      "  warn(\"max not implemented for LazyTiff, returning min of 0th index\")\n"
     ]
    },
    {
     "data": {
      "application/vnd.jupyter.widget-view+json": {
       "model_id": "2cb1d4449c2840edb321485d408443f9",
       "version_major": 2,
       "version_minor": 0
      },
      "text/plain": [
       "RFBOutputContext()"
      ]
     },
     "metadata": {},
     "output_type": "display_data"
    },
    {
     "name": "stderr",
     "output_type": "stream",
     "text": [
      "/home/clewis7/repos/animal-soup/animal_soup/_ethogram_cleaner.py:37: PerformanceWarning: \n",
      "your performance may suffer as PyTables will pickle object types that it cannot\n",
      "map directly to c-types [inferred_type->mixed,key->block0_values] [items->Index(['animal_id', 'session_id', 'ethograms', 'notes'], dtype='object')]\n",
      "\n",
      "  self._clean_df.to_hdf(self.clean_df_path, key='df')\n"
     ]
    }
   ],
   "source": [
    "container = df.behavior.clean_ethograms()"
   ]
  },
  {
   "cell_type": "code",
   "execution_count": 16,
   "id": "82836497-7087-46e0-b169-0de49ce1a91a",
   "metadata": {
    "tags": []
   },
   "outputs": [
    {
     "data": {
      "application/vnd.jupyter.widget-view+json": {
       "model_id": "7f157f24c11e4ca4aae7a29d8720247a",
       "version_major": 2,
       "version_minor": 0
      },
      "text/plain": [
       "VBox(children=(DataGrid(auto_fit_params={'area': 'all', 'padding': 30, 'numCols': None}, base_row_size=24, col…"
      ]
     },
     "execution_count": 16,
     "metadata": {},
     "output_type": "execute_result"
    }
   ],
   "source": [
    "container.show()"
   ]
  },
  {
   "cell_type": "code",
   "execution_count": null,
   "id": "c1ceb606-21c2-407e-b003-7045bc0e1184",
   "metadata": {},
   "outputs": [],
   "source": []
  },
  {
   "cell_type": "code",
   "execution_count": 17,
   "id": "bbff7437-442d-4600-9f11-5ed0358e1d05",
   "metadata": {
    "tags": []
   },
   "outputs": [],
   "source": [
    "container.reset_ethogram()"
   ]
  },
  {
   "cell_type": "code",
   "execution_count": 23,
   "id": "9e39859c-290e-4cc2-ba7e-63e1e708d491",
   "metadata": {
    "tags": []
   },
   "outputs": [],
   "source": [
    "df = load_df('/data/caitlin/exactly4_hand_labels_cleaned.hdf')"
   ]
  },
  {
   "cell_type": "code",
   "execution_count": 24,
   "id": "7a100c56-f139-46f0-8a28-e0d45c39c57f",
   "metadata": {
    "tags": []
   },
   "outputs": [
    {
     "name": "stderr",
     "output_type": "stream",
     "text": [
      "/home/clewis7/venvs/mescore/lib/python3.11/site-packages/ipydatagrid/datagrid.py:445: UserWarning: Index name of 'index' is not round-trippable.\n",
      "  schema = pd.io.json.build_table_schema(dataframe)\n"
     ]
    },
    {
     "data": {
      "application/vnd.jupyter.widget-view+json": {
       "model_id": "bd6c776b99a149a990192691a0f2858e",
       "version_major": 2,
       "version_minor": 0
      },
      "text/plain": [
       "RFBOutputContext()"
      ]
     },
     "metadata": {},
     "output_type": "display_data"
    },
    {
     "name": "stderr",
     "output_type": "stream",
     "text": [
      "/home/clewis7/repos/mesmerize-core/mesmerize_core/arrays/_video.py:87: UserWarning: min not implemented for LazyTiff, returning min of 0th index\n",
      "  warn(\"min not implemented for LazyTiff, returning min of 0th index\")\n",
      "/home/clewis7/repos/mesmerize-core/mesmerize_core/arrays/_video.py:92: UserWarning: max not implemented for LazyTiff, returning min of 0th index\n",
      "  warn(\"max not implemented for LazyTiff, returning min of 0th index\")\n"
     ]
    },
    {
     "data": {
      "application/vnd.jupyter.widget-view+json": {
       "model_id": "c3280e12a52f45cd8c8150dc0005c69e",
       "version_major": 2,
       "version_minor": 0
      },
      "text/plain": [
       "RFBOutputContext()"
      ]
     },
     "metadata": {},
     "output_type": "display_data"
    },
    {
     "data": {
      "application/vnd.jupyter.widget-view+json": {
       "model_id": "d3148a71ba414eb7af4d8e1176fcace1",
       "version_major": 2,
       "version_minor": 0
      },
      "text/plain": [
       "VBox(children=(DataGrid(auto_fit_params={'area': 'all', 'padding': 30, 'numCols': None}, base_row_size=24, col…"
      ]
     },
     "execution_count": 24,
     "metadata": {},
     "output_type": "execute_result"
    }
   ],
   "source": [
    "df.behavior.view().show()"
   ]
  },
  {
   "cell_type": "code",
   "execution_count": null,
   "id": "77429816-728d-41c7-a345-4488046996e5",
   "metadata": {},
   "outputs": [],
   "source": []
  }
 ],
 "metadata": {
  "kernelspec": {
   "display_name": "Python 3 (ipykernel)",
   "language": "python",
   "name": "python3"
  },
  "language_info": {
   "codemirror_mode": {
    "name": "ipython",
    "version": 3
   },
   "file_extension": ".py",
   "mimetype": "text/x-python",
   "name": "python",
   "nbconvert_exporter": "python",
   "pygments_lexer": "ipython3",
   "version": "3.11.3"
  }
 },
 "nbformat": 4,
 "nbformat_minor": 5
}
