{
 "cells": [
  {
   "cell_type": "code",
   "execution_count": 1,
   "id": "382f908c-f46a-43cd-bbc1-865769937437",
   "metadata": {
    "tags": []
   },
   "outputs": [
    {
     "name": "stderr",
     "output_type": "stream",
     "text": [
      "2023-06-26 12:50:31.024822: I tensorflow/core/platform/cpu_feature_guard.cc:182] This TensorFlow binary is optimized to use available CPU instructions in performance-critical operations.\n",
      "To enable the following instructions: AVX2 FMA, in other operations, rebuild TensorFlow with the appropriate compiler flags.\n",
      "2023-06-26 12:50:31.517828: W tensorflow/compiler/tf2tensorrt/utils/py_utils.cc:38] TF-TRT Warning: Could not find TensorRT\n",
      "/home/clewis7/repos/animal-soup/animal_soup/batch_utils.py:148: UserWarning: registration of accessor <class 'animal_soup.batch_utils.PathsDataFrameExtension'> under name 'paths' for type <class 'pandas.core.frame.DataFrame'> is overriding a preexisting attribute with the same name.\n",
      "  @pd.api.extensions.register_dataframe_accessor(\"paths\")\n",
      "/home/clewis7/repos/animal-soup/animal_soup/batch_utils.py:153: UserWarning: registration of accessor <class 'animal_soup.batch_utils.PathsSeriesExtension'> under name 'paths' for type <class 'pandas.core.series.Series'> is overriding a preexisting attribute with the same name.\n",
      "  @pd.api.extensions.register_series_accessor(\"paths\")\n"
     ]
    }
   ],
   "source": [
    "import fastplotlib as fpl\n",
    "from animal_soup import *\n",
    "from pathlib import Path"
   ]
  },
  {
   "cell_type": "code",
   "execution_count": 2,
   "id": "9013f767-c78d-471e-af10-a0e2ce479125",
   "metadata": {
    "tags": []
   },
   "outputs": [
    {
     "data": {
      "text/plain": [
       "PosixPath('/data/caitlin/potential_ground_truth3')"
      ]
     },
     "execution_count": 2,
     "metadata": {},
     "output_type": "execute_result"
    }
   ],
   "source": [
    "set_parent_raw_data_path('/data/caitlin/potential_ground_truth3/')"
   ]
  },
  {
   "cell_type": "code",
   "execution_count": 10,
   "id": "1fc066f4-5469-4b98-b569-95f3db3f0677",
   "metadata": {
    "tags": []
   },
   "outputs": [],
   "source": [
    "df_path = get_parent_raw_data_path().joinpath('exactly3_trimmed.hdf')"
   ]
  },
  {
   "cell_type": "code",
   "execution_count": 11,
   "id": "cf0092ec-57b0-4324-a563-09c6e79a0987",
   "metadata": {
    "tags": []
   },
   "outputs": [],
   "source": [
    "df = load_df(df_path)"
   ]
  },
  {
   "cell_type": "code",
   "execution_count": 12,
   "id": "5bc414bb-8bba-4826-879a-6c60fc989de6",
   "metadata": {
    "tags": []
   },
   "outputs": [
    {
     "data": {
      "text/html": [
       "<div>\n",
       "<style scoped>\n",
       "    .dataframe tbody tr th:only-of-type {\n",
       "        vertical-align: middle;\n",
       "    }\n",
       "\n",
       "    .dataframe tbody tr th {\n",
       "        vertical-align: top;\n",
       "    }\n",
       "\n",
       "    .dataframe thead th {\n",
       "        text-align: right;\n",
       "    }\n",
       "</style>\n",
       "<table border=\"1\" class=\"dataframe\">\n",
       "  <thead>\n",
       "    <tr style=\"text-align: right;\">\n",
       "      <th></th>\n",
       "      <th>animal_id</th>\n",
       "      <th>session_id</th>\n",
       "      <th>ethograms</th>\n",
       "      <th>cleaned_ethograms</th>\n",
       "      <th>type</th>\n",
       "      <th>notes</th>\n",
       "    </tr>\n",
       "  </thead>\n",
       "  <tbody>\n",
       "    <tr>\n",
       "      <th>27</th>\n",
       "      <td>M235Slc17a7_Gtacr2</td>\n",
       "      <td>20170424</td>\n",
       "      <td>{'M235_20170424_v071': [[0, 0, 0, 0, 0, 0, 0, ...</td>\n",
       "      <td>{}</td>\n",
       "      <td>None</td>\n",
       "      <td>None</td>\n",
       "    </tr>\n",
       "    <tr>\n",
       "      <th>28</th>\n",
       "      <td>M235Slc17a7_Gtacr2</td>\n",
       "      <td>20170425</td>\n",
       "      <td>{'M235_20170425_v030': [[0, 0, 0, 0, 0, 0, 0, ...</td>\n",
       "      <td>{}</td>\n",
       "      <td>None</td>\n",
       "      <td>None</td>\n",
       "    </tr>\n",
       "    <tr>\n",
       "      <th>29</th>\n",
       "      <td>M235Slc17a7_Gtacr2</td>\n",
       "      <td>20170427</td>\n",
       "      <td>{'M235_20170427_v024': [[0, 0, 0, 0, 0, 0, 0, ...</td>\n",
       "      <td>{}</td>\n",
       "      <td>None</td>\n",
       "      <td>None</td>\n",
       "    </tr>\n",
       "    <tr>\n",
       "      <th>30</th>\n",
       "      <td>M235Slc17a7_Gtacr2</td>\n",
       "      <td>20170428</td>\n",
       "      <td>{'M235_20170428_v071': [[0, 0, 0, 0, 0, 0, 0, ...</td>\n",
       "      <td>{}</td>\n",
       "      <td>None</td>\n",
       "      <td>None</td>\n",
       "    </tr>\n",
       "    <tr>\n",
       "      <th>31</th>\n",
       "      <td>M235Slc17a7_Gtacr2</td>\n",
       "      <td>20170525</td>\n",
       "      <td>{'M235_20170525_v003': [[0, 0, 0, 0, 0, 0, 0, ...</td>\n",
       "      <td>{}</td>\n",
       "      <td>None</td>\n",
       "      <td>None</td>\n",
       "    </tr>\n",
       "    <tr>\n",
       "      <th>...</th>\n",
       "      <td>...</td>\n",
       "      <td>...</td>\n",
       "      <td>...</td>\n",
       "      <td>...</td>\n",
       "      <td>...</td>\n",
       "      <td>...</td>\n",
       "    </tr>\n",
       "    <tr>\n",
       "      <th>201</th>\n",
       "      <td>M238Slc17a7_Chr2</td>\n",
       "      <td>20170717</td>\n",
       "      <td>{'M238_20170717_v021': [[0, 0, 0, 0, 0, 0, 0, ...</td>\n",
       "      <td>{}</td>\n",
       "      <td>None</td>\n",
       "      <td>None</td>\n",
       "    </tr>\n",
       "    <tr>\n",
       "      <th>202</th>\n",
       "      <td>M238Slc17a7_Chr2</td>\n",
       "      <td>20170725</td>\n",
       "      <td>{'M238_20170725_v001': [[0, 0, 0, 0, 0, 0, 0, ...</td>\n",
       "      <td>{}</td>\n",
       "      <td>None</td>\n",
       "      <td>None</td>\n",
       "    </tr>\n",
       "    <tr>\n",
       "      <th>203</th>\n",
       "      <td>M238Slc17a7_Chr2</td>\n",
       "      <td>20170725</td>\n",
       "      <td>{'M238_20170725_v001': [[0, 0, 0, 0, 0, 0, 0, ...</td>\n",
       "      <td>{}</td>\n",
       "      <td>None</td>\n",
       "      <td>None</td>\n",
       "    </tr>\n",
       "    <tr>\n",
       "      <th>204</th>\n",
       "      <td>M240Slc17a7_Chr2</td>\n",
       "      <td>20170725</td>\n",
       "      <td>{'M240_20170725_v084': [[0, 0, 0, 0, 0, 0, 0, ...</td>\n",
       "      <td>{}</td>\n",
       "      <td>None</td>\n",
       "      <td>None</td>\n",
       "    </tr>\n",
       "    <tr>\n",
       "      <th>205</th>\n",
       "      <td>M240Slc17a7_Chr2</td>\n",
       "      <td>20170727</td>\n",
       "      <td>{'M240_20170727_v014': [[0, 0, 0, 0, 0, 0, 0, ...</td>\n",
       "      <td>{}</td>\n",
       "      <td>None</td>\n",
       "      <td>None</td>\n",
       "    </tr>\n",
       "  </tbody>\n",
       "</table>\n",
       "<p>179 rows × 6 columns</p>\n",
       "</div>"
      ],
      "text/plain": [
       "              animal_id session_id   \n",
       "27   M235Slc17a7_Gtacr2   20170424  \\\n",
       "28   M235Slc17a7_Gtacr2   20170425   \n",
       "29   M235Slc17a7_Gtacr2   20170427   \n",
       "30   M235Slc17a7_Gtacr2   20170428   \n",
       "31   M235Slc17a7_Gtacr2   20170525   \n",
       "..                  ...        ...   \n",
       "201    M238Slc17a7_Chr2   20170717   \n",
       "202    M238Slc17a7_Chr2   20170725   \n",
       "203    M238Slc17a7_Chr2   20170725   \n",
       "204    M240Slc17a7_Chr2   20170725   \n",
       "205    M240Slc17a7_Chr2   20170727   \n",
       "\n",
       "                                             ethograms cleaned_ethograms   \n",
       "27   {'M235_20170424_v071': [[0, 0, 0, 0, 0, 0, 0, ...                {}  \\\n",
       "28   {'M235_20170425_v030': [[0, 0, 0, 0, 0, 0, 0, ...                {}   \n",
       "29   {'M235_20170427_v024': [[0, 0, 0, 0, 0, 0, 0, ...                {}   \n",
       "30   {'M235_20170428_v071': [[0, 0, 0, 0, 0, 0, 0, ...                {}   \n",
       "31   {'M235_20170525_v003': [[0, 0, 0, 0, 0, 0, 0, ...                {}   \n",
       "..                                                 ...               ...   \n",
       "201  {'M238_20170717_v021': [[0, 0, 0, 0, 0, 0, 0, ...                {}   \n",
       "202  {'M238_20170725_v001': [[0, 0, 0, 0, 0, 0, 0, ...                {}   \n",
       "203  {'M238_20170725_v001': [[0, 0, 0, 0, 0, 0, 0, ...                {}   \n",
       "204  {'M240_20170725_v084': [[0, 0, 0, 0, 0, 0, 0, ...                {}   \n",
       "205  {'M240_20170727_v014': [[0, 0, 0, 0, 0, 0, 0, ...                {}   \n",
       "\n",
       "     type notes  \n",
       "27   None  None  \n",
       "28   None  None  \n",
       "29   None  None  \n",
       "30   None  None  \n",
       "31   None  None  \n",
       "..    ...   ...  \n",
       "201  None  None  \n",
       "202  None  None  \n",
       "203  None  None  \n",
       "204  None  None  \n",
       "205  None  None  \n",
       "\n",
       "[179 rows x 6 columns]"
      ]
     },
     "execution_count": 12,
     "metadata": {},
     "output_type": "execute_result"
    }
   ],
   "source": [
    "df"
   ]
  },
  {
   "cell_type": "code",
   "execution_count": 13,
   "id": "e7b72d2a-d863-47ff-a2ed-68255f4e8a9f",
   "metadata": {},
   "outputs": [
    {
     "name": "stderr",
     "output_type": "stream",
     "text": [
      "/home/clewis7/venvs/mescore/lib/python3.11/site-packages/ipydatagrid/datagrid.py:445: UserWarning: Index name of 'index' is not round-trippable.\n",
      "  schema = pd.io.json.build_table_schema(dataframe)\n"
     ]
    },
    {
     "data": {
      "application/vnd.jupyter.widget-view+json": {
       "model_id": "f41cd94f8fee424985a86c6401310bfb",
       "version_major": 2,
       "version_minor": 0
      },
      "text/plain": [
       "RFBOutputContext()"
      ]
     },
     "metadata": {},
     "output_type": "display_data"
    },
    {
     "name": "stderr",
     "output_type": "stream",
     "text": [
      "/home/clewis7/repos/mesmerize-core/mesmerize_core/arrays/_video.py:87: UserWarning: min not implemented for LazyTiff, returning min of 0th index\n",
      "  warn(\"min not implemented for LazyTiff, returning min of 0th index\")\n",
      "/home/clewis7/repos/mesmerize-core/mesmerize_core/arrays/_video.py:92: UserWarning: max not implemented for LazyTiff, returning min of 0th index\n",
      "  warn(\"max not implemented for LazyTiff, returning min of 0th index\")\n"
     ]
    },
    {
     "data": {
      "application/vnd.jupyter.widget-view+json": {
       "model_id": "ff8681a44ff9404fa5a73bcb77047170",
       "version_major": 2,
       "version_minor": 0
      },
      "text/plain": [
       "RFBOutputContext()"
      ]
     },
     "metadata": {},
     "output_type": "display_data"
    }
   ],
   "source": [
    "container = df.behavior.clean_ethograms()"
   ]
  },
  {
   "cell_type": "code",
   "execution_count": 14,
   "id": "fc198824-ba15-4342-8d6b-000f64dee6c9",
   "metadata": {
    "tags": []
   },
   "outputs": [
    {
     "data": {
      "application/vnd.jupyter.widget-view+json": {
       "model_id": "21de933b8c8147dcb26bff4323f1eb8a",
       "version_major": 2,
       "version_minor": 0
      },
      "text/plain": [
       "VBox(children=(DataGrid(auto_fit_params={'area': 'all', 'padding': 30, 'numCols': None}, base_row_size=24, col…"
      ]
     },
     "execution_count": 14,
     "metadata": {},
     "output_type": "execute_result"
    }
   ],
   "source": [
    "container.show()"
   ]
  },
  {
   "cell_type": "code",
   "execution_count": null,
   "id": "5a208d5d-cef6-44fd-839a-df4b0a141fcf",
   "metadata": {},
   "outputs": [],
   "source": []
  }
 ],
 "metadata": {
  "kernelspec": {
   "display_name": "Python 3 (ipykernel)",
   "language": "python",
   "name": "python3"
  },
  "language_info": {
   "codemirror_mode": {
    "name": "ipython",
    "version": 3
   },
   "file_extension": ".py",
   "mimetype": "text/x-python",
   "name": "python",
   "nbconvert_exporter": "python",
   "pygments_lexer": "ipython3",
   "version": "3.11.3"
  }
 },
 "nbformat": 4,
 "nbformat_minor": 5
}
