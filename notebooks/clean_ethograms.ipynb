{
 "cells": [
  {
   "cell_type": "code",
   "execution_count": 1,
   "id": "382f908c-f46a-43cd-bbc1-865769937437",
   "metadata": {
    "tags": []
   },
   "outputs": [
    {
     "name": "stderr",
     "output_type": "stream",
     "text": [
      "2023-06-22 15:49:35.141347: I tensorflow/core/platform/cpu_feature_guard.cc:182] This TensorFlow binary is optimized to use available CPU instructions in performance-critical operations.\n",
      "To enable the following instructions: AVX2 FMA, in other operations, rebuild TensorFlow with the appropriate compiler flags.\n",
      "2023-06-22 15:49:35.589053: W tensorflow/compiler/tf2tensorrt/utils/py_utils.cc:38] TF-TRT Warning: Could not find TensorRT\n",
      "/home/clewis7/repos/animal-soup/animal_soup/batch_utils.py:148: UserWarning: registration of accessor <class 'animal_soup.batch_utils.PathsDataFrameExtension'> under name 'paths' for type <class 'pandas.core.frame.DataFrame'> is overriding a preexisting attribute with the same name.\n",
      "  @pd.api.extensions.register_dataframe_accessor(\"paths\")\n",
      "/home/clewis7/repos/animal-soup/animal_soup/batch_utils.py:153: UserWarning: registration of accessor <class 'animal_soup.batch_utils.PathsSeriesExtension'> under name 'paths' for type <class 'pandas.core.series.Series'> is overriding a preexisting attribute with the same name.\n",
      "  @pd.api.extensions.register_series_accessor(\"paths\")\n"
     ]
    }
   ],
   "source": [
    "import fastplotlib as fpl\n",
    "from animal_soup import *\n",
    "from pathlib import Path"
   ]
  },
  {
   "cell_type": "code",
   "execution_count": 2,
   "id": "8fefeaa0-ff77-4a7f-ada3-c46dba246f6a",
   "metadata": {
    "tags": []
   },
   "outputs": [
    {
     "data": {
      "text/plain": [
       "PosixPath('/data/caitlin/potential_ground_truth4')"
      ]
     },
     "execution_count": 2,
     "metadata": {},
     "output_type": "execute_result"
    }
   ],
   "source": [
    "set_parent_raw_data_path('/data/caitlin/potential_ground_truth4/')"
   ]
  },
  {
   "cell_type": "code",
   "execution_count": 3,
   "id": "6e554725-d6f5-44ad-958d-7eba13b61724",
   "metadata": {
    "tags": []
   },
   "outputs": [],
   "source": [
    "df_path = get_parent_raw_data_path().joinpath('exactly4_trimmed.hdf')"
   ]
  },
  {
   "cell_type": "code",
   "execution_count": 4,
   "id": "e43606a6-9599-444f-afc0-7553f2188ad4",
   "metadata": {
    "tags": []
   },
   "outputs": [],
   "source": [
    "behavior_df = load_df(df_path)"
   ]
  },
  {
   "cell_type": "code",
   "execution_count": 5,
   "id": "d5d954e4-527d-43af-af38-e89b6567002a",
   "metadata": {
    "tags": []
   },
   "outputs": [
    {
     "data": {
      "text/html": [
       "<div>\n",
       "<style scoped>\n",
       "    .dataframe tbody tr th:only-of-type {\n",
       "        vertical-align: middle;\n",
       "    }\n",
       "\n",
       "    .dataframe tbody tr th {\n",
       "        vertical-align: top;\n",
       "    }\n",
       "\n",
       "    .dataframe thead th {\n",
       "        text-align: right;\n",
       "    }\n",
       "</style>\n",
       "<table border=\"1\" class=\"dataframe\">\n",
       "  <thead>\n",
       "    <tr style=\"text-align: right;\">\n",
       "      <th></th>\n",
       "      <th>animal_id</th>\n",
       "      <th>session_id</th>\n",
       "      <th>ethograms</th>\n",
       "      <th>cleaned_ethograms</th>\n",
       "      <th>notes</th>\n",
       "    </tr>\n",
       "  </thead>\n",
       "  <tbody>\n",
       "    <tr>\n",
       "      <th>0</th>\n",
       "      <td>M259VGATXChR2TRN_TH</td>\n",
       "      <td>20180418</td>\n",
       "      <td>{'M259_20180418_v041': [[0, 0, 0, 0, 0, 0, 0, ...</td>\n",
       "      <td>{'M259_20180418_v041': [[0.0, 0.0, 0.0, 0.0, 0...</td>\n",
       "      <td>None</td>\n",
       "    </tr>\n",
       "    <tr>\n",
       "      <th>1</th>\n",
       "      <td>M259VGATXChR2TRN_TH</td>\n",
       "      <td>20180419</td>\n",
       "      <td>{'M259_20180419_v009': [[0, 0, 0, 0, 0, 0, 0, ...</td>\n",
       "      <td>{'M259_20180419_v009': [[0.0, 0.0, 0.0, 0.0, 0...</td>\n",
       "      <td>None</td>\n",
       "    </tr>\n",
       "    <tr>\n",
       "      <th>2</th>\n",
       "      <td>M265VGATXChR2_TH</td>\n",
       "      <td>20180607</td>\n",
       "      <td>{'M265_20180607_v036': [[0, 0, 0, 0, 0, 0, 0, ...</td>\n",
       "      <td>{'M265_20180607_v036': [[0.0, 0.0, 0.0, 0.0, 0...</td>\n",
       "      <td>None</td>\n",
       "    </tr>\n",
       "    <tr>\n",
       "      <th>3</th>\n",
       "      <td>M265VGATXChR2_TH</td>\n",
       "      <td>20180607</td>\n",
       "      <td>{'M265_20180607_v036': [[0, 0, 0, 0, 0, 0, 0, ...</td>\n",
       "      <td>{'M265_20180607_v036': [[0.0, 0.0, 0.0, 0.0, 0...</td>\n",
       "      <td>None</td>\n",
       "    </tr>\n",
       "    <tr>\n",
       "      <th>4</th>\n",
       "      <td>M266VGATXChR2_TH</td>\n",
       "      <td>20180521</td>\n",
       "      <td>{'M266_20180521_v002': [[0, 0, 0, 0, 0, 0, 0, ...</td>\n",
       "      <td>{'M266_20180521_v002': [[0.0, 0.0, 0.0, 0.0, 0...</td>\n",
       "      <td>None</td>\n",
       "    </tr>\n",
       "    <tr>\n",
       "      <th>...</th>\n",
       "      <td>...</td>\n",
       "      <td>...</td>\n",
       "      <td>...</td>\n",
       "      <td>...</td>\n",
       "      <td>...</td>\n",
       "    </tr>\n",
       "    <tr>\n",
       "      <th>62</th>\n",
       "      <td>M326Slc17a7_Chr2_Bpn_DCN</td>\n",
       "      <td>20201110</td>\n",
       "      <td>{'M326_20201110_v003': [[0, 0, 0, 0, 0, 0, 0, ...</td>\n",
       "      <td>{}</td>\n",
       "      <td>None</td>\n",
       "    </tr>\n",
       "    <tr>\n",
       "      <th>63</th>\n",
       "      <td>M336DYT1</td>\n",
       "      <td>20210612</td>\n",
       "      <td>{'M336_20210612_v006': [[0, 0, 0, 0, 0, 0, 0, ...</td>\n",
       "      <td>{}</td>\n",
       "      <td>None</td>\n",
       "    </tr>\n",
       "    <tr>\n",
       "      <th>64</th>\n",
       "      <td>M236Slc17a7_Gtacr2</td>\n",
       "      <td>20170817</td>\n",
       "      <td>{'M236_20170817_v002': [[0, 0, 0, 0, 0, 0, 0, ...</td>\n",
       "      <td>{}</td>\n",
       "      <td>None</td>\n",
       "    </tr>\n",
       "    <tr>\n",
       "      <th>65</th>\n",
       "      <td>M236Slc17a7_Gtacr2</td>\n",
       "      <td>20170818</td>\n",
       "      <td>{'M236_20170818_v042': [[0, 0, 0, 0, 0, 0, 0, ...</td>\n",
       "      <td>{}</td>\n",
       "      <td>None</td>\n",
       "    </tr>\n",
       "    <tr>\n",
       "      <th>66</th>\n",
       "      <td>M238Slc17a7_Chr2</td>\n",
       "      <td>20170717</td>\n",
       "      <td>{'M238_20170717_v066': [[0, 0, 0, 0, 0, 0, 0, ...</td>\n",
       "      <td>{}</td>\n",
       "      <td>None</td>\n",
       "    </tr>\n",
       "  </tbody>\n",
       "</table>\n",
       "<p>67 rows × 5 columns</p>\n",
       "</div>"
      ],
      "text/plain": [
       "                   animal_id session_id   \n",
       "0        M259VGATXChR2TRN_TH   20180418  \\\n",
       "1        M259VGATXChR2TRN_TH   20180419   \n",
       "2           M265VGATXChR2_TH   20180607   \n",
       "3           M265VGATXChR2_TH   20180607   \n",
       "4           M266VGATXChR2_TH   20180521   \n",
       "..                       ...        ...   \n",
       "62  M326Slc17a7_Chr2_Bpn_DCN   20201110   \n",
       "63                  M336DYT1   20210612   \n",
       "64        M236Slc17a7_Gtacr2   20170817   \n",
       "65        M236Slc17a7_Gtacr2   20170818   \n",
       "66          M238Slc17a7_Chr2   20170717   \n",
       "\n",
       "                                            ethograms   \n",
       "0   {'M259_20180418_v041': [[0, 0, 0, 0, 0, 0, 0, ...  \\\n",
       "1   {'M259_20180419_v009': [[0, 0, 0, 0, 0, 0, 0, ...   \n",
       "2   {'M265_20180607_v036': [[0, 0, 0, 0, 0, 0, 0, ...   \n",
       "3   {'M265_20180607_v036': [[0, 0, 0, 0, 0, 0, 0, ...   \n",
       "4   {'M266_20180521_v002': [[0, 0, 0, 0, 0, 0, 0, ...   \n",
       "..                                                ...   \n",
       "62  {'M326_20201110_v003': [[0, 0, 0, 0, 0, 0, 0, ...   \n",
       "63  {'M336_20210612_v006': [[0, 0, 0, 0, 0, 0, 0, ...   \n",
       "64  {'M236_20170817_v002': [[0, 0, 0, 0, 0, 0, 0, ...   \n",
       "65  {'M236_20170818_v042': [[0, 0, 0, 0, 0, 0, 0, ...   \n",
       "66  {'M238_20170717_v066': [[0, 0, 0, 0, 0, 0, 0, ...   \n",
       "\n",
       "                                    cleaned_ethograms notes  \n",
       "0   {'M259_20180418_v041': [[0.0, 0.0, 0.0, 0.0, 0...  None  \n",
       "1   {'M259_20180419_v009': [[0.0, 0.0, 0.0, 0.0, 0...  None  \n",
       "2   {'M265_20180607_v036': [[0.0, 0.0, 0.0, 0.0, 0...  None  \n",
       "3   {'M265_20180607_v036': [[0.0, 0.0, 0.0, 0.0, 0...  None  \n",
       "4   {'M266_20180521_v002': [[0.0, 0.0, 0.0, 0.0, 0...  None  \n",
       "..                                                ...   ...  \n",
       "62                                                 {}  None  \n",
       "63                                                 {}  None  \n",
       "64                                                 {}  None  \n",
       "65                                                 {}  None  \n",
       "66                                                 {}  None  \n",
       "\n",
       "[67 rows x 5 columns]"
      ]
     },
     "execution_count": 5,
     "metadata": {},
     "output_type": "execute_result"
    }
   ],
   "source": [
    "behavior_df"
   ]
  },
  {
   "cell_type": "code",
   "execution_count": 6,
   "id": "7dc833b1-2183-450b-8a88-7d8cdf2589b5",
   "metadata": {
    "tags": []
   },
   "outputs": [
    {
     "name": "stderr",
     "output_type": "stream",
     "text": [
      "/home/clewis7/venvs/mescore/lib/python3.11/site-packages/ipydatagrid/datagrid.py:445: UserWarning: Index name of 'index' is not round-trippable.\n",
      "  schema = pd.io.json.build_table_schema(dataframe)\n"
     ]
    },
    {
     "data": {
      "application/vnd.jupyter.widget-view+json": {
       "model_id": "0517b5067a8a4505b05c0f9a7f12a428",
       "version_major": 2,
       "version_minor": 0
      },
      "text/plain": [
       "RFBOutputContext()"
      ]
     },
     "metadata": {},
     "output_type": "display_data"
    },
    {
     "name": "stderr",
     "output_type": "stream",
     "text": [
      "/home/clewis7/repos/mesmerize-core/mesmerize_core/arrays/_video.py:87: UserWarning: min not implemented for LazyTiff, returning min of 0th index\n",
      "  warn(\"min not implemented for LazyTiff, returning min of 0th index\")\n",
      "/home/clewis7/repos/mesmerize-core/mesmerize_core/arrays/_video.py:92: UserWarning: max not implemented for LazyTiff, returning min of 0th index\n",
      "  warn(\"max not implemented for LazyTiff, returning min of 0th index\")\n"
     ]
    },
    {
     "data": {
      "application/vnd.jupyter.widget-view+json": {
       "model_id": "e5922d1fd48042dc9aaefaf32b5d1a2d",
       "version_major": 2,
       "version_minor": 0
      },
      "text/plain": [
       "RFBOutputContext()"
      ]
     },
     "metadata": {},
     "output_type": "display_data"
    }
   ],
   "source": [
    "container = behavior_df.behavior.clean_ethograms()"
   ]
  },
  {
   "cell_type": "code",
   "execution_count": 7,
   "id": "d5f1c938-e710-4660-b2ed-c54898aebced",
   "metadata": {
    "tags": []
   },
   "outputs": [
    {
     "data": {
      "application/vnd.jupyter.widget-view+json": {
       "model_id": "c4816b843ff0494ca0e6f133f8c7da46",
       "version_major": 2,
       "version_minor": 0
      },
      "text/plain": [
       "VBox(children=(DataGrid(auto_fit_params={'area': 'all', 'padding': 30, 'numCols': None}, base_row_size=24, col…"
      ]
     },
     "execution_count": 7,
     "metadata": {},
     "output_type": "execute_result"
    }
   ],
   "source": [
    "container.show()"
   ]
  },
  {
   "cell_type": "code",
   "execution_count": 8,
   "id": "3258ab74-f12f-4016-ba22-eab92cfa2510",
   "metadata": {
    "tags": []
   },
   "outputs": [],
   "source": [
    "container.plot[\"atmouth\"].colors[2300:] = \"black\""
   ]
  },
  {
   "cell_type": "code",
   "execution_count": 9,
   "id": "1d054dbd-4e01-4c9b-83e1-c3ff22cc4ff4",
   "metadata": {
    "tags": []
   },
   "outputs": [],
   "source": [
    "container.save_ethogram()"
   ]
  },
  {
   "cell_type": "code",
   "execution_count": 8,
   "id": "23bd0aa0-d5c4-4e41-a9b8-c4f3ca0d2d86",
   "metadata": {
    "tags": []
   },
   "outputs": [
    {
     "data": {
      "text/plain": [
       "animal_id                                         M273Vglue2_Gtacr2_TH\n",
       "session_id                                                    20180830\n",
       "ethograms            {'M273_20180830_v071': [[0, 0, 0, 0, 0, 0, 0, ...\n",
       "cleaned_ethograms                                                   {}\n",
       "notes                                                             None\n",
       "Name: 7, dtype: object"
      ]
     },
     "execution_count": 8,
     "metadata": {},
     "output_type": "execute_result"
    }
   ],
   "source": [
    "container._dataframe.loc[container.current_row_ix]"
   ]
  },
  {
   "cell_type": "code",
   "execution_count": 14,
   "id": "a08f40f0-ac99-4424-9534-d452be795c40",
   "metadata": {
    "tags": []
   },
   "outputs": [],
   "source": [
    "container._dataframe.behavior.remove_item(animal_id='M273Vglue2_Gtacr2_TH', session_id='20180830')"
   ]
  },
  {
   "cell_type": "code",
   "execution_count": 46,
   "id": "92c61d44-07ce-4fb3-972b-440fec45bfb8",
   "metadata": {
    "tags": []
   },
   "outputs": [],
   "source": [
    "del container._dataframe.loc[container.current_row_ix][\"ethograms\"][container.selected_trial]"
   ]
  },
  {
   "cell_type": "code",
   "execution_count": 47,
   "id": "e82de83d-6d75-4332-8a59-ea69e2d9680f",
   "metadata": {
    "tags": []
   },
   "outputs": [],
   "source": [
    "container._dataframe.behavior.save_to_disk()"
   ]
  },
  {
   "cell_type": "code",
   "execution_count": null,
   "id": "19993d18-0e11-405b-9d9f-fe26c037eeaa",
   "metadata": {},
   "outputs": [],
   "source": []
  }
 ],
 "metadata": {
  "kernelspec": {
   "display_name": "Python 3 (ipykernel)",
   "language": "python",
   "name": "python3"
  },
  "language_info": {
   "codemirror_mode": {
    "name": "ipython",
    "version": 3
   },
   "file_extension": ".py",
   "mimetype": "text/x-python",
   "name": "python",
   "nbconvert_exporter": "python",
   "pygments_lexer": "ipython3",
   "version": "3.11.3"
  }
 },
 "nbformat": 4,
 "nbformat_minor": 5
}
