{
 "cells": [
  {
   "cell_type": "markdown",
   "id": "bd9431d5-c848-4c8d-9433-ce63f206bbec",
   "metadata": {},
   "source": [
    "# Comparing hand labels to DEG results"
   ]
  },
  {
   "cell_type": "code",
   "execution_count": 1,
   "id": "fbe57420-984a-46a1-b39f-6f45868b884e",
   "metadata": {
    "tags": []
   },
   "outputs": [
    {
     "name": "stderr",
     "output_type": "stream",
     "text": [
      "2023-06-28 15:40:46.475542: I tensorflow/core/platform/cpu_feature_guard.cc:182] This TensorFlow binary is optimized to use available CPU instructions in performance-critical operations.\n",
      "To enable the following instructions: AVX2 FMA, in other operations, rebuild TensorFlow with the appropriate compiler flags.\n",
      "2023-06-28 15:40:46.922166: W tensorflow/compiler/tf2tensorrt/utils/py_utils.cc:38] TF-TRT Warning: Could not find TensorRT\n",
      "/home/clewis7/repos/animal-soup/animal_soup/batch_utils.py:148: UserWarning: registration of accessor <class 'animal_soup.batch_utils.PathsDataFrameExtension'> under name 'paths' for type <class 'pandas.core.frame.DataFrame'> is overriding a preexisting attribute with the same name.\n",
      "  @pd.api.extensions.register_dataframe_accessor(\"paths\")\n",
      "/home/clewis7/repos/animal-soup/animal_soup/batch_utils.py:153: UserWarning: registration of accessor <class 'animal_soup.batch_utils.PathsSeriesExtension'> under name 'paths' for type <class 'pandas.core.series.Series'> is overriding a preexisting attribute with the same name.\n",
      "  @pd.api.extensions.register_series_accessor(\"paths\")\n"
     ]
    }
   ],
   "source": [
    "import pandas as pd\n",
    "import os\n",
    "from pathlib import Path\n",
    "from animal_soup import *"
   ]
  },
  {
   "cell_type": "code",
   "execution_count": 2,
   "id": "43359d43-9da5-4d5a-b490-a7dfa1ea18d6",
   "metadata": {
    "tags": []
   },
   "outputs": [
    {
     "data": {
      "text/plain": [
       "PosixPath('/data/caitlin/deep_ethogram/testing_vids')"
      ]
     },
     "execution_count": 2,
     "metadata": {},
     "output_type": "execute_result"
    }
   ],
   "source": [
    "set_parent_raw_data_path('/data/caitlin/deep_ethogram/testing_vids/')"
   ]
  },
  {
   "cell_type": "code",
   "execution_count": 3,
   "id": "98ef0bdf-8ef0-47e1-9a23-a78a363daa74",
   "metadata": {
    "tags": []
   },
   "outputs": [],
   "source": [
    "df = load_df('/data/caitlin/deep_ethogram/testing_df_final.hdf')"
   ]
  },
  {
   "cell_type": "code",
   "execution_count": 31,
   "id": "dfb79426-83db-4612-a622-5c04cb8c597d",
   "metadata": {
    "tags": []
   },
   "outputs": [
    {
     "name": "stderr",
     "output_type": "stream",
     "text": [
      "/home/clewis7/venvs/mescore/lib/python3.11/site-packages/ipydatagrid/datagrid.py:445: UserWarning: Index name of 'index' is not round-trippable.\n",
      "  schema = pd.io.json.build_table_schema(dataframe)\n"
     ]
    },
    {
     "data": {
      "application/vnd.jupyter.widget-view+json": {
       "model_id": "3fbbd5e90e0f40e594031027dcce063d",
       "version_major": 2,
       "version_minor": 0
      },
      "text/plain": [
       "RFBOutputContext()"
      ]
     },
     "metadata": {},
     "output_type": "display_data"
    },
    {
     "name": "stderr",
     "output_type": "stream",
     "text": [
      "/home/clewis7/repos/mesmerize-core/mesmerize_core/arrays/_video.py:125: UserWarning: min not implemented for LazyTiff, returning min of 0th index\n",
      "  warn(\"min not implemented for LazyTiff, returning min of 0th index\")\n",
      "/home/clewis7/repos/mesmerize-core/mesmerize_core/arrays/_video.py:130: UserWarning: max not implemented for LazyTiff, returning min of 0th index\n",
      "  warn(\"max not implemented for LazyTiff, returning min of 0th index\")\n"
     ]
    },
    {
     "data": {
      "application/vnd.jupyter.widget-view+json": {
       "model_id": "fc1c14c93b1e49f2a6d546e3b78dc29d",
       "version_major": 2,
       "version_minor": 0
      },
      "text/plain": [
       "RFBOutputContext()"
      ]
     },
     "metadata": {},
     "output_type": "display_data"
    },
    {
     "data": {
      "application/vnd.jupyter.widget-view+json": {
       "model_id": "80d1fa1c13244a0195737d938ea1ccac",
       "version_major": 2,
       "version_minor": 0
      },
      "text/plain": [
       "RFBOutputContext()"
      ]
     },
     "metadata": {},
     "output_type": "display_data"
    },
    {
     "data": {
      "application/vnd.jupyter.widget-view+json": {
       "model_id": "fa08eb21dfe74c5dac08cb36c99e506b",
       "version_major": 2,
       "version_minor": 0
      },
      "text/plain": [
       "VBox(children=(DataGrid(auto_fit_params={'area': 'all', 'padding': 30, 'numCols': None}, base_row_size=24, col…"
      ]
     },
     "execution_count": 31,
     "metadata": {},
     "output_type": "execute_result"
    }
   ],
   "source": [
    "container = df.behavior.compare_ethograms()\n",
    "container.show()"
   ]
  },
  {
   "cell_type": "code",
   "execution_count": 47,
   "id": "58f822f8-1742-4010-a384-aa3e5c1e0962",
   "metadata": {
    "tags": []
   },
   "outputs": [
    {
     "data": {
      "text/plain": [
       "0"
      ]
     },
     "execution_count": 47,
     "metadata": {},
     "output_type": "execute_result"
    }
   ],
   "source": [
    "container.ethogram_array[0].sum()"
   ]
  },
  {
   "cell_type": "code",
   "execution_count": 5,
   "id": "6c856550-80ff-4c7f-9134-a9db8ab6b5ec",
   "metadata": {
    "tags": []
   },
   "outputs": [],
   "source": [
    "ground = pd.read_hdf('/data/caitlin/ground_truth/ground_truth_694.hdf')"
   ]
  },
  {
   "cell_type": "code",
   "execution_count": 6,
   "id": "fab8c6b8-8aae-45bb-acdc-919ba51fcf9d",
   "metadata": {},
   "outputs": [
    {
     "data": {
      "text/html": [
       "<div>\n",
       "<style scoped>\n",
       "    .dataframe tbody tr th:only-of-type {\n",
       "        vertical-align: middle;\n",
       "    }\n",
       "\n",
       "    .dataframe tbody tr th {\n",
       "        vertical-align: top;\n",
       "    }\n",
       "\n",
       "    .dataframe thead th {\n",
       "        text-align: right;\n",
       "    }\n",
       "</style>\n",
       "<table border=\"1\" class=\"dataframe\">\n",
       "  <thead>\n",
       "    <tr style=\"text-align: right;\">\n",
       "      <th></th>\n",
       "      <th>animal_id</th>\n",
       "      <th>session_id</th>\n",
       "      <th>ethograms</th>\n",
       "      <th>type</th>\n",
       "      <th>notes</th>\n",
       "    </tr>\n",
       "  </thead>\n",
       "  <tbody>\n",
       "    <tr>\n",
       "      <th>0</th>\n",
       "      <td>M232Slc17a7_Gtacr2</td>\n",
       "      <td>20170314</td>\n",
       "      <td>{'M232_20170314_v029': [[0.0, 0.0, 0.0, 0.0, 0...</td>\n",
       "      <td>table</td>\n",
       "      <td>[]</td>\n",
       "    </tr>\n",
       "    <tr>\n",
       "      <th>1</th>\n",
       "      <td>M232Slc17a7_Gtacr2</td>\n",
       "      <td>20170307</td>\n",
       "      <td>{'M232_20170307_v064': [[0.0, 0.0, 0.0, 0.0, 0...</td>\n",
       "      <td>table</td>\n",
       "      <td>[]</td>\n",
       "    </tr>\n",
       "    <tr>\n",
       "      <th>2</th>\n",
       "      <td>M232Slc17a7_Gtacr2</td>\n",
       "      <td>20170306</td>\n",
       "      <td>{'M232_20170306_v074': [[0.0, 0.0, 0.0, 0.0, 0...</td>\n",
       "      <td>table</td>\n",
       "      <td>[]</td>\n",
       "    </tr>\n",
       "    <tr>\n",
       "      <th>3</th>\n",
       "      <td>M232Slc17a7_Gtacr2</td>\n",
       "      <td>20170308</td>\n",
       "      <td>{'M232_20170308_v034': [[0.0, 0.0, 0.0, 0.0, 0...</td>\n",
       "      <td>table</td>\n",
       "      <td>[]</td>\n",
       "    </tr>\n",
       "    <tr>\n",
       "      <th>4</th>\n",
       "      <td>M232Slc17a7_Gtacr2</td>\n",
       "      <td>20170310</td>\n",
       "      <td>{'M232_20170310_v013': [[0, 0, 0, 0, 0, 0, 0, ...</td>\n",
       "      <td>table</td>\n",
       "      <td>[]</td>\n",
       "    </tr>\n",
       "    <tr>\n",
       "      <th>...</th>\n",
       "      <td>...</td>\n",
       "      <td>...</td>\n",
       "      <td>...</td>\n",
       "      <td>...</td>\n",
       "      <td>...</td>\n",
       "    </tr>\n",
       "    <tr>\n",
       "      <th>169</th>\n",
       "      <td>M240Slc17a7_Chr2</td>\n",
       "      <td>20170810</td>\n",
       "      <td>{'M240_20170810_v059': [[0.0, 0.0, 0.0, 0.0, 0...</td>\n",
       "      <td>table</td>\n",
       "      <td>None</td>\n",
       "    </tr>\n",
       "    <tr>\n",
       "      <th>170</th>\n",
       "      <td>M240Slc17a7_Chr2</td>\n",
       "      <td>20170919</td>\n",
       "      <td>{'M240_20170919_v130': [[0.0, 0.0, 0.0, 0.0, 0...</td>\n",
       "      <td>table</td>\n",
       "      <td>None</td>\n",
       "    </tr>\n",
       "    <tr>\n",
       "      <th>171</th>\n",
       "      <td>M240Slc17a7_Chr2</td>\n",
       "      <td>20170921</td>\n",
       "      <td>{'M240_20170921_v101': [[0.0, 0.0, 0.0, 0.0, 0...</td>\n",
       "      <td>table</td>\n",
       "      <td>None</td>\n",
       "    </tr>\n",
       "    <tr>\n",
       "      <th>172</th>\n",
       "      <td>M240Slc17a7_Chr2</td>\n",
       "      <td>20170925</td>\n",
       "      <td>{'M240_20170925_v024': [[0.0, 0.0, 0.0, 0.0, 0...</td>\n",
       "      <td>table</td>\n",
       "      <td>None</td>\n",
       "    </tr>\n",
       "    <tr>\n",
       "      <th>173</th>\n",
       "      <td>M241Slc17a7_Chr2</td>\n",
       "      <td>20170828</td>\n",
       "      <td>{'M241_20170828_v002': [[0.0, 0.0, 0.0, 0.0, 0...</td>\n",
       "      <td>table</td>\n",
       "      <td>None</td>\n",
       "    </tr>\n",
       "  </tbody>\n",
       "</table>\n",
       "<p>174 rows × 5 columns</p>\n",
       "</div>"
      ],
      "text/plain": [
       "              animal_id session_id   \n",
       "0    M232Slc17a7_Gtacr2   20170314  \\\n",
       "1    M232Slc17a7_Gtacr2   20170307   \n",
       "2    M232Slc17a7_Gtacr2   20170306   \n",
       "3    M232Slc17a7_Gtacr2   20170308   \n",
       "4    M232Slc17a7_Gtacr2   20170310   \n",
       "..                  ...        ...   \n",
       "169    M240Slc17a7_Chr2   20170810   \n",
       "170    M240Slc17a7_Chr2   20170919   \n",
       "171    M240Slc17a7_Chr2   20170921   \n",
       "172    M240Slc17a7_Chr2   20170925   \n",
       "173    M241Slc17a7_Chr2   20170828   \n",
       "\n",
       "                                             ethograms   type notes  \n",
       "0    {'M232_20170314_v029': [[0.0, 0.0, 0.0, 0.0, 0...  table    []  \n",
       "1    {'M232_20170307_v064': [[0.0, 0.0, 0.0, 0.0, 0...  table    []  \n",
       "2    {'M232_20170306_v074': [[0.0, 0.0, 0.0, 0.0, 0...  table    []  \n",
       "3    {'M232_20170308_v034': [[0.0, 0.0, 0.0, 0.0, 0...  table    []  \n",
       "4    {'M232_20170310_v013': [[0, 0, 0, 0, 0, 0, 0, ...  table    []  \n",
       "..                                                 ...    ...   ...  \n",
       "169  {'M240_20170810_v059': [[0.0, 0.0, 0.0, 0.0, 0...  table  None  \n",
       "170  {'M240_20170919_v130': [[0.0, 0.0, 0.0, 0.0, 0...  table  None  \n",
       "171  {'M240_20170921_v101': [[0.0, 0.0, 0.0, 0.0, 0...  table  None  \n",
       "172  {'M240_20170925_v024': [[0.0, 0.0, 0.0, 0.0, 0...  table  None  \n",
       "173  {'M241_20170828_v002': [[0.0, 0.0, 0.0, 0.0, 0...  table  None  \n",
       "\n",
       "[174 rows x 5 columns]"
      ]
     },
     "execution_count": 6,
     "metadata": {},
     "output_type": "execute_result"
    }
   ],
   "source": [
    "ground"
   ]
  },
  {
   "cell_type": "code",
   "execution_count": 22,
   "id": "102d84f5-b58d-44c5-8d93-b1c368b12921",
   "metadata": {
    "tags": []
   },
   "outputs": [],
   "source": [
    "from tqdm import tqdm\n",
    "import numpy as np"
   ]
  },
  {
   "cell_type": "code",
   "execution_count": 19,
   "id": "344927fe-cf1f-444c-8e90-dd93ba92995d",
   "metadata": {
    "tags": []
   },
   "outputs": [
    {
     "data": {
      "text/plain": [
       "array([0., 0., 0., ..., 0., 0., 0.])"
      ]
     },
     "execution_count": 19,
     "metadata": {},
     "output_type": "execute_result"
    }
   ],
   "source": [
    "list(ground.iloc[0][\"ethograms\"].values())[0][0]"
   ]
  },
  {
   "cell_type": "code",
   "execution_count": 28,
   "id": "8737a299-0100-44fe-b5a3-d3b349cc0393",
   "metadata": {
    "tags": []
   },
   "outputs": [],
   "source": [
    "ETHOGRAM_BEHAVIOR_MAPPING = {\n",
    "    \"lift\": 0,\n",
    "    \"handopen\": 1,\n",
    "    \"grab\": 2,\n",
    "    \"sup\": 3,\n",
    "    \"atmouth\": 4,\n",
    "    \"chew\": 5,\n",
    "}"
   ]
  },
  {
   "cell_type": "code",
   "execution_count": 50,
   "id": "652463b7-21fa-45f7-8a2f-6fffd64c440f",
   "metadata": {
    "tags": []
   },
   "outputs": [],
   "source": [
    "def get_behavior_duration(row: pd.Series, behavior):\n",
    "    durations = list()\n",
    "    trial_ethograms = list(row[\"ethograms\"].values())\n",
    "    \n",
    "    for trial_ethogram in trial_ethograms:\n",
    "        duration = trial_ethogram[ETHOGRAM_BEHAVIOR_MAPPING[behavior]].sum()\n",
    "        durations.append(int(duration))\n",
    "        \n",
    "    return durations"
   ]
  },
  {
   "cell_type": "code",
   "execution_count": 52,
   "id": "e0d76661-3c5b-4b5b-9c5a-a2d907efa1b1",
   "metadata": {
    "tags": []
   },
   "outputs": [],
   "source": [
    "for behavior in list(ETHOGRAM_BEHAVIOR_MAPPING.keys()):\n",
    "    ground[f\"duration_{behavior}\"] = ground.apply(lambda row: get_behavior_duration(row, behavior), axis=1)"
   ]
  },
  {
   "cell_type": "code",
   "execution_count": 53,
   "id": "85d2268a-7733-4428-997f-a49b2a9b0b8f",
   "metadata": {
    "tags": []
   },
   "outputs": [
    {
     "data": {
      "text/html": [
       "<div>\n",
       "<style scoped>\n",
       "    .dataframe tbody tr th:only-of-type {\n",
       "        vertical-align: middle;\n",
       "    }\n",
       "\n",
       "    .dataframe tbody tr th {\n",
       "        vertical-align: top;\n",
       "    }\n",
       "\n",
       "    .dataframe thead th {\n",
       "        text-align: right;\n",
       "    }\n",
       "</style>\n",
       "<table border=\"1\" class=\"dataframe\">\n",
       "  <thead>\n",
       "    <tr style=\"text-align: right;\">\n",
       "      <th></th>\n",
       "      <th>animal_id</th>\n",
       "      <th>session_id</th>\n",
       "      <th>ethograms</th>\n",
       "      <th>type</th>\n",
       "      <th>notes</th>\n",
       "      <th>duration_lift</th>\n",
       "      <th>duration_handopen</th>\n",
       "      <th>duration_grab</th>\n",
       "      <th>duration_sup</th>\n",
       "      <th>duration_atmouth</th>\n",
       "      <th>duration_chew</th>\n",
       "    </tr>\n",
       "  </thead>\n",
       "  <tbody>\n",
       "    <tr>\n",
       "      <th>0</th>\n",
       "      <td>M232Slc17a7_Gtacr2</td>\n",
       "      <td>20170314</td>\n",
       "      <td>{'M232_20170314_v029': [[0.0, 0.0, 0.0, 0.0, 0...</td>\n",
       "      <td>table</td>\n",
       "      <td>[]</td>\n",
       "      <td>[29, 32, 27, 40]</td>\n",
       "      <td>[28, 27, 31, 65]</td>\n",
       "      <td>[41, 35, 63, 233]</td>\n",
       "      <td>[126, 109, 68, 272]</td>\n",
       "      <td>[173, 111, 102, 0]</td>\n",
       "      <td>[98, 56, 65, 0]</td>\n",
       "    </tr>\n",
       "    <tr>\n",
       "      <th>1</th>\n",
       "      <td>M232Slc17a7_Gtacr2</td>\n",
       "      <td>20170307</td>\n",
       "      <td>{'M232_20170307_v064': [[0.0, 0.0, 0.0, 0.0, 0...</td>\n",
       "      <td>table</td>\n",
       "      <td>[]</td>\n",
       "      <td>[58, 36, 35, 31, 47, 36]</td>\n",
       "      <td>[125, 29, 18, 72, 49, 53]</td>\n",
       "      <td>[320, 14, 61, 53, 62, 38]</td>\n",
       "      <td>[181, 151, 196, 103, 101, 136]</td>\n",
       "      <td>[0, 201, 39, 129, 132, 43]</td>\n",
       "      <td>[0, 21, 40, 94, 13, 44]</td>\n",
       "    </tr>\n",
       "    <tr>\n",
       "      <th>2</th>\n",
       "      <td>M232Slc17a7_Gtacr2</td>\n",
       "      <td>20170306</td>\n",
       "      <td>{'M232_20170306_v074': [[0.0, 0.0, 0.0, 0.0, 0...</td>\n",
       "      <td>table</td>\n",
       "      <td>[]</td>\n",
       "      <td>[83, 44, 48, 55, 54, 31, 45, 34, 41, 35]</td>\n",
       "      <td>[65, 108, 26, 63, 21, 32, 54, 53, 46, 29]</td>\n",
       "      <td>[99, 333, 119, 90, 42, 54, 92, 61, 75, 33]</td>\n",
       "      <td>[103, 0, 164, 61, 96, 186, 92, 102, 82, 162]</td>\n",
       "      <td>[93, 0, 277, 151, 95, 121, 134, 105, 125, 52]</td>\n",
       "      <td>[15, 0, 56, 23, 11, 56, 0, 45, 15, 35]</td>\n",
       "    </tr>\n",
       "    <tr>\n",
       "      <th>3</th>\n",
       "      <td>M232Slc17a7_Gtacr2</td>\n",
       "      <td>20170308</td>\n",
       "      <td>{'M232_20170308_v034': [[0.0, 0.0, 0.0, 0.0, 0...</td>\n",
       "      <td>table</td>\n",
       "      <td>[]</td>\n",
       "      <td>[26, 54, 81, 49, 38, 36, 58, 43, 43, 47, 38, 115]</td>\n",
       "      <td>[39, 40, 71, 35, 19, 25, 15, 49, 37, 20, 31, 78]</td>\n",
       "      <td>[145, 76, 281, 115, 74, 88, 98, 60, 64, 108, 9...</td>\n",
       "      <td>[199, 68, 118, 156, 93, 161, 155, 129, 116, 75...</td>\n",
       "      <td>[200, 34, 143, 34, 159, 97, 80, 265, 104, 131,...</td>\n",
       "      <td>[28, 0, 24, 114, 26, 14, 19, 35, 19, 64, 32, 0]</td>\n",
       "    </tr>\n",
       "    <tr>\n",
       "      <th>4</th>\n",
       "      <td>M232Slc17a7_Gtacr2</td>\n",
       "      <td>20170310</td>\n",
       "      <td>{'M232_20170310_v013': [[0, 0, 0, 0, 0, 0, 0, ...</td>\n",
       "      <td>table</td>\n",
       "      <td>[]</td>\n",
       "      <td>[31, 37]</td>\n",
       "      <td>[32, 40]</td>\n",
       "      <td>[46, 52]</td>\n",
       "      <td>[121, 77]</td>\n",
       "      <td>[157, 99]</td>\n",
       "      <td>[9, 20]</td>\n",
       "    </tr>\n",
       "    <tr>\n",
       "      <th>...</th>\n",
       "      <td>...</td>\n",
       "      <td>...</td>\n",
       "      <td>...</td>\n",
       "      <td>...</td>\n",
       "      <td>...</td>\n",
       "      <td>...</td>\n",
       "      <td>...</td>\n",
       "      <td>...</td>\n",
       "      <td>...</td>\n",
       "      <td>...</td>\n",
       "      <td>...</td>\n",
       "    </tr>\n",
       "    <tr>\n",
       "      <th>169</th>\n",
       "      <td>M240Slc17a7_Chr2</td>\n",
       "      <td>20170810</td>\n",
       "      <td>{'M240_20170810_v059': [[0.0, 0.0, 0.0, 0.0, 0...</td>\n",
       "      <td>table</td>\n",
       "      <td>None</td>\n",
       "      <td>[10]</td>\n",
       "      <td>[21]</td>\n",
       "      <td>[27]</td>\n",
       "      <td>[64]</td>\n",
       "      <td>[34]</td>\n",
       "      <td>[12]</td>\n",
       "    </tr>\n",
       "    <tr>\n",
       "      <th>170</th>\n",
       "      <td>M240Slc17a7_Chr2</td>\n",
       "      <td>20170919</td>\n",
       "      <td>{'M240_20170919_v130': [[0.0, 0.0, 0.0, 0.0, 0...</td>\n",
       "      <td>table</td>\n",
       "      <td>None</td>\n",
       "      <td>[16]</td>\n",
       "      <td>[31]</td>\n",
       "      <td>[28]</td>\n",
       "      <td>[61]</td>\n",
       "      <td>[124]</td>\n",
       "      <td>[67]</td>\n",
       "    </tr>\n",
       "    <tr>\n",
       "      <th>171</th>\n",
       "      <td>M240Slc17a7_Chr2</td>\n",
       "      <td>20170921</td>\n",
       "      <td>{'M240_20170921_v101': [[0.0, 0.0, 0.0, 0.0, 0...</td>\n",
       "      <td>table</td>\n",
       "      <td>None</td>\n",
       "      <td>[36]</td>\n",
       "      <td>[33]</td>\n",
       "      <td>[56]</td>\n",
       "      <td>[73]</td>\n",
       "      <td>[144]</td>\n",
       "      <td>[106]</td>\n",
       "    </tr>\n",
       "    <tr>\n",
       "      <th>172</th>\n",
       "      <td>M240Slc17a7_Chr2</td>\n",
       "      <td>20170925</td>\n",
       "      <td>{'M240_20170925_v024': [[0.0, 0.0, 0.0, 0.0, 0...</td>\n",
       "      <td>table</td>\n",
       "      <td>None</td>\n",
       "      <td>[32, 23]</td>\n",
       "      <td>[68, 22]</td>\n",
       "      <td>[89, 69]</td>\n",
       "      <td>[280, 61]</td>\n",
       "      <td>[86, 179]</td>\n",
       "      <td>[0, 58]</td>\n",
       "    </tr>\n",
       "    <tr>\n",
       "      <th>173</th>\n",
       "      <td>M241Slc17a7_Chr2</td>\n",
       "      <td>20170828</td>\n",
       "      <td>{'M241_20170828_v002': [[0.0, 0.0, 0.0, 0.0, 0...</td>\n",
       "      <td>table</td>\n",
       "      <td>None</td>\n",
       "      <td>[21, 60, 10]</td>\n",
       "      <td>[22, 79, 84]</td>\n",
       "      <td>[24, 73, 94]</td>\n",
       "      <td>[65, 91, 137]</td>\n",
       "      <td>[118, 17, 0]</td>\n",
       "      <td>[24, 0, 0]</td>\n",
       "    </tr>\n",
       "  </tbody>\n",
       "</table>\n",
       "<p>174 rows × 11 columns</p>\n",
       "</div>"
      ],
      "text/plain": [
       "              animal_id session_id   \n",
       "0    M232Slc17a7_Gtacr2   20170314  \\\n",
       "1    M232Slc17a7_Gtacr2   20170307   \n",
       "2    M232Slc17a7_Gtacr2   20170306   \n",
       "3    M232Slc17a7_Gtacr2   20170308   \n",
       "4    M232Slc17a7_Gtacr2   20170310   \n",
       "..                  ...        ...   \n",
       "169    M240Slc17a7_Chr2   20170810   \n",
       "170    M240Slc17a7_Chr2   20170919   \n",
       "171    M240Slc17a7_Chr2   20170921   \n",
       "172    M240Slc17a7_Chr2   20170925   \n",
       "173    M241Slc17a7_Chr2   20170828   \n",
       "\n",
       "                                             ethograms   type notes   \n",
       "0    {'M232_20170314_v029': [[0.0, 0.0, 0.0, 0.0, 0...  table    []  \\\n",
       "1    {'M232_20170307_v064': [[0.0, 0.0, 0.0, 0.0, 0...  table    []   \n",
       "2    {'M232_20170306_v074': [[0.0, 0.0, 0.0, 0.0, 0...  table    []   \n",
       "3    {'M232_20170308_v034': [[0.0, 0.0, 0.0, 0.0, 0...  table    []   \n",
       "4    {'M232_20170310_v013': [[0, 0, 0, 0, 0, 0, 0, ...  table    []   \n",
       "..                                                 ...    ...   ...   \n",
       "169  {'M240_20170810_v059': [[0.0, 0.0, 0.0, 0.0, 0...  table  None   \n",
       "170  {'M240_20170919_v130': [[0.0, 0.0, 0.0, 0.0, 0...  table  None   \n",
       "171  {'M240_20170921_v101': [[0.0, 0.0, 0.0, 0.0, 0...  table  None   \n",
       "172  {'M240_20170925_v024': [[0.0, 0.0, 0.0, 0.0, 0...  table  None   \n",
       "173  {'M241_20170828_v002': [[0.0, 0.0, 0.0, 0.0, 0...  table  None   \n",
       "\n",
       "                                         duration_lift   \n",
       "0                                     [29, 32, 27, 40]  \\\n",
       "1                             [58, 36, 35, 31, 47, 36]   \n",
       "2             [83, 44, 48, 55, 54, 31, 45, 34, 41, 35]   \n",
       "3    [26, 54, 81, 49, 38, 36, 58, 43, 43, 47, 38, 115]   \n",
       "4                                             [31, 37]   \n",
       "..                                                 ...   \n",
       "169                                               [10]   \n",
       "170                                               [16]   \n",
       "171                                               [36]   \n",
       "172                                           [32, 23]   \n",
       "173                                       [21, 60, 10]   \n",
       "\n",
       "                                    duration_handopen   \n",
       "0                                    [28, 27, 31, 65]  \\\n",
       "1                           [125, 29, 18, 72, 49, 53]   \n",
       "2           [65, 108, 26, 63, 21, 32, 54, 53, 46, 29]   \n",
       "3    [39, 40, 71, 35, 19, 25, 15, 49, 37, 20, 31, 78]   \n",
       "4                                            [32, 40]   \n",
       "..                                                ...   \n",
       "169                                              [21]   \n",
       "170                                              [31]   \n",
       "171                                              [33]   \n",
       "172                                          [68, 22]   \n",
       "173                                      [22, 79, 84]   \n",
       "\n",
       "                                         duration_grab   \n",
       "0                                    [41, 35, 63, 233]  \\\n",
       "1                            [320, 14, 61, 53, 62, 38]   \n",
       "2           [99, 333, 119, 90, 42, 54, 92, 61, 75, 33]   \n",
       "3    [145, 76, 281, 115, 74, 88, 98, 60, 64, 108, 9...   \n",
       "4                                             [46, 52]   \n",
       "..                                                 ...   \n",
       "169                                               [27]   \n",
       "170                                               [28]   \n",
       "171                                               [56]   \n",
       "172                                           [89, 69]   \n",
       "173                                       [24, 73, 94]   \n",
       "\n",
       "                                          duration_sup   \n",
       "0                                  [126, 109, 68, 272]  \\\n",
       "1                       [181, 151, 196, 103, 101, 136]   \n",
       "2         [103, 0, 164, 61, 96, 186, 92, 102, 82, 162]   \n",
       "3    [199, 68, 118, 156, 93, 161, 155, 129, 116, 75...   \n",
       "4                                            [121, 77]   \n",
       "..                                                 ...   \n",
       "169                                               [64]   \n",
       "170                                               [61]   \n",
       "171                                               [73]   \n",
       "172                                          [280, 61]   \n",
       "173                                      [65, 91, 137]   \n",
       "\n",
       "                                      duration_atmouth   \n",
       "0                                   [173, 111, 102, 0]  \\\n",
       "1                           [0, 201, 39, 129, 132, 43]   \n",
       "2        [93, 0, 277, 151, 95, 121, 134, 105, 125, 52]   \n",
       "3    [200, 34, 143, 34, 159, 97, 80, 265, 104, 131,...   \n",
       "4                                            [157, 99]   \n",
       "..                                                 ...   \n",
       "169                                               [34]   \n",
       "170                                              [124]   \n",
       "171                                              [144]   \n",
       "172                                          [86, 179]   \n",
       "173                                       [118, 17, 0]   \n",
       "\n",
       "                                       duration_chew  \n",
       "0                                    [98, 56, 65, 0]  \n",
       "1                            [0, 21, 40, 94, 13, 44]  \n",
       "2             [15, 0, 56, 23, 11, 56, 0, 45, 15, 35]  \n",
       "3    [28, 0, 24, 114, 26, 14, 19, 35, 19, 64, 32, 0]  \n",
       "4                                            [9, 20]  \n",
       "..                                               ...  \n",
       "169                                             [12]  \n",
       "170                                             [67]  \n",
       "171                                            [106]  \n",
       "172                                          [0, 58]  \n",
       "173                                       [24, 0, 0]  \n",
       "\n",
       "[174 rows x 11 columns]"
      ]
     },
     "execution_count": 53,
     "metadata": {},
     "output_type": "execute_result"
    }
   ],
   "source": [
    "ground"
   ]
  },
  {
   "cell_type": "code",
   "execution_count": 155,
   "id": "e03762ec-1e7a-4454-b884-7a54e34e5570",
   "metadata": {
    "tags": []
   },
   "outputs": [],
   "source": [
    "shortest_behaviors = {k: np.inf for k in list(ETHOGRAM_BEHAVIOR_MAPPING.keys())}\n",
    "\n",
    "for behavior in list(ETHOGRAM_BEHAVIOR_MAPPING.keys()):\n",
    "    durations = ground[f\"duration_{behavior}\"].apply(min)\n",
    "    \n",
    "    shortest_behaviors[behavior] = durations[durations > 1].min()"
   ]
  },
  {
   "cell_type": "code",
   "execution_count": 167,
   "id": "3558a6a5-e921-4c1f-b712-03c28a63d68b",
   "metadata": {
    "tags": []
   },
   "outputs": [],
   "source": [
    "from matplotlib import pyplot as plt"
   ]
  },
  {
   "cell_type": "code",
   "execution_count": 169,
   "id": "686894eb-0eee-4289-baaa-71ee9fd52207",
   "metadata": {
    "tags": []
   },
   "outputs": [
    {
     "data": {
      "text/plain": [
       "(array([415., 184.,  64.,  21.,   4.,   3.,   2.,   0.,   0.,   1.]),\n",
       " array([  8. ,  30.5,  53. ,  75.5,  98. , 120.5, 143. , 165.5, 188. ,\n",
       "        210.5, 233. ]),\n",
       " <BarContainer object of 10 artists>)"
      ]
     },
     "execution_count": 169,
     "metadata": {},
     "output_type": "execute_result"
    },
    {
     "data": {
      "image/png": "[encoded data removed]",
      "text/plain": [
       "<Figure size 640x480 with 1 Axes>"
      ]
     },
     "metadata": {},
     "output_type": "display_data"
    }
   ],
   "source": [
    "plt.hist(np.concatenate(ground[\"duration_lift\"].values))"
   ]
  },
  {
   "cell_type": "code",
   "execution_count": 156,
   "id": "ad596b10-c53a-4f04-ba66-9ad9bf16e634",
   "metadata": {},
   "outputs": [
    {
     "data": {
      "text/plain": [
       "{'lift': 8, 'handopen': 4, 'grab': 8, 'sup': 11, 'atmouth': 11, 'chew': 7}"
      ]
     },
     "execution_count": 156,
     "metadata": {},
     "output_type": "execute_result"
    }
   ],
   "source": [
    "shortest_behaviors"
   ]
  },
  {
   "cell_type": "code",
   "execution_count": 70,
   "id": "72a85c86-32e5-4470-8df5-82200000143f",
   "metadata": {
    "tags": []
   },
   "outputs": [],
   "source": [
    "duration_sup = ground[\"duration_sup\"].apply(min)"
   ]
  },
  {
   "cell_type": "code",
   "execution_count": 150,
   "id": "01413b0d-d77a-4821-9917-f455c964d4a5",
   "metadata": {
    "tags": []
   },
   "outputs": [
    {
     "data": {
      "text/plain": [
       "28    1\n",
       "57    1\n",
       "Name: duration_sup, dtype: int64"
      ]
     },
     "execution_count": 150,
     "metadata": {},
     "output_type": "execute_result"
    }
   ],
   "source": [
    "duration_sup[duration_sup == 1]"
   ]
  },
  {
   "cell_type": "code",
   "execution_count": 82,
   "id": "742fc0f9-c237-4992-84f1-5077def375ff",
   "metadata": {
    "tags": []
   },
   "outputs": [
    {
     "data": {
      "text/plain": [
       "animal_id                                           M234Slc17a7_Gtacr2\n",
       "session_id                                                    20170329\n",
       "ethograms            {'M234_20170329_v069': [[0.0, 0.0, 0.0, 0.0, 0...\n",
       "type                                                             table\n",
       "notes                                                               []\n",
       "duration_lift        [94, 87, 56, 68, 42, 33, 36, 53, 31, 43, 61, 7...\n",
       "duration_handopen    [59, 42, 91, 103, 86, 75, 133, 74, 140, 93, 78...\n",
       "duration_grab        [30, 30, 45, 47, 41, 26, 43, 32, 34, 39, 74, 5...\n",
       "duration_sup         [208, 225, 188, 98, 199, 203, 165, 194, 192, 2...\n",
       "duration_atmouth     [90, 168, 142, 153, 145, 264, 142, 111, 237, 1...\n",
       "duration_chew        [51, 57, 16, 15, 18, 64, 42, 10, 40, 10, 27, 8...\n",
       "Name: 28, dtype: object"
      ]
     },
     "execution_count": 82,
     "metadata": {},
     "output_type": "execute_result"
    }
   ],
   "source": [
    "ground.iloc[28]"
   ]
  },
  {
   "cell_type": "code",
   "execution_count": 75,
   "id": "fa53cbf5-6157-48dc-8186-a30c588938de",
   "metadata": {
    "tags": []
   },
   "outputs": [
    {
     "data": {
      "text/plain": [
       "PosixPath('/data/caitlin/ground_truth')"
      ]
     },
     "execution_count": 75,
     "metadata": {},
     "output_type": "execute_result"
    }
   ],
   "source": [
    "set_parent_raw_data_path('/data/caitlin/ground_truth/')"
   ]
  },
  {
   "cell_type": "code",
   "execution_count": 100,
   "id": "ce2d56c8-8fad-4572-ab9b-df64ae629cf7",
   "metadata": {
    "tags": []
   },
   "outputs": [
    {
     "name": "stderr",
     "output_type": "stream",
     "text": [
      "/home/clewis7/venvs/mescore/lib/python3.11/site-packages/ipydatagrid/datagrid.py:445: UserWarning: Index name of 'index' is not round-trippable.\n",
      "  schema = pd.io.json.build_table_schema(dataframe)\n"
     ]
    },
    {
     "data": {
      "application/vnd.jupyter.widget-view+json": {
       "model_id": "9aac35f838604150b18bf9c8903cd2cf",
       "version_major": 2,
       "version_minor": 0
      },
      "text/plain": [
       "RFBOutputContext()"
      ]
     },
     "metadata": {},
     "output_type": "display_data"
    },
    {
     "name": "stderr",
     "output_type": "stream",
     "text": [
      "/home/clewis7/repos/mesmerize-core/mesmerize_core/arrays/_video.py:125: UserWarning: min not implemented for LazyTiff, returning min of 0th index\n",
      "  warn(\"min not implemented for LazyTiff, returning min of 0th index\")\n",
      "/home/clewis7/repos/mesmerize-core/mesmerize_core/arrays/_video.py:130: UserWarning: max not implemented for LazyTiff, returning min of 0th index\n",
      "  warn(\"max not implemented for LazyTiff, returning min of 0th index\")\n"
     ]
    },
    {
     "data": {
      "application/vnd.jupyter.widget-view+json": {
       "model_id": "0a80af10867945c1b67814d053c11d9b",
       "version_major": 2,
       "version_minor": 0
      },
      "text/plain": [
       "RFBOutputContext()"
      ]
     },
     "metadata": {},
     "output_type": "display_data"
    },
    {
     "data": {
      "application/vnd.jupyter.widget-view+json": {
       "model_id": "e7fe197e29f74733b97575a9858d7f7e",
       "version_major": 2,
       "version_minor": 0
      },
      "text/plain": [
       "VBox(children=(DataGrid(auto_fit_params={'area': 'all', 'padding': 30, 'numCols': None}, base_row_size=24, col…"
      ]
     },
     "execution_count": 100,
     "metadata": {},
     "output_type": "execute_result"
    }
   ],
   "source": [
    "ground_viz = ground.behavior.view()\n",
    "ground_viz.show()"
   ]
  },
  {
   "cell_type": "code",
   "execution_count": 101,
   "id": "0fbe3dc6-c537-4101-89e8-f90b50bb277d",
   "metadata": {
    "tags": []
   },
   "outputs": [
    {
     "data": {
      "text/plain": [
       "(array([515]),)"
      ]
     },
     "execution_count": 101,
     "metadata": {},
     "output_type": "execute_result"
    }
   ],
   "source": [
    "np.where(ground_viz.ethogram_array[3])"
   ]
  },
  {
   "cell_type": "code",
   "execution_count": 102,
   "id": "a767ebfe-2f0e-4cbb-a2ef-ef585d3a9e6a",
   "metadata": {
    "tags": []
   },
   "outputs": [],
   "source": [
    "ground_viz.plot[\"sup\"].colors = \"cyan\""
   ]
  },
  {
   "cell_type": "code",
   "execution_count": 104,
   "id": "e66e09dc-788b-4357-93e6-9f5fb883ad13",
   "metadata": {
    "tags": []
   },
   "outputs": [],
   "source": [
    "datapoint = ground_viz.plot[\"sup\"].data[515]"
   ]
  },
  {
   "cell_type": "code",
   "execution_count": 105,
   "id": "b6ff2ec3-e880-4b57-bfc9-7dcd6bce5b20",
   "metadata": {
    "tags": []
   },
   "outputs": [
    {
     "name": "stderr",
     "output_type": "stream",
     "text": [
      "/home/clewis7/repos/fastplotlib/fastplotlib/graphics/_features/_base.py:34: UserWarning: converting float64 array to float32\n",
      "  warn(f\"converting {array.dtype} array to float32\")\n"
     ]
    }
   ],
   "source": [
    "ground_viz.plot[\"sup\"].data = np.array([np.nan])"
   ]
  },
  {
   "cell_type": "code",
   "execution_count": 146,
   "id": "3524e861-846b-46a7-bb1c-11e7acb9b1c0",
   "metadata": {
    "tags": []
   },
   "outputs": [],
   "source": [
    "ground_viz.plot[\"sup\"].data = np.zeros(ground_viz.ethogram_array.shape[1])"
   ]
  },
  {
   "cell_type": "code",
   "execution_count": 147,
   "id": "cd69195c-c867-4847-a2ca-e1c5f92cf357",
   "metadata": {
    "tags": []
   },
   "outputs": [],
   "source": [
    "data = ground_viz.plot[\"sup\"].data()"
   ]
  },
  {
   "cell_type": "code",
   "execution_count": null,
   "id": "8a25c068-ae41-4cef-b392-d778ddc2a3f3",
   "metadata": {},
   "outputs": [],
   "source": [
    "~(data[:, 0] > 515).astype(bool)"
   ]
  },
  {
   "cell_type": "code",
   "execution_count": 148,
   "id": "aa9883c3-bcc4-45f0-880e-827f17fa1fbb",
   "metadata": {
    "tags": []
   },
   "outputs": [],
   "source": [
    "ground_viz.plot[\"sup\"].data[~(data[:, 0] > 515).astype(bool)] = np.array([np.nan])"
   ]
  },
  {
   "cell_type": "code",
   "execution_count": 107,
   "id": "16e1e210-470c-41f5-965c-1778cd86417e",
   "metadata": {
    "tags": []
   },
   "outputs": [
    {
     "data": {
      "text/plain": [
       "array([ 0., nan,  0.], dtype=float32)"
      ]
     },
     "execution_count": 107,
     "metadata": {},
     "output_type": "execute_result"
    }
   ],
   "source": [
    "datapoint"
   ]
  },
  {
   "cell_type": "code",
   "execution_count": null,
   "id": "f3cb6890-1688-4b93-b921-cd6435ca4cad",
   "metadata": {},
   "outputs": [],
   "source": []
  }
 ],
 "metadata": {
  "kernelspec": {
   "display_name": "Python 3 (ipykernel)",
   "language": "python",
   "name": "python3"
  },
  "language_info": {
   "codemirror_mode": {
    "name": "ipython",
    "version": 3
   },
   "file_extension": ".py",
   "mimetype": "text/x-python",
   "name": "python",
   "nbconvert_exporter": "python",
   "pygments_lexer": "ipython3",
   "version": "3.11.3"
  }
 },
 "nbformat": 4,
 "nbformat_minor": 5
}
