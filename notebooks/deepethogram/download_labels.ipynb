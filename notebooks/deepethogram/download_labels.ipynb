{
 "cells": [
  {
   "cell_type": "markdown",
   "id": "374f1019-d8a2-422f-8dbe-6ac89e5c86db",
   "metadata": {},
   "source": [
    "# Notebook to download hand labels for running DEG"
   ]
  },
  {
   "cell_type": "code",
   "execution_count": 2,
   "id": "71f88a4a-55e3-4fba-97ec-3b37c1fed355",
   "metadata": {
    "tags": []
   },
   "outputs": [],
   "source": [
    "import os \n",
    "import shutil\n",
    "from pathlib import Path\n",
    "import pandas as pd"
   ]
  },
  {
   "cell_type": "code",
   "execution_count": 8,
   "id": "7fc3021b-0aa4-4502-b1cb-d21e3f7a92e1",
   "metadata": {
    "tags": []
   },
   "outputs": [],
   "source": [
    "df = pd.read_hdf('/data/caitlin/deep_ethogram/training_df.hdf')"
   ]
  },
  {
   "cell_type": "code",
   "execution_count": 9,
   "id": "6ad1977a-1752-4164-b63e-c9fbf5cca951",
   "metadata": {
    "tags": []
   },
   "outputs": [
    {
     "data": {
      "text/html": [
       "<div>\n",
       "<style scoped>\n",
       "    .dataframe tbody tr th:only-of-type {\n",
       "        vertical-align: middle;\n",
       "    }\n",
       "\n",
       "    .dataframe tbody tr th {\n",
       "        vertical-align: top;\n",
       "    }\n",
       "\n",
       "    .dataframe thead th {\n",
       "        text-align: right;\n",
       "    }\n",
       "</style>\n",
       "<table border=\"1\" class=\"dataframe\">\n",
       "  <thead>\n",
       "    <tr style=\"text-align: right;\">\n",
       "      <th></th>\n",
       "      <th>animal_id</th>\n",
       "      <th>session_id</th>\n",
       "      <th>ethograms</th>\n",
       "      <th>type</th>\n",
       "      <th>notes</th>\n",
       "    </tr>\n",
       "  </thead>\n",
       "  <tbody>\n",
       "    <tr>\n",
       "      <th>0</th>\n",
       "      <td>M232Slc17a7_Gtacr2</td>\n",
       "      <td>20170314</td>\n",
       "      <td>{'M232_20170314_v029': [[0.0, 0.0, 0.0, 0.0, 0...</td>\n",
       "      <td>table</td>\n",
       "      <td>[]</td>\n",
       "    </tr>\n",
       "    <tr>\n",
       "      <th>1</th>\n",
       "      <td>M232Slc17a7_Gtacr2</td>\n",
       "      <td>20170307</td>\n",
       "      <td>{'M232_20170307_v064': [[0.0, 0.0, 0.0, 0.0, 0...</td>\n",
       "      <td>table</td>\n",
       "      <td>[]</td>\n",
       "    </tr>\n",
       "    <tr>\n",
       "      <th>2</th>\n",
       "      <td>M232Slc17a7_Gtacr2</td>\n",
       "      <td>20170306</td>\n",
       "      <td>{'M232_20170306_v074': [[0.0, 0.0, 0.0, 0.0, 0...</td>\n",
       "      <td>table</td>\n",
       "      <td>[]</td>\n",
       "    </tr>\n",
       "    <tr>\n",
       "      <th>3</th>\n",
       "      <td>M232Slc17a7_Gtacr2</td>\n",
       "      <td>20170308</td>\n",
       "      <td>{'M232_20170308_v034': [[0.0, 0.0, 0.0, 0.0, 0...</td>\n",
       "      <td>table</td>\n",
       "      <td>[]</td>\n",
       "    </tr>\n",
       "    <tr>\n",
       "      <th>4</th>\n",
       "      <td>M232Slc17a7_Gtacr2</td>\n",
       "      <td>20170310</td>\n",
       "      <td>{'M232_20170310_v013': [[0, 0, 0, 0, 0, 0, 0, ...</td>\n",
       "      <td>table</td>\n",
       "      <td>[]</td>\n",
       "    </tr>\n",
       "    <tr>\n",
       "      <th>...</th>\n",
       "      <td>...</td>\n",
       "      <td>...</td>\n",
       "      <td>...</td>\n",
       "      <td>...</td>\n",
       "      <td>...</td>\n",
       "    </tr>\n",
       "    <tr>\n",
       "      <th>169</th>\n",
       "      <td>M240Slc17a7_Chr2</td>\n",
       "      <td>20170810</td>\n",
       "      <td>{'M240_20170810_v059': [[0.0, 0.0, 0.0, 0.0, 0...</td>\n",
       "      <td>table</td>\n",
       "      <td>None</td>\n",
       "    </tr>\n",
       "    <tr>\n",
       "      <th>170</th>\n",
       "      <td>M240Slc17a7_Chr2</td>\n",
       "      <td>20170919</td>\n",
       "      <td>{'M240_20170919_v130': [[0.0, 0.0, 0.0, 0.0, 0...</td>\n",
       "      <td>table</td>\n",
       "      <td>None</td>\n",
       "    </tr>\n",
       "    <tr>\n",
       "      <th>171</th>\n",
       "      <td>M240Slc17a7_Chr2</td>\n",
       "      <td>20170921</td>\n",
       "      <td>{'M240_20170921_v101': [[0.0, 0.0, 0.0, 0.0, 0...</td>\n",
       "      <td>table</td>\n",
       "      <td>None</td>\n",
       "    </tr>\n",
       "    <tr>\n",
       "      <th>172</th>\n",
       "      <td>M240Slc17a7_Chr2</td>\n",
       "      <td>20170925</td>\n",
       "      <td>{'M240_20170925_v024': [[0.0, 0.0, 0.0, 0.0, 0...</td>\n",
       "      <td>table</td>\n",
       "      <td>None</td>\n",
       "    </tr>\n",
       "    <tr>\n",
       "      <th>173</th>\n",
       "      <td>M241Slc17a7_Chr2</td>\n",
       "      <td>20170828</td>\n",
       "      <td>{'M241_20170828_v002': [[0.0, 0.0, 0.0, 0.0, 0...</td>\n",
       "      <td>table</td>\n",
       "      <td>None</td>\n",
       "    </tr>\n",
       "  </tbody>\n",
       "</table>\n",
       "<p>156 rows × 5 columns</p>\n",
       "</div>"
      ],
      "text/plain": [
       "              animal_id session_id   \n",
       "0    M232Slc17a7_Gtacr2   20170314  \\\n",
       "1    M232Slc17a7_Gtacr2   20170307   \n",
       "2    M232Slc17a7_Gtacr2   20170306   \n",
       "3    M232Slc17a7_Gtacr2   20170308   \n",
       "4    M232Slc17a7_Gtacr2   20170310   \n",
       "..                  ...        ...   \n",
       "169    M240Slc17a7_Chr2   20170810   \n",
       "170    M240Slc17a7_Chr2   20170919   \n",
       "171    M240Slc17a7_Chr2   20170921   \n",
       "172    M240Slc17a7_Chr2   20170925   \n",
       "173    M241Slc17a7_Chr2   20170828   \n",
       "\n",
       "                                             ethograms   type notes  \n",
       "0    {'M232_20170314_v029': [[0.0, 0.0, 0.0, 0.0, 0...  table    []  \n",
       "1    {'M232_20170307_v064': [[0.0, 0.0, 0.0, 0.0, 0...  table    []  \n",
       "2    {'M232_20170306_v074': [[0.0, 0.0, 0.0, 0.0, 0...  table    []  \n",
       "3    {'M232_20170308_v034': [[0.0, 0.0, 0.0, 0.0, 0...  table    []  \n",
       "4    {'M232_20170310_v013': [[0, 0, 0, 0, 0, 0, 0, ...  table    []  \n",
       "..                                                 ...    ...   ...  \n",
       "169  {'M240_20170810_v059': [[0.0, 0.0, 0.0, 0.0, 0...  table  None  \n",
       "170  {'M240_20170919_v130': [[0.0, 0.0, 0.0, 0.0, 0...  table  None  \n",
       "171  {'M240_20170921_v101': [[0.0, 0.0, 0.0, 0.0, 0...  table  None  \n",
       "172  {'M240_20170925_v024': [[0.0, 0.0, 0.0, 0.0, 0...  table  None  \n",
       "173  {'M241_20170828_v002': [[0.0, 0.0, 0.0, 0.0, 0...  table  None  \n",
       "\n",
       "[156 rows x 5 columns]"
      ]
     },
     "execution_count": 9,
     "metadata": {},
     "output_type": "execute_result"
    }
   ],
   "source": [
    "df"
   ]
  },
  {
   "cell_type": "code",
   "execution_count": 10,
   "id": "48dd25fc-8f7d-4898-bb07-336454ab0cc8",
   "metadata": {
    "tags": []
   },
   "outputs": [],
   "source": [
    "src = Path('/data/caitlin/ground_truth/')\n",
    "dst = Path('/data/caitlin/deep_ethogram/training_vids/')"
   ]
  },
  {
   "cell_type": "code",
   "execution_count": 12,
   "id": "878b4269-dbf0-418d-afdd-5f681bebef2e",
   "metadata": {
    "tags": []
   },
   "outputs": [],
   "source": [
    "for row in df.iterrows():\n",
    "    animal_id = row[1][\"animal_id\"]\n",
    "    session_id = row[1][\"session_id\"]\n",
    "    for key in row[1][\"ethograms\"].keys():\n",
    "        shutil.copy(src.joinpath(animal_id, session_id, key).with_suffix('.avi'), dst=dst.joinpath(key).with_suffix('.avi'))"
   ]
  },
  {
   "cell_type": "code",
   "execution_count": null,
   "id": "06d8481c-f99e-4990-a676-7b9ac41588a8",
   "metadata": {},
   "outputs": [],
   "source": []
  },
  {
   "cell_type": "code",
   "execution_count": 15,
   "id": "254b97c9-4886-4424-9df9-462f07f53a9d",
   "metadata": {
    "tags": []
   },
   "outputs": [],
   "source": [
    "import numpy as np\n",
    "from pathlib import Path\n",
    "import pandas as pd\n",
    "import os"
   ]
  },
  {
   "cell_type": "code",
   "execution_count": 16,
   "id": "6d791098-9c78-45c4-b72e-a84bc2d37d90",
   "metadata": {
    "tags": []
   },
   "outputs": [
    {
     "data": {
      "text/html": [
       "<div>\n",
       "<style scoped>\n",
       "    .dataframe tbody tr th:only-of-type {\n",
       "        vertical-align: middle;\n",
       "    }\n",
       "\n",
       "    .dataframe tbody tr th {\n",
       "        vertical-align: top;\n",
       "    }\n",
       "\n",
       "    .dataframe thead th {\n",
       "        text-align: right;\n",
       "    }\n",
       "</style>\n",
       "<table border=\"1\" class=\"dataframe\">\n",
       "  <thead>\n",
       "    <tr style=\"text-align: right;\">\n",
       "      <th></th>\n",
       "      <th>background</th>\n",
       "      <th>lift</th>\n",
       "      <th>handopen</th>\n",
       "      <th>grab</th>\n",
       "      <th>sup</th>\n",
       "      <th>atmouth</th>\n",
       "      <th>chew</th>\n",
       "    </tr>\n",
       "  </thead>\n",
       "  <tbody>\n",
       "  </tbody>\n",
       "</table>\n",
       "</div>"
      ],
      "text/plain": [
       "Empty DataFrame\n",
       "Columns: [background, lift, handopen, grab, sup, atmouth, chew]\n",
       "Index: []"
      ]
     },
     "execution_count": 16,
     "metadata": {},
     "output_type": "execute_result"
    }
   ],
   "source": [
    "pd.DataFrame(columns=[\"background\",\"lift\", \"handopen\", \"grab\", \"sup\", \"atmouth\", \"chew\"])"
   ]
  },
  {
   "cell_type": "code",
   "execution_count": 17,
   "id": "5451ccaf-ea5c-409c-be03-0c6271141368",
   "metadata": {
    "tags": []
   },
   "outputs": [],
   "source": [
    "from tqdm import tqdm"
   ]
  },
  {
   "cell_type": "code",
   "execution_count": 21,
   "id": "36b03dfa-c9d6-4ca2-8a08-88802dc99893",
   "metadata": {
    "tags": []
   },
   "outputs": [
    {
     "name": "stderr",
     "output_type": "stream",
     "text": [
      "156it [07:39,  2.95s/it]\n"
     ]
    }
   ],
   "source": [
    "training_folder = Path('/data/caitlin/deep_ethogram/deg-clean2/DATA/')\n",
    "for row in tqdm(df.iterrows()):\n",
    "    for key in row[1][\"ethograms\"].keys():\n",
    "        etho_array = row[1][\"ethograms\"][key]\n",
    "        etho_df = pd.DataFrame(columns=[\"background\",\"lift\", \"handopen\", \"grab\", \"sup\", \"atmouth\", \"chew\"])\n",
    "        for r in etho_array.T:\n",
    "            if sum(r) > 0:\n",
    "                background = 0\n",
    "            else:\n",
    "                background = 1\n",
    "            r = np.insert(r, 0, background)\n",
    "            etho_df.loc[etho_df.index.size] = r\n",
    "        path = training_folder.joinpath(key, key).with_name(f'{key}_labels').with_suffix('.csv')\n",
    "        etho_df.to_csv(path_or_buf=path)"
   ]
  },
  {
   "cell_type": "code",
   "execution_count": null,
   "id": "337803e7-36b9-43f3-8009-a4b94bea468c",
   "metadata": {},
   "outputs": [],
   "source": []
  }
 ],
 "metadata": {
  "kernelspec": {
   "display_name": "Python 3 (ipykernel)",
   "language": "python",
   "name": "python3"
  },
  "language_info": {
   "codemirror_mode": {
    "name": "ipython",
    "version": 3
   },
   "file_extension": ".py",
   "mimetype": "text/x-python",
   "name": "python",
   "nbconvert_exporter": "python",
   "pygments_lexer": "ipython3",
   "version": "3.11.3"
  }
 },
 "nbformat": 4,
 "nbformat_minor": 5
}
