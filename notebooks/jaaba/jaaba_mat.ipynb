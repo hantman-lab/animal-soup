{
 "cells": [
  {
   "cell_type": "markdown",
   "id": "a5c6c3e1-59c8-4df8-9fb1-479598168cca",
   "metadata": {},
   "source": [
    "### Ethogram from JAABA .mat file"
   ]
  },
  {
   "cell_type": "code",
   "execution_count": 1,
   "id": "18c4edfd-0a16-437f-8bc0-61198d22b695",
   "metadata": {
    "tags": []
   },
   "outputs": [],
   "source": [
    "from scipy.io import loadmat\n",
    "import numpy as np\n",
    "import seaborn as sns\n",
    "import matplotlib.pyplot as plt\n",
    "from pathlib import Path"
   ]
  },
  {
   "cell_type": "code",
   "execution_count": 2,
   "id": "989988b3-1998-45ae-afd7-22ac0c6f61aa",
   "metadata": {
    "tags": []
   },
   "outputs": [],
   "source": [
    "path = Path(\"/data/caitlin/training-vids/M235Slc17a7_Gtacr2/20170425/jaaba.mat\")"
   ]
  },
  {
   "cell_type": "code",
   "execution_count": 15,
   "id": "ccdba596-61c0-463f-81db-37115ec02347",
   "metadata": {
    "tags": []
   },
   "outputs": [],
   "source": [
    "trial_index = 0\n",
    "\n",
    "m = loadmat(path)\n",
    "behaviors = sorted([b.split('_')[0] for b in m['data'].dtype.names if 'scores' in b])\n",
    "\n",
    "all_behaviors = [\n",
    "    \"Lift\",\n",
    "    \"Handopen\",\n",
    "    \"Grab\",\n",
    "    \"Sup\",\n",
    "    \"Atmouth\",\n",
    "    \"Chew\"\n",
    "]\n",
    "\n",
    "sorted_behaviors = [b for b in all_behaviors if b in behaviors]\n",
    "\n",
    "ethograms = []\n",
    "\n",
    "mat_trial_index = np.argwhere(m[\"data\"][\"trial\"].ravel() == (trial_index + 1))\n",
    "# Trial not found in JAABA data\n",
    "if mat_trial_index.size == 0:\n",
    "    raise\n",
    "\n",
    "mat_trial_index = mat_trial_index.item()\n",
    "\n",
    "for b in sorted_behaviors:\n",
    "    behavior_index = m['data'].dtype.names.index(f'{b}_postprocessed')\n",
    "    row = m['data'][mat_trial_index][0][behavior_index]\n",
    "    row[row == -1] = 0\n",
    "    ethograms.append(row)\n",
    "\n",
    "sorted_behaviors = [b.lower() for b in sorted_behaviors]\n",
    "\n",
    "ethogram = np.hstack(ethograms).T"
   ]
  },
  {
   "cell_type": "code",
   "execution_count": 16,
   "id": "87ad5899-6835-47ea-a458-9ab758d3d6f4",
   "metadata": {
    "tags": []
   },
   "outputs": [
    {
     "data": {
      "text/plain": [
       "108"
      ]
     },
     "execution_count": 16,
     "metadata": {},
     "output_type": "execute_result"
    }
   ],
   "source": [
    "behavior_index"
   ]
  },
  {
   "cell_type": "code",
   "execution_count": 17,
   "id": "ec6fc217-2184-4a42-86ff-aa2e4c6ed8ea",
   "metadata": {
    "tags": []
   },
   "outputs": [
    {
     "data": {
      "text/plain": [
       "(70, 1)"
      ]
     },
     "execution_count": 17,
     "metadata": {},
     "output_type": "execute_result"
    }
   ],
   "source": [
    "m[\"data\"].shape"
   ]
  },
  {
   "cell_type": "code",
   "execution_count": 18,
   "id": "ef1692d3-22b5-4af1-b5ea-36cdcec30cbd",
   "metadata": {
    "tags": []
   },
   "outputs": [
    {
     "data": {
      "text/plain": [
       "<Axes: >"
      ]
     },
     "execution_count": 18,
     "metadata": {},
     "output_type": "execute_result"
    },
    {
     "data": {
      "image/png": "[encoded data removed]",
      "text/plain": [
       "<Figure size 640x480 with 2 Axes>"
      ]
     },
     "metadata": {},
     "output_type": "display_data"
    }
   ],
   "source": [
    "sns.heatmap(ethogram)"
   ]
  },
  {
   "cell_type": "code",
   "execution_count": null,
   "id": "bd0dd6d0-3d9e-4d0a-8d05-10bdc951e94b",
   "metadata": {},
   "outputs": [],
   "source": []
  }
 ],
 "metadata": {
  "kernelspec": {
   "display_name": "Python 3 (ipykernel)",
   "language": "python",
   "name": "python3"
  },
  "language_info": {
   "codemirror_mode": {
    "name": "ipython",
    "version": 3
   },
   "file_extension": ".py",
   "mimetype": "text/x-python",
   "name": "python",
   "nbconvert_exporter": "python",
   "pygments_lexer": "ipython3",
   "version": "3.11.3"
  }
 },
 "nbformat": 4,
 "nbformat_minor": 5
}
