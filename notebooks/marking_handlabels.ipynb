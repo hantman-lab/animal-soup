{
 "cells": [
  {
   "cell_type": "code",
   "execution_count": 1,
   "id": "32c68b75-23d9-4123-9ae4-89ed237054b4",
   "metadata": {},
   "outputs": [
    {
     "name": "stderr",
     "output_type": "stream",
     "text": [
      "2023-06-07 11:20:16.089028: I tensorflow/core/platform/cpu_feature_guard.cc:182] This TensorFlow binary is optimized to use available CPU instructions in performance-critical operations.\n",
      "To enable the following instructions: AVX2 FMA, in other operations, rebuild TensorFlow with the appropriate compiler flags.\n",
      "2023-06-07 11:20:16.560798: W tensorflow/compiler/tf2tensorrt/utils/py_utils.cc:38] TF-TRT Warning: Could not find TensorRT\n",
      "/home/clewis7/repos/animal-soup/animal_soup/batch_utils.py:137: UserWarning: registration of accessor <class 'animal_soup.batch_utils.PathsDataFrameExtension'> under name 'paths' for type <class 'pandas.core.frame.DataFrame'> is overriding a preexisting attribute with the same name.\n",
      "  @pd.api.extensions.register_dataframe_accessor(\"paths\")\n",
      "/home/clewis7/repos/animal-soup/animal_soup/batch_utils.py:142: UserWarning: registration of accessor <class 'animal_soup.batch_utils.PathsSeriesExtension'> under name 'paths' for type <class 'pandas.core.series.Series'> is overriding a preexisting attribute with the same name.\n",
      "  @pd.api.extensions.register_series_accessor(\"paths\")\n",
      "/home/clewis7/repos/animal-soup/animal_soup/extensions/viewer.py:8: UserWarning: registration of accessor <class 'animal_soup.extensions.viewer.BehaviorDataFrameVizExtension'> under name 'behavior' for type <class 'pandas.core.frame.DataFrame'> is overriding a preexisting attribute with the same name.\n",
      "  @pd.api.extensions.register_dataframe_accessor(\"behavior\")\n"
     ]
    }
   ],
   "source": [
    "from animal_soup import *"
   ]
  },
  {
   "cell_type": "code",
   "execution_count": 2,
   "id": "134e9e5b-f98f-4080-ba2a-237e12689a6f",
   "metadata": {
    "tags": []
   },
   "outputs": [
    {
     "data": {
      "text/plain": [
       "PosixPath('/data/caitlin/training-vids')"
      ]
     },
     "execution_count": 2,
     "metadata": {},
     "output_type": "execute_result"
    }
   ],
   "source": [
    "set_parent_raw_data_path(\"/data/caitlin/training-vids/\")"
   ]
  },
  {
   "cell_type": "code",
   "execution_count": 3,
   "id": "24dd6ad7-4174-47ac-92e6-bb57970db437",
   "metadata": {
    "tags": []
   },
   "outputs": [],
   "source": [
    "df = load_df(get_parent_raw_data_path().joinpath(\"data-frames\", \"animals\"))"
   ]
  },
  {
   "cell_type": "code",
   "execution_count": 4,
   "id": "74df189d-697e-41b0-9934-9f40f68eaae8",
   "metadata": {
    "tags": []
   },
   "outputs": [
    {
     "data": {
      "text/html": [
       "<div>\n",
       "<style scoped>\n",
       "    .dataframe tbody tr th:only-of-type {\n",
       "        vertical-align: middle;\n",
       "    }\n",
       "\n",
       "    .dataframe tbody tr th {\n",
       "        vertical-align: top;\n",
       "    }\n",
       "\n",
       "    .dataframe thead th {\n",
       "        text-align: right;\n",
       "    }\n",
       "</style>\n",
       "<table border=\"1\" class=\"dataframe\">\n",
       "  <thead>\n",
       "    <tr style=\"text-align: right;\">\n",
       "      <th></th>\n",
       "      <th>animal_id</th>\n",
       "      <th>session_id</th>\n",
       "      <th>mat_path</th>\n",
       "      <th>deg_path</th>\n",
       "      <th>session_vids</th>\n",
       "      <th>training_trials</th>\n",
       "      <th>notes</th>\n",
       "    </tr>\n",
       "  </thead>\n",
       "  <tbody>\n",
       "    <tr>\n",
       "      <th>0</th>\n",
       "      <td>M235Slc17a7_Gtacr2</td>\n",
       "      <td>20170424</td>\n",
       "      <td>M235Slc17a7_Gtacr2/20170424/jaaba.mat</td>\n",
       "      <td>M235Slc17a7_Gtacr2/20170424/deg_labels.npy</td>\n",
       "      <td>[M235Slc17a7_Gtacr2/20170424/M235_20170424_v00...</td>\n",
       "      <td>[M235_20170424_v001, M235_20170424_v002, M235_...</td>\n",
       "      <td>None</td>\n",
       "    </tr>\n",
       "    <tr>\n",
       "      <th>1</th>\n",
       "      <td>M235Slc17a7_Gtacr2</td>\n",
       "      <td>20170425</td>\n",
       "      <td>M235Slc17a7_Gtacr2/20170425/jaaba.mat</td>\n",
       "      <td>None</td>\n",
       "      <td>[M235Slc17a7_Gtacr2/20170425/M235_20170425_v00...</td>\n",
       "      <td>[M235_20170425_v001, M235_20170425_v002, M235_...</td>\n",
       "      <td>None</td>\n",
       "    </tr>\n",
       "    <tr>\n",
       "      <th>2</th>\n",
       "      <td>M235Slc17a7_Gtacr2</td>\n",
       "      <td>20170426</td>\n",
       "      <td>M235Slc17a7_Gtacr2/20170426/jaaba.mat</td>\n",
       "      <td>None</td>\n",
       "      <td>[M235Slc17a7_Gtacr2/20170426/M235_20170426_v00...</td>\n",
       "      <td>[M235_20170426_v001, M235_20170426_v002, M235_...</td>\n",
       "      <td>None</td>\n",
       "    </tr>\n",
       "    <tr>\n",
       "      <th>3</th>\n",
       "      <td>M235Slc17a7_Gtacr2</td>\n",
       "      <td>20170427</td>\n",
       "      <td>M235Slc17a7_Gtacr2/20170427/jaaba.mat</td>\n",
       "      <td>None</td>\n",
       "      <td>[M235Slc17a7_Gtacr2/20170427/M235_20170427_v00...</td>\n",
       "      <td>[]</td>\n",
       "      <td>None</td>\n",
       "    </tr>\n",
       "    <tr>\n",
       "      <th>4</th>\n",
       "      <td>M235Slc17a7_Gtacr2</td>\n",
       "      <td>20170428</td>\n",
       "      <td>M235Slc17a7_Gtacr2/20170428/jaaba.mat</td>\n",
       "      <td>None</td>\n",
       "      <td>[M235Slc17a7_Gtacr2/20170428/M235_20170428_v00...</td>\n",
       "      <td>[]</td>\n",
       "      <td>None</td>\n",
       "    </tr>\n",
       "    <tr>\n",
       "      <th>...</th>\n",
       "      <td>...</td>\n",
       "      <td>...</td>\n",
       "      <td>...</td>\n",
       "      <td>...</td>\n",
       "      <td>...</td>\n",
       "      <td>...</td>\n",
       "      <td>...</td>\n",
       "    </tr>\n",
       "    <tr>\n",
       "      <th>135</th>\n",
       "      <td>M239Slc17a7_Gtacr2</td>\n",
       "      <td>20170908</td>\n",
       "      <td>M239Slc17a7_Gtacr2/20170908/jaaba.mat</td>\n",
       "      <td>None</td>\n",
       "      <td>[M239Slc17a7_Gtacr2/20170908/M239_20170908_v00...</td>\n",
       "      <td>[]</td>\n",
       "      <td>None</td>\n",
       "    </tr>\n",
       "    <tr>\n",
       "      <th>136</th>\n",
       "      <td>M242Slc17a7_Chr2BPN_DCN</td>\n",
       "      <td>20170911</td>\n",
       "      <td>M242Slc17a7_Chr2BPN_DCN/20170911/jaaba.mat</td>\n",
       "      <td>None</td>\n",
       "      <td>[M242Slc17a7_Chr2BPN_DCN/20170911/M242_2017091...</td>\n",
       "      <td>[]</td>\n",
       "      <td>None</td>\n",
       "    </tr>\n",
       "    <tr>\n",
       "      <th>137</th>\n",
       "      <td>M242Slc17a7_Chr2BPN_DCN</td>\n",
       "      <td>20170912</td>\n",
       "      <td>M242Slc17a7_Chr2BPN_DCN/20170912/jaaba.mat</td>\n",
       "      <td>None</td>\n",
       "      <td>[M242Slc17a7_Chr2BPN_DCN/20170912/M242_2017091...</td>\n",
       "      <td>[]</td>\n",
       "      <td>None</td>\n",
       "    </tr>\n",
       "    <tr>\n",
       "      <th>138</th>\n",
       "      <td>M243Slc17a7_Chr2BPN_DCN</td>\n",
       "      <td>20170823</td>\n",
       "      <td>M243Slc17a7_Chr2BPN_DCN/20170823/jaaba.mat</td>\n",
       "      <td>None</td>\n",
       "      <td>[M243Slc17a7_Chr2BPN_DCN/20170823/M243_2017082...</td>\n",
       "      <td>[M243_20170823_v003, M243_20170823_v004, M243_...</td>\n",
       "      <td>None</td>\n",
       "    </tr>\n",
       "    <tr>\n",
       "      <th>139</th>\n",
       "      <td>M243Slc17a7_Chr2BPN_DCN</td>\n",
       "      <td>20170824</td>\n",
       "      <td>M243Slc17a7_Chr2BPN_DCN/20170824/jaaba.mat</td>\n",
       "      <td>None</td>\n",
       "      <td>[M243Slc17a7_Chr2BPN_DCN/20170824/M243_2017082...</td>\n",
       "      <td>[]</td>\n",
       "      <td>None</td>\n",
       "    </tr>\n",
       "  </tbody>\n",
       "</table>\n",
       "<p>140 rows × 7 columns</p>\n",
       "</div>"
      ],
      "text/plain": [
       "                   animal_id session_id   \n",
       "0         M235Slc17a7_Gtacr2   20170424  \\\n",
       "1         M235Slc17a7_Gtacr2   20170425   \n",
       "2         M235Slc17a7_Gtacr2   20170426   \n",
       "3         M235Slc17a7_Gtacr2   20170427   \n",
       "4         M235Slc17a7_Gtacr2   20170428   \n",
       "..                       ...        ...   \n",
       "135       M239Slc17a7_Gtacr2   20170908   \n",
       "136  M242Slc17a7_Chr2BPN_DCN   20170911   \n",
       "137  M242Slc17a7_Chr2BPN_DCN   20170912   \n",
       "138  M243Slc17a7_Chr2BPN_DCN   20170823   \n",
       "139  M243Slc17a7_Chr2BPN_DCN   20170824   \n",
       "\n",
       "                                       mat_path   \n",
       "0         M235Slc17a7_Gtacr2/20170424/jaaba.mat  \\\n",
       "1         M235Slc17a7_Gtacr2/20170425/jaaba.mat   \n",
       "2         M235Slc17a7_Gtacr2/20170426/jaaba.mat   \n",
       "3         M235Slc17a7_Gtacr2/20170427/jaaba.mat   \n",
       "4         M235Slc17a7_Gtacr2/20170428/jaaba.mat   \n",
       "..                                          ...   \n",
       "135       M239Slc17a7_Gtacr2/20170908/jaaba.mat   \n",
       "136  M242Slc17a7_Chr2BPN_DCN/20170911/jaaba.mat   \n",
       "137  M242Slc17a7_Chr2BPN_DCN/20170912/jaaba.mat   \n",
       "138  M243Slc17a7_Chr2BPN_DCN/20170823/jaaba.mat   \n",
       "139  M243Slc17a7_Chr2BPN_DCN/20170824/jaaba.mat   \n",
       "\n",
       "                                       deg_path   \n",
       "0    M235Slc17a7_Gtacr2/20170424/deg_labels.npy  \\\n",
       "1                                          None   \n",
       "2                                          None   \n",
       "3                                          None   \n",
       "4                                          None   \n",
       "..                                          ...   \n",
       "135                                        None   \n",
       "136                                        None   \n",
       "137                                        None   \n",
       "138                                        None   \n",
       "139                                        None   \n",
       "\n",
       "                                          session_vids   \n",
       "0    [M235Slc17a7_Gtacr2/20170424/M235_20170424_v00...  \\\n",
       "1    [M235Slc17a7_Gtacr2/20170425/M235_20170425_v00...   \n",
       "2    [M235Slc17a7_Gtacr2/20170426/M235_20170426_v00...   \n",
       "3    [M235Slc17a7_Gtacr2/20170427/M235_20170427_v00...   \n",
       "4    [M235Slc17a7_Gtacr2/20170428/M235_20170428_v00...   \n",
       "..                                                 ...   \n",
       "135  [M239Slc17a7_Gtacr2/20170908/M239_20170908_v00...   \n",
       "136  [M242Slc17a7_Chr2BPN_DCN/20170911/M242_2017091...   \n",
       "137  [M242Slc17a7_Chr2BPN_DCN/20170912/M242_2017091...   \n",
       "138  [M243Slc17a7_Chr2BPN_DCN/20170823/M243_2017082...   \n",
       "139  [M243Slc17a7_Chr2BPN_DCN/20170824/M243_2017082...   \n",
       "\n",
       "                                       training_trials notes  \n",
       "0    [M235_20170424_v001, M235_20170424_v002, M235_...  None  \n",
       "1    [M235_20170425_v001, M235_20170425_v002, M235_...  None  \n",
       "2    [M235_20170426_v001, M235_20170426_v002, M235_...  None  \n",
       "3                                                   []  None  \n",
       "4                                                   []  None  \n",
       "..                                                 ...   ...  \n",
       "135                                                 []  None  \n",
       "136                                                 []  None  \n",
       "137                                                 []  None  \n",
       "138  [M243_20170823_v003, M243_20170823_v004, M243_...  None  \n",
       "139                                                 []  None  \n",
       "\n",
       "[140 rows x 7 columns]"
      ]
     },
     "execution_count": 4,
     "metadata": {},
     "output_type": "execute_result"
    }
   ],
   "source": [
    "df"
   ]
  },
  {
   "cell_type": "code",
   "execution_count": 5,
   "id": "40f9bb9e-925e-46d4-abaa-d8fa4bee86cb",
   "metadata": {
    "tags": []
   },
   "outputs": [
    {
     "name": "stderr",
     "output_type": "stream",
     "text": [
      "/home/clewis7/venvs/mescore/lib/python3.11/site-packages/ipydatagrid/datagrid.py:445: UserWarning: Index name of 'index' is not round-trippable.\n",
      "  schema = pd.io.json.build_table_schema(dataframe)\n"
     ]
    },
    {
     "data": {
      "application/vnd.jupyter.widget-view+json": {
       "model_id": "9b474c1581e14098a082d48348e74755",
       "version_major": 2,
       "version_minor": 0
      },
      "text/plain": [
       "RFBOutputContext()"
      ]
     },
     "metadata": {},
     "output_type": "display_data"
    },
    {
     "name": "stderr",
     "output_type": "stream",
     "text": [
      "/home/clewis7/repos/mesmerize-core/mesmerize_core/arrays/_video.py:87: UserWarning: min not implemented for LazyTiff, returning min of 0th index\n",
      "  warn(\"min not implemented for LazyTiff, returning min of 0th index\")\n",
      "/home/clewis7/repos/mesmerize-core/mesmerize_core/arrays/_video.py:92: UserWarning: max not implemented for LazyTiff, returning min of 0th index\n",
      "  warn(\"max not implemented for LazyTiff, returning min of 0th index\")\n"
     ]
    },
    {
     "data": {
      "application/vnd.jupyter.widget-view+json": {
       "model_id": "4fed897f633247b3ac0fd47c682841d7",
       "version_major": 2,
       "version_minor": 0
      },
      "text/plain": [
       "RFBOutputContext()"
      ]
     },
     "metadata": {},
     "output_type": "display_data"
    }
   ],
   "source": [
    "container = df.behavior.ethogram_view()"
   ]
  },
  {
   "cell_type": "code",
   "execution_count": 6,
   "id": "0c6733e7-2f75-494f-9d58-20d8a53bca2d",
   "metadata": {
    "tags": []
   },
   "outputs": [
    {
     "data": {
      "application/vnd.jupyter.widget-view+json": {
       "model_id": "181bc81f330945499df3b331401eb0f1",
       "version_major": 2,
       "version_minor": 0
      },
      "text/plain": [
       "VBox(children=(DataGrid(auto_fit_params={'area': 'all', 'padding': 30, 'numCols': None}, base_row_size=24, col…"
      ]
     },
     "execution_count": 6,
     "metadata": {},
     "output_type": "execute_result"
    }
   ],
   "source": [
    "container.show()"
   ]
  },
  {
   "cell_type": "code",
   "execution_count": 30,
   "id": "9def8796-472f-4de9-a5ab-4f9a5fa4a28a",
   "metadata": {
    "tags": []
   },
   "outputs": [
    {
     "data": {
      "text/html": [
       "<div>\n",
       "<style scoped>\n",
       "    .dataframe tbody tr th:only-of-type {\n",
       "        vertical-align: middle;\n",
       "    }\n",
       "\n",
       "    .dataframe tbody tr th {\n",
       "        vertical-align: top;\n",
       "    }\n",
       "\n",
       "    .dataframe thead th {\n",
       "        text-align: right;\n",
       "    }\n",
       "</style>\n",
       "<table border=\"1\" class=\"dataframe\">\n",
       "  <thead>\n",
       "    <tr style=\"text-align: right;\">\n",
       "      <th></th>\n",
       "      <th>animal_id</th>\n",
       "      <th>session_id</th>\n",
       "      <th>mat_path</th>\n",
       "      <th>deg_path</th>\n",
       "      <th>session_vids</th>\n",
       "      <th>training_trials</th>\n",
       "      <th>notes</th>\n",
       "    </tr>\n",
       "  </thead>\n",
       "  <tbody>\n",
       "    <tr>\n",
       "      <th>138</th>\n",
       "      <td>M243Slc17a7_Chr2BPN_DCN</td>\n",
       "      <td>20170823</td>\n",
       "      <td>M243Slc17a7_Chr2BPN_DCN/20170823/jaaba.mat</td>\n",
       "      <td>None</td>\n",
       "      <td>[M243Slc17a7_Chr2BPN_DCN/20170823/M243_2017082...</td>\n",
       "      <td>[M243_20170823_v003, M243_20170823_v004, M243_...</td>\n",
       "      <td>None</td>\n",
       "    </tr>\n",
       "    <tr>\n",
       "      <th>139</th>\n",
       "      <td>M243Slc17a7_Chr2BPN_DCN</td>\n",
       "      <td>20170824</td>\n",
       "      <td>M243Slc17a7_Chr2BPN_DCN/20170824/jaaba.mat</td>\n",
       "      <td>None</td>\n",
       "      <td>[M243Slc17a7_Chr2BPN_DCN/20170824/M243_2017082...</td>\n",
       "      <td>[]</td>\n",
       "      <td>None</td>\n",
       "    </tr>\n",
       "  </tbody>\n",
       "</table>\n",
       "</div>"
      ],
      "text/plain": [
       "                   animal_id session_id   \n",
       "138  M243Slc17a7_Chr2BPN_DCN   20170823  \\\n",
       "139  M243Slc17a7_Chr2BPN_DCN   20170824   \n",
       "\n",
       "                                       mat_path deg_path   \n",
       "138  M243Slc17a7_Chr2BPN_DCN/20170823/jaaba.mat     None  \\\n",
       "139  M243Slc17a7_Chr2BPN_DCN/20170824/jaaba.mat     None   \n",
       "\n",
       "                                          session_vids   \n",
       "138  [M243Slc17a7_Chr2BPN_DCN/20170823/M243_2017082...  \\\n",
       "139  [M243Slc17a7_Chr2BPN_DCN/20170824/M243_2017082...   \n",
       "\n",
       "                                       training_trials notes  \n",
       "138  [M243_20170823_v003, M243_20170823_v004, M243_...  None  \n",
       "139                                                 []  None  "
      ]
     },
     "execution_count": 30,
     "metadata": {},
     "output_type": "execute_result"
    }
   ],
   "source": [
    "df = load_df(get_parent_raw_data_path().joinpath(\"data-frames\", \"animals\"))\n",
    "df[df['animal_id']== 'M243Slc17a7_Chr2BPN_DCN']"
   ]
  },
  {
   "cell_type": "code",
   "execution_count": null,
   "id": "59ea926e-3588-4d7a-86df-8c3b33d538d6",
   "metadata": {},
   "outputs": [],
   "source": []
  }
 ],
 "metadata": {
  "kernelspec": {
   "display_name": "Python 3 (ipykernel)",
   "language": "python",
   "name": "python3"
  },
  "language_info": {
   "codemirror_mode": {
    "name": "ipython",
    "version": 3
   },
   "file_extension": ".py",
   "mimetype": "text/x-python",
   "name": "python",
   "nbconvert_exporter": "python",
   "pygments_lexer": "ipython3",
   "version": "3.11.3"
  }
 },
 "nbformat": 4,
 "nbformat_minor": 5
}
