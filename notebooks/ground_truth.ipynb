{
 "cells": [
  {
   "cell_type": "code",
   "execution_count": 1,
   "id": "92a40f43-cbfe-4ed3-a335-30e41e72569b",
   "metadata": {
    "tags": []
   },
   "outputs": [
    {
     "name": "stderr",
     "output_type": "stream",
     "text": [
      "2023-06-22 15:05:41.334935: I tensorflow/core/platform/cpu_feature_guard.cc:182] This TensorFlow binary is optimized to use available CPU instructions in performance-critical operations.\n",
      "To enable the following instructions: AVX2 FMA, in other operations, rebuild TensorFlow with the appropriate compiler flags.\n",
      "2023-06-22 15:05:41.789016: W tensorflow/compiler/tf2tensorrt/utils/py_utils.cc:38] TF-TRT Warning: Could not find TensorRT\n",
      "/home/clewis7/repos/animal-soup/animal_soup/batch_utils.py:148: UserWarning: registration of accessor <class 'animal_soup.batch_utils.PathsDataFrameExtension'> under name 'paths' for type <class 'pandas.core.frame.DataFrame'> is overriding a preexisting attribute with the same name.\n",
      "  @pd.api.extensions.register_dataframe_accessor(\"paths\")\n",
      "/home/clewis7/repos/animal-soup/animal_soup/batch_utils.py:153: UserWarning: registration of accessor <class 'animal_soup.batch_utils.PathsSeriesExtension'> under name 'paths' for type <class 'pandas.core.series.Series'> is overriding a preexisting attribute with the same name.\n",
      "  @pd.api.extensions.register_series_accessor(\"paths\")\n"
     ]
    }
   ],
   "source": [
    "import fastplotlib as fpl\n",
    "from animal_soup import *\n",
    "from pathlib import Path"
   ]
  },
  {
   "cell_type": "markdown",
   "id": "4be19744-a074-4085-8355-0f1fa3beb795",
   "metadata": {},
   "source": [
    "## Behavioral Classification using `fastplotlib`"
   ]
  },
  {
   "cell_type": "code",
   "execution_count": 2,
   "id": "b474cedc-148d-49f9-a940-3f7eb0df30b8",
   "metadata": {
    "tags": []
   },
   "outputs": [
    {
     "data": {
      "text/plain": [
       "PosixPath('/data/caitlin/ground_truth')"
      ]
     },
     "execution_count": 2,
     "metadata": {},
     "output_type": "execute_result"
    }
   ],
   "source": [
    "set_parent_raw_data_path('/data/caitlin/ground_truth/')"
   ]
  },
  {
   "cell_type": "code",
   "execution_count": 3,
   "id": "a2fd5f08-e630-4834-b497-d6ed82b689c5",
   "metadata": {
    "tags": []
   },
   "outputs": [],
   "source": [
    "df_path = get_parent_raw_data_path().joinpath('ground_truth_378.hdf')"
   ]
  },
  {
   "cell_type": "code",
   "execution_count": 4,
   "id": "8f01f05f-7898-407f-98d8-7c8e7ffd86a4",
   "metadata": {
    "tags": []
   },
   "outputs": [],
   "source": [
    "behavior_df = load_df(df_path)"
   ]
  },
  {
   "cell_type": "code",
   "execution_count": 5,
   "id": "bdd273bd-b50e-476d-80ea-1eea2dc9d16f",
   "metadata": {
    "tags": []
   },
   "outputs": [
    {
     "data": {
      "text/html": [
       "<div>\n",
       "<style scoped>\n",
       "    .dataframe tbody tr th:only-of-type {\n",
       "        vertical-align: middle;\n",
       "    }\n",
       "\n",
       "    .dataframe tbody tr th {\n",
       "        vertical-align: top;\n",
       "    }\n",
       "\n",
       "    .dataframe thead th {\n",
       "        text-align: right;\n",
       "    }\n",
       "</style>\n",
       "<table border=\"1\" class=\"dataframe\">\n",
       "  <thead>\n",
       "    <tr style=\"text-align: right;\">\n",
       "      <th></th>\n",
       "      <th>animal_id</th>\n",
       "      <th>session_id</th>\n",
       "      <th>ethograms</th>\n",
       "      <th>notes</th>\n",
       "    </tr>\n",
       "  </thead>\n",
       "  <tbody>\n",
       "    <tr>\n",
       "      <th>0</th>\n",
       "      <td>M232Slc17a7_Gtacr2</td>\n",
       "      <td>20170314</td>\n",
       "      <td>{'M232_20170314_v029': [[0.0, 0.0, 0.0, 0.0, 0...</td>\n",
       "      <td>{'type': 'table'}</td>\n",
       "    </tr>\n",
       "    <tr>\n",
       "      <th>1</th>\n",
       "      <td>M232Slc17a7_Gtacr2</td>\n",
       "      <td>20170307</td>\n",
       "      <td>{'M232_20170307_v064': [[0.0, 0.0, 0.0, 0.0, 0...</td>\n",
       "      <td>{'type': 'table'}</td>\n",
       "    </tr>\n",
       "    <tr>\n",
       "      <th>2</th>\n",
       "      <td>M232Slc17a7_Gtacr2</td>\n",
       "      <td>20170306</td>\n",
       "      <td>{'M232_20170306_v074': [[0.0, 0.0, 0.0, 0.0, 0...</td>\n",
       "      <td>{'type': 'table'}</td>\n",
       "    </tr>\n",
       "    <tr>\n",
       "      <th>3</th>\n",
       "      <td>M232Slc17a7_Gtacr2</td>\n",
       "      <td>20170308</td>\n",
       "      <td>{'M232_20170308_v034': [[0.0, 0.0, 0.0, 0.0, 0...</td>\n",
       "      <td>{'type': 'table'}</td>\n",
       "    </tr>\n",
       "    <tr>\n",
       "      <th>4</th>\n",
       "      <td>M232Slc17a7_Gtacr2</td>\n",
       "      <td>20170310</td>\n",
       "      <td>{'M232_20170310_v013': [[0, 0, 0, 0, 0, 0, 0, ...</td>\n",
       "      <td>{'type': 'table'}</td>\n",
       "    </tr>\n",
       "    <tr>\n",
       "      <th>...</th>\n",
       "      <td>...</td>\n",
       "      <td>...</td>\n",
       "      <td>...</td>\n",
       "      <td>...</td>\n",
       "    </tr>\n",
       "    <tr>\n",
       "      <th>120</th>\n",
       "      <td>M243Slc17a7_Chr2BPN_DCN</td>\n",
       "      <td>20170824</td>\n",
       "      <td>{'M243_20170824_v001': [[0, 0, 0, 0, 0, 0, 0, ...</td>\n",
       "      <td>{'type': 'table'}</td>\n",
       "    </tr>\n",
       "    <tr>\n",
       "      <th>121</th>\n",
       "      <td>M259VGATXChR2TRN_TH</td>\n",
       "      <td>20180404</td>\n",
       "      <td>{'M259_20180404_v060': [[0.0, 0.0, 0.0, 0.0, 0...</td>\n",
       "      <td>{'type': 'table'}</td>\n",
       "    </tr>\n",
       "    <tr>\n",
       "      <th>122</th>\n",
       "      <td>M259VGATXChR2TRN_TH</td>\n",
       "      <td>20180416</td>\n",
       "      <td>{'M259_20180416_v164': [[0.0, 0.0, 0.0, 0.0, 0...</td>\n",
       "      <td>{'type': 'table'}</td>\n",
       "    </tr>\n",
       "    <tr>\n",
       "      <th>123</th>\n",
       "      <td>M259VGATXChR2TRN_TH</td>\n",
       "      <td>20180417</td>\n",
       "      <td>{'M259_20180417_v004': [[0.0, 0.0, 0.0, 0.0, 0...</td>\n",
       "      <td>{'type': 'table'}</td>\n",
       "    </tr>\n",
       "    <tr>\n",
       "      <th>124</th>\n",
       "      <td>M259VGATXChR2TRN_TH</td>\n",
       "      <td>20180418</td>\n",
       "      <td>{'M259_20180418_v030': [[0.0, 0.0, 0.0, 0.0, 0...</td>\n",
       "      <td>{'type': 'table'}</td>\n",
       "    </tr>\n",
       "  </tbody>\n",
       "</table>\n",
       "<p>125 rows × 4 columns</p>\n",
       "</div>"
      ],
      "text/plain": [
       "                   animal_id session_id   \n",
       "0         M232Slc17a7_Gtacr2   20170314  \\\n",
       "1         M232Slc17a7_Gtacr2   20170307   \n",
       "2         M232Slc17a7_Gtacr2   20170306   \n",
       "3         M232Slc17a7_Gtacr2   20170308   \n",
       "4         M232Slc17a7_Gtacr2   20170310   \n",
       "..                       ...        ...   \n",
       "120  M243Slc17a7_Chr2BPN_DCN   20170824   \n",
       "121      M259VGATXChR2TRN_TH   20180404   \n",
       "122      M259VGATXChR2TRN_TH   20180416   \n",
       "123      M259VGATXChR2TRN_TH   20180417   \n",
       "124      M259VGATXChR2TRN_TH   20180418   \n",
       "\n",
       "                                             ethograms              notes  \n",
       "0    {'M232_20170314_v029': [[0.0, 0.0, 0.0, 0.0, 0...  {'type': 'table'}  \n",
       "1    {'M232_20170307_v064': [[0.0, 0.0, 0.0, 0.0, 0...  {'type': 'table'}  \n",
       "2    {'M232_20170306_v074': [[0.0, 0.0, 0.0, 0.0, 0...  {'type': 'table'}  \n",
       "3    {'M232_20170308_v034': [[0.0, 0.0, 0.0, 0.0, 0...  {'type': 'table'}  \n",
       "4    {'M232_20170310_v013': [[0, 0, 0, 0, 0, 0, 0, ...  {'type': 'table'}  \n",
       "..                                                 ...                ...  \n",
       "120  {'M243_20170824_v001': [[0, 0, 0, 0, 0, 0, 0, ...  {'type': 'table'}  \n",
       "121  {'M259_20180404_v060': [[0.0, 0.0, 0.0, 0.0, 0...  {'type': 'table'}  \n",
       "122  {'M259_20180416_v164': [[0.0, 0.0, 0.0, 0.0, 0...  {'type': 'table'}  \n",
       "123  {'M259_20180417_v004': [[0.0, 0.0, 0.0, 0.0, 0...  {'type': 'table'}  \n",
       "124  {'M259_20180418_v030': [[0.0, 0.0, 0.0, 0.0, 0...  {'type': 'table'}  \n",
       "\n",
       "[125 rows x 4 columns]"
      ]
     },
     "execution_count": 5,
     "metadata": {},
     "output_type": "execute_result"
    }
   ],
   "source": [
    "behavior_df"
   ]
  },
  {
   "cell_type": "code",
   "execution_count": 6,
   "id": "fc521789-007d-463c-8776-1f622114d814",
   "metadata": {
    "tags": []
   },
   "outputs": [
    {
     "name": "stderr",
     "output_type": "stream",
     "text": [
      "/home/clewis7/venvs/mescore/lib/python3.11/site-packages/ipydatagrid/datagrid.py:445: UserWarning: Index name of 'index' is not round-trippable.\n",
      "  schema = pd.io.json.build_table_schema(dataframe)\n"
     ]
    },
    {
     "data": {
      "application/vnd.jupyter.widget-view+json": {
       "model_id": "cc5defff37a24baaad3bfaeb5db23ccd",
       "version_major": 2,
       "version_minor": 0
      },
      "text/plain": [
       "RFBOutputContext()"
      ]
     },
     "metadata": {},
     "output_type": "display_data"
    },
    {
     "name": "stderr",
     "output_type": "stream",
     "text": [
      "/home/clewis7/repos/mesmerize-core/mesmerize_core/arrays/_video.py:87: UserWarning: min not implemented for LazyTiff, returning min of 0th index\n",
      "  warn(\"min not implemented for LazyTiff, returning min of 0th index\")\n",
      "/home/clewis7/repos/mesmerize-core/mesmerize_core/arrays/_video.py:92: UserWarning: max not implemented for LazyTiff, returning min of 0th index\n",
      "  warn(\"max not implemented for LazyTiff, returning min of 0th index\")\n"
     ]
    },
    {
     "data": {
      "application/vnd.jupyter.widget-view+json": {
       "model_id": "1a4fdc849834450da7f76a8ca3d6b4e0",
       "version_major": 2,
       "version_minor": 0
      },
      "text/plain": [
       "RFBOutputContext()"
      ]
     },
     "metadata": {},
     "output_type": "display_data"
    }
   ],
   "source": [
    "container = behavior_df.behavior.view()"
   ]
  },
  {
   "cell_type": "code",
   "execution_count": 7,
   "id": "f604ad2e-158c-4997-8ef5-75d930ed89f7",
   "metadata": {
    "tags": []
   },
   "outputs": [
    {
     "data": {
      "application/vnd.jupyter.widget-view+json": {
       "model_id": "e33286c466744bd6ac05306bae18d2c0",
       "version_major": 2,
       "version_minor": 0
      },
      "text/plain": [
       "VBox(children=(DataGrid(auto_fit_params={'area': 'all', 'padding': 30, 'numCols': None}, base_row_size=24, col…"
      ]
     },
     "execution_count": 7,
     "metadata": {},
     "output_type": "execute_result"
    }
   ],
   "source": [
    "container.show()"
   ]
  },
  {
   "cell_type": "code",
   "execution_count": null,
   "id": "ab142eee-8029-4513-b432-f5ef19ec6dfd",
   "metadata": {},
   "outputs": [],
   "source": []
  },
  {
   "cell_type": "code",
   "execution_count": null,
   "id": "958d8cb3-ec89-4c70-8416-ab57f8ca0e60",
   "metadata": {},
   "outputs": [],
   "source": []
  }
 ],
 "metadata": {
  "kernelspec": {
   "display_name": "Python 3 (ipykernel)",
   "language": "python",
   "name": "python3"
  },
  "language_info": {
   "codemirror_mode": {
    "name": "ipython",
    "version": 3
   },
   "file_extension": ".py",
   "mimetype": "text/x-python",
   "name": "python",
   "nbconvert_exporter": "python",
   "pygments_lexer": "ipython3",
   "version": "3.11.3"
  }
 },
 "nbformat": 4,
 "nbformat_minor": 5
}
