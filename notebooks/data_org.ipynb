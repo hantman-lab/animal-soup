{
 "cells": [
  {
   "cell_type": "markdown",
   "id": "e620c2ef-c0b1-4058-ad22-48fba4756784",
   "metadata": {},
   "source": [
    "### Organizing training data for visualization"
   ]
  },
  {
   "cell_type": "code",
   "execution_count": 1,
   "id": "4094b751-59c2-48ab-8017-a0d95d6c3918",
   "metadata": {},
   "outputs": [],
   "source": [
    "from pathlib import Path\n",
    "from tqdm import tqdm\n",
    "import pandas as pd\n",
    "from datetime import datetime"
   ]
  },
  {
   "cell_type": "code",
   "execution_count": 2,
   "id": "0312b1ba-4928-4b0a-8cac-6d20ab79a77d",
   "metadata": {},
   "outputs": [],
   "source": [
    "training_data_path = Path('/data/caitlin/training-vids/')\n",
    "df_dir_path = Path('/data/caitlin/data-frames/')"
   ]
  },
  {
   "cell_type": "code",
   "execution_count": 9,
   "id": "842e46fd-1c8f-4e53-8d1d-8a835844a07c",
   "metadata": {
    "tags": []
   },
   "outputs": [],
   "source": [
    "df = pd.DataFrame(columns=[\"animal_id\", \"session_id\", \"mat_file\", \"session_vids\", \"notes\"])"
   ]
  },
  {
   "cell_type": "code",
   "execution_count": 10,
   "id": "a1c7924e-85a2-4767-8902-7301e8042112",
   "metadata": {
    "tags": []
   },
   "outputs": [
    {
     "data": {
      "text/html": [
       "<div>\n",
       "<style scoped>\n",
       "    .dataframe tbody tr th:only-of-type {\n",
       "        vertical-align: middle;\n",
       "    }\n",
       "\n",
       "    .dataframe tbody tr th {\n",
       "        vertical-align: top;\n",
       "    }\n",
       "\n",
       "    .dataframe thead th {\n",
       "        text-align: right;\n",
       "    }\n",
       "</style>\n",
       "<table border=\"1\" class=\"dataframe\">\n",
       "  <thead>\n",
       "    <tr style=\"text-align: right;\">\n",
       "      <th></th>\n",
       "      <th>animal_id</th>\n",
       "      <th>session_id</th>\n",
       "      <th>mat_file</th>\n",
       "      <th>session_vids</th>\n",
       "      <th>notes</th>\n",
       "    </tr>\n",
       "  </thead>\n",
       "  <tbody>\n",
       "  </tbody>\n",
       "</table>\n",
       "</div>"
      ],
      "text/plain": [
       "Empty DataFrame\n",
       "Columns: [animal_id, session_id, mat_file, session_vids, notes]\n",
       "Index: []"
      ]
     },
     "execution_count": 10,
     "metadata": {},
     "output_type": "execute_result"
    }
   ],
   "source": [
    "df"
   ]
  },
  {
   "cell_type": "code",
   "execution_count": 11,
   "id": "64a21bb6-edf9-4e09-9c12-98bb77ad4c71",
   "metadata": {},
   "outputs": [],
   "source": [
    "# for animal in training data dir\n",
    "for animal_dir in sorted(training_data_path.glob('*')):\n",
    "    animal_id = animal_dir.stem\n",
    "    for session_dir in sorted(animal_dir.glob('*')):\n",
    "        session_id = session_dir.stem\n",
    "        mat_file = session_dir.joinpath('jaaba.mat')\n",
    "        session_vids = sorted(session_dir.glob('*.avi'))\n",
    "        df.loc[len(df.index)] = [animal_id, session_id, mat_file, session_vids, None]"
   ]
  },
  {
   "cell_type": "code",
   "execution_count": 12,
   "id": "8e79d0f7-6126-44c2-9d8f-2a11c1d79d20",
   "metadata": {
    "tags": []
   },
   "outputs": [
    {
     "name": "stderr",
     "output_type": "stream",
     "text": [
      "/tmp/ipykernel_1122097/1115306922.py:2: PerformanceWarning: \n",
      "your performance may suffer as PyTables will pickle object types that it cannot\n",
      "map directly to c-types [inferred_type->mixed,key->block0_values] [items->Index(['animal_id', 'session_id', 'mat_file', 'session_vids', 'notes'], dtype='object')]\n",
      "\n",
      "  df.to_hdf(f'{df_dir_path}/{datetime.now().isoformat()}', key='df')\n"
     ]
    }
   ],
   "source": [
    "save_df(df, df_dir_path)"
   ]
  },
  {
   "cell_type": "code",
   "execution_count": 4,
   "id": "99d539d9-11f4-42d4-9502-16b47663ef2d",
   "metadata": {},
   "outputs": [
    {
     "ename": "NameError",
     "evalue": "name 'df' is not defined",
     "output_type": "error",
     "traceback": [
      "\u001b[0;31m---------------------------------------------------------------------------\u001b[0m",
      "\u001b[0;31mNameError\u001b[0m                                 Traceback (most recent call last)",
      "Cell \u001b[0;32mIn[4], line 1\u001b[0m\n\u001b[0;32m----> 1\u001b[0m \u001b[43mdf\u001b[49m[df[\u001b[38;5;124m'\u001b[39m\u001b[38;5;124manimal_id\u001b[39m\u001b[38;5;124m'\u001b[39m]\u001b[38;5;241m==\u001b[39m\u001b[38;5;124m'\u001b[39m\u001b[38;5;124mM234Slc17a7_Gtacr2\u001b[39m\u001b[38;5;124m'\u001b[39m]\n",
      "\u001b[0;31mNameError\u001b[0m: name 'df' is not defined"
     ]
    }
   ],
   "source": [
    "df[df['animal_id']=='M234Slc17a7_Gtacr2']"
   ]
  },
  {
   "cell_type": "code",
   "execution_count": 6,
   "id": "a9459d59-42a7-4e7c-980f-39943ea77f69",
   "metadata": {},
   "outputs": [],
   "source": [
    "def save_df(df, df_dir_path):\n",
    "    df.to_hdf(f'{df_dir_path}/{datetime.now().isoformat()}', key='df')\n",
    "def load_df(df_dir_path):\n",
    "    return pd.read_hdf(sorted(df_dir_path.glob('*'))[-1])"
   ]
  },
  {
   "cell_type": "code",
   "execution_count": 13,
   "id": "72f4b8f8-2e86-42a8-b123-fe00326bfe44",
   "metadata": {},
   "outputs": [],
   "source": [
    "df = load_df(df_dir_path)"
   ]
  },
  {
   "cell_type": "code",
   "execution_count": 14,
   "id": "34d73307-9a32-4994-9120-76ac790ecf58",
   "metadata": {},
   "outputs": [
    {
     "data": {
      "text/html": [
       "<div>\n",
       "<style scoped>\n",
       "    .dataframe tbody tr th:only-of-type {\n",
       "        vertical-align: middle;\n",
       "    }\n",
       "\n",
       "    .dataframe tbody tr th {\n",
       "        vertical-align: top;\n",
       "    }\n",
       "\n",
       "    .dataframe thead th {\n",
       "        text-align: right;\n",
       "    }\n",
       "</style>\n",
       "<table border=\"1\" class=\"dataframe\">\n",
       "  <thead>\n",
       "    <tr style=\"text-align: right;\">\n",
       "      <th></th>\n",
       "      <th>animal_id</th>\n",
       "      <th>session_id</th>\n",
       "      <th>mat_file</th>\n",
       "      <th>session_vids</th>\n",
       "      <th>notes</th>\n",
       "    </tr>\n",
       "  </thead>\n",
       "  <tbody>\n",
       "    <tr>\n",
       "      <th>0</th>\n",
       "      <td>M235Slc17a7_Gtacr2</td>\n",
       "      <td>20170424</td>\n",
       "      <td>/data/caitlin/training-vids/M235Slc17a7_Gtacr2...</td>\n",
       "      <td>[/data/caitlin/training-vids/M235Slc17a7_Gtacr...</td>\n",
       "      <td>None</td>\n",
       "    </tr>\n",
       "    <tr>\n",
       "      <th>1</th>\n",
       "      <td>M235Slc17a7_Gtacr2</td>\n",
       "      <td>20170425</td>\n",
       "      <td>/data/caitlin/training-vids/M235Slc17a7_Gtacr2...</td>\n",
       "      <td>[/data/caitlin/training-vids/M235Slc17a7_Gtacr...</td>\n",
       "      <td>None</td>\n",
       "    </tr>\n",
       "    <tr>\n",
       "      <th>2</th>\n",
       "      <td>M236Slc17a7_Gtacr2</td>\n",
       "      <td>20170501</td>\n",
       "      <td>/data/caitlin/training-vids/M236Slc17a7_Gtacr2...</td>\n",
       "      <td>[/data/caitlin/training-vids/M236Slc17a7_Gtacr...</td>\n",
       "      <td>None</td>\n",
       "    </tr>\n",
       "    <tr>\n",
       "      <th>3</th>\n",
       "      <td>M236Slc17a7_Gtacr2</td>\n",
       "      <td>20170503</td>\n",
       "      <td>/data/caitlin/training-vids/M236Slc17a7_Gtacr2...</td>\n",
       "      <td>[/data/caitlin/training-vids/M236Slc17a7_Gtacr...</td>\n",
       "      <td>None</td>\n",
       "    </tr>\n",
       "    <tr>\n",
       "      <th>4</th>\n",
       "      <td>M238Slc17a7_Chr2</td>\n",
       "      <td>20170605</td>\n",
       "      <td>/data/caitlin/training-vids/M238Slc17a7_Chr2/2...</td>\n",
       "      <td>[/data/caitlin/training-vids/M238Slc17a7_Chr2/...</td>\n",
       "      <td>None</td>\n",
       "    </tr>\n",
       "    <tr>\n",
       "      <th>5</th>\n",
       "      <td>M238Slc17a7_Chr2</td>\n",
       "      <td>20170825</td>\n",
       "      <td>/data/caitlin/training-vids/M238Slc17a7_Chr2/2...</td>\n",
       "      <td>[/data/caitlin/training-vids/M238Slc17a7_Chr2/...</td>\n",
       "      <td>None</td>\n",
       "    </tr>\n",
       "    <tr>\n",
       "      <th>6</th>\n",
       "      <td>M239Slc17a7_Gtacr2</td>\n",
       "      <td>20170623</td>\n",
       "      <td>/data/caitlin/training-vids/M239Slc17a7_Gtacr2...</td>\n",
       "      <td>[/data/caitlin/training-vids/M239Slc17a7_Gtacr...</td>\n",
       "      <td>None</td>\n",
       "    </tr>\n",
       "    <tr>\n",
       "      <th>7</th>\n",
       "      <td>M239Slc17a7_Gtacr2</td>\n",
       "      <td>20170902</td>\n",
       "      <td>/data/caitlin/training-vids/M239Slc17a7_Gtacr2...</td>\n",
       "      <td>[/data/caitlin/training-vids/M239Slc17a7_Gtacr...</td>\n",
       "      <td>None</td>\n",
       "    </tr>\n",
       "    <tr>\n",
       "      <th>8</th>\n",
       "      <td>M242Slc17a7_Chr2BPN_DCN</td>\n",
       "      <td>20170911</td>\n",
       "      <td>/data/caitlin/training-vids/M242Slc17a7_Chr2BP...</td>\n",
       "      <td>[/data/caitlin/training-vids/M242Slc17a7_Chr2B...</td>\n",
       "      <td>None</td>\n",
       "    </tr>\n",
       "    <tr>\n",
       "      <th>9</th>\n",
       "      <td>M242Slc17a7_Chr2BPN_DCN</td>\n",
       "      <td>20170912</td>\n",
       "      <td>/data/caitlin/training-vids/M242Slc17a7_Chr2BP...</td>\n",
       "      <td>[/data/caitlin/training-vids/M242Slc17a7_Chr2B...</td>\n",
       "      <td>None</td>\n",
       "    </tr>\n",
       "    <tr>\n",
       "      <th>10</th>\n",
       "      <td>M243Slc17a7_Chr2BPN_DCN</td>\n",
       "      <td>20170823</td>\n",
       "      <td>/data/caitlin/training-vids/M243Slc17a7_Chr2BP...</td>\n",
       "      <td>[/data/caitlin/training-vids/M243Slc17a7_Chr2B...</td>\n",
       "      <td>None</td>\n",
       "    </tr>\n",
       "    <tr>\n",
       "      <th>11</th>\n",
       "      <td>M243Slc17a7_Chr2BPN_DCN</td>\n",
       "      <td>20170824</td>\n",
       "      <td>/data/caitlin/training-vids/M243Slc17a7_Chr2BP...</td>\n",
       "      <td>[/data/caitlin/training-vids/M243Slc17a7_Chr2B...</td>\n",
       "      <td>None</td>\n",
       "    </tr>\n",
       "  </tbody>\n",
       "</table>\n",
       "</div>"
      ],
      "text/plain": [
       "                  animal_id session_id   \n",
       "0        M235Slc17a7_Gtacr2   20170424  \\\n",
       "1        M235Slc17a7_Gtacr2   20170425   \n",
       "2        M236Slc17a7_Gtacr2   20170501   \n",
       "3        M236Slc17a7_Gtacr2   20170503   \n",
       "4          M238Slc17a7_Chr2   20170605   \n",
       "5          M238Slc17a7_Chr2   20170825   \n",
       "6        M239Slc17a7_Gtacr2   20170623   \n",
       "7        M239Slc17a7_Gtacr2   20170902   \n",
       "8   M242Slc17a7_Chr2BPN_DCN   20170911   \n",
       "9   M242Slc17a7_Chr2BPN_DCN   20170912   \n",
       "10  M243Slc17a7_Chr2BPN_DCN   20170823   \n",
       "11  M243Slc17a7_Chr2BPN_DCN   20170824   \n",
       "\n",
       "                                             mat_file   \n",
       "0   /data/caitlin/training-vids/M235Slc17a7_Gtacr2...  \\\n",
       "1   /data/caitlin/training-vids/M235Slc17a7_Gtacr2...   \n",
       "2   /data/caitlin/training-vids/M236Slc17a7_Gtacr2...   \n",
       "3   /data/caitlin/training-vids/M236Slc17a7_Gtacr2...   \n",
       "4   /data/caitlin/training-vids/M238Slc17a7_Chr2/2...   \n",
       "5   /data/caitlin/training-vids/M238Slc17a7_Chr2/2...   \n",
       "6   /data/caitlin/training-vids/M239Slc17a7_Gtacr2...   \n",
       "7   /data/caitlin/training-vids/M239Slc17a7_Gtacr2...   \n",
       "8   /data/caitlin/training-vids/M242Slc17a7_Chr2BP...   \n",
       "9   /data/caitlin/training-vids/M242Slc17a7_Chr2BP...   \n",
       "10  /data/caitlin/training-vids/M243Slc17a7_Chr2BP...   \n",
       "11  /data/caitlin/training-vids/M243Slc17a7_Chr2BP...   \n",
       "\n",
       "                                         session_vids notes  \n",
       "0   [/data/caitlin/training-vids/M235Slc17a7_Gtacr...  None  \n",
       "1   [/data/caitlin/training-vids/M235Slc17a7_Gtacr...  None  \n",
       "2   [/data/caitlin/training-vids/M236Slc17a7_Gtacr...  None  \n",
       "3   [/data/caitlin/training-vids/M236Slc17a7_Gtacr...  None  \n",
       "4   [/data/caitlin/training-vids/M238Slc17a7_Chr2/...  None  \n",
       "5   [/data/caitlin/training-vids/M238Slc17a7_Chr2/...  None  \n",
       "6   [/data/caitlin/training-vids/M239Slc17a7_Gtacr...  None  \n",
       "7   [/data/caitlin/training-vids/M239Slc17a7_Gtacr...  None  \n",
       "8   [/data/caitlin/training-vids/M242Slc17a7_Chr2B...  None  \n",
       "9   [/data/caitlin/training-vids/M242Slc17a7_Chr2B...  None  \n",
       "10  [/data/caitlin/training-vids/M243Slc17a7_Chr2B...  None  \n",
       "11  [/data/caitlin/training-vids/M243Slc17a7_Chr2B...  None  "
      ]
     },
     "execution_count": 14,
     "metadata": {},
     "output_type": "execute_result"
    }
   ],
   "source": [
    "df"
   ]
  },
  {
   "cell_type": "code",
   "execution_count": 8,
   "id": "b587feda-3aaa-4a1e-b2db-b27d4b01feef",
   "metadata": {},
   "outputs": [],
   "source": [
    "from scipy.io import loadmat, whosmat\n",
    "from typing import *\n",
    "from copy import deepcopy\n",
    "from functools import lru_cache\n",
    "import numpy as np"
   ]
  },
  {
   "cell_type": "code",
   "execution_count": 9,
   "id": "3f78fcb3-fb4a-4ee9-a273-6fae717af308",
   "metadata": {},
   "outputs": [],
   "source": [
    "@lru_cache\n",
    "def get_ethogram(trial_index: int, mat_path):\n",
    "    m = loadmat(mat_path)\n",
    "    behaviors = sorted([b.split('_')[0] for b in m['data'].dtype.names if 'scores' in b])\n",
    "\n",
    "    all_behaviors = [\n",
    "        \"Lift\",\n",
    "        \"Handopen\",\n",
    "        \"Grab\",\n",
    "        \"Sup\",\n",
    "        \"Atmouth\",\n",
    "        \"Chew\"\n",
    "    ]\n",
    "\n",
    "    sorted_behaviors = [b for b in all_behaviors if b in behaviors]\n",
    "\n",
    "    ethograms = []\n",
    "\n",
    "    mat_trial_index = np.argwhere(m[\"data\"][\"trial\"].ravel() == (trial_index + 1))\n",
    "    # Trial not found in JAABA data\n",
    "    if mat_trial_index.size == 0:\n",
    "        return False\n",
    "\n",
    "    mat_trial_index = mat_trial_index.item()\n",
    "\n",
    "    for b in sorted_behaviors:\n",
    "        behavior_index = m['data'].dtype.names.index(f'{b}_postprocessed')\n",
    "        ethograms.append(m['data'][mat_trial_index][0][behavior_index])\n",
    "\n",
    "    sorted_behaviors = [b.lower() for b in sorted_behaviors]\n",
    "\n",
    "    return np.hstack(ethograms).T, sorted_behaviors"
   ]
  },
  {
   "cell_type": "code",
   "execution_count": 10,
   "id": "ec030e18-0afb-4d4a-a7ef-ab64a2c0e437",
   "metadata": {},
   "outputs": [],
   "source": [
    "hide_columns = [\"mat_file\",\n",
    "               \"session_vids\",\n",
    "               \"notes\"]\n",
    "\n",
    "columns = df.columns"
   ]
  },
  {
   "cell_type": "code",
   "execution_count": 11,
   "id": "02daaaf2-f210-41fa-ac13-b0c2640f2441",
   "metadata": {},
   "outputs": [],
   "source": [
    "df_show = df[[c for c in columns if c not in hide_columns]]"
   ]
  },
  {
   "cell_type": "code",
   "execution_count": 12,
   "id": "7e2751b8-5152-464e-a627-f473514be086",
   "metadata": {},
   "outputs": [
    {
     "data": {
      "text/html": [
       "<div>\n",
       "<style scoped>\n",
       "    .dataframe tbody tr th:only-of-type {\n",
       "        vertical-align: middle;\n",
       "    }\n",
       "\n",
       "    .dataframe tbody tr th {\n",
       "        vertical-align: top;\n",
       "    }\n",
       "\n",
       "    .dataframe thead th {\n",
       "        text-align: right;\n",
       "    }\n",
       "</style>\n",
       "<table border=\"1\" class=\"dataframe\">\n",
       "  <thead>\n",
       "    <tr style=\"text-align: right;\">\n",
       "      <th></th>\n",
       "      <th>animal_id</th>\n",
       "      <th>session_id</th>\n",
       "    </tr>\n",
       "  </thead>\n",
       "  <tbody>\n",
       "    <tr>\n",
       "      <th>0</th>\n",
       "      <td>M234Slc17a7_Gtacr2</td>\n",
       "      <td>20170328</td>\n",
       "    </tr>\n",
       "    <tr>\n",
       "      <th>1</th>\n",
       "      <td>M234Slc17a7_Gtacr2</td>\n",
       "      <td>20170404</td>\n",
       "    </tr>\n",
       "    <tr>\n",
       "      <th>2</th>\n",
       "      <td>M235Slc17a7_Gtacr2</td>\n",
       "      <td>20170424</td>\n",
       "    </tr>\n",
       "    <tr>\n",
       "      <th>3</th>\n",
       "      <td>M235Slc17a7_Gtacr2</td>\n",
       "      <td>20170425</td>\n",
       "    </tr>\n",
       "    <tr>\n",
       "      <th>4</th>\n",
       "      <td>M236Slc17a7_Gtacr2</td>\n",
       "      <td>20170501</td>\n",
       "    </tr>\n",
       "    <tr>\n",
       "      <th>5</th>\n",
       "      <td>M236Slc17a7_Gtacr2</td>\n",
       "      <td>20170503</td>\n",
       "    </tr>\n",
       "    <tr>\n",
       "      <th>6</th>\n",
       "      <td>M238Slc17a7_Chr2</td>\n",
       "      <td>20170605</td>\n",
       "    </tr>\n",
       "    <tr>\n",
       "      <th>7</th>\n",
       "      <td>M238Slc17a7_Chr2</td>\n",
       "      <td>20170825</td>\n",
       "    </tr>\n",
       "    <tr>\n",
       "      <th>8</th>\n",
       "      <td>M239Slc17a7_Gtacr2</td>\n",
       "      <td>20170623</td>\n",
       "    </tr>\n",
       "    <tr>\n",
       "      <th>9</th>\n",
       "      <td>M239Slc17a7_Gtacr2</td>\n",
       "      <td>20170902</td>\n",
       "    </tr>\n",
       "  </tbody>\n",
       "</table>\n",
       "</div>"
      ],
      "text/plain": [
       "            animal_id session_id\n",
       "0  M234Slc17a7_Gtacr2   20170328\n",
       "1  M234Slc17a7_Gtacr2   20170404\n",
       "2  M235Slc17a7_Gtacr2   20170424\n",
       "3  M235Slc17a7_Gtacr2   20170425\n",
       "4  M236Slc17a7_Gtacr2   20170501\n",
       "5  M236Slc17a7_Gtacr2   20170503\n",
       "6    M238Slc17a7_Chr2   20170605\n",
       "7    M238Slc17a7_Chr2   20170825\n",
       "8  M239Slc17a7_Gtacr2   20170623\n",
       "9  M239Slc17a7_Gtacr2   20170902"
      ]
     },
     "execution_count": 12,
     "metadata": {},
     "output_type": "execute_result"
    }
   ],
   "source": [
    "df_show"
   ]
  },
  {
   "cell_type": "code",
   "execution_count": 13,
   "id": "c3d00246-947d-45fd-962a-d73ff6a36329",
   "metadata": {},
   "outputs": [],
   "source": [
    "from ipydatagrid import DataGrid"
   ]
  },
  {
   "cell_type": "code",
   "execution_count": 14,
   "id": "758bea45-c90b-427c-85e9-e2175592d37f",
   "metadata": {},
   "outputs": [],
   "source": [
    "default_widths = {\n",
    "            'animal_id': 200,\n",
    "            'session_id': 200\n",
    "        }"
   ]
  },
  {
   "cell_type": "code",
   "execution_count": 15,
   "id": "45fef27b-b3eb-406c-bdef-4351eda6fc67",
   "metadata": {},
   "outputs": [
    {
     "name": "stderr",
     "output_type": "stream",
     "text": [
      "/home/clewis7/venvs/mescore/lib/python3.11/site-packages/ipydatagrid/datagrid.py:445: UserWarning: Index name of 'index' is not round-trippable.\n",
      "  schema = pd.io.json.build_table_schema(dataframe)\n"
     ]
    }
   ],
   "source": [
    "datagrid = DataGrid(\n",
    "    df_show,\n",
    "    selection_mode=\"cell\",\n",
    "    layout={\"height\": \"250px\", \"width\": \"750px\"},\n",
    "    base_row_size=24,\n",
    "    index_name=\"index\",\n",
    "    column_widths=default_widths\n",
    ")"
   ]
  },
  {
   "cell_type": "code",
   "execution_count": 16,
   "id": "9579f723-8e97-414a-8e02-6da4d9d95a11",
   "metadata": {},
   "outputs": [],
   "source": [
    "from fastplotlib import ImageWidget"
   ]
  },
  {
   "cell_type": "code",
   "execution_count": 17,
   "id": "7cec5b97-7787-493f-85cb-ba801b850511",
   "metadata": {},
   "outputs": [
    {
     "data": {
      "application/vnd.jupyter.widget-view+json": {
       "model_id": "5afee877bbf2421f858c893252e831ef",
       "version_major": 2,
       "version_minor": 0
      },
      "text/plain": [
       "DataGrid(auto_fit_params={'area': 'all', 'padding': 30, 'numCols': None}, base_row_size=24, column_widths={'an…"
      ]
     },
     "execution_count": 17,
     "metadata": {},
     "output_type": "execute_result"
    }
   ],
   "source": [
    "datagrid"
   ]
  },
  {
   "cell_type": "code",
   "execution_count": 18,
   "id": "e5db8d49-6513-4b0e-99ef-ee66ee6ac171",
   "metadata": {},
   "outputs": [],
   "source": [
    "datagrid.select(row1=0,\n",
    "               column1=0,\n",
    "               row2=0,\n",
    "               column2=len(df_show.columns),\n",
    "               clear_mode='all')"
   ]
  },
  {
   "cell_type": "code",
   "execution_count": 19,
   "id": "669b9bb2-aa0a-4a75-8b70-ff4a2c2a4525",
   "metadata": {},
   "outputs": [],
   "source": [
    "def row_change(*args):\n",
    "    r1 = datagrid.selections[0][\"r1\"]\n",
    "    r2 = datagrid.selections[0][\"r2\"]\n",
    "\n",
    "    if r1 != r2:\n",
    "        warn(\"Only single row selection is currently allowed\")\n",
    "        return\n",
    "\n",
    "    index = datagrid.get_visible_data().index[r1]\n",
    "\n",
    "    # make_viewer()\n",
    "    "
   ]
  },
  {
   "cell_type": "code",
   "execution_count": 20,
   "id": "4b6636a1-6b07-4027-8c71-212bb267d441",
   "metadata": {},
   "outputs": [],
   "source": [
    "datagrid.observe(row_change, names=\"selections\")"
   ]
  },
  {
   "cell_type": "code",
   "execution_count": 29,
   "id": "92d0b3e2-c458-4b79-b376-9ffd79646045",
   "metadata": {},
   "outputs": [],
   "source": [
    "# create datagrid with trials for selected session\n",
    "# trial selection should trigger \n",
    "r1 = datagrid.selections[0][\"r1\"]\n",
    "index = datagrid.get_visible_data().index[r1]"
   ]
  },
  {
   "cell_type": "code",
   "execution_count": 30,
   "id": "3cec7570-25a4-4c01-bc70-1ab3da7af9b4",
   "metadata": {
    "tags": []
   },
   "outputs": [
    {
     "data": {
      "text/plain": [
       "0"
      ]
     },
     "execution_count": 30,
     "metadata": {},
     "output_type": "execute_result"
    }
   ],
   "source": [
    "index"
   ]
  },
  {
   "cell_type": "code",
   "execution_count": 31,
   "id": "ead3f02f-0547-475a-b630-21b00237bf24",
   "metadata": {},
   "outputs": [],
   "source": [
    "from ipywidgets import Select"
   ]
  },
  {
   "cell_type": "code",
   "execution_count": 32,
   "id": "60f46b5f-bd7c-471b-9045-7c280a362328",
   "metadata": {},
   "outputs": [],
   "source": [
    "selected_row = df.iloc[[index]]"
   ]
  },
  {
   "cell_type": "code",
   "execution_count": 33,
   "id": "e66a7089-338f-4892-a9a8-87f1db75652c",
   "metadata": {
    "tags": []
   },
   "outputs": [
    {
     "data": {
      "text/html": [
       "<div>\n",
       "<style scoped>\n",
       "    .dataframe tbody tr th:only-of-type {\n",
       "        vertical-align: middle;\n",
       "    }\n",
       "\n",
       "    .dataframe tbody tr th {\n",
       "        vertical-align: top;\n",
       "    }\n",
       "\n",
       "    .dataframe thead th {\n",
       "        text-align: right;\n",
       "    }\n",
       "</style>\n",
       "<table border=\"1\" class=\"dataframe\">\n",
       "  <thead>\n",
       "    <tr style=\"text-align: right;\">\n",
       "      <th></th>\n",
       "      <th>animal_id</th>\n",
       "      <th>session_id</th>\n",
       "      <th>mat_file</th>\n",
       "      <th>session_vids</th>\n",
       "      <th>notes</th>\n",
       "    </tr>\n",
       "  </thead>\n",
       "  <tbody>\n",
       "    <tr>\n",
       "      <th>0</th>\n",
       "      <td>M234Slc17a7_Gtacr2</td>\n",
       "      <td>20170328</td>\n",
       "      <td>/data/caitlin/training-vids/M234Slc17a7_Gtacr2...</td>\n",
       "      <td>[/data/caitlin/training-vids/M234Slc17a7_Gtacr...</td>\n",
       "      <td>None</td>\n",
       "    </tr>\n",
       "  </tbody>\n",
       "</table>\n",
       "</div>"
      ],
      "text/plain": [
       "            animal_id session_id   \n",
       "0  M234Slc17a7_Gtacr2   20170328  \\\n",
       "\n",
       "                                            mat_file   \n",
       "0  /data/caitlin/training-vids/M234Slc17a7_Gtacr2...  \\\n",
       "\n",
       "                                        session_vids notes  \n",
       "0  [/data/caitlin/training-vids/M234Slc17a7_Gtacr...  None  "
      ]
     },
     "execution_count": 33,
     "metadata": {},
     "output_type": "execute_result"
    }
   ],
   "source": [
    "selected_row"
   ]
  },
  {
   "cell_type": "code",
   "execution_count": 41,
   "id": "bd435917-d340-46db-826b-141168c3c3fa",
   "metadata": {
    "tags": []
   },
   "outputs": [],
   "source": [
    "session_dir = training_data_path.joinpath(selected_row['animal_id'].item()).joinpath(selected_row['session_id'].item())"
   ]
  },
  {
   "cell_type": "code",
   "execution_count": 34,
   "id": "63a8bf98-738c-498c-9162-dec09c07b96f",
   "metadata": {
    "tags": []
   },
   "outputs": [],
   "source": [
    "trial_videos = selected_row['session_vids'].item()"
   ]
  },
  {
   "cell_type": "code",
   "execution_count": 35,
   "id": "d1602bd8-78d8-447f-a964-3e4cc2970b3d",
   "metadata": {
    "tags": []
   },
   "outputs": [],
   "source": [
    "options = [item.stem for item in trial_videos]"
   ]
  },
  {
   "cell_type": "code",
   "execution_count": 36,
   "id": "59ebbf5d-1c65-476c-9ba6-0616ef1310c3",
   "metadata": {
    "tags": []
   },
   "outputs": [],
   "source": [
    "from mesmerize_core.arrays import LazyVideo\n",
    "from fastplotlib import Plot"
   ]
  },
  {
   "cell_type": "code",
   "execution_count": 42,
   "id": "2174bc30-581e-47df-8868-74c98f1b8de1",
   "metadata": {
    "tags": []
   },
   "outputs": [],
   "source": [
    "from tqdm import tqdm"
   ]
  },
  {
   "cell_type": "code",
   "execution_count": 43,
   "id": "092f5cb0-bc80-4595-a430-c3b31a77e295",
   "metadata": {
    "tags": []
   },
   "outputs": [],
   "source": [
    "def get_ethogram_shape() -> Tuple[int, int]:\n",
    "    d0, d1 = (0, 0)\n",
    "    for o in tqdm(options):\n",
    "        ix = int(o[-3:]) - 1\n",
    "        eth = get_ethogram(ix, list(session_dir.glob(\"*.mat\"))[0])[0].shape\n",
    "        d0, d1 = (max(eth[0], d0), max(eth[1], d1))\n",
    "    return d0, d1"
   ]
  },
  {
   "cell_type": "code",
   "execution_count": 44,
   "id": "a627b5d3-b957-4200-9150-6fad8d961225",
   "metadata": {},
   "outputs": [
    {
     "name": "stderr",
     "output_type": "stream",
     "text": [
      "100%|███████████████████████████████████████████████████████████████████████████████| 80/80 [00:05<00:00, 13.88it/s]\n"
     ]
    },
    {
     "data": {
      "text/plain": [
       "(6, 2498)"
      ]
     },
     "execution_count": 44,
     "metadata": {},
     "output_type": "execute_result"
    }
   ],
   "source": [
    "get_ethogram_shape()"
   ]
  },
  {
   "cell_type": "code",
   "execution_count": 45,
   "id": "525faa43-cde7-4f96-89ad-75b377496566",
   "metadata": {},
   "outputs": [],
   "source": [
    "eth_dtype = get_ethogram(0, list(session_dir.glob(\"*.mat\"))[0])[0].dtype"
   ]
  },
  {
   "cell_type": "code",
   "execution_count": 46,
   "id": "fa27b914-0996-4248-9aea-6b1b1fff2cc9",
   "metadata": {
    "tags": []
   },
   "outputs": [
    {
     "data": {
      "application/vnd.jupyter.widget-view+json": {
       "model_id": "98483a1830314368b78ac447751d317b",
       "version_major": 2,
       "version_minor": 0
      },
      "text/plain": [
       "RFBOutputContext()"
      ]
     },
     "metadata": {},
     "output_type": "display_data"
    },
    {
     "name": "stderr",
     "output_type": "stream",
     "text": [
      "/home/clewis7/repos/mesmerize-core/mesmerize_core/arrays/_video.py:87: UserWarning: min not implemented for LazyTiff, returning min of 0th index\n",
      "  warn(\"min not implemented for LazyTiff, returning min of 0th index\")\n",
      "/home/clewis7/repos/mesmerize-core/mesmerize_core/arrays/_video.py:92: UserWarning: max not implemented for LazyTiff, returning min of 0th index\n",
      "  warn(\"max not implemented for LazyTiff, returning min of 0th index\")\n"
     ]
    },
    {
     "data": {
      "application/vnd.jupyter.widget-view+json": {
       "model_id": "0b16d9631fbf459bb95abf43377b5631",
       "version_major": 2,
       "version_minor": 0
      },
      "text/plain": [
       "RFBOutputContext()"
      ]
     },
     "metadata": {},
     "output_type": "display_data"
    },
    {
     "name": "stderr",
     "output_type": "stream",
     "text": [
      "100%|████████████████████████████████████████████████████████████████████████████| 80/80 [00:00<00:00, 23219.45it/s]\n"
     ]
    }
   ],
   "source": [
    "# initial iw\n",
    "vid_path_init = selected_row['session_vids'].item()[0]\n",
    "ethogram_init = get_ethogram(int(vid_path_init.stem.split('_v')[-1]), selected_row['mat_file'].item())\n",
    "iw = ImageWidget(data=LazyVideo(vid_path_init))\n",
    "plot = Plot()\n",
    "\n",
    "eth_shape = get_ethogram_shape()\n",
    "eth_heatmap = plot.add_heatmap(data=np.zeros(eth_shape, dtype=eth_dtype))\n",
    "eth_selector = eth_heatmap.add_linear_selector()\n",
    "\n",
    "def update_frame(ev):\n",
    "    ix = ev.pick_info[\"selected_index\"]\n",
    "    iw.sliders[\"t\"].value = ix\n",
    "\n",
    "eth_selector.selection.add_event_handler(update_frame)\n",
    "\n",
    "trial_selector = Select(options=options)"
   ]
  },
  {
   "cell_type": "code",
   "execution_count": 47,
   "id": "d116a8eb-127a-442c-a128-fc002ce4b7c8",
   "metadata": {
    "tags": []
   },
   "outputs": [],
   "source": [
    "from ipywidgets import VBox, HBox"
   ]
  },
  {
   "cell_type": "code",
   "execution_count": 48,
   "id": "7cc085b3-2a99-412d-95d5-446b53c00079",
   "metadata": {
    "tags": []
   },
   "outputs": [
    {
     "data": {
      "application/vnd.jupyter.widget-view+json": {
       "model_id": "9d14a6c1a60744ea942d649022619f29",
       "version_major": 2,
       "version_minor": 0
      },
      "text/plain": [
       "HBox(children=(VBox(children=(VBox(children=(VBox(children=(JupyterWgpuCanvas(), HBox(children=(Button(icon='e…"
      ]
     },
     "execution_count": 48,
     "metadata": {},
     "output_type": "execute_result"
    }
   ],
   "source": [
    "HBox(\n",
    "    [\n",
    "        VBox([iw.show(), plot.show()]), \n",
    "        trial_selector\n",
    "    ]\n",
    ")"
   ]
  },
  {
   "cell_type": "code",
   "execution_count": 292,
   "id": "6c9c6b4b-2bbf-4646-9efb-872b5d46d771",
   "metadata": {
    "tags": []
   },
   "outputs": [],
   "source": [
    "def trial_change(obj):\n",
    "    session_path = training_data_path.joinpath(selected_row['animal_id'].item()).joinpath(selected_row['session_id'].item())\n",
    "    selected_video = session_path.joinpath(trial_selector.value).with_suffix('.avi')\n",
    "    \n",
    "    iw._data = [LazyVideo(selected_video)]\n",
    "    iw.current_index[\"t\"] = 0\n",
    "    iw.sliders[\"t\"].value = 0\n",
    "    iw.plot.graphics[0].data = iw._data[0][0]\n",
    "    \n",
    "    hm_data = get_ethogram(int(selected_video.stem.split('_v')[-1]), selected_row['mat_file'].item())[0]\n",
    "    plot.graphics[0].data[:hm_data.shape[0], :hm_data.shape[1]] = hm_data"
   ]
  },
  {
   "cell_type": "code",
   "execution_count": 293,
   "id": "07da8a3a-1bdc-49b6-88c3-07d339ae0eb6",
   "metadata": {
    "tags": []
   },
   "outputs": [],
   "source": [
    "trial_selector.observe(trial_change, \"value\")"
   ]
  },
  {
   "cell_type": "code",
   "execution_count": null,
   "id": "97eeb60b-980a-47f0-8f07-aaee5ef2f473",
   "metadata": {},
   "outputs": [],
   "source": []
  },
  {
   "cell_type": "code",
   "execution_count": null,
   "id": "91c9a408-5a91-4b4a-a16f-32da1231f570",
   "metadata": {},
   "outputs": [],
   "source": []
  },
  {
   "cell_type": "code",
   "execution_count": null,
   "id": "299749eb-5b6f-4cdb-8b2d-54f510bfc57d",
   "metadata": {},
   "outputs": [],
   "source": []
  },
  {
   "cell_type": "code",
   "execution_count": null,
   "id": "d9222d4f-9fc2-4e57-848d-4c94be52e05c",
   "metadata": {},
   "outputs": [],
   "source": []
  }
 ],
 "metadata": {
  "kernelspec": {
   "display_name": "Python 3 (ipykernel)",
   "language": "python",
   "name": "python3"
  },
  "language_info": {
   "codemirror_mode": {
    "name": "ipython",
    "version": 3
   },
   "file_extension": ".py",
   "mimetype": "text/x-python",
   "name": "python",
   "nbconvert_exporter": "python",
   "pygments_lexer": "ipython3",
   "version": "3.11.3"
  }
 },
 "nbformat": 4,
 "nbformat_minor": 5
}
