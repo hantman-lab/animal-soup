{
 "cells": [
  {
   "cell_type": "code",
   "execution_count": 1,
   "id": "889387da-d935-4cef-83b6-3dcbc9595ab7",
   "metadata": {
    "tags": []
   },
   "outputs": [
    {
     "name": "stderr",
     "output_type": "stream",
     "text": [
      "2023-05-25 14:17:46.348105: I tensorflow/core/platform/cpu_feature_guard.cc:182] This TensorFlow binary is optimized to use available CPU instructions in performance-critical operations.\n",
      "To enable the following instructions: AVX2 FMA, in other operations, rebuild TensorFlow with the appropriate compiler flags.\n",
      "2023-05-25 14:17:46.889494: W tensorflow/compiler/tf2tensorrt/utils/py_utils.cc:38] TF-TRT Warning: Could not find TensorRT\n",
      "/home/clewis7/repos/mesmerize-viz/mesmerize_viz/_mcorr.py:336: UserWarning: registration of accessor <class 'mesmerize_viz._mcorr.MCorrExtensionsViz'> under name 'mcorr' for type <class 'pandas.core.series.Series'> is overriding a preexisting attribute with the same name.\n",
      "  @pd.api.extensions.register_series_accessor(\"mcorr\")\n"
     ]
    }
   ],
   "source": [
    "from mesmerize_viz import BehaviorVizContainer\n",
    "from pathlib import Path\n",
    "import pandas as pd"
   ]
  },
  {
   "cell_type": "code",
   "execution_count": 2,
   "id": "0cf4e174-e131-4510-a9c1-c1b11dd652d9",
   "metadata": {
    "tags": []
   },
   "outputs": [],
   "source": [
    "training_data_path = Path('/data/caitlin/training-vids/')\n",
    "df_dir_path = Path('/data/caitlin/data-frames/')"
   ]
  },
  {
   "cell_type": "code",
   "execution_count": 3,
   "id": "3fbe8dfb-0179-4079-99fd-9551e61e102e",
   "metadata": {
    "tags": []
   },
   "outputs": [],
   "source": [
    "def save_df(df, df_dir_path):\n",
    "    df.to_hdf(f'{df_dir_path}/{datetime.now().isoformat()}', key='df')\n",
    "def load_df(df_dir_path):\n",
    "    return pd.read_hdf(sorted(df_dir_path.glob('*'))[-1])"
   ]
  },
  {
   "cell_type": "code",
   "execution_count": 4,
   "id": "8a7ea23b-b286-4ced-8451-bd8815fd24b1",
   "metadata": {
    "tags": []
   },
   "outputs": [],
   "source": [
    "df = load_df(df_dir_path)"
   ]
  },
  {
   "cell_type": "code",
   "execution_count": 5,
   "id": "16d2b609-874e-426f-9a67-49b67c008c38",
   "metadata": {
    "tags": []
   },
   "outputs": [
    {
     "name": "stderr",
     "output_type": "stream",
     "text": [
      "/home/clewis7/venvs/mescore/lib/python3.11/site-packages/ipydatagrid/datagrid.py:445: UserWarning: Index name of 'index' is not round-trippable.\n",
      "  schema = pd.io.json.build_table_schema(dataframe)\n"
     ]
    },
    {
     "data": {
      "application/vnd.jupyter.widget-view+json": {
       "model_id": "c06ab8b24a6749daaab602d295ee73ec",
       "version_major": 2,
       "version_minor": 0
      },
      "text/plain": [
       "RFBOutputContext()"
      ]
     },
     "metadata": {},
     "output_type": "display_data"
    },
    {
     "name": "stderr",
     "output_type": "stream",
     "text": [
      "/home/clewis7/repos/mesmerize-core/mesmerize_core/arrays/_video.py:87: UserWarning: min not implemented for LazyTiff, returning min of 0th index\n",
      "  warn(\"min not implemented for LazyTiff, returning min of 0th index\")\n",
      "/home/clewis7/repos/mesmerize-core/mesmerize_core/arrays/_video.py:92: UserWarning: max not implemented for LazyTiff, returning min of 0th index\n",
      "  warn(\"max not implemented for LazyTiff, returning min of 0th index\")\n"
     ]
    },
    {
     "data": {
      "application/vnd.jupyter.widget-view+json": {
       "model_id": "8c3982f64cb74bf8baf83c19f2b6100b",
       "version_major": 2,
       "version_minor": 0
      },
      "text/plain": [
       "RFBOutputContext()"
      ]
     },
     "metadata": {},
     "output_type": "display_data"
    }
   ],
   "source": [
    "viewer = BehaviorVizContainer(dataframe=df, local_parent_path=training_data_path)"
   ]
  },
  {
   "cell_type": "code",
   "execution_count": 6,
   "id": "9bbf56bf-5bb6-4f10-a3c7-969db23cbac2",
   "metadata": {
    "tags": []
   },
   "outputs": [
    {
     "data": {
      "application/vnd.jupyter.widget-view+json": {
       "model_id": "908b92f8394742699f7cd0c8fcc8f8f4",
       "version_major": 2,
       "version_minor": 0
      },
      "text/plain": [
       "VBox(children=(DataGrid(auto_fit_params={'area': 'all', 'padding': 30, 'numCols': None}, base_row_size=24, col…"
      ]
     },
     "execution_count": 6,
     "metadata": {},
     "output_type": "execute_result"
    }
   ],
   "source": [
    "viewer.show()"
   ]
  },
  {
   "cell_type": "code",
   "execution_count": null,
   "id": "b4134e8e-6441-4624-b2bb-4ea222ec6bd8",
   "metadata": {},
   "outputs": [],
   "source": []
  },
  {
   "cell_type": "code",
   "execution_count": null,
   "id": "3208fa73-3f3f-4811-9d6c-40385f0968ba",
   "metadata": {},
   "outputs": [],
   "source": []
  }
 ],
 "metadata": {
  "kernelspec": {
   "display_name": "Python 3 (ipykernel)",
   "language": "python",
   "name": "python3"
  },
  "language_info": {
   "codemirror_mode": {
    "name": "ipython",
    "version": 3
   },
   "file_extension": ".py",
   "mimetype": "text/x-python",
   "name": "python",
   "nbconvert_exporter": "python",
   "pygments_lexer": "ipython3",
   "version": "3.11.3"
  }
 },
 "nbformat": 4,
 "nbformat_minor": 5
}
