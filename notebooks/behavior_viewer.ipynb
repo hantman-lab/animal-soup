{
 "cells": [
  {
   "cell_type": "markdown",
   "id": "fccf8f89-5f79-422b-b9c9-3622bab3e08d",
   "metadata": {},
   "source": [
    "### Behavior Viewer"
   ]
  },
  {
   "cell_type": "code",
   "execution_count": 5,
   "id": "45c7a545-d76a-4419-8030-cfa56a366d8c",
   "metadata": {
    "tags": []
   },
   "outputs": [],
   "source": [
    "from animal_soup import *"
   ]
  },
  {
   "cell_type": "code",
   "execution_count": 2,
   "id": "cae1e4bb-2616-400e-8468-a0762931b8c5",
   "metadata": {
    "tags": []
   },
   "outputs": [],
   "source": [
    "set_parent_raw_data_path('/data/caitlin/training-vids/')\n",
    "df_path = get_parent_raw_data_path().joinpath('data-frames/data1.hdf')"
   ]
  },
  {
   "cell_type": "code",
   "execution_count": 3,
   "id": "0cb9668a-ff53-49be-8922-e845c92e53b0",
   "metadata": {
    "tags": []
   },
   "outputs": [
    {
     "data": {
      "text/html": [
       "<div>\n",
       "<style scoped>\n",
       "    .dataframe tbody tr th:only-of-type {\n",
       "        vertical-align: middle;\n",
       "    }\n",
       "\n",
       "    .dataframe tbody tr th {\n",
       "        vertical-align: top;\n",
       "    }\n",
       "\n",
       "    .dataframe thead th {\n",
       "        text-align: right;\n",
       "    }\n",
       "</style>\n",
       "<table border=\"1\" class=\"dataframe\">\n",
       "  <thead>\n",
       "    <tr style=\"text-align: right;\">\n",
       "      <th></th>\n",
       "      <th>animal_id</th>\n",
       "      <th>session_id</th>\n",
       "      <th>mat_path</th>\n",
       "      <th>session_vids</th>\n",
       "      <th>notes</th>\n",
       "    </tr>\n",
       "  </thead>\n",
       "  <tbody>\n",
       "    <tr>\n",
       "      <th>0</th>\n",
       "      <td>M235Slc17a7_Gtacr2</td>\n",
       "      <td>20170424</td>\n",
       "      <td>M235Slc17a7_Gtacr2/20170424/jaaba.mat</td>\n",
       "      <td>[M235Slc17a7_Gtacr2/20170424/M235_20170424_v00...</td>\n",
       "      <td>None</td>\n",
       "    </tr>\n",
       "    <tr>\n",
       "      <th>1</th>\n",
       "      <td>M235Slc17a7_Gtacr2</td>\n",
       "      <td>20170425</td>\n",
       "      <td>M235Slc17a7_Gtacr2/20170425/jaaba.mat</td>\n",
       "      <td>[M235Slc17a7_Gtacr2/20170425/M235_20170425_v00...</td>\n",
       "      <td>None</td>\n",
       "    </tr>\n",
       "    <tr>\n",
       "      <th>2</th>\n",
       "      <td>M236Slc17a7_Gtacr2</td>\n",
       "      <td>20170501</td>\n",
       "      <td>M236Slc17a7_Gtacr2/20170501/jaaba.mat</td>\n",
       "      <td>[M236Slc17a7_Gtacr2/20170501/M236_20170501_v00...</td>\n",
       "      <td>None</td>\n",
       "    </tr>\n",
       "    <tr>\n",
       "      <th>3</th>\n",
       "      <td>M236Slc17a7_Gtacr2</td>\n",
       "      <td>20170503</td>\n",
       "      <td>M236Slc17a7_Gtacr2/20170503/jaaba.mat</td>\n",
       "      <td>[M236Slc17a7_Gtacr2/20170503/M236_20170503_v00...</td>\n",
       "      <td>None</td>\n",
       "    </tr>\n",
       "    <tr>\n",
       "      <th>4</th>\n",
       "      <td>M238Slc17a7_Chr2</td>\n",
       "      <td>20170605</td>\n",
       "      <td>M238Slc17a7_Chr2/20170605/jaaba.mat</td>\n",
       "      <td>[M238Slc17a7_Chr2/20170605/M238_20170605_v001....</td>\n",
       "      <td>None</td>\n",
       "    </tr>\n",
       "    <tr>\n",
       "      <th>5</th>\n",
       "      <td>M238Slc17a7_Chr2</td>\n",
       "      <td>20170825</td>\n",
       "      <td>M238Slc17a7_Chr2/20170825/jaaba.mat</td>\n",
       "      <td>[M238Slc17a7_Chr2/20170825/M238_20170825_v001....</td>\n",
       "      <td>None</td>\n",
       "    </tr>\n",
       "    <tr>\n",
       "      <th>6</th>\n",
       "      <td>M239Slc17a7_Gtacr2</td>\n",
       "      <td>20170623</td>\n",
       "      <td>M239Slc17a7_Gtacr2/20170623/jaaba.mat</td>\n",
       "      <td>[M239Slc17a7_Gtacr2/20170623/M239_20170623_v00...</td>\n",
       "      <td>None</td>\n",
       "    </tr>\n",
       "    <tr>\n",
       "      <th>7</th>\n",
       "      <td>M239Slc17a7_Gtacr2</td>\n",
       "      <td>20170902</td>\n",
       "      <td>M239Slc17a7_Gtacr2/20170902/jaaba.mat</td>\n",
       "      <td>[M239Slc17a7_Gtacr2/20170902/M239_20170902_v00...</td>\n",
       "      <td>None</td>\n",
       "    </tr>\n",
       "    <tr>\n",
       "      <th>8</th>\n",
       "      <td>M242Slc17a7_Chr2BPN_DCN</td>\n",
       "      <td>20170911</td>\n",
       "      <td>M242Slc17a7_Chr2BPN_DCN/20170911/jaaba.mat</td>\n",
       "      <td>[M242Slc17a7_Chr2BPN_DCN/20170911/M242_2017091...</td>\n",
       "      <td>None</td>\n",
       "    </tr>\n",
       "    <tr>\n",
       "      <th>9</th>\n",
       "      <td>M242Slc17a7_Chr2BPN_DCN</td>\n",
       "      <td>20170912</td>\n",
       "      <td>M242Slc17a7_Chr2BPN_DCN/20170912/jaaba.mat</td>\n",
       "      <td>[M242Slc17a7_Chr2BPN_DCN/20170912/M242_2017091...</td>\n",
       "      <td>None</td>\n",
       "    </tr>\n",
       "    <tr>\n",
       "      <th>10</th>\n",
       "      <td>M243Slc17a7_Chr2BPN_DCN</td>\n",
       "      <td>20170823</td>\n",
       "      <td>M243Slc17a7_Chr2BPN_DCN/20170823/jaaba.mat</td>\n",
       "      <td>[M243Slc17a7_Chr2BPN_DCN/20170823/M243_2017082...</td>\n",
       "      <td>None</td>\n",
       "    </tr>\n",
       "    <tr>\n",
       "      <th>11</th>\n",
       "      <td>M243Slc17a7_Chr2BPN_DCN</td>\n",
       "      <td>20170824</td>\n",
       "      <td>M243Slc17a7_Chr2BPN_DCN/20170824/jaaba.mat</td>\n",
       "      <td>[M243Slc17a7_Chr2BPN_DCN/20170824/M243_2017082...</td>\n",
       "      <td>None</td>\n",
       "    </tr>\n",
       "  </tbody>\n",
       "</table>\n",
       "</div>"
      ],
      "text/plain": [
       "                  animal_id session_id   \n",
       "0        M235Slc17a7_Gtacr2   20170424  \\\n",
       "1        M235Slc17a7_Gtacr2   20170425   \n",
       "2        M236Slc17a7_Gtacr2   20170501   \n",
       "3        M236Slc17a7_Gtacr2   20170503   \n",
       "4          M238Slc17a7_Chr2   20170605   \n",
       "5          M238Slc17a7_Chr2   20170825   \n",
       "6        M239Slc17a7_Gtacr2   20170623   \n",
       "7        M239Slc17a7_Gtacr2   20170902   \n",
       "8   M242Slc17a7_Chr2BPN_DCN   20170911   \n",
       "9   M242Slc17a7_Chr2BPN_DCN   20170912   \n",
       "10  M243Slc17a7_Chr2BPN_DCN   20170823   \n",
       "11  M243Slc17a7_Chr2BPN_DCN   20170824   \n",
       "\n",
       "                                      mat_path   \n",
       "0        M235Slc17a7_Gtacr2/20170424/jaaba.mat  \\\n",
       "1        M235Slc17a7_Gtacr2/20170425/jaaba.mat   \n",
       "2        M236Slc17a7_Gtacr2/20170501/jaaba.mat   \n",
       "3        M236Slc17a7_Gtacr2/20170503/jaaba.mat   \n",
       "4          M238Slc17a7_Chr2/20170605/jaaba.mat   \n",
       "5          M238Slc17a7_Chr2/20170825/jaaba.mat   \n",
       "6        M239Slc17a7_Gtacr2/20170623/jaaba.mat   \n",
       "7        M239Slc17a7_Gtacr2/20170902/jaaba.mat   \n",
       "8   M242Slc17a7_Chr2BPN_DCN/20170911/jaaba.mat   \n",
       "9   M242Slc17a7_Chr2BPN_DCN/20170912/jaaba.mat   \n",
       "10  M243Slc17a7_Chr2BPN_DCN/20170823/jaaba.mat   \n",
       "11  M243Slc17a7_Chr2BPN_DCN/20170824/jaaba.mat   \n",
       "\n",
       "                                         session_vids notes  \n",
       "0   [M235Slc17a7_Gtacr2/20170424/M235_20170424_v00...  None  \n",
       "1   [M235Slc17a7_Gtacr2/20170425/M235_20170425_v00...  None  \n",
       "2   [M236Slc17a7_Gtacr2/20170501/M236_20170501_v00...  None  \n",
       "3   [M236Slc17a7_Gtacr2/20170503/M236_20170503_v00...  None  \n",
       "4   [M238Slc17a7_Chr2/20170605/M238_20170605_v001....  None  \n",
       "5   [M238Slc17a7_Chr2/20170825/M238_20170825_v001....  None  \n",
       "6   [M239Slc17a7_Gtacr2/20170623/M239_20170623_v00...  None  \n",
       "7   [M239Slc17a7_Gtacr2/20170902/M239_20170902_v00...  None  \n",
       "8   [M242Slc17a7_Chr2BPN_DCN/20170911/M242_2017091...  None  \n",
       "9   [M242Slc17a7_Chr2BPN_DCN/20170912/M242_2017091...  None  \n",
       "10  [M243Slc17a7_Chr2BPN_DCN/20170823/M243_2017082...  None  \n",
       "11  [M243Slc17a7_Chr2BPN_DCN/20170824/M243_2017082...  None  "
      ]
     },
     "execution_count": 3,
     "metadata": {},
     "output_type": "execute_result"
    }
   ],
   "source": [
    "df = load_df(df_path)\n",
    "df"
   ]
  },
  {
   "cell_type": "code",
   "execution_count": 6,
   "id": "3f2687bb-d623-42b4-836e-638015f46f3b",
   "metadata": {
    "tags": []
   },
   "outputs": [
    {
     "name": "stderr",
     "output_type": "stream",
     "text": [
      "/home/clewis7/venvs/mescore/lib/python3.11/site-packages/ipydatagrid/datagrid.py:445: UserWarning: Index name of 'index' is not round-trippable.\n",
      "  schema = pd.io.json.build_table_schema(dataframe)\n"
     ]
    },
    {
     "data": {
      "application/vnd.jupyter.widget-view+json": {
       "model_id": "d29c5f6056dd4018900ddc4a87184645",
       "version_major": 2,
       "version_minor": 0
      },
      "text/plain": [
       "RFBOutputContext()"
      ]
     },
     "metadata": {},
     "output_type": "display_data"
    },
    {
     "name": "stderr",
     "output_type": "stream",
     "text": [
      "/home/clewis7/repos/mesmerize-core/mesmerize_core/arrays/_video.py:87: UserWarning: min not implemented for LazyTiff, returning min of 0th index\n",
      "  warn(\"min not implemented for LazyTiff, returning min of 0th index\")\n",
      "/home/clewis7/repos/mesmerize-core/mesmerize_core/arrays/_video.py:92: UserWarning: max not implemented for LazyTiff, returning min of 0th index\n",
      "  warn(\"max not implemented for LazyTiff, returning min of 0th index\")\n"
     ]
    },
    {
     "data": {
      "application/vnd.jupyter.widget-view+json": {
       "model_id": "deda96b18d1e4082adbfbe7b3c6c2dc4",
       "version_major": 2,
       "version_minor": 0
      },
      "text/plain": [
       "RFBOutputContext()"
      ]
     },
     "metadata": {},
     "output_type": "display_data"
    },
    {
     "data": {
      "application/vnd.jupyter.widget-view+json": {
       "model_id": "b2f639d608cc48cca037a99386fb8273",
       "version_major": 2,
       "version_minor": 0
      },
      "text/plain": [
       "VBox(children=(DataGrid(auto_fit_params={'area': 'all', 'padding': 30, 'numCols': None}, base_row_size=24, col…"
      ]
     },
     "execution_count": 6,
     "metadata": {},
     "output_type": "execute_result"
    }
   ],
   "source": [
    "df.behavior.view().show()"
   ]
  },
  {
   "cell_type": "code",
   "execution_count": null,
   "id": "bd69518c-2cfe-4a72-be67-c8ee8ce6d805",
   "metadata": {},
   "outputs": [],
   "source": []
  },
  {
   "cell_type": "code",
   "execution_count": null,
   "id": "a76af182-e737-4430-a629-7a2973d72e25",
   "metadata": {},
   "outputs": [],
   "source": []
  }
 ],
 "metadata": {
  "kernelspec": {
   "display_name": "Python 3 (ipykernel)",
   "language": "python",
   "name": "python3"
  },
  "language_info": {
   "codemirror_mode": {
    "name": "ipython",
    "version": 3
   },
   "file_extension": ".py",
   "mimetype": "text/x-python",
   "name": "python",
   "nbconvert_exporter": "python",
   "pygments_lexer": "ipython3",
   "version": "3.11.3"
  }
 },
 "nbformat": 4,
 "nbformat_minor": 5
}
