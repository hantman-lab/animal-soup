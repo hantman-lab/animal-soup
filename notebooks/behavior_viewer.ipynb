{
 "cells": [
  {
   "cell_type": "markdown",
   "id": "fccf8f89-5f79-422b-b9c9-3622bab3e08d",
   "metadata": {},
   "source": [
    "### Behavior Viewer"
   ]
  },
  {
   "cell_type": "code",
   "execution_count": 1,
   "id": "45c7a545-d76a-4419-8030-cfa56a366d8c",
   "metadata": {
    "tags": []
   },
   "outputs": [
    {
     "name": "stderr",
     "output_type": "stream",
     "text": [
      "2023-06-07 12:16:14.939224: I tensorflow/core/platform/cpu_feature_guard.cc:182] This TensorFlow binary is optimized to use available CPU instructions in performance-critical operations.\n",
      "To enable the following instructions: AVX2 FMA, in other operations, rebuild TensorFlow with the appropriate compiler flags.\n",
      "2023-06-07 12:16:15.408055: W tensorflow/compiler/tf2tensorrt/utils/py_utils.cc:38] TF-TRT Warning: Could not find TensorRT\n",
      "/home/clewis7/repos/animal-soup/animal_soup/batch_utils.py:138: UserWarning: registration of accessor <class 'animal_soup.batch_utils.PathsDataFrameExtension'> under name 'paths' for type <class 'pandas.core.frame.DataFrame'> is overriding a preexisting attribute with the same name.\n",
      "  @pd.api.extensions.register_dataframe_accessor(\"paths\")\n",
      "/home/clewis7/repos/animal-soup/animal_soup/batch_utils.py:143: UserWarning: registration of accessor <class 'animal_soup.batch_utils.PathsSeriesExtension'> under name 'paths' for type <class 'pandas.core.series.Series'> is overriding a preexisting attribute with the same name.\n",
      "  @pd.api.extensions.register_series_accessor(\"paths\")\n",
      "/home/clewis7/repos/animal-soup/animal_soup/extensions/viewer.py:8: UserWarning: registration of accessor <class 'animal_soup.extensions.viewer.BehaviorDataFrameVizExtension'> under name 'behavior' for type <class 'pandas.core.frame.DataFrame'> is overriding a preexisting attribute with the same name.\n",
      "  @pd.api.extensions.register_dataframe_accessor(\"behavior\")\n"
     ]
    }
   ],
   "source": [
    "from animal_soup import *"
   ]
  },
  {
   "cell_type": "code",
   "execution_count": 7,
   "id": "cae1e4bb-2616-400e-8468-a0762931b8c5",
   "metadata": {
    "tags": []
   },
   "outputs": [],
   "source": [
    "set_parent_raw_data_path('/data/caitlin/training-vids/')\n",
    "df_path = get_parent_raw_data_path().joinpath('data-frames/deepetho_results.hdf')"
   ]
  },
  {
   "cell_type": "code",
   "execution_count": 8,
   "id": "beb0f5e6-af3c-438c-8196-2d961c92dde5",
   "metadata": {
    "tags": []
   },
   "outputs": [],
   "source": [
    "df = load_df(df_path)"
   ]
  },
  {
   "cell_type": "code",
   "execution_count": 9,
   "id": "3f2687bb-d623-42b4-836e-638015f46f3b",
   "metadata": {
    "tags": []
   },
   "outputs": [
    {
     "name": "stderr",
     "output_type": "stream",
     "text": [
      "/home/clewis7/venvs/mescore/lib/python3.11/site-packages/ipydatagrid/datagrid.py:445: UserWarning: Index name of 'index' is not round-trippable.\n",
      "  schema = pd.io.json.build_table_schema(dataframe)\n"
     ]
    },
    {
     "data": {
      "application/vnd.jupyter.widget-view+json": {
       "model_id": "e9f23a9456f34d47b51aaf38056b17b8",
       "version_major": 2,
       "version_minor": 0
      },
      "text/plain": [
       "RFBOutputContext()"
      ]
     },
     "metadata": {},
     "output_type": "display_data"
    },
    {
     "name": "stderr",
     "output_type": "stream",
     "text": [
      "/home/clewis7/repos/mesmerize-core/mesmerize_core/arrays/_video.py:87: UserWarning: min not implemented for LazyTiff, returning min of 0th index\n",
      "  warn(\"min not implemented for LazyTiff, returning min of 0th index\")\n",
      "/home/clewis7/repos/mesmerize-core/mesmerize_core/arrays/_video.py:92: UserWarning: max not implemented for LazyTiff, returning min of 0th index\n",
      "  warn(\"max not implemented for LazyTiff, returning min of 0th index\")\n"
     ]
    }
   ],
   "source": [
    "container = df.behavior.behavior_view()"
   ]
  },
  {
   "cell_type": "code",
   "execution_count": 10,
   "id": "13a37690-577c-48f5-a503-14e2f5a97577",
   "metadata": {
    "tags": []
   },
   "outputs": [
    {
     "data": {
      "application/vnd.jupyter.widget-view+json": {
       "model_id": "3db4e323af2c4ae78df9d93695729aa0",
       "version_major": 2,
       "version_minor": 0
      },
      "text/plain": [
       "VBox(children=(DataGrid(auto_fit_params={'area': 'all', 'padding': 30, 'numCols': None}, base_row_size=24, col…"
      ]
     },
     "execution_count": 10,
     "metadata": {},
     "output_type": "execute_result"
    }
   ],
   "source": [
    "container.show()"
   ]
  },
  {
   "cell_type": "code",
   "execution_count": null,
   "id": "ecff72e3-755a-4c1e-9257-fb0730679d71",
   "metadata": {},
   "outputs": [],
   "source": []
  }
 ],
 "metadata": {
  "kernelspec": {
   "display_name": "Python 3 (ipykernel)",
   "language": "python",
   "name": "python3"
  },
  "language_info": {
   "codemirror_mode": {
    "name": "ipython",
    "version": 3
   },
   "file_extension": ".py",
   "mimetype": "text/x-python",
   "name": "python",
   "nbconvert_exporter": "python",
   "pygments_lexer": "ipython3",
   "version": "3.11.3"
  }
 },
 "nbformat": 4,
 "nbformat_minor": 5
}
