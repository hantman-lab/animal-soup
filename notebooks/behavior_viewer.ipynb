{
 "cells": [
  {
   "cell_type": "code",
   "execution_count": 1,
   "id": "45c7a545-d76a-4419-8030-cfa56a366d8c",
   "metadata": {
    "tags": []
   },
   "outputs": [
    {
     "name": "stderr",
     "output_type": "stream",
     "text": [
      "2023-05-26 10:31:52.715638: I tensorflow/core/platform/cpu_feature_guard.cc:182] This TensorFlow binary is optimized to use available CPU instructions in performance-critical operations.\n",
      "To enable the following instructions: AVX2 FMA, in other operations, rebuild TensorFlow with the appropriate compiler flags.\n",
      "2023-05-26 10:31:53.161674: W tensorflow/compiler/tf2tensorrt/utils/py_utils.cc:38] TF-TRT Warning: Could not find TensorRT\n",
      "/home/clewis7/repos/animal-soup/animal_soup/batch_utils.py:87: UserWarning: registration of accessor <class 'animal_soup.batch_utils.PathsDataFrameExtension'> under name 'paths' for type <class 'pandas.core.frame.DataFrame'> is overriding a preexisting attribute with the same name.\n",
      "  @pd.api.extensions.register_dataframe_accessor(\"paths\")\n",
      "/home/clewis7/repos/animal-soup/animal_soup/batch_utils.py:92: UserWarning: registration of accessor <class 'animal_soup.batch_utils.PathsSeriesExtension'> under name 'paths' for type <class 'pandas.core.series.Series'> is overriding a preexisting attribute with the same name.\n",
      "  @pd.api.extensions.register_series_accessor(\"paths\")\n"
     ]
    }
   ],
   "source": [
    "from animal_soup import *"
   ]
  },
  {
   "cell_type": "code",
   "execution_count": 2,
   "id": "cae1e4bb-2616-400e-8468-a0762931b8c5",
   "metadata": {
    "tags": []
   },
   "outputs": [],
   "source": [
    "training_data_path = set_parent_raw_data_path('/data/caitlin/training-vids/')\n",
    "df_path = '/data/caitlin/data-frames/data1.hdf'"
   ]
  },
  {
   "cell_type": "code",
   "execution_count": 3,
   "id": "0cb9668a-ff53-49be-8922-e845c92e53b0",
   "metadata": {
    "tags": []
   },
   "outputs": [
    {
     "data": {
      "text/html": [
       "<div>\n",
       "<style scoped>\n",
       "    .dataframe tbody tr th:only-of-type {\n",
       "        vertical-align: middle;\n",
       "    }\n",
       "\n",
       "    .dataframe tbody tr th {\n",
       "        vertical-align: top;\n",
       "    }\n",
       "\n",
       "    .dataframe thead th {\n",
       "        text-align: right;\n",
       "    }\n",
       "</style>\n",
       "<table border=\"1\" class=\"dataframe\">\n",
       "  <thead>\n",
       "    <tr style=\"text-align: right;\">\n",
       "      <th></th>\n",
       "      <th>animal_id</th>\n",
       "      <th>session_id</th>\n",
       "      <th>mat_file</th>\n",
       "      <th>session_vids</th>\n",
       "      <th>notes</th>\n",
       "    </tr>\n",
       "  </thead>\n",
       "  <tbody>\n",
       "    <tr>\n",
       "      <th>0</th>\n",
       "      <td>M235Slc17a7_Gtacr2</td>\n",
       "      <td>20170424</td>\n",
       "      <td>/data/caitlin/training-vids/M235Slc17a7_Gtacr2...</td>\n",
       "      <td>[/data/caitlin/training-vids/M235Slc17a7_Gtacr...</td>\n",
       "      <td>None</td>\n",
       "    </tr>\n",
       "    <tr>\n",
       "      <th>1</th>\n",
       "      <td>M235Slc17a7_Gtacr2</td>\n",
       "      <td>20170425</td>\n",
       "      <td>/data/caitlin/training-vids/M235Slc17a7_Gtacr2...</td>\n",
       "      <td>[/data/caitlin/training-vids/M235Slc17a7_Gtacr...</td>\n",
       "      <td>None</td>\n",
       "    </tr>\n",
       "    <tr>\n",
       "      <th>2</th>\n",
       "      <td>M236Slc17a7_Gtacr2</td>\n",
       "      <td>20170501</td>\n",
       "      <td>/data/caitlin/training-vids/M236Slc17a7_Gtacr2...</td>\n",
       "      <td>[/data/caitlin/training-vids/M236Slc17a7_Gtacr...</td>\n",
       "      <td>None</td>\n",
       "    </tr>\n",
       "    <tr>\n",
       "      <th>3</th>\n",
       "      <td>M236Slc17a7_Gtacr2</td>\n",
       "      <td>20170503</td>\n",
       "      <td>/data/caitlin/training-vids/M236Slc17a7_Gtacr2...</td>\n",
       "      <td>[/data/caitlin/training-vids/M236Slc17a7_Gtacr...</td>\n",
       "      <td>None</td>\n",
       "    </tr>\n",
       "    <tr>\n",
       "      <th>4</th>\n",
       "      <td>M238Slc17a7_Chr2</td>\n",
       "      <td>20170605</td>\n",
       "      <td>/data/caitlin/training-vids/M238Slc17a7_Chr2/2...</td>\n",
       "      <td>[/data/caitlin/training-vids/M238Slc17a7_Chr2/...</td>\n",
       "      <td>None</td>\n",
       "    </tr>\n",
       "    <tr>\n",
       "      <th>5</th>\n",
       "      <td>M238Slc17a7_Chr2</td>\n",
       "      <td>20170825</td>\n",
       "      <td>/data/caitlin/training-vids/M238Slc17a7_Chr2/2...</td>\n",
       "      <td>[/data/caitlin/training-vids/M238Slc17a7_Chr2/...</td>\n",
       "      <td>None</td>\n",
       "    </tr>\n",
       "    <tr>\n",
       "      <th>6</th>\n",
       "      <td>M239Slc17a7_Gtacr2</td>\n",
       "      <td>20170623</td>\n",
       "      <td>/data/caitlin/training-vids/M239Slc17a7_Gtacr2...</td>\n",
       "      <td>[/data/caitlin/training-vids/M239Slc17a7_Gtacr...</td>\n",
       "      <td>None</td>\n",
       "    </tr>\n",
       "    <tr>\n",
       "      <th>7</th>\n",
       "      <td>M239Slc17a7_Gtacr2</td>\n",
       "      <td>20170902</td>\n",
       "      <td>/data/caitlin/training-vids/M239Slc17a7_Gtacr2...</td>\n",
       "      <td>[/data/caitlin/training-vids/M239Slc17a7_Gtacr...</td>\n",
       "      <td>None</td>\n",
       "    </tr>\n",
       "    <tr>\n",
       "      <th>8</th>\n",
       "      <td>M242Slc17a7_Chr2BPN_DCN</td>\n",
       "      <td>20170911</td>\n",
       "      <td>/data/caitlin/training-vids/M242Slc17a7_Chr2BP...</td>\n",
       "      <td>[/data/caitlin/training-vids/M242Slc17a7_Chr2B...</td>\n",
       "      <td>None</td>\n",
       "    </tr>\n",
       "    <tr>\n",
       "      <th>9</th>\n",
       "      <td>M242Slc17a7_Chr2BPN_DCN</td>\n",
       "      <td>20170912</td>\n",
       "      <td>/data/caitlin/training-vids/M242Slc17a7_Chr2BP...</td>\n",
       "      <td>[/data/caitlin/training-vids/M242Slc17a7_Chr2B...</td>\n",
       "      <td>None</td>\n",
       "    </tr>\n",
       "    <tr>\n",
       "      <th>10</th>\n",
       "      <td>M243Slc17a7_Chr2BPN_DCN</td>\n",
       "      <td>20170823</td>\n",
       "      <td>/data/caitlin/training-vids/M243Slc17a7_Chr2BP...</td>\n",
       "      <td>[/data/caitlin/training-vids/M243Slc17a7_Chr2B...</td>\n",
       "      <td>None</td>\n",
       "    </tr>\n",
       "    <tr>\n",
       "      <th>11</th>\n",
       "      <td>M243Slc17a7_Chr2BPN_DCN</td>\n",
       "      <td>20170824</td>\n",
       "      <td>/data/caitlin/training-vids/M243Slc17a7_Chr2BP...</td>\n",
       "      <td>[/data/caitlin/training-vids/M243Slc17a7_Chr2B...</td>\n",
       "      <td>None</td>\n",
       "    </tr>\n",
       "  </tbody>\n",
       "</table>\n",
       "</div>"
      ],
      "text/plain": [
       "                  animal_id session_id   \n",
       "0        M235Slc17a7_Gtacr2   20170424  \\\n",
       "1        M235Slc17a7_Gtacr2   20170425   \n",
       "2        M236Slc17a7_Gtacr2   20170501   \n",
       "3        M236Slc17a7_Gtacr2   20170503   \n",
       "4          M238Slc17a7_Chr2   20170605   \n",
       "5          M238Slc17a7_Chr2   20170825   \n",
       "6        M239Slc17a7_Gtacr2   20170623   \n",
       "7        M239Slc17a7_Gtacr2   20170902   \n",
       "8   M242Slc17a7_Chr2BPN_DCN   20170911   \n",
       "9   M242Slc17a7_Chr2BPN_DCN   20170912   \n",
       "10  M243Slc17a7_Chr2BPN_DCN   20170823   \n",
       "11  M243Slc17a7_Chr2BPN_DCN   20170824   \n",
       "\n",
       "                                             mat_file   \n",
       "0   /data/caitlin/training-vids/M235Slc17a7_Gtacr2...  \\\n",
       "1   /data/caitlin/training-vids/M235Slc17a7_Gtacr2...   \n",
       "2   /data/caitlin/training-vids/M236Slc17a7_Gtacr2...   \n",
       "3   /data/caitlin/training-vids/M236Slc17a7_Gtacr2...   \n",
       "4   /data/caitlin/training-vids/M238Slc17a7_Chr2/2...   \n",
       "5   /data/caitlin/training-vids/M238Slc17a7_Chr2/2...   \n",
       "6   /data/caitlin/training-vids/M239Slc17a7_Gtacr2...   \n",
       "7   /data/caitlin/training-vids/M239Slc17a7_Gtacr2...   \n",
       "8   /data/caitlin/training-vids/M242Slc17a7_Chr2BP...   \n",
       "9   /data/caitlin/training-vids/M242Slc17a7_Chr2BP...   \n",
       "10  /data/caitlin/training-vids/M243Slc17a7_Chr2BP...   \n",
       "11  /data/caitlin/training-vids/M243Slc17a7_Chr2BP...   \n",
       "\n",
       "                                         session_vids notes  \n",
       "0   [/data/caitlin/training-vids/M235Slc17a7_Gtacr...  None  \n",
       "1   [/data/caitlin/training-vids/M235Slc17a7_Gtacr...  None  \n",
       "2   [/data/caitlin/training-vids/M236Slc17a7_Gtacr...  None  \n",
       "3   [/data/caitlin/training-vids/M236Slc17a7_Gtacr...  None  \n",
       "4   [/data/caitlin/training-vids/M238Slc17a7_Chr2/...  None  \n",
       "5   [/data/caitlin/training-vids/M238Slc17a7_Chr2/...  None  \n",
       "6   [/data/caitlin/training-vids/M239Slc17a7_Gtacr...  None  \n",
       "7   [/data/caitlin/training-vids/M239Slc17a7_Gtacr...  None  \n",
       "8   [/data/caitlin/training-vids/M242Slc17a7_Chr2B...  None  \n",
       "9   [/data/caitlin/training-vids/M242Slc17a7_Chr2B...  None  \n",
       "10  [/data/caitlin/training-vids/M243Slc17a7_Chr2B...  None  \n",
       "11  [/data/caitlin/training-vids/M243Slc17a7_Chr2B...  None  "
      ]
     },
     "execution_count": 3,
     "metadata": {},
     "output_type": "execute_result"
    }
   ],
   "source": [
    "df = load_df(df_path)\n",
    "df"
   ]
  },
  {
   "cell_type": "code",
   "execution_count": 4,
   "id": "3f2687bb-d623-42b4-836e-638015f46f3b",
   "metadata": {
    "tags": []
   },
   "outputs": [
    {
     "name": "stderr",
     "output_type": "stream",
     "text": [
      "/home/clewis7/venvs/mescore/lib/python3.11/site-packages/ipydatagrid/datagrid.py:445: UserWarning: Index name of 'index' is not round-trippable.\n",
      "  schema = pd.io.json.build_table_schema(dataframe)\n"
     ]
    },
    {
     "data": {
      "application/vnd.jupyter.widget-view+json": {
       "model_id": "56d0144f6a18466cb06d8c341a5c70de",
       "version_major": 2,
       "version_minor": 0
      },
      "text/plain": [
       "RFBOutputContext()"
      ]
     },
     "metadata": {},
     "output_type": "display_data"
    },
    {
     "name": "stderr",
     "output_type": "stream",
     "text": [
      "/home/clewis7/repos/mesmerize-core/mesmerize_core/arrays/_video.py:87: UserWarning: min not implemented for LazyTiff, returning min of 0th index\n",
      "  warn(\"min not implemented for LazyTiff, returning min of 0th index\")\n",
      "/home/clewis7/repos/mesmerize-core/mesmerize_core/arrays/_video.py:92: UserWarning: max not implemented for LazyTiff, returning min of 0th index\n",
      "  warn(\"max not implemented for LazyTiff, returning min of 0th index\")\n"
     ]
    },
    {
     "data": {
      "application/vnd.jupyter.widget-view+json": {
       "model_id": "5cc0ce5d271446c4b96c6f41e93cc17f",
       "version_major": 2,
       "version_minor": 0
      },
      "text/plain": [
       "RFBOutputContext()"
      ]
     },
     "metadata": {},
     "output_type": "display_data"
    },
    {
     "name": "stdout",
     "output_type": "stream",
     "text": [
      "0\n"
     ]
    },
    {
     "data": {
      "application/vnd.jupyter.widget-view+json": {
       "model_id": "99b4c3d0a32041d4b00b701e707d3290",
       "version_major": 2,
       "version_minor": 0
      },
      "text/plain": [
       "VBox(children=(DataGrid(auto_fit_params={'area': 'all', 'padding': 30, 'numCols': None}, base_row_size=24, col…"
      ]
     },
     "execution_count": 4,
     "metadata": {},
     "output_type": "execute_result"
    }
   ],
   "source": [
    "df.behavior.view().show()"
   ]
  },
  {
   "cell_type": "code",
   "execution_count": null,
   "id": "bd69518c-2cfe-4a72-be67-c8ee8ce6d805",
   "metadata": {},
   "outputs": [],
   "source": []
  }
 ],
 "metadata": {
  "kernelspec": {
   "display_name": "Python 3 (ipykernel)",
   "language": "python",
   "name": "python3"
  },
  "language_info": {
   "codemirror_mode": {
    "name": "ipython",
    "version": 3
   },
   "file_extension": ".py",
   "mimetype": "text/x-python",
   "name": "python",
   "nbconvert_exporter": "python",
   "pygments_lexer": "ipython3",
   "version": "3.11.3"
  }
 },
 "nbformat": 4,
 "nbformat_minor": 5
}
