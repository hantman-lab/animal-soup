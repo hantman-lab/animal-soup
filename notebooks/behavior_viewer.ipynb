{
 "cells": [
  {
   "cell_type": "code",
   "execution_count": 1,
   "id": "889387da-d935-4cef-83b6-3dcbc9595ab7",
   "metadata": {
    "tags": []
   },
   "outputs": [
    {
     "name": "stderr",
     "output_type": "stream",
     "text": [
      "2023-05-25 17:33:49.459741: I tensorflow/core/platform/cpu_feature_guard.cc:182] This TensorFlow binary is optimized to use available CPU instructions in performance-critical operations.\n",
      "To enable the following instructions: AVX2 FMA, in other operations, rebuild TensorFlow with the appropriate compiler flags.\n",
      "2023-05-25 17:33:49.911336: W tensorflow/compiler/tf2tensorrt/utils/py_utils.cc:38] TF-TRT Warning: Could not find TensorRT\n"
     ]
    }
   ],
   "source": [
    "from animal_soup import BehaviorVizContainer\n",
    "from pathlib import Path\n",
    "import pandas as pd\n",
    "import numpy as np"
   ]
  },
  {
   "cell_type": "code",
   "execution_count": 2,
   "id": "0cf4e174-e131-4510-a9c1-c1b11dd652d9",
   "metadata": {
    "tags": []
   },
   "outputs": [],
   "source": [
    "training_data_path = Path('/data/caitlin/training-vids/')\n",
    "df_dir_path = Path('/data/caitlin/data-frames/')"
   ]
  },
  {
   "cell_type": "code",
   "execution_count": 3,
   "id": "3fbe8dfb-0179-4079-99fd-9551e61e102e",
   "metadata": {
    "tags": []
   },
   "outputs": [],
   "source": [
    "def save_df(df, df_dir_path):\n",
    "    df.to_hdf(f'{df_dir_path}/{datetime.now().isoformat()}', key='df')\n",
    "def load_df(df_dir_path):\n",
    "    return pd.read_hdf(sorted(df_dir_path.glob('*'))[-1])"
   ]
  },
  {
   "cell_type": "code",
   "execution_count": 4,
   "id": "8a7ea23b-b286-4ced-8451-bd8815fd24b1",
   "metadata": {
    "tags": []
   },
   "outputs": [],
   "source": [
    "df = load_df(df_dir_path)"
   ]
  },
  {
   "cell_type": "code",
   "execution_count": 5,
   "id": "16d2b609-874e-426f-9a67-49b67c008c38",
   "metadata": {
    "tags": []
   },
   "outputs": [
    {
     "name": "stderr",
     "output_type": "stream",
     "text": [
      "/home/clewis7/venvs/mescore/lib/python3.11/site-packages/ipydatagrid/datagrid.py:445: UserWarning: Index name of 'index' is not round-trippable.\n",
      "  schema = pd.io.json.build_table_schema(dataframe)\n"
     ]
    },
    {
     "data": {
      "application/vnd.jupyter.widget-view+json": {
       "model_id": "6f43a9a431f94af89c1721a7eee848d6",
       "version_major": 2,
       "version_minor": 0
      },
      "text/plain": [
       "RFBOutputContext()"
      ]
     },
     "metadata": {},
     "output_type": "display_data"
    },
    {
     "name": "stderr",
     "output_type": "stream",
     "text": [
      "/home/clewis7/repos/mesmerize-core/mesmerize_core/arrays/_video.py:87: UserWarning: min not implemented for LazyTiff, returning min of 0th index\n",
      "  warn(\"min not implemented for LazyTiff, returning min of 0th index\")\n",
      "/home/clewis7/repos/mesmerize-core/mesmerize_core/arrays/_video.py:92: UserWarning: max not implemented for LazyTiff, returning min of 0th index\n",
      "  warn(\"max not implemented for LazyTiff, returning min of 0th index\")\n"
     ]
    },
    {
     "data": {
      "application/vnd.jupyter.widget-view+json": {
       "model_id": "131e0407ae5d453db2f4dd32d94b312a",
       "version_major": 2,
       "version_minor": 0
      },
      "text/plain": [
       "RFBOutputContext()"
      ]
     },
     "metadata": {},
     "output_type": "display_data"
    },
    {
     "name": "stdout",
     "output_type": "stream",
     "text": [
      "0\n"
     ]
    }
   ],
   "source": [
    "viewer = BehaviorVizContainer(dataframe=df, local_parent_path=training_data_path)"
   ]
  },
  {
   "cell_type": "code",
   "execution_count": 6,
   "id": "9bbf56bf-5bb6-4f10-a3c7-969db23cbac2",
   "metadata": {
    "tags": []
   },
   "outputs": [
    {
     "data": {
      "application/vnd.jupyter.widget-view+json": {
       "model_id": "e5b888e975a34e93b39669f7cfa2d47d",
       "version_major": 2,
       "version_minor": 0
      },
      "text/plain": [
       "VBox(children=(DataGrid(auto_fit_params={'area': 'all', 'padding': 30, 'numCols': None}, base_row_size=24, col…"
      ]
     },
     "execution_count": 6,
     "metadata": {},
     "output_type": "execute_result"
    }
   ],
   "source": [
    "viewer.show()"
   ]
  },
  {
   "cell_type": "code",
   "execution_count": 13,
   "id": "8e4dc9ef-4fba-42b4-8d9f-cbb53b13a968",
   "metadata": {
    "tags": []
   },
   "outputs": [],
   "source": [
    "good_vids_df = pd.DataFrame(columns=[\"animal_id\", \"session_id\", \"mat_file\", \"session_vids\", \"notes\"])"
   ]
  },
  {
   "cell_type": "code",
   "execution_count": 14,
   "id": "ff3576e9-6c7a-40dd-b861-654299037f31",
   "metadata": {
    "tags": []
   },
   "outputs": [],
   "source": [
    "good_vids_df.loc[len(df.index)] = viewer._dataframe.iloc[viewer.current_row]"
   ]
  },
  {
   "cell_type": "code",
   "execution_count": 15,
   "id": "fff02e95-6b35-4659-a621-48b172990575",
   "metadata": {
    "tags": []
   },
   "outputs": [
    {
     "data": {
      "text/html": [
       "<div>\n",
       "<style scoped>\n",
       "    .dataframe tbody tr th:only-of-type {\n",
       "        vertical-align: middle;\n",
       "    }\n",
       "\n",
       "    .dataframe tbody tr th {\n",
       "        vertical-align: top;\n",
       "    }\n",
       "\n",
       "    .dataframe thead th {\n",
       "        text-align: right;\n",
       "    }\n",
       "</style>\n",
       "<table border=\"1\" class=\"dataframe\">\n",
       "  <thead>\n",
       "    <tr style=\"text-align: right;\">\n",
       "      <th></th>\n",
       "      <th>animal_id</th>\n",
       "      <th>session_id</th>\n",
       "      <th>mat_file</th>\n",
       "      <th>session_vids</th>\n",
       "      <th>notes</th>\n",
       "    </tr>\n",
       "  </thead>\n",
       "  <tbody>\n",
       "    <tr>\n",
       "      <th>12</th>\n",
       "      <td>M235Slc17a7_Gtacr2</td>\n",
       "      <td>20170425</td>\n",
       "      <td>/data/caitlin/training-vids/M235Slc17a7_Gtacr2...</td>\n",
       "      <td>[/data/caitlin/training-vids/M235Slc17a7_Gtacr...</td>\n",
       "      <td>None</td>\n",
       "    </tr>\n",
       "  </tbody>\n",
       "</table>\n",
       "</div>"
      ],
      "text/plain": [
       "             animal_id session_id   \n",
       "12  M235Slc17a7_Gtacr2   20170425  \\\n",
       "\n",
       "                                             mat_file   \n",
       "12  /data/caitlin/training-vids/M235Slc17a7_Gtacr2...  \\\n",
       "\n",
       "                                         session_vids notes  \n",
       "12  [/data/caitlin/training-vids/M235Slc17a7_Gtacr...  None  "
      ]
     },
     "execution_count": 15,
     "metadata": {},
     "output_type": "execute_result"
    }
   ],
   "source": [
    "good_vids_df"
   ]
  },
  {
   "cell_type": "code",
   "execution_count": null,
   "id": "bd69518c-2cfe-4a72-be67-c8ee8ce6d805",
   "metadata": {},
   "outputs": [],
   "source": []
  }
 ],
 "metadata": {
  "kernelspec": {
   "display_name": "Python 3 (ipykernel)",
   "language": "python",
   "name": "python3"
  },
  "language_info": {
   "codemirror_mode": {
    "name": "ipython",
    "version": 3
   },
   "file_extension": ".py",
   "mimetype": "text/x-python",
   "name": "python",
   "nbconvert_exporter": "python",
   "pygments_lexer": "ipython3",
   "version": "3.11.3"
  }
 },
 "nbformat": 4,
 "nbformat_minor": 5
}
