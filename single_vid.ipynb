{
 "cells": [
  {
   "cell_type": "code",
   "execution_count": 1,
   "id": "71df8bd1-067f-4223-aa25-d52494f1ed78",
   "metadata": {},
   "outputs": [],
   "source": [
    "from scipy.io import loadmat, whosmat\n",
    "from typing import *\n",
    "from copy import deepcopy\n",
    "from functools import lru_cache\n",
    "import numpy as np"
   ]
  },
  {
   "cell_type": "code",
   "execution_count": 2,
   "id": "0a016ddb-2ad2-4f2c-9088-ed4ffe597852",
   "metadata": {},
   "outputs": [],
   "source": [
    "from fastplotlib import ImageWidget"
   ]
  },
  {
   "cell_type": "code",
   "execution_count": 3,
   "id": "6938a65d-6f8e-482f-bb10-317742e7ed2e",
   "metadata": {},
   "outputs": [],
   "source": [
    "mat_path = '/home/clewis7/wasabi/hantmanlab/from_tier2/Jay/videos/M234Slc17a7_Gtacr2/postprocessed/M234_20170404.mat'"
   ]
  },
  {
   "cell_type": "code",
   "execution_count": 4,
   "id": "9fcb328b-2048-483a-aa8a-4d7bf1e9dc10",
   "metadata": {},
   "outputs": [],
   "source": [
    "@lru_cache\n",
    "def get_ethogram(trial_index: int):\n",
    "    m = loadmat(mat_path)\n",
    "    behaviors = sorted([b.split('_')[0] for b in m['data'].dtype.names if 'scores' in b])\n",
    "\n",
    "    all_behaviors = [\n",
    "        \"Lift\",\n",
    "        \"Handopen\",\n",
    "        \"Grab\",\n",
    "        \"Sup\",\n",
    "        \"Atmouth\",\n",
    "        \"Chew\"\n",
    "    ]\n",
    "\n",
    "    sorted_behaviors = [b for b in all_behaviors if b in behaviors]\n",
    "\n",
    "    ethograms = []\n",
    "\n",
    "    mat_trial_index = np.argwhere(m[\"data\"][\"trial\"].ravel() == (trial_index + 1))\n",
    "    # Trial not found in JAABA data\n",
    "    if mat_trial_index.size == 0:\n",
    "        return False\n",
    "\n",
    "    print(mat_trial_index.shape)\n",
    "    mat_trial_index = mat_trial_index.item()\n",
    "\n",
    "    for b in sorted_behaviors:\n",
    "        behavior_index = m['data'].dtype.names.index(f'{b}_postprocessed')\n",
    "        ethograms.append(m['data'][mat_trial_index][0][behavior_index])\n",
    "\n",
    "    sorted_behaviors = [b.lower() for b in sorted_behaviors]\n",
    "\n",
    "    return np.hstack(ethograms).T, sorted_behaviors"
   ]
  },
  {
   "cell_type": "code",
   "execution_count": 5,
   "id": "7a40fae1-9605-4ab2-b43a-cd46cd9ace49",
   "metadata": {},
   "outputs": [
    {
     "name": "stdout",
     "output_type": "stream",
     "text": [
      "(1, 1)\n"
     ]
    },
    {
     "data": {
      "text/plain": [
       "(array([[0, 0, 0, ..., 0, 0, 0],\n",
       "        [0, 0, 0, ..., 0, 0, 0],\n",
       "        [0, 0, 0, ..., 0, 0, 0],\n",
       "        [0, 0, 0, ..., 0, 0, 0],\n",
       "        [0, 0, 0, ..., 0, 0, 0],\n",
       "        [0, 0, 0, ..., 0, 0, 0]], dtype=uint8),\n",
       " ['lift', 'handopen', 'grab', 'sup', 'atmouth', 'chew'])"
      ]
     },
     "execution_count": 5,
     "metadata": {},
     "output_type": "execute_result"
    }
   ],
   "source": [
    "get_ethogram(trial_index=1)"
   ]
  },
  {
   "cell_type": "code",
   "execution_count": 6,
   "id": "da6b2b60-3fac-4cf2-af9c-cb210a72f4a1",
   "metadata": {},
   "outputs": [
    {
     "name": "stdout",
     "output_type": "stream",
     "text": [
      "(1, 1)\n",
      "(1, 1)\n"
     ]
    },
    {
     "data": {
      "text/plain": [
       "<Axes: >"
      ]
     },
     "execution_count": 6,
     "metadata": {},
     "output_type": "execute_result"
    },
    {
     "data": {
      "image/png": "[encoded data removed]",
      "text/plain": [
       "<Figure size 640x480 with 2 Axes>"
      ]
     },
     "metadata": {},
     "output_type": "display_data"
    }
   ],
   "source": [
    "import seaborn as sns\n",
    "sns.heatmap(get_ethogram(10)[0], yticklabels=get_ethogram(1)[1])"
   ]
  },
  {
   "cell_type": "code",
   "execution_count": 11,
   "id": "ab9df410-b5c2-4239-aa6c-b0e99040a5fb",
   "metadata": {},
   "outputs": [],
   "source": [
    "movie_path = '/home/clewis7/Desktop/movie_comb.avi'"
   ]
  },
  {
   "cell_type": "code",
   "execution_count": 12,
   "id": "cc763b90-2dc0-4d10-8497-7d189782d97d",
   "metadata": {},
   "outputs": [],
   "source": [
    "from mesmerize_core.arrays import LazyVideo"
   ]
  },
  {
   "cell_type": "code",
   "execution_count": 13,
   "id": "d6b3fafe-163d-4676-b80a-28e5ed9b23ba",
   "metadata": {},
   "outputs": [],
   "source": [
    "from fastplotlib import ImageWidget"
   ]
  },
  {
   "cell_type": "code",
   "execution_count": 14,
   "id": "a46b8387-a15c-4d16-9651-845e0696da5d",
   "metadata": {},
   "outputs": [],
   "source": [
    "data = LazyVideo(path=movie_path, as_grayscale=True)"
   ]
  },
  {
   "cell_type": "code",
   "execution_count": 15,
   "id": "08820734-e8a1-4966-91f4-6f87ca75ea2c",
   "metadata": {},
   "outputs": [
    {
     "data": {
      "text/plain": [
       "(1998, 260, 768)"
      ]
     },
     "execution_count": 15,
     "metadata": {},
     "output_type": "execute_result"
    }
   ],
   "source": [
    "data.shape"
   ]
  },
  {
   "cell_type": "code",
   "execution_count": 16,
   "id": "03c84f8e-f5d4-4937-a212-bd6dab4156bc",
   "metadata": {},
   "outputs": [
    {
     "data": {
      "application/vnd.jupyter.widget-view+json": {
       "model_id": "901430967b364e1b8975df87cd31f43e",
       "version_major": 2,
       "version_minor": 0
      },
      "text/plain": [
       "RFBOutputContext()"
      ]
     },
     "metadata": {},
     "output_type": "display_data"
    },
    {
     "name": "stderr",
     "output_type": "stream",
     "text": [
      "/home/clewis7/repos/mesmerize-core/mesmerize_core/arrays/_video.py:87: UserWarning: min not implemented for LazyTiff, returning min of 0th index\n",
      "  warn(\"min not implemented for LazyTiff, returning min of 0th index\")\n",
      "/home/clewis7/repos/mesmerize-core/mesmerize_core/arrays/_video.py:92: UserWarning: max not implemented for LazyTiff, returning min of 0th index\n",
      "  warn(\"max not implemented for LazyTiff, returning min of 0th index\")\n",
      "/home/clewis7/repos/fastplotlib/fastplotlib/graphics/features/_base.py:34: UserWarning: converting float64 array to float32\n",
      "  warn(f\"converting {array.dtype} array to float32\")\n"
     ]
    }
   ],
   "source": [
    "iw = ImageWidget(data=data,\n",
    "                dims_order='txy',\n",
    "                slider_dims='t' )"
   ]
  },
  {
   "cell_type": "code",
   "execution_count": 17,
   "id": "d062b725-5fcd-4f94-a1f7-bcac87406e17",
   "metadata": {},
   "outputs": [
    {
     "data": {
      "application/vnd.jupyter.widget-view+json": {
       "model_id": "b3535b26ea504e7ab45a8bbcc8707e56",
       "version_major": 2,
       "version_minor": 0
      },
      "text/plain": [
       "VBox(children=(JupyterWgpuCanvas(), IntSlider(value=0, description='dimension: t', max=1997)))"
      ]
     },
     "execution_count": 17,
     "metadata": {},
     "output_type": "execute_result"
    }
   ],
   "source": [
    "iw.show()"
   ]
  },
  {
   "cell_type": "code",
   "execution_count": 18,
   "id": "acf6e76b-51b1-4702-b2bb-96b7681d91af",
   "metadata": {},
   "outputs": [],
   "source": [
    "iw.plot.camera.scale.y = -1"
   ]
  },
  {
   "cell_type": "code",
   "execution_count": null,
   "id": "b8b87b6e-097b-4972-b207-440b302d6885",
   "metadata": {},
   "outputs": [],
   "source": []
  }
 ],
 "metadata": {
  "kernelspec": {
   "display_name": "Python 3 (ipykernel)",
   "language": "python",
   "name": "python3"
  },
  "language_info": {
   "codemirror_mode": {
    "name": "ipython",
    "version": 3
   },
   "file_extension": ".py",
   "mimetype": "text/x-python",
   "name": "python",
   "nbconvert_exporter": "python",
   "pygments_lexer": "ipython3",
   "version": "3.11.3"
  }
 },
 "nbformat": 4,
 "nbformat_minor": 5
}
